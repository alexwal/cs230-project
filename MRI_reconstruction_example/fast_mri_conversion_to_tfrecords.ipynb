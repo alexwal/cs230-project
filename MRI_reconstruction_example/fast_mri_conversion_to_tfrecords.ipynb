{
 "cells": [
  {
   "cell_type": "markdown",
   "metadata": {},
   "source": [
    "# fastMRI\n",
    "Python 3.6+, Tensorflow 2.0.0-dev20190601"
   ]
  },
  {
   "cell_type": "code",
   "execution_count": 2,
   "metadata": {},
   "outputs": [],
   "source": [
    "%load_ext autoreload\n",
    "%autoreload 2"
   ]
  },
  {
   "cell_type": "code",
   "execution_count": 3,
   "metadata": {},
   "outputs": [],
   "source": [
    "import os, glob\n",
    "import h5py # for loading .h5 files\n",
    "import numpy as np\n",
    "import matplotlib.pyplot as plt\n",
    "%matplotlib inline"
   ]
  },
  {
   "cell_type": "code",
   "execution_count": 4,
   "metadata": {},
   "outputs": [],
   "source": [
    "plt.style.use('seaborn') # pretty matplotlib plots\n",
    "plt.rcParams[\"axes.grid\"] = False # don't show grid lines on plots by default\n",
    "plt.rcParams['figure.figsize'] = (12, 16) # increase size of subplots"
   ]
  },
  {
   "cell_type": "code",
   "execution_count": 5,
   "metadata": {},
   "outputs": [],
   "source": [
    "import cs230_project_utilities as utils"
   ]
  },
  {
   "cell_type": "code",
   "execution_count": 6,
   "metadata": {},
   "outputs": [],
   "source": [
    "# Sync data:\n",
    "# aws s3 sync s3://cs230-automap/data/fastmri/raw/singlecoil_val data/fastmri/raw/singlecoil_dev # (val -> dev) \n",
    "# aws s3 sync s3://cs230-automap/data/fastmri/raw/singlecoil_test data/fastmri/raw/singlecoil_test\n",
    "# aws s3 sync s3://cs230-automap/data/fastmri/raw/singlecoil_train data/fastmri/raw/singlecoil_train"
   ]
  },
  {
   "cell_type": "code",
   "execution_count": 7,
   "metadata": {},
   "outputs": [],
   "source": [
    "# Prepare local directories\n",
    "\n",
    "raw_dev_locations = '/home/ubuntu/cs230/data/fastmri/raw/singlecoil_dev/*.h5'\n",
    "raw_test_locations = '/home/ubuntu/cs230/data/fastmri/raw/singlecoil_test/*.h5'\n",
    "raw_train_locations = '/home/ubuntu/cs230/data/fastmri/raw/singlecoil_train/*.h5'\n",
    "\n",
    "dev_tfrecord_directory = '/home/ubuntu/cs230/data/fastmri/tfrecords/singlecoil_dev'\n",
    "test_tfrecord_directory = '/home/ubuntu/cs230/data/fastmri/tfrecords/singlecoil_test'\n",
    "train_tfrecord_directory = '/home/ubuntu/cs230/data/fastmri/tfrecords/singlecoil_train'\n",
    "\n",
    "!mkdir -p $dev_tfrecord_directory\n",
    "!mkdir -p $test_tfrecord_directory\n",
    "!mkdir -p $train_tfrecord_directory"
   ]
  },
  {
   "cell_type": "code",
   "execution_count": null,
   "metadata": {
    "scrolled": false
   },
   "outputs": [
    {
     "name": "stdout",
     "output_type": "stream",
     "text": [
      "Converting file 0 at b'/home/ubuntu/cs230/data/fastmri/raw/singlecoil_dev/file1001984.h5' to TFRecords...\n",
      "Converting file 1 at b'/home/ubuntu/cs230/data/fastmri/raw/singlecoil_dev/file1000323.h5' to TFRecords...\n",
      "Converting file 2 at b'/home/ubuntu/cs230/data/fastmri/raw/singlecoil_dev/file1000283.h5' to TFRecords...\n",
      "Converting file 3 at b'/home/ubuntu/cs230/data/fastmri/raw/singlecoil_dev/file1001759.h5' to TFRecords...\n",
      "Converting file 4 at b'/home/ubuntu/cs230/data/fastmri/raw/singlecoil_dev/file1000976.h5' to TFRecords...\n",
      "Converting file 5 at b'/home/ubuntu/cs230/data/fastmri/raw/singlecoil_dev/file1000926.h5' to TFRecords...\n",
      "Converting file 6 at b'/home/ubuntu/cs230/data/fastmri/raw/singlecoil_dev/file1000831.h5' to TFRecords...\n",
      "Converting file 7 at b'/home/ubuntu/cs230/data/fastmri/raw/singlecoil_dev/file1001429.h5' to TFRecords...\n",
      "Converting file 8 at b'/home/ubuntu/cs230/data/fastmri/raw/singlecoil_dev/file1000647.h5' to TFRecords...\n",
      "Converting file 9 at b'/home/ubuntu/cs230/data/fastmri/raw/singlecoil_dev/file1000182.h5' to TFRecords...\n",
      "Converting file 10 at b'/home/ubuntu/cs230/data/fastmri/raw/singlecoil_dev/file1000925.h5' to TFRecords...\n",
      "Converting file 11 at b'/home/ubuntu/cs230/data/fastmri/raw/singlecoil_dev/file1000842.h5' to TFRecords...\n",
      "Converting file 12 at b'/home/ubuntu/cs230/data/fastmri/raw/singlecoil_dev/file1000263.h5' to TFRecords...\n",
      "Converting file 13 at b'/home/ubuntu/cs230/data/fastmri/raw/singlecoil_dev/file1002257.h5' to TFRecords...\n",
      "Converting file 14 at b'/home/ubuntu/cs230/data/fastmri/raw/singlecoil_dev/file1000480.h5' to TFRecords...\n",
      "Converting file 15 at b'/home/ubuntu/cs230/data/fastmri/raw/singlecoil_dev/file1000344.h5' to TFRecords...\n",
      "Converting file 16 at b'/home/ubuntu/cs230/data/fastmri/raw/singlecoil_dev/file1001651.h5' to TFRecords...\n",
      "Converting file 17 at b'/home/ubuntu/cs230/data/fastmri/raw/singlecoil_dev/file1002412.h5' to TFRecords...\n",
      "Converting file 18 at b'/home/ubuntu/cs230/data/fastmri/raw/singlecoil_dev/file1001298.h5' to TFRecords...\n",
      "Converting file 19 at b'/home/ubuntu/cs230/data/fastmri/raw/singlecoil_dev/file1001959.h5' to TFRecords...\n",
      "Converting file 20 at b'/home/ubuntu/cs230/data/fastmri/raw/singlecoil_dev/file1000292.h5' to TFRecords...\n",
      "Converting file 21 at b'/home/ubuntu/cs230/data/fastmri/raw/singlecoil_dev/file1001122.h5' to TFRecords...\n",
      "Converting file 22 at b'/home/ubuntu/cs230/data/fastmri/raw/singlecoil_dev/file1001655.h5' to TFRecords...\n",
      "Converting file 23 at b'/home/ubuntu/cs230/data/fastmri/raw/singlecoil_dev/file1002417.h5' to TFRecords...\n",
      "Converting file 24 at b'/home/ubuntu/cs230/data/fastmri/raw/singlecoil_dev/file1001090.h5' to TFRecords...\n",
      "Converting file 25 at b'/home/ubuntu/cs230/data/fastmri/raw/singlecoil_dev/file1000153.h5' to TFRecords...\n",
      "Converting file 26 at b'/home/ubuntu/cs230/data/fastmri/raw/singlecoil_dev/file1001798.h5' to TFRecords...\n",
      "Converting file 27 at b'/home/ubuntu/cs230/data/fastmri/raw/singlecoil_dev/file1000291.h5' to TFRecords...\n",
      "Converting file 28 at b'/home/ubuntu/cs230/data/fastmri/raw/singlecoil_dev/file1000267.h5' to TFRecords...\n",
      "Converting file 29 at b'/home/ubuntu/cs230/data/fastmri/raw/singlecoil_dev/file1000108.h5' to TFRecords...\n",
      "Converting file 30 at b'/home/ubuntu/cs230/data/fastmri/raw/singlecoil_dev/file1000264.h5' to TFRecords...\n",
      "Converting file 31 at b'/home/ubuntu/cs230/data/fastmri/raw/singlecoil_dev/file1001148.h5' to TFRecords...\n",
      "Converting file 32 at b'/home/ubuntu/cs230/data/fastmri/raw/singlecoil_dev/file1002280.h5' to TFRecords...\n",
      "Converting file 33 at b'/home/ubuntu/cs230/data/fastmri/raw/singlecoil_dev/file1002340.h5' to TFRecords...\n",
      "Converting file 34 at b'/home/ubuntu/cs230/data/fastmri/raw/singlecoil_dev/file1001188.h5' to TFRecords...\n",
      "Converting file 35 at b'/home/ubuntu/cs230/data/fastmri/raw/singlecoil_dev/file1001031.h5' to TFRecords...\n",
      "Converting file 36 at b'/home/ubuntu/cs230/data/fastmri/raw/singlecoil_dev/file1000000.h5' to TFRecords...\n",
      "Converting file 37 at b'/home/ubuntu/cs230/data/fastmri/raw/singlecoil_dev/file1000017.h5' to TFRecords...\n",
      "Converting file 38 at b'/home/ubuntu/cs230/data/fastmri/raw/singlecoil_dev/file1000496.h5' to TFRecords...\n",
      "Converting file 39 at b'/home/ubuntu/cs230/data/fastmri/raw/singlecoil_dev/file1000759.h5' to TFRecords...\n",
      "Converting file 40 at b'/home/ubuntu/cs230/data/fastmri/raw/singlecoil_dev/file1001163.h5' to TFRecords...\n",
      "Converting file 41 at b'/home/ubuntu/cs230/data/fastmri/raw/singlecoil_dev/file1001219.h5' to TFRecords...\n",
      "Converting file 42 at b'/home/ubuntu/cs230/data/fastmri/raw/singlecoil_dev/file1000903.h5' to TFRecords...\n",
      "Converting file 43 at b'/home/ubuntu/cs230/data/fastmri/raw/singlecoil_dev/file1001057.h5' to TFRecords...\n",
      "Converting file 44 at b'/home/ubuntu/cs230/data/fastmri/raw/singlecoil_dev/file1002214.h5' to TFRecords...\n",
      "Converting file 45 at b'/home/ubuntu/cs230/data/fastmri/raw/singlecoil_dev/file1000748.h5' to TFRecords...\n",
      "Converting file 46 at b'/home/ubuntu/cs230/data/fastmri/raw/singlecoil_dev/file1001104.h5' to TFRecords...\n",
      "Converting file 47 at b'/home/ubuntu/cs230/data/fastmri/raw/singlecoil_dev/file1001450.h5' to TFRecords...\n",
      "Converting file 48 at b'/home/ubuntu/cs230/data/fastmri/raw/singlecoil_dev/file1000555.h5' to TFRecords...\n",
      "Converting file 49 at b'/home/ubuntu/cs230/data/fastmri/raw/singlecoil_dev/file1002035.h5' to TFRecords...\n",
      "Converting file 50 at b'/home/ubuntu/cs230/data/fastmri/raw/singlecoil_dev/file1002007.h5' to TFRecords...\n",
      "Converting file 51 at b'/home/ubuntu/cs230/data/fastmri/raw/singlecoil_dev/file1000052.h5' to TFRecords...\n",
      "Converting file 52 at b'/home/ubuntu/cs230/data/fastmri/raw/singlecoil_dev/file1000007.h5' to TFRecords...\n",
      "Converting file 53 at b'/home/ubuntu/cs230/data/fastmri/raw/singlecoil_dev/file1000628.h5' to TFRecords...\n",
      "Converting file 54 at b'/home/ubuntu/cs230/data/fastmri/raw/singlecoil_dev/file1001184.h5' to TFRecords...\n",
      "Converting file 55 at b'/home/ubuntu/cs230/data/fastmri/raw/singlecoil_dev/file1001818.h5' to TFRecords...\n",
      "Converting file 56 at b'/home/ubuntu/cs230/data/fastmri/raw/singlecoil_dev/file1001703.h5' to TFRecords...\n",
      "Converting file 57 at b'/home/ubuntu/cs230/data/fastmri/raw/singlecoil_dev/file1000818.h5' to TFRecords...\n",
      "Converting file 58 at b'/home/ubuntu/cs230/data/fastmri/raw/singlecoil_dev/file1002380.h5' to TFRecords...\n",
      "Converting file 59 at b'/home/ubuntu/cs230/data/fastmri/raw/singlecoil_dev/file1000350.h5' to TFRecords...\n",
      "Converting file 60 at b'/home/ubuntu/cs230/data/fastmri/raw/singlecoil_dev/file1000702.h5' to TFRecords...\n",
      "Converting file 61 at b'/home/ubuntu/cs230/data/fastmri/raw/singlecoil_dev/file1002159.h5' to TFRecords...\n",
      "Converting file 62 at b'/home/ubuntu/cs230/data/fastmri/raw/singlecoil_dev/file1001170.h5' to TFRecords...\n",
      "Converting file 63 at b'/home/ubuntu/cs230/data/fastmri/raw/singlecoil_dev/file1001668.h5' to TFRecords...\n",
      "Converting file 64 at b'/home/ubuntu/cs230/data/fastmri/raw/singlecoil_dev/file1001930.h5' to TFRecords...\n",
      "Converting file 65 at b'/home/ubuntu/cs230/data/fastmri/raw/singlecoil_dev/file1001997.h5' to TFRecords...\n",
      "Converting file 66 at b'/home/ubuntu/cs230/data/fastmri/raw/singlecoil_dev/file1001983.h5' to TFRecords...\n",
      "Converting file 67 at b'/home/ubuntu/cs230/data/fastmri/raw/singlecoil_dev/file1002002.h5' to TFRecords...\n",
      "Converting file 68 at b'/home/ubuntu/cs230/data/fastmri/raw/singlecoil_dev/file1001119.h5' to TFRecords...\n",
      "Converting file 69 at b'/home/ubuntu/cs230/data/fastmri/raw/singlecoil_dev/file1001557.h5' to TFRecords...\n",
      "Converting file 70 at b'/home/ubuntu/cs230/data/fastmri/raw/singlecoil_dev/file1001480.h5' to TFRecords...\n",
      "Converting file 71 at b'/home/ubuntu/cs230/data/fastmri/raw/singlecoil_dev/file1001144.h5' to TFRecords...\n",
      "Converting file 72 at b'/home/ubuntu/cs230/data/fastmri/raw/singlecoil_dev/file1001893.h5' to TFRecords...\n",
      "Converting file 73 at b'/home/ubuntu/cs230/data/fastmri/raw/singlecoil_dev/file1000107.h5' to TFRecords...\n",
      "Converting file 74 at b'/home/ubuntu/cs230/data/fastmri/raw/singlecoil_dev/file1001064.h5' to TFRecords...\n",
      "Converting file 75 at b'/home/ubuntu/cs230/data/fastmri/raw/singlecoil_dev/file1000858.h5' to TFRecords...\n",
      "Converting file 76 at b'/home/ubuntu/cs230/data/fastmri/raw/singlecoil_dev/file1001643.h5' to TFRecords...\n"
     ]
    },
    {
     "name": "stdout",
     "output_type": "stream",
     "text": [
      "Converting file 77 at b'/home/ubuntu/cs230/data/fastmri/raw/singlecoil_dev/file1000033.h5' to TFRecords...\n",
      "Converting file 78 at b'/home/ubuntu/cs230/data/fastmri/raw/singlecoil_dev/file1000810.h5' to TFRecords...\n",
      "Converting file 79 at b'/home/ubuntu/cs230/data/fastmri/raw/singlecoil_dev/file1000899.h5' to TFRecords...\n",
      "Converting file 80 at b'/home/ubuntu/cs230/data/fastmri/raw/singlecoil_dev/file1000942.h5' to TFRecords...\n",
      "Converting file 81 at b'/home/ubuntu/cs230/data/fastmri/raw/singlecoil_dev/file1001851.h5' to TFRecords...\n",
      "Converting file 82 at b'/home/ubuntu/cs230/data/fastmri/raw/singlecoil_dev/file1001440.h5' to TFRecords...\n",
      "Converting file 83 at b'/home/ubuntu/cs230/data/fastmri/raw/singlecoil_dev/file1000328.h5' to TFRecords...\n",
      "Converting file 84 at b'/home/ubuntu/cs230/data/fastmri/raw/singlecoil_dev/file1000201.h5' to TFRecords...\n",
      "Converting file 85 at b'/home/ubuntu/cs230/data/fastmri/raw/singlecoil_dev/file1000178.h5' to TFRecords...\n",
      "Converting file 86 at b'/home/ubuntu/cs230/data/fastmri/raw/singlecoil_dev/file1000660.h5' to TFRecords...\n",
      "Converting file 87 at b'/home/ubuntu/cs230/data/fastmri/raw/singlecoil_dev/file1001825.h5' to TFRecords...\n",
      "Converting file 88 at b'/home/ubuntu/cs230/data/fastmri/raw/singlecoil_dev/file1000817.h5' to TFRecords...\n",
      "Converting file 89 at b'/home/ubuntu/cs230/data/fastmri/raw/singlecoil_dev/file1000552.h5' to TFRecords...\n",
      "Converting file 90 at b'/home/ubuntu/cs230/data/fastmri/raw/singlecoil_dev/file1000308.h5' to TFRecords...\n",
      "Converting file 91 at b'/home/ubuntu/cs230/data/fastmri/raw/singlecoil_dev/file1000314.h5' to TFRecords...\n"
     ]
    }
   ],
   "source": [
    "# Run conversion\n",
    "\n",
    "utils.fastmri.convert_fastmri_dataset_to_tfrecord_files(raw_dev_locations,\n",
    "                                                        dev_tfrecord_directory,\n",
    "                                                        coils='single',\n",
    "                                                        keep_original_reconstruction=True,\n",
    "                                                        perform_subsampling=False)"
   ]
  },
  {
   "cell_type": "code",
   "execution_count": null,
   "metadata": {
    "scrolled": true
   },
   "outputs": [],
   "source": [
    "utils.fastmri.convert_fastmri_dataset_to_tfrecord_files(raw_test_locations,\n",
    "                                                        test_tfrecord_directory,\n",
    "                                                        coils='single',\n",
    "                                                        keep_original_reconstruction=False,\n",
    "                                                        perform_subsampling=False)"
   ]
  },
  {
   "cell_type": "code",
   "execution_count": null,
   "metadata": {
    "scrolled": false
   },
   "outputs": [],
   "source": [
    "utils.fastmri.convert_fastmri_dataset_to_tfrecord_files(raw_train_locations,\n",
    "                                                        train_tfrecord_directory,\n",
    "                                                        coils='single',\n",
    "                                                        keep_original_reconstruction=False,\n",
    "                                                        perform_subsampling=False)"
   ]
  },
  {
   "cell_type": "code",
   "execution_count": null,
   "metadata": {},
   "outputs": [],
   "source": [
    "# Sync TFRecords to s3\n",
    "# aws s3 sync /home/ubuntu/cs230/data/fastmri/tfrecords/singlecoil_dev s3://cs230-automap/data/fastmri/tfrecords/singlecoil_dev\n",
    "# aws s3 sync /home/ubuntu/cs230/data/fastmri/tfrecords/singlecoil_test s3://cs230-automap/data/fastmri/tfrecords/singlecoil_test\n",
    "# aws s3 sync /home/ubuntu/cs230/data/fastmri/tfrecords/singlecoil_train s3://cs230-automap/data/fastmri/tfrecords/singlecoil_train"
   ]
  },
  {
   "cell_type": "markdown",
   "metadata": {},
   "source": [
    "# Inspect dev data"
   ]
  },
  {
   "cell_type": "code",
   "execution_count": null,
   "metadata": {
    "scrolled": false
   },
   "outputs": [],
   "source": [
    "# Load data\n",
    "\n",
    "data_locations = os.path.join(dev_tfrecord_directory, 'shard-0.tfrecord')\n",
    "dataset = utils.fastmri.load_dataset(data_locations,\n",
    "                                     batch_size=8,\n",
    "                                     shuffle_buffer_size=40,\n",
    "                                     load_original_reconstruction=False,\n",
    "                                     include_all_parsed_features=False,\n",
    "                                     ignore_errors=True,\n",
    "                                     perform_data_augmentation=False)\n",
    "\n",
    "# Get first batch\n",
    "batch = next(iter(dataset))\n",
    "x, y = batch\n",
    "x, y = x[0].numpy().squeeze(), y[0].numpy().squeeze()\n",
    "\n",
    "\n",
    "# For visualization, combine 2 channels of complex tensor into single channel\n",
    "x = utils.fastmri._combine_two_channels_of_complex_tensor(x).numpy()\n",
    "\n",
    "x.shape, y.shape"
   ]
  },
  {
   "cell_type": "code",
   "execution_count": null,
   "metadata": {},
   "outputs": [],
   "source": [
    "plt.title('FFT')\n",
    "utils.plot.imshowfft(x)"
   ]
  },
  {
   "cell_type": "code",
   "execution_count": null,
   "metadata": {},
   "outputs": [],
   "source": [
    "plt.title('Reconstruction')\n",
    "utils.plot.imshowgray(y)"
   ]
  },
  {
   "cell_type": "markdown",
   "metadata": {},
   "source": [
    "# Inspect test data"
   ]
  },
  {
   "cell_type": "code",
   "execution_count": null,
   "metadata": {},
   "outputs": [],
   "source": [
    "# Load data\n",
    "\n",
    "data_locations = os.path.join(test_tfrecord_directory, 'shard-0.tfrecord')\n",
    "dataset = utils.fastmri.load_dataset(data_locations,\n",
    "                                     batch_size=8,\n",
    "                                     shuffle_buffer_size=40,\n",
    "                                     load_original_reconstruction=False,\n",
    "                                     include_all_parsed_features=False,\n",
    "                                     ignore_errors=True,\n",
    "                                     perform_data_augmentation=False)\n",
    "\n",
    "# Get first batch\n",
    "batch = next(iter(dataset))\n",
    "x, y = batch\n",
    "x, y = x[0].numpy().squeeze(), y[0].numpy().squeeze()\n",
    "\n",
    "\n",
    "# For visualization, combine 2 channels of complex tensor into single channel\n",
    "x = utils.fastmri._combine_two_channels_of_complex_tensor(x).numpy()\n",
    "\n",
    "x.shape, y.shape"
   ]
  },
  {
   "cell_type": "code",
   "execution_count": null,
   "metadata": {},
   "outputs": [],
   "source": [
    "plt.title('FFT')\n",
    "utils.plot.imshowfft(x)"
   ]
  },
  {
   "cell_type": "code",
   "execution_count": null,
   "metadata": {},
   "outputs": [],
   "source": [
    "plt.title('Reconstruction (fully sampled)')\n",
    "utils.plot.imshowgray(y)"
   ]
  },
  {
   "cell_type": "markdown",
   "metadata": {},
   "source": [
    "# Inspect train data"
   ]
  },
  {
   "cell_type": "code",
   "execution_count": null,
   "metadata": {},
   "outputs": [],
   "source": [
    "# Load data\n",
    "\n",
    "data_locations = os.path.join(train_tfrecord_directory, 'shard-0.tfrecord')\n",
    "dataset = utils.fastmri.load_dataset(data_locations,\n",
    "                                     batch_size=8,\n",
    "                                     shuffle_buffer_size=40,\n",
    "                                     load_original_reconstruction=False,\n",
    "                                     include_all_parsed_features=False,\n",
    "                                     ignore_errors=True,\n",
    "                                     perform_data_augmentation=False)\n",
    "\n",
    "# Get first batch\n",
    "batch = next(iter(dataset))\n",
    "x, y = batch\n",
    "x, y = x[0].numpy().squeeze(), y[0].numpy().squeeze()\n",
    "\n",
    "\n",
    "# For visualization, combine 2 channels of complex tensor into single channel\n",
    "x = utils.fastmri._combine_two_channels_of_complex_tensor(x).numpy()\n",
    "\n",
    "x.shape, y.shape"
   ]
  },
  {
   "cell_type": "code",
   "execution_count": null,
   "metadata": {},
   "outputs": [],
   "source": [
    "plt.title('FFT')\n",
    "utils.plot.imshowfft(x)"
   ]
  },
  {
   "cell_type": "code",
   "execution_count": null,
   "metadata": {},
   "outputs": [],
   "source": [
    "plt.title('Reconstruction')\n",
    "utils.plot.imshowgray(y)"
   ]
  },
  {
   "cell_type": "code",
   "execution_count": null,
   "metadata": {},
   "outputs": [],
   "source": []
  },
  {
   "cell_type": "code",
   "execution_count": null,
   "metadata": {},
   "outputs": [],
   "source": []
  }
 ],
 "metadata": {
  "kernelspec": {
   "display_name": "Environment (conda_tensorflow_p36)",
   "language": "python",
   "name": "conda_tensorflow_p36"
  },
  "language_info": {
   "codemirror_mode": {
    "name": "ipython",
    "version": 3
   },
   "file_extension": ".py",
   "mimetype": "text/x-python",
   "name": "python",
   "nbconvert_exporter": "python",
   "pygments_lexer": "ipython3",
   "version": "3.6.5"
  }
 },
 "nbformat": 4,
 "nbformat_minor": 2
}
