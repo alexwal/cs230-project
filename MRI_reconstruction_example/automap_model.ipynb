{
 "cells": [
  {
   "cell_type": "code",
   "execution_count": 13,
   "metadata": {},
   "outputs": [
    {
     "name": "stdout",
     "output_type": "stream",
     "text": [
      "The autoreload extension is already loaded. To reload it, use:\n",
      "  %reload_ext autoreload\n"
     ]
    }
   ],
   "source": [
    "# Autoreload changed python modules\n",
    "%load_ext autoreload"
   ]
  },
  {
   "cell_type": "code",
   "execution_count": 14,
   "metadata": {
    "collapsed": true
   },
   "outputs": [],
   "source": [
    "import os, glob\n",
    "import h5py # for loading .h5 files\n",
    "import numpy as np\n",
    "import matplotlib.pyplot as plt\n",
    "%matplotlib inline"
   ]
  },
  {
   "cell_type": "code",
   "execution_count": 15,
   "metadata": {
    "collapsed": true
   },
   "outputs": [],
   "source": [
    "plt.style.use('seaborn') # pretty matplotlib plots\n",
    "plt.rcParams[\"axes.grid\"] = False # don't show grid lines on plots by default\n",
    "plt.rcParams['figure.figsize'] = (12, 16) # increase size of subplots"
   ]
  },
  {
   "cell_type": "code",
   "execution_count": 16,
   "metadata": {
    "collapsed": true
   },
   "outputs": [],
   "source": [
    "import cs230_project_utilities as utils\n",
    "# make sure you have pywt: pip3 install PyWavelets --user"
   ]
  },
  {
   "cell_type": "markdown",
   "metadata": {},
   "source": [
    "# Loading the data"
   ]
  },
  {
   "cell_type": "code",
   "execution_count": 17,
   "metadata": {
    "collapsed": true
   },
   "outputs": [],
   "source": [
    "# Location of directory H5Exports_AnimiX/ (downloaded from Olivier's link)\n",
    "dataset_directory = '/scratch/groups/mwinterm/BoostMRI/data/H5Exports_AnimiX'"
   ]
  },
  {
   "cell_type": "code",
   "execution_count": 18,
   "metadata": {},
   "outputs": [
    {
     "name": "stdout",
     "output_type": "stream",
     "text": [
      "Found 133 .h5 files and 133 .txt files.\n"
     ]
    }
   ],
   "source": [
    "# Find all the files in our dataset\n",
    "files = utils.automap.find_dataset_files(dataset_directory)"
   ]
  },
  {
   "cell_type": "markdown",
   "metadata": {},
   "source": [
    "# Visualizing the data"
   ]
  },
  {
   "cell_type": "code",
   "execution_count": 20,
   "metadata": {
    "scrolled": false
   },
   "outputs": [
    {
     "name": "stdout",
     "output_type": "stream",
     "text": [
      "(15, 256, 256)\n",
      "dict_keys(['classification', 'images', 'magnitude', 'phase'])\n",
      "(15, 256, 256) (15, 256, 240) (15, 256, 240)\n",
      "[0. 0. 0. 0. 0. 0. 0. 0. 0. 1. 0. 0. 0. 0. 0.]\n"
     ]
    },
    {
     "name": "stderr",
     "output_type": "stream",
     "text": [
      "/home/users/awal/.local/lib/python3.6/site-packages/h5py/_hl/dataset.py:313: H5pyDeprecationWarning: dataset.value has been deprecated. Use dataset[()] instead.\n",
      "  \"Use dataset[()] instead.\", H5pyDeprecationWarning)\n"
     ]
    }
   ],
   "source": [
    "# Finally, we can see the raw data\n",
    "h5 = files['724_7094']['h5']\n",
    "h5_data = utils.automap.read_h5_file(h5)\n",
    "print(h5_data.keys())\n",
    "\n",
    "images = h5_data['images']\n",
    "magnitude = h5_data['magnitude']\n",
    "phase = h5_data['phase']\n",
    "classification = h5_data['classification']\n",
    "\n",
    "# (Note: shape of magnitude and phase are different from image)\n",
    "print(images.shape, magnitude.shape, phase.shape)\n",
    "print(np.ndarray.flatten(classification))"
   ]
  },
  {
   "cell_type": "code",
   "execution_count": 28,
   "metadata": {},
   "outputs": [],
   "source": [
    "# Uncomment to view example image in dataset\n",
    "# utils.plot.imshowgray(utils.automap.transform_training_set_image_to_match_automap_output(images[0]))"
   ]
  },
  {
   "cell_type": "code",
   "execution_count": 24,
   "metadata": {
    "scrolled": false
   },
   "outputs": [
    {
     "name": "stdout",
     "output_type": "stream",
     "text": [
      "Error in FFT magnitude: 1.8354682870141233e-19\n",
      "Error in FFT phase: 1.5035561514171795e-05\n"
     ]
    }
   ],
   "source": [
    "# Construct FFT (k-space data) from magnitude and phase\n",
    "fft = magnitude[0] * np.exp(1j * phase[0])\n",
    "\n",
    "# Take the inverse FFT\n",
    "ifft = utils.signal_processing.ifft_2D_centered(fft)\n",
    "\n",
    "# Note: shape of magnitude and phase are different from image.\n",
    "# Because of this, the reconstruction shape is different from the\n",
    "# image shape and so we can't compare the image and reconstruction directly.\n",
    "# How will we solve this?\n",
    "\n",
    "# This check to make sure we are correctly combining magnitude and phase to construct the full, complex-valued FFT.\n",
    "print('Error in FFT magnitude: {}'.format(utils.signal_processing.mean_square_error(np.abs(fft), magnitude[0])))\n",
    "print('Error in FFT phase: {}'.format(utils.signal_processing.mean_square_error(np.angle(fft), phase[0])))"
   ]
  },
  {
   "cell_type": "code",
   "execution_count": 25,
   "metadata": {
    "collapsed": true
   },
   "outputs": [],
   "source": [
    "# Uncomment to show plots\n",
    "# plt.subplot(2, 2, 1)\n",
    "# plt.title('Reconstruction')\n",
    "# utils.plot.imshowgray(np.abs(ifft))\n",
    "# # \n",
    "# plt.subplot(2, 2, 2)\n",
    "# plt.title('FFT (Magnitude)')\n",
    "# utils.plot.imshowfft(np.abs(fft))\n",
    "\n",
    "# plt.subplot(2, 2, 3)\n",
    "# plt.title('Expected reconstruction')\n",
    "# image = utils.automap.transform_training_set_image_to_match_automap_output(images[0])\n",
    "# utils.plot.imshowgray(image)\n",
    "\n",
    "# plt.subplot(2, 2, 4)\n",
    "# plt.title('FFT (Phase)')\n",
    "# utils.plot.imshowgray(np.angle(fft))"
   ]
  },
  {
   "cell_type": "markdown",
   "metadata": {},
   "source": [
    "# Automap Model"
   ]
  },
  {
   "cell_type": "code",
   "execution_count": 10,
   "metadata": {},
   "outputs": [
    {
     "name": "stderr",
     "output_type": "stream",
     "text": [
      "Using TensorFlow backend.\n"
     ]
    }
   ],
   "source": [
    "import keras\n",
    "from keras.layers import Input,Conv2D, Conv2DTranspose, Dense, Reshape, Flatten\n",
    "from keras.models import Model\n",
    "from keras.optimizers import RMSprop\n",
    "from keras import losses"
   ]
  },
  {
   "cell_type": "code",
   "execution_count": 11,
   "metadata": {
    "collapsed": true
   },
   "outputs": [],
   "source": [
    "def load_model():\n",
    "    res=64\n",
    "    X = Input((res,res,2))\n",
    "    X1 = Flatten()(X)\n",
    "    fc1 = Dense(res * res * 2, activation = 'tanh')(X1)\n",
    "    fc2 = Dense(res * res, activation = 'tanh')(fc1)\n",
    "    fc3 = Dense(res * res, activation = 'tanh')(fc2)\n",
    "    X2 = Reshape((res, res, 1))(fc3)\n",
    "    conv1_1 = Conv2D(64, 5, activation='relu', padding='same')(X2)\n",
    "    conv1_2 = Conv2D(64, 5, activation='relu', padding='same')(conv1_1)\n",
    "    conv1_3 = Conv2DTranspose(64, 9, activation='relu', padding='same')(conv1_2)\n",
    "    out = Conv2D(1, 1, activation = 'linear',padding='same')(conv1_3)\n",
    "    model=Model(inputs=X, outputs=out)\n",
    "    model.compile(optimizer=RMSprop(lr=1e-5), loss='mean_squared_error')\n",
    "    return model"
   ]
  },
  {
   "cell_type": "code",
   "execution_count": 12,
   "metadata": {},
   "outputs": [
    {
     "name": "stdout",
     "output_type": "stream",
     "text": [
      "WARNING:tensorflow:From /home/users/awal/.local/lib/python3.6/site-packages/tensorflow/python/framework/op_def_library.py:263: colocate_with (from tensorflow.python.framework.ops) is deprecated and will be removed in a future version.\n",
      "Instructions for updating:\n",
      "Colocations handled automatically by placer.\n"
     ]
    }
   ],
   "source": [
    "model = load_model()"
   ]
  },
  {
   "cell_type": "code",
   "execution_count": null,
   "metadata": {
    "collapsed": true
   },
   "outputs": [],
   "source": []
  },
  {
   "cell_type": "code",
   "execution_count": null,
   "metadata": {
    "collapsed": true
   },
   "outputs": [],
   "source": []
  },
  {
   "cell_type": "code",
   "execution_count": null,
   "metadata": {
    "collapsed": true
   },
   "outputs": [],
   "source": []
  },
  {
   "cell_type": "code",
   "execution_count": null,
   "metadata": {
    "collapsed": true
   },
   "outputs": [],
   "source": []
  },
  {
   "cell_type": "code",
   "execution_count": null,
   "metadata": {
    "collapsed": true
   },
   "outputs": [],
   "source": []
  },
  {
   "cell_type": "code",
   "execution_count": null,
   "metadata": {
    "collapsed": true
   },
   "outputs": [],
   "source": []
  },
  {
   "cell_type": "code",
   "execution_count": null,
   "metadata": {
    "collapsed": true
   },
   "outputs": [],
   "source": []
  },
  {
   "cell_type": "code",
   "execution_count": null,
   "metadata": {
    "collapsed": true
   },
   "outputs": [],
   "source": []
  },
  {
   "cell_type": "code",
   "execution_count": null,
   "metadata": {
    "collapsed": true
   },
   "outputs": [],
   "source": []
  },
  {
   "cell_type": "code",
   "execution_count": null,
   "metadata": {
    "collapsed": true
   },
   "outputs": [],
   "source": []
  },
  {
   "cell_type": "code",
   "execution_count": null,
   "metadata": {
    "collapsed": true
   },
   "outputs": [],
   "source": []
  },
  {
   "cell_type": "code",
   "execution_count": null,
   "metadata": {
    "collapsed": true
   },
   "outputs": [],
   "source": []
  },
  {
   "cell_type": "code",
   "execution_count": null,
   "metadata": {
    "collapsed": true
   },
   "outputs": [],
   "source": []
  },
  {
   "cell_type": "code",
   "execution_count": null,
   "metadata": {
    "collapsed": true
   },
   "outputs": [],
   "source": []
  },
  {
   "cell_type": "code",
   "execution_count": null,
   "metadata": {
    "collapsed": true
   },
   "outputs": [],
   "source": []
  },
  {
   "cell_type": "code",
   "execution_count": null,
   "metadata": {
    "collapsed": true
   },
   "outputs": [],
   "source": []
  },
  {
   "cell_type": "code",
   "execution_count": null,
   "metadata": {
    "collapsed": true
   },
   "outputs": [],
   "source": []
  },
  {
   "cell_type": "code",
   "execution_count": null,
   "metadata": {
    "collapsed": true
   },
   "outputs": [],
   "source": []
  }
 ],
 "metadata": {
  "kernelspec": {
   "display_name": "Python 3",
   "language": "python",
   "name": "python3"
  },
  "language_info": {
   "codemirror_mode": {
    "name": "ipython",
    "version": 3
   },
   "file_extension": ".py",
   "mimetype": "text/x-python",
   "name": "python",
   "nbconvert_exporter": "python",
   "pygments_lexer": "ipython3",
   "version": "3.6.1"
  }
 },
 "nbformat": 4,
 "nbformat_minor": 2
}
