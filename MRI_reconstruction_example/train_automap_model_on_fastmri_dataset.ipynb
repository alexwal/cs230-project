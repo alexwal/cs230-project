{
 "cells": [
  {
   "cell_type": "code",
   "execution_count": 1,
   "metadata": {},
   "outputs": [],
   "source": [
    "# To use TF 2.0 (on EC2 instance running Deep Learning AMI):\n",
    "# source activate tensorflow_p36\n",
    "# pip uninstall tensorflow-gpu\n",
    "# pip install tensorflow-gpu==2.0.0-alpha0\n",
    "\n",
    "# But then later decided wanted even newer GPU stuff and \"in that conda env, ran:\n",
    "# pip uninstall tensorflow-gpu\n",
    "# pip install --upgrade pip\n",
    "# pip install wrapt --ignore-installed # ran this because had an error\n",
    "# pip install  tf-nightly-gpu-2.0-preview\n",
    "\n",
    "# Result: Successfully installed tf-nightly-gpu-2.0-preview-2.0.0.dev20190601"
   ]
  },
  {
   "cell_type": "code",
   "execution_count": 2,
   "metadata": {},
   "outputs": [],
   "source": [
    "import os\n",
    "from datetime import datetime\n",
    "import numpy as np\n",
    "import tensorflow as tf"
   ]
  },
  {
   "cell_type": "code",
   "execution_count": 3,
   "metadata": {},
   "outputs": [],
   "source": [
    "import matplotlib.pyplot as plt\n",
    "%matplotlib inline\n",
    "\n",
    "plt.style.use('seaborn') # pretty matplotlib plots\n",
    "plt.rcParams[\"axes.grid\"] = False # don't show grid lines on plots by default\n",
    "plt.rcParams['figure.figsize'] = (12, 16) # increase size of subplots"
   ]
  },
  {
   "cell_type": "code",
   "execution_count": 4,
   "metadata": {},
   "outputs": [
    {
     "name": "stdout",
     "output_type": "stream",
     "text": [
      "TensorFlow version:  2.0.0-dev20190605\n"
     ]
    }
   ],
   "source": [
    "from packaging import version\n",
    "\n",
    "print(\"TensorFlow version: \", tf.__version__) # make sure >= 2.0.0-dev20190605\n",
    "assert version.parse(tf.__version__).release[0] >= 2, \"This notebook requires TensorFlow 2.0 or above.\"\n"
   ]
  },
  {
   "cell_type": "code",
   "execution_count": 5,
   "metadata": {},
   "outputs": [],
   "source": [
    "import cs230_project_utilities as utils"
   ]
  },
  {
   "cell_type": "code",
   "execution_count": 6,
   "metadata": {},
   "outputs": [],
   "source": [
    "# GPU usage logging (TF 2.0+)\n",
    "\n",
    "tf.config.set_soft_device_placement(True)\n",
    "tf.debugging.set_log_device_placement(False)"
   ]
  },
  {
   "cell_type": "markdown",
   "metadata": {},
   "source": [
    "# Load dataset as TFRecords "
   ]
  },
  {
   "cell_type": "code",
   "execution_count": 7,
   "metadata": {},
   "outputs": [],
   "source": [
    "# Sync from remote storage in s3\n",
    "# aws s3 sync s3://cs230-automap/data/fastmri/tfrecords cs230/data/fastmri/tfrecords"
   ]
  },
  {
   "cell_type": "code",
   "execution_count": 8,
   "metadata": {},
   "outputs": [],
   "source": [
    "dev_locations = '/home/ubuntu/cs230/data/fastmri/tfrecords/singlecoil_dev/*.tfrecord'\n",
    "test_locations = '/home/ubuntu/cs230/data/fastmri/tfrecords/singlecoil_test/*.tfrecord'\n",
    "train_locations = '/home/ubuntu/cs230/data/fastmri/tfrecords/singlecoil_train/*.tfrecord'"
   ]
  },
  {
   "cell_type": "code",
   "execution_count": 9,
   "metadata": {
    "scrolled": true
   },
   "outputs": [
    {
     "name": "stdout",
     "output_type": "stream",
     "text": [
      "Loading dataset... Shuffle items? True. Shuffle buffer: 128\n",
      "Loading dataset... Shuffle items? True. Shuffle buffer: 128\n",
      "Loading dataset... Shuffle items? True. Shuffle buffer: 1024\n"
     ]
    }
   ],
   "source": [
    "# Use tf.data.Datasets to preprocess and iterate data efficiently\n",
    "\n",
    "batch_size = 16\n",
    "\n",
    "dev_dataset = utils.fastmri.load_dataset(dev_locations,\n",
    "                                         batch_size=8,\n",
    "                                         shuffle_buffer_size=128,\n",
    "                                         load_original_reconstruction=False,\n",
    "                                         include_all_parsed_features=False,\n",
    "                                         ignore_errors=True,\n",
    "                                         perform_data_augmentation=False)\n",
    "\n",
    "test_dataset = utils.fastmri.load_dataset(test_locations,\n",
    "                                          batch_size=8,\n",
    "                                          shuffle_buffer_size=128,\n",
    "                                          load_original_reconstruction=False,\n",
    "                                          include_all_parsed_features=False,\n",
    "                                          ignore_errors=True,\n",
    "                                          perform_data_augmentation=False)\n",
    "\n",
    "train_dataset = utils.fastmri.load_dataset(train_locations,\n",
    "                                           batch_size=batch_size,\n",
    "                                           shuffle_buffer_size=1024,\n",
    "                                           load_original_reconstruction=False,\n",
    "                                           include_all_parsed_features=False,\n",
    "                                           ignore_errors=True,\n",
    "                                           perform_data_augmentation=False)"
   ]
  },
  {
   "cell_type": "markdown",
   "metadata": {},
   "source": [
    "# Validate dataset\n",
    "Make sure target reconstruction is the same as reconstruction computed from input."
   ]
  },
  {
   "cell_type": "code",
   "execution_count": 10,
   "metadata": {
    "scrolled": false
   },
   "outputs": [],
   "source": [
    "# First batch of each dataset to be used in plotting images periodically to tensorboard\n",
    "\n",
    "first_test_batch = next(iter(test_dataset))\n",
    "first_dev_batch = next(iter(dev_dataset))\n",
    "first_train_batch = next(iter(train_dataset))"
   ]
  },
  {
   "cell_type": "code",
   "execution_count": 11,
   "metadata": {},
   "outputs": [],
   "source": [
    "def first_batches():\n",
    "    batches = [(first_test_batch, 'Test'), (first_dev_batch, 'Dev'), (first_train_batch, 'Train')]\n",
    "    return batches"
   ]
  },
  {
   "cell_type": "code",
   "execution_count": 12,
   "metadata": {
    "scrolled": true
   },
   "outputs": [
    {
     "data": {
      "text/plain": [
       "TensorShape([8, 128, 128, 2])"
      ]
     },
     "execution_count": 12,
     "metadata": {},
     "output_type": "execute_result"
    }
   ],
   "source": [
    "first_test_batch[0].shape"
   ]
  },
  {
   "cell_type": "code",
   "execution_count": 13,
   "metadata": {
    "scrolled": false
   },
   "outputs": [
    {
     "data": {
      "text/plain": [
       "(True, 3.633276e-15)"
      ]
     },
     "execution_count": 13,
     "metadata": {},
     "output_type": "execute_result"
    }
   ],
   "source": [
    "fft, target_image = first_test_batch[0][0].numpy().squeeze(), first_test_batch[1][0].numpy().squeeze()\n",
    "fft = utils.fastmri._combine_two_channels_of_complex_tensor(fft).numpy()\n",
    "\n",
    "# Compute image from input `fft`\n",
    "image_from_fft = tf.abs(utils.signal_processing.tf_ifft2d(fft)).numpy().squeeze()\n",
    "\n",
    "# Compare target image to reconstruction from input `fft`\n",
    "np.allclose(image_from_fft, target_image, atol=1e-6), utils.signal_processing.mean_square_error(image_from_fft, target_image)"
   ]
  },
  {
   "cell_type": "code",
   "execution_count": 14,
   "metadata": {},
   "outputs": [
    {
     "data": {
      "text/plain": [
       "(0.0013863439, 0.9999999, 0.0013863624, 1.0)"
      ]
     },
     "execution_count": 14,
     "metadata": {},
     "output_type": "execute_result"
    }
   ],
   "source": [
    "# Should be in [0, 1]\n",
    "image_from_fft.min(), image_from_fft.max(), target_image.min(), target_image.max()"
   ]
  },
  {
   "cell_type": "code",
   "execution_count": 15,
   "metadata": {
    "scrolled": false
   },
   "outputs": [
    {
     "data": {
      "image/png": "[encoded data removed]",
      "text/plain": [
       "<Figure size 432x288 with 1 Axes>"
      ]
     },
     "metadata": {},
     "output_type": "display_data"
    }
   ],
   "source": [
    "utils.plot.imshowfft(fft)"
   ]
  },
  {
   "cell_type": "code",
   "execution_count": 16,
   "metadata": {},
   "outputs": [
    {
     "data": {
      "image/png": "[encoded data removed]",
      "text/plain": [
       "<Figure size 432x288 with 1 Axes>"
      ]
     },
     "metadata": {},
     "output_type": "display_data"
    }
   ],
   "source": [
    "utils.plot.imshowgray(target_image)"
   ]
  },
  {
   "cell_type": "code",
   "execution_count": 17,
   "metadata": {},
   "outputs": [
    {
     "data": {
      "image/png": "[encoded data removed]",
      "text/plain": [
       "<Figure size 432x288 with 1 Axes>"
      ]
     },
     "metadata": {},
     "output_type": "display_data"
    }
   ],
   "source": [
    "utils.plot.imshowgray(image_from_fft)"
   ]
  },
  {
   "cell_type": "code",
   "execution_count": 18,
   "metadata": {},
   "outputs": [
    {
     "name": "stderr",
     "output_type": "stream",
     "text": [
      "/home/ubuntu/cs230/code/MRI_reconstruction_example/cs230_project_utilities/plot.py:13: RuntimeWarning: divide by zero encountered in log10\n",
      "  imshowgray(20 * np.log10(np.abs(fft)))\n"
     ]
    },
    {
     "data": {
      "image/png": "[encoded data removed]",
      "text/plain": [
       "<Figure size 432x288 with 1 Axes>"
      ]
     },
     "metadata": {},
     "output_type": "display_data"
    }
   ],
   "source": [
    "utils.plot.imshowfft(np.square(target_image - image_from_fft))"
   ]
  },
  {
   "cell_type": "markdown",
   "metadata": {},
   "source": [
    "# Model"
   ]
  },
  {
   "cell_type": "code",
   "execution_count": 19,
   "metadata": {},
   "outputs": [],
   "source": [
    "# A metric to use during training\n",
    "def mean_PSNR(y_true, y_pred):\n",
    "    max_value = 1.0\n",
    "    MSE = tf.reduce_mean(tf.square(y_true - y_pred), axis=[1, 2, 3])\n",
    "    PSNR = 10 * tf.math.log(tf.divide(max_value ** 2, MSE)) / tf.math.log(tf.constant(10, dtype=y_pred.dtype))\n",
    "    mean = tf.reduce_mean(PSNR)\n",
    "    return mean"
   ]
  },
  {
   "cell_type": "code",
   "execution_count": 20,
   "metadata": {},
   "outputs": [],
   "source": [
    "# Model most similar to OG AUTOMAP\n",
    "# def load_uncompiled_automap_model():\n",
    "\n",
    "#     N = 128\n",
    "#     X = tf.keras.layers.Input(shape=(N, N, 2))\n",
    "\n",
    "#     # Paper says 1% multiplicative gaussian noise (this multiplies by 1-centered gaussian\n",
    "#     # having stddev = sqrt(rate / (1 - rate)) (here, 0.00032...)\n",
    "#     # noisy_X = tf.keras.layers.GaussianDropout(rate=1e-7)(X) # spatial dimension: 256\n",
    "#     # Note: (we could corrupt when training with cifar, but maybe not other dataset?)\n",
    "\n",
    "#     ds_flat = tf.keras.layers.Flatten()(X)\n",
    "\n",
    "# #     fc1 = tf.keras.layers.Dense(64 ** 2, activation='tanh')(ds_flat) # closer to original paper is: 128 ** 2\n",
    "# #     fc1 = tf.keras.layers.Dropout(0.05)(fc1)\n",
    "#     fc2 = tf.keras.layers.Dense(128 ** 2, activation='tanh')(ds_flat)\n",
    "\n",
    "#     fc_output = tf.keras.layers.Reshape([128, 128, 1])(fc2)\n",
    "\n",
    "#     conv1 = tf.keras.layers.Conv2D(64, (5, 5), strides=(1, 1), activation='relu', padding='same')(fc_output)\n",
    "    \n",
    "#     # L1 regularization to encourage sparsity\n",
    "#     conv2 = tf.keras.layers.Conv2D(64, (5, 5), strides=(1, 1), activation='relu', padding='same',\n",
    "#                                    activity_regularizer=tf.keras.regularizers.l1(1e-4))(conv1)\n",
    "\n",
    "#     Y_pred = tf.keras.layers.Conv2DTranspose(1, (7, 7), strides=1, activation='relu', padding='same')(conv2) # upsample to spatial dimension 256\n",
    "\n",
    "#     model = tf.keras.Model(inputs=X, outputs=Y_pred)\n",
    "\n",
    "#     return model"
   ]
  },
  {
   "cell_type": "code",
   "execution_count": 21,
   "metadata": {},
   "outputs": [],
   "source": [
    "# def load_uncompiled_automap_model():\n",
    "    \n",
    "#     # this one's solid, but I believe we'll need a few hours to train it.\n",
    "    \n",
    "#     N = 128\n",
    "#     F = 32\n",
    "#     X = tf.keras.layers.Input(shape=(N, N, 2))\n",
    "\n",
    "# #     Half-assed data augmentation\n",
    "# #     noisy_X = tf.keras.layers.GaussianNoise(stddev=1e-7)(X) # shape: (N, N, 2)\n",
    "\n",
    "#     # These layers all halve the spatial dimension (but also each output F channels)\n",
    "#     conv1 = tf.keras.layers.Concatenate(axis=-1)([\n",
    "#         tf.keras.layers.Conv2D(F, (3, 3), strides=1, activation='relu', padding='same')(X),\n",
    "#         tf.keras.layers.Conv2D(F, (5, 5), strides=1, activation='relu', padding='same')(X),\n",
    "#         tf.keras.layers.Conv2D(F, (7, 7), strides=1, activation='relu', padding='same')(X),\n",
    "#         tf.keras.layers.Conv2DTranspose(F, 3, strides=1, activation='relu', padding='same')(X),\n",
    "#         tf.keras.layers.Conv2DTranspose(F, 5, strides=1, activation='relu', padding='same')(X),\n",
    "#         tf.keras.layers.Conv2DTranspose(F, 7, strides=1, activation='relu', padding='same')(X)])\n",
    "#     pool1 = tf.keras.layers.AveragePooling2D(pool_size=2)(conv1) # spatial dim: N / 2\n",
    "    \n",
    "#     conv2 = tf.keras.layers.Concatenate(axis=-1)([\n",
    "#         tf.keras.layers.Conv2D(F, (3, 3), strides=1, activation='relu', padding='same')(pool1),\n",
    "#         tf.keras.layers.Conv2D(F, (5, 5), strides=1, activation='relu', padding='same')(pool1),\n",
    "#         tf.keras.layers.Conv2D(F, (7, 7), strides=1, activation='relu', padding='same')(pool1),\n",
    "#         tf.keras.layers.Conv2DTranspose(F, 3, strides=1, activation='relu', padding='same')(pool1),\n",
    "#         tf.keras.layers.Conv2DTranspose(F, 5, strides=1, activation='relu', padding='same')(pool1),\n",
    "#         tf.keras.layers.Conv2DTranspose(F, 7, strides=1, activation='relu', padding='same')(pool1)])\n",
    "#     pool2 = tf.keras.layers.AveragePooling2D(pool_size=2)(conv2) # spatial dim: N / 4\n",
    "    \n",
    "#     conv3 = tf.keras.layers.Concatenate(axis=-1)([\n",
    "#         tf.keras.layers.Conv2D(F, (3, 3), strides=1, activation='relu', padding='same')(pool2),\n",
    "#         tf.keras.layers.Conv2D(F, (5, 5), strides=1, activation='relu', padding='same')(pool2),\n",
    "#         tf.keras.layers.Conv2D(F, (7, 7), strides=1, activation='relu', padding='same')(pool2),\n",
    "#         tf.keras.layers.Conv2DTranspose(F, 3, strides=1, activation='relu', padding='same')(pool2),\n",
    "#         tf.keras.layers.Conv2DTranspose(F, 5, strides=1, activation='relu', padding='same')(pool2),\n",
    "#         tf.keras.layers.Conv2DTranspose(F, 7, strides=1, activation='relu', padding='same')(pool2)])\n",
    "#     pool3 = tf.keras.layers.AveragePooling2D(pool_size=2)(conv3) # spatial dim: N / 8\n",
    "    \n",
    "#     conv4 = tf.keras.layers.Concatenate(axis=-1)([\n",
    "#         tf.keras.layers.Conv2DTranspose(F, 3, strides=2, activation='relu', padding='same')(pool3),\n",
    "#         tf.keras.layers.Conv2DTranspose(F, 5, strides=2, activation='relu', padding='same')(pool3),\n",
    "#         tf.keras.layers.Conv2DTranspose(F, 7, strides=2, activation='relu', padding='same')(pool3)])\n",
    "#     # spatial dim: N / 4\n",
    "    \n",
    "#     conv5 = tf.keras.layers.Concatenate(axis=-1)([\n",
    "#         tf.keras.layers.Conv2DTranspose(F, 3, strides=2, activation='relu', padding='same')(conv4),\n",
    "#         tf.keras.layers.Conv2DTranspose(F, 5, strides=2, activation='relu', padding='same')(conv4),\n",
    "#         tf.keras.layers.Conv2DTranspose(F, 7, strides=2, activation='relu', padding='same')(conv4)])\n",
    "#     # spatial dim: N / 2\n",
    "    \n",
    "#     conv6 = tf.keras.layers.Concatenate(axis=-1)([\n",
    "#         tf.keras.layers.Conv2DTranspose(F, 3, strides=2, activation='relu', padding='same')(conv5),\n",
    "#         tf.keras.layers.Conv2DTranspose(F, 5, strides=2, activation='relu', padding='same')(conv5),\n",
    "#         tf.keras.layers.Conv2DTranspose(F, 7, strides=2, activation='relu', padding='same')(conv5)])\n",
    "#     # spatial dim: N\n",
    "    \n",
    "#     conv7 = tf.keras.layers.Concatenate(axis=-1)([\n",
    "#         tf.keras.layers.Conv2D(F, (3, 3), strides=1, activation='relu', padding='same')(conv6),\n",
    "#         tf.keras.layers.Conv2D(F, (5, 5), strides=1, activation='relu', padding='same')(conv6),\n",
    "#         tf.keras.layers.Conv2D(F, (7, 7), strides=1, activation='relu', padding='same')(conv6),\n",
    "#         tf.keras.layers.Conv2DTranspose(F, 3, strides=1, activation='relu', padding='same')(conv6),\n",
    "#         tf.keras.layers.Conv2DTranspose(F, 5, strides=1, activation='relu', padding='same')(conv6),\n",
    "#         tf.keras.layers.Conv2DTranspose(F, 7, strides=1, activation='relu', padding='same')(conv6)])\n",
    "    \n",
    "#     t_conv8 = tf.keras.layers.Conv2DTranspose(6 * F, 5, strides=1, activation='relu', padding='same',\n",
    "#                                               # Encourage sparsity in output (MRI images are mostly zeros)\n",
    "#                                               activity_regularizer=tf.keras.regularizers.l1(1e-6))(conv7)\n",
    "\n",
    "#     Y_pred = tf.keras.layers.Conv2DTranspose(1, 7, strides=1, activation='relu', padding='same')(t_conv8) # spatial dim: 128\n",
    "\n",
    "#     model = tf.keras.Model(inputs=X, outputs=Y_pred)\n",
    "\n",
    "#     return model"
   ]
  },
  {
   "cell_type": "code",
   "execution_count": 22,
   "metadata": {},
   "outputs": [],
   "source": [
    "def load_uncompiled_automap_model():\n",
    "    \n",
    "    # this one's solid, but I believe we'll need a few hours to train it.\n",
    "    \n",
    "    N = 128\n",
    "    F = 128\n",
    "    X = tf.keras.layers.Input(shape=(N, N, 2))\n",
    "\n",
    "    # Half-assed data augmentation\n",
    "    noisy_X = tf.keras.layers.GaussianNoise(stddev=1e-7)(X) # shape: (256, 256, 256)\n",
    "\n",
    "    # These layers all halve the spatial dimension (but also each output 256 channels)\n",
    "    conv1 = tf.keras.layers.Conv2D(F, (3, 3), strides=(1, 1), activation='relu', padding='same')(X)\n",
    "    pool1 = tf.keras.layers.AveragePooling2D(pool_size=2)(conv1) # shape: (128, 128, F)\n",
    "\n",
    "    conv2 = tf.keras.layers.Conv2D(F, (3, 3), strides=(1, 1), activation='relu', padding='same')(pool1)\n",
    "    pool2 = tf.keras.layers.AveragePooling2D(pool_size=2)(conv2) # shape: (64, 64, F)\n",
    "\n",
    "    conv3 = tf.keras.layers.Conv2D(F, (3, 3), strides=(1, 1), activation='relu', padding='same')(pool2)\n",
    "    pool3 = tf.keras.layers.AveragePooling2D(pool_size=2)(conv3) # shape: (32, 32, F)\n",
    "\n",
    "    conv4 = tf.keras.layers.Conv2D(2 * F, (3, 3), strides=(1, 1), activation='relu', padding='same')(pool3)\n",
    "    pool4 = tf.keras.layers.AveragePooling2D(pool_size=2)(conv4) # shape: (16, 16, F)\n",
    "\n",
    "    conv5 = tf.keras.layers.Conv2D(2 * F, (3, 3), strides=(1, 1), activation='relu', padding='same')(pool4)\n",
    "    pool5 = tf.keras.layers.AveragePooling2D(pool_size=2)(conv5) # shape: (8, 8, F)\n",
    "\n",
    "    # A \"FC-like\" layer for fun before we do upsampling\n",
    "    conv7 = tf.keras.layers.Conv2D(2 * F, (2, 2), strides=(1, 1), activation='relu', padding='same')(pool5) # spatial dim: 4\n",
    "    conv7 = tf.keras.layers.Conv2D(4 * F, (2, 2), strides=(1, 1), activation='relu', padding='same')(conv7) # spatial dim: 4\n",
    "    conv7 = tf.keras.layers.Conv2D(2 * F, (2, 2), strides=(1, 1), activation='relu', padding='same')(conv7) # spatial dim: 4\n",
    "\n",
    "    # These transposed convolutions upsample spatial dimension by 2\n",
    "    t_conv1 = tf.keras.layers.Conv2DTranspose(F, 3, strides=2, activation='relu', padding='same')(conv7) # spatial dim: 8\n",
    "    t_conv2 = tf.keras.layers.Conv2DTranspose(F, 3, strides=2, activation='relu', padding='same')(t_conv1) # spatial dim: 16\n",
    "    t_conv3 = tf.keras.layers.Conv2DTranspose(F, 3, strides=2, activation='relu', padding='same')(t_conv2) # spatial dim: 32\n",
    "    t_conv4 = tf.keras.layers.Conv2DTranspose(F, 3, strides=2, activation='relu', padding='same')(t_conv3) # spatial dim: 64\n",
    "    t_conv5 = tf.keras.layers.Conv2DTranspose(F, 3, strides=2, activation='relu', padding='same')(t_conv4) # spatial dim: 128\n",
    "    \n",
    "    t_conv6 = tf.keras.layers.Conv2DTranspose(F, 5, strides=1, activation='relu', padding='same',\n",
    "                                              # Encourage sparsity in output (MRI images are mostly zeros)\n",
    "                                              activity_regularizer=tf.keras.regularizers.l1(1e-6))(t_conv5)\n",
    "    \n",
    "    Y_pred = tf.keras.layers.Conv2DTranspose(1, 7, strides=1, activation='relu', padding='same')(t_conv6) # spatial dim: 256\n",
    "\n",
    "    model = tf.keras.Model(inputs=X, outputs=Y_pred)\n",
    "\n",
    "    return model"
   ]
  },
  {
   "cell_type": "code",
   "execution_count": 23,
   "metadata": {},
   "outputs": [],
   "source": [
    "def lr_schedule(epoch):\n",
    "    initial_lr = 2e-4\n",
    "    if epoch < 10:\n",
    "        return initial_lr #2e-4\n",
    "    elif epoch >= 10 and epoch < 30:\n",
    "        return initial_lr / 2e0 #1e-4\n",
    "    elif epoch >= 30 and epoch < 40:\n",
    "        return initial_lr #2e-4\n",
    "    elif epoch >= 40 and epoch < 50:\n",
    "        return initial_lr / 2e0 #1e-4\n",
    "    elif epoch >= 50 and epoch < 60:\n",
    "        return initial_lr / 4e0 #5e-5\n",
    "    elif epoch >= 60 and epoch < 80:\n",
    "        return initial_lr / 2e1 #1e-5\n",
    "    elif epoch >= 80 and epoch < 90:\n",
    "        return initial_lr / 2e2 #1e-6\n",
    "    else:\n",
    "        return initial_lr / 2e3 #1e-7"
   ]
  },
  {
   "cell_type": "code",
   "execution_count": 24,
   "metadata": {},
   "outputs": [],
   "source": [
    "def load_compiled_automap_model():\n",
    "    multi_gpu = False\n",
    "    if multi_gpu:\n",
    "        # Distribute training across GPUs (each GPU receives identical updates to weights but different batches w/\n",
    "        # mirrored strategy). Restricts callbacks we can use\n",
    "        mirrored_strategy = tf.distribute.MirroredStrategy()\n",
    "        with mirrored_strategy.scope():\n",
    "            model = load_uncompiled_automap_model()\n",
    "            optimizer = tf.keras.optimizers.Adam()\n",
    "            model.compile(loss='mse', optimizer=optimizer, metrics=[mean_PSNR])\n",
    "    else:\n",
    "        model = load_uncompiled_automap_model()\n",
    "        optimizer = tf.keras.optimizers.Adam()\n",
    "        model.compile(loss='mse', optimizer=optimizer, metrics=[mean_PSNR])\n",
    "    return model"
   ]
  },
  {
   "cell_type": "code",
   "execution_count": 25,
   "metadata": {},
   "outputs": [],
   "source": [
    "model = load_compiled_automap_model()"
   ]
  },
  {
   "cell_type": "code",
   "execution_count": 26,
   "metadata": {
    "scrolled": false
   },
   "outputs": [
    {
     "name": "stdout",
     "output_type": "stream",
     "text": [
      "Model: \"model\"\n",
      "_________________________________________________________________\n",
      "Layer (type)                 Output Shape              Param #   \n",
      "=================================================================\n",
      "input_1 (InputLayer)         [(None, 128, 128, 2)]     0         \n",
      "_________________________________________________________________\n",
      "conv2d (Conv2D)              (None, 128, 128, 128)     2432      \n",
      "_________________________________________________________________\n",
      "average_pooling2d (AveragePo (None, 64, 64, 128)       0         \n",
      "_________________________________________________________________\n",
      "conv2d_1 (Conv2D)            (None, 64, 64, 128)       147584    \n",
      "_________________________________________________________________\n",
      "average_pooling2d_1 (Average (None, 32, 32, 128)       0         \n",
      "_________________________________________________________________\n",
      "conv2d_2 (Conv2D)            (None, 32, 32, 128)       147584    \n",
      "_________________________________________________________________\n",
      "average_pooling2d_2 (Average (None, 16, 16, 128)       0         \n",
      "_________________________________________________________________\n",
      "conv2d_3 (Conv2D)            (None, 16, 16, 256)       295168    \n",
      "_________________________________________________________________\n",
      "average_pooling2d_3 (Average (None, 8, 8, 256)         0         \n",
      "_________________________________________________________________\n",
      "conv2d_4 (Conv2D)            (None, 8, 8, 256)         590080    \n",
      "_________________________________________________________________\n",
      "average_pooling2d_4 (Average (None, 4, 4, 256)         0         \n",
      "_________________________________________________________________\n",
      "conv2d_5 (Conv2D)            (None, 4, 4, 256)         262400    \n",
      "_________________________________________________________________\n",
      "conv2d_6 (Conv2D)            (None, 4, 4, 512)         524800    \n",
      "_________________________________________________________________\n",
      "conv2d_7 (Conv2D)            (None, 4, 4, 256)         524544    \n",
      "_________________________________________________________________\n",
      "conv2d_transpose (Conv2DTran (None, 8, 8, 128)         295040    \n",
      "_________________________________________________________________\n",
      "conv2d_transpose_1 (Conv2DTr (None, 16, 16, 128)       147584    \n",
      "_________________________________________________________________\n",
      "conv2d_transpose_2 (Conv2DTr (None, 32, 32, 128)       147584    \n",
      "_________________________________________________________________\n",
      "conv2d_transpose_3 (Conv2DTr (None, 64, 64, 128)       147584    \n",
      "_________________________________________________________________\n",
      "conv2d_transpose_4 (Conv2DTr (None, 128, 128, 128)     147584    \n",
      "_________________________________________________________________\n",
      "conv2d_transpose_5 (Conv2DTr (None, 128, 128, 128)     409728    \n",
      "_________________________________________________________________\n",
      "conv2d_transpose_6 (Conv2DTr (None, 128, 128, 1)       6273      \n",
      "=================================================================\n",
      "Total params: 3,795,969\n",
      "Trainable params: 3,795,969\n",
      "Non-trainable params: 0\n",
      "_________________________________________________________________\n"
     ]
    }
   ],
   "source": [
    "model.summary()"
   ]
  },
  {
   "cell_type": "markdown",
   "metadata": {},
   "source": [
    "# Training"
   ]
  },
  {
   "cell_type": "code",
   "execution_count": 27,
   "metadata": {},
   "outputs": [],
   "source": [
    "# Show reconstructions during training\n",
    "\n",
    "def plot_fft_reconstructions(batch, logs):\n",
    "    plot_frequency = 2500\n",
    "    \n",
    "    if batch % plot_frequency != 0:\n",
    "        return\n",
    "    \n",
    "    for dataset_batch, name in first_batches():\n",
    "        x, y = dataset_batch\n",
    "        y = y.numpy()\n",
    "        y_pred = model.predict(x)\n",
    "\n",
    "        with file_writer.as_default():\n",
    "            for i in range(min(len(y), 5)):\n",
    "                prediction, ground_truth = y_pred[i:i + 1, ...], y[i:i + 1, ...]\n",
    "                tf.summary.image(\"{} Image {} (Prediction)\".format(name, i), prediction, max_outputs=1, step=batch)\n",
    "                tf.summary.image(\"{} Image {} (Ground Truth)\".format(name, i), ground_truth, max_outputs=1, step=batch)"
   ]
  },
  {
   "cell_type": "code",
   "execution_count": 28,
   "metadata": {},
   "outputs": [],
   "source": [
    "# Show activation histograms\n",
    "\n",
    "def layer_activations(inputs):\n",
    "    layers = model.layers\n",
    "    names = [l.name for l in layers]\n",
    "    input_tensor = layers[0].input\n",
    "    outputs = [l.output for l in layers]\n",
    "    \n",
    "    get_activations = tf.keras.backend.function(input_tensor, outputs)\n",
    "    activations = get_activations(inputs=inputs)\n",
    "    \n",
    "    return list(zip(names, activations))\n",
    "\n",
    "def plot_activations(batch, logs):\n",
    "    plot_frequency = 2500\n",
    "    \n",
    "    if batch % plot_frequency != 0:\n",
    "        return\n",
    "\n",
    "    with file_writer.as_default():\n",
    "        for dataset_batch, stage in first_batches():\n",
    "            for layer_name, layer_activation in layer_activations(dataset_batch):\n",
    "                tf.summary.histogram('{}/activations/{}'.format(layer_name, stage.lower()), layer_activation,\n",
    "                                    step=batch)\n"
   ]
  },
  {
   "cell_type": "code",
   "execution_count": 29,
   "metadata": {},
   "outputs": [],
   "source": [
    "# Clear logs and models if necessary\n",
    "# !rm -r /home/ubuntu/cs230/logs/\n",
    "# !rm -r /home/ubuntu/cs230/models"
   ]
  },
  {
   "cell_type": "code",
   "execution_count": 30,
   "metadata": {},
   "outputs": [],
   "source": [
    "# Define where logs will be saved\n",
    "\n",
    "logdir = os.path.join('/home/ubuntu/cs230/logs', datetime.now().strftime(\"%Y-%m-%d_%H:%M:%S\"))\n",
    "file_writer = tf.summary.create_file_writer(os.path.join(logdir, 'metrics'))"
   ]
  },
  {
   "cell_type": "markdown",
   "metadata": {},
   "source": [
    "### Callbacks to use in various stages of training"
   ]
  },
  {
   "cell_type": "code",
   "execution_count": 31,
   "metadata": {},
   "outputs": [],
   "source": [
    "# Callback for printing the LR at the end of each epoch.\n",
    "\n",
    "class PrintAndLogLR(tf.keras.callbacks.Callback):\n",
    "    def on_epoch_end(self, epoch, logs=None):\n",
    "        with file_writer.as_default():\n",
    "            current_lr = model.optimizer.lr.numpy()\n",
    "            tf.summary.scalar('learning rate', data=current_lr, step=epoch)\n",
    "        print('\\nLearning rate for epoch {} is {}'.format(epoch + 1, current_lr))\n",
    "\n",
    "plot_images_callback = tf.keras.callbacks.LambdaCallback(on_batch_end=plot_fft_reconstructions)\n",
    "\n",
    "plot_activations_callback = tf.keras.callbacks.LambdaCallback(on_batch_end=plot_activations)\n",
    "\n",
    "tensorboard_callback = tf.keras.callbacks.TensorBoard(log_dir=logdir, histogram_freq=1, update_freq=2500,\n",
    "                                                      profile_batch=0) # workaround for: https://github.com/tensorflow/tensorboard/issues/2084\n",
    "\n",
    "set_lr_callback = tf.keras.callbacks.LearningRateScheduler(lr_schedule)\n",
    "\n",
    "reduce_lr_callback = tf.keras.callbacks.ReduceLROnPlateau(monitor='val_loss', factor=0.25,\n",
    "                              patience=2, min_lr=1e-8)\n",
    "\n",
    "# Callback for checkpointing model\n",
    "\n",
    "# include the epoch in the file name. (uses `str.format`)\n",
    "checkpoint_path = os.path.join('/home/ubuntu/cs230/models/automap_fastmri',\n",
    "                               datetime.now().strftime(\"%Y-%m-%d_%H:%M:%S\"),\n",
    "                               'cp-{epoch:04d}.ckpt')\n",
    "checkpoint_dir = os.path.dirname(checkpoint_path)\n",
    "checkpoint_callback = tf.keras.callbacks.ModelCheckpoint(\n",
    "    checkpoint_path, verbose=1, save_weights_only=True,\n",
    "    # Save every K-batches\n",
    "    save_freq=int(5e5))\n",
    "model.save_weights(checkpoint_path.format(epoch=0))\n",
    "\n",
    "callbacks = [tensorboard_callback, plot_images_callback, plot_activations_callback,\n",
    "             set_lr_callback, reduce_lr_callback, PrintAndLogLR(), checkpoint_callback]"
   ]
  },
  {
   "cell_type": "markdown",
   "metadata": {},
   "source": [
    "### Begin training and open Tensorboard to monitor"
   ]
  },
  {
   "cell_type": "code",
   "execution_count": 32,
   "metadata": {
    "scrolled": true
   },
   "outputs": [
    {
     "name": "stdout",
     "output_type": "stream",
     "text": [
      "Epoch 1/150\n",
      "      1/Unknown - 9s 9s/step - loss: 0.0841 - mean_PSNR: 11.1226"
     ]
    },
    {
     "name": "stderr",
     "output_type": "stream",
     "text": [
      "WARNING: Logging before flag parsing goes to stderr.\n",
      "W0607 00:49:29.186155 140152698894080 callbacks.py:241] Method (on_train_batch_end) is slow compared to the batch update (1.568418). Check your callbacks.\n"
     ]
    },
    {
     "name": "stdout",
     "output_type": "stream",
     "text": [
      "   2172/Unknown - 122s 56ms/step - loss: 0.0211 - mean_PSNR: 17.7878\n",
      "Learning rate for epoch 1 is 0.00019999999494757503\n",
      "2172/2172 [==============================] - 138s 63ms/step - loss: 0.0211 - mean_PSNR: 17.7878 - val_loss: 0.0000e+00 - val_mean_PSNR: 0.0000e+00\n",
      "Epoch 2/150\n"
     ]
    },
    {
     "name": "stderr",
     "output_type": "stream",
     "text": [
      "W0607 00:51:41.255025 140152698894080 callbacks.py:241] Method (on_train_batch_end) is slow compared to the batch update (2.575857). Check your callbacks.\n"
     ]
    },
    {
     "name": "stdout",
     "output_type": "stream",
     "text": [
      "\r",
      "   1/2172 [..............................] - ETA: 1:45:00 - loss: 0.0196 - mean_PSNR: 17.8046"
     ]
    },
    {
     "name": "stderr",
     "output_type": "stream",
     "text": [
      "W0607 00:51:41.307886 140152698894080 callbacks.py:241] Method (on_train_batch_end) is slow compared to the batch update (1.287951). Check your callbacks.\n"
     ]
    },
    {
     "name": "stdout",
     "output_type": "stream",
     "text": [
      " 265/2172 [==>...........................] - ETA: 1:59 - loss: 0.0150 - mean_PSNR: 18.8583"
     ]
    },
    {
     "name": "stderr",
     "output_type": "stream",
     "text": [
      "W0607 00:53:51.857223 140152698894080 callbacks.py:241] Method (on_train_batch_end) is slow compared to the batch update (2.769245). Check your callbacks.\n"
     ]
    },
    {
     "name": "stdout",
     "output_type": "stream",
     "text": [
      "\r",
      "   1/2172 [..............................] - ETA: 1:51:36 - loss: 0.0164 - mean_PSNR: 18.5142"
     ]
    },
    {
     "name": "stderr",
     "output_type": "stream",
     "text": [
      "W0607 00:53:51.910762 140152698894080 callbacks.py:241] Method (on_train_batch_end) is slow compared to the batch update (1.384659). Check your callbacks.\n"
     ]
    },
    {
     "name": "stdout",
     "output_type": "stream",
     "text": [
      "2171/2172 [============================>.] - ETA: 0s - loss: 0.0114 - mean_PSNR: 19.9892\n",
      "Learning rate for epoch 3 is 0.00019999999494757503\n",
      "2172/2172 [==============================] - 130s 60ms/step - loss: 0.0114 - mean_PSNR: 19.9892 - val_loss: 0.0118 - val_mean_PSNR: 19.8397\n",
      "Epoch 4/150\n"
     ]
    },
    {
     "name": "stderr",
     "output_type": "stream",
     "text": [
      "W0607 00:56:01.577374 140152698894080 callbacks.py:241] Method (on_train_batch_end) is slow compared to the batch update (2.613749). Check your callbacks.\n"
     ]
    },
    {
     "name": "stdout",
     "output_type": "stream",
     "text": [
      "\r",
      "   1/2172 [..............................] - ETA: 1:46:01 - loss: 0.0135 - mean_PSNR: 19.3561"
     ]
    },
    {
     "name": "stderr",
     "output_type": "stream",
     "text": [
      "W0607 00:56:01.630009 140152698894080 callbacks.py:241] Method (on_train_batch_end) is slow compared to the batch update (1.306902). Check your callbacks.\n"
     ]
    },
    {
     "name": "stdout",
     "output_type": "stream",
     "text": [
      " 854/2172 [==========>...................] - ETA: 1:12 - loss: 0.0107 - mean_PSNR: 20.2628"
     ]
    },
    {
     "name": "stderr",
     "output_type": "stream",
     "text": [
      "IOPub message rate exceeded.\n",
      "The notebook server will temporarily stop sending output\n",
      "to the client in order to avoid crashing it.\n",
      "To change this limit, set the config variable\n",
      "`--NotebookApp.iopub_msg_rate_limit`.\n",
      "\n",
      "Current values:\n",
      "NotebookApp.iopub_msg_rate_limit=1000.0 (msgs/sec)\n",
      "NotebookApp.rate_limit_window=3.0 (secs)\n",
      "\n"
     ]
    },
    {
     "name": "stdout",
     "output_type": "stream",
     "text": [
      "2170/2172 [============================>.] - ETA: 0s - loss: 0.0093 - mean_PSNR: 20.8670\n",
      "Learning rate for epoch 6 is 0.00019999999494757503\n",
      "2172/2172 [==============================] - 128s 59ms/step - loss: 0.0093 - mean_PSNR: 20.8666 - val_loss: 0.0101 - val_mean_PSNR: 20.5149\n",
      "Epoch 7/150\n"
     ]
    },
    {
     "name": "stderr",
     "output_type": "stream",
     "text": [
      "W0607 01:02:29.936073 140152698894080 callbacks.py:241] Method (on_train_batch_end) is slow compared to the batch update (2.605006). Check your callbacks.\n"
     ]
    },
    {
     "name": "stdout",
     "output_type": "stream",
     "text": [
      "\r",
      "   1/2172 [..............................] - ETA: 1:45:29 - loss: 0.0111 - mean_PSNR: 20.1065"
     ]
    },
    {
     "name": "stderr",
     "output_type": "stream",
     "text": [
      "W0607 01:02:29.988018 140152698894080 callbacks.py:241] Method (on_train_batch_end) is slow compared to the batch update (1.302526). Check your callbacks.\n"
     ]
    },
    {
     "name": "stdout",
     "output_type": "stream",
     "text": [
      "1240/2172 [================>.............] - ETA: 49s - loss: 0.0089 - mean_PSNR: 21.0372"
     ]
    },
    {
     "name": "stderr",
     "output_type": "stream",
     "text": [
      "IOPub message rate exceeded.\n",
      "The notebook server will temporarily stop sending output\n",
      "to the client in order to avoid crashing it.\n",
      "To change this limit, set the config variable\n",
      "`--NotebookApp.iopub_msg_rate_limit`.\n",
      "\n",
      "Current values:\n",
      "NotebookApp.iopub_msg_rate_limit=1000.0 (msgs/sec)\n",
      "NotebookApp.rate_limit_window=3.0 (secs)\n",
      "\n"
     ]
    },
    {
     "name": "stdout",
     "output_type": "stream",
     "text": [
      "2171/2172 [============================>.] - ETA: 0s - loss: 0.0083 - mean_PSNR: 21.3541\n",
      "Learning rate for epoch 9 is 0.00019999999494757503\n",
      "2172/2172 [==============================] - 129s 60ms/step - loss: 0.0083 - mean_PSNR: 21.3541 - val_loss: 0.0093 - val_mean_PSNR: 20.8722\n",
      "Epoch 10/150\n"
     ]
    },
    {
     "name": "stderr",
     "output_type": "stream",
     "text": [
      "W0607 01:08:55.442574 140152698894080 callbacks.py:241] Method (on_train_batch_end) is slow compared to the batch update (2.677105). Check your callbacks.\n"
     ]
    },
    {
     "name": "stdout",
     "output_type": "stream",
     "text": [
      "\r",
      "   1/2172 [..............................] - ETA: 1:48:02 - loss: 0.0096 - mean_PSNR: 20.6690"
     ]
    },
    {
     "name": "stderr",
     "output_type": "stream",
     "text": [
      "W0607 01:08:55.495108 140152698894080 callbacks.py:241] Method (on_train_batch_end) is slow compared to the batch update (1.338574). Check your callbacks.\n"
     ]
    },
    {
     "name": "stdout",
     "output_type": "stream",
     "text": [
      "2080/2172 [===========================>..] - ETA: 4s - loss: 0.0080 - mean_PSNR: 21.4732"
     ]
    },
    {
     "name": "stderr",
     "output_type": "stream",
     "text": [
      "IOPub message rate exceeded.\n",
      "The notebook server will temporarily stop sending output\n",
      "to the client in order to avoid crashing it.\n",
      "To change this limit, set the config variable\n",
      "`--NotebookApp.iopub_msg_rate_limit`.\n",
      "\n",
      "Current values:\n",
      "NotebookApp.iopub_msg_rate_limit=1000.0 (msgs/sec)\n",
      "NotebookApp.rate_limit_window=3.0 (secs)\n",
      "\n"
     ]
    },
    {
     "name": "stdout",
     "output_type": "stream",
     "text": [
      "2171/2172 [============================>.] - ETA: 0s - loss: 0.0075 - mean_PSNR: 21.7993\n",
      "Learning rate for epoch 12 is 9.999999747378752e-05\n",
      "2172/2172 [==============================] - 128s 59ms/step - loss: 0.0075 - mean_PSNR: 21.7993 - val_loss: 0.0087 - val_mean_PSNR: 21.1386\n",
      "Epoch 13/150\n"
     ]
    },
    {
     "name": "stderr",
     "output_type": "stream",
     "text": [
      "W0607 01:15:21.799381 140152698894080 callbacks.py:241] Method (on_train_batch_end) is slow compared to the batch update (2.698711). Check your callbacks.\n"
     ]
    },
    {
     "name": "stdout",
     "output_type": "stream",
     "text": [
      "\r",
      "   1/2172 [..............................] - ETA: 1:48:53 - loss: 0.0086 - mean_PSNR: 21.0938"
     ]
    },
    {
     "name": "stderr",
     "output_type": "stream",
     "text": [
      "W0607 01:15:21.851959 140152698894080 callbacks.py:241] Method (on_train_batch_end) is slow compared to the batch update (1.349379). Check your callbacks.\n"
     ]
    },
    {
     "name": "stdout",
     "output_type": "stream",
     "text": [
      "2171/2172 [============================>.] - ETA: 0s - loss: 0.0073 - mean_PSNR: 21.8895\n",
      "Learning rate for epoch 13 is 9.999999747378752e-05\n",
      "2172/2172 [==============================] - 128s 59ms/step - loss: 0.0073 - mean_PSNR: 21.8895 - val_loss: 0.0087 - val_mean_PSNR: 21.1643\n",
      "Epoch 14/150\n"
     ]
    },
    {
     "name": "stderr",
     "output_type": "stream",
     "text": [
      "W0607 01:17:29.585703 140152698894080 callbacks.py:241] Method (on_train_batch_end) is slow compared to the batch update (2.549781). Check your callbacks.\n"
     ]
    },
    {
     "name": "stdout",
     "output_type": "stream",
     "text": [
      "\r",
      "   1/2172 [..............................] - ETA: 1:44:19 - loss: 0.0084 - mean_PSNR: 21.2191"
     ]
    },
    {
     "name": "stderr",
     "output_type": "stream",
     "text": [
      "W0607 01:17:29.638526 140152698894080 callbacks.py:241] Method (on_train_batch_end) is slow compared to the batch update (1.274912). Check your callbacks.\n"
     ]
    },
    {
     "name": "stdout",
     "output_type": "stream",
     "text": [
      " 845/2172 [==========>...................] - ETA: 1:12 - loss: 0.0072 - mean_PSNR: 21.9927"
     ]
    },
    {
     "name": "stderr",
     "output_type": "stream",
     "text": [
      "IOPub message rate exceeded.\n",
      "The notebook server will temporarily stop sending output\n",
      "to the client in order to avoid crashing it.\n",
      "To change this limit, set the config variable\n",
      "`--NotebookApp.iopub_msg_rate_limit`.\n",
      "\n",
      "Current values:\n",
      "NotebookApp.iopub_msg_rate_limit=1000.0 (msgs/sec)\n",
      "NotebookApp.rate_limit_window=3.0 (secs)\n",
      "\n"
     ]
    },
    {
     "name": "stdout",
     "output_type": "stream",
     "text": [
      "2171/2172 [============================>.] - ETA: 0s - loss: 0.0070 - mean_PSNR: 22.1060\n",
      "Learning rate for epoch 16 is 9.999999747378752e-05\n",
      "2172/2172 [==============================] - 129s 60ms/step - loss: 0.0070 - mean_PSNR: 22.1061 - val_loss: 0.0085 - val_mean_PSNR: 21.2529\n",
      "Epoch 17/150\n"
     ]
    },
    {
     "name": "stderr",
     "output_type": "stream",
     "text": [
      "W0607 01:23:54.681464 140152698894080 callbacks.py:241] Method (on_train_batch_end) is slow compared to the batch update (2.704294). Check your callbacks.\n"
     ]
    },
    {
     "name": "stdout",
     "output_type": "stream",
     "text": [
      "\r",
      "   1/2172 [..............................] - ETA: 1:48:53 - loss: 0.0077 - mean_PSNR: 21.5227"
     ]
    },
    {
     "name": "stderr",
     "output_type": "stream",
     "text": [
      "W0607 01:23:54.733966 140152698894080 callbacks.py:241] Method (on_train_batch_end) is slow compared to the batch update (1.352175). Check your callbacks.\n"
     ]
    },
    {
     "name": "stdout",
     "output_type": "stream",
     "text": [
      "1728/2172 [======================>.......] - ETA: 23s - loss: 0.0069 - mean_PSNR: 22.1787"
     ]
    },
    {
     "name": "stderr",
     "output_type": "stream",
     "text": [
      "IOPub message rate exceeded.\n",
      "The notebook server will temporarily stop sending output\n",
      "to the client in order to avoid crashing it.\n",
      "To change this limit, set the config variable\n",
      "`--NotebookApp.iopub_msg_rate_limit`.\n",
      "\n",
      "Current values:\n",
      "NotebookApp.iopub_msg_rate_limit=1000.0 (msgs/sec)\n",
      "NotebookApp.rate_limit_window=3.0 (secs)\n",
      "\n"
     ]
    },
    {
     "name": "stdout",
     "output_type": "stream",
     "text": [
      "2171/2172 [============================>.] - ETA: 0s - loss: 0.0068 - mean_PSNR: 22.2367\n",
      "Learning rate for epoch 19 is 2.499999936844688e-05\n",
      "2172/2172 [==============================] - 129s 59ms/step - loss: 0.0068 - mean_PSNR: 22.2367 - val_loss: 0.0086 - val_mean_PSNR: 21.2171\n",
      "Epoch 20/150\n"
     ]
    },
    {
     "name": "stderr",
     "output_type": "stream",
     "text": [
      "W0607 01:30:22.572548 140152698894080 callbacks.py:241] Method (on_train_batch_end) is slow compared to the batch update (2.577843). Check your callbacks.\n"
     ]
    },
    {
     "name": "stdout",
     "output_type": "stream",
     "text": [
      "\r",
      "   1/2172 [..............................] - ETA: 1:44:15 - loss: 0.0076 - mean_PSNR: 21.5688"
     ]
    },
    {
     "name": "stderr",
     "output_type": "stream",
     "text": [
      "W0607 01:30:22.624483 140152698894080 callbacks.py:241] Method (on_train_batch_end) is slow compared to the batch update (1.288943). Check your callbacks.\n"
     ]
    },
    {
     "name": "stdout",
     "output_type": "stream",
     "text": [
      "1971/2172 [==========================>...] - ETA: 10s - loss: 0.0067 - mean_PSNR: 22.2854"
     ]
    },
    {
     "name": "stderr",
     "output_type": "stream",
     "text": [
      "IOPub message rate exceeded.\n",
      "The notebook server will temporarily stop sending output\n",
      "to the client in order to avoid crashing it.\n",
      "To change this limit, set the config variable\n",
      "`--NotebookApp.iopub_msg_rate_limit`.\n",
      "\n",
      "Current values:\n",
      "NotebookApp.iopub_msg_rate_limit=1000.0 (msgs/sec)\n",
      "NotebookApp.rate_limit_window=3.0 (secs)\n",
      "\n"
     ]
    },
    {
     "name": "stdout",
     "output_type": "stream",
     "text": [
      "2170/2172 [============================>.] - ETA: 0s - loss: 0.0065 - mean_PSNR: 22.4033\n",
      "Learning rate for epoch 22 is 9.999999747378752e-05\n",
      "2172/2172 [==============================] - 129s 59ms/step - loss: 0.0065 - mean_PSNR: 22.4029 - val_loss: 0.0085 - val_mean_PSNR: 21.2320\n",
      "Epoch 23/150\n"
     ]
    },
    {
     "name": "stderr",
     "output_type": "stream",
     "text": [
      "W0607 01:36:46.904622 140152698894080 callbacks.py:241] Method (on_train_batch_end) is slow compared to the batch update (2.672469). Check your callbacks.\n"
     ]
    },
    {
     "name": "stdout",
     "output_type": "stream",
     "text": [
      "\r",
      "   1/2172 [..............................] - ETA: 1:47:53 - loss: 0.0071 - mean_PSNR: 21.8169"
     ]
    },
    {
     "name": "stderr",
     "output_type": "stream",
     "text": [
      "W0607 01:36:46.957291 140152698894080 callbacks.py:241] Method (on_train_batch_end) is slow compared to the batch update (1.336269). Check your callbacks.\n"
     ]
    },
    {
     "name": "stdout",
     "output_type": "stream",
     "text": [
      "2171/2172 [============================>.] - ETA: 0s - loss: 0.0064 - mean_PSNR: 22.4535\n",
      "Learning rate for epoch 23 is 2.499999936844688e-05\n",
      "2172/2172 [==============================] - 128s 59ms/step - loss: 0.0064 - mean_PSNR: 22.4535 - val_loss: 0.0085 - val_mean_PSNR: 21.2564\n",
      "Epoch 24/150\n"
     ]
    },
    {
     "name": "stderr",
     "output_type": "stream",
     "text": [
      "W0607 01:38:55.444606 140152698894080 callbacks.py:241] Method (on_train_batch_end) is slow compared to the batch update (2.722855). Check your callbacks.\n"
     ]
    },
    {
     "name": "stdout",
     "output_type": "stream",
     "text": [
      "\r",
      "   1/2172 [..............................] - ETA: 1:49:33 - loss: 0.0070 - mean_PSNR: 21.9036"
     ]
    },
    {
     "name": "stderr",
     "output_type": "stream",
     "text": [
      "W0607 01:38:55.496456 140152698894080 callbacks.py:241] Method (on_train_batch_end) is slow compared to the batch update (1.361452). Check your callbacks.\n"
     ]
    },
    {
     "name": "stdout",
     "output_type": "stream",
     "text": [
      " 729/2172 [=========>....................] - ETA: 1:19 - loss: 0.0064 - mean_PSNR: 22.5416"
     ]
    },
    {
     "name": "stderr",
     "output_type": "stream",
     "text": [
      "IOPub message rate exceeded.\n",
      "The notebook server will temporarily stop sending output\n",
      "to the client in order to avoid crashing it.\n",
      "To change this limit, set the config variable\n",
      "`--NotebookApp.iopub_msg_rate_limit`.\n",
      "\n",
      "Current values:\n",
      "NotebookApp.iopub_msg_rate_limit=1000.0 (msgs/sec)\n",
      "NotebookApp.rate_limit_window=3.0 (secs)\n",
      "\n"
     ]
    },
    {
     "name": "stdout",
     "output_type": "stream",
     "text": [
      "2170/2172 [============================>.] - ETA: 0s - loss: 0.0064 - mean_PSNR: 22.4917\n",
      "Learning rate for epoch 26 is 9.999999747378752e-05\n",
      "2172/2172 [==============================] - 129s 60ms/step - loss: 0.0064 - mean_PSNR: 22.4914 - val_loss: 0.0084 - val_mean_PSNR: 21.3059\n",
      "Epoch 27/150\n"
     ]
    },
    {
     "name": "stderr",
     "output_type": "stream",
     "text": [
      "W0607 01:45:22.399819 140152698894080 callbacks.py:241] Method (on_train_batch_end) is slow compared to the batch update (2.632276). Check your callbacks.\n"
     ]
    },
    {
     "name": "stdout",
     "output_type": "stream",
     "text": [
      "\r",
      "   1/2172 [..............................] - ETA: 1:46:14 - loss: 0.0067 - mean_PSNR: 22.0617"
     ]
    },
    {
     "name": "stderr",
     "output_type": "stream",
     "text": [
      "W0607 01:45:22.451601 140152698894080 callbacks.py:241] Method (on_train_batch_end) is slow compared to the batch update (1.316163). Check your callbacks.\n"
     ]
    },
    {
     "name": "stdout",
     "output_type": "stream",
     "text": [
      "1579/2172 [====================>.........] - ETA: 31s - loss: 0.0062 - mean_PSNR: 22.6054"
     ]
    },
    {
     "name": "stderr",
     "output_type": "stream",
     "text": [
      "IOPub message rate exceeded.\n",
      "The notebook server will temporarily stop sending output\n",
      "to the client in order to avoid crashing it.\n",
      "To change this limit, set the config variable\n",
      "`--NotebookApp.iopub_msg_rate_limit`.\n",
      "\n",
      "Current values:\n",
      "NotebookApp.iopub_msg_rate_limit=1000.0 (msgs/sec)\n",
      "NotebookApp.rate_limit_window=3.0 (secs)\n",
      "\n"
     ]
    },
    {
     "name": "stdout",
     "output_type": "stream",
     "text": [
      "1701/2172 [======================>.......] - ETA: 25s - loss: 0.0061 - mean_PSNR: 22.7147\n",
      "Epoch 00029: saving model to /home/ubuntu/cs230/models/automap_fastmri/2019-06-07_00:49:20/cp-0029.ckpt\n",
      "2171/2172 [============================>.] - ETA: 0s - loss: 0.0061 - mean_PSNR: 22.7032\n",
      "Learning rate for epoch 29 is 9.999999747378752e-05\n",
      "2172/2172 [==============================] - 130s 60ms/step - loss: 0.0061 - mean_PSNR: 22.7032 - val_loss: 0.0085 - val_mean_PSNR: 21.2519\n",
      "Epoch 30/150\n"
     ]
    },
    {
     "name": "stderr",
     "output_type": "stream",
     "text": [
      "W0607 01:51:49.178697 140152698894080 callbacks.py:241] Method (on_train_batch_end) is slow compared to the batch update (2.625079). Check your callbacks.\n"
     ]
    },
    {
     "name": "stdout",
     "output_type": "stream",
     "text": [
      "\r",
      "   1/2172 [..............................] - ETA: 1:46:27 - loss: 0.0065 - mean_PSNR: 22.1874"
     ]
    },
    {
     "name": "stderr",
     "output_type": "stream",
     "text": [
      "W0607 01:51:49.231349 140152698894080 callbacks.py:241] Method (on_train_batch_end) is slow compared to the batch update (1.312571). Check your callbacks.\n"
     ]
    },
    {
     "name": "stdout",
     "output_type": "stream",
     "text": [
      "2171/2172 [============================>.] - ETA: 0s - loss: 0.0061 - mean_PSNR: 22.7305\n",
      "Learning rate for epoch 30 is 2.499999936844688e-05\n",
      "2172/2172 [==============================] - 129s 60ms/step - loss: 0.0061 - mean_PSNR: 22.7305 - val_loss: 0.0084 - val_mean_PSNR: 21.3026\n",
      "Epoch 31/150\n"
     ]
    },
    {
     "name": "stderr",
     "output_type": "stream",
     "text": [
      "W0607 01:53:58.537647 140152698894080 callbacks.py:241] Method (on_train_batch_end) is slow compared to the batch update (2.744863). Check your callbacks.\n"
     ]
    },
    {
     "name": "stdout",
     "output_type": "stream",
     "text": [
      "\r",
      "   1/2172 [..............................] - ETA: 1:50:15 - loss: 0.0064 - mean_PSNR: 22.2238"
     ]
    },
    {
     "name": "stderr",
     "output_type": "stream",
     "text": [
      "W0607 01:53:58.590199 140152698894080 callbacks.py:241] Method (on_train_batch_end) is slow compared to the batch update (1.372465). Check your callbacks.\n"
     ]
    },
    {
     "name": "stdout",
     "output_type": "stream",
     "text": [
      " 362/2172 [====>.........................] - ETA: 1:49 - loss: 0.0067 - mean_PSNR: 22.2943"
     ]
    },
    {
     "name": "stderr",
     "output_type": "stream",
     "text": [
      "IOPub message rate exceeded.\n",
      "The notebook server will temporarily stop sending output\n",
      "to the client in order to avoid crashing it.\n",
      "To change this limit, set the config variable\n",
      "`--NotebookApp.iopub_msg_rate_limit`.\n",
      "\n",
      "Current values:\n",
      "NotebookApp.iopub_msg_rate_limit=1000.0 (msgs/sec)\n",
      "NotebookApp.rate_limit_window=3.0 (secs)\n",
      "\n"
     ]
    },
    {
     "name": "stdout",
     "output_type": "stream",
     "text": [
      "2170/2172 [============================>.] - ETA: 0s - loss: 0.0063 - mean_PSNR: 22.5581\n",
      "Learning rate for epoch 33 is 0.00019999999494757503\n",
      "2172/2172 [==============================] - 129s 59ms/step - loss: 0.0063 - mean_PSNR: 22.5576 - val_loss: 0.0087 - val_mean_PSNR: 21.1808\n",
      "Epoch 34/150\n"
     ]
    },
    {
     "name": "stderr",
     "output_type": "stream",
     "text": [
      "W0607 02:00:26.001311 140152698894080 callbacks.py:241] Method (on_train_batch_end) is slow compared to the batch update (2.617768). Check your callbacks.\n"
     ]
    },
    {
     "name": "stdout",
     "output_type": "stream",
     "text": [
      "\r",
      "   1/2172 [..............................] - ETA: 1:45:45 - loss: 0.0068 - mean_PSNR: 21.9854"
     ]
    },
    {
     "name": "stderr",
     "output_type": "stream",
     "text": [
      "W0607 02:00:26.053666 140152698894080 callbacks.py:241] Method (on_train_batch_end) is slow compared to the batch update (1.308918). Check your callbacks.\n"
     ]
    },
    {
     "name": "stdout",
     "output_type": "stream",
     "text": [
      "1201/2172 [===============>..............] - ETA: 51s - loss: 0.0062 - mean_PSNR: 22.5872"
     ]
    },
    {
     "name": "stderr",
     "output_type": "stream",
     "text": [
      "IOPub message rate exceeded.\n",
      "The notebook server will temporarily stop sending output\n",
      "to the client in order to avoid crashing it.\n",
      "To change this limit, set the config variable\n",
      "`--NotebookApp.iopub_msg_rate_limit`.\n",
      "\n",
      "Current values:\n",
      "NotebookApp.iopub_msg_rate_limit=1000.0 (msgs/sec)\n",
      "NotebookApp.rate_limit_window=3.0 (secs)\n",
      "\n"
     ]
    },
    {
     "name": "stdout",
     "output_type": "stream",
     "text": [
      "2171/2172 [============================>.] - ETA: 0s - loss: 0.0062 - mean_PSNR: 22.6242\n",
      "Learning rate for epoch 36 is 4.999999873689376e-05\n",
      "2172/2172 [==============================] - 129s 59ms/step - loss: 0.0062 - mean_PSNR: 22.6242 - val_loss: 0.0085 - val_mean_PSNR: 21.2677\n",
      "Epoch 37/150\n"
     ]
    },
    {
     "name": "stderr",
     "output_type": "stream",
     "text": [
      "W0607 02:06:52.039625 140152698894080 callbacks.py:241] Method (on_train_batch_end) is slow compared to the batch update (2.728016). Check your callbacks.\n"
     ]
    },
    {
     "name": "stdout",
     "output_type": "stream",
     "text": [
      "\r",
      "   1/2172 [..............................] - ETA: 1:49:58 - loss: 0.0066 - mean_PSNR: 22.0933"
     ]
    },
    {
     "name": "stderr",
     "output_type": "stream",
     "text": [
      "W0607 02:06:52.092230 140152698894080 callbacks.py:241] Method (on_train_batch_end) is slow compared to the batch update (1.364031). Check your callbacks.\n"
     ]
    },
    {
     "name": "stdout",
     "output_type": "stream",
     "text": [
      "1388/2172 [==================>...........] - ETA: 41s - loss: 0.0061 - mean_PSNR: 22.7035"
     ]
    },
    {
     "name": "stderr",
     "output_type": "stream",
     "text": [
      "IOPub message rate exceeded.\n",
      "The notebook server will temporarily stop sending output\n",
      "to the client in order to avoid crashing it.\n",
      "To change this limit, set the config variable\n",
      "`--NotebookApp.iopub_msg_rate_limit`.\n",
      "\n",
      "Current values:\n",
      "NotebookApp.iopub_msg_rate_limit=1000.0 (msgs/sec)\n",
      "NotebookApp.rate_limit_window=3.0 (secs)\n",
      "\n"
     ]
    },
    {
     "name": "stdout",
     "output_type": "stream",
     "text": [
      "2171/2172 [============================>.] - ETA: 0s - loss: 0.0061 - mean_PSNR: 22.7150\n",
      "Learning rate for epoch 39 is 0.00019999999494757503\n",
      "2172/2172 [==============================] - 129s 59ms/step - loss: 0.0061 - mean_PSNR: 22.7151 - val_loss: 0.0086 - val_mean_PSNR: 21.2139\n",
      "Epoch 40/150\n"
     ]
    },
    {
     "name": "stderr",
     "output_type": "stream",
     "text": [
      "W0607 02:13:18.865025 140152698894080 callbacks.py:241] Method (on_train_batch_end) is slow compared to the batch update (2.705731). Check your callbacks.\n"
     ]
    },
    {
     "name": "stdout",
     "output_type": "stream",
     "text": [
      "\r",
      "   1/2172 [..............................] - ETA: 1:48:59 - loss: 0.0065 - mean_PSNR: 22.1633"
     ]
    },
    {
     "name": "stderr",
     "output_type": "stream",
     "text": [
      "W0607 02:13:18.917351 140152698894080 callbacks.py:241] Method (on_train_batch_end) is slow compared to the batch update (1.352888). Check your callbacks.\n"
     ]
    },
    {
     "name": "stdout",
     "output_type": "stream",
     "text": [
      "1994/2172 [==========================>...] - ETA: 9s - loss: 0.0060 - mean_PSNR: 22.7486"
     ]
    },
    {
     "name": "stderr",
     "output_type": "stream",
     "text": [
      "IOPub message rate exceeded.\n",
      "The notebook server will temporarily stop sending output\n",
      "to the client in order to avoid crashing it.\n",
      "To change this limit, set the config variable\n",
      "`--NotebookApp.iopub_msg_rate_limit`.\n",
      "\n",
      "Current values:\n",
      "NotebookApp.iopub_msg_rate_limit=1000.0 (msgs/sec)\n",
      "NotebookApp.rate_limit_window=3.0 (secs)\n",
      "\n"
     ]
    },
    {
     "name": "stdout",
     "output_type": "stream",
     "text": [
      "2171/2172 [============================>.] - ETA: 0s - loss: 0.0057 - mean_PSNR: 23.0336\n",
      "Learning rate for epoch 42 is 9.999999747378752e-05\n",
      "2172/2172 [==============================] - 130s 60ms/step - loss: 0.0057 - mean_PSNR: 23.0336 - val_loss: 0.0083 - val_mean_PSNR: 21.3687\n",
      "Epoch 43/150\n"
     ]
    },
    {
     "name": "stderr",
     "output_type": "stream",
     "text": [
      "W0607 02:19:45.182772 140152698894080 callbacks.py:241] Method (on_train_batch_end) is slow compared to the batch update (2.597716). Check your callbacks.\n"
     ]
    },
    {
     "name": "stdout",
     "output_type": "stream",
     "text": [
      "\r",
      "   1/2172 [..............................] - ETA: 1:45:05 - loss: 0.0057 - mean_PSNR: 22.6516"
     ]
    },
    {
     "name": "stderr",
     "output_type": "stream",
     "text": [
      "W0607 02:19:45.234756 140152698894080 callbacks.py:241] Method (on_train_batch_end) is slow compared to the batch update (1.298889). Check your callbacks.\n"
     ]
    },
    {
     "name": "stdout",
     "output_type": "stream",
     "text": [
      "2170/2172 [============================>.] - ETA: 0s - loss: 0.0056 - mean_PSNR: 23.1045\n",
      "Learning rate for epoch 43 is 2.499999936844688e-05\n",
      "2172/2172 [==============================] - 129s 60ms/step - loss: 0.0056 - mean_PSNR: 23.1042 - val_loss: 0.0083 - val_mean_PSNR: 21.3641\n",
      "Epoch 44/150\n"
     ]
    },
    {
     "name": "stderr",
     "output_type": "stream",
     "text": [
      "W0607 02:21:54.760754 140152698894080 callbacks.py:241] Method (on_train_batch_end) is slow compared to the batch update (2.781740). Check your callbacks.\n"
     ]
    },
    {
     "name": "stdout",
     "output_type": "stream",
     "text": [
      "\r",
      "   1/2172 [..............................] - ETA: 1:51:38 - loss: 0.0056 - mean_PSNR: 22.7394"
     ]
    },
    {
     "name": "stderr",
     "output_type": "stream",
     "text": [
      "W0607 02:21:54.813781 140152698894080 callbacks.py:241] Method (on_train_batch_end) is slow compared to the batch update (1.390904). Check your callbacks.\n"
     ]
    },
    {
     "name": "stdout",
     "output_type": "stream",
     "text": [
      " 381/2172 [====>.........................] - ETA: 1:47 - loss: 0.0055 - mean_PSNR: 23.1921\n",
      "Epoch 00044: saving model to /home/ubuntu/cs230/models/automap_fastmri/2019-06-07_00:49:20/cp-0044.ckpt\n",
      " 408/2172 [====>.........................] - ETA: 1:44 - loss: 0.0055 - mean_PSNR: 23.1705"
     ]
    },
    {
     "name": "stderr",
     "output_type": "stream",
     "text": [
      "IOPub message rate exceeded.\n",
      "The notebook server will temporarily stop sending output\n",
      "to the client in order to avoid crashing it.\n",
      "To change this limit, set the config variable\n",
      "`--NotebookApp.iopub_msg_rate_limit`.\n",
      "\n",
      "Current values:\n",
      "NotebookApp.iopub_msg_rate_limit=1000.0 (msgs/sec)\n",
      "NotebookApp.rate_limit_window=3.0 (secs)\n",
      "\n"
     ]
    },
    {
     "name": "stdout",
     "output_type": "stream",
     "text": [
      "2171/2172 [============================>.] - ETA: 0s - loss: 0.0055 - mean_PSNR: 23.2148\n",
      "Learning rate for epoch 46 is 9.999999747378752e-05\n",
      "2172/2172 [==============================] - 129s 59ms/step - loss: 0.0055 - mean_PSNR: 23.2149 - val_loss: 0.0084 - val_mean_PSNR: 21.3493\n",
      "Epoch 47/150\n"
     ]
    },
    {
     "name": "stderr",
     "output_type": "stream",
     "text": [
      "W0607 02:28:19.879648 140152698894080 callbacks.py:241] Method (on_train_batch_end) is slow compared to the batch update (2.739701). Check your callbacks.\n"
     ]
    },
    {
     "name": "stdout",
     "output_type": "stream",
     "text": [
      "\r",
      "   1/2172 [..............................] - ETA: 1:50:22 - loss: 0.0055 - mean_PSNR: 22.8391"
     ]
    },
    {
     "name": "stderr",
     "output_type": "stream",
     "text": [
      "W0607 02:28:19.931921 140152698894080 callbacks.py:241] Method (on_train_batch_end) is slow compared to the batch update (1.369878). Check your callbacks.\n"
     ]
    },
    {
     "name": "stdout",
     "output_type": "stream",
     "text": [
      "1271/2172 [================>.............] - ETA: 48s - loss: 0.0054 - mean_PSNR: 23.2661"
     ]
    },
    {
     "name": "stderr",
     "output_type": "stream",
     "text": [
      "IOPub message rate exceeded.\n",
      "The notebook server will temporarily stop sending output\n",
      "to the client in order to avoid crashing it.\n",
      "To change this limit, set the config variable\n",
      "`--NotebookApp.iopub_msg_rate_limit`.\n",
      "\n",
      "Current values:\n",
      "NotebookApp.iopub_msg_rate_limit=1000.0 (msgs/sec)\n",
      "NotebookApp.rate_limit_window=3.0 (secs)\n",
      "\n"
     ]
    },
    {
     "name": "stdout",
     "output_type": "stream",
     "text": [
      "2171/2172 [============================>.] - ETA: 0s - loss: 0.0055 - mean_PSNR: 23.1927\n",
      "Learning rate for epoch 49 is 2.499999936844688e-05\n",
      "2172/2172 [==============================] - 130s 60ms/step - loss: 0.0055 - mean_PSNR: 23.1927 - val_loss: 0.0083 - val_mean_PSNR: 21.3690\n",
      "Epoch 50/150\n"
     ]
    },
    {
     "name": "stderr",
     "output_type": "stream",
     "text": [
      "W0607 02:34:47.815170 140152698894080 callbacks.py:241] Method (on_train_batch_end) is slow compared to the batch update (2.617982). Check your callbacks.\n"
     ]
    },
    {
     "name": "stdout",
     "output_type": "stream",
     "text": [
      "\r",
      "   1/2172 [..............................] - ETA: 1:45:44 - loss: 0.0055 - mean_PSNR: 22.8811"
     ]
    },
    {
     "name": "stderr",
     "output_type": "stream",
     "text": [
      "W0607 02:34:47.867093 140152698894080 callbacks.py:241] Method (on_train_batch_end) is slow compared to the batch update (1.309019). Check your callbacks.\n"
     ]
    },
    {
     "name": "stdout",
     "output_type": "stream",
     "text": [
      "2165/2172 [============================>.] - ETA: 0s - loss: 0.0054 - mean_PSNR: 23.2755"
     ]
    },
    {
     "name": "stderr",
     "output_type": "stream",
     "text": [
      "IOPub message rate exceeded.\n",
      "The notebook server will temporarily stop sending output\n",
      "to the client in order to avoid crashing it.\n",
      "To change this limit, set the config variable\n",
      "`--NotebookApp.iopub_msg_rate_limit`.\n",
      "\n",
      "Current values:\n",
      "NotebookApp.iopub_msg_rate_limit=1000.0 (msgs/sec)\n",
      "NotebookApp.rate_limit_window=3.0 (secs)\n",
      "\n"
     ]
    },
    {
     "name": "stdout",
     "output_type": "stream",
     "text": [
      "2171/2172 [============================>.] - ETA: 0s - loss: 0.0053 - mean_PSNR: 23.3579\n",
      "Learning rate for epoch 52 is 4.999999873689376e-05\n",
      "2172/2172 [==============================] - 128s 59ms/step - loss: 0.0053 - mean_PSNR: 23.3579 - val_loss: 0.0082 - val_mean_PSNR: 21.4030\n",
      "Epoch 53/150\n"
     ]
    },
    {
     "name": "stderr",
     "output_type": "stream",
     "text": [
      "W0607 02:41:14.299703 140152698894080 callbacks.py:241] Method (on_train_batch_end) is slow compared to the batch update (2.697168). Check your callbacks.\n"
     ]
    },
    {
     "name": "stdout",
     "output_type": "stream",
     "text": [
      "\r",
      "   1/2172 [..............................] - ETA: 1:48:42 - loss: 0.0053 - mean_PSNR: 22.9546"
     ]
    },
    {
     "name": "stderr",
     "output_type": "stream",
     "text": [
      "W0607 02:41:14.352076 140152698894080 callbacks.py:241] Method (on_train_batch_end) is slow compared to the batch update (1.348610). Check your callbacks.\n"
     ]
    },
    {
     "name": "stdout",
     "output_type": "stream",
     "text": [
      "2171/2172 [============================>.] - ETA: 0s - loss: 0.0053 - mean_PSNR: 23.4025\n",
      "Learning rate for epoch 53 is 1.249999968422344e-05\n",
      "2172/2172 [==============================] - 129s 59ms/step - loss: 0.0053 - mean_PSNR: 23.4025 - val_loss: 0.0083 - val_mean_PSNR: 21.3982\n",
      "Epoch 54/150\n"
     ]
    },
    {
     "name": "stderr",
     "output_type": "stream",
     "text": [
      "W0607 02:43:23.351728 140152698894080 callbacks.py:241] Method (on_train_batch_end) is slow compared to the batch update (2.623471). Check your callbacks.\n"
     ]
    },
    {
     "name": "stdout",
     "output_type": "stream",
     "text": [
      "\r",
      "   1/2172 [..............................] - ETA: 1:46:29 - loss: 0.0053 - mean_PSNR: 22.9977"
     ]
    },
    {
     "name": "stderr",
     "output_type": "stream",
     "text": [
      "W0607 02:43:23.404648 140152698894080 callbacks.py:241] Method (on_train_batch_end) is slow compared to the batch update (1.311757). Check your callbacks.\n"
     ]
    },
    {
     "name": "stdout",
     "output_type": "stream",
     "text": [
      " 711/2172 [========>.....................] - ETA: 1:21 - loss: 0.0052 - mean_PSNR: 23.5236"
     ]
    },
    {
     "name": "stderr",
     "output_type": "stream",
     "text": [
      "IOPub message rate exceeded.\n",
      "The notebook server will temporarily stop sending output\n",
      "to the client in order to avoid crashing it.\n",
      "To change this limit, set the config variable\n",
      "`--NotebookApp.iopub_msg_rate_limit`.\n",
      "\n",
      "Current values:\n",
      "NotebookApp.iopub_msg_rate_limit=1000.0 (msgs/sec)\n",
      "NotebookApp.rate_limit_window=3.0 (secs)\n",
      "\n"
     ]
    },
    {
     "name": "stdout",
     "output_type": "stream",
     "text": [
      "2171/2172 [============================>.] - ETA: 0s - loss: 0.0052 - mean_PSNR: 23.4669\n",
      "Learning rate for epoch 55 is 1.249999968422344e-05\n",
      "2172/2172 [==============================] - 129s 60ms/step - loss: 0.0052 - mean_PSNR: 23.4669 - val_loss: 0.0083 - val_mean_PSNR: 21.3909\n",
      "Epoch 56/150\n"
     ]
    },
    {
     "name": "stderr",
     "output_type": "stream",
     "text": [
      "W0607 02:47:40.918370 140152698894080 callbacks.py:241] Method (on_train_batch_end) is slow compared to the batch update (2.779455). Check your callbacks.\n"
     ]
    },
    {
     "name": "stdout",
     "output_type": "stream",
     "text": [
      "\r",
      "   1/2172 [..............................] - ETA: 1:52:00 - loss: 0.0052 - mean_PSNR: 23.0594"
     ]
    },
    {
     "name": "stderr",
     "output_type": "stream",
     "text": [
      "W0607 02:47:40.970903 140152698894080 callbacks.py:241] Method (on_train_batch_end) is slow compared to the batch update (1.389761). Check your callbacks.\n"
     ]
    },
    {
     "name": "stdout",
     "output_type": "stream",
     "text": [
      "2171/2172 [============================>.] - ETA: 0s - loss: 0.0052 - mean_PSNR: 23.4924\n",
      "Learning rate for epoch 56 is 4.999999873689376e-05\n",
      "2172/2172 [==============================] - 130s 60ms/step - loss: 0.0052 - mean_PSNR: 23.4924 - val_loss: 0.0083 - val_mean_PSNR: 21.3889\n",
      "Epoch 57/150\n"
     ]
    },
    {
     "name": "stderr",
     "output_type": "stream",
     "text": [
      "W0607 02:49:50.929105 140152698894080 callbacks.py:241] Method (on_train_batch_end) is slow compared to the batch update (2.717014). Check your callbacks.\n"
     ]
    },
    {
     "name": "stdout",
     "output_type": "stream",
     "text": [
      "\r",
      "   1/2172 [..............................] - ETA: 1:49:26 - loss: 0.0052 - mean_PSNR: 23.0926"
     ]
    },
    {
     "name": "stderr",
     "output_type": "stream",
     "text": [
      "W0607 02:49:50.981503 140152698894080 callbacks.py:241] Method (on_train_batch_end) is slow compared to the batch update (1.358541). Check your callbacks.\n"
     ]
    },
    {
     "name": "stdout",
     "output_type": "stream",
     "text": [
      " 842/2172 [==========>...................] - ETA: 1:13 - loss: 0.0050 - mean_PSNR: 23.6292"
     ]
    },
    {
     "name": "stderr",
     "output_type": "stream",
     "text": [
      "IOPub message rate exceeded.\n",
      "The notebook server will temporarily stop sending output\n",
      "to the client in order to avoid crashing it.\n",
      "To change this limit, set the config variable\n",
      "`--NotebookApp.iopub_msg_rate_limit`.\n",
      "\n",
      "Current values:\n",
      "NotebookApp.iopub_msg_rate_limit=1000.0 (msgs/sec)\n",
      "NotebookApp.rate_limit_window=3.0 (secs)\n",
      "\n"
     ]
    },
    {
     "name": "stdout",
     "output_type": "stream",
     "text": [
      "2171/2172 [============================>.] - ETA: 0s - loss: 0.0051 - mean_PSNR: 23.5537\n",
      "Learning rate for epoch 59 is 1.249999968422344e-05\n",
      "2172/2172 [==============================] - 127s 59ms/step - loss: 0.0051 - mean_PSNR: 23.5537 - val_loss: 0.0083 - val_mean_PSNR: 21.3805\n",
      "Epoch 60/150\n"
     ]
    },
    {
     "name": "stderr",
     "output_type": "stream",
     "text": [
      "W0607 02:56:15.380089 140152698894080 callbacks.py:241] Method (on_train_batch_end) is slow compared to the batch update (2.712873). Check your callbacks.\n"
     ]
    },
    {
     "name": "stdout",
     "output_type": "stream",
     "text": [
      "\r",
      "   1/2172 [..............................] - ETA: 1:49:08 - loss: 0.0051 - mean_PSNR: 23.1743"
     ]
    },
    {
     "name": "stderr",
     "output_type": "stream",
     "text": [
      "W0607 02:56:15.431772 140152698894080 callbacks.py:241] Method (on_train_batch_end) is slow compared to the batch update (1.356458). Check your callbacks.\n"
     ]
    },
    {
     "name": "stdout",
     "output_type": "stream",
     "text": [
      "1639/2172 [=====================>........] - ETA: 28s - loss: 0.0051 - mean_PSNR: 23.5841"
     ]
    },
    {
     "name": "stderr",
     "output_type": "stream",
     "text": [
      "IOPub message rate exceeded.\n",
      "The notebook server will temporarily stop sending output\n",
      "to the client in order to avoid crashing it.\n",
      "To change this limit, set the config variable\n",
      "`--NotebookApp.iopub_msg_rate_limit`.\n",
      "\n",
      "Current values:\n",
      "NotebookApp.iopub_msg_rate_limit=1000.0 (msgs/sec)\n",
      "NotebookApp.rate_limit_window=3.0 (secs)\n",
      "\n"
     ]
    },
    {
     "name": "stdout",
     "output_type": "stream",
     "text": [
      "2171/2172 [============================>.] - ETA: 0s - loss: 0.0051 - mean_PSNR: 23.5384\n",
      "Learning rate for epoch 62 is 9.999999747378752e-06\n",
      "2172/2172 [==============================] - 129s 60ms/step - loss: 0.0051 - mean_PSNR: 23.5384 - val_loss: 0.0083 - val_mean_PSNR: 21.4128\n",
      "Epoch 63/150\n"
     ]
    },
    {
     "name": "stderr",
     "output_type": "stream",
     "text": [
      "W0607 03:02:43.050676 140152698894080 callbacks.py:241] Method (on_train_batch_end) is slow compared to the batch update (2.587770). Check your callbacks.\n"
     ]
    },
    {
     "name": "stdout",
     "output_type": "stream",
     "text": [
      "\r",
      "   1/2172 [..............................] - ETA: 1:44:49 - loss: 0.0051 - mean_PSNR: 23.1873"
     ]
    },
    {
     "name": "stderr",
     "output_type": "stream",
     "text": [
      "W0607 03:02:43.103070 140152698894080 callbacks.py:241] Method (on_train_batch_end) is slow compared to the batch update (1.293923). Check your callbacks.\n"
     ]
    },
    {
     "name": "stdout",
     "output_type": "stream",
     "text": [
      "2171/2172 [============================>.] - ETA: 0s - loss: 0.0051 - mean_PSNR: 23.5553\n",
      "Learning rate for epoch 63 is 2.499999936844688e-06\n",
      "2172/2172 [==============================] - 129s 60ms/step - loss: 0.0051 - mean_PSNR: 23.5553 - val_loss: 0.0083 - val_mean_PSNR: 21.4124\n",
      "Epoch 64/150\n"
     ]
    },
    {
     "name": "stderr",
     "output_type": "stream",
     "text": [
      "W0607 03:04:52.384334 140152698894080 callbacks.py:241] Method (on_train_batch_end) is slow compared to the batch update (2.562950). Check your callbacks.\n"
     ]
    },
    {
     "name": "stdout",
     "output_type": "stream",
     "text": [
      "\r",
      "   1/2172 [..............................] - ETA: 1:43:47 - loss: 0.0050 - mean_PSNR: 23.2086"
     ]
    },
    {
     "name": "stderr",
     "output_type": "stream",
     "text": [
      "W0607 03:04:52.437052 140152698894080 callbacks.py:241] Method (on_train_batch_end) is slow compared to the batch update (1.281504). Check your callbacks.\n"
     ]
    },
    {
     "name": "stdout",
     "output_type": "stream",
     "text": [
      " 380/2172 [====>.........................] - ETA: 1:46 - loss: 0.0051 - mean_PSNR: 23.6163"
     ]
    },
    {
     "name": "stderr",
     "output_type": "stream",
     "text": [
      "IOPub message rate exceeded.\n",
      "The notebook server will temporarily stop sending output\n",
      "to the client in order to avoid crashing it.\n",
      "To change this limit, set the config variable\n",
      "`--NotebookApp.iopub_msg_rate_limit`.\n",
      "\n",
      "Current values:\n",
      "NotebookApp.iopub_msg_rate_limit=1000.0 (msgs/sec)\n",
      "NotebookApp.rate_limit_window=3.0 (secs)\n",
      "\n"
     ]
    },
    {
     "name": "stdout",
     "output_type": "stream",
     "text": [
      "2171/2172 [============================>.] - ETA: 0s - loss: 0.0051 - mean_PSNR: 23.5905\n",
      "Learning rate for epoch 66 is 9.999999747378752e-06\n",
      "2172/2172 [==============================] - 128s 59ms/step - loss: 0.0051 - mean_PSNR: 23.5905 - val_loss: 0.0083 - val_mean_PSNR: 21.4100\n",
      "Epoch 67/150\n"
     ]
    },
    {
     "name": "stderr",
     "output_type": "stream",
     "text": [
      "W0607 03:11:18.894600 140152698894080 callbacks.py:241] Method (on_train_batch_end) is slow compared to the batch update (2.702756). Check your callbacks.\n"
     ]
    },
    {
     "name": "stdout",
     "output_type": "stream",
     "text": [
      "\r",
      "   1/2172 [..............................] - ETA: 1:49:09 - loss: 0.0050 - mean_PSNR: 23.2530"
     ]
    },
    {
     "name": "stderr",
     "output_type": "stream",
     "text": [
      "W0607 03:11:18.947047 140152698894080 callbacks.py:241] Method (on_train_batch_end) is slow compared to the batch update (1.351399). Check your callbacks.\n"
     ]
    },
    {
     "name": "stdout",
     "output_type": "stream",
     "text": [
      "1290/2172 [================>.............] - ETA: 46s - loss: 0.0050 - mean_PSNR: 23.6357"
     ]
    },
    {
     "name": "stderr",
     "output_type": "stream",
     "text": [
      "IOPub message rate exceeded.\n",
      "The notebook server will temporarily stop sending output\n",
      "to the client in order to avoid crashing it.\n",
      "To change this limit, set the config variable\n",
      "`--NotebookApp.iopub_msg_rate_limit`.\n",
      "\n",
      "Current values:\n",
      "NotebookApp.iopub_msg_rate_limit=1000.0 (msgs/sec)\n",
      "NotebookApp.rate_limit_window=3.0 (secs)\n",
      "\n"
     ]
    },
    {
     "name": "stdout",
     "output_type": "stream",
     "text": [
      "2171/2172 [============================>.] - ETA: 0s - loss: 0.0050 - mean_PSNR: 23.6164\n",
      "Learning rate for epoch 69 is 2.499999936844688e-06\n",
      "2172/2172 [==============================] - 129s 59ms/step - loss: 0.0050 - mean_PSNR: 23.6164 - val_loss: 0.0083 - val_mean_PSNR: 21.4078\n",
      "Epoch 70/150\n"
     ]
    },
    {
     "name": "stderr",
     "output_type": "stream",
     "text": [
      "W0607 03:17:44.760465 140152698894080 callbacks.py:241] Method (on_train_batch_end) is slow compared to the batch update (2.621362). Check your callbacks.\n"
     ]
    },
    {
     "name": "stdout",
     "output_type": "stream",
     "text": [
      "\r",
      "   1/2172 [..............................] - ETA: 1:46:02 - loss: 0.0050 - mean_PSNR: 23.2897"
     ]
    },
    {
     "name": "stderr",
     "output_type": "stream",
     "text": [
      "W0607 03:17:44.813170 140152698894080 callbacks.py:241] Method (on_train_batch_end) is slow compared to the batch update (1.310716). Check your callbacks.\n"
     ]
    },
    {
     "name": "stdout",
     "output_type": "stream",
     "text": [
      "2169/2172 [============================>.] - ETA: 0s - loss: 0.0050 - mean_PSNR: 23.6244"
     ]
    },
    {
     "name": "stderr",
     "output_type": "stream",
     "text": [
      "IOPub message rate exceeded.\n",
      "The notebook server will temporarily stop sending output\n",
      "to the client in order to avoid crashing it.\n",
      "To change this limit, set the config variable\n",
      "`--NotebookApp.iopub_msg_rate_limit`.\n",
      "\n",
      "Current values:\n",
      "NotebookApp.iopub_msg_rate_limit=1000.0 (msgs/sec)\n",
      "NotebookApp.rate_limit_window=3.0 (secs)\n",
      "\n"
     ]
    },
    {
     "name": "stdout",
     "output_type": "stream",
     "text": [
      "2171/2172 [============================>.] - ETA: 0s - loss: 0.0050 - mean_PSNR: 23.6448\n",
      "Learning rate for epoch 73 is 2.499999936844688e-06\n",
      "2172/2172 [==============================] - 129s 59ms/step - loss: 0.0050 - mean_PSNR: 23.6447 - val_loss: 0.0083 - val_mean_PSNR: 21.4037\n",
      "Epoch 74/150\n"
     ]
    },
    {
     "name": "stderr",
     "output_type": "stream",
     "text": [
      "W0607 03:26:16.884094 140152698894080 callbacks.py:241] Method (on_train_batch_end) is slow compared to the batch update (2.810694). Check your callbacks.\n"
     ]
    },
    {
     "name": "stdout",
     "output_type": "stream",
     "text": [
      "\r",
      "   1/2172 [..............................] - ETA: 1:52:46 - loss: 0.0049 - mean_PSNR: 23.3273"
     ]
    },
    {
     "name": "stderr",
     "output_type": "stream",
     "text": [
      "W0607 03:26:16.936455 140152698894080 callbacks.py:241] Method (on_train_batch_end) is slow compared to the batch update (1.405380). Check your callbacks.\n"
     ]
    },
    {
     "name": "stdout",
     "output_type": "stream",
     "text": [
      " 865/2172 [==========>...................] - ETA: 1:11 - loss: 0.0049 - mean_PSNR: 23.7578"
     ]
    },
    {
     "name": "stderr",
     "output_type": "stream",
     "text": [
      "IOPub message rate exceeded.\n",
      "The notebook server will temporarily stop sending output\n",
      "to the client in order to avoid crashing it.\n",
      "To change this limit, set the config variable\n",
      "`--NotebookApp.iopub_msg_rate_limit`.\n",
      "\n",
      "Current values:\n",
      "NotebookApp.iopub_msg_rate_limit=1000.0 (msgs/sec)\n",
      "NotebookApp.rate_limit_window=3.0 (secs)\n",
      "\n"
     ]
    },
    {
     "name": "stdout",
     "output_type": "stream",
     "text": [
      "2171/2172 [============================>.] - ETA: 0s - loss: 0.0050 - mean_PSNR: 23.6632\n",
      "Learning rate for epoch 76 is 9.999999747378752e-06\n",
      "2172/2172 [==============================] - 128s 59ms/step - loss: 0.0050 - mean_PSNR: 23.6632 - val_loss: 0.0083 - val_mean_PSNR: 21.4004\n",
      "Epoch 77/150\n"
     ]
    },
    {
     "name": "stderr",
     "output_type": "stream",
     "text": [
      "W0607 03:32:42.201000 140152698894080 callbacks.py:241] Method (on_train_batch_end) is slow compared to the batch update (2.623109). Check your callbacks.\n"
     ]
    },
    {
     "name": "stdout",
     "output_type": "stream",
     "text": [
      "\r",
      "   1/2172 [..............................] - ETA: 1:46:07 - loss: 0.0049 - mean_PSNR: 23.3522"
     ]
    },
    {
     "name": "stderr",
     "output_type": "stream",
     "text": [
      "W0607 03:32:42.253612 140152698894080 callbacks.py:241] Method (on_train_batch_end) is slow compared to the batch update (1.311588). Check your callbacks.\n"
     ]
    },
    {
     "name": "stdout",
     "output_type": "stream",
     "text": [
      "1648/2172 [=====================>........] - ETA: 27s - loss: 0.0050 - mean_PSNR: 23.6792"
     ]
    },
    {
     "name": "stderr",
     "output_type": "stream",
     "text": [
      "IOPub message rate exceeded.\n",
      "The notebook server will temporarily stop sending output\n",
      "to the client in order to avoid crashing it.\n",
      "To change this limit, set the config variable\n",
      "`--NotebookApp.iopub_msg_rate_limit`.\n",
      "\n",
      "Current values:\n",
      "NotebookApp.iopub_msg_rate_limit=1000.0 (msgs/sec)\n",
      "NotebookApp.rate_limit_window=3.0 (secs)\n",
      "\n"
     ]
    },
    {
     "name": "stdout",
     "output_type": "stream",
     "text": [
      "2171/2172 [============================>.] - ETA: 0s - loss: 0.0050 - mean_PSNR: 23.6799\n",
      "Learning rate for epoch 79 is 2.499999936844688e-06\n",
      "2172/2172 [==============================] - 128s 59ms/step - loss: 0.0050 - mean_PSNR: 23.6799 - val_loss: 0.0083 - val_mean_PSNR: 21.3972\n",
      "Epoch 80/150\n"
     ]
    },
    {
     "name": "stderr",
     "output_type": "stream",
     "text": [
      "W0607 03:39:05.232578 140152698894080 callbacks.py:241] Method (on_train_batch_end) is slow compared to the batch update (2.596391). Check your callbacks.\n"
     ]
    },
    {
     "name": "stdout",
     "output_type": "stream",
     "text": [
      "\r",
      "   1/2172 [..............................] - ETA: 1:45:04 - loss: 0.0049 - mean_PSNR: 23.3718"
     ]
    },
    {
     "name": "stderr",
     "output_type": "stream",
     "text": [
      "W0607 03:39:05.284614 140152698894080 callbacks.py:241] Method (on_train_batch_end) is slow compared to the batch update (1.298217). Check your callbacks.\n"
     ]
    },
    {
     "name": "stdout",
     "output_type": "stream",
     "text": [
      "2171/2172 [============================>.] - ETA: 0s - loss: 0.0050 - mean_PSNR: 23.6853\n",
      "Learning rate for epoch 80 is 9.999999747378752e-06\n",
      "2172/2172 [==============================] - 130s 60ms/step - loss: 0.0050 - mean_PSNR: 23.6852 - val_loss: 0.0083 - val_mean_PSNR: 21.3961\n",
      "Epoch 81/150\n"
     ]
    },
    {
     "name": "stderr",
     "output_type": "stream",
     "text": [
      "W0607 03:41:15.133048 140152698894080 callbacks.py:241] Method (on_train_batch_end) is slow compared to the batch update (2.848748). Check your callbacks.\n"
     ]
    },
    {
     "name": "stdout",
     "output_type": "stream",
     "text": [
      "\r",
      "   1/2172 [..............................] - ETA: 1:54:05 - loss: 0.0049 - mean_PSNR: 23.3776"
     ]
    },
    {
     "name": "stderr",
     "output_type": "stream",
     "text": [
      "W0607 03:41:15.185739 140152698894080 callbacks.py:241] Method (on_train_batch_end) is slow compared to the batch update (1.424398). Check your callbacks.\n"
     ]
    },
    {
     "name": "stdout",
     "output_type": "stream",
     "text": [
      " 345/2172 [===>..........................] - ETA: 1:50 - loss: 0.0051 - mean_PSNR: 23.5712"
     ]
    },
    {
     "name": "stderr",
     "output_type": "stream",
     "text": [
      "IOPub message rate exceeded.\n",
      "The notebook server will temporarily stop sending output\n",
      "to the client in order to avoid crashing it.\n",
      "To change this limit, set the config variable\n",
      "`--NotebookApp.iopub_msg_rate_limit`.\n",
      "\n",
      "Current values:\n",
      "NotebookApp.iopub_msg_rate_limit=1000.0 (msgs/sec)\n",
      "NotebookApp.rate_limit_window=3.0 (secs)\n",
      "\n"
     ]
    },
    {
     "name": "stdout",
     "output_type": "stream",
     "text": [
      "2171/2172 [============================>.] - ETA: 0s - loss: 0.0052 - mean_PSNR: 23.4617\n",
      "Learning rate for epoch 82 is 9.999999974752427e-07\n",
      "2172/2172 [==============================] - 129s 59ms/step - loss: 0.0052 - mean_PSNR: 23.4617 - val_loss: 0.0082 - val_mean_PSNR: 21.4653\n",
      "Epoch 83/150\n"
     ]
    },
    {
     "name": "stderr",
     "output_type": "stream",
     "text": [
      "W0607 03:45:32.492939 140152698894080 callbacks.py:241] Method (on_train_batch_end) is slow compared to the batch update (2.712196). Check your callbacks.\n"
     ]
    },
    {
     "name": "stdout",
     "output_type": "stream",
     "text": [
      "\r",
      "   1/2172 [..............................] - ETA: 1:49:25 - loss: 0.0051 - mean_PSNR: 23.1873"
     ]
    },
    {
     "name": "stderr",
     "output_type": "stream",
     "text": [
      "W0607 03:45:32.544990 140152698894080 callbacks.py:241] Method (on_train_batch_end) is slow compared to the batch update (1.356121). Check your callbacks.\n"
     ]
    },
    {
     "name": "stdout",
     "output_type": "stream",
     "text": [
      "2171/2172 [============================>.] - ETA: 0s - loss: 0.0052 - mean_PSNR: 23.4628\n",
      "Learning rate for epoch 83 is 9.999999974752427e-07\n",
      "2172/2172 [==============================] - 129s 60ms/step - loss: 0.0052 - mean_PSNR: 23.4627 - val_loss: 0.0081 - val_mean_PSNR: 21.4672\n",
      "Epoch 84/150\n"
     ]
    },
    {
     "name": "stderr",
     "output_type": "stream",
     "text": [
      "W0607 03:47:41.665726 140152698894080 callbacks.py:241] Method (on_train_batch_end) is slow compared to the batch update (2.609648). Check your callbacks.\n"
     ]
    },
    {
     "name": "stdout",
     "output_type": "stream",
     "text": [
      "\r",
      "   1/2172 [..............................] - ETA: 1:45:25 - loss: 0.0051 - mean_PSNR: 23.1925"
     ]
    },
    {
     "name": "stderr",
     "output_type": "stream",
     "text": [
      "W0607 03:47:41.718456 140152698894080 callbacks.py:241] Method (on_train_batch_end) is slow compared to the batch update (1.304856). Check your callbacks.\n"
     ]
    },
    {
     "name": "stdout",
     "output_type": "stream",
     "text": [
      " 418/2172 [====>.........................] - ETA: 1:42 - loss: 0.0052 - mean_PSNR: 23.4700"
     ]
    },
    {
     "name": "stderr",
     "output_type": "stream",
     "text": [
      "IOPub message rate exceeded.\n",
      "The notebook server will temporarily stop sending output\n",
      "to the client in order to avoid crashing it.\n",
      "To change this limit, set the config variable\n",
      "`--NotebookApp.iopub_msg_rate_limit`.\n",
      "\n",
      "Current values:\n",
      "NotebookApp.iopub_msg_rate_limit=1000.0 (msgs/sec)\n",
      "NotebookApp.rate_limit_window=3.0 (secs)\n",
      "\n"
     ]
    },
    {
     "name": "stdout",
     "output_type": "stream",
     "text": [
      "2171/2172 [============================>.] - ETA: 0s - loss: 0.0052 - mean_PSNR: 23.4858\n",
      "Learning rate for epoch 86 is 2.499999993688107e-07\n",
      "2172/2172 [==============================] - 129s 59ms/step - loss: 0.0052 - mean_PSNR: 23.4857 - val_loss: 0.0082 - val_mean_PSNR: 21.4649\n",
      "Epoch 87/150\n"
     ]
    },
    {
     "name": "stderr",
     "output_type": "stream",
     "text": [
      "W0607 03:54:07.196881 140152698894080 callbacks.py:241] Method (on_train_batch_end) is slow compared to the batch update (2.867508). Check your callbacks.\n"
     ]
    },
    {
     "name": "stdout",
     "output_type": "stream",
     "text": [
      "\r",
      "   1/2172 [..............................] - ETA: 1:54:59 - loss: 0.0050 - mean_PSNR: 23.2183"
     ]
    },
    {
     "name": "stderr",
     "output_type": "stream",
     "text": [
      "W0607 03:54:07.250036 140152698894080 callbacks.py:241] Method (on_train_batch_end) is slow compared to the batch update (1.433789). Check your callbacks.\n"
     ]
    },
    {
     "name": "stdout",
     "output_type": "stream",
     "text": [
      " 763/2172 [=========>....................] - ETA: 1:19 - loss: 0.0051 - mean_PSNR: 23.5869\n",
      "Epoch 00087: saving model to /home/ubuntu/cs230/models/automap_fastmri/2019-06-07_00:49:20/cp-0087.ckpt\n",
      "1272/2172 [================>.............] - ETA: 49s - loss: 0.0051 - mean_PSNR: 23.5358"
     ]
    },
    {
     "name": "stderr",
     "output_type": "stream",
     "text": [
      "IOPub message rate exceeded.\n",
      "The notebook server will temporarily stop sending output\n",
      "to the client in order to avoid crashing it.\n",
      "To change this limit, set the config variable\n",
      "`--NotebookApp.iopub_msg_rate_limit`.\n",
      "\n",
      "Current values:\n",
      "NotebookApp.iopub_msg_rate_limit=1000.0 (msgs/sec)\n",
      "NotebookApp.rate_limit_window=3.0 (secs)\n",
      "\n"
     ]
    },
    {
     "name": "stdout",
     "output_type": "stream",
     "text": [
      "2171/2172 [============================>.] - ETA: 0s - loss: 0.0051 - mean_PSNR: 23.5041\n",
      "Learning rate for epoch 89 is 9.999999974752427e-07\n",
      "2172/2172 [==============================] - 128s 59ms/step - loss: 0.0051 - mean_PSNR: 23.5041 - val_loss: 0.0082 - val_mean_PSNR: 21.4619\n",
      "Epoch 90/150\n"
     ]
    },
    {
     "name": "stderr",
     "output_type": "stream",
     "text": [
      "W0607 04:00:35.347689 140152698894080 callbacks.py:241] Method (on_train_batch_end) is slow compared to the batch update (2.680728). Check your callbacks.\n"
     ]
    },
    {
     "name": "stdout",
     "output_type": "stream",
     "text": [
      "\r",
      "   1/2172 [..............................] - ETA: 1:48:21 - loss: 0.0050 - mean_PSNR: 23.2399"
     ]
    },
    {
     "name": "stderr",
     "output_type": "stream",
     "text": [
      "W0607 04:00:35.400023 140152698894080 callbacks.py:241] Method (on_train_batch_end) is slow compared to the batch update (1.340385). Check your callbacks.\n"
     ]
    },
    {
     "name": "stdout",
     "output_type": "stream",
     "text": [
      "2085/2172 [===========================>..] - ETA: 4s - loss: 0.0052 - mean_PSNR: 23.4927"
     ]
    },
    {
     "name": "stderr",
     "output_type": "stream",
     "text": [
      "IOPub message rate exceeded.\n",
      "The notebook server will temporarily stop sending output\n",
      "to the client in order to avoid crashing it.\n",
      "To change this limit, set the config variable\n",
      "`--NotebookApp.iopub_msg_rate_limit`.\n",
      "\n",
      "Current values:\n",
      "NotebookApp.iopub_msg_rate_limit=1000.0 (msgs/sec)\n",
      "NotebookApp.rate_limit_window=3.0 (secs)\n",
      "\n"
     ]
    },
    {
     "name": "stdout",
     "output_type": "stream",
     "text": [
      "2171/2172 [============================>.] - ETA: 0s - loss: 0.0054 - mean_PSNR: 23.2288\n",
      "Learning rate for epoch 92 is 1.0000000116860974e-07\n",
      "2172/2172 [==============================] - 129s 59ms/step - loss: 0.0054 - mean_PSNR: 23.2288 - val_loss: 0.0080 - val_mean_PSNR: 21.5526\n",
      "Epoch 93/150\n"
     ]
    },
    {
     "name": "stderr",
     "output_type": "stream",
     "text": [
      "W0607 04:07:00.472102 140152698894080 callbacks.py:241] Method (on_train_batch_end) is slow compared to the batch update (2.589050). Check your callbacks.\n"
     ]
    },
    {
     "name": "stdout",
     "output_type": "stream",
     "text": [
      "\r",
      "   1/2172 [..............................] - ETA: 1:44:28 - loss: 0.0052 - mean_PSNR: 23.0971"
     ]
    },
    {
     "name": "stderr",
     "output_type": "stream",
     "text": [
      "W0607 04:07:00.524421 140152698894080 callbacks.py:241] Method (on_train_batch_end) is slow compared to the batch update (1.294557). Check your callbacks.\n"
     ]
    },
    {
     "name": "stdout",
     "output_type": "stream",
     "text": [
      "2171/2172 [============================>.] - ETA: 0s - loss: 0.0054 - mean_PSNR: 23.2546\n",
      "Learning rate for epoch 93 is 2.5000000292152436e-08\n",
      "2172/2172 [==============================] - 129s 60ms/step - loss: 0.0054 - mean_PSNR: 23.2545 - val_loss: 0.0080 - val_mean_PSNR: 21.5596\n",
      "Epoch 94/150\n"
     ]
    },
    {
     "name": "stderr",
     "output_type": "stream",
     "text": [
      "W0607 04:09:10.088368 140152698894080 callbacks.py:241] Method (on_train_batch_end) is slow compared to the batch update (2.742367). Check your callbacks.\n"
     ]
    },
    {
     "name": "stdout",
     "output_type": "stream",
     "text": [
      "\r",
      "   1/2172 [..............................] - ETA: 1:50:31 - loss: 0.0052 - mean_PSNR: 23.0428"
     ]
    },
    {
     "name": "stderr",
     "output_type": "stream",
     "text": [
      "W0607 04:09:10.140026 140152698894080 callbacks.py:241] Method (on_train_batch_end) is slow compared to the batch update (1.371206). Check your callbacks.\n"
     ]
    },
    {
     "name": "stdout",
     "output_type": "stream",
     "text": [
      " 748/2172 [=========>....................] - ETA: 1:18 - loss: 0.0053 - mean_PSNR: 23.3538"
     ]
    },
    {
     "name": "stderr",
     "output_type": "stream",
     "text": [
      "IOPub message rate exceeded.\n",
      "The notebook server will temporarily stop sending output\n",
      "to the client in order to avoid crashing it.\n",
      "To change this limit, set the config variable\n",
      "`--NotebookApp.iopub_msg_rate_limit`.\n",
      "\n",
      "Current values:\n",
      "NotebookApp.iopub_msg_rate_limit=1000.0 (msgs/sec)\n",
      "NotebookApp.rate_limit_window=3.0 (secs)\n",
      "\n"
     ]
    },
    {
     "name": "stdout",
     "output_type": "stream",
     "text": [
      "2171/2172 [============================>.] - ETA: 0s - loss: 0.0054 - mean_PSNR: 23.2737\n",
      "Learning rate for epoch 96 is 1.0000000116860974e-07\n",
      "2172/2172 [==============================] - 127s 59ms/step - loss: 0.0054 - mean_PSNR: 23.2736 - val_loss: 0.0080 - val_mean_PSNR: 21.5669\n",
      "Epoch 97/150\n"
     ]
    },
    {
     "name": "stderr",
     "output_type": "stream",
     "text": [
      "W0607 04:15:34.056226 140152698894080 callbacks.py:241] Method (on_train_batch_end) is slow compared to the batch update (2.556688). Check your callbacks.\n"
     ]
    },
    {
     "name": "stdout",
     "output_type": "stream",
     "text": [
      "\r",
      "   1/2172 [..............................] - ETA: 1:43:48 - loss: 0.0053 - mean_PSNR: 22.9864"
     ]
    },
    {
     "name": "stderr",
     "output_type": "stream",
     "text": [
      "W0607 04:15:34.108757 140152698894080 callbacks.py:241] Method (on_train_batch_end) is slow compared to the batch update (1.278365). Check your callbacks.\n"
     ]
    },
    {
     "name": "stdout",
     "output_type": "stream",
     "text": [
      "1612/2172 [=====================>........] - ETA: 29s - loss: 0.0054 - mean_PSNR: 23.2951"
     ]
    },
    {
     "name": "stderr",
     "output_type": "stream",
     "text": [
      "IOPub message rate exceeded.\n",
      "The notebook server will temporarily stop sending output\n",
      "to the client in order to avoid crashing it.\n",
      "To change this limit, set the config variable\n",
      "`--NotebookApp.iopub_msg_rate_limit`.\n",
      "\n",
      "Current values:\n",
      "NotebookApp.iopub_msg_rate_limit=1000.0 (msgs/sec)\n",
      "NotebookApp.rate_limit_window=3.0 (secs)\n",
      "\n"
     ]
    },
    {
     "name": "stdout",
     "output_type": "stream",
     "text": [
      "2171/2172 [============================>.] - ETA: 0s - loss: 0.0054 - mean_PSNR: 23.2788\n",
      "Learning rate for epoch 99 is 2.5000000292152436e-08\n",
      "2172/2172 [==============================] - 129s 59ms/step - loss: 0.0054 - mean_PSNR: 23.2787 - val_loss: 0.0080 - val_mean_PSNR: 21.5693\n",
      "Epoch 100/150\n"
     ]
    },
    {
     "name": "stderr",
     "output_type": "stream",
     "text": [
      "W0607 04:21:58.624508 140152698894080 callbacks.py:241] Method (on_train_batch_end) is slow compared to the batch update (2.573895). Check your callbacks.\n"
     ]
    },
    {
     "name": "stdout",
     "output_type": "stream",
     "text": [
      "\r",
      "   1/2172 [..............................] - ETA: 1:44:00 - loss: 0.0053 - mean_PSNR: 22.9779"
     ]
    },
    {
     "name": "stderr",
     "output_type": "stream",
     "text": [
      "W0607 04:21:58.676398 140152698894080 callbacks.py:241] Method (on_train_batch_end) is slow compared to the batch update (1.286968). Check your callbacks.\n"
     ]
    },
    {
     "name": "stdout",
     "output_type": "stream",
     "text": [
      "2171/2172 [============================>.] - ETA: 0s - loss: 0.0054 - mean_PSNR: 23.2799\n",
      "Learning rate for epoch 100 is 1.0000000116860974e-07\n",
      "2172/2172 [==============================] - 128s 59ms/step - loss: 0.0054 - mean_PSNR: 23.2798 - val_loss: 0.0080 - val_mean_PSNR: 21.5697\n",
      "Epoch 101/150\n"
     ]
    },
    {
     "name": "stderr",
     "output_type": "stream",
     "text": [
      "W0607 04:24:07.088312 140152698894080 callbacks.py:241] Method (on_train_batch_end) is slow compared to the batch update (2.726119). Check your callbacks.\n"
     ]
    },
    {
     "name": "stdout",
     "output_type": "stream",
     "text": [
      "\r",
      "   1/2172 [..............................] - ETA: 1:49:40 - loss: 0.0053 - mean_PSNR: 22.9773"
     ]
    },
    {
     "name": "stderr",
     "output_type": "stream",
     "text": [
      "W0607 04:24:07.140810 140152698894080 callbacks.py:241] Method (on_train_batch_end) is slow compared to the batch update (1.363092). Check your callbacks.\n"
     ]
    },
    {
     "name": "stdout",
     "output_type": "stream",
     "text": [
      " 340/2172 [===>..........................] - ETA: 1:49 - loss: 0.0053 - mean_PSNR: 23.3457"
     ]
    },
    {
     "name": "stderr",
     "output_type": "stream",
     "text": [
      "IOPub message rate exceeded.\n",
      "The notebook server will temporarily stop sending output\n",
      "to the client in order to avoid crashing it.\n",
      "To change this limit, set the config variable\n",
      "`--NotebookApp.iopub_msg_rate_limit`.\n",
      "\n",
      "Current values:\n",
      "NotebookApp.iopub_msg_rate_limit=1000.0 (msgs/sec)\n",
      "NotebookApp.rate_limit_window=3.0 (secs)\n",
      "\n"
     ]
    },
    {
     "name": "stdout",
     "output_type": "stream",
     "text": [
      "2171/2172 [============================>.] - ETA: 0s - loss: 0.0054 - mean_PSNR: 23.2829\n",
      "Learning rate for epoch 103 is 2.5000000292152436e-08\n",
      "2172/2172 [==============================] - 127s 59ms/step - loss: 0.0054 - mean_PSNR: 23.2828 - val_loss: 0.0080 - val_mean_PSNR: 21.5709\n",
      "Epoch 104/150\n"
     ]
    },
    {
     "name": "stderr",
     "output_type": "stream",
     "text": [
      "W0607 04:30:30.748770 140152698894080 callbacks.py:241] Method (on_train_batch_end) is slow compared to the batch update (2.589909). Check your callbacks.\n"
     ]
    },
    {
     "name": "stdout",
     "output_type": "stream",
     "text": [
      "\r",
      "   1/2172 [..............................] - ETA: 1:44:39 - loss: 0.0053 - mean_PSNR: 22.9775"
     ]
    },
    {
     "name": "stderr",
     "output_type": "stream",
     "text": [
      "W0607 04:30:30.800629 140152698894080 callbacks.py:241] Method (on_train_batch_end) is slow compared to the batch update (1.294976). Check your callbacks.\n"
     ]
    },
    {
     "name": "stdout",
     "output_type": "stream",
     "text": [
      "1196/2172 [===============>..............] - ETA: 52s - loss: 0.0054 - mean_PSNR: 23.3153"
     ]
    },
    {
     "name": "stderr",
     "output_type": "stream",
     "text": [
      "IOPub message rate exceeded.\n",
      "The notebook server will temporarily stop sending output\n",
      "to the client in order to avoid crashing it.\n",
      "To change this limit, set the config variable\n",
      "`--NotebookApp.iopub_msg_rate_limit`.\n",
      "\n",
      "Current values:\n",
      "NotebookApp.iopub_msg_rate_limit=1000.0 (msgs/sec)\n",
      "NotebookApp.rate_limit_window=3.0 (secs)\n",
      "\n"
     ]
    },
    {
     "name": "stdout",
     "output_type": "stream",
     "text": [
      "2171/2172 [============================>.] - ETA: 0s - loss: 0.0054 - mean_PSNR: 23.2854\n",
      "Learning rate for epoch 106 is 1.0000000116860974e-07\n",
      "2172/2172 [==============================] - 129s 59ms/step - loss: 0.0054 - mean_PSNR: 23.2853 - val_loss: 0.0080 - val_mean_PSNR: 21.5716\n",
      "Epoch 107/150\n"
     ]
    },
    {
     "name": "stderr",
     "output_type": "stream",
     "text": [
      "W0607 04:36:55.699399 140152698894080 callbacks.py:241] Method (on_train_batch_end) is slow compared to the batch update (2.606106). Check your callbacks.\n"
     ]
    },
    {
     "name": "stdout",
     "output_type": "stream",
     "text": [
      "\r",
      "   1/2172 [..............................] - ETA: 1:45:16 - loss: 0.0053 - mean_PSNR: 22.9786"
     ]
    },
    {
     "name": "stderr",
     "output_type": "stream",
     "text": [
      "W0607 04:36:55.751607 140152698894080 callbacks.py:241] Method (on_train_batch_end) is slow compared to the batch update (1.303087). Check your callbacks.\n"
     ]
    },
    {
     "name": "stdout",
     "output_type": "stream",
     "text": [
      "2080/2172 [===========================>..] - ETA: 4s - loss: 0.0054 - mean_PSNR: 23.2759"
     ]
    },
    {
     "name": "stderr",
     "output_type": "stream",
     "text": [
      "IOPub message rate exceeded.\n",
      "The notebook server will temporarily stop sending output\n",
      "to the client in order to avoid crashing it.\n",
      "To change this limit, set the config variable\n",
      "`--NotebookApp.iopub_msg_rate_limit`.\n",
      "\n",
      "Current values:\n",
      "NotebookApp.iopub_msg_rate_limit=1000.0 (msgs/sec)\n",
      "NotebookApp.rate_limit_window=3.0 (secs)\n",
      "\n"
     ]
    },
    {
     "name": "stdout",
     "output_type": "stream",
     "text": [
      "2171/2172 [============================>.] - ETA: 0s - loss: 0.0054 - mean_PSNR: 23.2877\n",
      "Learning rate for epoch 109 is 2.5000000292152436e-08\n",
      "2172/2172 [==============================] - 128s 59ms/step - loss: 0.0054 - mean_PSNR: 23.2876 - val_loss: 0.0079 - val_mean_PSNR: 21.5723\n",
      "Epoch 110/150\n"
     ]
    },
    {
     "name": "stderr",
     "output_type": "stream",
     "text": [
      "W0607 04:43:22.102746 140152698894080 callbacks.py:241] Method (on_train_batch_end) is slow compared to the batch update (2.716036). Check your callbacks.\n"
     ]
    },
    {
     "name": "stdout",
     "output_type": "stream",
     "text": [
      "\r",
      "   1/2172 [..............................] - ETA: 1:49:50 - loss: 0.0053 - mean_PSNR: 22.9800"
     ]
    },
    {
     "name": "stderr",
     "output_type": "stream",
     "text": [
      "W0607 04:43:22.154645 140152698894080 callbacks.py:241] Method (on_train_batch_end) is slow compared to the batch update (1.358040). Check your callbacks.\n"
     ]
    },
    {
     "name": "stdout",
     "output_type": "stream",
     "text": [
      "2171/2172 [============================>.] - ETA: 0s - loss: 0.0054 - mean_PSNR: 23.2884\n",
      "Learning rate for epoch 110 is 1.0000000116860974e-07\n",
      "2172/2172 [==============================] - 127s 59ms/step - loss: 0.0054 - mean_PSNR: 23.2883 - val_loss: 0.0079 - val_mean_PSNR: 21.5725\n",
      "Epoch 111/150\n"
     ]
    },
    {
     "name": "stderr",
     "output_type": "stream",
     "text": [
      "W0607 04:45:29.261362 140152698894080 callbacks.py:241] Method (on_train_batch_end) is slow compared to the batch update (2.568837). Check your callbacks.\n"
     ]
    },
    {
     "name": "stdout",
     "output_type": "stream",
     "text": [
      "\r",
      "   1/2172 [..............................] - ETA: 1:43:54 - loss: 0.0053 - mean_PSNR: 22.9805"
     ]
    },
    {
     "name": "stderr",
     "output_type": "stream",
     "text": [
      "W0607 04:45:29.313275 140152698894080 callbacks.py:241] Method (on_train_batch_end) is slow compared to the batch update (1.284442). Check your callbacks.\n"
     ]
    },
    {
     "name": "stdout",
     "output_type": "stream",
     "text": [
      " 786/2172 [=========>....................] - ETA: 1:15 - loss: 0.0053 - mean_PSNR: 23.4099"
     ]
    },
    {
     "name": "stderr",
     "output_type": "stream",
     "text": [
      "IOPub message rate exceeded.\n",
      "The notebook server will temporarily stop sending output\n",
      "to the client in order to avoid crashing it.\n",
      "To change this limit, set the config variable\n",
      "`--NotebookApp.iopub_msg_rate_limit`.\n",
      "\n",
      "Current values:\n",
      "NotebookApp.iopub_msg_rate_limit=1000.0 (msgs/sec)\n",
      "NotebookApp.rate_limit_window=3.0 (secs)\n",
      "\n"
     ]
    },
    {
     "name": "stdout",
     "output_type": "stream",
     "text": [
      "2171/2172 [============================>.] - ETA: 0s - loss: 0.0054 - mean_PSNR: 23.2904\n",
      "Learning rate for epoch 113 is 2.5000000292152436e-08\n",
      "2172/2172 [==============================] - 129s 59ms/step - loss: 0.0054 - mean_PSNR: 23.2903 - val_loss: 0.0079 - val_mean_PSNR: 21.5730\n",
      "Epoch 114/150\n"
     ]
    },
    {
     "name": "stderr",
     "output_type": "stream",
     "text": [
      "W0607 04:51:55.060692 140152698894080 callbacks.py:241] Method (on_train_batch_end) is slow compared to the batch update (2.718636). Check your callbacks.\n"
     ]
    },
    {
     "name": "stdout",
     "output_type": "stream",
     "text": [
      "\r",
      "   1/2172 [..............................] - ETA: 1:49:19 - loss: 0.0053 - mean_PSNR: 22.9820"
     ]
    },
    {
     "name": "stderr",
     "output_type": "stream",
     "text": [
      "W0607 04:51:55.112635 140152698894080 callbacks.py:241] Method (on_train_batch_end) is slow compared to the batch update (1.359339). Check your callbacks.\n"
     ]
    },
    {
     "name": "stdout",
     "output_type": "stream",
     "text": [
      "1531/2172 [====================>.........] - ETA: 34s - loss: 0.0053 - mean_PSNR: 23.3338"
     ]
    },
    {
     "name": "stderr",
     "output_type": "stream",
     "text": [
      "IOPub message rate exceeded.\n",
      "The notebook server will temporarily stop sending output\n",
      "to the client in order to avoid crashing it.\n",
      "To change this limit, set the config variable\n",
      "`--NotebookApp.iopub_msg_rate_limit`.\n",
      "\n",
      "Current values:\n",
      "NotebookApp.iopub_msg_rate_limit=1000.0 (msgs/sec)\n",
      "NotebookApp.rate_limit_window=3.0 (secs)\n",
      "\n"
     ]
    },
    {
     "name": "stdout",
     "output_type": "stream",
     "text": [
      "2171/2172 [============================>.] - ETA: 0s - loss: 0.0054 - mean_PSNR: 23.2924\n",
      "Learning rate for epoch 116 is 1.0000000116860974e-07\n",
      "2172/2172 [==============================] - 128s 59ms/step - loss: 0.0054 - mean_PSNR: 23.2923 - val_loss: 0.0079 - val_mean_PSNR: 21.5734\n",
      "Epoch 117/150\n"
     ]
    },
    {
     "name": "stderr",
     "output_type": "stream",
     "text": [
      "W0607 04:58:22.566453 140152698894080 callbacks.py:241] Method (on_train_batch_end) is slow compared to the batch update (2.729220). Check your callbacks.\n"
     ]
    },
    {
     "name": "stdout",
     "output_type": "stream",
     "text": [
      "\r",
      "   1/2172 [..............................] - ETA: 1:49:50 - loss: 0.0053 - mean_PSNR: 22.9837"
     ]
    },
    {
     "name": "stderr",
     "output_type": "stream",
     "text": [
      "W0607 04:58:22.618877 140152698894080 callbacks.py:241] Method (on_train_batch_end) is slow compared to the batch update (1.364631). Check your callbacks.\n"
     ]
    },
    {
     "name": "stdout",
     "output_type": "stream",
     "text": [
      "1185/2172 [===============>..............] - ETA: 52s - loss: 0.0053 - mean_PSNR: 23.3267"
     ]
    },
    {
     "name": "stderr",
     "output_type": "stream",
     "text": [
      "IOPub message rate exceeded.\n",
      "The notebook server will temporarily stop sending output\n",
      "to the client in order to avoid crashing it.\n",
      "To change this limit, set the config variable\n",
      "`--NotebookApp.iopub_msg_rate_limit`.\n",
      "\n",
      "Current values:\n",
      "NotebookApp.iopub_msg_rate_limit=1000.0 (msgs/sec)\n",
      "NotebookApp.rate_limit_window=3.0 (secs)\n",
      "\n"
     ]
    },
    {
     "name": "stdout",
     "output_type": "stream",
     "text": [
      "2171/2172 [============================>.] - ETA: 0s - loss: 0.0054 - mean_PSNR: 23.2942\n",
      "Learning rate for epoch 119 is 2.5000000292152436e-08\n",
      "2172/2172 [==============================] - 130s 60ms/step - loss: 0.0054 - mean_PSNR: 23.2941 - val_loss: 0.0079 - val_mean_PSNR: 21.5738\n",
      "Epoch 120/150\n"
     ]
    },
    {
     "name": "stderr",
     "output_type": "stream",
     "text": [
      "W0607 05:04:48.457761 140152698894080 callbacks.py:241] Method (on_train_batch_end) is slow compared to the batch update (2.585176). Check your callbacks.\n"
     ]
    },
    {
     "name": "stdout",
     "output_type": "stream",
     "text": [
      "\r",
      "   1/2172 [..............................] - ETA: 1:44:32 - loss: 0.0053 - mean_PSNR: 22.9853"
     ]
    },
    {
     "name": "stderr",
     "output_type": "stream",
     "text": [
      "W0607 05:04:48.509427 140152698894080 callbacks.py:241] Method (on_train_batch_end) is slow compared to the batch update (1.292610). Check your callbacks.\n"
     ]
    },
    {
     "name": "stdout",
     "output_type": "stream",
     "text": [
      "1988/2172 [==========================>...] - ETA: 9s - loss: 0.0054 - mean_PSNR: 23.2842"
     ]
    },
    {
     "name": "stderr",
     "output_type": "stream",
     "text": [
      "IOPub message rate exceeded.\n",
      "The notebook server will temporarily stop sending output\n",
      "to the client in order to avoid crashing it.\n",
      "To change this limit, set the config variable\n",
      "`--NotebookApp.iopub_msg_rate_limit`.\n",
      "\n",
      "Current values:\n",
      "NotebookApp.iopub_msg_rate_limit=1000.0 (msgs/sec)\n",
      "NotebookApp.rate_limit_window=3.0 (secs)\n",
      "\n"
     ]
    },
    {
     "name": "stdout",
     "output_type": "stream",
     "text": [
      "2171/2172 [============================>.] - ETA: 0s - loss: 0.0054 - mean_PSNR: 23.2960\n",
      "Learning rate for epoch 122 is 1.0000000116860974e-07\n",
      "2172/2172 [==============================] - 127s 59ms/step - loss: 0.0054 - mean_PSNR: 23.2959 - val_loss: 0.0079 - val_mean_PSNR: 21.5741\n",
      "Epoch 123/150\n"
     ]
    },
    {
     "name": "stderr",
     "output_type": "stream",
     "text": [
      "W0607 05:11:12.867676 140152698894080 callbacks.py:241] Method (on_train_batch_end) is slow compared to the batch update (2.616104). Check your callbacks.\n"
     ]
    },
    {
     "name": "stdout",
     "output_type": "stream",
     "text": [
      "\r",
      "   1/2172 [..............................] - ETA: 1:46:02 - loss: 0.0053 - mean_PSNR: 22.9870"
     ]
    },
    {
     "name": "stderr",
     "output_type": "stream",
     "text": [
      "W0607 05:11:12.919571 140152698894080 callbacks.py:241] Method (on_train_batch_end) is slow compared to the batch update (1.308074). Check your callbacks.\n"
     ]
    },
    {
     "name": "stdout",
     "output_type": "stream",
     "text": [
      "2171/2172 [============================>.] - ETA: 0s - loss: 0.0054 - mean_PSNR: 23.2965\n",
      "Learning rate for epoch 123 is 2.5000000292152436e-08\n",
      "2172/2172 [==============================] - 127s 59ms/step - loss: 0.0054 - mean_PSNR: 23.2964 - val_loss: 0.0079 - val_mean_PSNR: 21.5742\n",
      "Epoch 124/150\n"
     ]
    },
    {
     "name": "stderr",
     "output_type": "stream",
     "text": [
      "W0607 05:13:20.135257 140152698894080 callbacks.py:241] Method (on_train_batch_end) is slow compared to the batch update (2.714615). Check your callbacks.\n"
     ]
    },
    {
     "name": "stdout",
     "output_type": "stream",
     "text": [
      "\r",
      "   1/2172 [..............................] - ETA: 1:49:23 - loss: 0.0053 - mean_PSNR: 22.9875"
     ]
    },
    {
     "name": "stderr",
     "output_type": "stream",
     "text": [
      "W0607 05:13:20.187368 140152698894080 callbacks.py:241] Method (on_train_batch_end) is slow compared to the batch update (1.357331). Check your callbacks.\n"
     ]
    },
    {
     "name": "stdout",
     "output_type": "stream",
     "text": [
      " 725/2172 [=========>....................] - ETA: 1:19 - loss: 0.0053 - mean_PSNR: 23.4063"
     ]
    },
    {
     "name": "stderr",
     "output_type": "stream",
     "text": [
      "IOPub message rate exceeded.\n",
      "The notebook server will temporarily stop sending output\n",
      "to the client in order to avoid crashing it.\n",
      "To change this limit, set the config variable\n",
      "`--NotebookApp.iopub_msg_rate_limit`.\n",
      "\n",
      "Current values:\n",
      "NotebookApp.iopub_msg_rate_limit=1000.0 (msgs/sec)\n",
      "NotebookApp.rate_limit_window=3.0 (secs)\n",
      "\n"
     ]
    },
    {
     "name": "stdout",
     "output_type": "stream",
     "text": [
      "2171/2172 [============================>.] - ETA: 0s - loss: 0.0054 - mean_PSNR: 23.2982\n",
      "Learning rate for epoch 126 is 1.0000000116860974e-07\n",
      "2172/2172 [==============================] - 129s 59ms/step - loss: 0.0054 - mean_PSNR: 23.2981 - val_loss: 0.0079 - val_mean_PSNR: 21.5745\n",
      "Epoch 127/150\n"
     ]
    },
    {
     "name": "stderr",
     "output_type": "stream",
     "text": [
      "W0607 05:19:45.265874 140152698894080 callbacks.py:241] Method (on_train_batch_end) is slow compared to the batch update (2.585016). Check your callbacks.\n"
     ]
    },
    {
     "name": "stdout",
     "output_type": "stream",
     "text": [
      "\r",
      "   1/2172 [..............................] - ETA: 1:44:40 - loss: 0.0053 - mean_PSNR: 22.9892"
     ]
    },
    {
     "name": "stderr",
     "output_type": "stream",
     "text": [
      "W0607 05:19:45.318196 140152698894080 callbacks.py:241] Method (on_train_batch_end) is slow compared to the batch update (1.292529). Check your callbacks.\n"
     ]
    },
    {
     "name": "stdout",
     "output_type": "stream",
     "text": [
      "1567/2172 [====================>.........] - ETA: 32s - loss: 0.0053 - mean_PSNR: 23.3380"
     ]
    },
    {
     "name": "stderr",
     "output_type": "stream",
     "text": [
      "IOPub message rate exceeded.\n",
      "The notebook server will temporarily stop sending output\n",
      "to the client in order to avoid crashing it.\n",
      "To change this limit, set the config variable\n",
      "`--NotebookApp.iopub_msg_rate_limit`.\n",
      "\n",
      "Current values:\n",
      "NotebookApp.iopub_msg_rate_limit=1000.0 (msgs/sec)\n",
      "NotebookApp.rate_limit_window=3.0 (secs)\n",
      "\n"
     ]
    },
    {
     "name": "stdout",
     "output_type": "stream",
     "text": [
      "2171/2172 [============================>.] - ETA: 0s - loss: 0.0054 - mean_PSNR: 23.2998\n",
      "Learning rate for epoch 129 is 2.5000000292152436e-08\n",
      "2172/2172 [==============================] - 128s 59ms/step - loss: 0.0054 - mean_PSNR: 23.2997 - val_loss: 0.0079 - val_mean_PSNR: 21.5748\n",
      "Epoch 130/150\n"
     ]
    },
    {
     "name": "stderr",
     "output_type": "stream",
     "text": [
      "W0607 05:26:09.629449 140152698894080 callbacks.py:241] Method (on_train_batch_end) is slow compared to the batch update (2.665324). Check your callbacks.\n"
     ]
    },
    {
     "name": "stdout",
     "output_type": "stream",
     "text": [
      "\r",
      "   1/2172 [..............................] - ETA: 1:47:22 - loss: 0.0053 - mean_PSNR: 22.9908"
     ]
    },
    {
     "name": "stderr",
     "output_type": "stream",
     "text": [
      "W0607 05:26:09.681333 140152698894080 callbacks.py:241] Method (on_train_batch_end) is slow compared to the batch update (1.332684). Check your callbacks.\n"
     ]
    },
    {
     "name": "stdout",
     "output_type": "stream",
     "text": [
      "1145/2172 [==============>...............] - ETA: 54s - loss: 0.0053 - mean_PSNR: 23.3372\n",
      "Epoch 00130: saving model to /home/ubuntu/cs230/models/automap_fastmri/2019-06-07_00:49:20/cp-0130.ckpt\n",
      "2171/2172 [============================>.] - ETA: 0s - loss: 0.0054 - mean_PSNR: 23.3003\n",
      "Learning rate for epoch 130 is 1.0000000116860974e-07\n",
      "2172/2172 [==============================] - 128s 59ms/step - loss: 0.0054 - mean_PSNR: 23.3002 - val_loss: 0.0079 - val_mean_PSNR: 21.5749\n",
      "Epoch 131/150\n"
     ]
    },
    {
     "name": "stderr",
     "output_type": "stream",
     "text": [
      "W0607 05:28:17.191335 140152698894080 callbacks.py:241] Method (on_train_batch_end) is slow compared to the batch update (2.587076). Check your callbacks.\n"
     ]
    },
    {
     "name": "stdout",
     "output_type": "stream",
     "text": [
      "\r",
      "   1/2172 [..............................] - ETA: 1:44:52 - loss: 0.0053 - mean_PSNR: 22.9913"
     ]
    },
    {
     "name": "stderr",
     "output_type": "stream",
     "text": [
      "W0607 05:28:17.243615 140152698894080 callbacks.py:241] Method (on_train_batch_end) is slow compared to the batch update (1.293559). Check your callbacks.\n"
     ]
    },
    {
     "name": "stdout",
     "output_type": "stream",
     "text": [
      " 210/2172 [=>............................] - ETA: 2:06 - loss: 0.0052 - mean_PSNR: 23.4471"
     ]
    },
    {
     "name": "stderr",
     "output_type": "stream",
     "text": [
      "IOPub message rate exceeded.\n",
      "The notebook server will temporarily stop sending output\n",
      "to the client in order to avoid crashing it.\n",
      "To change this limit, set the config variable\n",
      "`--NotebookApp.iopub_msg_rate_limit`.\n",
      "\n",
      "Current values:\n",
      "NotebookApp.iopub_msg_rate_limit=1000.0 (msgs/sec)\n",
      "NotebookApp.rate_limit_window=3.0 (secs)\n",
      "\n"
     ]
    },
    {
     "name": "stdout",
     "output_type": "stream",
     "text": [
      "2171/2172 [============================>.] - ETA: 0s - loss: 0.0054 - mean_PSNR: 23.3018\n",
      "Learning rate for epoch 133 is 2.5000000292152436e-08\n",
      "2172/2172 [==============================] - 128s 59ms/step - loss: 0.0054 - mean_PSNR: 23.3018 - val_loss: 0.0079 - val_mean_PSNR: 21.5751\n",
      "Epoch 134/150\n"
     ]
    },
    {
     "name": "stderr",
     "output_type": "stream",
     "text": [
      "W0607 05:34:42.241445 140152698894080 callbacks.py:241] Method (on_train_batch_end) is slow compared to the batch update (2.622220). Check your callbacks.\n"
     ]
    },
    {
     "name": "stdout",
     "output_type": "stream",
     "text": [
      "\r",
      "   1/2172 [..............................] - ETA: 1:46:08 - loss: 0.0053 - mean_PSNR: 22.9929"
     ]
    },
    {
     "name": "stderr",
     "output_type": "stream",
     "text": [
      "W0607 05:34:42.294300 140152698894080 callbacks.py:241] Method (on_train_batch_end) is slow compared to the batch update (1.311143). Check your callbacks.\n"
     ]
    },
    {
     "name": "stdout",
     "output_type": "stream",
     "text": [
      "1063/2172 [=============>................] - ETA: 1:00 - loss: 0.0053 - mean_PSNR: 23.3603"
     ]
    },
    {
     "name": "stderr",
     "output_type": "stream",
     "text": [
      "IOPub message rate exceeded.\n",
      "The notebook server will temporarily stop sending output\n",
      "to the client in order to avoid crashing it.\n",
      "To change this limit, set the config variable\n",
      "`--NotebookApp.iopub_msg_rate_limit`.\n",
      "\n",
      "Current values:\n",
      "NotebookApp.iopub_msg_rate_limit=1000.0 (msgs/sec)\n",
      "NotebookApp.rate_limit_window=3.0 (secs)\n",
      "\n"
     ]
    },
    {
     "name": "stdout",
     "output_type": "stream",
     "text": [
      "2171/2172 [============================>.] - ETA: 0s - loss: 0.0054 - mean_PSNR: 23.3034\n",
      "Learning rate for epoch 136 is 1.0000000116860974e-07\n",
      "2172/2172 [==============================] - 127s 59ms/step - loss: 0.0054 - mean_PSNR: 23.3033 - val_loss: 0.0079 - val_mean_PSNR: 21.5753\n",
      "Epoch 137/150\n"
     ]
    },
    {
     "name": "stderr",
     "output_type": "stream",
     "text": [
      "W0607 05:41:06.345868 140152698894080 callbacks.py:241] Method (on_train_batch_end) is slow compared to the batch update (2.713358). Check your callbacks.\n"
     ]
    },
    {
     "name": "stdout",
     "output_type": "stream",
     "text": [
      "\r",
      "   1/2172 [..............................] - ETA: 1:49:11 - loss: 0.0053 - mean_PSNR: 22.9944"
     ]
    },
    {
     "name": "stderr",
     "output_type": "stream",
     "text": [
      "W0607 05:41:06.397733 140152698894080 callbacks.py:241] Method (on_train_batch_end) is slow compared to the batch update (1.356704). Check your callbacks.\n"
     ]
    },
    {
     "name": "stdout",
     "output_type": "stream",
     "text": [
      "1894/2172 [=========================>....] - ETA: 14s - loss: 0.0054 - mean_PSNR: 23.2976"
     ]
    },
    {
     "name": "stderr",
     "output_type": "stream",
     "text": [
      "IOPub message rate exceeded.\n",
      "The notebook server will temporarily stop sending output\n",
      "to the client in order to avoid crashing it.\n",
      "To change this limit, set the config variable\n",
      "`--NotebookApp.iopub_msg_rate_limit`.\n",
      "\n",
      "Current values:\n",
      "NotebookApp.iopub_msg_rate_limit=1000.0 (msgs/sec)\n",
      "NotebookApp.rate_limit_window=3.0 (secs)\n",
      "\n"
     ]
    },
    {
     "name": "stdout",
     "output_type": "stream",
     "text": [
      "2171/2172 [============================>.] - ETA: 0s - loss: 0.0054 - mean_PSNR: 23.3049\n",
      "Learning rate for epoch 139 is 2.5000000292152436e-08\n",
      "2172/2172 [==============================] - 129s 60ms/step - loss: 0.0054 - mean_PSNR: 23.3048 - val_loss: 0.0079 - val_mean_PSNR: 21.5755\n",
      "Epoch 140/150\n"
     ]
    },
    {
     "name": "stderr",
     "output_type": "stream",
     "text": [
      "W0607 05:47:34.528435 140152698894080 callbacks.py:241] Method (on_train_batch_end) is slow compared to the batch update (2.607107). Check your callbacks.\n"
     ]
    },
    {
     "name": "stdout",
     "output_type": "stream",
     "text": [
      "\r",
      "   1/2172 [..............................] - ETA: 1:45:34 - loss: 0.0053 - mean_PSNR: 22.9958"
     ]
    },
    {
     "name": "stderr",
     "output_type": "stream",
     "text": [
      "W0607 05:47:34.580827 140152698894080 callbacks.py:241] Method (on_train_batch_end) is slow compared to the batch update (1.303588). Check your callbacks.\n"
     ]
    },
    {
     "name": "stdout",
     "output_type": "stream",
     "text": [
      "2171/2172 [============================>.] - ETA: 0s - loss: 0.0054 - mean_PSNR: 23.3054\n",
      "Learning rate for epoch 140 is 1.0000000116860974e-07\n",
      "2172/2172 [==============================] - 129s 60ms/step - loss: 0.0054 - mean_PSNR: 23.3053 - val_loss: 0.0079 - val_mean_PSNR: 21.5755\n",
      "Epoch 141/150\n"
     ]
    },
    {
     "name": "stderr",
     "output_type": "stream",
     "text": [
      "W0607 05:49:43.810968 140152698894080 callbacks.py:241] Method (on_train_batch_end) is slow compared to the batch update (2.577659). Check your callbacks.\n"
     ]
    },
    {
     "name": "stdout",
     "output_type": "stream",
     "text": [
      "\r",
      "   1/2172 [..............................] - ETA: 1:44:41 - loss: 0.0053 - mean_PSNR: 22.9963"
     ]
    },
    {
     "name": "stderr",
     "output_type": "stream",
     "text": [
      "W0607 05:49:43.862746 140152698894080 callbacks.py:241] Method (on_train_batch_end) is slow compared to the batch update (1.288853). Check your callbacks.\n"
     ]
    },
    {
     "name": "stdout",
     "output_type": "stream",
     "text": [
      " 551/2172 [======>.......................] - ETA: 1:31 - loss: 0.0053 - mean_PSNR: 23.3428"
     ]
    },
    {
     "name": "stderr",
     "output_type": "stream",
     "text": [
      "IOPub message rate exceeded.\n",
      "The notebook server will temporarily stop sending output\n",
      "to the client in order to avoid crashing it.\n",
      "To change this limit, set the config variable\n",
      "`--NotebookApp.iopub_msg_rate_limit`.\n",
      "\n",
      "Current values:\n",
      "NotebookApp.iopub_msg_rate_limit=1000.0 (msgs/sec)\n",
      "NotebookApp.rate_limit_window=3.0 (secs)\n",
      "\n"
     ]
    },
    {
     "name": "stdout",
     "output_type": "stream",
     "text": [
      "2170/2172 [============================>.] - ETA: 0s - loss: 0.0054 - mean_PSNR: 23.3071\n",
      "Learning rate for epoch 143 is 2.5000000292152436e-08\n",
      "2172/2172 [==============================] - 128s 59ms/step - loss: 0.0054 - mean_PSNR: 23.3067 - val_loss: 0.0079 - val_mean_PSNR: 21.5757\n",
      "Epoch 144/150\n"
     ]
    },
    {
     "name": "stderr",
     "output_type": "stream",
     "text": [
      "W0607 05:56:08.152731 140152698894080 callbacks.py:241] Method (on_train_batch_end) is slow compared to the batch update (2.712068). Check your callbacks.\n"
     ]
    },
    {
     "name": "stdout",
     "output_type": "stream",
     "text": [
      "\r",
      "   1/2172 [..............................] - ETA: 1:49:31 - loss: 0.0053 - mean_PSNR: 22.9978"
     ]
    },
    {
     "name": "stderr",
     "output_type": "stream",
     "text": [
      "W0607 05:56:08.205318 140152698894080 callbacks.py:241] Method (on_train_batch_end) is slow compared to the batch update (1.356057). Check your callbacks.\n"
     ]
    },
    {
     "name": "stdout",
     "output_type": "stream",
     "text": [
      "1360/2172 [=================>............] - ETA: 43s - loss: 0.0053 - mean_PSNR: 23.3537"
     ]
    },
    {
     "name": "stderr",
     "output_type": "stream",
     "text": [
      "IOPub message rate exceeded.\n",
      "The notebook server will temporarily stop sending output\n",
      "to the client in order to avoid crashing it.\n",
      "To change this limit, set the config variable\n",
      "`--NotebookApp.iopub_msg_rate_limit`.\n",
      "\n",
      "Current values:\n",
      "NotebookApp.iopub_msg_rate_limit=1000.0 (msgs/sec)\n",
      "NotebookApp.rate_limit_window=3.0 (secs)\n",
      "\n"
     ]
    },
    {
     "name": "stdout",
     "output_type": "stream",
     "text": [
      "2171/2172 [============================>.] - ETA: 0s - loss: 0.0053 - mean_PSNR: 23.3082\n",
      "Learning rate for epoch 146 is 1.0000000116860974e-07\n",
      "2172/2172 [==============================] - 130s 60ms/step - loss: 0.0053 - mean_PSNR: 23.3081 - val_loss: 0.0079 - val_mean_PSNR: 21.5758\n",
      "Epoch 147/150\n"
     ]
    },
    {
     "name": "stderr",
     "output_type": "stream",
     "text": [
      "W0607 06:02:34.894683 140152698894080 callbacks.py:241] Method (on_train_batch_end) is slow compared to the batch update (2.624933). Check your callbacks.\n"
     ]
    },
    {
     "name": "stdout",
     "output_type": "stream",
     "text": [
      "\r",
      "   1/2172 [..............................] - ETA: 1:45:59 - loss: 0.0053 - mean_PSNR: 22.9992"
     ]
    },
    {
     "name": "stderr",
     "output_type": "stream",
     "text": [
      "W0607 06:02:34.947336 140152698894080 callbacks.py:241] Method (on_train_batch_end) is slow compared to the batch update (1.312492). Check your callbacks.\n"
     ]
    },
    {
     "name": "stdout",
     "output_type": "stream",
     "text": [
      "2171/2172 [============================>.] - ETA: 0s - loss: 0.0053 - mean_PSNR: 23.3086\n",
      "Learning rate for epoch 147 is 2.5000000292152436e-08\n",
      "2172/2172 [==============================] - 129s 60ms/step - loss: 0.0053 - mean_PSNR: 23.3085 - val_loss: 0.0079 - val_mean_PSNR: 21.5759\n",
      "Epoch 148/150\n"
     ]
    },
    {
     "name": "stderr",
     "output_type": "stream",
     "text": [
      "W0607 06:04:44.400318 140152698894080 callbacks.py:241] Method (on_train_batch_end) is slow compared to the batch update (2.680983). Check your callbacks.\n"
     ]
    },
    {
     "name": "stdout",
     "output_type": "stream",
     "text": [
      "\r",
      "   1/2172 [..............................] - ETA: 1:49:14 - loss: 0.0053 - mean_PSNR: 22.9997"
     ]
    },
    {
     "name": "stderr",
     "output_type": "stream",
     "text": [
      "W0607 06:04:44.452497 140152698894080 callbacks.py:241] Method (on_train_batch_end) is slow compared to the batch update (1.340521). Check your callbacks.\n"
     ]
    },
    {
     "name": "stdout",
     "output_type": "stream",
     "text": [
      "  29/2172 [..............................] - ETA: 5:29 - loss: 0.0051 - mean_PSNR: 23.5689"
     ]
    },
    {
     "name": "stderr",
     "output_type": "stream",
     "text": [
      "IOPub message rate exceeded.\n",
      "The notebook server will temporarily stop sending output\n",
      "to the client in order to avoid crashing it.\n",
      "To change this limit, set the config variable\n",
      "`--NotebookApp.iopub_msg_rate_limit`.\n",
      "\n",
      "Current values:\n",
      "NotebookApp.iopub_msg_rate_limit=1000.0 (msgs/sec)\n",
      "NotebookApp.rate_limit_window=3.0 (secs)\n",
      "\n"
     ]
    },
    {
     "name": "stdout",
     "output_type": "stream",
     "text": [
      "2171/2172 [============================>.] - ETA: 0s - loss: 0.0053 - mean_PSNR: 23.3095\n",
      "Learning rate for epoch 149 is 2.5000000292152436e-08\n",
      "2172/2172 [==============================] - 128s 59ms/step - loss: 0.0053 - mean_PSNR: 23.3094 - val_loss: 0.0079 - val_mean_PSNR: 21.5760\n",
      "Epoch 150/150\n"
     ]
    },
    {
     "name": "stderr",
     "output_type": "stream",
     "text": [
      "W0607 06:09:00.474165 140152698894080 callbacks.py:241] Method (on_train_batch_end) is slow compared to the batch update (2.588796). Check your callbacks.\n"
     ]
    },
    {
     "name": "stdout",
     "output_type": "stream",
     "text": [
      "\r",
      "   1/2172 [..............................] - ETA: 1:44:45 - loss: 0.0053 - mean_PSNR: 23.0007"
     ]
    },
    {
     "name": "stderr",
     "output_type": "stream",
     "text": [
      "W0607 06:09:00.526476 140152698894080 callbacks.py:241] Method (on_train_batch_end) is slow compared to the batch update (1.294421). Check your callbacks.\n"
     ]
    },
    {
     "name": "stdout",
     "output_type": "stream",
     "text": [
      "2171/2172 [============================>.] - ETA: 0s - loss: 0.0053 - mean_PSNR: 23.3100\n",
      "Learning rate for epoch 150 is 1.0000000116860974e-07\n",
      "2172/2172 [==============================] - 128s 59ms/step - loss: 0.0053 - mean_PSNR: 23.3099 - val_loss: 0.0079 - val_mean_PSNR: 21.5760\n"
     ]
    }
   ],
   "source": [
    "training_history = model.fit(\n",
    "    train_dataset,\n",
    "    validation_data=dev_dataset,\n",
    "    verbose=1, # set to 0 to suppress chatty output and use Tensorboard instead\n",
    "    epochs=150,\n",
    "    callbacks=callbacks,\n",
    "    use_multiprocessing=True) # see if speeds things up"
   ]
  },
  {
   "cell_type": "markdown",
   "metadata": {},
   "source": [
    "### Save model (to do: make callback)"
   ]
  },
  {
   "cell_type": "code",
   "execution_count": 33,
   "metadata": {},
   "outputs": [],
   "source": [
    "# # # Uncomment to save model\n",
    "saved_model_path = 'final_fast_mri_output'\n",
    "model.save(saved_model_path)"
   ]
  },
  {
   "cell_type": "markdown",
   "metadata": {},
   "source": [
    "## Evaluate model"
   ]
  },
  {
   "cell_type": "code",
   "execution_count": 34,
   "metadata": {},
   "outputs": [
    {
     "name": "stdout",
     "output_type": "stream",
     "text": [
      "    488/Unknown - 8s 15ms/step - loss: 0.0099 - mean_PSNR: 20.9047"
     ]
    },
    {
     "data": {
      "text/plain": [
       "[0.009910383685415641, 20.904732]"
      ]
     },
     "execution_count": 34,
     "metadata": {},
     "output_type": "execute_result"
    }
   ],
   "source": [
    "model.evaluate(test_dataset, verbose=1)\n",
    "# model.evaluate(dev_dataset, verbose=1)\n",
    "# model.evaluate(train_dataset, verbose=1)"
   ]
  },
  {
   "cell_type": "markdown",
   "metadata": {},
   "source": [
    "### Plot training history (but better viewed in Tensorboard)"
   ]
  },
  {
   "cell_type": "code",
   "execution_count": 35,
   "metadata": {},
   "outputs": [
    {
     "data": {
      "text/plain": [
       "<matplotlib.legend.Legend at 0x7f76587747b8>"
      ]
     },
     "execution_count": 35,
     "metadata": {},
     "output_type": "execute_result"
    },
    {
     "data": {
      "image/png": "[encoded data removed]",
      "text/plain": [
       "<Figure size 432x288 with 1 Axes>"
      ]
     },
     "metadata": {},
     "output_type": "display_data"
    }
   ],
   "source": [
    "plt.figure()\n",
    "plt.plot(training_history.history[\"loss\"], label=\"Train\")\n",
    "plt.plot(training_history.history[\"val_loss\"], label=\"Test\")\n",
    "plt.xlabel(\"Epoch\")\n",
    "plt.ylabel(\"Loss\")\n",
    "plt.legend(loc=\"center right\")"
   ]
  },
  {
   "cell_type": "code",
   "execution_count": 36,
   "metadata": {},
   "outputs": [
    {
     "data": {
      "text/plain": [
       "<matplotlib.legend.Legend at 0x7f76586433c8>"
      ]
     },
     "execution_count": 36,
     "metadata": {},
     "output_type": "execute_result"
    },
    {
     "data": {
      "image/png": "[encoded data removed]",
      "text/plain": [
       "<Figure size 432x288 with 1 Axes>"
      ]
     },
     "metadata": {},
     "output_type": "display_data"
    }
   ],
   "source": [
    "plt.figure()\n",
    "plt.plot(training_history.history[\"mean_PSNR\"], label=\"Train\")\n",
    "plt.plot(training_history.history[\"val_mean_PSNR\"], label=\"Test\")\n",
    "plt.xlabel(\"Epoch\")\n",
    "plt.ylabel(\"µ ( PSNR ) \")\n",
    "plt.legend(loc=\"center right\")"
   ]
  },
  {
   "cell_type": "code",
   "execution_count": 37,
   "metadata": {},
   "outputs": [
    {
     "data": {
      "image/png": "[encoded data removed]",
      "text/plain": [
       "<Figure size 432x288 with 4 Axes>"
      ]
     },
     "metadata": {},
     "output_type": "display_data"
    }
   ],
   "source": [
    "# Predict on a test batch\n",
    "\n",
    "# batch = next(iter(test_dataset))\n",
    "\n",
    "x, y = first_test_batch\n",
    "x, y = x.numpy(), y.numpy()\n",
    "y_pred = model.predict(x)\n",
    "\n",
    "# Inspect output\n",
    "\n",
    "for i in range(len(x)):\n",
    "\n",
    "    fft_mag = x[i, ..., 0]\n",
    "    fft_ang = x[i, ..., 1]\n",
    "    reconstruction = y_pred[i, ..., 0]\n",
    "    image = y[i, ..., 0]\n",
    "\n",
    "    MSE = utils.signal_processing.mean_square_error(reconstruction, image)\n",
    "    PSNR = utils.signal_processing.PSNR(reconstruction, image, max_value=max(image.max(), reconstruction.max()))\n",
    "\n",
    "    plt.subplot(2, 2, 1)\n",
    "    plt.title('Reconstruction (MSE: {:0.5f}, PSNR: {:0.5f})'.format(MSE, PSNR))\n",
    "    utils.plot.imshowgray(reconstruction)\n",
    "\n",
    "    plt.subplot(2, 2, 2)\n",
    "    plt.title('FFT (Magnitude)')\n",
    "    utils.plot.imshowfft(fft_mag)\n",
    "\n",
    "    plt.subplot(2, 2, 3)\n",
    "    plt.title('Expected reconstruction')\n",
    "    utils.plot.imshowgray(image)\n",
    "\n",
    "    plt.subplot(2, 2, 4)\n",
    "    plt.title('FFT (Phase)')\n",
    "    utils.plot.imshowgray(fft_ang)\n",
    "\n",
    "    plt.show()\n",
    "    break\n"
   ]
  },
  {
   "cell_type": "code",
   "execution_count": 38,
   "metadata": {},
   "outputs": [
    {
     "data": {
      "image/png": "[encoded data removed]",
      "text/plain": [
       "<Figure size 432x288 with 1 Axes>"
      ]
     },
     "metadata": {},
     "output_type": "display_data"
    }
   ],
   "source": [
    "utils.plot.imshowgray(y_pred[0].squeeze())"
   ]
  },
  {
   "cell_type": "code",
   "execution_count": 39,
   "metadata": {},
   "outputs": [
    {
     "data": {
      "image/png": "[encoded data removed]",
      "text/plain": [
       "<Figure size 432x288 with 1 Axes>"
      ]
     },
     "metadata": {},
     "output_type": "display_data"
    }
   ],
   "source": [
    "utils.plot.imshowgray(y[0].squeeze())"
   ]
  },
  {
   "cell_type": "code",
   "execution_count": null,
   "metadata": {},
   "outputs": [],
   "source": []
  }
 ],
 "metadata": {
  "kernelspec": {
   "display_name": "Environment (conda_tensorflow_p36)",
   "language": "python",
   "name": "conda_tensorflow_p36"
  },
  "language_info": {
   "codemirror_mode": {
    "name": "ipython",
    "version": 3
   },
   "file_extension": ".py",
   "mimetype": "text/x-python",
   "name": "python",
   "nbconvert_exporter": "python",
   "pygments_lexer": "ipython3",
   "version": "3.6.5"
  }
 },
 "nbformat": 4,
 "nbformat_minor": 2
}
