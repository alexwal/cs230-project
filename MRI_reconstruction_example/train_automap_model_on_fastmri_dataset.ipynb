{
 "cells": [
  {
   "cell_type": "code",
   "execution_count": 1,
   "metadata": {},
   "outputs": [],
   "source": [
    "# To use TF 2.0 (on EC2 instance running Deep Learning AMI):\n",
    "# source activate tensorflow_p36\n",
    "# pip uninstall tensorflow-gpu\n",
    "# pip install tensorflow-gpu==2.0.0-alpha0\n",
    "\n",
    "# But then later decided wanted even newer GPU stuff and \"in that conda env, ran:\n",
    "# pip uninstall tensorflow-gpu\n",
    "# pip install --upgrade pip\n",
    "# pip install wrapt --ignore-installed # ran this because had an error\n",
    "# pip install  tf-nightly-gpu-2.0-preview\n",
    "\n",
    "# Result: Successfully installed tf-nightly-gpu-2.0-preview-2.0.0.dev20190601"
   ]
  },
  {
   "cell_type": "code",
   "execution_count": 2,
   "metadata": {},
   "outputs": [],
   "source": [
    "import os\n",
    "from datetime import datetime\n",
    "import numpy as np\n",
    "import tensorflow as tf"
   ]
  },
  {
   "cell_type": "code",
   "execution_count": 3,
   "metadata": {},
   "outputs": [],
   "source": [
    "import matplotlib.pyplot as plt\n",
    "%matplotlib inline\n",
    "\n",
    "plt.style.use('seaborn') # pretty matplotlib plots\n",
    "plt.rcParams[\"axes.grid\"] = False # don't show grid lines on plots by default\n",
    "plt.rcParams['figure.figsize'] = (12, 16) # increase size of subplots"
   ]
  },
  {
   "cell_type": "code",
   "execution_count": 4,
   "metadata": {},
   "outputs": [
    {
     "name": "stdout",
     "output_type": "stream",
     "text": [
      "TensorFlow version:  2.0.0-dev20190605\n"
     ]
    }
   ],
   "source": [
    "from packaging import version\n",
    "\n",
    "print(\"TensorFlow version: \", tf.__version__) # make sure >= 2.0.0-dev20190605\n",
    "assert version.parse(tf.__version__).release[0] >= 2, \"This notebook requires TensorFlow 2.0 or above.\"\n"
   ]
  },
  {
   "cell_type": "code",
   "execution_count": 5,
   "metadata": {},
   "outputs": [],
   "source": [
    "import cs230_project_utilities as utils"
   ]
  },
  {
   "cell_type": "code",
   "execution_count": 6,
   "metadata": {},
   "outputs": [],
   "source": [
    "# GPU usage logging (TF 2.0+)\n",
    "\n",
    "tf.config.set_soft_device_placement(True)\n",
    "tf.debugging.set_log_device_placement(False)"
   ]
  },
  {
   "cell_type": "markdown",
   "metadata": {},
   "source": [
    "# Load dataset as TFRecords "
   ]
  },
  {
   "cell_type": "code",
   "execution_count": 7,
   "metadata": {},
   "outputs": [],
   "source": [
    "# Sync from remote storage in s3\n",
    "# aws s3 sync s3://cs230-automap/data/fastmri/tfrecords cs230/data/fastmri/tfrecords"
   ]
  },
  {
   "cell_type": "code",
   "execution_count": 8,
   "metadata": {},
   "outputs": [],
   "source": [
    "dev_locations = '/home/ubuntu/cs230/data/fastmri/tfrecords/singlecoil_dev/*.tfrecord'\n",
    "test_locations = '/home/ubuntu/cs230/data/fastmri/tfrecords/singlecoil_test/*.tfrecord'\n",
    "train_locations = '/home/ubuntu/cs230/data/fastmri/tfrecords/singlecoil_train/*.tfrecord'"
   ]
  },
  {
   "cell_type": "code",
   "execution_count": 9,
   "metadata": {
    "scrolled": true
   },
   "outputs": [
    {
     "name": "stdout",
     "output_type": "stream",
     "text": [
      "Loading dataset... Shuffle items? True. Shuffle buffer: 128\n",
      "Loading dataset... Shuffle items? True. Shuffle buffer: 128\n",
      "Loading dataset... Shuffle items? True. Shuffle buffer: 1024\n"
     ]
    }
   ],
   "source": [
    "# Use tf.data.Datasets to preprocess and iterate data efficiently\n",
    "\n",
    "batch_size = 16\n",
    "\n",
    "dev_dataset = utils.fastmri.load_dataset(dev_locations,\n",
    "                                         batch_size=8,\n",
    "                                         shuffle_buffer_size=128,\n",
    "                                         load_original_reconstruction=False,\n",
    "                                         include_all_parsed_features=False,\n",
    "                                         ignore_errors=True,\n",
    "                                         perform_data_augmentation=False)\n",
    "\n",
    "test_dataset = utils.fastmri.load_dataset(test_locations,\n",
    "                                          batch_size=8,\n",
    "                                          shuffle_buffer_size=128,\n",
    "                                          load_original_reconstruction=False,\n",
    "                                          include_all_parsed_features=False,\n",
    "                                          ignore_errors=True,\n",
    "                                          perform_data_augmentation=False)\n",
    "\n",
    "train_dataset = utils.fastmri.load_dataset(train_locations,\n",
    "                                           batch_size=batch_size,\n",
    "                                           shuffle_buffer_size=1024,\n",
    "                                           load_original_reconstruction=False,\n",
    "                                           include_all_parsed_features=False,\n",
    "                                           ignore_errors=True,\n",
    "                                           perform_data_augmentation=False)"
   ]
  },
  {
   "cell_type": "markdown",
   "metadata": {},
   "source": [
    "# Validate dataset\n",
    "Make sure target reconstruction is the same as reconstruction computed from input."
   ]
  },
  {
   "cell_type": "code",
   "execution_count": 10,
   "metadata": {
    "scrolled": false
   },
   "outputs": [],
   "source": [
    "# First batch of each dataset to be used in plotting images periodically to tensorboard\n",
    "\n",
    "first_test_batch = next(iter(test_dataset))\n",
    "first_dev_batch = next(iter(dev_dataset))\n",
    "first_train_batch = next(iter(train_dataset))"
   ]
  },
  {
   "cell_type": "code",
   "execution_count": 11,
   "metadata": {},
   "outputs": [],
   "source": [
    "def first_batches():\n",
    "    batches = [(first_test_batch, 'Test'), (first_dev_batch, 'Dev'), (first_train_batch, 'Train')]\n",
    "    return batches"
   ]
  },
  {
   "cell_type": "code",
   "execution_count": 12,
   "metadata": {
    "scrolled": true
   },
   "outputs": [
    {
     "data": {
      "text/plain": [
       "TensorShape([8, 128, 128, 2])"
      ]
     },
     "execution_count": 12,
     "metadata": {},
     "output_type": "execute_result"
    }
   ],
   "source": [
    "first_test_batch[0].shape"
   ]
  },
  {
   "cell_type": "code",
   "execution_count": 13,
   "metadata": {
    "scrolled": false
   },
   "outputs": [
    {
     "data": {
      "text/plain": [
       "(True, 2.2105097e-15)"
      ]
     },
     "execution_count": 13,
     "metadata": {},
     "output_type": "execute_result"
    }
   ],
   "source": [
    "fft, target_image = first_test_batch[0][0].numpy().squeeze(), first_test_batch[1][0].numpy().squeeze()\n",
    "fft = utils.fastmri._combine_two_channels_of_complex_tensor(fft).numpy()\n",
    "\n",
    "# Compute image from input `fft`\n",
    "image_from_fft = tf.abs(utils.signal_processing.tf_ifft2d(fft)).numpy().squeeze()\n",
    "\n",
    "# Compare target image to reconstruction from input `fft`\n",
    "np.allclose(image_from_fft, target_image, atol=1e-6), utils.signal_processing.mean_square_error(image_from_fft, target_image)"
   ]
  },
  {
   "cell_type": "code",
   "execution_count": 14,
   "metadata": {},
   "outputs": [
    {
     "data": {
      "text/plain": [
       "(0.00027678022, 0.9999998, 0.0002767691, 0.99999994)"
      ]
     },
     "execution_count": 14,
     "metadata": {},
     "output_type": "execute_result"
    }
   ],
   "source": [
    "# Should be in [0, 1]\n",
    "image_from_fft.min(), image_from_fft.max(), target_image.min(), target_image.max()"
   ]
  },
  {
   "cell_type": "code",
   "execution_count": 15,
   "metadata": {
    "scrolled": false
   },
   "outputs": [
    {
     "data": {
      "image/png": "[encoded data removed]",
      "text/plain": [
       "<Figure size 432x288 with 1 Axes>"
      ]
     },
     "metadata": {},
     "output_type": "display_data"
    }
   ],
   "source": [
    "utils.plot.imshowfft(fft)"
   ]
  },
  {
   "cell_type": "code",
   "execution_count": 16,
   "metadata": {},
   "outputs": [
    {
     "data": {
      "image/png": "[encoded data removed]",
      "text/plain": [
       "<Figure size 432x288 with 1 Axes>"
      ]
     },
     "metadata": {},
     "output_type": "display_data"
    }
   ],
   "source": [
    "utils.plot.imshowgray(target_image)"
   ]
  },
  {
   "cell_type": "code",
   "execution_count": 17,
   "metadata": {},
   "outputs": [
    {
     "data": {
      "image/png": "[encoded data removed]",
      "text/plain": [
       "<Figure size 432x288 with 1 Axes>"
      ]
     },
     "metadata": {},
     "output_type": "display_data"
    }
   ],
   "source": [
    "utils.plot.imshowgray(image_from_fft)"
   ]
  },
  {
   "cell_type": "code",
   "execution_count": 18,
   "metadata": {},
   "outputs": [
    {
     "name": "stderr",
     "output_type": "stream",
     "text": [
      "/home/ubuntu/cs230/code/MRI_reconstruction_example/cs230_project_utilities/plot.py:13: RuntimeWarning: divide by zero encountered in log10\n",
      "  imshowgray(20 * np.log10(np.abs(fft)))\n"
     ]
    },
    {
     "data": {
      "image/png": "[encoded data removed]",
      "text/plain": [
       "<Figure size 432x288 with 1 Axes>"
      ]
     },
     "metadata": {},
     "output_type": "display_data"
    }
   ],
   "source": [
    "utils.plot.imshowfft(np.square(target_image - image_from_fft))"
   ]
  },
  {
   "cell_type": "markdown",
   "metadata": {},
   "source": [
    "# Model"
   ]
  },
  {
   "cell_type": "code",
   "execution_count": 19,
   "metadata": {},
   "outputs": [],
   "source": [
    "# A metric to use during training\n",
    "def mean_PSNR(y_true, y_pred):\n",
    "    max_value = 1.0\n",
    "    MSE = tf.reduce_mean(tf.square(y_true - y_pred), axis=[1, 2, 3])\n",
    "    PSNR = 10 * tf.math.log(tf.divide(max_value ** 2, MSE)) / tf.math.log(tf.constant(10, dtype=y_pred.dtype))\n",
    "    mean = tf.reduce_mean(PSNR)\n",
    "    return mean"
   ]
  },
  {
   "cell_type": "code",
   "execution_count": 20,
   "metadata": {},
   "outputs": [],
   "source": [
    "# Model most similar to OG AUTOMAP\n",
    "# def load_uncompiled_automap_model():\n",
    "\n",
    "#     N = 128\n",
    "#     X = tf.keras.layers.Input(shape=(N, N, 2))\n",
    "\n",
    "#     # Paper says 1% multiplicative gaussian noise (this multiplies by 1-centered gaussian\n",
    "#     # having stddev = sqrt(rate / (1 - rate)) (here, 0.00032...)\n",
    "#     # noisy_X = tf.keras.layers.GaussianDropout(rate=1e-7)(X) # spatial dimension: 256\n",
    "#     # Note: (we could corrupt when training with cifar, but maybe not other dataset?)\n",
    "\n",
    "#     ds_flat = tf.keras.layers.Flatten()(X)\n",
    "\n",
    "# #     fc1 = tf.keras.layers.Dense(64 ** 2, activation='tanh')(ds_flat) # closer to original paper is: 128 ** 2\n",
    "# #     fc1 = tf.keras.layers.Dropout(0.05)(fc1)\n",
    "#     fc2 = tf.keras.layers.Dense(128 ** 2, activation='tanh')(ds_flat)\n",
    "\n",
    "#     fc_output = tf.keras.layers.Reshape([128, 128, 1])(fc2)\n",
    "\n",
    "#     conv1 = tf.keras.layers.Conv2D(64, (5, 5), strides=(1, 1), activation='relu', padding='same')(fc_output)\n",
    "    \n",
    "#     # L1 regularization to encourage sparsity\n",
    "#     conv2 = tf.keras.layers.Conv2D(64, (5, 5), strides=(1, 1), activation='relu', padding='same',\n",
    "#                                    activity_regularizer=tf.keras.regularizers.l1(1e-4))(conv1)\n",
    "\n",
    "#     Y_pred = tf.keras.layers.Conv2DTranspose(1, (7, 7), strides=1, activation='relu', padding='same')(conv2) # upsample to spatial dimension 256\n",
    "\n",
    "#     model = tf.keras.Model(inputs=X, outputs=Y_pred)\n",
    "\n",
    "#     return model"
   ]
  },
  {
   "cell_type": "code",
   "execution_count": null,
   "metadata": {},
   "outputs": [],
   "source": [
    "# def load_uncompiled_automap_model():\n",
    "    \n",
    "#     # this one's solid, but I believe we'll need a few hours to train it.\n",
    "    \n",
    "#     N = 128\n",
    "#     F = 32\n",
    "#     X = tf.keras.layers.Input(shape=(N, N, 2))\n",
    "\n",
    "# #     Half-assed data augmentation\n",
    "# #     noisy_X = tf.keras.layers.GaussianNoise(stddev=1e-7)(X) # shape: (N, N, 2)\n",
    "\n",
    "#     # These layers all halve the spatial dimension (but also each output F channels)\n",
    "#     conv1 = tf.keras.layers.Concatenate(axis=-1)([\n",
    "#         tf.keras.layers.Conv2D(F, (3, 3), strides=1, activation='relu', padding='same')(X),\n",
    "#         tf.keras.layers.Conv2D(F, (5, 5), strides=1, activation='relu', padding='same')(X),\n",
    "#         tf.keras.layers.Conv2D(F, (7, 7), strides=1, activation='relu', padding='same')(X),\n",
    "#         tf.keras.layers.Conv2DTranspose(F, 3, strides=1, activation='relu', padding='same')(X),\n",
    "#         tf.keras.layers.Conv2DTranspose(F, 5, strides=1, activation='relu', padding='same')(X),\n",
    "#         tf.keras.layers.Conv2DTranspose(F, 7, strides=1, activation='relu', padding='same')(X)])\n",
    "#     pool1 = tf.keras.layers.AveragePooling2D(pool_size=2)(conv1) # spatial dim: N / 2\n",
    "    \n",
    "#     conv2 = tf.keras.layers.Concatenate(axis=-1)([\n",
    "#         tf.keras.layers.Conv2D(F, (3, 3), strides=1, activation='relu', padding='same')(pool1),\n",
    "#         tf.keras.layers.Conv2D(F, (5, 5), strides=1, activation='relu', padding='same')(pool1),\n",
    "#         tf.keras.layers.Conv2D(F, (7, 7), strides=1, activation='relu', padding='same')(pool1),\n",
    "#         tf.keras.layers.Conv2DTranspose(F, 3, strides=1, activation='relu', padding='same')(pool1),\n",
    "#         tf.keras.layers.Conv2DTranspose(F, 5, strides=1, activation='relu', padding='same')(pool1),\n",
    "#         tf.keras.layers.Conv2DTranspose(F, 7, strides=1, activation='relu', padding='same')(pool1)])\n",
    "#     pool2 = tf.keras.layers.AveragePooling2D(pool_size=2)(conv2) # spatial dim: N / 4\n",
    "    \n",
    "#     conv3 = tf.keras.layers.Concatenate(axis=-1)([\n",
    "#         tf.keras.layers.Conv2D(F, (3, 3), strides=1, activation='relu', padding='same')(pool2),\n",
    "#         tf.keras.layers.Conv2D(F, (5, 5), strides=1, activation='relu', padding='same')(pool2),\n",
    "#         tf.keras.layers.Conv2D(F, (7, 7), strides=1, activation='relu', padding='same')(pool2),\n",
    "#         tf.keras.layers.Conv2DTranspose(F, 3, strides=1, activation='relu', padding='same')(pool2),\n",
    "#         tf.keras.layers.Conv2DTranspose(F, 5, strides=1, activation='relu', padding='same')(pool2),\n",
    "#         tf.keras.layers.Conv2DTranspose(F, 7, strides=1, activation='relu', padding='same')(pool2)])\n",
    "#     pool3 = tf.keras.layers.AveragePooling2D(pool_size=2)(conv3) # spatial dim: N / 8\n",
    "    \n",
    "#     conv4 = tf.keras.layers.Concatenate(axis=-1)([\n",
    "#         tf.keras.layers.Conv2DTranspose(F, 3, strides=2, activation='relu', padding='same')(pool3),\n",
    "#         tf.keras.layers.Conv2DTranspose(F, 5, strides=2, activation='relu', padding='same')(pool3),\n",
    "#         tf.keras.layers.Conv2DTranspose(F, 7, strides=2, activation='relu', padding='same')(pool3)])\n",
    "#     # spatial dim: N / 4\n",
    "    \n",
    "#     conv5 = tf.keras.layers.Concatenate(axis=-1)([\n",
    "#         tf.keras.layers.Conv2DTranspose(F, 3, strides=2, activation='relu', padding='same')(conv4),\n",
    "#         tf.keras.layers.Conv2DTranspose(F, 5, strides=2, activation='relu', padding='same')(conv4),\n",
    "#         tf.keras.layers.Conv2DTranspose(F, 7, strides=2, activation='relu', padding='same')(conv4)])\n",
    "#     # spatial dim: N / 2\n",
    "    \n",
    "#     conv6 = tf.keras.layers.Concatenate(axis=-1)([\n",
    "#         tf.keras.layers.Conv2DTranspose(F, 3, strides=2, activation='relu', padding='same')(conv5),\n",
    "#         tf.keras.layers.Conv2DTranspose(F, 5, strides=2, activation='relu', padding='same')(conv5),\n",
    "#         tf.keras.layers.Conv2DTranspose(F, 7, strides=2, activation='relu', padding='same')(conv5)])\n",
    "#     # spatial dim: N\n",
    "    \n",
    "#     conv7 = tf.keras.layers.Concatenate(axis=-1)([\n",
    "#         tf.keras.layers.Conv2D(F, (3, 3), strides=1, activation='relu', padding='same')(conv6),\n",
    "#         tf.keras.layers.Conv2D(F, (5, 5), strides=1, activation='relu', padding='same')(conv6),\n",
    "#         tf.keras.layers.Conv2D(F, (7, 7), strides=1, activation='relu', padding='same')(conv6),\n",
    "#         tf.keras.layers.Conv2DTranspose(F, 3, strides=1, activation='relu', padding='same')(conv6),\n",
    "#         tf.keras.layers.Conv2DTranspose(F, 5, strides=1, activation='relu', padding='same')(conv6),\n",
    "#         tf.keras.layers.Conv2DTranspose(F, 7, strides=1, activation='relu', padding='same')(conv6)])\n",
    "    \n",
    "#     t_conv8 = tf.keras.layers.Conv2DTranspose(6 * F, 5, strides=1, activation='relu', padding='same',\n",
    "#                                               # Encourage sparsity in output (MRI images are mostly zeros)\n",
    "#                                               activity_regularizer=tf.keras.regularizers.l1(1e-6))(conv7)\n",
    "\n",
    "#     Y_pred = tf.keras.layers.Conv2DTranspose(1, 7, strides=1, activation='relu', padding='same')(t_conv8) # spatial dim: 128\n",
    "\n",
    "#     model = tf.keras.Model(inputs=X, outputs=Y_pred)\n",
    "\n",
    "#     return model"
   ]
  },
  {
   "cell_type": "code",
   "execution_count": 83,
   "metadata": {},
   "outputs": [],
   "source": [
    "def load_uncompiled_automap_model():\n",
    "    \n",
    "    # this one's solid, but I believe we'll need a few hours to train it.\n",
    "    \n",
    "    N = 128\n",
    "    F = 128\n",
    "    X = tf.keras.layers.Input(shape=(N, N, 2))\n",
    "\n",
    "    # Half-assed data augmentation\n",
    "    noisy_X = tf.keras.layers.GaussianNoise(stddev=1e-7)(X) # shape: (256, 256, 256)\n",
    "\n",
    "    # These layers all halve the spatial dimension (but also each output 256 channels)\n",
    "    conv1 = tf.keras.layers.Conv2D(F, (3, 3), strides=(1, 1), activation='relu', padding='same')(X)\n",
    "    pool1 = tf.keras.layers.AveragePooling2D(pool_size=2)(conv1) # shape: (128, 128, F)\n",
    "\n",
    "    conv2 = tf.keras.layers.Conv2D(F, (3, 3), strides=(1, 1), activation='relu', padding='same')(pool1)\n",
    "    pool2 = tf.keras.layers.AveragePooling2D(pool_size=2)(conv2) # shape: (64, 64, F)\n",
    "\n",
    "    conv3 = tf.keras.layers.Conv2D(F, (3, 3), strides=(1, 1), activation='relu', padding='same')(pool2)\n",
    "    pool3 = tf.keras.layers.AveragePooling2D(pool_size=2)(conv3) # shape: (32, 32, F)\n",
    "\n",
    "    conv4 = tf.keras.layers.Conv2D(2 * F, (3, 3), strides=(1, 1), activation='relu', padding='same')(pool3)\n",
    "    pool4 = tf.keras.layers.AveragePooling2D(pool_size=2)(conv4) # shape: (16, 16, F)\n",
    "\n",
    "    conv5 = tf.keras.layers.Conv2D(2 * F, (3, 3), strides=(1, 1), activation='relu', padding='same')(pool4)\n",
    "    pool5 = tf.keras.layers.AveragePooling2D(pool_size=2)(conv5) # shape: (8, 8, F)\n",
    "\n",
    "    # A \"FC-like\" layer for fun before we do upsampling\n",
    "    conv7 = tf.keras.layers.Conv2D(2 * F, (2, 2), strides=(1, 1), activation='relu', padding='same')(pool5) # spatial dim: 4\n",
    "    conv7 = tf.keras.layers.Conv2D(4 * F, (2, 2), strides=(1, 1), activation='relu', padding='same')(conv7) # spatial dim: 4\n",
    "    conv7 = tf.keras.layers.Conv2D(2 * F, (2, 2), strides=(1, 1), activation='relu', padding='same')(conv7) # spatial dim: 4\n",
    "\n",
    "    # These transposed convolutions upsample spatial dimension by 2\n",
    "    t_conv1 = tf.keras.layers.Conv2DTranspose(F, 3, strides=2, activation='relu', padding='same')(conv7) # spatial dim: 8\n",
    "    t_conv2 = tf.keras.layers.Conv2DTranspose(F, 3, strides=2, activation='relu', padding='same')(t_conv1) # spatial dim: 16\n",
    "    t_conv3 = tf.keras.layers.Conv2DTranspose(F, 3, strides=2, activation='relu', padding='same')(t_conv2) # spatial dim: 32\n",
    "    t_conv4 = tf.keras.layers.Conv2DTranspose(F, 3, strides=2, activation='relu', padding='same')(t_conv3) # spatial dim: 64\n",
    "    t_conv5 = tf.keras.layers.Conv2DTranspose(F, 3, strides=2, activation='relu', padding='same')(t_conv4) # spatial dim: 128\n",
    "    \n",
    "    t_conv6 = tf.keras.layers.Conv2DTranspose(F, 5, strides=1, activation='relu', padding='same',\n",
    "                                              # Encourage sparsity in output (MRI images are mostly zeros)\n",
    "                                              activity_regularizer=tf.keras.regularizers.l1(1e-6))(t_conv5)\n",
    "    \n",
    "    Y_pred = tf.keras.layers.Conv2DTranspose(1, 7, strides=1, activation='relu', padding='same')(t_conv6) # spatial dim: 256\n",
    "\n",
    "    model = tf.keras.Model(inputs=X, outputs=Y_pred)\n",
    "\n",
    "    return model"
   ]
  },
  {
   "cell_type": "code",
   "execution_count": 84,
   "metadata": {},
   "outputs": [],
   "source": [
    "def lr_schedule(epoch):\n",
    "    initial_lr = 2e-4\n",
    "    if epoch < 10:\n",
    "        return initial_lr #2e-4\n",
    "    elif epoch >= 10 and epoch < 30:\n",
    "        return initial_lr / 2e0 #1e-4\n",
    "    elif epoch >= 30 and epoch < 40:\n",
    "        return initial_lr #2e-4\n",
    "    elif epoch >= 40 and epoch < 50:\n",
    "        return initial_lr / 2e0 #1e-4\n",
    "    elif epoch >= 50 and epoch < 60:\n",
    "        return initial_lr / 4e0 #5e-5\n",
    "    elif epoch >= 60 and epoch < 80:\n",
    "        return initial_lr / 2e1 #1e-5\n",
    "    elif epoch >= 80 and epoch < 90:\n",
    "        return initial_lr / 2e2 #1e-6\n",
    "    else:\n",
    "        return initial_lr / 2e3 #1e-7"
   ]
  },
  {
   "cell_type": "code",
   "execution_count": 85,
   "metadata": {},
   "outputs": [],
   "source": [
    "def load_compiled_automap_model():\n",
    "    multi_gpu = False\n",
    "    if multi_gpu:\n",
    "        # Distribute training across GPUs (each GPU receives identical updates to weights but different batches w/\n",
    "        # mirrored strategy). Restricts callbacks we can use\n",
    "        mirrored_strategy = tf.distribute.MirroredStrategy()\n",
    "        with mirrored_strategy.scope():\n",
    "            model = load_uncompiled_automap_model()\n",
    "            optimizer = tf.keras.optimizers.Adam()\n",
    "            model.compile(loss='mse', optimizer=optimizer, metrics=[mean_PSNR])\n",
    "    else:\n",
    "        model = load_uncompiled_automap_model()\n",
    "        optimizer = tf.keras.optimizers.Adam()\n",
    "        model.compile(loss='mse', optimizer=optimizer, metrics=[mean_PSNR])\n",
    "    return model"
   ]
  },
  {
   "cell_type": "code",
   "execution_count": 86,
   "metadata": {},
   "outputs": [],
   "source": [
    "model = load_compiled_automap_model()"
   ]
  },
  {
   "cell_type": "code",
   "execution_count": 87,
   "metadata": {
    "scrolled": false
   },
   "outputs": [
    {
     "name": "stdout",
     "output_type": "stream",
     "text": [
      "Model: \"model_10\"\n",
      "_________________________________________________________________\n",
      "Layer (type)                 Output Shape              Param #   \n",
      "=================================================================\n",
      "input_13 (InputLayer)        [(None, 128, 128, 2)]     0         \n",
      "_________________________________________________________________\n",
      "conv2d_99 (Conv2D)           (None, 128, 128, 128)     2432      \n",
      "_________________________________________________________________\n",
      "average_pooling2d_63 (Averag (None, 64, 64, 128)       0         \n",
      "_________________________________________________________________\n",
      "conv2d_100 (Conv2D)          (None, 64, 64, 128)       147584    \n",
      "_________________________________________________________________\n",
      "average_pooling2d_64 (Averag (None, 32, 32, 128)       0         \n",
      "_________________________________________________________________\n",
      "conv2d_101 (Conv2D)          (None, 32, 32, 128)       147584    \n",
      "_________________________________________________________________\n",
      "average_pooling2d_65 (Averag (None, 16, 16, 128)       0         \n",
      "_________________________________________________________________\n",
      "conv2d_102 (Conv2D)          (None, 16, 16, 256)       295168    \n",
      "_________________________________________________________________\n",
      "average_pooling2d_66 (Averag (None, 8, 8, 256)         0         \n",
      "_________________________________________________________________\n",
      "conv2d_103 (Conv2D)          (None, 8, 8, 256)         590080    \n",
      "_________________________________________________________________\n",
      "average_pooling2d_67 (Averag (None, 4, 4, 256)         0         \n",
      "_________________________________________________________________\n",
      "conv2d_104 (Conv2D)          (None, 4, 4, 256)         262400    \n",
      "_________________________________________________________________\n",
      "conv2d_105 (Conv2D)          (None, 4, 4, 512)         524800    \n",
      "_________________________________________________________________\n",
      "conv2d_106 (Conv2D)          (None, 4, 4, 256)         524544    \n",
      "_________________________________________________________________\n",
      "conv2d_transpose_98 (Conv2DT (None, 8, 8, 128)         295040    \n",
      "_________________________________________________________________\n",
      "conv2d_transpose_99 (Conv2DT (None, 16, 16, 128)       147584    \n",
      "_________________________________________________________________\n",
      "conv2d_transpose_100 (Conv2D (None, 32, 32, 128)       147584    \n",
      "_________________________________________________________________\n",
      "conv2d_transpose_101 (Conv2D (None, 64, 64, 128)       147584    \n",
      "_________________________________________________________________\n",
      "conv2d_transpose_102 (Conv2D (None, 128, 128, 128)     147584    \n",
      "_________________________________________________________________\n",
      "conv2d_transpose_103 (Conv2D (None, 128, 128, 128)     409728    \n",
      "_________________________________________________________________\n",
      "conv2d_transpose_104 (Conv2D (None, 128, 128, 1)       6273      \n",
      "=================================================================\n",
      "Total params: 3,795,969\n",
      "Trainable params: 3,795,969\n",
      "Non-trainable params: 0\n",
      "_________________________________________________________________\n"
     ]
    }
   ],
   "source": [
    "model.summary()"
   ]
  },
  {
   "cell_type": "markdown",
   "metadata": {},
   "source": [
    "# Training"
   ]
  },
  {
   "cell_type": "code",
   "execution_count": 27,
   "metadata": {},
   "outputs": [],
   "source": [
    "# Show reconstructions during training\n",
    "\n",
    "def plot_fft_reconstructions(batch, logs):\n",
    "    plot_frequency = 2500\n",
    "    \n",
    "    if batch % plot_frequency != 0:\n",
    "        return\n",
    "    \n",
    "    for dataset_batch, name in first_batches():\n",
    "        x, y = dataset_batch\n",
    "        y = y.numpy()\n",
    "        y_pred = model.predict(x)\n",
    "\n",
    "        with file_writer.as_default():\n",
    "            for i in range(min(len(y), 5)):\n",
    "                prediction, ground_truth = y_pred[i:i + 1, ...], y[i:i + 1, ...]\n",
    "                tf.summary.image(\"{} Image {} (Prediction)\".format(name, i), prediction, max_outputs=1, step=batch)\n",
    "                tf.summary.image(\"{} Image {} (Ground Truth)\".format(name, i), ground_truth, max_outputs=1, step=batch)"
   ]
  },
  {
   "cell_type": "code",
   "execution_count": 28,
   "metadata": {},
   "outputs": [],
   "source": [
    "# Show activation histograms\n",
    "\n",
    "def layer_activations(inputs):\n",
    "    layers = model.layers\n",
    "    names = [l.name for l in layers]\n",
    "    input_tensor = layers[0].input\n",
    "    outputs = [l.output for l in layers]\n",
    "    \n",
    "    get_activations = tf.keras.backend.function(input_tensor, outputs)\n",
    "    activations = get_activations(inputs=inputs)\n",
    "    \n",
    "    return list(zip(names, activations))\n",
    "\n",
    "def plot_activations(batch, logs):\n",
    "    plot_frequency = 2500\n",
    "    \n",
    "    if batch % plot_frequency != 0:\n",
    "        return\n",
    "\n",
    "    with file_writer.as_default():\n",
    "        for dataset_batch, stage in first_batches():\n",
    "            for layer_name, layer_activation in layer_activations(dataset_batch):\n",
    "                tf.summary.histogram('{}/activations/{}'.format(layer_name, stage.lower()), layer_activation,\n",
    "                                    step=batch)\n"
   ]
  },
  {
   "cell_type": "code",
   "execution_count": 29,
   "metadata": {},
   "outputs": [],
   "source": [
    "# Clear logs and models if necessary\n",
    "# !rm -r /home/ubuntu/cs230/logs/\n",
    "# !rm -r /home/ubuntu/cs230/models"
   ]
  },
  {
   "cell_type": "code",
   "execution_count": 30,
   "metadata": {},
   "outputs": [],
   "source": [
    "# Define where logs will be saved\n",
    "\n",
    "logdir = os.path.join('/home/ubuntu/cs230/logs', datetime.now().strftime(\"%Y-%m-%d_%H:%M:%S\"))\n",
    "file_writer = tf.summary.create_file_writer(os.path.join(logdir, 'metrics'))"
   ]
  },
  {
   "cell_type": "markdown",
   "metadata": {},
   "source": [
    "### Callbacks to use in various stages of training"
   ]
  },
  {
   "cell_type": "code",
   "execution_count": 31,
   "metadata": {},
   "outputs": [],
   "source": [
    "# Callback for printing the LR at the end of each epoch.\n",
    "\n",
    "class PrintAndLogLR(tf.keras.callbacks.Callback):\n",
    "    def on_epoch_end(self, epoch, logs=None):\n",
    "        with file_writer.as_default():\n",
    "            current_lr = model.optimizer.lr.numpy()\n",
    "            tf.summary.scalar('learning rate', data=current_lr, step=epoch)\n",
    "        print('\\nLearning rate for epoch {} is {}'.format(epoch + 1, current_lr))\n",
    "\n",
    "plot_images_callback = tf.keras.callbacks.LambdaCallback(on_batch_end=plot_fft_reconstructions)\n",
    "\n",
    "plot_activations_callback = tf.keras.callbacks.LambdaCallback(on_batch_end=plot_activations)\n",
    "\n",
    "tensorboard_callback = tf.keras.callbacks.TensorBoard(log_dir=logdir, histogram_freq=1, update_freq=2500,\n",
    "                                                      profile_batch=0) # workaround for: https://github.com/tensorflow/tensorboard/issues/2084\n",
    "\n",
    "set_lr_callback = tf.keras.callbacks.LearningRateScheduler(lr_schedule)\n",
    "\n",
    "reduce_lr_callback = tf.keras.callbacks.ReduceLROnPlateau(monitor='val_loss', factor=0.25,\n",
    "                              patience=2, min_lr=1e-8)\n",
    "\n",
    "# Callback for checkpointing model\n",
    "\n",
    "# include the epoch in the file name. (uses `str.format`)\n",
    "checkpoint_path = os.path.join('/home/ubuntu/cs230/models/automap_fastmri',\n",
    "                               datetime.now().strftime(\"%Y-%m-%d_%H:%M:%S\"),\n",
    "                               'cp-{epoch:04d}.ckpt')\n",
    "checkpoint_dir = os.path.dirname(checkpoint_path)\n",
    "checkpoint_callback = tf.keras.callbacks.ModelCheckpoint(\n",
    "    checkpoint_path, verbose=1, save_weights_only=True,\n",
    "    # Save every K-batches\n",
    "    save_freq=int(5e5))\n",
    "model.save_weights(checkpoint_path.format(epoch=0))\n",
    "\n",
    "callbacks = [tensorboard_callback, plot_images_callback, plot_activations_callback,\n",
    "             set_lr_callback, reduce_lr_callback, PrintAndLogLR(), checkpoint_callback]"
   ]
  },
  {
   "cell_type": "markdown",
   "metadata": {},
   "source": [
    "### Begin training and open Tensorboard to monitor"
   ]
  },
  {
   "cell_type": "code",
   "execution_count": 32,
   "metadata": {
    "scrolled": true
   },
   "outputs": [
    {
     "name": "stdout",
     "output_type": "stream",
     "text": [
      "Epoch 1/150\n",
      "      1/Unknown - 19s 19s/step - loss: 0.0678 - mean_PSNR: 12.2637"
     ]
    },
    {
     "name": "stderr",
     "output_type": "stream",
     "text": [
      "WARNING: Logging before flag parsing goes to stderr.\n",
      "W0607 00:34:42.734519 140445761623808 callbacks.py:241] Method (on_train_batch_end) is slow compared to the batch update (4.026434). Check your callbacks.\n"
     ]
    },
    {
     "name": "stdout",
     "output_type": "stream",
     "text": [
      "   2172/Unknown - 392s 181ms/step - loss: 0.0186 - mean_PSNR: 18.2985\n",
      "Learning rate for epoch 1 is 0.00019999999494757503\n",
      "2172/2172 [==============================] - 434s 200ms/step - loss: 0.0186 - mean_PSNR: 18.2985 - val_loss: 0.0000e+00 - val_mean_PSNR: 0.0000e+00\n",
      "Epoch 2/150\n"
     ]
    },
    {
     "name": "stderr",
     "output_type": "stream",
     "text": [
      "W0607 00:41:43.502424 140445761623808 callbacks.py:241] Method (on_train_batch_end) is slow compared to the batch update (6.240331). Check your callbacks.\n"
     ]
    },
    {
     "name": "stdout",
     "output_type": "stream",
     "text": [
      "\r",
      "   1/2172 [..............................] - ETA: 4:02:13 - loss: 0.0129 - mean_PSNR: 19.6522"
     ]
    },
    {
     "name": "stderr",
     "output_type": "stream",
     "text": [
      "W0607 00:41:43.673682 140445761623808 callbacks.py:241] Method (on_train_batch_end) is slow compared to the batch update (3.120191). Check your callbacks.\n"
     ]
    },
    {
     "name": "stdout",
     "output_type": "stream",
     "text": [
      "1037/2172 [=============>................] - ETA: 3:20 - loss: 0.0126 - mean_PSNR: 19.7477"
     ]
    },
    {
     "ename": "KeyboardInterrupt",
     "evalue": "",
     "output_type": "error",
     "traceback": [
      "\u001b[0;31m---------------------------------------------------------------------------\u001b[0m",
      "\u001b[0;31mKeyboardInterrupt\u001b[0m                         Traceback (most recent call last)",
      "\u001b[0;32m<ipython-input-32-43ae628acceb>\u001b[0m in \u001b[0;36m<module>\u001b[0;34m()\u001b[0m\n\u001b[1;32m      5\u001b[0m     \u001b[0mepochs\u001b[0m\u001b[0;34m=\u001b[0m\u001b[0;36m150\u001b[0m\u001b[0;34m,\u001b[0m\u001b[0;34m\u001b[0m\u001b[0m\n\u001b[1;32m      6\u001b[0m     \u001b[0mcallbacks\u001b[0m\u001b[0;34m=\u001b[0m\u001b[0mcallbacks\u001b[0m\u001b[0;34m,\u001b[0m\u001b[0;34m\u001b[0m\u001b[0m\n\u001b[0;32m----> 7\u001b[0;31m     use_multiprocessing=True) # see if speeds things up\n\u001b[0m",
      "\u001b[0;32m~/anaconda3/envs/tensorflow_p36/lib/python3.6/site-packages/tensorflow/python/keras/engine/training.py\u001b[0m in \u001b[0;36mfit\u001b[0;34m(self, x, y, batch_size, epochs, verbose, callbacks, validation_split, validation_data, shuffle, class_weight, sample_weight, initial_epoch, steps_per_epoch, validation_steps, validation_freq, max_queue_size, workers, use_multiprocessing, **kwargs)\u001b[0m\n\u001b[1;32m    644\u001b[0m         \u001b[0mmax_queue_size\u001b[0m\u001b[0;34m=\u001b[0m\u001b[0mmax_queue_size\u001b[0m\u001b[0;34m,\u001b[0m\u001b[0;34m\u001b[0m\u001b[0m\n\u001b[1;32m    645\u001b[0m         \u001b[0mworkers\u001b[0m\u001b[0;34m=\u001b[0m\u001b[0mworkers\u001b[0m\u001b[0;34m,\u001b[0m\u001b[0;34m\u001b[0m\u001b[0m\n\u001b[0;32m--> 646\u001b[0;31m         use_multiprocessing=use_multiprocessing)\n\u001b[0m\u001b[1;32m    647\u001b[0m \u001b[0;34m\u001b[0m\u001b[0m\n\u001b[1;32m    648\u001b[0m   def evaluate(self,\n",
      "\u001b[0;32m~/anaconda3/envs/tensorflow_p36/lib/python3.6/site-packages/tensorflow/python/keras/engine/training_generator.py\u001b[0m in \u001b[0;36mfit\u001b[0;34m(self, model, x, y, batch_size, epochs, verbose, callbacks, validation_split, validation_data, shuffle, class_weight, sample_weight, initial_epoch, steps_per_epoch, validation_steps, validation_freq, **kwargs)\u001b[0m\n\u001b[1;32m    692\u001b[0m         \u001b[0mshuffle\u001b[0m\u001b[0;34m=\u001b[0m\u001b[0mshuffle\u001b[0m\u001b[0;34m,\u001b[0m\u001b[0;34m\u001b[0m\u001b[0m\n\u001b[1;32m    693\u001b[0m         \u001b[0minitial_epoch\u001b[0m\u001b[0;34m=\u001b[0m\u001b[0minitial_epoch\u001b[0m\u001b[0;34m,\u001b[0m\u001b[0;34m\u001b[0m\u001b[0m\n\u001b[0;32m--> 694\u001b[0;31m         steps_name='steps_per_epoch')\n\u001b[0m\u001b[1;32m    695\u001b[0m \u001b[0;34m\u001b[0m\u001b[0m\n\u001b[1;32m    696\u001b[0m   def evaluate(self,\n",
      "\u001b[0;32m~/anaconda3/envs/tensorflow_p36/lib/python3.6/site-packages/tensorflow/python/keras/engine/training_generator.py\u001b[0m in \u001b[0;36mmodel_iteration\u001b[0;34m(model, data, steps_per_epoch, epochs, verbose, callbacks, validation_data, validation_steps, validation_freq, class_weight, max_queue_size, workers, use_multiprocessing, shuffle, initial_epoch, mode, batch_size, steps_name, **kwargs)\u001b[0m\n\u001b[1;32m    262\u001b[0m \u001b[0;34m\u001b[0m\u001b[0m\n\u001b[1;32m    263\u001b[0m       \u001b[0mis_deferred\u001b[0m \u001b[0;34m=\u001b[0m \u001b[0;32mnot\u001b[0m \u001b[0mmodel\u001b[0m\u001b[0;34m.\u001b[0m\u001b[0m_is_compiled\u001b[0m\u001b[0;34m\u001b[0m\u001b[0m\n\u001b[0;32m--> 264\u001b[0;31m       \u001b[0mbatch_outs\u001b[0m \u001b[0;34m=\u001b[0m \u001b[0mbatch_function\u001b[0m\u001b[0;34m(\u001b[0m\u001b[0;34m*\u001b[0m\u001b[0mbatch_data\u001b[0m\u001b[0;34m)\u001b[0m\u001b[0;34m\u001b[0m\u001b[0m\n\u001b[0m\u001b[1;32m    265\u001b[0m       \u001b[0;32mif\u001b[0m \u001b[0;32mnot\u001b[0m \u001b[0misinstance\u001b[0m\u001b[0;34m(\u001b[0m\u001b[0mbatch_outs\u001b[0m\u001b[0;34m,\u001b[0m \u001b[0mlist\u001b[0m\u001b[0;34m)\u001b[0m\u001b[0;34m:\u001b[0m\u001b[0;34m\u001b[0m\u001b[0m\n\u001b[1;32m    266\u001b[0m         \u001b[0mbatch_outs\u001b[0m \u001b[0;34m=\u001b[0m \u001b[0;34m[\u001b[0m\u001b[0mbatch_outs\u001b[0m\u001b[0;34m]\u001b[0m\u001b[0;34m\u001b[0m\u001b[0m\n",
      "\u001b[0;32m~/anaconda3/envs/tensorflow_p36/lib/python3.6/site-packages/tensorflow/python/keras/engine/training.py\u001b[0m in \u001b[0;36mtrain_on_batch\u001b[0;34m(self, x, y, sample_weight, class_weight, reset_metrics)\u001b[0m\n\u001b[1;32m    919\u001b[0m       \u001b[0mself\u001b[0m\u001b[0;34m.\u001b[0m\u001b[0m_update_sample_weight_modes\u001b[0m\u001b[0;34m(\u001b[0m\u001b[0msample_weights\u001b[0m\u001b[0;34m=\u001b[0m\u001b[0msample_weights\u001b[0m\u001b[0;34m)\u001b[0m\u001b[0;34m\u001b[0m\u001b[0m\n\u001b[1;32m    920\u001b[0m       \u001b[0mself\u001b[0m\u001b[0;34m.\u001b[0m\u001b[0m_make_train_function\u001b[0m\u001b[0;34m(\u001b[0m\u001b[0;34m)\u001b[0m\u001b[0;34m\u001b[0m\u001b[0m\n\u001b[0;32m--> 921\u001b[0;31m       \u001b[0moutputs\u001b[0m \u001b[0;34m=\u001b[0m \u001b[0mself\u001b[0m\u001b[0;34m.\u001b[0m\u001b[0mtrain_function\u001b[0m\u001b[0;34m(\u001b[0m\u001b[0mins\u001b[0m\u001b[0;34m)\u001b[0m  \u001b[0;31m# pylint: disable=not-callable\u001b[0m\u001b[0;34m\u001b[0m\u001b[0m\n\u001b[0m\u001b[1;32m    922\u001b[0m \u001b[0;34m\u001b[0m\u001b[0m\n\u001b[1;32m    923\u001b[0m     \u001b[0;32mif\u001b[0m \u001b[0mreset_metrics\u001b[0m\u001b[0;34m:\u001b[0m\u001b[0;34m\u001b[0m\u001b[0m\n",
      "\u001b[0;32m~/anaconda3/envs/tensorflow_p36/lib/python3.6/site-packages/tensorflow/python/keras/backend.py\u001b[0m in \u001b[0;36m__call__\u001b[0;34m(self, inputs)\u001b[0m\n\u001b[1;32m   3516\u001b[0m     \u001b[0;31m# (otherwise it's just a no-op.)\u001b[0m\u001b[0;34m\u001b[0m\u001b[0;34m\u001b[0m\u001b[0m\n\u001b[1;32m   3517\u001b[0m     return nest.pack_sequence_as(\n\u001b[0;32m-> 3518\u001b[0;31m         \u001b[0mself\u001b[0m\u001b[0;34m.\u001b[0m\u001b[0m_outputs_structure\u001b[0m\u001b[0;34m,\u001b[0m \u001b[0;34m[\u001b[0m\u001b[0mx\u001b[0m\u001b[0;34m.\u001b[0m\u001b[0m_cpu_nograd\u001b[0m\u001b[0;34m(\u001b[0m\u001b[0;34m)\u001b[0m\u001b[0;34m.\u001b[0m\u001b[0m_numpy\u001b[0m\u001b[0;34m(\u001b[0m\u001b[0;34m)\u001b[0m \u001b[0;32mfor\u001b[0m \u001b[0mx\u001b[0m \u001b[0;32min\u001b[0m \u001b[0moutputs\u001b[0m\u001b[0;34m]\u001b[0m\u001b[0;34m,\u001b[0m  \u001b[0;31m# pylint: disable=protected-access\u001b[0m\u001b[0;34m\u001b[0m\u001b[0m\n\u001b[0m\u001b[1;32m   3519\u001b[0m         expand_composites=True)\n\u001b[1;32m   3520\u001b[0m \u001b[0;34m\u001b[0m\u001b[0m\n",
      "\u001b[0;32m~/anaconda3/envs/tensorflow_p36/lib/python3.6/site-packages/tensorflow/python/keras/backend.py\u001b[0m in \u001b[0;36m<listcomp>\u001b[0;34m(.0)\u001b[0m\n\u001b[1;32m   3516\u001b[0m     \u001b[0;31m# (otherwise it's just a no-op.)\u001b[0m\u001b[0;34m\u001b[0m\u001b[0;34m\u001b[0m\u001b[0m\n\u001b[1;32m   3517\u001b[0m     return nest.pack_sequence_as(\n\u001b[0;32m-> 3518\u001b[0;31m         \u001b[0mself\u001b[0m\u001b[0;34m.\u001b[0m\u001b[0m_outputs_structure\u001b[0m\u001b[0;34m,\u001b[0m \u001b[0;34m[\u001b[0m\u001b[0mx\u001b[0m\u001b[0;34m.\u001b[0m\u001b[0m_cpu_nograd\u001b[0m\u001b[0;34m(\u001b[0m\u001b[0;34m)\u001b[0m\u001b[0;34m.\u001b[0m\u001b[0m_numpy\u001b[0m\u001b[0;34m(\u001b[0m\u001b[0;34m)\u001b[0m \u001b[0;32mfor\u001b[0m \u001b[0mx\u001b[0m \u001b[0;32min\u001b[0m \u001b[0moutputs\u001b[0m\u001b[0;34m]\u001b[0m\u001b[0;34m,\u001b[0m  \u001b[0;31m# pylint: disable=protected-access\u001b[0m\u001b[0;34m\u001b[0m\u001b[0m\n\u001b[0m\u001b[1;32m   3519\u001b[0m         expand_composites=True)\n\u001b[1;32m   3520\u001b[0m \u001b[0;34m\u001b[0m\u001b[0m\n",
      "\u001b[0;32m~/anaconda3/envs/tensorflow_p36/lib/python3.6/site-packages/tensorflow/python/framework/ops.py\u001b[0m in \u001b[0;36m_cpu_nograd\u001b[0;34m(self)\u001b[0m\n\u001b[1;32m    950\u001b[0m       \u001b[0mA\u001b[0m \u001b[0mCPU\u001b[0m\u001b[0;34m-\u001b[0m\u001b[0mmemory\u001b[0m \u001b[0mbacked\u001b[0m \u001b[0mTensor\u001b[0m \u001b[0mobject\u001b[0m \u001b[0;32mwith\u001b[0m \u001b[0mthe\u001b[0m \u001b[0msame\u001b[0m \u001b[0mcontents\u001b[0m \u001b[0;32mas\u001b[0m \u001b[0mthis\u001b[0m \u001b[0mTensor\u001b[0m\u001b[0;34m.\u001b[0m\u001b[0;34m\u001b[0m\u001b[0m\n\u001b[1;32m    951\u001b[0m     \"\"\"\n\u001b[0;32m--> 952\u001b[0;31m     \u001b[0;32mreturn\u001b[0m \u001b[0mself\u001b[0m\u001b[0;34m.\u001b[0m\u001b[0m_copy_nograd\u001b[0m\u001b[0;34m(\u001b[0m\u001b[0mcontext\u001b[0m\u001b[0;34m.\u001b[0m\u001b[0mcontext\u001b[0m\u001b[0;34m(\u001b[0m\u001b[0;34m)\u001b[0m\u001b[0;34m,\u001b[0m \u001b[0;34m\"CPU:0\"\u001b[0m\u001b[0;34m)\u001b[0m\u001b[0;34m\u001b[0m\u001b[0m\n\u001b[0m\u001b[1;32m    953\u001b[0m \u001b[0;34m\u001b[0m\u001b[0m\n\u001b[1;32m    954\u001b[0m   \u001b[0;32mdef\u001b[0m \u001b[0mcpu\u001b[0m\u001b[0;34m(\u001b[0m\u001b[0mself\u001b[0m\u001b[0;34m)\u001b[0m\u001b[0;34m:\u001b[0m\u001b[0;34m\u001b[0m\u001b[0m\n",
      "\u001b[0;32m~/anaconda3/envs/tensorflow_p36/lib/python3.6/site-packages/tensorflow/python/framework/ops.py\u001b[0m in \u001b[0;36m_copy_nograd\u001b[0;34m(self, ctx, device_name)\u001b[0m\n\u001b[1;32m    893\u001b[0m     \u001b[0;32mtry\u001b[0m\u001b[0;34m:\u001b[0m\u001b[0;34m\u001b[0m\u001b[0m\n\u001b[1;32m    894\u001b[0m       \u001b[0mctx\u001b[0m\u001b[0;34m.\u001b[0m\u001b[0mensure_initialized\u001b[0m\u001b[0;34m(\u001b[0m\u001b[0;34m)\u001b[0m\u001b[0;34m\u001b[0m\u001b[0m\n\u001b[0;32m--> 895\u001b[0;31m       \u001b[0mnew_tensor\u001b[0m \u001b[0;34m=\u001b[0m \u001b[0mself\u001b[0m\u001b[0;34m.\u001b[0m\u001b[0m_copy_to_device\u001b[0m\u001b[0;34m(\u001b[0m\u001b[0mcontext\u001b[0m\u001b[0;34m=\u001b[0m\u001b[0mctx\u001b[0m\u001b[0;34m.\u001b[0m\u001b[0m_handle\u001b[0m\u001b[0;34m,\u001b[0m \u001b[0mdevice\u001b[0m\u001b[0;34m=\u001b[0m\u001b[0mdevice_name\u001b[0m\u001b[0;34m)\u001b[0m\u001b[0;34m\u001b[0m\u001b[0m\n\u001b[0m\u001b[1;32m    896\u001b[0m     \u001b[0;32mexcept\u001b[0m \u001b[0mcore\u001b[0m\u001b[0;34m.\u001b[0m\u001b[0m_NotOkStatusException\u001b[0m \u001b[0;32mas\u001b[0m \u001b[0me\u001b[0m\u001b[0;34m:\u001b[0m\u001b[0;34m\u001b[0m\u001b[0m\n\u001b[1;32m    897\u001b[0m       \u001b[0msix\u001b[0m\u001b[0;34m.\u001b[0m\u001b[0mraise_from\u001b[0m\u001b[0;34m(\u001b[0m\u001b[0mcore\u001b[0m\u001b[0;34m.\u001b[0m\u001b[0m_status_to_exception\u001b[0m\u001b[0;34m(\u001b[0m\u001b[0me\u001b[0m\u001b[0;34m.\u001b[0m\u001b[0mcode\u001b[0m\u001b[0;34m,\u001b[0m \u001b[0me\u001b[0m\u001b[0;34m.\u001b[0m\u001b[0mmessage\u001b[0m\u001b[0;34m)\u001b[0m\u001b[0;34m,\u001b[0m \u001b[0;32mNone\u001b[0m\u001b[0;34m)\u001b[0m\u001b[0;34m\u001b[0m\u001b[0m\n",
      "\u001b[0;31mKeyboardInterrupt\u001b[0m: "
     ]
    }
   ],
   "source": [
    "training_history = model.fit(\n",
    "    train_dataset,\n",
    "    validation_data=dev_dataset,\n",
    "    verbose=1, # set to 0 to suppress chatty output and use Tensorboard instead\n",
    "    epochs=150,\n",
    "    callbacks=callbacks,\n",
    "    use_multiprocessing=True) # see if speeds things up"
   ]
  },
  {
   "cell_type": "markdown",
   "metadata": {},
   "source": [
    "### Save model (to do: make callback)"
   ]
  },
  {
   "cell_type": "code",
   "execution_count": null,
   "metadata": {},
   "outputs": [],
   "source": [
    "# # # Uncomment to save model\n",
    "saved_model_path = 'final_fast_mri_output'\n",
    "model.save(saved_model_path)"
   ]
  },
  {
   "cell_type": "markdown",
   "metadata": {},
   "source": [
    "## Evaluate model"
   ]
  },
  {
   "cell_type": "code",
   "execution_count": null,
   "metadata": {},
   "outputs": [],
   "source": [
    "model.evaluate(test_dataset, verbose=1)\n",
    "# model.evaluate(dev_dataset, verbose=1)\n",
    "# model.evaluate(train_dataset, verbose=1)"
   ]
  },
  {
   "cell_type": "markdown",
   "metadata": {},
   "source": [
    "### Plot training history (but better viewed in Tensorboard)"
   ]
  },
  {
   "cell_type": "code",
   "execution_count": null,
   "metadata": {},
   "outputs": [],
   "source": [
    "plt.figure()\n",
    "plt.plot(training_history.history[\"loss\"], label=\"Train\")\n",
    "plt.plot(training_history.history[\"val_loss\"], label=\"Test\")\n",
    "plt.xlabel(\"Epoch\")\n",
    "plt.ylabel(\"Loss\")\n",
    "plt.legend(loc=\"center right\")"
   ]
  },
  {
   "cell_type": "code",
   "execution_count": null,
   "metadata": {},
   "outputs": [],
   "source": [
    "plt.figure()\n",
    "plt.plot(training_history.history[\"mean_PSNR\"], label=\"Train\")\n",
    "plt.plot(training_history.history[\"val_mean_PSNR\"], label=\"Test\")\n",
    "plt.xlabel(\"Epoch\")\n",
    "plt.ylabel(\"µ ( PSNR ) \")\n",
    "plt.legend(loc=\"center right\")"
   ]
  },
  {
   "cell_type": "code",
   "execution_count": null,
   "metadata": {},
   "outputs": [],
   "source": [
    "# Predict on a test batch\n",
    "\n",
    "# batch = next(iter(test_dataset))\n",
    "\n",
    "x, y = first_test_batch\n",
    "x, y = x.numpy(), y.numpy()\n",
    "y_pred = model.predict(x)\n",
    "\n",
    "# Inspect output\n",
    "\n",
    "for i in range(len(x)):\n",
    "\n",
    "    fft_mag = x[i, ..., 0]\n",
    "    fft_ang = x[i, ..., 1]\n",
    "    reconstruction = y_pred[i, ..., 0]\n",
    "    image = y[i, ..., 0]\n",
    "\n",
    "    MSE = utils.signal_processing.mean_square_error(reconstruction, image)\n",
    "    PSNR = utils.signal_processing.PSNR(reconstruction, image, max_value=max(image.max(), reconstruction.max()))\n",
    "\n",
    "    plt.subplot(2, 2, 1)\n",
    "    plt.title('Reconstruction (MSE: {:0.5f}, PSNR: {:0.5f})'.format(MSE, PSNR))\n",
    "    utils.plot.imshowgray(reconstruction)\n",
    "\n",
    "    plt.subplot(2, 2, 2)\n",
    "    plt.title('FFT (Magnitude)')\n",
    "    utils.plot.imshowfft(fft_mag)\n",
    "\n",
    "    plt.subplot(2, 2, 3)\n",
    "    plt.title('Expected reconstruction')\n",
    "    utils.plot.imshowgray(image)\n",
    "\n",
    "    plt.subplot(2, 2, 4)\n",
    "    plt.title('FFT (Phase)')\n",
    "    utils.plot.imshowgray(fft_ang)\n",
    "\n",
    "    plt.show()\n",
    "    break\n"
   ]
  },
  {
   "cell_type": "code",
   "execution_count": null,
   "metadata": {},
   "outputs": [],
   "source": [
    "utils.plot.imshowgray(y_pred[0].squeeze())"
   ]
  },
  {
   "cell_type": "code",
   "execution_count": null,
   "metadata": {},
   "outputs": [],
   "source": [
    "utils.plot.imshowgray(y[0].squeeze())"
   ]
  },
  {
   "cell_type": "code",
   "execution_count": null,
   "metadata": {},
   "outputs": [],
   "source": []
  }
 ],
 "metadata": {
  "kernelspec": {
   "display_name": "Environment (conda_tensorflow_p36)",
   "language": "python",
   "name": "conda_tensorflow_p36"
  },
  "language_info": {
   "codemirror_mode": {
    "name": "ipython",
    "version": 3
   },
   "file_extension": ".py",
   "mimetype": "text/x-python",
   "name": "python",
   "nbconvert_exporter": "python",
   "pygments_lexer": "ipython3",
   "version": "3.6.5"
  }
 },
 "nbformat": 4,
 "nbformat_minor": 2
}
