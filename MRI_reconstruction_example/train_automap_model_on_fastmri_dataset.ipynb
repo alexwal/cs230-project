{
 "cells": [
  {
   "cell_type": "code",
   "execution_count": 1,
   "metadata": {},
   "outputs": [],
   "source": [
    "# To use TF 2.0 (on EC2 instance running Deep Learning AMI):\n",
    "# source activate tensorflow_p36\n",
    "# pip uninstall tensorflow-gpu\n",
    "# pip install tensorflow-gpu==2.0.0-alpha0\n",
    "\n",
    "# But then later decided wanted even newer GPU stuff and \"in that conda env, ran:\n",
    "# pip uninstall tensorflow-gpu\n",
    "# pip install --upgrade pip\n",
    "# pip install wrapt --ignore-installed # ran this because had an error\n",
    "# pip install  tf-nightly-gpu-2.0-preview\n",
    "\n",
    "# Result: Successfully installed tf-nightly-gpu-2.0-preview-2.0.0.dev20190606"
   ]
  },
  {
   "cell_type": "code",
   "execution_count": 2,
   "metadata": {},
   "outputs": [],
   "source": [
    "import os\n",
    "import pytz\n",
    "import datetime as dt\n",
    "import numpy as np\n",
    "import tensorflow as tf"
   ]
  },
  {
   "cell_type": "code",
   "execution_count": 3,
   "metadata": {},
   "outputs": [],
   "source": [
    "import matplotlib.pyplot as plt\n",
    "%matplotlib inline\n",
    "\n",
    "plt.style.use('seaborn') # pretty matplotlib plots\n",
    "plt.rcParams[\"axes.grid\"] = False # don't show grid lines on plots by default\n",
    "plt.rcParams['figure.figsize'] = (12, 16) # increase size of subplots"
   ]
  },
  {
   "cell_type": "code",
   "execution_count": 4,
   "metadata": {},
   "outputs": [
    {
     "name": "stdout",
     "output_type": "stream",
     "text": [
      "TensorFlow version:  2.0.0-dev20190608\n"
     ]
    }
   ],
   "source": [
    "from packaging import version\n",
    "\n",
    "print(\"TensorFlow version: \", tf.__version__) # make sure >= 2.0.0-dev20190606 (07 broken!)\n",
    "assert version.parse(tf.__version__).release[0] >= 2, \"This notebook requires TensorFlow 2.0 or above.\"\n"
   ]
  },
  {
   "cell_type": "code",
   "execution_count": 5,
   "metadata": {},
   "outputs": [],
   "source": [
    "import cs230_project_utilities as utils"
   ]
  },
  {
   "cell_type": "code",
   "execution_count": 6,
   "metadata": {},
   "outputs": [],
   "source": [
    "# GPU usage logging (TF 2.0+)\n",
    "\n",
    "tf.config.set_soft_device_placement(True)\n",
    "tf.debugging.set_log_device_placement(False)"
   ]
  },
  {
   "cell_type": "code",
   "execution_count": 7,
   "metadata": {},
   "outputs": [],
   "source": [
    "def localized_timestamp():\n",
    "    return dt.datetime.now(tz=pytz.timezone('America/Los_Angeles')).strftime(\"%Y-%m-%d_%H:%M:%S\")"
   ]
  },
  {
   "cell_type": "code",
   "execution_count": 8,
   "metadata": {},
   "outputs": [],
   "source": [
    "# Predict on a test batch\n",
    "\n",
    "def predict_and_visualize(model, x, y):\n",
    "\n",
    "    # Run model\n",
    "    y_pred = model.predict(x)\n",
    "\n",
    "    # Inspect output\n",
    "    for i in range(len(x)):\n",
    "\n",
    "        fft = utils.fastmri._combine_two_channels_of_complex_tensor(x[i]).numpy()\n",
    "        fft_mag = np.abs(fft)\n",
    "        fft_ang = np.angle(fft)\n",
    "        reconstruction = y_pred[i, ..., 0]\n",
    "        image = y[i, ..., 0]\n",
    "\n",
    "        MSE = utils.signal_processing.mean_square_error(reconstruction, image)\n",
    "        PSNR = utils.signal_processing.PSNR(reconstruction, image, max_value=max(image.max(), reconstruction.max()))\n",
    "\n",
    "        plt.subplot(2, 2, 1)\n",
    "        plt.title('Reconstruction (MSE: {:0.5f}, PSNR: {:0.5f})'.format(MSE, PSNR))\n",
    "        utils.plot.imshowgray(reconstruction)\n",
    "\n",
    "        plt.subplot(2, 2, 2)\n",
    "        plt.title('FFT (Magnitude)')\n",
    "        utils.plot.imshowfft(fft_mag)\n",
    "\n",
    "        plt.subplot(2, 2, 3)\n",
    "        plt.title('Expected reconstruction')\n",
    "        utils.plot.imshowgray(image)\n",
    "\n",
    "        plt.subplot(2, 2, 4)\n",
    "        plt.title('FFT (Phase)')\n",
    "        utils.plot.imshowgray(fft_ang)\n",
    "\n",
    "        plt.show()\n",
    "        break\n",
    "        \n",
    "    print('For validation: x.sum()={}, y.sum()={}, y_pred.sum()={}'.format(x.sum(), y.sum(), y_pred.sum()))\n",
    "    print('Model iterations: {}'.format(model.optimizer.iterations.numpy()))\n",
    "        \n",
    "    # Return model output\n",
    "    return y_pred\n",
    "\n",
    "# Load a saved model\n",
    "\n",
    "def restore_model(restore_path, weights_only, model=None, custom_objects=None):\n",
    "    '''\n",
    "    Restoring saved models\n",
    "    \n",
    "    - To restore a `tf.keras.Model` saved with `model.save_weights(...)`:\n",
    "        Set `weights_only` to `True`. Restore weights at `restore_path` into `model`.\n",
    "    - To restore a `tf.keras.Model` saved with `model.save(...)`:\n",
    "        Set `weights_only` to `False`. Load and return and entire model at `restore_path`,\n",
    "        optionally passing in the dictionary `custom_objects`.\n",
    "    '''\n",
    "    if weights_only:\n",
    "        assert model is not None, 'Must pass a model if only restoring weights.'\n",
    "        model.load_weights(restore_path)\n",
    "    else:\n",
    "        assert model is None, 'Do not pass a model if only restoring weights. A model will be returned.'\n",
    "        model = tf.keras.models.load_model(restore_path, custom_objects=custom_objects)\n",
    "\n",
    "    return model\n",
    "\n"
   ]
  },
  {
   "cell_type": "markdown",
   "metadata": {},
   "source": [
    "# Load dataset as TFRecords "
   ]
  },
  {
   "cell_type": "code",
   "execution_count": 9,
   "metadata": {},
   "outputs": [],
   "source": [
    "# Sync from remote storage in s3\n",
    "# aws s3 sync s3://cs230-automap/data/fastmri/tfrecords cs230/data/fastmri/tfrecords"
   ]
  },
  {
   "cell_type": "code",
   "execution_count": 10,
   "metadata": {},
   "outputs": [],
   "source": [
    "dev_locations = '/home/ubuntu/cs230/data/fastmri/tfrecords/singlecoil_dev/*.tfrecord'\n",
    "test_locations = '/home/ubuntu/cs230/data/fastmri/tfrecords/singlecoil_test/*.tfrecord'\n",
    "train_locations = '/home/ubuntu/cs230/data/fastmri/tfrecords/singlecoil_train/*.tfrecord'"
   ]
  },
  {
   "cell_type": "code",
   "execution_count": 11,
   "metadata": {
    "scrolled": false
   },
   "outputs": [
    {
     "name": "stdout",
     "output_type": "stream",
     "text": [
      "Loading dataset... Shuffle items? True. Shuffle buffer: 384\n",
      "Loading dataset... Shuffle items? True. Shuffle buffer: 384\n",
      "Loading dataset... Shuffle items? True. Shuffle buffer: 1024\n"
     ]
    }
   ],
   "source": [
    "# Use tf.data.Datasets to preprocess and iterate data efficiently\n",
    "\n",
    "batch_size = 32\n",
    "\n",
    "dev_dataset = utils.fastmri.load_dataset(dev_locations,\n",
    "                                         batch_size=8,\n",
    "                                         shuffle_buffer_size=384,\n",
    "                                         load_original_reconstruction=False,\n",
    "                                         include_all_parsed_features=False,\n",
    "                                         ignore_errors=True,\n",
    "                                         data_augmentation='symmetric')\n",
    "\n",
    "test_dataset = utils.fastmri.load_dataset(test_locations,\n",
    "                                          batch_size=8,\n",
    "                                          shuffle_buffer_size=384,\n",
    "                                          load_original_reconstruction=False,\n",
    "                                          include_all_parsed_features=False,\n",
    "                                          ignore_errors=True,\n",
    "                                          data_augmentation=None)\n",
    "\n",
    "train_dataset = utils.fastmri.load_dataset(train_locations,\n",
    "                                           batch_size=batch_size,\n",
    "                                           shuffle_buffer_size=1024,\n",
    "                                           load_original_reconstruction=False,\n",
    "                                           include_all_parsed_features=False,\n",
    "                                           ignore_errors=True,\n",
    "                                           data_augmentation='symmetric')"
   ]
  },
  {
   "cell_type": "markdown",
   "metadata": {},
   "source": [
    "# Validate dataset\n",
    "Make sure target reconstruction is the same as reconstruction computed from input."
   ]
  },
  {
   "cell_type": "code",
   "execution_count": 12,
   "metadata": {
    "scrolled": false
   },
   "outputs": [],
   "source": [
    "# First batch of each dataset to be used in plotting images periodically to tensorboard\n",
    "\n",
    "first_test_batch = next(iter(test_dataset))\n",
    "first_dev_batch = next(iter(dev_dataset))\n",
    "first_train_batch = next(iter(train_dataset))"
   ]
  },
  {
   "cell_type": "code",
   "execution_count": 13,
   "metadata": {},
   "outputs": [],
   "source": [
    "def first_batches():\n",
    "    batches = [(first_test_batch, 'Test'), (first_dev_batch, 'Dev'), (first_train_batch, 'Train')]\n",
    "    return batches"
   ]
  },
  {
   "cell_type": "code",
   "execution_count": 14,
   "metadata": {
    "scrolled": true
   },
   "outputs": [
    {
     "data": {
      "text/plain": [
       "TensorShape([8, 128, 128, 2])"
      ]
     },
     "execution_count": 14,
     "metadata": {},
     "output_type": "execute_result"
    }
   ],
   "source": [
    "first_test_batch[0].shape"
   ]
  },
  {
   "cell_type": "code",
   "execution_count": 15,
   "metadata": {
    "scrolled": false
   },
   "outputs": [
    {
     "data": {
      "text/plain": [
       "(True, 6.5216912e-15)"
      ]
     },
     "execution_count": 15,
     "metadata": {},
     "output_type": "execute_result"
    }
   ],
   "source": [
    "fft, target_image = first_test_batch[0][-1].numpy().squeeze(), first_test_batch[1][-1].numpy().squeeze()\n",
    "fft = utils.fastmri._combine_two_channels_of_complex_tensor(fft).numpy()\n",
    "\n",
    "# Compute image from input `fft`\n",
    "image_from_fft = tf.abs(utils.signal_processing.tf_ifft2d(fft)).numpy().squeeze()\n",
    "\n",
    "# Compare target image to reconstruction from input `fft`\n",
    "np.allclose(image_from_fft, target_image, atol=1e-6), utils.signal_processing.mean_square_error(image_from_fft, target_image)"
   ]
  },
  {
   "cell_type": "code",
   "execution_count": 16,
   "metadata": {},
   "outputs": [
    {
     "data": {
      "text/plain": [
       "(0.0024772414, 0.9999999, 0.0024772119, 0.99999994)"
      ]
     },
     "execution_count": 16,
     "metadata": {},
     "output_type": "execute_result"
    }
   ],
   "source": [
    "# Should be in [0, 1]\n",
    "image_from_fft.min(), image_from_fft.max(), target_image.min(), target_image.max()"
   ]
  },
  {
   "cell_type": "code",
   "execution_count": 17,
   "metadata": {
    "scrolled": false
   },
   "outputs": [
    {
     "data": {
      "image/png": "[encoded data removed]",
      "text/plain": [
       "<Figure size 432x288 with 1 Axes>"
      ]
     },
     "metadata": {},
     "output_type": "display_data"
    }
   ],
   "source": [
    "utils.plot.imshowfft(fft)"
   ]
  },
  {
   "cell_type": "code",
   "execution_count": 18,
   "metadata": {},
   "outputs": [
    {
     "data": {
      "image/png": "[encoded data removed]",
      "text/plain": [
       "<Figure size 432x288 with 1 Axes>"
      ]
     },
     "metadata": {},
     "output_type": "display_data"
    }
   ],
   "source": [
    "utils.plot.imshowgray(target_image)"
   ]
  },
  {
   "cell_type": "code",
   "execution_count": 19,
   "metadata": {},
   "outputs": [
    {
     "data": {
      "image/png": "[encoded data removed]",
      "text/plain": [
       "<Figure size 432x288 with 1 Axes>"
      ]
     },
     "metadata": {},
     "output_type": "display_data"
    }
   ],
   "source": [
    "utils.plot.imshowgray(image_from_fft)"
   ]
  },
  {
   "cell_type": "code",
   "execution_count": 20,
   "metadata": {},
   "outputs": [
    {
     "name": "stderr",
     "output_type": "stream",
     "text": [
      "/home/ubuntu/cs230/code/MRI_reconstruction_example/cs230_project_utilities/plot.py:13: RuntimeWarning: divide by zero encountered in log10\n",
      "  imshowgray(20 * np.log10(np.abs(fft)))\n"
     ]
    },
    {
     "data": {
      "image/png": "[encoded data removed]",
      "text/plain": [
       "<Figure size 432x288 with 1 Axes>"
      ]
     },
     "metadata": {},
     "output_type": "display_data"
    }
   ],
   "source": [
    "utils.plot.imshowfft(np.square(target_image - image_from_fft))"
   ]
  },
  {
   "cell_type": "markdown",
   "metadata": {},
   "source": [
    "# Model"
   ]
  },
  {
   "cell_type": "code",
   "execution_count": 21,
   "metadata": {},
   "outputs": [],
   "source": [
    "# A metric to use during training\n",
    "def mean_PSNR(y_true, y_pred):\n",
    "    max_value = 1.0\n",
    "    MSE = tf.reduce_mean(tf.square(y_true - y_pred), axis=[1, 2, 3])\n",
    "    PSNR = 10 * tf.math.log(tf.divide(max_value ** 2, MSE)) / tf.math.log(tf.constant(10, dtype=y_pred.dtype))\n",
    "    mean = tf.reduce_mean(PSNR)\n",
    "    return mean"
   ]
  },
  {
   "cell_type": "code",
   "execution_count": 22,
   "metadata": {},
   "outputs": [],
   "source": [
    "# Model most similar to OG AUTOMAP\n",
    "def load_uncompiled_automap_model():\n",
    "\n",
    "    N = 128\n",
    "    X = tf.keras.layers.Input(shape=(N, N, 2))\n",
    "\n",
    "    # Paper says 1% multiplicative gaussian noise (this multiplies by 1-centered gaussian\n",
    "    # having stddev = sqrt(rate / (1 - rate)) (here, 0.00032...)\n",
    "    noisy_X = tf.keras.layers.GaussianDropout(rate=1e-7)(X) # spatial dimension: 256\n",
    "    # Note: (we could corrupt when training with cifar, but maybe not other dataset?)\n",
    "\n",
    "    ds_flat = tf.keras.layers.Flatten()(noisy_X)\n",
    "\n",
    "    fc1 = tf.keras.layers.Dense(64 ** 2, activation='tanh')(ds_flat) # closer to original paper is: 128 ** 2\n",
    "    fc2 = tf.keras.layers.Dense(128 ** 2, activation='tanh')(fc1)\n",
    "\n",
    "    fc_output = tf.keras.layers.Reshape([128, 128, 1])(fc2)\n",
    "\n",
    "    conv1 = tf.keras.layers.Conv2D(64, (5, 5), strides=(1, 1), activation='relu', padding='same')(fc_output)\n",
    "    \n",
    "    # L1 regularization to encourage sparsity\n",
    "    conv2 = tf.keras.layers.Conv2D(64, (5, 5), strides=(1, 1), activation='relu', padding='same',\n",
    "                                   activity_regularizer=tf.keras.regularizers.l1(1e-6))(conv1) # paper: 1e-4\n",
    "\n",
    "    Y_pred = tf.keras.layers.Conv2DTranspose(1, (7, 7), strides=1, activation='relu', padding='same')(conv2) # upsample to spatial dimension 128\n",
    "\n",
    "    model = tf.keras.Model(inputs=X, outputs=Y_pred)\n",
    "\n",
    "    return model"
   ]
  },
  {
   "cell_type": "code",
   "execution_count": 23,
   "metadata": {},
   "outputs": [],
   "source": [
    "def lr_schedule(epoch):\n",
    "    initial_lr = 2e-4\n",
    "    if epoch < 50:\n",
    "        return 2e-4\n",
    "    elif epoch >= 50 and epoch < 150:\n",
    "        return 1e-4\n",
    "    elif epoch >= 150 and epoch < 175:\n",
    "        return 1e-5\n",
    "    elif epoch >= 175 and epoch < 190:\n",
    "        return 5e-5\n",
    "    elif epoch >= 190 and epoch < 200:\n",
    "        return 1e-5\n",
    "    elif epoch >= 200 and epoch < 220:\n",
    "        return 1e-6\n",
    "    elif epoch >= 220 and epoch < 250:\n",
    "        return 5e-6\n",
    "    elif epoch >= 250 and epoch < 270:\n",
    "        return 1e-6\n",
    "    else:\n",
    "        return 1e-7"
   ]
  },
  {
   "cell_type": "code",
   "execution_count": 24,
   "metadata": {},
   "outputs": [],
   "source": [
    "def load_compiled_automap_model():\n",
    "    multi_gpu = False\n",
    "    if multi_gpu:\n",
    "        # Distribute training across GPUs (each GPU receives identical updates to weights but different batches w/\n",
    "        # mirrored strategy). Restricts callbacks we can use\n",
    "        mirrored_strategy = tf.distribute.MirroredStrategy()\n",
    "        with mirrored_strategy.scope():\n",
    "            model = load_uncompiled_automap_model()\n",
    "            optimizer = tf.keras.optimizers.Adam()\n",
    "            model.compile(loss='mse', optimizer=optimizer, metrics=[mean_PSNR])\n",
    "    else:\n",
    "        model = load_uncompiled_automap_model()\n",
    "        optimizer = tf.keras.optimizers.Adam()\n",
    "        model.compile(loss='mse', optimizer=optimizer, metrics=[mean_PSNR])\n",
    "    return model"
   ]
  },
  {
   "cell_type": "code",
   "execution_count": 25,
   "metadata": {},
   "outputs": [],
   "source": [
    "# Uncomment to train a new model\n",
    "model = load_compiled_automap_model()\n",
    "initial_epoch = 0"
   ]
  },
  {
   "cell_type": "code",
   "execution_count": 26,
   "metadata": {},
   "outputs": [],
   "source": [
    "def epoch_from_model_path(path):\n",
    "    # Used to resume training.\n",
    "    # Example:\n",
    "    # Returns 150 if `path = '/home/ubuntu/cs230/models/automap_fastmri/2019-06-07_00:49:20/cp-0150.ckpt'.\n",
    "\n",
    "    epoch_string = os.path.basename(path)[3:7]\n",
    "    epoch = int(epoch_string)\n",
    "    return epoch"
   ]
  },
  {
   "cell_type": "code",
   "execution_count": 27,
   "metadata": {},
   "outputs": [],
   "source": [
    "# # Uncomment to restore a model and resume training\n",
    "# saved_model_path = '/home/ubuntu/cs230/models/automap_fastmri/2019-06-07_00:49:20/cp-0165.ckpt'\n",
    "# model = restore_model(saved_model_path, weights_only=False, custom_objects={'mean_PSNR': mean_PSNR})\n",
    "# initial_epoch = epoch_from_model_path(saved_model_path)\n",
    "# print('Restored model with {} completed epochs'.format(initial_epoch))\n",
    "# model.evaluate(test_dataset)"
   ]
  },
  {
   "cell_type": "code",
   "execution_count": 28,
   "metadata": {
    "scrolled": false
   },
   "outputs": [
    {
     "name": "stdout",
     "output_type": "stream",
     "text": [
      "Model: \"model\"\n",
      "_________________________________________________________________\n",
      "Layer (type)                 Output Shape              Param #   \n",
      "=================================================================\n",
      "input_1 (InputLayer)         [(None, 128, 128, 2)]     0         \n",
      "_________________________________________________________________\n",
      "gaussian_dropout (GaussianDr (None, 128, 128, 2)       0         \n",
      "_________________________________________________________________\n",
      "flatten (Flatten)            (None, 32768)             0         \n",
      "_________________________________________________________________\n",
      "dense (Dense)                (None, 4096)              134221824 \n",
      "_________________________________________________________________\n",
      "dense_1 (Dense)              (None, 16384)             67125248  \n",
      "_________________________________________________________________\n",
      "reshape (Reshape)            (None, 128, 128, 1)       0         \n",
      "_________________________________________________________________\n",
      "conv2d (Conv2D)              (None, 128, 128, 64)      1664      \n",
      "_________________________________________________________________\n",
      "conv2d_1 (Conv2D)            (None, 128, 128, 64)      102464    \n",
      "_________________________________________________________________\n",
      "conv2d_transpose (Conv2DTran (None, 128, 128, 1)       3137      \n",
      "=================================================================\n",
      "Total params: 201,454,337\n",
      "Trainable params: 201,454,337\n",
      "Non-trainable params: 0\n",
      "_________________________________________________________________\n"
     ]
    }
   ],
   "source": [
    "model.summary()"
   ]
  },
  {
   "cell_type": "markdown",
   "metadata": {},
   "source": [
    "# Training"
   ]
  },
  {
   "cell_type": "code",
   "execution_count": 29,
   "metadata": {},
   "outputs": [],
   "source": [
    "# Show reconstructions during training\n",
    "\n",
    "def plot_fft_reconstructions(epoch, logs):\n",
    "    for dataset_batch, name in first_batches():\n",
    "        x, y = dataset_batch\n",
    "        y = y.numpy()\n",
    "        y_pred = model.predict(x)\n",
    "\n",
    "        with file_writer.as_default():\n",
    "            for i in range(min(len(y), 10)):\n",
    "                prediction, ground_truth = y_pred[i:i + 1, ...], y[i:i + 1, ...]\n",
    "                tf.summary.image(\"{} Image {} (Prediction)\".format(name, i), prediction, max_outputs=1, step=epoch)\n",
    "                tf.summary.image(\"{} Image {} (Ground Truth)\".format(name, i), ground_truth, max_outputs=1, step=epoch)"
   ]
  },
  {
   "cell_type": "code",
   "execution_count": 30,
   "metadata": {},
   "outputs": [],
   "source": [
    "# Show activation histograms\n",
    "\n",
    "def layer_activations(inputs):\n",
    "    layers = model.layers\n",
    "    names = [l.name for l in layers]\n",
    "    input_tensor = layers[0].input\n",
    "    outputs = [l.output for l in layers]\n",
    "    \n",
    "    get_activations = tf.keras.backend.function(input_tensor, outputs)\n",
    "    activations = get_activations(inputs=inputs)\n",
    "    \n",
    "    return list(zip(names, activations))\n",
    "\n",
    "def plot_activations(epoch, logs):\n",
    "    with file_writer.as_default():\n",
    "        for dataset_batch, stage in first_batches():\n",
    "            for layer_name, layer_activation in layer_activations(dataset_batch):\n",
    "                tf.summary.histogram('{}/activations/{}'.format(layer_name, stage.lower()), layer_activation,\n",
    "                                    step=epoch)\n"
   ]
  },
  {
   "cell_type": "code",
   "execution_count": 31,
   "metadata": {},
   "outputs": [],
   "source": [
    "# Clear logs and models if necessary\n",
    "# !rm -r /home/ubuntu/cs230/logs/\n",
    "# !rm -r /home/ubuntu/cs230/models"
   ]
  },
  {
   "cell_type": "code",
   "execution_count": 32,
   "metadata": {},
   "outputs": [
    {
     "name": "stdout",
     "output_type": "stream",
     "text": [
      "Using current timestamp: 2019-06-08_13:06:26\n"
     ]
    }
   ],
   "source": [
    "# Save current timestamp (we'll use it in our paths to model and log directories)\n",
    "\n",
    "current_timestamp = localized_timestamp() # get new value if training new model\n",
    "print('Using current timestamp: {}'.format(current_timestamp))\n",
    "\n",
    "# current_timestamp = '2019-06-07_00:49:20' # use previous value if resuming training"
   ]
  },
  {
   "cell_type": "code",
   "execution_count": 33,
   "metadata": {},
   "outputs": [],
   "source": [
    "# Define where logs will be saved\n",
    "\n",
    "logdir = os.path.join('/home/ubuntu/cs230/logs', current_timestamp)\n",
    "file_writer = tf.summary.create_file_writer(os.path.join(logdir, 'metrics'))"
   ]
  },
  {
   "cell_type": "markdown",
   "metadata": {},
   "source": [
    "### Callbacks to use in various stages of training"
   ]
  },
  {
   "cell_type": "code",
   "execution_count": 34,
   "metadata": {
    "scrolled": false
   },
   "outputs": [
    {
     "name": "stderr",
     "output_type": "stream",
     "text": [
      "WARNING: Logging before flag parsing goes to stderr.\n",
      "W0608 20:06:26.133667 140437208413952 ag_logging.py:145] Entity <function Function._initialize_uninitialized_variables.<locals>.initialize_variables at 0x7fb940241f28> could not be transformed and will be executed as-is. Please report this to the AutoGraph team. When filing the bug, set the verbosity to 10 (on Linux, `export AUTOGRAPH_VERBOSITY=10`) and attach the full output. Cause: No module named 'tensorflow_core.contrib'\n",
      "W0608 20:06:26.144600 140437208413952 ag_logging.py:145] Entity <function Function._initialize_uninitialized_variables.<locals>.initialize_variables at 0x7fb940255620> could not be transformed and will be executed as-is. Please report this to the AutoGraph team. When filing the bug, set the verbosity to 10 (on Linux, `export AUTOGRAPH_VERBOSITY=10`) and attach the full output. Cause: No module named 'tensorflow_core.contrib'\n",
      "W0608 20:06:26.158512 140437208413952 ag_logging.py:145] Entity <function Function._initialize_uninitialized_variables.<locals>.initialize_variables at 0x7fb94020b950> could not be transformed and will be executed as-is. Please report this to the AutoGraph team. When filing the bug, set the verbosity to 10 (on Linux, `export AUTOGRAPH_VERBOSITY=10`) and attach the full output. Cause: No module named 'tensorflow_core.contrib'\n",
      "W0608 20:06:26.167689 140437208413952 ag_logging.py:145] Entity <function Function._initialize_uninitialized_variables.<locals>.initialize_variables at 0x7fb940232048> could not be transformed and will be executed as-is. Please report this to the AutoGraph team. When filing the bug, set the verbosity to 10 (on Linux, `export AUTOGRAPH_VERBOSITY=10`) and attach the full output. Cause: No module named 'tensorflow_core.contrib'\n",
      "W0608 20:06:26.171934 140437208413952 ag_logging.py:145] Entity <bound method L1L2.__call__ of <tensorflow.python.keras.regularizers.L1L2 object at 0x7fb9403e3fd0>> could not be transformed and will be executed as-is. Please report this to the AutoGraph team. When filing the bug, set the verbosity to 10 (on Linux, `export AUTOGRAPH_VERBOSITY=10`) and attach the full output. Cause: No module named 'tensorflow_core.contrib'\n",
      "W0608 20:06:26.184393 140437208413952 ag_logging.py:145] Entity <function Function._initialize_uninitialized_variables.<locals>.initialize_variables at 0x7fb9401d42f0> could not be transformed and will be executed as-is. Please report this to the AutoGraph team. When filing the bug, set the verbosity to 10 (on Linux, `export AUTOGRAPH_VERBOSITY=10`) and attach the full output. Cause: No module named 'tensorflow_core.contrib'\n",
      "W0608 20:06:26.196429 140437208413952 ag_logging.py:145] Entity <function Function._initialize_uninitialized_variables.<locals>.initialize_variables at 0x7fb9401d46a8> could not be transformed and will be executed as-is. Please report this to the AutoGraph team. When filing the bug, set the verbosity to 10 (on Linux, `export AUTOGRAPH_VERBOSITY=10`) and attach the full output. Cause: No module named 'tensorflow_core.contrib'\n",
      "W0608 20:06:26.228291 140437208413952 ag_logging.py:145] Entity <function Function._initialize_uninitialized_variables.<locals>.initialize_variables at 0x7fb94018c840> could not be transformed and will be executed as-is. Please report this to the AutoGraph team. When filing the bug, set the verbosity to 10 (on Linux, `export AUTOGRAPH_VERBOSITY=10`) and attach the full output. Cause: No module named 'tensorflow_core.contrib'\n",
      "W0608 20:06:26.238263 140437208413952 ag_logging.py:145] Entity <function Function._initialize_uninitialized_variables.<locals>.initialize_variables at 0x7fb94016f158> could not be transformed and will be executed as-is. Please report this to the AutoGraph team. When filing the bug, set the verbosity to 10 (on Linux, `export AUTOGRAPH_VERBOSITY=10`) and attach the full output. Cause: No module named 'tensorflow_core.contrib'\n"
     ]
    },
    {
     "name": "stdout",
     "output_type": "stream",
     "text": [
      "WARNING: Entity <function Function._initialize_uninitialized_variables.<locals>.initialize_variables at 0x7fb940241f28> could not be transformed and will be executed as-is. Please report this to the AutoGraph team. When filing the bug, set the verbosity to 10 (on Linux, `export AUTOGRAPH_VERBOSITY=10`) and attach the full output. Cause: No module named 'tensorflow_core.contrib'\n",
      "WARNING: Entity <function Function._initialize_uninitialized_variables.<locals>.initialize_variables at 0x7fb940255620> could not be transformed and will be executed as-is. Please report this to the AutoGraph team. When filing the bug, set the verbosity to 10 (on Linux, `export AUTOGRAPH_VERBOSITY=10`) and attach the full output. Cause: No module named 'tensorflow_core.contrib'\n",
      "WARNING: Entity <function Function._initialize_uninitialized_variables.<locals>.initialize_variables at 0x7fb94020b950> could not be transformed and will be executed as-is. Please report this to the AutoGraph team. When filing the bug, set the verbosity to 10 (on Linux, `export AUTOGRAPH_VERBOSITY=10`) and attach the full output. Cause: No module named 'tensorflow_core.contrib'\n",
      "WARNING: Entity <function Function._initialize_uninitialized_variables.<locals>.initialize_variables at 0x7fb940232048> could not be transformed and will be executed as-is. Please report this to the AutoGraph team. When filing the bug, set the verbosity to 10 (on Linux, `export AUTOGRAPH_VERBOSITY=10`) and attach the full output. Cause: No module named 'tensorflow_core.contrib'\n",
      "WARNING: Entity <bound method L1L2.__call__ of <tensorflow.python.keras.regularizers.L1L2 object at 0x7fb9403e3fd0>> could not be transformed and will be executed as-is. Please report this to the AutoGraph team. When filing the bug, set the verbosity to 10 (on Linux, `export AUTOGRAPH_VERBOSITY=10`) and attach the full output. Cause: No module named 'tensorflow_core.contrib'\n",
      "WARNING: Entity <function Function._initialize_uninitialized_variables.<locals>.initialize_variables at 0x7fb9401d42f0> could not be transformed and will be executed as-is. Please report this to the AutoGraph team. When filing the bug, set the verbosity to 10 (on Linux, `export AUTOGRAPH_VERBOSITY=10`) and attach the full output. Cause: No module named 'tensorflow_core.contrib'\n",
      "WARNING: Entity <function Function._initialize_uninitialized_variables.<locals>.initialize_variables at 0x7fb9401d46a8> could not be transformed and will be executed as-is. Please report this to the AutoGraph team. When filing the bug, set the verbosity to 10 (on Linux, `export AUTOGRAPH_VERBOSITY=10`) and attach the full output. Cause: No module named 'tensorflow_core.contrib'\n",
      "WARNING: Entity <function Function._initialize_uninitialized_variables.<locals>.initialize_variables at 0x7fb94018c840> could not be transformed and will be executed as-is. Please report this to the AutoGraph team. When filing the bug, set the verbosity to 10 (on Linux, `export AUTOGRAPH_VERBOSITY=10`) and attach the full output. Cause: No module named 'tensorflow_core.contrib'\n",
      "WARNING: Entity <function Function._initialize_uninitialized_variables.<locals>.initialize_variables at 0x7fb94016f158> could not be transformed and will be executed as-is. Please report this to the AutoGraph team. When filing the bug, set the verbosity to 10 (on Linux, `export AUTOGRAPH_VERBOSITY=10`) and attach the full output. Cause: No module named 'tensorflow_core.contrib'\n"
     ]
    },
    {
     "name": "stderr",
     "output_type": "stream",
     "text": [
      "W0608 20:06:26.347359 140437208413952 ag_logging.py:145] Entity <function Function._initialize_uninitialized_variables.<locals>.initialize_variables at 0x7fb9401092f0> could not be transformed and will be executed as-is. Please report this to the AutoGraph team. When filing the bug, set the verbosity to 10 (on Linux, `export AUTOGRAPH_VERBOSITY=10`) and attach the full output. Cause: No module named 'tensorflow_core.contrib'\n",
      "W0608 20:06:26.367959 140437208413952 ag_logging.py:145] Entity <function Function._initialize_uninitialized_variables.<locals>.initialize_variables at 0x7fb92878f6a8> could not be transformed and will be executed as-is. Please report this to the AutoGraph team. When filing the bug, set the verbosity to 10 (on Linux, `export AUTOGRAPH_VERBOSITY=10`) and attach the full output. Cause: No module named 'tensorflow_core.contrib'\n",
      "W0608 20:06:26.420204 140437208413952 ag_logging.py:145] Entity <function Function._initialize_uninitialized_variables.<locals>.initialize_variables at 0x7fb94018c378> could not be transformed and will be executed as-is. Please report this to the AutoGraph team. When filing the bug, set the verbosity to 10 (on Linux, `export AUTOGRAPH_VERBOSITY=10`) and attach the full output. Cause: No module named 'tensorflow_core.contrib'\n",
      "W0608 20:06:26.443425 140437208413952 ag_logging.py:145] Entity <function canonicalize_signatures.<locals>.signature_wrapper at 0x7fb99ca18510> could not be transformed and will be executed as-is. Please report this to the AutoGraph team. When filing the bug, set the verbosity to 10 (on Linux, `export AUTOGRAPH_VERBOSITY=10`) and attach the full output. Cause: No module named 'tensorflow_core.contrib'\n",
      "W0608 20:06:26.460812 140437208413952 ag_logging.py:145] Entity <function Function._initialize_uninitialized_variables.<locals>.initialize_variables at 0x7fb928742730> could not be transformed and will be executed as-is. Please report this to the AutoGraph team. When filing the bug, set the verbosity to 10 (on Linux, `export AUTOGRAPH_VERBOSITY=10`) and attach the full output. Cause: No module named 'tensorflow_core.contrib'\n"
     ]
    },
    {
     "name": "stdout",
     "output_type": "stream",
     "text": [
      "WARNING: Entity <function Function._initialize_uninitialized_variables.<locals>.initialize_variables at 0x7fb9401092f0> could not be transformed and will be executed as-is. Please report this to the AutoGraph team. When filing the bug, set the verbosity to 10 (on Linux, `export AUTOGRAPH_VERBOSITY=10`) and attach the full output. Cause: No module named 'tensorflow_core.contrib'\n",
      "WARNING: Entity <function Function._initialize_uninitialized_variables.<locals>.initialize_variables at 0x7fb92878f6a8> could not be transformed and will be executed as-is. Please report this to the AutoGraph team. When filing the bug, set the verbosity to 10 (on Linux, `export AUTOGRAPH_VERBOSITY=10`) and attach the full output. Cause: No module named 'tensorflow_core.contrib'\n",
      "WARNING: Entity <function Function._initialize_uninitialized_variables.<locals>.initialize_variables at 0x7fb94018c378> could not be transformed and will be executed as-is. Please report this to the AutoGraph team. When filing the bug, set the verbosity to 10 (on Linux, `export AUTOGRAPH_VERBOSITY=10`) and attach the full output. Cause: No module named 'tensorflow_core.contrib'\n",
      "WARNING: Entity <function canonicalize_signatures.<locals>.signature_wrapper at 0x7fb99ca18510> could not be transformed and will be executed as-is. Please report this to the AutoGraph team. When filing the bug, set the verbosity to 10 (on Linux, `export AUTOGRAPH_VERBOSITY=10`) and attach the full output. Cause: No module named 'tensorflow_core.contrib'\n",
      "WARNING: Entity <function Function._initialize_uninitialized_variables.<locals>.initialize_variables at 0x7fb928742730> could not be transformed and will be executed as-is. Please report this to the AutoGraph team. When filing the bug, set the verbosity to 10 (on Linux, `export AUTOGRAPH_VERBOSITY=10`) and attach the full output. Cause: No module named 'tensorflow_core.contrib'\n"
     ]
    }
   ],
   "source": [
    "# Callback for printing the LR at the end of each epoch.\n",
    "\n",
    "class LearningRateLoggingCallback(tf.keras.callbacks.Callback):\n",
    "    def on_epoch_end(self, epoch, logs=None):\n",
    "        with file_writer.as_default():\n",
    "            current_lr = model.optimizer.lr.numpy()\n",
    "            tf.summary.scalar('learning rate', data=current_lr, step=epoch)\n",
    "        print('\\nLearning rate for epoch {} is {}'.format(epoch + 1, current_lr))\n",
    "\n",
    "plot_images_callback = tf.keras.callbacks.LambdaCallback(on_epoch_end=plot_fft_reconstructions)\n",
    "\n",
    "plot_activations_callback = tf.keras.callbacks.LambdaCallback(on_epoch_end=plot_activations)\n",
    "\n",
    "tensorboard_callback = tf.keras.callbacks.TensorBoard(log_dir=logdir, histogram_freq=1, update_freq='epoch',\n",
    "                                                      profile_batch=0) # workaround for: https://github.com/tensorflow/tensorboard/issues/2084\n",
    "\n",
    "set_lr_callback = tf.keras.callbacks.LearningRateScheduler(lr_schedule)\n",
    "\n",
    "reduce_lr_callback = tf.keras.callbacks.ReduceLROnPlateau(monitor='val_loss', factor=0.25,\n",
    "                              patience=2, min_lr=1e-8)\n",
    "\n",
    "# Callback for checkpointing model\n",
    "\n",
    "# include the epoch in the file name. (uses `str.format`)\n",
    "checkpoint_path = os.path.join('/home/ubuntu/cs230/models/automap_fastmri',\n",
    "                               current_timestamp,\n",
    "                               'cp-{epoch:04d}.ckpt')\n",
    "checkpoint_dir = os.path.dirname(checkpoint_path)\n",
    "checkpoint_callback = tf.keras.callbacks.ModelCheckpoint(\n",
    "    checkpoint_path, verbose=1, save_weights_only=False,\n",
    "    # Save every K-batches (or samples?)\n",
    "    save_freq=500_000)\n",
    "\n",
    "completed_training_steps = model.optimizer.iterations.numpy()\n",
    "\n",
    "if completed_training_steps == 0:\n",
    "    # Only do this if not resuming training (don't want to overwrite anything, but also unnecessary\n",
    "    # to prompt user by setting `overwrite=False`).\n",
    "    model_save_path = checkpoint_path.format(epoch=0)\n",
    "    model_save_dir = os.path.dirname(model_save_path)\n",
    "    os.makedirs(model_save_dir, exist_ok=True)\n",
    "    model.save(model_save_path)\n",
    "elif completed_training_steps > 0:\n",
    "    tensorboard_callback._samples_seen = completed_training_steps * batch_size\n",
    "    tensorboard_callback._total_batches_seen = completed_training_steps\n",
    "\n",
    "callbacks = [tensorboard_callback, plot_images_callback, plot_activations_callback,\n",
    "             set_lr_callback, reduce_lr_callback, LearningRateLoggingCallback(), checkpoint_callback]"
   ]
  },
  {
   "cell_type": "markdown",
   "metadata": {},
   "source": [
    "### Begin training and open Tensorboard to monitor"
   ]
  },
  {
   "cell_type": "code",
   "execution_count": null,
   "metadata": {
    "scrolled": false
   },
   "outputs": [
    {
     "name": "stdout",
     "output_type": "stream",
     "text": [
      "Epoch 1/300\n",
      "   1085/Unknown - 113s 104ms/step - loss: 0.0080 - mean_PSNR: 22.8975\n",
      "Learning rate for epoch 1 is 0.00019999999494757503\n",
      "1085/1085 [==============================] - 138s 127ms/step - loss: 0.0080 - mean_PSNR: 22.8975 - val_loss: 0.0000e+00 - val_mean_PSNR: 0.0000e+00\n",
      "Epoch 2/300\n",
      "1084/1085 [============================>.] - ETA: 0s - loss: 0.0051 - mean_PSNR: 24.1620\n",
      "Learning rate for epoch 2 is 0.00019999999494757503\n",
      "1085/1085 [==============================] - 94s 87ms/step - loss: 0.0051 - mean_PSNR: 24.1623 - val_loss: 0.0050 - val_mean_PSNR: 24.1815\n",
      "Epoch 3/300\n",
      "1084/1085 [============================>.] - ETA: 0s - loss: 0.0047 - mean_PSNR: 24.4665\n",
      "Learning rate for epoch 3 is 0.00019999999494757503\n",
      "1085/1085 [==============================] - 95s 87ms/step - loss: 0.0047 - mean_PSNR: 24.4668 - val_loss: 0.0048 - val_mean_PSNR: 24.3796\n",
      "Epoch 4/300\n",
      "1084/1085 [============================>.] - ETA: 0s - loss: 0.0044 - mean_PSNR: 24.7357\n",
      "Learning rate for epoch 4 is 0.00019999999494757503\n",
      "1085/1085 [==============================] - 94s 87ms/step - loss: 0.0044 - mean_PSNR: 24.7356 - val_loss: 0.0046 - val_mean_PSNR: 24.5349\n",
      "Epoch 5/300\n",
      "1084/1085 [============================>.] - ETA: 0s - loss: 0.0042 - mean_PSNR: 24.9566\n",
      "Learning rate for epoch 5 is 0.00019999999494757503\n",
      "1085/1085 [==============================] - 94s 87ms/step - loss: 0.0042 - mean_PSNR: 24.9565 - val_loss: 0.0043 - val_mean_PSNR: 24.8774\n",
      "Epoch 6/300\n",
      "1084/1085 [============================>.] - ETA: 0s - loss: 0.0040 - mean_PSNR: 25.1686\n",
      "Learning rate for epoch 6 is 0.00019999999494757503\n",
      "1085/1085 [==============================] - 95s 87ms/step - loss: 0.0040 - mean_PSNR: 25.1686 - val_loss: 0.0041 - val_mean_PSNR: 25.0647\n",
      "Epoch 7/300\n",
      "1084/1085 [============================>.] - ETA: 0s - loss: 0.0039 - mean_PSNR: 25.3262\n",
      "Learning rate for epoch 7 is 0.00019999999494757503\n",
      "1085/1085 [==============================] - 94s 87ms/step - loss: 0.0039 - mean_PSNR: 25.3262 - val_loss: 0.0040 - val_mean_PSNR: 25.1758\n",
      "Epoch 8/300\n",
      "1084/1085 [============================>.] - ETA: 0s - loss: 0.0037 - mean_PSNR: 25.4762\n",
      "Learning rate for epoch 8 is 0.00019999999494757503\n",
      "1085/1085 [==============================] - 94s 87ms/step - loss: 0.0037 - mean_PSNR: 25.4762 - val_loss: 0.0039 - val_mean_PSNR: 25.3053\n",
      "Epoch 9/300\n",
      "1084/1085 [============================>.] - ETA: 0s - loss: 0.0036 - mean_PSNR: 25.6225\n",
      "Learning rate for epoch 9 is 0.00019999999494757503\n",
      "1085/1085 [==============================] - 94s 87ms/step - loss: 0.0036 - mean_PSNR: 25.6225 - val_loss: 0.0038 - val_mean_PSNR: 25.4764\n",
      "Epoch 10/300\n",
      "1084/1085 [============================>.] - ETA: 0s - loss: 0.0036 - mean_PSNR: 25.7207\n",
      "Learning rate for epoch 10 is 0.00019999999494757503\n",
      "1085/1085 [==============================] - 95s 87ms/step - loss: 0.0036 - mean_PSNR: 25.7207 - val_loss: 0.0037 - val_mean_PSNR: 25.5217\n",
      "Epoch 11/300\n",
      "1084/1085 [============================>.] - ETA: 0s - loss: 0.0035 - mean_PSNR: 25.8208\n",
      "Learning rate for epoch 11 is 4.999999873689376e-05\n",
      "1085/1085 [==============================] - 94s 87ms/step - loss: 0.0035 - mean_PSNR: 25.8209 - val_loss: 0.0037 - val_mean_PSNR: 25.5204\n",
      "Epoch 12/300\n",
      "1084/1085 [============================>.] - ETA: 0s - loss: 0.0034 - mean_PSNR: 25.8736\n",
      "Learning rate for epoch 12 is 0.00019999999494757503\n",
      "1085/1085 [==============================] - 94s 87ms/step - loss: 0.0034 - mean_PSNR: 25.8736 - val_loss: 0.0036 - val_mean_PSNR: 25.6988\n",
      "Epoch 13/300\n",
      "1084/1085 [============================>.] - ETA: 0s - loss: 0.0033 - mean_PSNR: 26.0235\n",
      "Learning rate for epoch 13 is 0.00019999999494757503\n",
      "1085/1085 [==============================] - 94s 87ms/step - loss: 0.0033 - mean_PSNR: 26.0233 - val_loss: 0.0036 - val_mean_PSNR: 25.6684\n",
      "Epoch 14/300\n",
      "1084/1085 [============================>.] - ETA: 0s - loss: 0.0033 - mean_PSNR: 26.0655\n",
      "Learning rate for epoch 14 is 0.00019999999494757503\n",
      "1085/1085 [==============================] - 94s 87ms/step - loss: 0.0033 - mean_PSNR: 26.0655 - val_loss: 0.0035 - val_mean_PSNR: 25.8177\n",
      "Epoch 15/300\n",
      " 434/1085 [===========>..................] - ETA: 41s - loss: 0.0033 - mean_PSNR: 26.1296\n",
      "Epoch 00015: saving model to /home/ubuntu/cs230/models/automap_fastmri/2019-06-08_13:06:26/cp-0015.ckpt\n"
     ]
    },
    {
     "name": "stderr",
     "output_type": "stream",
     "text": [
      "W0608 20:29:42.484948 140437208413952 ag_logging.py:145] Entity <function Function._initialize_uninitialized_variables.<locals>.initialize_variables at 0x7fb94016f840> could not be transformed and will be executed as-is. Please report this to the AutoGraph team. When filing the bug, set the verbosity to 10 (on Linux, `export AUTOGRAPH_VERBOSITY=10`) and attach the full output. Cause: No module named 'tensorflow_core.contrib'\n",
      "W0608 20:29:42.494563 140437208413952 ag_logging.py:145] Entity <function Function._initialize_uninitialized_variables.<locals>.initialize_variables at 0x7fb9401d4f28> could not be transformed and will be executed as-is. Please report this to the AutoGraph team. When filing the bug, set the verbosity to 10 (on Linux, `export AUTOGRAPH_VERBOSITY=10`) and attach the full output. Cause: No module named 'tensorflow_core.contrib'\n",
      "W0608 20:29:42.507483 140437208413952 ag_logging.py:145] Entity <function Function._initialize_uninitialized_variables.<locals>.initialize_variables at 0x7fb92878f158> could not be transformed and will be executed as-is. Please report this to the AutoGraph team. When filing the bug, set the verbosity to 10 (on Linux, `export AUTOGRAPH_VERBOSITY=10`) and attach the full output. Cause: No module named 'tensorflow_core.contrib'\n",
      "W0608 20:29:42.516234 140437208413952 ag_logging.py:145] Entity <function Function._initialize_uninitialized_variables.<locals>.initialize_variables at 0x7fb9404c3048> could not be transformed and will be executed as-is. Please report this to the AutoGraph team. When filing the bug, set the verbosity to 10 (on Linux, `export AUTOGRAPH_VERBOSITY=10`) and attach the full output. Cause: No module named 'tensorflow_core.contrib'\n",
      "W0608 20:29:42.520310 140437208413952 ag_logging.py:145] Entity <bound method L1L2.__call__ of <tensorflow.python.keras.regularizers.L1L2 object at 0x7fb9403e3fd0>> could not be transformed and will be executed as-is. Please report this to the AutoGraph team. When filing the bug, set the verbosity to 10 (on Linux, `export AUTOGRAPH_VERBOSITY=10`) and attach the full output. Cause: No module named 'tensorflow_core.contrib'\n",
      "W0608 20:29:42.533758 140437208413952 ag_logging.py:145] Entity <function Function._initialize_uninitialized_variables.<locals>.initialize_variables at 0x7fb940241378> could not be transformed and will be executed as-is. Please report this to the AutoGraph team. When filing the bug, set the verbosity to 10 (on Linux, `export AUTOGRAPH_VERBOSITY=10`) and attach the full output. Cause: No module named 'tensorflow_core.contrib'\n"
     ]
    },
    {
     "name": "stdout",
     "output_type": "stream",
     "text": [
      "WARNING: Entity <function Function._initialize_uninitialized_variables.<locals>.initialize_variables at 0x7fb94016f840> could not be transformed and will be executed as-is. Please report this to the AutoGraph team. When filing the bug, set the verbosity to 10 (on Linux, `export AUTOGRAPH_VERBOSITY=10`) and attach the full output. Cause: No module named 'tensorflow_core.contrib'\n",
      "WARNING: Entity <function Function._initialize_uninitialized_variables.<locals>.initialize_variables at 0x7fb9401d4f28> could not be transformed and will be executed as-is. Please report this to the AutoGraph team. When filing the bug, set the verbosity to 10 (on Linux, `export AUTOGRAPH_VERBOSITY=10`) and attach the full output. Cause: No module named 'tensorflow_core.contrib'\n",
      "WARNING: Entity <function Function._initialize_uninitialized_variables.<locals>.initialize_variables at 0x7fb92878f158> could not be transformed and will be executed as-is. Please report this to the AutoGraph team. When filing the bug, set the verbosity to 10 (on Linux, `export AUTOGRAPH_VERBOSITY=10`) and attach the full output. Cause: No module named 'tensorflow_core.contrib'\n",
      "WARNING: Entity <function Function._initialize_uninitialized_variables.<locals>.initialize_variables at 0x7fb9404c3048> could not be transformed and will be executed as-is. Please report this to the AutoGraph team. When filing the bug, set the verbosity to 10 (on Linux, `export AUTOGRAPH_VERBOSITY=10`) and attach the full output. Cause: No module named 'tensorflow_core.contrib'\n",
      "WARNING: Entity <bound method L1L2.__call__ of <tensorflow.python.keras.regularizers.L1L2 object at 0x7fb9403e3fd0>> could not be transformed and will be executed as-is. Please report this to the AutoGraph team. When filing the bug, set the verbosity to 10 (on Linux, `export AUTOGRAPH_VERBOSITY=10`) and attach the full output. Cause: No module named 'tensorflow_core.contrib'\n",
      "WARNING: Entity <function Function._initialize_uninitialized_variables.<locals>.initialize_variables at 0x7fb940241378> could not be transformed and will be executed as-is. Please report this to the AutoGraph team. When filing the bug, set the verbosity to 10 (on Linux, `export AUTOGRAPH_VERBOSITY=10`) and attach the full output. Cause: No module named 'tensorflow_core.contrib'\n"
     ]
    },
    {
     "name": "stderr",
     "output_type": "stream",
     "text": [
      "W0608 20:29:42.694157 140437208413952 ag_logging.py:145] Entity <function Function._initialize_uninitialized_variables.<locals>.initialize_variables at 0x7fb9401d41e0> could not be transformed and will be executed as-is. Please report this to the AutoGraph team. When filing the bug, set the verbosity to 10 (on Linux, `export AUTOGRAPH_VERBOSITY=10`) and attach the full output. Cause: No module named 'tensorflow_core.contrib'\n",
      "W0608 20:29:42.726780 140437208413952 ag_logging.py:145] Entity <function Function._initialize_uninitialized_variables.<locals>.initialize_variables at 0x7fb940255620> could not be transformed and will be executed as-is. Please report this to the AutoGraph team. When filing the bug, set the verbosity to 10 (on Linux, `export AUTOGRAPH_VERBOSITY=10`) and attach the full output. Cause: No module named 'tensorflow_core.contrib'\n",
      "W0608 20:29:42.736317 140437208413952 ag_logging.py:145] Entity <function Function._initialize_uninitialized_variables.<locals>.initialize_variables at 0x7fb94020b8c8> could not be transformed and will be executed as-is. Please report this to the AutoGraph team. When filing the bug, set the verbosity to 10 (on Linux, `export AUTOGRAPH_VERBOSITY=10`) and attach the full output. Cause: No module named 'tensorflow_core.contrib'\n",
      "W0608 20:29:42.840595 140437208413952 ag_logging.py:145] Entity <function Function._initialize_uninitialized_variables.<locals>.initialize_variables at 0x7fb940054b70> could not be transformed and will be executed as-is. Please report this to the AutoGraph team. When filing the bug, set the verbosity to 10 (on Linux, `export AUTOGRAPH_VERBOSITY=10`) and attach the full output. Cause: No module named 'tensorflow_core.contrib'\n",
      "W0608 20:29:42.859853 140437208413952 ag_logging.py:145] Entity <function Function._initialize_uninitialized_variables.<locals>.initialize_variables at 0x7fb8ec6a5730> could not be transformed and will be executed as-is. Please report this to the AutoGraph team. When filing the bug, set the verbosity to 10 (on Linux, `export AUTOGRAPH_VERBOSITY=10`) and attach the full output. Cause: No module named 'tensorflow_core.contrib'\n"
     ]
    },
    {
     "name": "stdout",
     "output_type": "stream",
     "text": [
      "WARNING: Entity <function Function._initialize_uninitialized_variables.<locals>.initialize_variables at 0x7fb9401d41e0> could not be transformed and will be executed as-is. Please report this to the AutoGraph team. When filing the bug, set the verbosity to 10 (on Linux, `export AUTOGRAPH_VERBOSITY=10`) and attach the full output. Cause: No module named 'tensorflow_core.contrib'\n",
      "WARNING: Entity <function Function._initialize_uninitialized_variables.<locals>.initialize_variables at 0x7fb940255620> could not be transformed and will be executed as-is. Please report this to the AutoGraph team. When filing the bug, set the verbosity to 10 (on Linux, `export AUTOGRAPH_VERBOSITY=10`) and attach the full output. Cause: No module named 'tensorflow_core.contrib'\n",
      "WARNING: Entity <function Function._initialize_uninitialized_variables.<locals>.initialize_variables at 0x7fb94020b8c8> could not be transformed and will be executed as-is. Please report this to the AutoGraph team. When filing the bug, set the verbosity to 10 (on Linux, `export AUTOGRAPH_VERBOSITY=10`) and attach the full output. Cause: No module named 'tensorflow_core.contrib'\n",
      "WARNING: Entity <function Function._initialize_uninitialized_variables.<locals>.initialize_variables at 0x7fb940054b70> could not be transformed and will be executed as-is. Please report this to the AutoGraph team. When filing the bug, set the verbosity to 10 (on Linux, `export AUTOGRAPH_VERBOSITY=10`) and attach the full output. Cause: No module named 'tensorflow_core.contrib'\n",
      "WARNING: Entity <function Function._initialize_uninitialized_variables.<locals>.initialize_variables at 0x7fb8ec6a5730> could not be transformed and will be executed as-is. Please report this to the AutoGraph team. When filing the bug, set the verbosity to 10 (on Linux, `export AUTOGRAPH_VERBOSITY=10`) and attach the full output. Cause: No module named 'tensorflow_core.contrib'\n"
     ]
    },
    {
     "name": "stderr",
     "output_type": "stream",
     "text": [
      "W0608 20:29:42.910696 140437208413952 ag_logging.py:145] Entity <function Function._initialize_uninitialized_variables.<locals>.initialize_variables at 0x7fb8ec6c3048> could not be transformed and will be executed as-is. Please report this to the AutoGraph team. When filing the bug, set the verbosity to 10 (on Linux, `export AUTOGRAPH_VERBOSITY=10`) and attach the full output. Cause: No module named 'tensorflow_core.contrib'\n",
      "W0608 20:29:42.925852 140437208413952 ag_logging.py:145] Entity <function canonicalize_signatures.<locals>.signature_wrapper at 0x7fb9401231e0> could not be transformed and will be executed as-is. Please report this to the AutoGraph team. When filing the bug, set the verbosity to 10 (on Linux, `export AUTOGRAPH_VERBOSITY=10`) and attach the full output. Cause: No module named 'tensorflow_core.contrib'\n",
      "W0608 20:29:42.942365 140437208413952 ag_logging.py:145] Entity <function Function._initialize_uninitialized_variables.<locals>.initialize_variables at 0x7fb8ec6c3488> could not be transformed and will be executed as-is. Please report this to the AutoGraph team. When filing the bug, set the verbosity to 10 (on Linux, `export AUTOGRAPH_VERBOSITY=10`) and attach the full output. Cause: No module named 'tensorflow_core.contrib'\n"
     ]
    },
    {
     "name": "stdout",
     "output_type": "stream",
     "text": [
      "WARNING: Entity <function Function._initialize_uninitialized_variables.<locals>.initialize_variables at 0x7fb8ec6c3048> could not be transformed and will be executed as-is. Please report this to the AutoGraph team. When filing the bug, set the verbosity to 10 (on Linux, `export AUTOGRAPH_VERBOSITY=10`) and attach the full output. Cause: No module named 'tensorflow_core.contrib'\n",
      "WARNING: Entity <function canonicalize_signatures.<locals>.signature_wrapper at 0x7fb9401231e0> could not be transformed and will be executed as-is. Please report this to the AutoGraph team. When filing the bug, set the verbosity to 10 (on Linux, `export AUTOGRAPH_VERBOSITY=10`) and attach the full output. Cause: No module named 'tensorflow_core.contrib'\n",
      "WARNING: Entity <function Function._initialize_uninitialized_variables.<locals>.initialize_variables at 0x7fb8ec6c3488> could not be transformed and will be executed as-is. Please report this to the AutoGraph team. When filing the bug, set the verbosity to 10 (on Linux, `export AUTOGRAPH_VERBOSITY=10`) and attach the full output. Cause: No module named 'tensorflow_core.contrib'\n",
      "1084/1085 [============================>.] - ETA: 0s - loss: 0.0032 - mean_PSNR: 26.1836\n",
      "Learning rate for epoch 15 is 0.00019999999494757503\n",
      "1085/1085 [==============================] - 98s 91ms/step - loss: 0.0032 - mean_PSNR: 26.1835 - val_loss: 0.0034 - val_mean_PSNR: 25.9432\n",
      "Epoch 16/300\n",
      "1084/1085 [============================>.] - ETA: 0s - loss: 0.0032 - mean_PSNR: 26.2374\n",
      "Learning rate for epoch 16 is 0.00019999999494757503\n",
      "1085/1085 [==============================] - 95s 87ms/step - loss: 0.0032 - mean_PSNR: 26.2374 - val_loss: 0.0033 - val_mean_PSNR: 26.0345\n",
      "Epoch 17/300\n",
      "1084/1085 [============================>.] - ETA: 0s - loss: 0.0031 - mean_PSNR: 26.3279\n",
      "Learning rate for epoch 17 is 0.00019999999494757503\n",
      "1085/1085 [==============================] - 94s 87ms/step - loss: 0.0031 - mean_PSNR: 26.3280 - val_loss: 0.0033 - val_mean_PSNR: 26.1204\n",
      "Epoch 18/300\n",
      "1084/1085 [============================>.] - ETA: 0s - loss: 0.0031 - mean_PSNR: 26.4312\n",
      "Learning rate for epoch 18 is 0.00019999999494757503\n",
      "1085/1085 [==============================] - 95s 87ms/step - loss: 0.0031 - mean_PSNR: 26.4312 - val_loss: 0.0032 - val_mean_PSNR: 26.2175\n",
      "Epoch 19/300\n",
      "1084/1085 [============================>.] - ETA: 0s - loss: 0.0030 - mean_PSNR: 26.4962\n",
      "Learning rate for epoch 19 is 0.00019999999494757503\n",
      "1085/1085 [==============================] - 94s 87ms/step - loss: 0.0030 - mean_PSNR: 26.4960 - val_loss: 0.0033 - val_mean_PSNR: 26.1178\n",
      "Epoch 20/300\n",
      "1084/1085 [============================>.] - ETA: 0s - loss: 0.0030 - mean_PSNR: 26.5849\n",
      "Learning rate for epoch 20 is 4.999999873689376e-05\n",
      "1085/1085 [==============================] - 94s 87ms/step - loss: 0.0030 - mean_PSNR: 26.5848 - val_loss: 0.0032 - val_mean_PSNR: 26.2786\n",
      "Epoch 21/300\n",
      "1084/1085 [============================>.] - ETA: 0s - loss: 0.0029 - mean_PSNR: 26.6549\n",
      "Learning rate for epoch 21 is 0.00019999999494757503\n",
      "1085/1085 [==============================] - 94s 87ms/step - loss: 0.0029 - mean_PSNR: 26.6549 - val_loss: 0.0031 - val_mean_PSNR: 26.3095\n",
      "Epoch 22/300\n",
      "1084/1085 [============================>.] - ETA: 0s - loss: 0.0029 - mean_PSNR: 26.7263\n",
      "Learning rate for epoch 22 is 0.00019999999494757503\n",
      "1085/1085 [==============================] - 95s 87ms/step - loss: 0.0029 - mean_PSNR: 26.7261 - val_loss: 0.0031 - val_mean_PSNR: 26.4187\n",
      "Epoch 23/300\n",
      "1084/1085 [============================>.] - ETA: 0s - loss: 0.0028 - mean_PSNR: 26.7818\n",
      "Learning rate for epoch 23 is 0.00019999999494757503\n",
      "1085/1085 [==============================] - 94s 87ms/step - loss: 0.0028 - mean_PSNR: 26.7817 - val_loss: 0.0030 - val_mean_PSNR: 26.4760\n",
      "Epoch 24/300\n",
      "1084/1085 [============================>.] - ETA: 0s - loss: 0.0028 - mean_PSNR: 26.8441\n",
      "Learning rate for epoch 24 is 4.999999873689376e-05\n",
      "1085/1085 [==============================] - 95s 87ms/step - loss: 0.0028 - mean_PSNR: 26.8439 - val_loss: 0.0030 - val_mean_PSNR: 26.5436\n",
      "Epoch 25/300\n",
      "1084/1085 [============================>.] - ETA: 0s - loss: 0.0028 - mean_PSNR: 26.9159\n",
      "Learning rate for epoch 25 is 0.00019999999494757503\n",
      "1085/1085 [==============================] - 95s 87ms/step - loss: 0.0028 - mean_PSNR: 26.9160 - val_loss: 0.0029 - val_mean_PSNR: 26.6457\n",
      "Epoch 26/300\n",
      "1084/1085 [============================>.] - ETA: 0s - loss: 0.0027 - mean_PSNR: 26.9568\n",
      "Learning rate for epoch 26 is 0.00019999999494757503\n",
      "1085/1085 [==============================] - 95s 87ms/step - loss: 0.0027 - mean_PSNR: 26.9567 - val_loss: 0.0029 - val_mean_PSNR: 26.6838\n",
      "Epoch 27/300\n",
      "1084/1085 [============================>.] - ETA: 0s - loss: 0.0027 - mean_PSNR: 27.0078\n",
      "Learning rate for epoch 27 is 4.999999873689376e-05\n",
      "1085/1085 [==============================] - 94s 87ms/step - loss: 0.0027 - mean_PSNR: 27.0078 - val_loss: 0.0029 - val_mean_PSNR: 26.7496\n",
      "Epoch 28/300\n",
      "1084/1085 [============================>.] - ETA: 0s - loss: 0.0027 - mean_PSNR: 27.0624\n",
      "Learning rate for epoch 28 is 0.00019999999494757503\n",
      "1085/1085 [==============================] - 95s 87ms/step - loss: 0.0027 - mean_PSNR: 27.0622 - val_loss: 0.0028 - val_mean_PSNR: 26.8113\n",
      "Epoch 29/300\n",
      " 869/1085 [=======================>......] - ETA: 13s - loss: 0.0026 - mean_PSNR: 27.1526\n",
      "Epoch 00029: saving model to /home/ubuntu/cs230/models/automap_fastmri/2019-06-08_13:06:26/cp-0029.ckpt\n"
     ]
    },
    {
     "name": "stderr",
     "output_type": "stream",
     "text": [
      "W0608 20:52:18.918913 140437208413952 ag_logging.py:145] Entity <function Function._initialize_uninitialized_variables.<locals>.initialize_variables at 0x7fb9401d4d08> could not be transformed and will be executed as-is. Please report this to the AutoGraph team. When filing the bug, set the verbosity to 10 (on Linux, `export AUTOGRAPH_VERBOSITY=10`) and attach the full output. Cause: No module named 'tensorflow_core.contrib'\n",
      "W0608 20:52:18.928411 140437208413952 ag_logging.py:145] Entity <function Function._initialize_uninitialized_variables.<locals>.initialize_variables at 0x7fb94016fbf8> could not be transformed and will be executed as-is. Please report this to the AutoGraph team. When filing the bug, set the verbosity to 10 (on Linux, `export AUTOGRAPH_VERBOSITY=10`) and attach the full output. Cause: No module named 'tensorflow_core.contrib'\n",
      "W0608 20:52:18.941355 140437208413952 ag_logging.py:145] Entity <function Function._initialize_uninitialized_variables.<locals>.initialize_variables at 0x7fb928742620> could not be transformed and will be executed as-is. Please report this to the AutoGraph team. When filing the bug, set the verbosity to 10 (on Linux, `export AUTOGRAPH_VERBOSITY=10`) and attach the full output. Cause: No module named 'tensorflow_core.contrib'\n",
      "W0608 20:52:18.950253 140437208413952 ag_logging.py:145] Entity <function Function._initialize_uninitialized_variables.<locals>.initialize_variables at 0x7fb9402a1bf8> could not be transformed and will be executed as-is. Please report this to the AutoGraph team. When filing the bug, set the verbosity to 10 (on Linux, `export AUTOGRAPH_VERBOSITY=10`) and attach the full output. Cause: No module named 'tensorflow_core.contrib'\n",
      "W0608 20:52:18.954254 140437208413952 ag_logging.py:145] Entity <bound method L1L2.__call__ of <tensorflow.python.keras.regularizers.L1L2 object at 0x7fb9403e3fd0>> could not be transformed and will be executed as-is. Please report this to the AutoGraph team. When filing the bug, set the verbosity to 10 (on Linux, `export AUTOGRAPH_VERBOSITY=10`) and attach the full output. Cause: No module named 'tensorflow_core.contrib'\n",
      "W0608 20:52:18.966437 140437208413952 ag_logging.py:145] Entity <function Function._initialize_uninitialized_variables.<locals>.initialize_variables at 0x7fb8c43579d8> could not be transformed and will be executed as-is. Please report this to the AutoGraph team. When filing the bug, set the verbosity to 10 (on Linux, `export AUTOGRAPH_VERBOSITY=10`) and attach the full output. Cause: No module named 'tensorflow_core.contrib'\n"
     ]
    },
    {
     "name": "stdout",
     "output_type": "stream",
     "text": [
      "WARNING: Entity <function Function._initialize_uninitialized_variables.<locals>.initialize_variables at 0x7fb9401d4d08> could not be transformed and will be executed as-is. Please report this to the AutoGraph team. When filing the bug, set the verbosity to 10 (on Linux, `export AUTOGRAPH_VERBOSITY=10`) and attach the full output. Cause: No module named 'tensorflow_core.contrib'\n",
      "WARNING: Entity <function Function._initialize_uninitialized_variables.<locals>.initialize_variables at 0x7fb94016fbf8> could not be transformed and will be executed as-is. Please report this to the AutoGraph team. When filing the bug, set the verbosity to 10 (on Linux, `export AUTOGRAPH_VERBOSITY=10`) and attach the full output. Cause: No module named 'tensorflow_core.contrib'\n",
      "WARNING: Entity <function Function._initialize_uninitialized_variables.<locals>.initialize_variables at 0x7fb928742620> could not be transformed and will be executed as-is. Please report this to the AutoGraph team. When filing the bug, set the verbosity to 10 (on Linux, `export AUTOGRAPH_VERBOSITY=10`) and attach the full output. Cause: No module named 'tensorflow_core.contrib'\n",
      "WARNING: Entity <function Function._initialize_uninitialized_variables.<locals>.initialize_variables at 0x7fb9402a1bf8> could not be transformed and will be executed as-is. Please report this to the AutoGraph team. When filing the bug, set the verbosity to 10 (on Linux, `export AUTOGRAPH_VERBOSITY=10`) and attach the full output. Cause: No module named 'tensorflow_core.contrib'\n",
      "WARNING: Entity <bound method L1L2.__call__ of <tensorflow.python.keras.regularizers.L1L2 object at 0x7fb9403e3fd0>> could not be transformed and will be executed as-is. Please report this to the AutoGraph team. When filing the bug, set the verbosity to 10 (on Linux, `export AUTOGRAPH_VERBOSITY=10`) and attach the full output. Cause: No module named 'tensorflow_core.contrib'\n",
      "WARNING: Entity <function Function._initialize_uninitialized_variables.<locals>.initialize_variables at 0x7fb8c43579d8> could not be transformed and will be executed as-is. Please report this to the AutoGraph team. When filing the bug, set the verbosity to 10 (on Linux, `export AUTOGRAPH_VERBOSITY=10`) and attach the full output. Cause: No module named 'tensorflow_core.contrib'\n"
     ]
    },
    {
     "name": "stderr",
     "output_type": "stream",
     "text": [
      "W0608 20:52:18.978641 140437208413952 ag_logging.py:145] Entity <function Function._initialize_uninitialized_variables.<locals>.initialize_variables at 0x7fba087a5d08> could not be transformed and will be executed as-is. Please report this to the AutoGraph team. When filing the bug, set the verbosity to 10 (on Linux, `export AUTOGRAPH_VERBOSITY=10`) and attach the full output. Cause: No module named 'tensorflow_core.contrib'\n",
      "W0608 20:52:19.011200 140437208413952 ag_logging.py:145] Entity <function Function._initialize_uninitialized_variables.<locals>.initialize_variables at 0x7fb940123158> could not be transformed and will be executed as-is. Please report this to the AutoGraph team. When filing the bug, set the verbosity to 10 (on Linux, `export AUTOGRAPH_VERBOSITY=10`) and attach the full output. Cause: No module named 'tensorflow_core.contrib'\n",
      "W0608 20:52:19.022513 140437208413952 ag_logging.py:145] Entity <function Function._initialize_uninitialized_variables.<locals>.initialize_variables at 0x7fb94020b6a8> could not be transformed and will be executed as-is. Please report this to the AutoGraph team. When filing the bug, set the verbosity to 10 (on Linux, `export AUTOGRAPH_VERBOSITY=10`) and attach the full output. Cause: No module named 'tensorflow_core.contrib'\n"
     ]
    },
    {
     "name": "stdout",
     "output_type": "stream",
     "text": [
      "WARNING: Entity <function Function._initialize_uninitialized_variables.<locals>.initialize_variables at 0x7fba087a5d08> could not be transformed and will be executed as-is. Please report this to the AutoGraph team. When filing the bug, set the verbosity to 10 (on Linux, `export AUTOGRAPH_VERBOSITY=10`) and attach the full output. Cause: No module named 'tensorflow_core.contrib'\n",
      "WARNING: Entity <function Function._initialize_uninitialized_variables.<locals>.initialize_variables at 0x7fb940123158> could not be transformed and will be executed as-is. Please report this to the AutoGraph team. When filing the bug, set the verbosity to 10 (on Linux, `export AUTOGRAPH_VERBOSITY=10`) and attach the full output. Cause: No module named 'tensorflow_core.contrib'\n",
      "WARNING: Entity <function Function._initialize_uninitialized_variables.<locals>.initialize_variables at 0x7fb94020b6a8> could not be transformed and will be executed as-is. Please report this to the AutoGraph team. When filing the bug, set the verbosity to 10 (on Linux, `export AUTOGRAPH_VERBOSITY=10`) and attach the full output. Cause: No module named 'tensorflow_core.contrib'\n"
     ]
    },
    {
     "name": "stderr",
     "output_type": "stream",
     "text": [
      "W0608 20:52:19.133080 140437208413952 ag_logging.py:145] Entity <function Function._initialize_uninitialized_variables.<locals>.initialize_variables at 0x7fb8ec6a5d90> could not be transformed and will be executed as-is. Please report this to the AutoGraph team. When filing the bug, set the verbosity to 10 (on Linux, `export AUTOGRAPH_VERBOSITY=10`) and attach the full output. Cause: No module named 'tensorflow_core.contrib'\n",
      "W0608 20:52:19.154145 140437208413952 ag_logging.py:145] Entity <function Function._initialize_uninitialized_variables.<locals>.initialize_variables at 0x7fb8c40fb620> could not be transformed and will be executed as-is. Please report this to the AutoGraph team. When filing the bug, set the verbosity to 10 (on Linux, `export AUTOGRAPH_VERBOSITY=10`) and attach the full output. Cause: No module named 'tensorflow_core.contrib'\n"
     ]
    },
    {
     "name": "stdout",
     "output_type": "stream",
     "text": [
      "WARNING: Entity <function Function._initialize_uninitialized_variables.<locals>.initialize_variables at 0x7fb8ec6a5d90> could not be transformed and will be executed as-is. Please report this to the AutoGraph team. When filing the bug, set the verbosity to 10 (on Linux, `export AUTOGRAPH_VERBOSITY=10`) and attach the full output. Cause: No module named 'tensorflow_core.contrib'\n",
      "WARNING: Entity <function Function._initialize_uninitialized_variables.<locals>.initialize_variables at 0x7fb8c40fb620> could not be transformed and will be executed as-is. Please report this to the AutoGraph team. When filing the bug, set the verbosity to 10 (on Linux, `export AUTOGRAPH_VERBOSITY=10`) and attach the full output. Cause: No module named 'tensorflow_core.contrib'\n"
     ]
    },
    {
     "name": "stderr",
     "output_type": "stream",
     "text": [
      "W0608 20:52:19.208225 140437208413952 ag_logging.py:145] Entity <function Function._initialize_uninitialized_variables.<locals>.initialize_variables at 0x7fb8c40ec378> could not be transformed and will be executed as-is. Please report this to the AutoGraph team. When filing the bug, set the verbosity to 10 (on Linux, `export AUTOGRAPH_VERBOSITY=10`) and attach the full output. Cause: No module named 'tensorflow_core.contrib'\n",
      "W0608 20:52:19.224849 140437208413952 ag_logging.py:145] Entity <function canonicalize_signatures.<locals>.signature_wrapper at 0x7fb94020b6a8> could not be transformed and will be executed as-is. Please report this to the AutoGraph team. When filing the bug, set the verbosity to 10 (on Linux, `export AUTOGRAPH_VERBOSITY=10`) and attach the full output. Cause: No module named 'tensorflow_core.contrib'\n",
      "W0608 20:52:19.242597 140437208413952 ag_logging.py:145] Entity <function Function._initialize_uninitialized_variables.<locals>.initialize_variables at 0x7fb8c40ec9d8> could not be transformed and will be executed as-is. Please report this to the AutoGraph team. When filing the bug, set the verbosity to 10 (on Linux, `export AUTOGRAPH_VERBOSITY=10`) and attach the full output. Cause: No module named 'tensorflow_core.contrib'\n"
     ]
    },
    {
     "name": "stdout",
     "output_type": "stream",
     "text": [
      "WARNING: Entity <function Function._initialize_uninitialized_variables.<locals>.initialize_variables at 0x7fb8c40ec378> could not be transformed and will be executed as-is. Please report this to the AutoGraph team. When filing the bug, set the verbosity to 10 (on Linux, `export AUTOGRAPH_VERBOSITY=10`) and attach the full output. Cause: No module named 'tensorflow_core.contrib'\n",
      "WARNING: Entity <function canonicalize_signatures.<locals>.signature_wrapper at 0x7fb94020b6a8> could not be transformed and will be executed as-is. Please report this to the AutoGraph team. When filing the bug, set the verbosity to 10 (on Linux, `export AUTOGRAPH_VERBOSITY=10`) and attach the full output. Cause: No module named 'tensorflow_core.contrib'\n",
      "WARNING: Entity <function Function._initialize_uninitialized_variables.<locals>.initialize_variables at 0x7fb8c40ec9d8> could not be transformed and will be executed as-is. Please report this to the AutoGraph team. When filing the bug, set the verbosity to 10 (on Linux, `export AUTOGRAPH_VERBOSITY=10`) and attach the full output. Cause: No module named 'tensorflow_core.contrib'\n",
      "1084/1085 [============================>.] - ETA: 0s - loss: 0.0026 - mean_PSNR: 27.1388\n",
      "Learning rate for epoch 29 is 0.00019999999494757503\n",
      "1085/1085 [==============================] - 98s 91ms/step - loss: 0.0026 - mean_PSNR: 27.1388 - val_loss: 0.0028 - val_mean_PSNR: 26.8241\n",
      "Epoch 30/300\n",
      "1084/1085 [============================>.] - ETA: 0s - loss: 0.0026 - mean_PSNR: 27.1771\n",
      "Learning rate for epoch 30 is 0.00019999999494757503\n",
      "1085/1085 [==============================] - 94s 87ms/step - loss: 0.0026 - mean_PSNR: 27.1772 - val_loss: 0.0028 - val_mean_PSNR: 26.8633\n",
      "Epoch 31/300\n",
      "1084/1085 [============================>.] - ETA: 0s - loss: 0.0026 - mean_PSNR: 27.2083\n",
      "Learning rate for epoch 31 is 4.999999873689376e-05\n",
      "1085/1085 [==============================] - 94s 87ms/step - loss: 0.0026 - mean_PSNR: 27.2083 - val_loss: 0.0028 - val_mean_PSNR: 26.9341\n",
      "Epoch 32/300\n",
      "1084/1085 [============================>.] - ETA: 0s - loss: 0.0026 - mean_PSNR: 27.2788\n",
      "Learning rate for epoch 32 is 0.00019999999494757503\n",
      "1085/1085 [==============================] - 94s 87ms/step - loss: 0.0026 - mean_PSNR: 27.2789 - val_loss: 0.0027 - val_mean_PSNR: 26.9776\n",
      "Epoch 33/300\n",
      "1084/1085 [============================>.] - ETA: 0s - loss: 0.0025 - mean_PSNR: 27.3215\n",
      "Learning rate for epoch 33 is 4.999999873689376e-05\n",
      "1085/1085 [==============================] - 94s 87ms/step - loss: 0.0025 - mean_PSNR: 27.3215 - val_loss: 0.0027 - val_mean_PSNR: 26.9946\n",
      "Epoch 34/300\n",
      "1084/1085 [============================>.] - ETA: 0s - loss: 0.0025 - mean_PSNR: 27.3758\n",
      "Learning rate for epoch 34 is 0.00019999999494757503\n",
      "1085/1085 [==============================] - 94s 87ms/step - loss: 0.0025 - mean_PSNR: 27.3758 - val_loss: 0.0027 - val_mean_PSNR: 27.0743\n",
      "Epoch 35/300\n",
      "1084/1085 [============================>.] - ETA: 0s - loss: 0.0025 - mean_PSNR: 27.4089\n",
      "Learning rate for epoch 35 is 0.00019999999494757503\n",
      "1085/1085 [==============================] - 95s 88ms/step - loss: 0.0025 - mean_PSNR: 27.4088 - val_loss: 0.0027 - val_mean_PSNR: 27.1006\n",
      "Epoch 36/300\n",
      "1084/1085 [============================>.] - ETA: 0s - loss: 0.0025 - mean_PSNR: 27.4440\n",
      "Learning rate for epoch 36 is 4.999999873689376e-05\n",
      "1085/1085 [==============================] - 94s 87ms/step - loss: 0.0025 - mean_PSNR: 27.4440 - val_loss: 0.0027 - val_mean_PSNR: 27.1311\n",
      "Epoch 37/300\n",
      "1084/1085 [============================>.] - ETA: 0s - loss: 0.0025 - mean_PSNR: 27.4624\n",
      "Learning rate for epoch 37 is 0.00019999999494757503\n",
      "1085/1085 [==============================] - 94s 87ms/step - loss: 0.0025 - mean_PSNR: 27.4626 - val_loss: 0.0026 - val_mean_PSNR: 27.1886\n",
      "Epoch 38/300\n",
      "1084/1085 [============================>.] - ETA: 0s - loss: 0.0024 - mean_PSNR: 27.5261\n",
      "Learning rate for epoch 38 is 4.999999873689376e-05\n",
      "1085/1085 [==============================] - 94s 87ms/step - loss: 0.0024 - mean_PSNR: 27.5261 - val_loss: 0.0026 - val_mean_PSNR: 27.1972\n",
      "Epoch 39/300\n",
      "1084/1085 [============================>.] - ETA: 0s - loss: 0.0024 - mean_PSNR: 27.5246\n",
      "Learning rate for epoch 39 is 0.00019999999494757503\n",
      "1085/1085 [==============================] - 94s 87ms/step - loss: 0.0024 - mean_PSNR: 27.5245 - val_loss: 0.0026 - val_mean_PSNR: 27.2716\n",
      "Epoch 40/300\n",
      "1084/1085 [============================>.] - ETA: 0s - loss: 0.0024 - mean_PSNR: 27.5925\n",
      "Learning rate for epoch 40 is 0.00019999999494757503\n",
      "1085/1085 [==============================] - 94s 87ms/step - loss: 0.0024 - mean_PSNR: 27.5925 - val_loss: 0.0026 - val_mean_PSNR: 27.2840\n",
      "Epoch 41/300\n",
      "1084/1085 [============================>.] - ETA: 0s - loss: 0.0024 - mean_PSNR: 27.6230\n",
      "Learning rate for epoch 41 is 4.999999873689376e-05\n",
      "1085/1085 [==============================] - 94s 87ms/step - loss: 0.0024 - mean_PSNR: 27.6229 - val_loss: 0.0025 - val_mean_PSNR: 27.3330\n",
      "Epoch 42/300\n",
      "1084/1085 [============================>.] - ETA: 0s - loss: 0.0024 - mean_PSNR: 27.6401\n",
      "Learning rate for epoch 42 is 0.00019999999494757503\n",
      "1085/1085 [==============================] - 94s 87ms/step - loss: 0.0024 - mean_PSNR: 27.6401 - val_loss: 0.0025 - val_mean_PSNR: 27.3690\n",
      "Epoch 43/300\n",
      "1084/1085 [============================>.] - ETA: 0s - loss: 0.0023 - mean_PSNR: 27.6887\n",
      "Learning rate for epoch 43 is 4.999999873689376e-05\n",
      "1085/1085 [==============================] - 95s 87ms/step - loss: 0.0023 - mean_PSNR: 27.6888 - val_loss: 0.0025 - val_mean_PSNR: 27.3874\n",
      "Epoch 44/300\n",
      " 219/1085 [=====>........................] - ETA: 55s - loss: 0.0024 - mean_PSNR: 27.5798\n",
      "Epoch 00044: saving model to /home/ubuntu/cs230/models/automap_fastmri/2019-06-08_13:06:26/cp-0044.ckpt\n"
     ]
    },
    {
     "name": "stderr",
     "output_type": "stream",
     "text": [
      "W0608 21:15:19.778940 140437208413952 ag_logging.py:145] Entity <function Function._initialize_uninitialized_variables.<locals>.initialize_variables at 0x7fb940232950> could not be transformed and will be executed as-is. Please report this to the AutoGraph team. When filing the bug, set the verbosity to 10 (on Linux, `export AUTOGRAPH_VERBOSITY=10`) and attach the full output. Cause: No module named 'tensorflow_core.contrib'\n",
      "W0608 21:15:19.788184 140437208413952 ag_logging.py:145] Entity <function Function._initialize_uninitialized_variables.<locals>.initialize_variables at 0x7fb94016f9d8> could not be transformed and will be executed as-is. Please report this to the AutoGraph team. When filing the bug, set the verbosity to 10 (on Linux, `export AUTOGRAPH_VERBOSITY=10`) and attach the full output. Cause: No module named 'tensorflow_core.contrib'\n",
      "W0608 21:15:19.800785 140437208413952 ag_logging.py:145] Entity <function Function._initialize_uninitialized_variables.<locals>.initialize_variables at 0x7fb9402a18c8> could not be transformed and will be executed as-is. Please report this to the AutoGraph team. When filing the bug, set the verbosity to 10 (on Linux, `export AUTOGRAPH_VERBOSITY=10`) and attach the full output. Cause: No module named 'tensorflow_core.contrib'\n",
      "W0608 21:15:19.809512 140437208413952 ag_logging.py:145] Entity <function Function._initialize_uninitialized_variables.<locals>.initialize_variables at 0x7fb940054268> could not be transformed and will be executed as-is. Please report this to the AutoGraph team. When filing the bug, set the verbosity to 10 (on Linux, `export AUTOGRAPH_VERBOSITY=10`) and attach the full output. Cause: No module named 'tensorflow_core.contrib'\n",
      "W0608 21:15:19.813181 140437208413952 ag_logging.py:145] Entity <bound method L1L2.__call__ of <tensorflow.python.keras.regularizers.L1L2 object at 0x7fb9403e3fd0>> could not be transformed and will be executed as-is. Please report this to the AutoGraph team. When filing the bug, set the verbosity to 10 (on Linux, `export AUTOGRAPH_VERBOSITY=10`) and attach the full output. Cause: No module named 'tensorflow_core.contrib'\n",
      "W0608 21:15:19.825576 140437208413952 ag_logging.py:145] Entity <function Function._initialize_uninitialized_variables.<locals>.initialize_variables at 0x7fb8c4357730> could not be transformed and will be executed as-is. Please report this to the AutoGraph team. When filing the bug, set the verbosity to 10 (on Linux, `export AUTOGRAPH_VERBOSITY=10`) and attach the full output. Cause: No module named 'tensorflow_core.contrib'\n"
     ]
    },
    {
     "name": "stdout",
     "output_type": "stream",
     "text": [
      "WARNING: Entity <function Function._initialize_uninitialized_variables.<locals>.initialize_variables at 0x7fb940232950> could not be transformed and will be executed as-is. Please report this to the AutoGraph team. When filing the bug, set the verbosity to 10 (on Linux, `export AUTOGRAPH_VERBOSITY=10`) and attach the full output. Cause: No module named 'tensorflow_core.contrib'\n",
      "WARNING: Entity <function Function._initialize_uninitialized_variables.<locals>.initialize_variables at 0x7fb94016f9d8> could not be transformed and will be executed as-is. Please report this to the AutoGraph team. When filing the bug, set the verbosity to 10 (on Linux, `export AUTOGRAPH_VERBOSITY=10`) and attach the full output. Cause: No module named 'tensorflow_core.contrib'\n",
      "WARNING: Entity <function Function._initialize_uninitialized_variables.<locals>.initialize_variables at 0x7fb9402a18c8> could not be transformed and will be executed as-is. Please report this to the AutoGraph team. When filing the bug, set the verbosity to 10 (on Linux, `export AUTOGRAPH_VERBOSITY=10`) and attach the full output. Cause: No module named 'tensorflow_core.contrib'\n",
      "WARNING: Entity <function Function._initialize_uninitialized_variables.<locals>.initialize_variables at 0x7fb940054268> could not be transformed and will be executed as-is. Please report this to the AutoGraph team. When filing the bug, set the verbosity to 10 (on Linux, `export AUTOGRAPH_VERBOSITY=10`) and attach the full output. Cause: No module named 'tensorflow_core.contrib'\n",
      "WARNING: Entity <bound method L1L2.__call__ of <tensorflow.python.keras.regularizers.L1L2 object at 0x7fb9403e3fd0>> could not be transformed and will be executed as-is. Please report this to the AutoGraph team. When filing the bug, set the verbosity to 10 (on Linux, `export AUTOGRAPH_VERBOSITY=10`) and attach the full output. Cause: No module named 'tensorflow_core.contrib'\n",
      "WARNING: Entity <function Function._initialize_uninitialized_variables.<locals>.initialize_variables at 0x7fb8c4357730> could not be transformed and will be executed as-is. Please report this to the AutoGraph team. When filing the bug, set the verbosity to 10 (on Linux, `export AUTOGRAPH_VERBOSITY=10`) and attach the full output. Cause: No module named 'tensorflow_core.contrib'\n"
     ]
    },
    {
     "name": "stderr",
     "output_type": "stream",
     "text": [
      "W0608 21:15:19.838197 140437208413952 ag_logging.py:145] Entity <function Function._initialize_uninitialized_variables.<locals>.initialize_variables at 0x7fb92878f7b8> could not be transformed and will be executed as-is. Please report this to the AutoGraph team. When filing the bug, set the verbosity to 10 (on Linux, `export AUTOGRAPH_VERBOSITY=10`) and attach the full output. Cause: No module named 'tensorflow_core.contrib'\n"
     ]
    },
    {
     "name": "stdout",
     "output_type": "stream",
     "text": [
      "WARNING: Entity <function Function._initialize_uninitialized_variables.<locals>.initialize_variables at 0x7fb92878f7b8> could not be transformed and will be executed as-is. Please report this to the AutoGraph team. When filing the bug, set the verbosity to 10 (on Linux, `export AUTOGRAPH_VERBOSITY=10`) and attach the full output. Cause: No module named 'tensorflow_core.contrib'\n"
     ]
    },
    {
     "name": "stderr",
     "output_type": "stream",
     "text": [
      "W0608 21:15:20.036039 140437208413952 ag_logging.py:145] Entity <function Function._initialize_uninitialized_variables.<locals>.initialize_variables at 0x7fb9401d4ae8> could not be transformed and will be executed as-is. Please report this to the AutoGraph team. When filing the bug, set the verbosity to 10 (on Linux, `export AUTOGRAPH_VERBOSITY=10`) and attach the full output. Cause: No module named 'tensorflow_core.contrib'\n"
     ]
    },
    {
     "name": "stdout",
     "output_type": "stream",
     "text": [
      "WARNING: Entity <function Function._initialize_uninitialized_variables.<locals>.initialize_variables at 0x7fb9401d4ae8> could not be transformed and will be executed as-is. Please report this to the AutoGraph team. When filing the bug, set the verbosity to 10 (on Linux, `export AUTOGRAPH_VERBOSITY=10`) and attach the full output. Cause: No module named 'tensorflow_core.contrib'\n"
     ]
    },
    {
     "name": "stderr",
     "output_type": "stream",
     "text": [
      "W0608 21:15:20.046612 140437208413952 ag_logging.py:145] Entity <function Function._initialize_uninitialized_variables.<locals>.initialize_variables at 0x7fb9401d4f28> could not be transformed and will be executed as-is. Please report this to the AutoGraph team. When filing the bug, set the verbosity to 10 (on Linux, `export AUTOGRAPH_VERBOSITY=10`) and attach the full output. Cause: No module named 'tensorflow_core.contrib'\n",
      "W0608 21:15:20.154485 140437208413952 ag_logging.py:145] Entity <function Function._initialize_uninitialized_variables.<locals>.initialize_variables at 0x7fb940088840> could not be transformed and will be executed as-is. Please report this to the AutoGraph team. When filing the bug, set the verbosity to 10 (on Linux, `export AUTOGRAPH_VERBOSITY=10`) and attach the full output. Cause: No module named 'tensorflow_core.contrib'\n",
      "W0608 21:15:20.175325 140437208413952 ag_logging.py:145] Entity <function Function._initialize_uninitialized_variables.<locals>.initialize_variables at 0x7fb8c40fbe18> could not be transformed and will be executed as-is. Please report this to the AutoGraph team. When filing the bug, set the verbosity to 10 (on Linux, `export AUTOGRAPH_VERBOSITY=10`) and attach the full output. Cause: No module named 'tensorflow_core.contrib'\n",
      "W0608 21:15:20.230342 140437208413952 ag_logging.py:145] Entity <function Function._initialize_uninitialized_variables.<locals>.initialize_variables at 0x7fb8c40ec8c8> could not be transformed and will be executed as-is. Please report this to the AutoGraph team. When filing the bug, set the verbosity to 10 (on Linux, `export AUTOGRAPH_VERBOSITY=10`) and attach the full output. Cause: No module named 'tensorflow_core.contrib'\n"
     ]
    },
    {
     "name": "stdout",
     "output_type": "stream",
     "text": [
      "WARNING: Entity <function Function._initialize_uninitialized_variables.<locals>.initialize_variables at 0x7fb9401d4f28> could not be transformed and will be executed as-is. Please report this to the AutoGraph team. When filing the bug, set the verbosity to 10 (on Linux, `export AUTOGRAPH_VERBOSITY=10`) and attach the full output. Cause: No module named 'tensorflow_core.contrib'\n",
      "WARNING: Entity <function Function._initialize_uninitialized_variables.<locals>.initialize_variables at 0x7fb940088840> could not be transformed and will be executed as-is. Please report this to the AutoGraph team. When filing the bug, set the verbosity to 10 (on Linux, `export AUTOGRAPH_VERBOSITY=10`) and attach the full output. Cause: No module named 'tensorflow_core.contrib'\n",
      "WARNING: Entity <function Function._initialize_uninitialized_variables.<locals>.initialize_variables at 0x7fb8c40fbe18> could not be transformed and will be executed as-is. Please report this to the AutoGraph team. When filing the bug, set the verbosity to 10 (on Linux, `export AUTOGRAPH_VERBOSITY=10`) and attach the full output. Cause: No module named 'tensorflow_core.contrib'\n",
      "WARNING: Entity <function Function._initialize_uninitialized_variables.<locals>.initialize_variables at 0x7fb8c40ec8c8> could not be transformed and will be executed as-is. Please report this to the AutoGraph team. When filing the bug, set the verbosity to 10 (on Linux, `export AUTOGRAPH_VERBOSITY=10`) and attach the full output. Cause: No module named 'tensorflow_core.contrib'\n"
     ]
    },
    {
     "name": "stderr",
     "output_type": "stream",
     "text": [
      "W0608 21:15:20.246608 140437208413952 ag_logging.py:145] Entity <function canonicalize_signatures.<locals>.signature_wrapper at 0x7fb9401d4f28> could not be transformed and will be executed as-is. Please report this to the AutoGraph team. When filing the bug, set the verbosity to 10 (on Linux, `export AUTOGRAPH_VERBOSITY=10`) and attach the full output. Cause: No module named 'tensorflow_core.contrib'\n"
     ]
    },
    {
     "name": "stdout",
     "output_type": "stream",
     "text": [
      "WARNING: Entity <function canonicalize_signatures.<locals>.signature_wrapper at 0x7fb9401d4f28> could not be transformed and will be executed as-is. Please report this to the AutoGraph team. When filing the bug, set the verbosity to 10 (on Linux, `export AUTOGRAPH_VERBOSITY=10`) and attach the full output. Cause: No module named 'tensorflow_core.contrib'\n"
     ]
    },
    {
     "name": "stderr",
     "output_type": "stream",
     "text": [
      "W0608 21:15:20.264495 140437208413952 ag_logging.py:145] Entity <function Function._initialize_uninitialized_variables.<locals>.initialize_variables at 0x7fb8a07d17b8> could not be transformed and will be executed as-is. Please report this to the AutoGraph team. When filing the bug, set the verbosity to 10 (on Linux, `export AUTOGRAPH_VERBOSITY=10`) and attach the full output. Cause: No module named 'tensorflow_core.contrib'\n"
     ]
    },
    {
     "name": "stdout",
     "output_type": "stream",
     "text": [
      "WARNING: Entity <function Function._initialize_uninitialized_variables.<locals>.initialize_variables at 0x7fb8a07d17b8> could not be transformed and will be executed as-is. Please report this to the AutoGraph team. When filing the bug, set the verbosity to 10 (on Linux, `export AUTOGRAPH_VERBOSITY=10`) and attach the full output. Cause: No module named 'tensorflow_core.contrib'\n",
      "1084/1085 [============================>.] - ETA: 0s - loss: 0.0023 - mean_PSNR: 27.7030\n",
      "Learning rate for epoch 44 is 0.00019999999494757503\n",
      "1085/1085 [==============================] - 98s 91ms/step - loss: 0.0023 - mean_PSNR: 27.7030 - val_loss: 0.0025 - val_mean_PSNR: 27.3664\n",
      "Epoch 45/300\n",
      "1084/1085 [============================>.] - ETA: 0s - loss: 0.0023 - mean_PSNR: 27.6942\n",
      "Learning rate for epoch 45 is 4.999999873689376e-05\n",
      "1085/1085 [==============================] - 94s 87ms/step - loss: 0.0023 - mean_PSNR: 27.6941 - val_loss: 0.0025 - val_mean_PSNR: 27.3987\n",
      "Epoch 46/300\n",
      "1084/1085 [============================>.] - ETA: 0s - loss: 0.0023 - mean_PSNR: 27.7607\n",
      "Learning rate for epoch 46 is 0.00019999999494757503\n",
      "1085/1085 [==============================] - 94s 87ms/step - loss: 0.0023 - mean_PSNR: 27.7605 - val_loss: 0.0025 - val_mean_PSNR: 27.4103\n",
      "Epoch 47/300\n",
      "1084/1085 [============================>.] - ETA: 0s - loss: 0.0023 - mean_PSNR: 27.7572\n",
      "Learning rate for epoch 47 is 0.00019999999494757503\n",
      "1085/1085 [==============================] - 94s 87ms/step - loss: 0.0023 - mean_PSNR: 27.7572 - val_loss: 0.0025 - val_mean_PSNR: 27.4571\n",
      "Epoch 48/300\n",
      "1084/1085 [============================>.] - ETA: 0s - loss: 0.0023 - mean_PSNR: 27.8024\n",
      "Learning rate for epoch 48 is 0.00019999999494757503\n",
      "1085/1085 [==============================] - 94s 87ms/step - loss: 0.0023 - mean_PSNR: 27.8023 - val_loss: 0.0025 - val_mean_PSNR: 27.4634\n",
      "Epoch 49/300\n",
      "1084/1085 [============================>.] - ETA: 0s - loss: 0.0023 - mean_PSNR: 27.8169\n",
      "Learning rate for epoch 49 is 4.999999873689376e-05\n",
      "1085/1085 [==============================] - 94s 87ms/step - loss: 0.0023 - mean_PSNR: 27.8167 - val_loss: 0.0025 - val_mean_PSNR: 27.5012\n",
      "Epoch 50/300\n",
      "1084/1085 [============================>.] - ETA: 0s - loss: 0.0023 - mean_PSNR: 27.8463\n",
      "Learning rate for epoch 50 is 0.00019999999494757503\n",
      "1085/1085 [==============================] - 95s 87ms/step - loss: 0.0023 - mean_PSNR: 27.8461 - val_loss: 0.0024 - val_mean_PSNR: 27.5283\n",
      "Epoch 51/300\n",
      "1084/1085 [============================>.] - ETA: 0s - loss: 0.0022 - mean_PSNR: 28.0644\n",
      "Learning rate for epoch 51 is 9.999999747378752e-05\n",
      "1085/1085 [==============================] - 94s 87ms/step - loss: 0.0022 - mean_PSNR: 28.0644 - val_loss: 0.0024 - val_mean_PSNR: 27.7388\n",
      "Epoch 52/300\n",
      "1084/1085 [============================>.] - ETA: 0s - loss: 0.0022 - mean_PSNR: 28.1285\n",
      "Learning rate for epoch 52 is 9.999999747378752e-05\n",
      "1085/1085 [==============================] - 94s 87ms/step - loss: 0.0022 - mean_PSNR: 28.1283 - val_loss: 0.0023 - val_mean_PSNR: 27.7775\n",
      "Epoch 53/300\n",
      "1084/1085 [============================>.] - ETA: 0s - loss: 0.0022 - mean_PSNR: 28.1639\n",
      "Learning rate for epoch 53 is 2.499999936844688e-05\n",
      "1085/1085 [==============================] - 94s 87ms/step - loss: 0.0022 - mean_PSNR: 28.1638 - val_loss: 0.0023 - val_mean_PSNR: 27.7999\n",
      "Epoch 54/300\n",
      "1084/1085 [============================>.] - ETA: 0s - loss: 0.0021 - mean_PSNR: 28.1903\n",
      "Learning rate for epoch 54 is 9.999999747378752e-05\n",
      "1085/1085 [==============================] - 95s 87ms/step - loss: 0.0021 - mean_PSNR: 28.1901 - val_loss: 0.0023 - val_mean_PSNR: 27.8393\n",
      "Epoch 55/300\n",
      "1084/1085 [============================>.] - ETA: 0s - loss: 0.0021 - mean_PSNR: 28.2039\n",
      "Learning rate for epoch 55 is 2.499999936844688e-05\n",
      "1085/1085 [==============================] - 95s 87ms/step - loss: 0.0021 - mean_PSNR: 28.2038 - val_loss: 0.0023 - val_mean_PSNR: 27.8421\n",
      "Epoch 56/300\n",
      "1084/1085 [============================>.] - ETA: 0s - loss: 0.0021 - mean_PSNR: 28.2156\n",
      "Learning rate for epoch 56 is 9.999999747378752e-05\n",
      "1085/1085 [==============================] - 96s 89ms/step - loss: 0.0021 - mean_PSNR: 28.2155 - val_loss: 0.0023 - val_mean_PSNR: 27.8435\n",
      "Epoch 57/300\n",
      "1084/1085 [============================>.] - ETA: 0s - loss: 0.0021 - mean_PSNR: 28.2296\n",
      "Learning rate for epoch 57 is 2.499999936844688e-05\n",
      "1085/1085 [==============================] - 94s 87ms/step - loss: 0.0021 - mean_PSNR: 28.2296 - val_loss: 0.0023 - val_mean_PSNR: 27.8646\n",
      "Epoch 58/300\n",
      " 654/1085 [=================>............] - ETA: 27s - loss: 0.0021 - mean_PSNR: 28.2518\n",
      "Epoch 00058: saving model to /home/ubuntu/cs230/models/automap_fastmri/2019-06-08_13:06:26/cp-0058.ckpt\n"
     ]
    },
    {
     "name": "stderr",
     "output_type": "stream",
     "text": [
      "W0608 21:37:57.343979 140437208413952 ag_logging.py:145] Entity <function Function._initialize_uninitialized_variables.<locals>.initialize_variables at 0x7fb940054048> could not be transformed and will be executed as-is. Please report this to the AutoGraph team. When filing the bug, set the verbosity to 10 (on Linux, `export AUTOGRAPH_VERBOSITY=10`) and attach the full output. Cause: No module named 'tensorflow_core.contrib'\n",
      "W0608 21:37:57.352942 140437208413952 ag_logging.py:145] Entity <function Function._initialize_uninitialized_variables.<locals>.initialize_variables at 0x7fb94016f9d8> could not be transformed and will be executed as-is. Please report this to the AutoGraph team. When filing the bug, set the verbosity to 10 (on Linux, `export AUTOGRAPH_VERBOSITY=10`) and attach the full output. Cause: No module named 'tensorflow_core.contrib'\n",
      "W0608 21:37:57.365377 140437208413952 ag_logging.py:145] Entity <function Function._initialize_uninitialized_variables.<locals>.initialize_variables at 0x7fb94020b378> could not be transformed and will be executed as-is. Please report this to the AutoGraph team. When filing the bug, set the verbosity to 10 (on Linux, `export AUTOGRAPH_VERBOSITY=10`) and attach the full output. Cause: No module named 'tensorflow_core.contrib'\n",
      "W0608 21:37:57.373688 140437208413952 ag_logging.py:145] Entity <function Function._initialize_uninitialized_variables.<locals>.initialize_variables at 0x7fb940255400> could not be transformed and will be executed as-is. Please report this to the AutoGraph team. When filing the bug, set the verbosity to 10 (on Linux, `export AUTOGRAPH_VERBOSITY=10`) and attach the full output. Cause: No module named 'tensorflow_core.contrib'\n",
      "W0608 21:37:57.377193 140437208413952 ag_logging.py:145] Entity <bound method L1L2.__call__ of <tensorflow.python.keras.regularizers.L1L2 object at 0x7fb9403e3fd0>> could not be transformed and will be executed as-is. Please report this to the AutoGraph team. When filing the bug, set the verbosity to 10 (on Linux, `export AUTOGRAPH_VERBOSITY=10`) and attach the full output. Cause: No module named 'tensorflow_core.contrib'\n",
      "W0608 21:37:57.388753 140437208413952 ag_logging.py:145] Entity <function Function._initialize_uninitialized_variables.<locals>.initialize_variables at 0x7fb8ec6a5ae8> could not be transformed and will be executed as-is. Please report this to the AutoGraph team. When filing the bug, set the verbosity to 10 (on Linux, `export AUTOGRAPH_VERBOSITY=10`) and attach the full output. Cause: No module named 'tensorflow_core.contrib'\n",
      "W0608 21:37:57.399762 140437208413952 ag_logging.py:145] Entity <function Function._initialize_uninitialized_variables.<locals>.initialize_variables at 0x7fb92878f510> could not be transformed and will be executed as-is. Please report this to the AutoGraph team. When filing the bug, set the verbosity to 10 (on Linux, `export AUTOGRAPH_VERBOSITY=10`) and attach the full output. Cause: No module named 'tensorflow_core.contrib'\n"
     ]
    },
    {
     "name": "stdout",
     "output_type": "stream",
     "text": [
      "WARNING: Entity <function Function._initialize_uninitialized_variables.<locals>.initialize_variables at 0x7fb940054048> could not be transformed and will be executed as-is. Please report this to the AutoGraph team. When filing the bug, set the verbosity to 10 (on Linux, `export AUTOGRAPH_VERBOSITY=10`) and attach the full output. Cause: No module named 'tensorflow_core.contrib'\n",
      "WARNING: Entity <function Function._initialize_uninitialized_variables.<locals>.initialize_variables at 0x7fb94016f9d8> could not be transformed and will be executed as-is. Please report this to the AutoGraph team. When filing the bug, set the verbosity to 10 (on Linux, `export AUTOGRAPH_VERBOSITY=10`) and attach the full output. Cause: No module named 'tensorflow_core.contrib'\n",
      "WARNING: Entity <function Function._initialize_uninitialized_variables.<locals>.initialize_variables at 0x7fb94020b378> could not be transformed and will be executed as-is. Please report this to the AutoGraph team. When filing the bug, set the verbosity to 10 (on Linux, `export AUTOGRAPH_VERBOSITY=10`) and attach the full output. Cause: No module named 'tensorflow_core.contrib'\n",
      "WARNING: Entity <function Function._initialize_uninitialized_variables.<locals>.initialize_variables at 0x7fb940255400> could not be transformed and will be executed as-is. Please report this to the AutoGraph team. When filing the bug, set the verbosity to 10 (on Linux, `export AUTOGRAPH_VERBOSITY=10`) and attach the full output. Cause: No module named 'tensorflow_core.contrib'\n",
      "WARNING: Entity <bound method L1L2.__call__ of <tensorflow.python.keras.regularizers.L1L2 object at 0x7fb9403e3fd0>> could not be transformed and will be executed as-is. Please report this to the AutoGraph team. When filing the bug, set the verbosity to 10 (on Linux, `export AUTOGRAPH_VERBOSITY=10`) and attach the full output. Cause: No module named 'tensorflow_core.contrib'\n",
      "WARNING: Entity <function Function._initialize_uninitialized_variables.<locals>.initialize_variables at 0x7fb8ec6a5ae8> could not be transformed and will be executed as-is. Please report this to the AutoGraph team. When filing the bug, set the verbosity to 10 (on Linux, `export AUTOGRAPH_VERBOSITY=10`) and attach the full output. Cause: No module named 'tensorflow_core.contrib'\n"
     ]
    },
    {
     "name": "stderr",
     "output_type": "stream",
     "text": [
      "W0608 21:37:57.431498 140437208413952 ag_logging.py:145] Entity <function Function._initialize_uninitialized_variables.<locals>.initialize_variables at 0x7fb8c40fbd90> could not be transformed and will be executed as-is. Please report this to the AutoGraph team. When filing the bug, set the verbosity to 10 (on Linux, `export AUTOGRAPH_VERBOSITY=10`) and attach the full output. Cause: No module named 'tensorflow_core.contrib'\n",
      "W0608 21:37:57.440640 140437208413952 ag_logging.py:145] Entity <function Function._initialize_uninitialized_variables.<locals>.initialize_variables at 0x7fb8ec2c28c8> could not be transformed and will be executed as-is. Please report this to the AutoGraph team. When filing the bug, set the verbosity to 10 (on Linux, `export AUTOGRAPH_VERBOSITY=10`) and attach the full output. Cause: No module named 'tensorflow_core.contrib'\n"
     ]
    },
    {
     "name": "stdout",
     "output_type": "stream",
     "text": [
      "WARNING: Entity <function Function._initialize_uninitialized_variables.<locals>.initialize_variables at 0x7fb92878f510> could not be transformed and will be executed as-is. Please report this to the AutoGraph team. When filing the bug, set the verbosity to 10 (on Linux, `export AUTOGRAPH_VERBOSITY=10`) and attach the full output. Cause: No module named 'tensorflow_core.contrib'\n",
      "WARNING: Entity <function Function._initialize_uninitialized_variables.<locals>.initialize_variables at 0x7fb8c40fbd90> could not be transformed and will be executed as-is. Please report this to the AutoGraph team. When filing the bug, set the verbosity to 10 (on Linux, `export AUTOGRAPH_VERBOSITY=10`) and attach the full output. Cause: No module named 'tensorflow_core.contrib'\n",
      "WARNING: Entity <function Function._initialize_uninitialized_variables.<locals>.initialize_variables at 0x7fb8ec2c28c8> could not be transformed and will be executed as-is. Please report this to the AutoGraph team. When filing the bug, set the verbosity to 10 (on Linux, `export AUTOGRAPH_VERBOSITY=10`) and attach the full output. Cause: No module named 'tensorflow_core.contrib'\n"
     ]
    },
    {
     "name": "stderr",
     "output_type": "stream",
     "text": [
      "W0608 21:37:57.543465 140437208413952 ag_logging.py:145] Entity <function Function._initialize_uninitialized_variables.<locals>.initialize_variables at 0x7fb928742488> could not be transformed and will be executed as-is. Please report this to the AutoGraph team. When filing the bug, set the verbosity to 10 (on Linux, `export AUTOGRAPH_VERBOSITY=10`) and attach the full output. Cause: No module named 'tensorflow_core.contrib'\n"
     ]
    },
    {
     "name": "stdout",
     "output_type": "stream",
     "text": [
      "WARNING: Entity <function Function._initialize_uninitialized_variables.<locals>.initialize_variables at 0x7fb928742488> could not be transformed and will be executed as-is. Please report this to the AutoGraph team. When filing the bug, set the verbosity to 10 (on Linux, `export AUTOGRAPH_VERBOSITY=10`) and attach the full output. Cause: No module named 'tensorflow_core.contrib'\n"
     ]
    },
    {
     "name": "stderr",
     "output_type": "stream",
     "text": [
      "W0608 21:37:57.563076 140437208413952 ag_logging.py:145] Entity <function Function._initialize_uninitialized_variables.<locals>.initialize_variables at 0x7fb8c452cbf8> could not be transformed and will be executed as-is. Please report this to the AutoGraph team. When filing the bug, set the verbosity to 10 (on Linux, `export AUTOGRAPH_VERBOSITY=10`) and attach the full output. Cause: No module named 'tensorflow_core.contrib'\n"
     ]
    },
    {
     "name": "stdout",
     "output_type": "stream",
     "text": [
      "WARNING: Entity <function Function._initialize_uninitialized_variables.<locals>.initialize_variables at 0x7fb8c452cbf8> could not be transformed and will be executed as-is. Please report this to the AutoGraph team. When filing the bug, set the verbosity to 10 (on Linux, `export AUTOGRAPH_VERBOSITY=10`) and attach the full output. Cause: No module named 'tensorflow_core.contrib'\n"
     ]
    },
    {
     "name": "stderr",
     "output_type": "stream",
     "text": [
      "W0608 21:37:57.614432 140437208413952 ag_logging.py:145] Entity <function Function._initialize_uninitialized_variables.<locals>.initialize_variables at 0x7fb940088840> could not be transformed and will be executed as-is. Please report this to the AutoGraph team. When filing the bug, set the verbosity to 10 (on Linux, `export AUTOGRAPH_VERBOSITY=10`) and attach the full output. Cause: No module named 'tensorflow_core.contrib'\n",
      "W0608 21:37:57.629732 140437208413952 ag_logging.py:145] Entity <function canonicalize_signatures.<locals>.signature_wrapper at 0x7fb92878f510> could not be transformed and will be executed as-is. Please report this to the AutoGraph team. When filing the bug, set the verbosity to 10 (on Linux, `export AUTOGRAPH_VERBOSITY=10`) and attach the full output. Cause: No module named 'tensorflow_core.contrib'\n",
      "W0608 21:37:57.646043 140437208413952 ag_logging.py:145] Entity <function Function._initialize_uninitialized_variables.<locals>.initialize_variables at 0x7fb8a1d56510> could not be transformed and will be executed as-is. Please report this to the AutoGraph team. When filing the bug, set the verbosity to 10 (on Linux, `export AUTOGRAPH_VERBOSITY=10`) and attach the full output. Cause: No module named 'tensorflow_core.contrib'\n"
     ]
    },
    {
     "name": "stdout",
     "output_type": "stream",
     "text": [
      "WARNING: Entity <function Function._initialize_uninitialized_variables.<locals>.initialize_variables at 0x7fb940088840> could not be transformed and will be executed as-is. Please report this to the AutoGraph team. When filing the bug, set the verbosity to 10 (on Linux, `export AUTOGRAPH_VERBOSITY=10`) and attach the full output. Cause: No module named 'tensorflow_core.contrib'\n",
      "WARNING: Entity <function canonicalize_signatures.<locals>.signature_wrapper at 0x7fb92878f510> could not be transformed and will be executed as-is. Please report this to the AutoGraph team. When filing the bug, set the verbosity to 10 (on Linux, `export AUTOGRAPH_VERBOSITY=10`) and attach the full output. Cause: No module named 'tensorflow_core.contrib'\n",
      "WARNING: Entity <function Function._initialize_uninitialized_variables.<locals>.initialize_variables at 0x7fb8a1d56510> could not be transformed and will be executed as-is. Please report this to the AutoGraph team. When filing the bug, set the verbosity to 10 (on Linux, `export AUTOGRAPH_VERBOSITY=10`) and attach the full output. Cause: No module named 'tensorflow_core.contrib'\n",
      "1084/1085 [============================>.] - ETA: 0s - loss: 0.0021 - mean_PSNR: 28.2408\n",
      "Learning rate for epoch 58 is 9.999999747378752e-05\n",
      "1085/1085 [==============================] - 99s 91ms/step - loss: 0.0021 - mean_PSNR: 28.2408 - val_loss: 0.0023 - val_mean_PSNR: 27.8811\n",
      "Epoch 59/300\n",
      "1084/1085 [============================>.] - ETA: 0s - loss: 0.0021 - mean_PSNR: 28.2457\n",
      "Learning rate for epoch 59 is 2.499999936844688e-05\n",
      "1085/1085 [==============================] - 95s 87ms/step - loss: 0.0021 - mean_PSNR: 28.2454 - val_loss: 0.0023 - val_mean_PSNR: 27.8916\n",
      "Epoch 60/300\n",
      "1084/1085 [============================>.] - ETA: 0s - loss: 0.0021 - mean_PSNR: 28.2589\n",
      "Learning rate for epoch 60 is 9.999999747378752e-05\n",
      "1085/1085 [==============================] - 95s 87ms/step - loss: 0.0021 - mean_PSNR: 28.2589 - val_loss: 0.0023 - val_mean_PSNR: 27.8917\n",
      "Epoch 61/300\n",
      "1084/1085 [============================>.] - ETA: 0s - loss: 0.0021 - mean_PSNR: 28.2714\n",
      "Learning rate for epoch 61 is 2.499999936844688e-05\n",
      "1085/1085 [==============================] - 94s 87ms/step - loss: 0.0021 - mean_PSNR: 28.2715 - val_loss: 0.0023 - val_mean_PSNR: 27.9007\n",
      "Epoch 62/300\n",
      "1084/1085 [============================>.] - ETA: 0s - loss: 0.0021 - mean_PSNR: 28.2788\n",
      "Learning rate for epoch 62 is 9.999999747378752e-05\n",
      "1085/1085 [==============================] - 95s 87ms/step - loss: 0.0021 - mean_PSNR: 28.2787 - val_loss: 0.0023 - val_mean_PSNR: 27.9074\n",
      "Epoch 63/300\n",
      "1084/1085 [============================>.] - ETA: 0s - loss: 0.0021 - mean_PSNR: 28.2822\n",
      "Learning rate for epoch 63 is 2.499999936844688e-05\n",
      "1085/1085 [==============================] - 95s 88ms/step - loss: 0.0021 - mean_PSNR: 28.2820 - val_loss: 0.0023 - val_mean_PSNR: 27.9184\n",
      "Epoch 64/300\n",
      "1084/1085 [============================>.] - ETA: 0s - loss: 0.0021 - mean_PSNR: 28.2924\n",
      "Learning rate for epoch 64 is 9.999999747378752e-05\n",
      "1085/1085 [==============================] - 95s 87ms/step - loss: 0.0021 - mean_PSNR: 28.2924 - val_loss: 0.0023 - val_mean_PSNR: 27.9355\n",
      "Epoch 65/300\n",
      "1084/1085 [============================>.] - ETA: 0s - loss: 0.0021 - mean_PSNR: 28.2972\n",
      "Learning rate for epoch 65 is 2.499999936844688e-05\n",
      "1085/1085 [==============================] - 94s 87ms/step - loss: 0.0021 - mean_PSNR: 28.2971 - val_loss: 0.0023 - val_mean_PSNR: 27.9399\n",
      "Epoch 66/300\n",
      "1084/1085 [============================>.] - ETA: 0s - loss: 0.0021 - mean_PSNR: 28.2974\n",
      "Learning rate for epoch 66 is 9.999999747378752e-05\n",
      "1085/1085 [==============================] - 95s 87ms/step - loss: 0.0021 - mean_PSNR: 28.2975 - val_loss: 0.0023 - val_mean_PSNR: 27.9258\n",
      "Epoch 67/300\n",
      "1084/1085 [============================>.] - ETA: 0s - loss: 0.0021 - mean_PSNR: 28.3029\n",
      "Learning rate for epoch 67 is 9.999999747378752e-05\n",
      "1085/1085 [==============================] - 95s 87ms/step - loss: 0.0021 - mean_PSNR: 28.3029 - val_loss: 0.0023 - val_mean_PSNR: 27.9340\n",
      "Epoch 68/300\n",
      "1084/1085 [============================>.] - ETA: 0s - loss: 0.0021 - mean_PSNR: 28.3147\n",
      "Learning rate for epoch 68 is 9.999999747378752e-05\n",
      "1085/1085 [==============================] - 95s 87ms/step - loss: 0.0021 - mean_PSNR: 28.3146 - val_loss: 0.0023 - val_mean_PSNR: 27.9547\n",
      "Epoch 69/300\n",
      "1084/1085 [============================>.] - ETA: 0s - loss: 0.0021 - mean_PSNR: 28.3227\n",
      "Learning rate for epoch 69 is 2.499999936844688e-05\n",
      "1085/1085 [==============================] - 94s 87ms/step - loss: 0.0021 - mean_PSNR: 28.3226 - val_loss: 0.0023 - val_mean_PSNR: 27.9560\n",
      "Epoch 70/300\n",
      "1084/1085 [============================>.] - ETA: 0s - loss: 0.0021 - mean_PSNR: 28.3241\n",
      "Learning rate for epoch 70 is 9.999999747378752e-05\n",
      "1085/1085 [==============================] - 94s 87ms/step - loss: 0.0021 - mean_PSNR: 28.3239 - val_loss: 0.0023 - val_mean_PSNR: 27.9464\n",
      "Epoch 71/300\n",
      "1084/1085 [============================>.] - ETA: 0s - loss: 0.0021 - mean_PSNR: 28.3264\n",
      "Learning rate for epoch 71 is 2.499999936844688e-05\n",
      "1085/1085 [==============================] - 94s 87ms/step - loss: 0.0021 - mean_PSNR: 28.3264 - val_loss: 0.0023 - val_mean_PSNR: 27.9530\n",
      "Epoch 72/300\n",
      "1084/1085 [============================>.] - ETA: 0s - loss: 0.0021 - mean_PSNR: 28.3308\n",
      "Learning rate for epoch 72 is 9.999999747378752e-05\n",
      "1085/1085 [==============================] - 94s 87ms/step - loss: 0.0021 - mean_PSNR: 28.3309 - val_loss: 0.0022 - val_mean_PSNR: 27.9767\n",
      "Epoch 73/300\n",
      "   4/1085 [..............................] - ETA: 1:29 - loss: 0.0022 - mean_PSNR: 28.0213\n",
      "Epoch 00073: saving model to /home/ubuntu/cs230/models/automap_fastmri/2019-06-08_13:06:26/cp-0073.ckpt\n"
     ]
    },
    {
     "name": "stderr",
     "output_type": "stream",
     "text": [
      "W0608 22:00:59.674691 140437208413952 ag_logging.py:145] Entity <function Function._initialize_uninitialized_variables.<locals>.initialize_variables at 0x7fb8a06769d8> could not be transformed and will be executed as-is. Please report this to the AutoGraph team. When filing the bug, set the verbosity to 10 (on Linux, `export AUTOGRAPH_VERBOSITY=10`) and attach the full output. Cause: No module named 'tensorflow_core.contrib'\n",
      "W0608 22:00:59.683694 140437208413952 ag_logging.py:145] Entity <function Function._initialize_uninitialized_variables.<locals>.initialize_variables at 0x7fb8a07d1d08> could not be transformed and will be executed as-is. Please report this to the AutoGraph team. When filing the bug, set the verbosity to 10 (on Linux, `export AUTOGRAPH_VERBOSITY=10`) and attach the full output. Cause: No module named 'tensorflow_core.contrib'\n",
      "W0608 22:00:59.696320 140437208413952 ag_logging.py:145] Entity <function Function._initialize_uninitialized_variables.<locals>.initialize_variables at 0x7fb940232510> could not be transformed and will be executed as-is. Please report this to the AutoGraph team. When filing the bug, set the verbosity to 10 (on Linux, `export AUTOGRAPH_VERBOSITY=10`) and attach the full output. Cause: No module named 'tensorflow_core.contrib'\n",
      "W0608 22:00:59.704861 140437208413952 ag_logging.py:145] Entity <function Function._initialize_uninitialized_variables.<locals>.initialize_variables at 0x7fb94016f048> could not be transformed and will be executed as-is. Please report this to the AutoGraph team. When filing the bug, set the verbosity to 10 (on Linux, `export AUTOGRAPH_VERBOSITY=10`) and attach the full output. Cause: No module named 'tensorflow_core.contrib'\n",
      "W0608 22:00:59.709054 140437208413952 ag_logging.py:145] Entity <bound method L1L2.__call__ of <tensorflow.python.keras.regularizers.L1L2 object at 0x7fb9403e3fd0>> could not be transformed and will be executed as-is. Please report this to the AutoGraph team. When filing the bug, set the verbosity to 10 (on Linux, `export AUTOGRAPH_VERBOSITY=10`) and attach the full output. Cause: No module named 'tensorflow_core.contrib'\n",
      "W0608 22:00:59.721091 140437208413952 ag_logging.py:145] Entity <function Function._initialize_uninitialized_variables.<locals>.initialize_variables at 0x7fb8ec6a5ae8> could not be transformed and will be executed as-is. Please report this to the AutoGraph team. When filing the bug, set the verbosity to 10 (on Linux, `export AUTOGRAPH_VERBOSITY=10`) and attach the full output. Cause: No module named 'tensorflow_core.contrib'\n"
     ]
    },
    {
     "name": "stdout",
     "output_type": "stream",
     "text": [
      "WARNING: Entity <function Function._initialize_uninitialized_variables.<locals>.initialize_variables at 0x7fb8a06769d8> could not be transformed and will be executed as-is. Please report this to the AutoGraph team. When filing the bug, set the verbosity to 10 (on Linux, `export AUTOGRAPH_VERBOSITY=10`) and attach the full output. Cause: No module named 'tensorflow_core.contrib'\n",
      "WARNING: Entity <function Function._initialize_uninitialized_variables.<locals>.initialize_variables at 0x7fb8a07d1d08> could not be transformed and will be executed as-is. Please report this to the AutoGraph team. When filing the bug, set the verbosity to 10 (on Linux, `export AUTOGRAPH_VERBOSITY=10`) and attach the full output. Cause: No module named 'tensorflow_core.contrib'\n",
      "WARNING: Entity <function Function._initialize_uninitialized_variables.<locals>.initialize_variables at 0x7fb940232510> could not be transformed and will be executed as-is. Please report this to the AutoGraph team. When filing the bug, set the verbosity to 10 (on Linux, `export AUTOGRAPH_VERBOSITY=10`) and attach the full output. Cause: No module named 'tensorflow_core.contrib'\n",
      "WARNING: Entity <function Function._initialize_uninitialized_variables.<locals>.initialize_variables at 0x7fb94016f048> could not be transformed and will be executed as-is. Please report this to the AutoGraph team. When filing the bug, set the verbosity to 10 (on Linux, `export AUTOGRAPH_VERBOSITY=10`) and attach the full output. Cause: No module named 'tensorflow_core.contrib'\n",
      "WARNING: Entity <bound method L1L2.__call__ of <tensorflow.python.keras.regularizers.L1L2 object at 0x7fb9403e3fd0>> could not be transformed and will be executed as-is. Please report this to the AutoGraph team. When filing the bug, set the verbosity to 10 (on Linux, `export AUTOGRAPH_VERBOSITY=10`) and attach the full output. Cause: No module named 'tensorflow_core.contrib'\n",
      "WARNING: Entity <function Function._initialize_uninitialized_variables.<locals>.initialize_variables at 0x7fb8ec6a5ae8> could not be transformed and will be executed as-is. Please report this to the AutoGraph team. When filing the bug, set the verbosity to 10 (on Linux, `export AUTOGRAPH_VERBOSITY=10`) and attach the full output. Cause: No module named 'tensorflow_core.contrib'\n"
     ]
    },
    {
     "name": "stderr",
     "output_type": "stream",
     "text": [
      "W0608 22:00:59.733352 140437208413952 ag_logging.py:145] Entity <function Function._initialize_uninitialized_variables.<locals>.initialize_variables at 0x7fb92878f2f0> could not be transformed and will be executed as-is. Please report this to the AutoGraph team. When filing the bug, set the verbosity to 10 (on Linux, `export AUTOGRAPH_VERBOSITY=10`) and attach the full output. Cause: No module named 'tensorflow_core.contrib'\n",
      "W0608 22:00:59.765728 140437208413952 ag_logging.py:145] Entity <function Function._initialize_uninitialized_variables.<locals>.initialize_variables at 0x7fb9401d4ae8> could not be transformed and will be executed as-is. Please report this to the AutoGraph team. When filing the bug, set the verbosity to 10 (on Linux, `export AUTOGRAPH_VERBOSITY=10`) and attach the full output. Cause: No module named 'tensorflow_core.contrib'\n",
      "W0608 22:00:59.775173 140437208413952 ag_logging.py:145] Entity <function Function._initialize_uninitialized_variables.<locals>.initialize_variables at 0x7fb8ec2c26a8> could not be transformed and will be executed as-is. Please report this to the AutoGraph team. When filing the bug, set the verbosity to 10 (on Linux, `export AUTOGRAPH_VERBOSITY=10`) and attach the full output. Cause: No module named 'tensorflow_core.contrib'\n"
     ]
    },
    {
     "name": "stdout",
     "output_type": "stream",
     "text": [
      "WARNING: Entity <function Function._initialize_uninitialized_variables.<locals>.initialize_variables at 0x7fb92878f2f0> could not be transformed and will be executed as-is. Please report this to the AutoGraph team. When filing the bug, set the verbosity to 10 (on Linux, `export AUTOGRAPH_VERBOSITY=10`) and attach the full output. Cause: No module named 'tensorflow_core.contrib'\n",
      "WARNING: Entity <function Function._initialize_uninitialized_variables.<locals>.initialize_variables at 0x7fb9401d4ae8> could not be transformed and will be executed as-is. Please report this to the AutoGraph team. When filing the bug, set the verbosity to 10 (on Linux, `export AUTOGRAPH_VERBOSITY=10`) and attach the full output. Cause: No module named 'tensorflow_core.contrib'\n",
      "WARNING: Entity <function Function._initialize_uninitialized_variables.<locals>.initialize_variables at 0x7fb8ec2c26a8> could not be transformed and will be executed as-is. Please report this to the AutoGraph team. When filing the bug, set the verbosity to 10 (on Linux, `export AUTOGRAPH_VERBOSITY=10`) and attach the full output. Cause: No module named 'tensorflow_core.contrib'\n"
     ]
    },
    {
     "name": "stderr",
     "output_type": "stream",
     "text": [
      "W0608 22:00:59.885478 140437208413952 ag_logging.py:145] Entity <function Function._initialize_uninitialized_variables.<locals>.initialize_variables at 0x7fb940109d08> could not be transformed and will be executed as-is. Please report this to the AutoGraph team. When filing the bug, set the verbosity to 10 (on Linux, `export AUTOGRAPH_VERBOSITY=10`) and attach the full output. Cause: No module named 'tensorflow_core.contrib'\n",
      "W0608 22:00:59.906044 140437208413952 ag_logging.py:145] Entity <function Function._initialize_uninitialized_variables.<locals>.initialize_variables at 0x7fb8a0c658c8> could not be transformed and will be executed as-is. Please report this to the AutoGraph team. When filing the bug, set the verbosity to 10 (on Linux, `export AUTOGRAPH_VERBOSITY=10`) and attach the full output. Cause: No module named 'tensorflow_core.contrib'\n"
     ]
    },
    {
     "name": "stdout",
     "output_type": "stream",
     "text": [
      "WARNING: Entity <function Function._initialize_uninitialized_variables.<locals>.initialize_variables at 0x7fb940109d08> could not be transformed and will be executed as-is. Please report this to the AutoGraph team. When filing the bug, set the verbosity to 10 (on Linux, `export AUTOGRAPH_VERBOSITY=10`) and attach the full output. Cause: No module named 'tensorflow_core.contrib'\n",
      "WARNING: Entity <function Function._initialize_uninitialized_variables.<locals>.initialize_variables at 0x7fb8a0c658c8> could not be transformed and will be executed as-is. Please report this to the AutoGraph team. When filing the bug, set the verbosity to 10 (on Linux, `export AUTOGRAPH_VERBOSITY=10`) and attach the full output. Cause: No module named 'tensorflow_core.contrib'\n"
     ]
    },
    {
     "name": "stderr",
     "output_type": "stream",
     "text": [
      "W0608 22:00:59.959173 140437208413952 ag_logging.py:145] Entity <function Function._initialize_uninitialized_variables.<locals>.initialize_variables at 0x7fb9401d4598> could not be transformed and will be executed as-is. Please report this to the AutoGraph team. When filing the bug, set the verbosity to 10 (on Linux, `export AUTOGRAPH_VERBOSITY=10`) and attach the full output. Cause: No module named 'tensorflow_core.contrib'\n",
      "W0608 22:00:59.974916 140437208413952 ag_logging.py:145] Entity <function canonicalize_signatures.<locals>.signature_wrapper at 0x7fb8ec2c26a8> could not be transformed and will be executed as-is. Please report this to the AutoGraph team. When filing the bug, set the verbosity to 10 (on Linux, `export AUTOGRAPH_VERBOSITY=10`) and attach the full output. Cause: No module named 'tensorflow_core.contrib'\n",
      "W0608 22:00:59.991914 140437208413952 ag_logging.py:145] Entity <function Function._initialize_uninitialized_variables.<locals>.initialize_variables at 0x7fb8a0c33840> could not be transformed and will be executed as-is. Please report this to the AutoGraph team. When filing the bug, set the verbosity to 10 (on Linux, `export AUTOGRAPH_VERBOSITY=10`) and attach the full output. Cause: No module named 'tensorflow_core.contrib'\n"
     ]
    },
    {
     "name": "stdout",
     "output_type": "stream",
     "text": [
      "WARNING: Entity <function Function._initialize_uninitialized_variables.<locals>.initialize_variables at 0x7fb9401d4598> could not be transformed and will be executed as-is. Please report this to the AutoGraph team. When filing the bug, set the verbosity to 10 (on Linux, `export AUTOGRAPH_VERBOSITY=10`) and attach the full output. Cause: No module named 'tensorflow_core.contrib'\n",
      "WARNING: Entity <function canonicalize_signatures.<locals>.signature_wrapper at 0x7fb8ec2c26a8> could not be transformed and will be executed as-is. Please report this to the AutoGraph team. When filing the bug, set the verbosity to 10 (on Linux, `export AUTOGRAPH_VERBOSITY=10`) and attach the full output. Cause: No module named 'tensorflow_core.contrib'\n",
      "WARNING: Entity <function Function._initialize_uninitialized_variables.<locals>.initialize_variables at 0x7fb8a0c33840> could not be transformed and will be executed as-is. Please report this to the AutoGraph team. When filing the bug, set the verbosity to 10 (on Linux, `export AUTOGRAPH_VERBOSITY=10`) and attach the full output. Cause: No module named 'tensorflow_core.contrib'\n",
      "1084/1085 [============================>.] - ETA: 0s - loss: 0.0021 - mean_PSNR: 28.3319\n",
      "Learning rate for epoch 73 is 2.499999936844688e-05\n",
      "1085/1085 [==============================] - 99s 91ms/step - loss: 0.0021 - mean_PSNR: 28.3318 - val_loss: 0.0023 - val_mean_PSNR: 27.9536\n",
      "Epoch 74/300\n",
      "1084/1085 [============================>.] - ETA: 0s - loss: 0.0021 - mean_PSNR: 28.3480\n",
      "Learning rate for epoch 74 is 9.999999747378752e-05\n",
      "1085/1085 [==============================] - 99s 92ms/step - loss: 0.0021 - mean_PSNR: 28.3479 - val_loss: 0.0022 - val_mean_PSNR: 27.9690\n",
      "Epoch 75/300\n",
      "1084/1085 [============================>.] - ETA: 0s - loss: 0.0021 - mean_PSNR: 28.3496\n",
      "Learning rate for epoch 75 is 2.499999936844688e-05\n",
      "1085/1085 [==============================] - 94s 87ms/step - loss: 0.0021 - mean_PSNR: 28.3494 - val_loss: 0.0022 - val_mean_PSNR: 27.9637\n",
      "Epoch 76/300\n",
      "1084/1085 [============================>.] - ETA: 0s - loss: 0.0021 - mean_PSNR: 28.3469\n",
      "Learning rate for epoch 76 is 9.999999747378752e-05\n",
      "1085/1085 [==============================] - 98s 91ms/step - loss: 0.0021 - mean_PSNR: 28.3468 - val_loss: 0.0022 - val_mean_PSNR: 27.9884\n",
      "Epoch 77/300\n",
      "1084/1085 [============================>.] - ETA: 0s - loss: 0.0021 - mean_PSNR: 28.3494\n",
      "Learning rate for epoch 77 is 2.499999936844688e-05\n",
      "1085/1085 [==============================] - 94s 87ms/step - loss: 0.0021 - mean_PSNR: 28.3493 - val_loss: 0.0022 - val_mean_PSNR: 27.9774\n",
      "Epoch 78/300\n",
      "1084/1085 [============================>.] - ETA: 0s - loss: 0.0021 - mean_PSNR: 28.3552\n",
      "Learning rate for epoch 78 is 9.999999747378752e-05\n",
      "1085/1085 [==============================] - 94s 87ms/step - loss: 0.0021 - mean_PSNR: 28.3551 - val_loss: 0.0022 - val_mean_PSNR: 27.9856\n",
      "Epoch 79/300\n",
      "1084/1085 [============================>.] - ETA: 0s - loss: 0.0021 - mean_PSNR: 28.3577\n",
      "Learning rate for epoch 79 is 2.499999936844688e-05\n",
      "1085/1085 [==============================] - 94s 87ms/step - loss: 0.0021 - mean_PSNR: 28.3578 - val_loss: 0.0022 - val_mean_PSNR: 27.9585\n",
      "Epoch 80/300\n",
      "1084/1085 [============================>.] - ETA: 0s - loss: 0.0020 - mean_PSNR: 28.3625\n",
      "Learning rate for epoch 80 is 9.999999747378752e-05\n",
      "1085/1085 [==============================] - 94s 87ms/step - loss: 0.0020 - mean_PSNR: 28.3625 - val_loss: 0.0022 - val_mean_PSNR: 27.9844\n",
      "Epoch 81/300\n",
      "1084/1085 [============================>.] - ETA: 0s - loss: 0.0020 - mean_PSNR: 28.3600\n",
      "Learning rate for epoch 81 is 2.499999936844688e-05\n",
      "1085/1085 [==============================] - 94s 87ms/step - loss: 0.0020 - mean_PSNR: 28.3598 - val_loss: 0.0022 - val_mean_PSNR: 27.9934\n",
      "Epoch 82/300\n",
      "1084/1085 [============================>.] - ETA: 0s - loss: 0.0020 - mean_PSNR: 28.3659\n",
      "Learning rate for epoch 82 is 9.999999747378752e-05\n",
      "1085/1085 [==============================] - 94s 87ms/step - loss: 0.0020 - mean_PSNR: 28.3658 - val_loss: 0.0022 - val_mean_PSNR: 27.9879\n",
      "Epoch 83/300\n",
      "1084/1085 [============================>.] - ETA: 0s - loss: 0.0020 - mean_PSNR: 28.3670\n",
      "Learning rate for epoch 83 is 2.499999936844688e-05\n",
      "1085/1085 [==============================] - 95s 88ms/step - loss: 0.0020 - mean_PSNR: 28.3668 - val_loss: 0.0022 - val_mean_PSNR: 27.9810\n",
      "Epoch 84/300\n",
      "1084/1085 [============================>.] - ETA: 0s - loss: 0.0020 - mean_PSNR: 28.3695\n",
      "Learning rate for epoch 84 is 9.999999747378752e-05\n",
      "1085/1085 [==============================] - 94s 87ms/step - loss: 0.0020 - mean_PSNR: 28.3696 - val_loss: 0.0022 - val_mean_PSNR: 28.0101\n",
      "Epoch 85/300\n",
      "1084/1085 [============================>.] - ETA: 0s - loss: 0.0020 - mean_PSNR: 28.3764\n",
      "Learning rate for epoch 85 is 2.499999936844688e-05\n",
      "1085/1085 [==============================] - 94s 87ms/step - loss: 0.0020 - mean_PSNR: 28.3763 - val_loss: 0.0022 - val_mean_PSNR: 28.0038\n",
      "Epoch 86/300\n",
      "1084/1085 [============================>.] - ETA: 0s - loss: 0.0020 - mean_PSNR: 28.3714\n",
      "Learning rate for epoch 86 is 9.999999747378752e-05\n",
      "1085/1085 [==============================] - 94s 87ms/step - loss: 0.0020 - mean_PSNR: 28.3713 - val_loss: 0.0022 - val_mean_PSNR: 28.0163\n",
      "Epoch 87/300\n",
      " 439/1085 [===========>..................] - ETA: 41s - loss: 0.0020 - mean_PSNR: 28.3666\n",
      "Epoch 00087: saving model to /home/ubuntu/cs230/models/automap_fastmri/2019-06-08_13:06:26/cp-0087.ckpt\n"
     ]
    },
    {
     "name": "stderr",
     "output_type": "stream",
     "text": [
      "W0608 22:23:43.036092 140437208413952 ag_logging.py:145] Entity <function Function._initialize_uninitialized_variables.<locals>.initialize_variables at 0x7fb8a1d56840> could not be transformed and will be executed as-is. Please report this to the AutoGraph team. When filing the bug, set the verbosity to 10 (on Linux, `export AUTOGRAPH_VERBOSITY=10`) and attach the full output. Cause: No module named 'tensorflow_core.contrib'\n",
      "W0608 22:23:43.045335 140437208413952 ag_logging.py:145] Entity <function Function._initialize_uninitialized_variables.<locals>.initialize_variables at 0x7fb8ec14c510> could not be transformed and will be executed as-is. Please report this to the AutoGraph team. When filing the bug, set the verbosity to 10 (on Linux, `export AUTOGRAPH_VERBOSITY=10`) and attach the full output. Cause: No module named 'tensorflow_core.contrib'\n",
      "W0608 22:23:43.057944 140437208413952 ag_logging.py:145] Entity <function Function._initialize_uninitialized_variables.<locals>.initialize_variables at 0x7fb8c452c400> could not be transformed and will be executed as-is. Please report this to the AutoGraph team. When filing the bug, set the verbosity to 10 (on Linux, `export AUTOGRAPH_VERBOSITY=10`) and attach the full output. Cause: No module named 'tensorflow_core.contrib'\n",
      "W0608 22:23:43.066618 140437208413952 ag_logging.py:145] Entity <function Function._initialize_uninitialized_variables.<locals>.initialize_variables at 0x7fb8ec506378> could not be transformed and will be executed as-is. Please report this to the AutoGraph team. When filing the bug, set the verbosity to 10 (on Linux, `export AUTOGRAPH_VERBOSITY=10`) and attach the full output. Cause: No module named 'tensorflow_core.contrib'\n",
      "W0608 22:23:43.070602 140437208413952 ag_logging.py:145] Entity <bound method L1L2.__call__ of <tensorflow.python.keras.regularizers.L1L2 object at 0x7fb9403e3fd0>> could not be transformed and will be executed as-is. Please report this to the AutoGraph team. When filing the bug, set the verbosity to 10 (on Linux, `export AUTOGRAPH_VERBOSITY=10`) and attach the full output. Cause: No module named 'tensorflow_core.contrib'\n",
      "W0608 22:23:43.082735 140437208413952 ag_logging.py:145] Entity <function Function._initialize_uninitialized_variables.<locals>.initialize_variables at 0x7fb94016fea0> could not be transformed and will be executed as-is. Please report this to the AutoGraph team. When filing the bug, set the verbosity to 10 (on Linux, `export AUTOGRAPH_VERBOSITY=10`) and attach the full output. Cause: No module named 'tensorflow_core.contrib'\n"
     ]
    },
    {
     "name": "stdout",
     "output_type": "stream",
     "text": [
      "WARNING: Entity <function Function._initialize_uninitialized_variables.<locals>.initialize_variables at 0x7fb8a1d56840> could not be transformed and will be executed as-is. Please report this to the AutoGraph team. When filing the bug, set the verbosity to 10 (on Linux, `export AUTOGRAPH_VERBOSITY=10`) and attach the full output. Cause: No module named 'tensorflow_core.contrib'\n",
      "WARNING: Entity <function Function._initialize_uninitialized_variables.<locals>.initialize_variables at 0x7fb8ec14c510> could not be transformed and will be executed as-is. Please report this to the AutoGraph team. When filing the bug, set the verbosity to 10 (on Linux, `export AUTOGRAPH_VERBOSITY=10`) and attach the full output. Cause: No module named 'tensorflow_core.contrib'\n",
      "WARNING: Entity <function Function._initialize_uninitialized_variables.<locals>.initialize_variables at 0x7fb8c452c400> could not be transformed and will be executed as-is. Please report this to the AutoGraph team. When filing the bug, set the verbosity to 10 (on Linux, `export AUTOGRAPH_VERBOSITY=10`) and attach the full output. Cause: No module named 'tensorflow_core.contrib'\n",
      "WARNING: Entity <function Function._initialize_uninitialized_variables.<locals>.initialize_variables at 0x7fb8ec506378> could not be transformed and will be executed as-is. Please report this to the AutoGraph team. When filing the bug, set the verbosity to 10 (on Linux, `export AUTOGRAPH_VERBOSITY=10`) and attach the full output. Cause: No module named 'tensorflow_core.contrib'\n",
      "WARNING: Entity <bound method L1L2.__call__ of <tensorflow.python.keras.regularizers.L1L2 object at 0x7fb9403e3fd0>> could not be transformed and will be executed as-is. Please report this to the AutoGraph team. When filing the bug, set the verbosity to 10 (on Linux, `export AUTOGRAPH_VERBOSITY=10`) and attach the full output. Cause: No module named 'tensorflow_core.contrib'\n",
      "WARNING: Entity <function Function._initialize_uninitialized_variables.<locals>.initialize_variables at 0x7fb94016fea0> could not be transformed and will be executed as-is. Please report this to the AutoGraph team. When filing the bug, set the verbosity to 10 (on Linux, `export AUTOGRAPH_VERBOSITY=10`) and attach the full output. Cause: No module named 'tensorflow_core.contrib'\n"
     ]
    },
    {
     "name": "stderr",
     "output_type": "stream",
     "text": [
      "W0608 22:23:43.095026 140437208413952 ag_logging.py:145] Entity <function Function._initialize_uninitialized_variables.<locals>.initialize_variables at 0x7fb8ec2c2950> could not be transformed and will be executed as-is. Please report this to the AutoGraph team. When filing the bug, set the verbosity to 10 (on Linux, `export AUTOGRAPH_VERBOSITY=10`) and attach the full output. Cause: No module named 'tensorflow_core.contrib'\n",
      "W0608 22:23:43.128141 140437208413952 ag_logging.py:145] Entity <function Function._initialize_uninitialized_variables.<locals>.initialize_variables at 0x7fb92878f7b8> could not be transformed and will be executed as-is. Please report this to the AutoGraph team. When filing the bug, set the verbosity to 10 (on Linux, `export AUTOGRAPH_VERBOSITY=10`) and attach the full output. Cause: No module named 'tensorflow_core.contrib'\n",
      "W0608 22:23:43.137822 140437208413952 ag_logging.py:145] Entity <function Function._initialize_uninitialized_variables.<locals>.initialize_variables at 0x7fb940054b70> could not be transformed and will be executed as-is. Please report this to the AutoGraph team. When filing the bug, set the verbosity to 10 (on Linux, `export AUTOGRAPH_VERBOSITY=10`) and attach the full output. Cause: No module named 'tensorflow_core.contrib'\n"
     ]
    },
    {
     "name": "stdout",
     "output_type": "stream",
     "text": [
      "WARNING: Entity <function Function._initialize_uninitialized_variables.<locals>.initialize_variables at 0x7fb8ec2c2950> could not be transformed and will be executed as-is. Please report this to the AutoGraph team. When filing the bug, set the verbosity to 10 (on Linux, `export AUTOGRAPH_VERBOSITY=10`) and attach the full output. Cause: No module named 'tensorflow_core.contrib'\n",
      "WARNING: Entity <function Function._initialize_uninitialized_variables.<locals>.initialize_variables at 0x7fb92878f7b8> could not be transformed and will be executed as-is. Please report this to the AutoGraph team. When filing the bug, set the verbosity to 10 (on Linux, `export AUTOGRAPH_VERBOSITY=10`) and attach the full output. Cause: No module named 'tensorflow_core.contrib'\n",
      "WARNING: Entity <function Function._initialize_uninitialized_variables.<locals>.initialize_variables at 0x7fb940054b70> could not be transformed and will be executed as-is. Please report this to the AutoGraph team. When filing the bug, set the verbosity to 10 (on Linux, `export AUTOGRAPH_VERBOSITY=10`) and attach the full output. Cause: No module named 'tensorflow_core.contrib'\n"
     ]
    }
   ],
   "source": [
    "num_epochs = 300 # if resuming training, this still has to be higher than greatest checkpoint\n",
    "\n",
    "training_history = model.fit(\n",
    "    train_dataset,\n",
    "    validation_data=dev_dataset,\n",
    "    verbose=1, # set to 0 to suppress chatty output and use Tensorboard instead\n",
    "    epochs=num_epochs,\n",
    "    initial_epoch=initial_epoch,\n",
    "    callbacks=callbacks,\n",
    "    use_multiprocessing=True) # see if speeds things up"
   ]
  },
  {
   "cell_type": "markdown",
   "metadata": {},
   "source": [
    "### Save model (in case isn't saved after final epoch)"
   ]
  },
  {
   "cell_type": "code",
   "execution_count": null,
   "metadata": {},
   "outputs": [],
   "source": [
    "# Uncomment to save model\n",
    "model_save_path = checkpoint_path.format(epoch=num_epochs)\n",
    "model.save(model_save_path)\n",
    "print('Saved model to: {}'.format(model_save_path))"
   ]
  },
  {
   "cell_type": "markdown",
   "metadata": {},
   "source": [
    "## Evaluate model"
   ]
  },
  {
   "cell_type": "code",
   "execution_count": null,
   "metadata": {},
   "outputs": [],
   "source": [
    "model.evaluate(test_dataset, verbose=1)\n",
    "# model.evaluate(dev_dataset, verbose=1)\n",
    "# model.evaluate(train_dataset, verbose=1)"
   ]
  },
  {
   "cell_type": "markdown",
   "metadata": {},
   "source": [
    "### Plot training history (but better viewed in Tensorboard)"
   ]
  },
  {
   "cell_type": "code",
   "execution_count": null,
   "metadata": {},
   "outputs": [],
   "source": [
    "plt.figure()\n",
    "plt.plot(training_history.history[\"loss\"], label=\"Train\")\n",
    "plt.plot(training_history.history[\"val_loss\"], label=\"Test\")\n",
    "plt.xlabel(\"Epoch\")\n",
    "plt.ylabel(\"Loss\")\n",
    "plt.legend(loc=\"center right\")"
   ]
  },
  {
   "cell_type": "code",
   "execution_count": null,
   "metadata": {},
   "outputs": [],
   "source": [
    "plt.figure()\n",
    "plt.plot(training_history.history[\"mean_PSNR\"], label=\"Train\")\n",
    "plt.plot(training_history.history[\"val_mean_PSNR\"], label=\"Test\")\n",
    "plt.xlabel(\"Epoch\")\n",
    "plt.ylabel(\"µ ( PSNR ) \")\n",
    "plt.legend(loc=\"center right\")"
   ]
  },
  {
   "cell_type": "code",
   "execution_count": null,
   "metadata": {
    "scrolled": false
   },
   "outputs": [],
   "source": [
    "plt.figure()\n",
    "plt.plot(training_history.history[\"lr\"])\n",
    "plt.xlabel(\"Epoch\")\n",
    "plt.ylabel(\"Learning Rate\")\n",
    "plt.yscale('log')"
   ]
  },
  {
   "cell_type": "code",
   "execution_count": null,
   "metadata": {},
   "outputs": [],
   "source": [
    "# Predict on a test batch\n",
    "\n",
    "x, y = first_test_batch\n",
    "x, y = x.numpy(), y.numpy()\n",
    "predict_and_visualize(model, x, y);"
   ]
  },
  {
   "cell_type": "markdown",
   "metadata": {},
   "source": [
    "# Restore and run saved model"
   ]
  },
  {
   "cell_type": "code",
   "execution_count": null,
   "metadata": {
    "scrolled": false
   },
   "outputs": [],
   "source": [
    "saved_model_path = '/home/ubuntu/cs230/models/automap_fastmri/2019-06-07_00:49:20/cp-0150.ckpt'\n",
    "restored_model = restore_model(saved_model_path, weights_only=False, custom_objects={'mean_PSNR': mean_PSNR})\n",
    "predict_and_visualize(restored_model, x, y);"
   ]
  },
  {
   "cell_type": "code",
   "execution_count": null,
   "metadata": {},
   "outputs": [],
   "source": [
    "restored_model.evaluate(test_dataset, verbose=1)"
   ]
  },
  {
   "cell_type": "code",
   "execution_count": null,
   "metadata": {},
   "outputs": [],
   "source": []
  }
 ],
 "metadata": {
  "kernelspec": {
   "display_name": "Environment (conda_tensorflow_p36)",
   "language": "python",
   "name": "conda_tensorflow_p36"
  },
  "language_info": {
   "codemirror_mode": {
    "name": "ipython",
    "version": 3
   },
   "file_extension": ".py",
   "mimetype": "text/x-python",
   "name": "python",
   "nbconvert_exporter": "python",
   "pygments_lexer": "ipython3",
   "version": "3.6.5"
  }
 },
 "nbformat": 4,
 "nbformat_minor": 2
}
