{
 "cells": [
  {
   "cell_type": "code",
   "execution_count": 1,
   "metadata": {},
   "outputs": [],
   "source": [
    "# To use TF 2.0 (on EC2 instance running Deep Learning AMI):\n",
    "# source activate tensorflow_p36\n",
    "# pip uninstall tensorflow-gpu\n",
    "# pip install tensorflow-gpu==2.0.0-alpha0\n",
    "\n",
    "# But then later decided wanted even newer GPU stuff and \"in that conda env, ran:\n",
    "# pip uninstall tensorflow-gpu\n",
    "# pip install --upgrade pip\n",
    "# pip install wrapt --ignore-installed # ran this because had an error\n",
    "# pip install  tf-nightly-gpu-2.0-preview\n",
    "\n",
    "# Result: Successfully installed tf-nightly-gpu-2.0-preview-2.0.0.dev20190601"
   ]
  },
  {
   "cell_type": "code",
   "execution_count": 2,
   "metadata": {},
   "outputs": [],
   "source": [
    "import os\n",
    "from datetime import datetime\n",
    "import numpy as np\n",
    "import tensorflow as tf"
   ]
  },
  {
   "cell_type": "code",
   "execution_count": 3,
   "metadata": {},
   "outputs": [],
   "source": [
    "import matplotlib.pyplot as plt\n",
    "%matplotlib inline\n",
    "\n",
    "plt.style.use('seaborn') # pretty matplotlib plots\n",
    "plt.rcParams[\"axes.grid\"] = False # don't show grid lines on plots by default\n",
    "plt.rcParams['figure.figsize'] = (12, 16) # increase size of subplots"
   ]
  },
  {
   "cell_type": "code",
   "execution_count": 4,
   "metadata": {},
   "outputs": [
    {
     "name": "stdout",
     "output_type": "stream",
     "text": [
      "TensorFlow version:  2.0.0-dev20190601\n"
     ]
    }
   ],
   "source": [
    "from packaging import version\n",
    "\n",
    "print(\"TensorFlow version: \", tf.__version__) # make sure >= 2.0.0-dev20190601\n",
    "assert version.parse(tf.__version__).release[0] >= 2, \"This notebook requires TensorFlow 2.0 or above.\"\n"
   ]
  },
  {
   "cell_type": "code",
   "execution_count": 5,
   "metadata": {},
   "outputs": [],
   "source": [
    "import cs230_project_utilities as utils"
   ]
  },
  {
   "cell_type": "code",
   "execution_count": 6,
   "metadata": {},
   "outputs": [],
   "source": [
    "# GPU usage logging (TF 2.0+)\n",
    "\n",
    "tf.config.set_soft_device_placement(True)\n",
    "tf.debugging.set_log_device_placement(False)"
   ]
  },
  {
   "cell_type": "markdown",
   "metadata": {},
   "source": [
    "# Data"
   ]
  },
  {
   "cell_type": "markdown",
   "metadata": {},
   "source": [
    "# Convert dataset to TFRecords"
   ]
  },
  {
   "cell_type": "code",
   "execution_count": 7,
   "metadata": {},
   "outputs": [],
   "source": [
    "# Location of .h5 files\n",
    "raw_data_locations = ['/home/ubuntu/cs230/data/fastmri/raw/singlecoil_test/*.h5']\n",
    "test_tfrecord_directory = '/home/ubuntu/cs230/data/fastmri/tfrecords/singlecoil_test'\n",
    "tfrecord_locations = '/home/ubuntu/cs230/data/fastmri/tfrecords/singlecoil_test/*.tfrecord'"
   ]
  },
  {
   "cell_type": "code",
   "execution_count": 8,
   "metadata": {
    "scrolled": false
   },
   "outputs": [
    {
     "name": "stdout",
     "output_type": "stream",
     "text": [
      "Converting file 0 at b'/home/ubuntu/cs230/data/fastmri/raw/singlecoil_test/file1002167.h5' to TFRecords...\n",
      "Converting file 1 at b'/home/ubuntu/cs230/data/fastmri/raw/singlecoil_test/file1002527.h5' to TFRecords...\n",
      "Converting file 2 at b'/home/ubuntu/cs230/data/fastmri/raw/singlecoil_test/file1002091.h5' to TFRecords...\n",
      "Converting file 3 at b'/home/ubuntu/cs230/data/fastmri/raw/singlecoil_test/file1002452.h5' to TFRecords...\n",
      "Converting file 4 at b'/home/ubuntu/cs230/data/fastmri/raw/singlecoil_test/file1002116.h5' to TFRecords...\n",
      "Converting file 5 at b'/home/ubuntu/cs230/data/fastmri/raw/singlecoil_test/file1002480.h5' to TFRecords...\n",
      "Converting file 6 at b'/home/ubuntu/cs230/data/fastmri/raw/singlecoil_test/file1000056.h5' to TFRecords...\n",
      "Converting file 7 at b'/home/ubuntu/cs230/data/fastmri/raw/singlecoil_test/file1001859.h5' to TFRecords...\n",
      "Converting file 8 at b'/home/ubuntu/cs230/data/fastmri/raw/singlecoil_test/file1001670.h5' to TFRecords...\n",
      "Converting file 9 at b'/home/ubuntu/cs230/data/fastmri/raw/singlecoil_test/file1002571.h5' to TFRecords...\n",
      "Converting file 10 at b'/home/ubuntu/cs230/data/fastmri/raw/singlecoil_test/file1002331.h5' to TFRecords...\n",
      "Converting file 11 at b'/home/ubuntu/cs230/data/fastmri/raw/singlecoil_test/file1002522.h5' to TFRecords...\n",
      "Converting file 12 at b'/home/ubuntu/cs230/data/fastmri/raw/singlecoil_test/file1000260.h5' to TFRecords...\n",
      "Converting file 13 at b'/home/ubuntu/cs230/data/fastmri/raw/singlecoil_test/file1001232.h5' to TFRecords...\n",
      "Converting file 14 at b'/home/ubuntu/cs230/data/fastmri/raw/singlecoil_test/file1001833.h5' to TFRecords...\n",
      "Converting file 15 at b'/home/ubuntu/cs230/data/fastmri/raw/singlecoil_test/file1000063.h5' to TFRecords...\n",
      "Converting file 16 at b'/home/ubuntu/cs230/data/fastmri/raw/singlecoil_test/file1000670.h5' to TFRecords...\n",
      "Converting file 17 at b'/home/ubuntu/cs230/data/fastmri/raw/singlecoil_test/file1001453.h5' to TFRecords...\n",
      "Converting file 18 at b'/home/ubuntu/cs230/data/fastmri/raw/singlecoil_test/file1002005.h5' to TFRecords...\n",
      "Converting file 19 at b'/home/ubuntu/cs230/data/fastmri/raw/singlecoil_test/file1000022.h5' to TFRecords...\n",
      "Converting file 20 at b'/home/ubuntu/cs230/data/fastmri/raw/singlecoil_test/file1000680.h5' to TFRecords...\n",
      "Converting file 21 at b'/home/ubuntu/cs230/data/fastmri/raw/singlecoil_test/file1000174.h5' to TFRecords...\n",
      "Converting file 22 at b'/home/ubuntu/cs230/data/fastmri/raw/singlecoil_test/file1000171.h5' to TFRecords...\n",
      "Converting file 23 at b'/home/ubuntu/cs230/data/fastmri/raw/singlecoil_test/file1002029.h5' to TFRecords...\n",
      "Converting file 24 at b'/home/ubuntu/cs230/data/fastmri/raw/singlecoil_test/file1000745.h5' to TFRecords...\n",
      "Converting file 25 at b'/home/ubuntu/cs230/data/fastmri/raw/singlecoil_test/file1001525.h5' to TFRecords...\n",
      "Converting file 26 at b'/home/ubuntu/cs230/data/fastmri/raw/singlecoil_test/file1001987.h5' to TFRecords...\n",
      "Converting file 27 at b'/home/ubuntu/cs230/data/fastmri/raw/singlecoil_test/file1001352.h5' to TFRecords...\n",
      "Converting file 28 at b'/home/ubuntu/cs230/data/fastmri/raw/singlecoil_test/file1000751.h5' to TFRecords...\n",
      "Converting file 29 at b'/home/ubuntu/cs230/data/fastmri/raw/singlecoil_test/file1001662.h5' to TFRecords...\n",
      "Converting file 30 at b'/home/ubuntu/cs230/data/fastmri/raw/singlecoil_test/file1000104.h5' to TFRecords...\n",
      "Converting file 31 at b'/home/ubuntu/cs230/data/fastmri/raw/singlecoil_test/file1000417.h5' to TFRecords...\n",
      "Converting file 32 at b'/home/ubuntu/cs230/data/fastmri/raw/singlecoil_test/file1000343.h5' to TFRecords...\n",
      "Converting file 33 at b'/home/ubuntu/cs230/data/fastmri/raw/singlecoil_test/file1001647.h5' to TFRecords...\n",
      "Converting file 34 at b'/home/ubuntu/cs230/data/fastmri/raw/singlecoil_test/file1001313.h5' to TFRecords...\n",
      "Converting file 35 at b'/home/ubuntu/cs230/data/fastmri/raw/singlecoil_test/file1002072.h5' to TFRecords...\n",
      "Converting file 36 at b'/home/ubuntu/cs230/data/fastmri/raw/singlecoil_test/file1002402.h5' to TFRecords...\n",
      "Converting file 37 at b'/home/ubuntu/cs230/data/fastmri/raw/singlecoil_test/file1000681.h5' to TFRecords...\n",
      "Converting file 38 at b'/home/ubuntu/cs230/data/fastmri/raw/singlecoil_test/file1001844.h5' to TFRecords...\n",
      "Converting file 39 at b'/home/ubuntu/cs230/data/fastmri/raw/singlecoil_test/file1001316.h5' to TFRecords...\n",
      "Converting file 40 at b'/home/ubuntu/cs230/data/fastmri/raw/singlecoil_test/file1000093.h5' to TFRecords...\n",
      "Converting file 41 at b'/home/ubuntu/cs230/data/fastmri/raw/singlecoil_test/file1000651.h5' to TFRecords...\n",
      "Converting file 42 at b'/home/ubuntu/cs230/data/fastmri/raw/singlecoil_test/file1000133.h5' to TFRecords...\n",
      "Converting file 43 at b'/home/ubuntu/cs230/data/fastmri/raw/singlecoil_test/file1000036.h5' to TFRecords...\n",
      "Converting file 44 at b'/home/ubuntu/cs230/data/fastmri/raw/singlecoil_test/file1001484.h5' to TFRecords...\n",
      "Converting file 45 at b'/home/ubuntu/cs230/data/fastmri/raw/singlecoil_test/file1001322.h5' to TFRecords...\n",
      "Converting file 46 at b'/home/ubuntu/cs230/data/fastmri/raw/singlecoil_test/file1001543.h5' to TFRecords...\n",
      "Converting file 47 at b'/home/ubuntu/cs230/data/fastmri/raw/singlecoil_test/file1001664.h5' to TFRecords...\n",
      "Converting file 48 at b'/home/ubuntu/cs230/data/fastmri/raw/singlecoil_test/file1001621.h5' to TFRecords...\n",
      "Converting file 49 at b'/home/ubuntu/cs230/data/fastmri/raw/singlecoil_test/file1000771.h5' to TFRecords...\n",
      "Converting file 50 at b'/home/ubuntu/cs230/data/fastmri/raw/singlecoil_test/file1001423.h5' to TFRecords...\n",
      "Converting file 51 at b'/home/ubuntu/cs230/data/fastmri/raw/singlecoil_test/file1000679.h5' to TFRecords...\n",
      "Converting file 52 at b'/home/ubuntu/cs230/data/fastmri/raw/singlecoil_test/file1001472.h5' to TFRecords...\n",
      "Converting file 53 at b'/home/ubuntu/cs230/data/fastmri/raw/singlecoil_test/file1001160.h5' to TFRecords...\n",
      "Converting file 54 at b'/home/ubuntu/cs230/data/fastmri/raw/singlecoil_test/file1001237.h5' to TFRecords...\n",
      "Converting file 55 at b'/home/ubuntu/cs230/data/fastmri/raw/singlecoil_test/file1002428.h5' to TFRecords...\n",
      "Converting file 56 at b'/home/ubuntu/cs230/data/fastmri/raw/singlecoil_test/file1001361.h5' to TFRecords...\n",
      "Converting file 57 at b'/home/ubuntu/cs230/data/fastmri/raw/singlecoil_test/file1000251.h5' to TFRecords...\n",
      "Converting file 58 at b'/home/ubuntu/cs230/data/fastmri/raw/singlecoil_test/file1002230.h5' to TFRecords...\n",
      "Converting file 59 at b'/home/ubuntu/cs230/data/fastmri/raw/singlecoil_test/file1001534.h5' to TFRecords...\n",
      "Converting file 60 at b'/home/ubuntu/cs230/data/fastmri/raw/singlecoil_test/file1000055.h5' to TFRecords...\n",
      "Converting file 61 at b'/home/ubuntu/cs230/data/fastmri/raw/singlecoil_test/file1000436.h5' to TFRecords...\n",
      "Converting file 62 at b'/home/ubuntu/cs230/data/fastmri/raw/singlecoil_test/file1000732.h5' to TFRecords...\n",
      "Converting file 63 at b'/home/ubuntu/cs230/data/fastmri/raw/singlecoil_test/file1002337.h5' to TFRecords...\n",
      "Converting file 64 at b'/home/ubuntu/cs230/data/fastmri/raw/singlecoil_test/file1000370.h5' to TFRecords...\n",
      "Converting file 65 at b'/home/ubuntu/cs230/data/fastmri/raw/singlecoil_test/file1000128.h5' to TFRecords...\n",
      "Converting file 66 at b'/home/ubuntu/cs230/data/fastmri/raw/singlecoil_test/file1001442.h5' to TFRecords...\n",
      "Converting file 67 at b'/home/ubuntu/cs230/data/fastmri/raw/singlecoil_test/file1000145.h5' to TFRecords...\n",
      "Converting file 68 at b'/home/ubuntu/cs230/data/fastmri/raw/singlecoil_test/file1002141.h5' to TFRecords...\n",
      "Converting file 69 at b'/home/ubuntu/cs230/data/fastmri/raw/singlecoil_test/file1001583.h5' to TFRecords...\n",
      "Converting file 70 at b'/home/ubuntu/cs230/data/fastmri/raw/singlecoil_test/file1002215.h5' to TFRecords...\n",
      "Converting file 71 at b'/home/ubuntu/cs230/data/fastmri/raw/singlecoil_test/file1000575.h5' to TFRecords...\n",
      "Converting file 72 at b'/home/ubuntu/cs230/data/fastmri/raw/singlecoil_test/file1001937.h5' to TFRecords...\n",
      "Converting file 73 at b'/home/ubuntu/cs230/data/fastmri/raw/singlecoil_test/file1000455.h5' to TFRecords...\n",
      "Converting file 74 at b'/home/ubuntu/cs230/data/fastmri/raw/singlecoil_test/file1001926.h5' to TFRecords...\n",
      "Converting file 75 at b'/home/ubuntu/cs230/data/fastmri/raw/singlecoil_test/file1001724.h5' to TFRecords...\n"
     ]
    },
    {
     "name": "stdout",
     "output_type": "stream",
     "text": [
      "Converting file 76 at b'/home/ubuntu/cs230/data/fastmri/raw/singlecoil_test/file1001400.h5' to TFRecords...\n",
      "Converting file 77 at b'/home/ubuntu/cs230/data/fastmri/raw/singlecoil_test/file1000937.h5' to TFRecords...\n",
      "Converting file 78 at b'/home/ubuntu/cs230/data/fastmri/raw/singlecoil_test/file1001135.h5' to TFRecords...\n",
      "Converting file 79 at b'/home/ubuntu/cs230/data/fastmri/raw/singlecoil_test/file1001657.h5' to TFRecords...\n",
      "Converting file 80 at b'/home/ubuntu/cs230/data/fastmri/raw/singlecoil_test/file1002384.h5' to TFRecords...\n",
      "Converting file 81 at b'/home/ubuntu/cs230/data/fastmri/raw/singlecoil_test/file1001483.h5' to TFRecords...\n",
      "Converting file 82 at b'/home/ubuntu/cs230/data/fastmri/raw/singlecoil_test/file1001418.h5' to TFRecords...\n",
      "Converting file 83 at b'/home/ubuntu/cs230/data/fastmri/raw/singlecoil_test/file1001443.h5' to TFRecords...\n",
      "Converting file 84 at b'/home/ubuntu/cs230/data/fastmri/raw/singlecoil_test/file1000950.h5' to TFRecords...\n",
      "Converting file 85 at b'/home/ubuntu/cs230/data/fastmri/raw/singlecoil_test/file1001846.h5' to TFRecords...\n",
      "Converting file 86 at b'/home/ubuntu/cs230/data/fastmri/raw/singlecoil_test/file1002504.h5' to TFRecords...\n",
      "Converting file 87 at b'/home/ubuntu/cs230/data/fastmri/raw/singlecoil_test/file1002250.h5' to TFRecords...\n",
      "Converting file 88 at b'/home/ubuntu/cs230/data/fastmri/raw/singlecoil_test/file1002472.h5' to TFRecords...\n",
      "Converting file 89 at b'/home/ubuntu/cs230/data/fastmri/raw/singlecoil_test/file1000513.h5' to TFRecords...\n",
      "Converting file 90 at b'/home/ubuntu/cs230/data/fastmri/raw/singlecoil_test/file1002336.h5' to TFRecords...\n",
      "Converting file 91 at b'/home/ubuntu/cs230/data/fastmri/raw/singlecoil_test/file1001066.h5' to TFRecords...\n",
      "Converting file 92 at b'/home/ubuntu/cs230/data/fastmri/raw/singlecoil_test/file1002288.h5' to TFRecords...\n",
      "Converting file 93 at b'/home/ubuntu/cs230/data/fastmri/raw/singlecoil_test/file1002508.h5' to TFRecords...\n",
      "Converting file 94 at b'/home/ubuntu/cs230/data/fastmri/raw/singlecoil_test/file1002081.h5' to TFRecords...\n",
      "Converting file 95 at b'/home/ubuntu/cs230/data/fastmri/raw/singlecoil_test/file1001774.h5' to TFRecords...\n",
      "Converting file 96 at b'/home/ubuntu/cs230/data/fastmri/raw/singlecoil_test/file1001072.h5' to TFRecords...\n",
      "Converting file 97 at b'/home/ubuntu/cs230/data/fastmri/raw/singlecoil_test/file1000786.h5' to TFRecords...\n",
      "Converting file 98 at b'/home/ubuntu/cs230/data/fastmri/raw/singlecoil_test/file1001389.h5' to TFRecords...\n",
      "Converting file 99 at b'/home/ubuntu/cs230/data/fastmri/raw/singlecoil_test/file1002120.h5' to TFRecords...\n",
      "Converting file 100 at b'/home/ubuntu/cs230/data/fastmri/raw/singlecoil_test/file1000423.h5' to TFRecords...\n",
      "Converting file 101 at b'/home/ubuntu/cs230/data/fastmri/raw/singlecoil_test/file1000437.h5' to TFRecords...\n",
      "Converting file 102 at b'/home/ubuntu/cs230/data/fastmri/raw/singlecoil_test/file1001740.h5' to TFRecords...\n",
      "Converting file 103 at b'/home/ubuntu/cs230/data/fastmri/raw/singlecoil_test/file1001490.h5' to TFRecords...\n",
      "Converting file 104 at b'/home/ubuntu/cs230/data/fastmri/raw/singlecoil_test/file1000304.h5' to TFRecords...\n",
      "Converting file 105 at b'/home/ubuntu/cs230/data/fastmri/raw/singlecoil_test/file1000699.h5' to TFRecords...\n",
      "Converting file 106 at b'/home/ubuntu/cs230/data/fastmri/raw/singlecoil_test/file1000692.h5' to TFRecords...\n",
      "Converting file 107 at b'/home/ubuntu/cs230/data/fastmri/raw/singlecoil_test/file1001988.h5' to TFRecords...\n"
     ]
    }
   ],
   "source": [
    "utils.fastmri.convert_fastmri_dataset_to_tfrecord_files(raw_data_locations, test_tfrecord_directory, include_reconstruction=False)"
   ]
  },
  {
   "cell_type": "code",
   "execution_count": 9,
   "metadata": {},
   "outputs": [
    {
     "name": "stdout",
     "output_type": "stream",
     "text": [
      "total 6.9G\r\n",
      "-rw-rw-r-- 1 ubuntu 929M Jun  3 10:24 shard-0.tfrecord\r\n",
      "-rw-rw-r-- 1 ubuntu 955M Jun  3 10:24 shard-1.tfrecord\r\n",
      "-rw-rw-r-- 1 ubuntu 908M Jun  3 10:25 shard-2.tfrecord\r\n",
      "-rw-rw-r-- 1 ubuntu 926M Jun  3 10:25 shard-3.tfrecord\r\n",
      "-rw-rw-r-- 1 ubuntu 916M Jun  3 10:25 shard-4.tfrecord\r\n",
      "-rw-rw-r-- 1 ubuntu 912M Jun  3 10:25 shard-5.tfrecord\r\n",
      "-rw-rw-r-- 1 ubuntu 934M Jun  3 10:25 shard-6.tfrecord\r\n",
      "-rw-rw-r-- 1 ubuntu 576M Jun  3 10:26 shard-7.tfrecord\r\n"
     ]
    }
   ],
   "source": [
    "ll -h $test_tfrecord_directory"
   ]
  },
  {
   "cell_type": "code",
   "execution_count": 10,
   "metadata": {},
   "outputs": [],
   "source": [
    "# rm -r $test_tfrecord_directory"
   ]
  },
  {
   "cell_type": "markdown",
   "metadata": {},
   "source": [
    "## Load dataset as TFRecords \n",
    "See dataset exploration notebook for visuals of the data."
   ]
  },
  {
   "cell_type": "code",
   "execution_count": 104,
   "metadata": {
    "scrolled": false
   },
   "outputs": [
    {
     "name": "stdout",
     "output_type": "stream",
     "text": [
      "Loading dataset... Shuffle items? True. Shuffle buffer: 1\n"
     ]
    }
   ],
   "source": [
    "# Use tf.data.Datasets to preprocess and iterate data efficiently\n",
    "\n",
    "# include class_0?\n",
    "test_data_locations = dev_data_locations = train_data_locations = [test_tfrecord_directory]\n",
    "\n",
    "# Create preprocessing functions\n",
    "\n",
    "preprocessing_fn = utils.fastmri.fastMRIPreprocessor(shape=(128, 128),\n",
    "                                                     use_tiled_reflections=False,\n",
    "                                                     subsampling_mask_function=None,\n",
    "                                                     normalize=True,\n",
    "                                                     include_reconstruction=True)\n",
    "\n",
    "batch_size = 2\n",
    "shuffle_buffer_size = 1\n",
    "\n",
    "# Load data\n",
    "\n",
    "test_dataset = utils.fastmri.load_dataset(tfrecord_locations,\n",
    "                                     batch_size=batch_size,\n",
    "                                     shuffle_buffer_size=shuffle_buffer_size,\n",
    "                                     include_reconstruction=True,\n",
    "                                     recreate_reconstruction=True,\n",
    "                                     include_all_parsed_features=False,\n",
    "                                     ignore_errors=False,\n",
    "                                     preprocessing_function=preprocessing_fn)\n",
    "\n",
    "# dev_dataset = utils.fastmri.load_dataset(dev_data_locations,\n",
    "#                                      batch_size=batch_size,\n",
    "#                                      shuffle_buffer_size=shuffle_buffer_size,\n",
    "#                                      include_all_parsed_features=True,\n",
    "#                                      ignore_errors=True,\n",
    "#                                      preprocessing_function=preprocessing_fn)\n",
    "\n",
    "# train_dataset = utils.fastmri.load_dataset(train_data_locations,\n",
    "#                                      batch_size=batch_size,\n",
    "#                                      shuffle_buffer_size=shuffle_buffer_size,\n",
    "#                                      include_all_parsed_features=False,\n",
    "#                                      ignore_errors=True,\n",
    "#                                      preprocessing_function=preprocessing_fn)\n",
    "\n",
    "\n",
    "# Debugging: make these datasets tiny\n",
    "\n",
    "# test_dataset = test_dataset\n",
    "# dev_dataset = dev_dataset.take(3)\n",
    "# train_dataset = train_dataset.take(3)"
   ]
  },
  {
   "cell_type": "code",
   "execution_count": 105,
   "metadata": {
    "scrolled": false
   },
   "outputs": [],
   "source": [
    "# First batch of each dataset to be used in plotting images periodically to tensorboard\n",
    "\n",
    "first_test_batch = next(iter(test_dataset))\n",
    "# first_dev_batch = next(iter(dev_dataset))\n",
    "# first_train_batch = next(iter(train_dataset))"
   ]
  },
  {
   "cell_type": "code",
   "execution_count": 106,
   "metadata": {},
   "outputs": [
    {
     "data": {
      "text/plain": [
       "TensorShape([2, 128, 128, 1])"
      ]
     },
     "execution_count": 106,
     "metadata": {},
     "output_type": "execute_result"
    }
   ],
   "source": [
    "first_test_batch[1].shape"
   ]
  },
  {
   "cell_type": "code",
   "execution_count": 107,
   "metadata": {
    "scrolled": false
   },
   "outputs": [
    {
     "data": {
      "image/png": "[encoded data removed]",
      "text/plain": [
       "<Figure size 432x288 with 1 Axes>"
      ]
     },
     "metadata": {},
     "output_type": "display_data"
    },
    {
     "name": "stdout",
     "output_type": "stream",
     "text": [
      "--------\n"
     ]
    },
    {
     "data": {
      "image/png": "[encoded data removed]",
      "text/plain": [
       "<Figure size 432x288 with 1 Axes>"
      ]
     },
     "metadata": {},
     "output_type": "display_data"
    }
   ],
   "source": [
    "img = first_test_batch[1][0]\n",
    "fftimg = tf.abs(utils.signal_processing.tf_ifft2d(utils.signal_processing.tf_fft2d(img))).numpy().squeeze()\n",
    "utils.plot.imshowgray(fftimg)\n",
    "plt.show()\n",
    "print('--------')\n",
    "utils.plot.imshowgray(img.numpy().squeeze())"
   ]
  },
  {
   "cell_type": "code",
   "execution_count": 108,
   "metadata": {
    "scrolled": false
   },
   "outputs": [
    {
     "data": {
      "image/png": "[encoded data removed]",
      "text/plain": [
       "<Figure size 432x288 with 1 Axes>"
      ]
     },
     "metadata": {},
     "output_type": "display_data"
    }
   ],
   "source": [
    "fft = utils.fastmri.combine_two_channels_of_complex_tensor(first_test_batch[0][0]).numpy()\n",
    "\n",
    "utils.plot.imshowfft(fft)"
   ]
  },
  {
   "cell_type": "code",
   "execution_count": 109,
   "metadata": {},
   "outputs": [],
   "source": [
    "fftimg = tf.abs(utils.signal_processing.tf_ifft2d(fft)).numpy().squeeze()"
   ]
  },
  {
   "cell_type": "code",
   "execution_count": 110,
   "metadata": {
    "scrolled": true
   },
   "outputs": [
    {
     "data": {
      "text/plain": [
       "False"
      ]
     },
     "execution_count": 110,
     "metadata": {},
     "output_type": "execute_result"
    }
   ],
   "source": [
    "np.allclose(first_test_batch[1][0], fftimg, atol=1e-3)"
   ]
  },
  {
   "cell_type": "code",
   "execution_count": 111,
   "metadata": {},
   "outputs": [
    {
     "data": {
      "text/plain": [
       "0.039028157"
      ]
     },
     "execution_count": 111,
     "metadata": {},
     "output_type": "execute_result"
    }
   ],
   "source": [
    "utils.signal_processing.mean_square_error(\n",
    "    tf.abs(utils.signal_processing.tf_ifft2d(\n",
    "        utils.fastmri.combine_two_channels_of_complex_tensor(\n",
    "            first_test_batch[0][0]))).numpy().squeeze(),\n",
    "    img.numpy())"
   ]
  },
  {
   "cell_type": "code",
   "execution_count": 112,
   "metadata": {},
   "outputs": [
    {
     "data": {
      "text/plain": [
       "TensorShape([2, 128, 128, 2])"
      ]
     },
     "execution_count": 112,
     "metadata": {},
     "output_type": "execute_result"
    }
   ],
   "source": [
    "first_test_batch[0].shape"
   ]
  },
  {
   "cell_type": "markdown",
   "metadata": {},
   "source": [
    "# Model"
   ]
  },
  {
   "cell_type": "code",
   "execution_count": 20,
   "metadata": {},
   "outputs": [],
   "source": [
    "# A metric to use during training\n",
    "def mean_PSNR(y_true, y_pred):\n",
    "    max_value = 1.0\n",
    "    MSE = tf.reduce_mean(tf.square(y_true - y_pred), axis=[1, 2, 3])\n",
    "    PSNR = 10 * tf.math.log(tf.divide(max_value ** 2, MSE)) / tf.math.log(tf.constant(10, dtype=y_pred.dtype))\n",
    "    mean = tf.reduce_mean(PSNR)\n",
    "    return mean"
   ]
  },
  {
   "cell_type": "code",
   "execution_count": 21,
   "metadata": {},
   "outputs": [],
   "source": [
    "def load_uncompiled_automap_model():\n",
    "\n",
    "    N = 128\n",
    "    X = tf.keras.layers.Input(shape=(N, N, 2))\n",
    "\n",
    "    # Paper says 1% multiplicative gaussian noise (this multiplies by 1-centered gaussian\n",
    "    # having stddev = sqrt(rate / (1 - rate)) (here, 0.00032...)\n",
    "    # noisy_X = tf.keras.layers.GaussianDropout(rate=1e-7)(X) # spatial dimension: 256\n",
    "    # Note: (we could corrupt when training with cifar, but maybe not other dataset?)\n",
    "\n",
    "    ds_flat = tf.keras.layers.Flatten()(X)\n",
    "\n",
    "    fc1 = tf.keras.layers.Dense(64 ** 2, activation='tanh')(ds_flat) # closer to original paper is: 128 ** 2\n",
    "    fc1 = tf.keras.layers.Dropout(0.05)(fc1)\n",
    "    fc2 = tf.keras.layers.Dense(128 ** 2, activation='tanh')(fc1)\n",
    "\n",
    "    fc_output = tf.keras.layers.Reshape([128, 128, 1])(fc2)\n",
    "\n",
    "    conv1 = tf.keras.layers.Conv2D(64, (5, 5), strides=(1, 1), activation='relu', padding='same')(fc_output)\n",
    "    \n",
    "    # L1 regularization to encourage sparsity\n",
    "    conv2 = tf.keras.layers.Conv2D(64, (5, 5), strides=(1, 1), activation='relu', padding='same',\n",
    "                                   activity_regularizer=tf.keras.regularizers.l1(1e-4))(conv1)\n",
    "\n",
    "    Y_pred = tf.keras.layers.Conv2DTranspose(1, (7, 7), strides=1, activation='relu', padding='same')(conv2) # upsample to spatial dimension 256\n",
    "\n",
    "    model = tf.keras.Model(inputs=X, outputs=Y_pred)\n",
    "\n",
    "    return model"
   ]
  },
  {
   "cell_type": "code",
   "execution_count": 22,
   "metadata": {},
   "outputs": [],
   "source": [
    "def load_compiled_automap_model():\n",
    "    multi_gpu = False\n",
    "    # Distribute training across GPUs (each GPU receives identical updates to weights but different batches w/\n",
    "    # mirrored strategy). Restricts callbacks we can use\n",
    "    if multi_gpu:\n",
    "        mirrored_strategy = tf.distribute.MirroredStrategy()\n",
    "        with mirrored_strategy.scope():\n",
    "            model = load_uncompiled_automap_model()\n",
    "            model.compile(loss='mse', optimizer=tf.keras.optimizers.Adam(), metrics=[mean_PSNR])\n",
    "    else:\n",
    "        model = load_uncompiled_automap_model()\n",
    "        model.compile(loss='mse', optimizer=tf.keras.optimizers.Adam(), metrics=[mean_PSNR])\n",
    "    return model"
   ]
  },
  {
   "cell_type": "code",
   "execution_count": 23,
   "metadata": {},
   "outputs": [],
   "source": [
    "model = load_compiled_automap_model()"
   ]
  },
  {
   "cell_type": "code",
   "execution_count": 24,
   "metadata": {},
   "outputs": [
    {
     "name": "stdout",
     "output_type": "stream",
     "text": [
      "Model: \"model\"\n",
      "_________________________________________________________________\n",
      "Layer (type)                 Output Shape              Param #   \n",
      "=================================================================\n",
      "input_1 (InputLayer)         [(None, 128, 128, 2)]     0         \n",
      "_________________________________________________________________\n",
      "flatten (Flatten)            (None, 32768)             0         \n",
      "_________________________________________________________________\n",
      "dense (Dense)                (None, 4096)              134221824 \n",
      "_________________________________________________________________\n",
      "dropout (Dropout)            (None, 4096)              0         \n",
      "_________________________________________________________________\n",
      "dense_1 (Dense)              (None, 16384)             67125248  \n",
      "_________________________________________________________________\n",
      "reshape (Reshape)            (None, 128, 128, 1)       0         \n",
      "_________________________________________________________________\n",
      "conv2d (Conv2D)              (None, 128, 128, 64)      1664      \n",
      "_________________________________________________________________\n",
      "conv2d_1 (Conv2D)            (None, 128, 128, 64)      102464    \n",
      "_________________________________________________________________\n",
      "conv2d_transpose (Conv2DTran (None, 128, 128, 1)       3137      \n",
      "=================================================================\n",
      "Total params: 201,454,337\n",
      "Trainable params: 201,454,337\n",
      "Non-trainable params: 0\n",
      "_________________________________________________________________\n"
     ]
    }
   ],
   "source": [
    "model.summary()"
   ]
  },
  {
   "cell_type": "markdown",
   "metadata": {},
   "source": [
    "# Training"
   ]
  },
  {
   "cell_type": "code",
   "execution_count": 25,
   "metadata": {},
   "outputs": [],
   "source": [
    "# Custom learning rate schedule\n",
    "\n",
    "\n",
    "def lr_schedule(epoch):\n",
    "    \"\"\"\n",
    "    Returns a custom learning rate that decreases as epochs progress.\n",
    "    \"\"\"\n",
    "    if 0 <= epoch < 100:\n",
    "        learning_rate = 1e-4\n",
    "    elif 100 <= epoch < 200:\n",
    "        learning_rate = 5e-5\n",
    "    elif 200 <= epoch < 400:\n",
    "        learning_rate = 2.55e-5\n",
    "    elif 400 <= epoch < 600:\n",
    "        learning_rate = 1e-5\n",
    "    elif 600 <= epoch < 700:\n",
    "        learning_rate = 2.5e-5\n",
    "    elif 700 <= epoch < 800:\n",
    "        learning_rate = 1e-5\n",
    "    elif 800 <= epoch < 900:\n",
    "        learning_rate = 1e-6\n",
    "    else:\n",
    "        learning_rate = 1e-7\n",
    "\n",
    "    with file_writer.as_default():\n",
    "        tf.summary.scalar('learning rate', data=learning_rate, step=epoch)\n",
    "        \n",
    "    return learning_rate\n",
    "\n",
    "# Show reconstructions during training\n",
    "\n",
    "def plot_fft_reconstructions(batch, logs):\n",
    "    plot_frequency = 2\n",
    "    \n",
    "    if batch % plot_frequency != 0:\n",
    "        return\n",
    "    \n",
    "    batches = [(first_test_batch, 'Test')]#, (first_dev_batch, 'Dev'), (first_train_batch, 'Train')]\n",
    "    \n",
    "    for dataset_batch, name in batches:\n",
    "        x, y = dataset_batch\n",
    "        y = y.numpy()\n",
    "        y_pred = model.predict(x)\n",
    "\n",
    "        with file_writer.as_default():\n",
    "            for i in range(min(len(y), 8)):\n",
    "                prediction, ground_truth = y_pred[i:i + 1, ...], y[i:i + 1, ...]\n",
    "                tf.summary.image(\"{} Image {} (Prediction)\".format(name, i), prediction, max_outputs=1, step=batch)\n",
    "                tf.summary.image(\"{} Image {} (Ground Truth)\".format(name, i), ground_truth, max_outputs=1, step=batch)"
   ]
  },
  {
   "cell_type": "code",
   "execution_count": 26,
   "metadata": {},
   "outputs": [],
   "source": [
    "# Clear logs if necessary\n",
    "# !rm -r logs/"
   ]
  },
  {
   "cell_type": "code",
   "execution_count": 27,
   "metadata": {},
   "outputs": [],
   "source": [
    "# Define where logs will be saved\n",
    "\n",
    "logdir = os.path.join('logs', datetime.now().strftime(\"%Y-%m-%d_%H:%M:%S\"))\n",
    "file_writer = tf.summary.create_file_writer(os.path.join(logdir, 'metrics'))"
   ]
  },
  {
   "cell_type": "markdown",
   "metadata": {},
   "source": [
    "### Callbacks to use in various stages of training"
   ]
  },
  {
   "cell_type": "code",
   "execution_count": 28,
   "metadata": {},
   "outputs": [],
   "source": [
    "# Callback for printing the LR at the end of each epoch.\n",
    "\n",
    "class PrintAndLogLR(tf.keras.callbacks.Callback):\n",
    "    def on_epoch_end(self, epoch, logs=None):\n",
    "        with file_writer.as_default():\n",
    "            tf.summary.scalar('learning rate (end of epoch)', data=model.optimizer.lr.numpy(), step=epoch)\n",
    "        print('\\nLearning rate for epoch {} is {}'.format(epoch + 1,\n",
    "                                                          model.optimizer.lr.numpy()))\n",
    "\n",
    "plot_images_callback = tf.keras.callbacks.LambdaCallback(on_batch_end=plot_fft_reconstructions)\n",
    "\n",
    "lr_callback = tf.keras.callbacks.LearningRateScheduler(lr_schedule)\n",
    "\n",
    "tensorboard_callback = tf.keras.callbacks.TensorBoard(log_dir=logdir, histogram_freq=1, update_freq=1,\n",
    "                                                      profile_batch=0) # workaround for: https://github.com/tensorflow/tensorboard/issues/2084\n",
    "\n",
    "reduce_lr_callback = tf.keras.callbacks.ReduceLROnPlateau(monitor='val_loss', factor=0.25,\n",
    "                              patience=2, min_lr=1e-8)\n",
    "\n",
    "callbacks = [tensorboard_callback, lr_callback, plot_images_callback, reduce_lr_callback, PrintAndLogLR()]"
   ]
  },
  {
   "cell_type": "markdown",
   "metadata": {},
   "source": [
    "### Begin training and open Tensorboard to monitor"
   ]
  },
  {
   "cell_type": "code",
   "execution_count": 29,
   "metadata": {
    "scrolled": false
   },
   "outputs": [
    {
     "ename": "NameError",
     "evalue": "name 'train_dataset' is not defined",
     "output_type": "error",
     "traceback": [
      "\u001b[0;31m---------------------------------------------------------------------------\u001b[0m",
      "\u001b[0;31mNameError\u001b[0m                                 Traceback (most recent call last)",
      "\u001b[0;32m<ipython-input-29-c1a9c772933f>\u001b[0m in \u001b[0;36m<module>\u001b[0;34m()\u001b[0m\n\u001b[1;32m      1\u001b[0m training_history = model.fit(\n\u001b[0;32m----> 2\u001b[0;31m     \u001b[0mtrain_dataset\u001b[0m\u001b[0;34m,\u001b[0m\u001b[0;34m\u001b[0m\u001b[0m\n\u001b[0m\u001b[1;32m      3\u001b[0m     \u001b[0mvalidation_data\u001b[0m\u001b[0;34m=\u001b[0m\u001b[0mtest_dataset\u001b[0m\u001b[0;34m,\u001b[0m\u001b[0;34m\u001b[0m\u001b[0m\n\u001b[1;32m      4\u001b[0m     \u001b[0mverbose\u001b[0m\u001b[0;34m=\u001b[0m\u001b[0;36m1\u001b[0m\u001b[0;34m,\u001b[0m \u001b[0;31m# set to 0 to suppress chatty output and use Tensorboard instead\u001b[0m\u001b[0;34m\u001b[0m\u001b[0m\n\u001b[1;32m      5\u001b[0m     \u001b[0mepochs\u001b[0m\u001b[0;34m=\u001b[0m\u001b[0;36m2\u001b[0m\u001b[0;34m,\u001b[0m\u001b[0;34m\u001b[0m\u001b[0m\n",
      "\u001b[0;31mNameError\u001b[0m: name 'train_dataset' is not defined"
     ]
    }
   ],
   "source": [
    "training_history = model.fit(\n",
    "    train_dataset,\n",
    "    validation_data=test_dataset,\n",
    "    verbose=1, # set to 0 to suppress chatty output and use Tensorboard instead\n",
    "    epochs=2,\n",
    "    callbacks=callbacks,\n",
    "    use_multiprocessing=True) # see if speeds things up"
   ]
  },
  {
   "cell_type": "markdown",
   "metadata": {},
   "source": [
    "### Save model (to do: make callback)"
   ]
  },
  {
   "cell_type": "code",
   "execution_count": null,
   "metadata": {},
   "outputs": [],
   "source": [
    "# # # Uncomment to save model\n",
    "# saved_model_path = 'automap_our_dataset_original_paper_model_with_up_down_sampling_single_GPU_small_FC_v6'\n",
    "# model.save(saved_model_path)"
   ]
  },
  {
   "cell_type": "markdown",
   "metadata": {},
   "source": [
    "## Evaluate model"
   ]
  },
  {
   "cell_type": "code",
   "execution_count": null,
   "metadata": {},
   "outputs": [],
   "source": [
    "model.evaluate(test_dataset, verbose=1)\n",
    "# model.evaluate(dev_dataset, verbose=1)\n",
    "# model.evaluate(train_dataset, verbose=1)"
   ]
  },
  {
   "cell_type": "markdown",
   "metadata": {},
   "source": [
    "### Plot training history (but better viewed in Tensorboard)"
   ]
  },
  {
   "cell_type": "code",
   "execution_count": null,
   "metadata": {},
   "outputs": [],
   "source": [
    "plt.figure()\n",
    "plt.plot(training_history.history[\"loss\"], label=\"Train\")\n",
    "plt.plot(training_history.history[\"val_loss\"], label=\"Test\")\n",
    "plt.xlabel(\"Epoch\")\n",
    "plt.ylabel(\"Loss\")\n",
    "plt.legend(loc=\"center right\")"
   ]
  },
  {
   "cell_type": "code",
   "execution_count": null,
   "metadata": {},
   "outputs": [],
   "source": [
    "plt.figure()\n",
    "plt.plot(training_history.history[\"mean_PSNR\"], label=\"Train\")\n",
    "plt.plot(training_history.history[\"val_mean_PSNR\"], label=\"Test\")\n",
    "plt.xlabel(\"Epoch\")\n",
    "plt.ylabel(\"µ ( PSNR ) \")\n",
    "plt.legend(loc=\"center right\")"
   ]
  },
  {
   "cell_type": "code",
   "execution_count": null,
   "metadata": {},
   "outputs": [],
   "source": [
    "# Predict on a test batch\n",
    "\n",
    "# batch = next(iter(test_dataset))\n",
    "\n",
    "x, y = first_test_batch\n",
    "x, y = x.numpy(), y.numpy()\n",
    "y_pred = model.predict(x)\n",
    "\n",
    "# Inspect output\n",
    "\n",
    "for i in range(len(x)):\n",
    "\n",
    "    fft_mag = x[i, ..., 0]\n",
    "    fft_ang = x[i, ..., 1]\n",
    "    reconstruction = y_pred[i, ..., 0]\n",
    "    image = y[i, ..., 0]\n",
    "\n",
    "    MSE = utils.signal_processing.mean_square_error(reconstruction, image)\n",
    "    PSNR = utils.signal_processing.PSNR(reconstruction, image, max_value=max(image.max(), reconstruction.max()))\n",
    "\n",
    "    plt.subplot(2, 2, 1)\n",
    "    plt.title('Reconstruction (MSE: {:0.5f}, PSNR: {:0.5f})'.format(MSE, PSNR))\n",
    "    utils.plot.imshowgray(reconstruction)\n",
    "\n",
    "    plt.subplot(2, 2, 2)\n",
    "    plt.title('FFT (Magnitude)')\n",
    "    utils.plot.imshowfft(fft_mag)\n",
    "\n",
    "    plt.subplot(2, 2, 3)\n",
    "    plt.title('Expected reconstruction')\n",
    "    utils.plot.imshowgray(image)\n",
    "\n",
    "    plt.subplot(2, 2, 4)\n",
    "    plt.title('FFT (Phase)')\n",
    "    utils.plot.imshowgray(fft_ang)\n",
    "\n",
    "    plt.show()\n",
    "    break\n"
   ]
  },
  {
   "cell_type": "code",
   "execution_count": null,
   "metadata": {},
   "outputs": [],
   "source": [
    "plt.imshow(y_pred[0].squeeze(), cmap='gray')"
   ]
  },
  {
   "cell_type": "code",
   "execution_count": null,
   "metadata": {},
   "outputs": [],
   "source": [
    "plt.imshow(y[0].squeeze())"
   ]
  },
  {
   "cell_type": "code",
   "execution_count": null,
   "metadata": {},
   "outputs": [],
   "source": []
  },
  {
   "cell_type": "code",
   "execution_count": null,
   "metadata": {},
   "outputs": [],
   "source": []
  },
  {
   "cell_type": "code",
   "execution_count": null,
   "metadata": {},
   "outputs": [],
   "source": []
  }
 ],
 "metadata": {
  "kernelspec": {
   "display_name": "Environment (conda_tensorflow_p36)",
   "language": "python",
   "name": "conda_tensorflow_p36"
  },
  "language_info": {
   "codemirror_mode": {
    "name": "ipython",
    "version": 3
   },
   "file_extension": ".py",
   "mimetype": "text/x-python",
   "name": "python",
   "nbconvert_exporter": "python",
   "pygments_lexer": "ipython3",
   "version": "3.6.5"
  }
 },
 "nbformat": 4,
 "nbformat_minor": 2
}
