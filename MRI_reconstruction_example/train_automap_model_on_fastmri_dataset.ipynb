{
 "cells": [
  {
   "cell_type": "code",
   "execution_count": 1,
   "metadata": {},
   "outputs": [],
   "source": [
    "# To use TF 2.0 (on EC2 instance running Deep Learning AMI):\n",
    "# source activate tensorflow_p36\n",
    "# pip uninstall tensorflow-gpu\n",
    "# pip install tensorflow-gpu==2.0.0-alpha0\n",
    "\n",
    "# But then later decided wanted even newer GPU stuff and \"in that conda env, ran:\n",
    "# pip uninstall tensorflow-gpu\n",
    "# pip install --upgrade pip\n",
    "# pip install wrapt --ignore-installed # ran this because had an error\n",
    "# pip install  tf-nightly-gpu-2.0-preview\n",
    "\n",
    "# Result: Successfully installed tf-nightly-gpu-2.0-preview-2.0.0.dev20190606"
   ]
  },
  {
   "cell_type": "code",
   "execution_count": 2,
   "metadata": {},
   "outputs": [],
   "source": [
    "import os\n",
    "import pytz\n",
    "import datetime as dt\n",
    "import numpy as np\n",
    "import tensorflow as tf"
   ]
  },
  {
   "cell_type": "code",
   "execution_count": 3,
   "metadata": {},
   "outputs": [],
   "source": [
    "import matplotlib.pyplot as plt\n",
    "%matplotlib inline\n",
    "\n",
    "plt.style.use('seaborn') # pretty matplotlib plots\n",
    "plt.rcParams[\"axes.grid\"] = False # don't show grid lines on plots by default\n",
    "plt.rcParams['figure.figsize'] = (12, 16) # increase size of subplots"
   ]
  },
  {
   "cell_type": "code",
   "execution_count": 4,
   "metadata": {},
   "outputs": [
    {
     "name": "stdout",
     "output_type": "stream",
     "text": [
      "TensorFlow version:  2.0.0-dev20190608\n"
     ]
    }
   ],
   "source": [
    "from packaging import version\n",
    "\n",
    "print(\"TensorFlow version: \", tf.__version__) # make sure >= 2.0.0-dev20190606 (07 broken!)\n",
    "assert version.parse(tf.__version__).release[0] >= 2, \"This notebook requires TensorFlow 2.0 or above.\"\n"
   ]
  },
  {
   "cell_type": "code",
   "execution_count": 5,
   "metadata": {},
   "outputs": [],
   "source": [
    "import cs230_project_utilities as utils"
   ]
  },
  {
   "cell_type": "code",
   "execution_count": 6,
   "metadata": {},
   "outputs": [],
   "source": [
    "# GPU usage logging (TF 2.0+)\n",
    "\n",
    "tf.config.set_soft_device_placement(True)\n",
    "tf.debugging.set_log_device_placement(False)"
   ]
  },
  {
   "cell_type": "code",
   "execution_count": 7,
   "metadata": {},
   "outputs": [],
   "source": [
    "def localized_timestamp():\n",
    "    return dt.datetime.now(tz=pytz.timezone('America/Los_Angeles')).strftime(\"%Y-%m-%d_%H:%M:%S\")"
   ]
  },
  {
   "cell_type": "code",
   "execution_count": 8,
   "metadata": {},
   "outputs": [],
   "source": [
    "# Predict on a test batch\n",
    "\n",
    "def predict_and_visualize(model, x, y):\n",
    "\n",
    "    # Run model\n",
    "    y_pred = model.predict(x)\n",
    "\n",
    "    # Inspect output\n",
    "    for i in range(len(x)):\n",
    "\n",
    "        fft = utils.fastmri._combine_two_channels_of_complex_tensor(x[i]).numpy()\n",
    "        fft_mag = np.abs(fft)\n",
    "        fft_ang = np.angle(fft)\n",
    "        reconstruction = y_pred[i, ..., 0]\n",
    "        image = y[i, ..., 0]\n",
    "\n",
    "        MSE = utils.signal_processing.mean_square_error(reconstruction, image)\n",
    "        PSNR = utils.signal_processing.PSNR(reconstruction, image, max_value=max(image.max(), reconstruction.max()))\n",
    "\n",
    "        plt.subplot(2, 2, 1)\n",
    "        plt.title('Reconstruction (MSE: {:0.5f}, PSNR: {:0.5f})'.format(MSE, PSNR))\n",
    "        utils.plot.imshowgray(reconstruction)\n",
    "\n",
    "        plt.subplot(2, 2, 2)\n",
    "        plt.title('FFT (Magnitude)')\n",
    "        utils.plot.imshowfft(fft_mag)\n",
    "\n",
    "        plt.subplot(2, 2, 3)\n",
    "        plt.title('Expected reconstruction')\n",
    "        utils.plot.imshowgray(image)\n",
    "\n",
    "        plt.subplot(2, 2, 4)\n",
    "        plt.title('FFT (Phase)')\n",
    "        utils.plot.imshowgray(fft_ang)\n",
    "\n",
    "        plt.show()\n",
    "        break\n",
    "        \n",
    "    print('For validation: x.sum()={}, y.sum()={}, y_pred.sum()={}'.format(x.sum(), y.sum(), y_pred.sum()))\n",
    "    print('Model iterations: {}'.format(model.optimizer.iterations.numpy()))\n",
    "        \n",
    "    # Return model output\n",
    "    return y_pred\n",
    "\n",
    "# Load a saved model\n",
    "\n",
    "def restore_model(restore_path, weights_only, model=None, custom_objects=None):\n",
    "    '''\n",
    "    Restoring saved models\n",
    "    \n",
    "    - To restore a `tf.keras.Model` saved with `model.save_weights(...)`:\n",
    "        Set `weights_only` to `True`. Restore weights at `restore_path` into `model`.\n",
    "    - To restore a `tf.keras.Model` saved with `model.save(...)`:\n",
    "        Set `weights_only` to `False`. Load and return and entire model at `restore_path`,\n",
    "        optionally passing in the dictionary `custom_objects`.\n",
    "    '''\n",
    "    if weights_only:\n",
    "        assert model is not None, 'Must pass a model if only restoring weights.'\n",
    "        model.load_weights(restore_path)\n",
    "    else:\n",
    "        assert model is None, 'Do not pass a model if only restoring weights. A model will be returned.'\n",
    "        model = tf.keras.models.load_model(restore_path, custom_objects=custom_objects)\n",
    "\n",
    "    return model\n",
    "\n"
   ]
  },
  {
   "cell_type": "markdown",
   "metadata": {},
   "source": [
    "# Load dataset as TFRecords "
   ]
  },
  {
   "cell_type": "code",
   "execution_count": 9,
   "metadata": {},
   "outputs": [],
   "source": [
    "# Sync from remote storage in s3\n",
    "# aws s3 sync s3://cs230-automap/data/fastmri/tfrecords cs230/data/fastmri/tfrecords"
   ]
  },
  {
   "cell_type": "code",
   "execution_count": 10,
   "metadata": {},
   "outputs": [],
   "source": [
    "dev_locations = '/home/ubuntu/cs230/data/fastmri/tfrecords/singlecoil_dev/*.tfrecord'\n",
    "test_locations = '/home/ubuntu/cs230/data/fastmri/tfrecords/singlecoil_test/*.tfrecord'\n",
    "train_locations = '/home/ubuntu/cs230/data/fastmri/tfrecords/singlecoil_train/*.tfrecord'"
   ]
  },
  {
   "cell_type": "code",
   "execution_count": 11,
   "metadata": {
    "scrolled": false
   },
   "outputs": [
    {
     "name": "stdout",
     "output_type": "stream",
     "text": [
      "Loading dataset... Shuffle items? True. Shuffle buffer: 384\n",
      "Loading dataset... Shuffle items? True. Shuffle buffer: 384\n",
      "Loading dataset... Shuffle items? True. Shuffle buffer: 1024\n"
     ]
    }
   ],
   "source": [
    "# Use tf.data.Datasets to preprocess and iterate data efficiently\n",
    "\n",
    "batch_size = 32\n",
    "\n",
    "dev_dataset = utils.fastmri.load_dataset(dev_locations,\n",
    "                                         batch_size=8,\n",
    "                                         shuffle_buffer_size=384,\n",
    "                                         load_original_reconstruction=False,\n",
    "                                         include_all_parsed_features=False,\n",
    "                                         ignore_errors=True,\n",
    "                                         data_augmentation='symmetric')\n",
    "\n",
    "test_dataset = utils.fastmri.load_dataset(test_locations,\n",
    "                                          batch_size=8,\n",
    "                                          shuffle_buffer_size=384,\n",
    "                                          load_original_reconstruction=False,\n",
    "                                          include_all_parsed_features=False,\n",
    "                                          ignore_errors=True,\n",
    "                                          data_augmentation=None)\n",
    "\n",
    "train_dataset = utils.fastmri.load_dataset(train_locations,\n",
    "                                           batch_size=batch_size,\n",
    "                                           shuffle_buffer_size=1024,\n",
    "                                           load_original_reconstruction=False,\n",
    "                                           include_all_parsed_features=False,\n",
    "                                           ignore_errors=True,\n",
    "                                           data_augmentation='symmetric')"
   ]
  },
  {
   "cell_type": "markdown",
   "metadata": {},
   "source": [
    "# Validate dataset\n",
    "Make sure target reconstruction is the same as reconstruction computed from input."
   ]
  },
  {
   "cell_type": "code",
   "execution_count": 12,
   "metadata": {
    "scrolled": false
   },
   "outputs": [],
   "source": [
    "# First batch of each dataset to be used in plotting images periodically to tensorboard\n",
    "\n",
    "first_test_batch = next(iter(test_dataset))\n",
    "first_dev_batch = next(iter(dev_dataset))\n",
    "first_train_batch = next(iter(train_dataset))"
   ]
  },
  {
   "cell_type": "code",
   "execution_count": 13,
   "metadata": {},
   "outputs": [],
   "source": [
    "def first_batches():\n",
    "    batches = [(first_test_batch, 'Test'), (first_dev_batch, 'Dev'), (first_train_batch, 'Train')]\n",
    "    return batches"
   ]
  },
  {
   "cell_type": "code",
   "execution_count": 14,
   "metadata": {
    "scrolled": true
   },
   "outputs": [
    {
     "data": {
      "text/plain": [
       "TensorShape([8, 128, 128, 2])"
      ]
     },
     "execution_count": 14,
     "metadata": {},
     "output_type": "execute_result"
    }
   ],
   "source": [
    "first_test_batch[0].shape"
   ]
  },
  {
   "cell_type": "code",
   "execution_count": 15,
   "metadata": {
    "scrolled": false
   },
   "outputs": [
    {
     "data": {
      "text/plain": [
       "(True, 6.5216912e-15)"
      ]
     },
     "execution_count": 15,
     "metadata": {},
     "output_type": "execute_result"
    }
   ],
   "source": [
    "fft, target_image = first_test_batch[0][-1].numpy().squeeze(), first_test_batch[1][-1].numpy().squeeze()\n",
    "fft = utils.fastmri._combine_two_channels_of_complex_tensor(fft).numpy()\n",
    "\n",
    "# Compute image from input `fft`\n",
    "image_from_fft = tf.abs(utils.signal_processing.tf_ifft2d(fft)).numpy().squeeze()\n",
    "\n",
    "# Compare target image to reconstruction from input `fft`\n",
    "np.allclose(image_from_fft, target_image, atol=1e-6), utils.signal_processing.mean_square_error(image_from_fft, target_image)"
   ]
  },
  {
   "cell_type": "code",
   "execution_count": 16,
   "metadata": {},
   "outputs": [
    {
     "data": {
      "text/plain": [
       "(0.0024772414, 0.9999999, 0.0024772119, 0.99999994)"
      ]
     },
     "execution_count": 16,
     "metadata": {},
     "output_type": "execute_result"
    }
   ],
   "source": [
    "# Should be in [0, 1]\n",
    "image_from_fft.min(), image_from_fft.max(), target_image.min(), target_image.max()"
   ]
  },
  {
   "cell_type": "code",
   "execution_count": 17,
   "metadata": {
    "scrolled": false
   },
   "outputs": [
    {
     "data": {
      "image/png": "[encoded data removed]",
      "text/plain": [
       "<Figure size 432x288 with 1 Axes>"
      ]
     },
     "metadata": {},
     "output_type": "display_data"
    }
   ],
   "source": [
    "utils.plot.imshowfft(fft)"
   ]
  },
  {
   "cell_type": "code",
   "execution_count": 18,
   "metadata": {},
   "outputs": [
    {
     "data": {
      "image/png": "[encoded data removed]",
      "text/plain": [
       "<Figure size 432x288 with 1 Axes>"
      ]
     },
     "metadata": {},
     "output_type": "display_data"
    }
   ],
   "source": [
    "utils.plot.imshowgray(target_image)"
   ]
  },
  {
   "cell_type": "code",
   "execution_count": 19,
   "metadata": {},
   "outputs": [
    {
     "data": {
      "image/png": "[encoded data removed]",
      "text/plain": [
       "<Figure size 432x288 with 1 Axes>"
      ]
     },
     "metadata": {},
     "output_type": "display_data"
    }
   ],
   "source": [
    "utils.plot.imshowgray(image_from_fft)"
   ]
  },
  {
   "cell_type": "code",
   "execution_count": 20,
   "metadata": {},
   "outputs": [
    {
     "name": "stderr",
     "output_type": "stream",
     "text": [
      "/home/ubuntu/cs230/code/MRI_reconstruction_example/cs230_project_utilities/plot.py:13: RuntimeWarning: divide by zero encountered in log10\n",
      "  imshowgray(20 * np.log10(np.abs(fft)))\n"
     ]
    },
    {
     "data": {
      "image/png": "[encoded data removed]",
      "text/plain": [
       "<Figure size 432x288 with 1 Axes>"
      ]
     },
     "metadata": {},
     "output_type": "display_data"
    }
   ],
   "source": [
    "utils.plot.imshowfft(np.square(target_image - image_from_fft))"
   ]
  },
  {
   "cell_type": "markdown",
   "metadata": {},
   "source": [
    "# Model"
   ]
  },
  {
   "cell_type": "code",
   "execution_count": 21,
   "metadata": {},
   "outputs": [],
   "source": [
    "# A metric to use during training\n",
    "def mean_PSNR(y_true, y_pred):\n",
    "    max_value = 1.0\n",
    "    MSE = tf.reduce_mean(tf.square(y_true - y_pred), axis=[1, 2, 3])\n",
    "    PSNR = 10 * tf.math.log(tf.divide(max_value ** 2, MSE)) / tf.math.log(tf.constant(10, dtype=y_pred.dtype))\n",
    "    mean = tf.reduce_mean(PSNR)\n",
    "    return mean"
   ]
  },
  {
   "cell_type": "code",
   "execution_count": 22,
   "metadata": {},
   "outputs": [],
   "source": [
    "# Model most similar to OG AUTOMAP\n",
    "def load_uncompiled_automap_model():\n",
    "\n",
    "    N = 128\n",
    "    X = tf.keras.layers.Input(shape=(N, N, 2))\n",
    "\n",
    "    # Paper says 1% multiplicative gaussian noise (this multiplies by 1-centered gaussian\n",
    "    # having stddev = sqrt(rate / (1 - rate)) (here, 0.00032...)\n",
    "    noisy_X = tf.keras.layers.GaussianDropout(rate=1e-7)(X) # spatial dimension: 256\n",
    "    # Note: (we could corrupt when training with cifar, but maybe not other dataset?)\n",
    "\n",
    "    ds_flat = tf.keras.layers.Flatten()(noisy_X)\n",
    "\n",
    "    fc1 = tf.keras.layers.Dense(64 ** 2, activation='tanh')(ds_flat) # closer to original paper is: 128 ** 2\n",
    "    fc2 = tf.keras.layers.Dense(128 ** 2, activation='tanh')(fc1)\n",
    "\n",
    "    fc_output = tf.keras.layers.Reshape([128, 128, 1])(fc2)\n",
    "\n",
    "    conv1 = tf.keras.layers.Conv2D(64, (5, 5), strides=(1, 1), activation='relu', padding='same')(fc_output)\n",
    "    \n",
    "    # L1 regularization to encourage sparsity\n",
    "    conv2 = tf.keras.layers.Conv2D(64, (5, 5), strides=(1, 1), activation='relu', padding='same',\n",
    "                                   activity_regularizer=tf.keras.regularizers.l1(1e-6))(conv1) # paper: 1e-4\n",
    "\n",
    "    Y_pred = tf.keras.layers.Conv2DTranspose(1, (7, 7), strides=1, activation='relu', padding='same')(conv2) # upsample to spatial dimension 128\n",
    "\n",
    "    model = tf.keras.Model(inputs=X, outputs=Y_pred)\n",
    "\n",
    "    return model"
   ]
  },
  {
   "cell_type": "code",
   "execution_count": 23,
   "metadata": {},
   "outputs": [],
   "source": [
    "def lr_schedule(epoch):\n",
    "    initial_lr = 2e-4\n",
    "    if epoch < 50:\n",
    "        return 2e-4\n",
    "    elif epoch >= 50 and epoch < 150:\n",
    "        return 1e-4\n",
    "    elif epoch >= 150 and epoch < 175:\n",
    "        return 1e-5\n",
    "    elif epoch >= 175 and epoch < 190:\n",
    "        return 5e-5\n",
    "    elif epoch >= 190 and epoch < 200:\n",
    "        return 1e-5\n",
    "    elif epoch >= 200 and epoch < 220:\n",
    "        return 1e-6\n",
    "    elif epoch >= 220 and epoch < 250:\n",
    "        return 5e-6\n",
    "    elif epoch >= 250 and epoch < 270:\n",
    "        return 1e-6\n",
    "    else:\n",
    "        return 1e-7"
   ]
  },
  {
   "cell_type": "code",
   "execution_count": 24,
   "metadata": {},
   "outputs": [],
   "source": [
    "def load_compiled_automap_model():\n",
    "    multi_gpu = False\n",
    "    if multi_gpu:\n",
    "        # Distribute training across GPUs (each GPU receives identical updates to weights but different batches w/\n",
    "        # mirrored strategy). Restricts callbacks we can use\n",
    "        mirrored_strategy = tf.distribute.MirroredStrategy()\n",
    "        with mirrored_strategy.scope():\n",
    "            model = load_uncompiled_automap_model()\n",
    "            optimizer = tf.keras.optimizers.Adam()\n",
    "            model.compile(loss='mse', optimizer=optimizer, metrics=[mean_PSNR])\n",
    "    else:\n",
    "        model = load_uncompiled_automap_model()\n",
    "        optimizer = tf.keras.optimizers.Adam()\n",
    "        model.compile(loss='mse', optimizer=optimizer, metrics=[mean_PSNR])\n",
    "    return model"
   ]
  },
  {
   "cell_type": "code",
   "execution_count": 25,
   "metadata": {},
   "outputs": [],
   "source": [
    "# Uncomment to train a new model\n",
    "model = load_compiled_automap_model()\n",
    "initial_epoch = 0"
   ]
  },
  {
   "cell_type": "code",
   "execution_count": 26,
   "metadata": {},
   "outputs": [],
   "source": [
    "def epoch_from_model_path(path):\n",
    "    # Used to resume training.\n",
    "    # Example:\n",
    "    # Returns 150 if `path = '/home/ubuntu/cs230/models/automap_fastmri/2019-06-07_00:49:20/cp-0150.ckpt'.\n",
    "\n",
    "    epoch_string = os.path.basename(path)[3:7]\n",
    "    epoch = int(epoch_string)\n",
    "    return epoch"
   ]
  },
  {
   "cell_type": "code",
   "execution_count": 27,
   "metadata": {},
   "outputs": [],
   "source": [
    "# # Uncomment to restore a model and resume training\n",
    "# saved_model_path = '/home/ubuntu/cs230/models/automap_fastmri/2019-06-07_00:49:20/cp-0165.ckpt'\n",
    "# model = restore_model(saved_model_path, weights_only=False, custom_objects={'mean_PSNR': mean_PSNR})\n",
    "# initial_epoch = epoch_from_model_path(saved_model_path)\n",
    "# print('Restored model with {} completed epochs'.format(initial_epoch))\n",
    "# model.evaluate(test_dataset)"
   ]
  },
  {
   "cell_type": "code",
   "execution_count": 28,
   "metadata": {
    "scrolled": false
   },
   "outputs": [
    {
     "name": "stdout",
     "output_type": "stream",
     "text": [
      "Model: \"model\"\n",
      "_________________________________________________________________\n",
      "Layer (type)                 Output Shape              Param #   \n",
      "=================================================================\n",
      "input_1 (InputLayer)         [(None, 128, 128, 2)]     0         \n",
      "_________________________________________________________________\n",
      "gaussian_dropout (GaussianDr (None, 128, 128, 2)       0         \n",
      "_________________________________________________________________\n",
      "flatten (Flatten)            (None, 32768)             0         \n",
      "_________________________________________________________________\n",
      "dense (Dense)                (None, 4096)              134221824 \n",
      "_________________________________________________________________\n",
      "dense_1 (Dense)              (None, 16384)             67125248  \n",
      "_________________________________________________________________\n",
      "reshape (Reshape)            (None, 128, 128, 1)       0         \n",
      "_________________________________________________________________\n",
      "conv2d (Conv2D)              (None, 128, 128, 64)      1664      \n",
      "_________________________________________________________________\n",
      "conv2d_1 (Conv2D)            (None, 128, 128, 64)      102464    \n",
      "_________________________________________________________________\n",
      "conv2d_transpose (Conv2DTran (None, 128, 128, 1)       3137      \n",
      "=================================================================\n",
      "Total params: 201,454,337\n",
      "Trainable params: 201,454,337\n",
      "Non-trainable params: 0\n",
      "_________________________________________________________________\n"
     ]
    }
   ],
   "source": [
    "model.summary()"
   ]
  },
  {
   "cell_type": "markdown",
   "metadata": {},
   "source": [
    "# Training"
   ]
  },
  {
   "cell_type": "code",
   "execution_count": 29,
   "metadata": {},
   "outputs": [],
   "source": [
    "# Show reconstructions during training\n",
    "\n",
    "def plot_fft_reconstructions(epoch, logs):\n",
    "    for dataset_batch, name in first_batches():\n",
    "        x, y = dataset_batch\n",
    "        y = y.numpy()\n",
    "        y_pred = model.predict(x)\n",
    "\n",
    "        with file_writer.as_default():\n",
    "            for i in range(min(len(y), 10)):\n",
    "                prediction, ground_truth = y_pred[i:i + 1, ...], y[i:i + 1, ...]\n",
    "                tf.summary.image(\"{} Image {} (Prediction)\".format(name, i), prediction, max_outputs=1, step=epoch)\n",
    "                tf.summary.image(\"{} Image {} (Ground Truth)\".format(name, i), ground_truth, max_outputs=1, step=epoch)"
   ]
  },
  {
   "cell_type": "code",
   "execution_count": 30,
   "metadata": {},
   "outputs": [],
   "source": [
    "# Show activation histograms\n",
    "\n",
    "def layer_activations(inputs):\n",
    "    layers = model.layers\n",
    "    names = [l.name for l in layers]\n",
    "    input_tensor = layers[0].input\n",
    "    outputs = [l.output for l in layers]\n",
    "    \n",
    "    get_activations = tf.keras.backend.function(input_tensor, outputs)\n",
    "    activations = get_activations(inputs=inputs)\n",
    "    \n",
    "    return list(zip(names, activations))\n",
    "\n",
    "def plot_activations(epoch, logs):\n",
    "    with file_writer.as_default():\n",
    "        for dataset_batch, stage in first_batches():\n",
    "            for layer_name, layer_activation in layer_activations(dataset_batch):\n",
    "                tf.summary.histogram('{}/activations/{}'.format(layer_name, stage.lower()), layer_activation,\n",
    "                                    step=epoch)\n"
   ]
  },
  {
   "cell_type": "code",
   "execution_count": 31,
   "metadata": {},
   "outputs": [],
   "source": [
    "# Clear logs and models if necessary\n",
    "# !rm -r /home/ubuntu/cs230/logs/\n",
    "# !rm -r /home/ubuntu/cs230/models"
   ]
  },
  {
   "cell_type": "code",
   "execution_count": 32,
   "metadata": {},
   "outputs": [
    {
     "name": "stdout",
     "output_type": "stream",
     "text": [
      "Using current timestamp: 2019-06-08_13:06:26\n"
     ]
    }
   ],
   "source": [
    "# Save current timestamp (we'll use it in our paths to model and log directories)\n",
    "\n",
    "current_timestamp = localized_timestamp() # get new value if training new model\n",
    "print('Using current timestamp: {}'.format(current_timestamp))\n",
    "\n",
    "# current_timestamp = '2019-06-07_00:49:20' # use previous value if resuming training"
   ]
  },
  {
   "cell_type": "code",
   "execution_count": 33,
   "metadata": {},
   "outputs": [],
   "source": [
    "# Define where logs will be saved\n",
    "\n",
    "logdir = os.path.join('/home/ubuntu/cs230/logs', current_timestamp)\n",
    "file_writer = tf.summary.create_file_writer(os.path.join(logdir, 'metrics'))"
   ]
  },
  {
   "cell_type": "markdown",
   "metadata": {},
   "source": [
    "### Callbacks to use in various stages of training"
   ]
  },
  {
   "cell_type": "code",
   "execution_count": 34,
   "metadata": {
    "scrolled": false
   },
   "outputs": [
    {
     "name": "stderr",
     "output_type": "stream",
     "text": [
      "WARNING: Logging before flag parsing goes to stderr.\n",
      "W0608 20:06:26.133667 140437208413952 ag_logging.py:145] Entity <function Function._initialize_uninitialized_variables.<locals>.initialize_variables at 0x7fb940241f28> could not be transformed and will be executed as-is. Please report this to the AutoGraph team. When filing the bug, set the verbosity to 10 (on Linux, `export AUTOGRAPH_VERBOSITY=10`) and attach the full output. Cause: No module named 'tensorflow_core.contrib'\n",
      "W0608 20:06:26.144600 140437208413952 ag_logging.py:145] Entity <function Function._initialize_uninitialized_variables.<locals>.initialize_variables at 0x7fb940255620> could not be transformed and will be executed as-is. Please report this to the AutoGraph team. When filing the bug, set the verbosity to 10 (on Linux, `export AUTOGRAPH_VERBOSITY=10`) and attach the full output. Cause: No module named 'tensorflow_core.contrib'\n",
      "W0608 20:06:26.158512 140437208413952 ag_logging.py:145] Entity <function Function._initialize_uninitialized_variables.<locals>.initialize_variables at 0x7fb94020b950> could not be transformed and will be executed as-is. Please report this to the AutoGraph team. When filing the bug, set the verbosity to 10 (on Linux, `export AUTOGRAPH_VERBOSITY=10`) and attach the full output. Cause: No module named 'tensorflow_core.contrib'\n",
      "W0608 20:06:26.167689 140437208413952 ag_logging.py:145] Entity <function Function._initialize_uninitialized_variables.<locals>.initialize_variables at 0x7fb940232048> could not be transformed and will be executed as-is. Please report this to the AutoGraph team. When filing the bug, set the verbosity to 10 (on Linux, `export AUTOGRAPH_VERBOSITY=10`) and attach the full output. Cause: No module named 'tensorflow_core.contrib'\n",
      "W0608 20:06:26.171934 140437208413952 ag_logging.py:145] Entity <bound method L1L2.__call__ of <tensorflow.python.keras.regularizers.L1L2 object at 0x7fb9403e3fd0>> could not be transformed and will be executed as-is. Please report this to the AutoGraph team. When filing the bug, set the verbosity to 10 (on Linux, `export AUTOGRAPH_VERBOSITY=10`) and attach the full output. Cause: No module named 'tensorflow_core.contrib'\n",
      "W0608 20:06:26.184393 140437208413952 ag_logging.py:145] Entity <function Function._initialize_uninitialized_variables.<locals>.initialize_variables at 0x7fb9401d42f0> could not be transformed and will be executed as-is. Please report this to the AutoGraph team. When filing the bug, set the verbosity to 10 (on Linux, `export AUTOGRAPH_VERBOSITY=10`) and attach the full output. Cause: No module named 'tensorflow_core.contrib'\n",
      "W0608 20:06:26.196429 140437208413952 ag_logging.py:145] Entity <function Function._initialize_uninitialized_variables.<locals>.initialize_variables at 0x7fb9401d46a8> could not be transformed and will be executed as-is. Please report this to the AutoGraph team. When filing the bug, set the verbosity to 10 (on Linux, `export AUTOGRAPH_VERBOSITY=10`) and attach the full output. Cause: No module named 'tensorflow_core.contrib'\n",
      "W0608 20:06:26.228291 140437208413952 ag_logging.py:145] Entity <function Function._initialize_uninitialized_variables.<locals>.initialize_variables at 0x7fb94018c840> could not be transformed and will be executed as-is. Please report this to the AutoGraph team. When filing the bug, set the verbosity to 10 (on Linux, `export AUTOGRAPH_VERBOSITY=10`) and attach the full output. Cause: No module named 'tensorflow_core.contrib'\n",
      "W0608 20:06:26.238263 140437208413952 ag_logging.py:145] Entity <function Function._initialize_uninitialized_variables.<locals>.initialize_variables at 0x7fb94016f158> could not be transformed and will be executed as-is. Please report this to the AutoGraph team. When filing the bug, set the verbosity to 10 (on Linux, `export AUTOGRAPH_VERBOSITY=10`) and attach the full output. Cause: No module named 'tensorflow_core.contrib'\n"
     ]
    },
    {
     "name": "stdout",
     "output_type": "stream",
     "text": [
      "WARNING: Entity <function Function._initialize_uninitialized_variables.<locals>.initialize_variables at 0x7fb940241f28> could not be transformed and will be executed as-is. Please report this to the AutoGraph team. When filing the bug, set the verbosity to 10 (on Linux, `export AUTOGRAPH_VERBOSITY=10`) and attach the full output. Cause: No module named 'tensorflow_core.contrib'\n",
      "WARNING: Entity <function Function._initialize_uninitialized_variables.<locals>.initialize_variables at 0x7fb940255620> could not be transformed and will be executed as-is. Please report this to the AutoGraph team. When filing the bug, set the verbosity to 10 (on Linux, `export AUTOGRAPH_VERBOSITY=10`) and attach the full output. Cause: No module named 'tensorflow_core.contrib'\n",
      "WARNING: Entity <function Function._initialize_uninitialized_variables.<locals>.initialize_variables at 0x7fb94020b950> could not be transformed and will be executed as-is. Please report this to the AutoGraph team. When filing the bug, set the verbosity to 10 (on Linux, `export AUTOGRAPH_VERBOSITY=10`) and attach the full output. Cause: No module named 'tensorflow_core.contrib'\n",
      "WARNING: Entity <function Function._initialize_uninitialized_variables.<locals>.initialize_variables at 0x7fb940232048> could not be transformed and will be executed as-is. Please report this to the AutoGraph team. When filing the bug, set the verbosity to 10 (on Linux, `export AUTOGRAPH_VERBOSITY=10`) and attach the full output. Cause: No module named 'tensorflow_core.contrib'\n",
      "WARNING: Entity <bound method L1L2.__call__ of <tensorflow.python.keras.regularizers.L1L2 object at 0x7fb9403e3fd0>> could not be transformed and will be executed as-is. Please report this to the AutoGraph team. When filing the bug, set the verbosity to 10 (on Linux, `export AUTOGRAPH_VERBOSITY=10`) and attach the full output. Cause: No module named 'tensorflow_core.contrib'\n",
      "WARNING: Entity <function Function._initialize_uninitialized_variables.<locals>.initialize_variables at 0x7fb9401d42f0> could not be transformed and will be executed as-is. Please report this to the AutoGraph team. When filing the bug, set the verbosity to 10 (on Linux, `export AUTOGRAPH_VERBOSITY=10`) and attach the full output. Cause: No module named 'tensorflow_core.contrib'\n",
      "WARNING: Entity <function Function._initialize_uninitialized_variables.<locals>.initialize_variables at 0x7fb9401d46a8> could not be transformed and will be executed as-is. Please report this to the AutoGraph team. When filing the bug, set the verbosity to 10 (on Linux, `export AUTOGRAPH_VERBOSITY=10`) and attach the full output. Cause: No module named 'tensorflow_core.contrib'\n",
      "WARNING: Entity <function Function._initialize_uninitialized_variables.<locals>.initialize_variables at 0x7fb94018c840> could not be transformed and will be executed as-is. Please report this to the AutoGraph team. When filing the bug, set the verbosity to 10 (on Linux, `export AUTOGRAPH_VERBOSITY=10`) and attach the full output. Cause: No module named 'tensorflow_core.contrib'\n",
      "WARNING: Entity <function Function._initialize_uninitialized_variables.<locals>.initialize_variables at 0x7fb94016f158> could not be transformed and will be executed as-is. Please report this to the AutoGraph team. When filing the bug, set the verbosity to 10 (on Linux, `export AUTOGRAPH_VERBOSITY=10`) and attach the full output. Cause: No module named 'tensorflow_core.contrib'\n"
     ]
    },
    {
     "name": "stderr",
     "output_type": "stream",
     "text": [
      "W0608 20:06:26.347359 140437208413952 ag_logging.py:145] Entity <function Function._initialize_uninitialized_variables.<locals>.initialize_variables at 0x7fb9401092f0> could not be transformed and will be executed as-is. Please report this to the AutoGraph team. When filing the bug, set the verbosity to 10 (on Linux, `export AUTOGRAPH_VERBOSITY=10`) and attach the full output. Cause: No module named 'tensorflow_core.contrib'\n",
      "W0608 20:06:26.367959 140437208413952 ag_logging.py:145] Entity <function Function._initialize_uninitialized_variables.<locals>.initialize_variables at 0x7fb92878f6a8> could not be transformed and will be executed as-is. Please report this to the AutoGraph team. When filing the bug, set the verbosity to 10 (on Linux, `export AUTOGRAPH_VERBOSITY=10`) and attach the full output. Cause: No module named 'tensorflow_core.contrib'\n",
      "W0608 20:06:26.420204 140437208413952 ag_logging.py:145] Entity <function Function._initialize_uninitialized_variables.<locals>.initialize_variables at 0x7fb94018c378> could not be transformed and will be executed as-is. Please report this to the AutoGraph team. When filing the bug, set the verbosity to 10 (on Linux, `export AUTOGRAPH_VERBOSITY=10`) and attach the full output. Cause: No module named 'tensorflow_core.contrib'\n",
      "W0608 20:06:26.443425 140437208413952 ag_logging.py:145] Entity <function canonicalize_signatures.<locals>.signature_wrapper at 0x7fb99ca18510> could not be transformed and will be executed as-is. Please report this to the AutoGraph team. When filing the bug, set the verbosity to 10 (on Linux, `export AUTOGRAPH_VERBOSITY=10`) and attach the full output. Cause: No module named 'tensorflow_core.contrib'\n",
      "W0608 20:06:26.460812 140437208413952 ag_logging.py:145] Entity <function Function._initialize_uninitialized_variables.<locals>.initialize_variables at 0x7fb928742730> could not be transformed and will be executed as-is. Please report this to the AutoGraph team. When filing the bug, set the verbosity to 10 (on Linux, `export AUTOGRAPH_VERBOSITY=10`) and attach the full output. Cause: No module named 'tensorflow_core.contrib'\n"
     ]
    },
    {
     "name": "stdout",
     "output_type": "stream",
     "text": [
      "WARNING: Entity <function Function._initialize_uninitialized_variables.<locals>.initialize_variables at 0x7fb9401092f0> could not be transformed and will be executed as-is. Please report this to the AutoGraph team. When filing the bug, set the verbosity to 10 (on Linux, `export AUTOGRAPH_VERBOSITY=10`) and attach the full output. Cause: No module named 'tensorflow_core.contrib'\n",
      "WARNING: Entity <function Function._initialize_uninitialized_variables.<locals>.initialize_variables at 0x7fb92878f6a8> could not be transformed and will be executed as-is. Please report this to the AutoGraph team. When filing the bug, set the verbosity to 10 (on Linux, `export AUTOGRAPH_VERBOSITY=10`) and attach the full output. Cause: No module named 'tensorflow_core.contrib'\n",
      "WARNING: Entity <function Function._initialize_uninitialized_variables.<locals>.initialize_variables at 0x7fb94018c378> could not be transformed and will be executed as-is. Please report this to the AutoGraph team. When filing the bug, set the verbosity to 10 (on Linux, `export AUTOGRAPH_VERBOSITY=10`) and attach the full output. Cause: No module named 'tensorflow_core.contrib'\n",
      "WARNING: Entity <function canonicalize_signatures.<locals>.signature_wrapper at 0x7fb99ca18510> could not be transformed and will be executed as-is. Please report this to the AutoGraph team. When filing the bug, set the verbosity to 10 (on Linux, `export AUTOGRAPH_VERBOSITY=10`) and attach the full output. Cause: No module named 'tensorflow_core.contrib'\n",
      "WARNING: Entity <function Function._initialize_uninitialized_variables.<locals>.initialize_variables at 0x7fb928742730> could not be transformed and will be executed as-is. Please report this to the AutoGraph team. When filing the bug, set the verbosity to 10 (on Linux, `export AUTOGRAPH_VERBOSITY=10`) and attach the full output. Cause: No module named 'tensorflow_core.contrib'\n"
     ]
    }
   ],
   "source": [
    "# Callback for printing the LR at the end of each epoch.\n",
    "\n",
    "class LearningRateLoggingCallback(tf.keras.callbacks.Callback):\n",
    "    def on_epoch_end(self, epoch, logs=None):\n",
    "        with file_writer.as_default():\n",
    "            current_lr = model.optimizer.lr.numpy()\n",
    "            tf.summary.scalar('learning rate', data=current_lr, step=epoch)\n",
    "        print('\\nLearning rate for epoch {} is {}'.format(epoch + 1, current_lr))\n",
    "\n",
    "plot_images_callback = tf.keras.callbacks.LambdaCallback(on_epoch_end=plot_fft_reconstructions)\n",
    "\n",
    "plot_activations_callback = tf.keras.callbacks.LambdaCallback(on_epoch_end=plot_activations)\n",
    "\n",
    "tensorboard_callback = tf.keras.callbacks.TensorBoard(log_dir=logdir, histogram_freq=1, update_freq='epoch',\n",
    "                                                      profile_batch=0) # workaround for: https://github.com/tensorflow/tensorboard/issues/2084\n",
    "\n",
    "set_lr_callback = tf.keras.callbacks.LearningRateScheduler(lr_schedule)\n",
    "\n",
    "reduce_lr_callback = tf.keras.callbacks.ReduceLROnPlateau(monitor='val_loss', factor=0.25,\n",
    "                              patience=2, min_lr=1e-8)\n",
    "\n",
    "# Callback for checkpointing model\n",
    "\n",
    "# include the epoch in the file name. (uses `str.format`)\n",
    "checkpoint_path = os.path.join('/home/ubuntu/cs230/models/automap_fastmri',\n",
    "                               current_timestamp,\n",
    "                               'cp-{epoch:04d}.ckpt')\n",
    "checkpoint_dir = os.path.dirname(checkpoint_path)\n",
    "checkpoint_callback = tf.keras.callbacks.ModelCheckpoint(\n",
    "    checkpoint_path, verbose=1, save_weights_only=False,\n",
    "    # Save every K-batches (or samples?)\n",
    "    save_freq=500_000)\n",
    "\n",
    "completed_training_steps = model.optimizer.iterations.numpy()\n",
    "\n",
    "if completed_training_steps == 0:\n",
    "    # Only do this if not resuming training (don't want to overwrite anything, but also unnecessary\n",
    "    # to prompt user by setting `overwrite=False`).\n",
    "    model_save_path = checkpoint_path.format(epoch=0)\n",
    "    model_save_dir = os.path.dirname(model_save_path)\n",
    "    os.makedirs(model_save_dir, exist_ok=True)\n",
    "    model.save(model_save_path)\n",
    "elif completed_training_steps > 0:\n",
    "    tensorboard_callback._samples_seen = completed_training_steps * batch_size\n",
    "    tensorboard_callback._total_batches_seen = completed_training_steps\n",
    "\n",
    "callbacks = [tensorboard_callback, plot_images_callback, plot_activations_callback,\n",
    "             set_lr_callback, reduce_lr_callback, LearningRateLoggingCallback(), checkpoint_callback]"
   ]
  },
  {
   "cell_type": "markdown",
   "metadata": {},
   "source": [
    "### Begin training and open Tensorboard to monitor"
   ]
  },
  {
   "cell_type": "code",
   "execution_count": 35,
   "metadata": {
    "scrolled": false
   },
   "outputs": [
    {
     "name": "stdout",
     "output_type": "stream",
     "text": [
      "Epoch 1/300\n",
      "   1085/Unknown - 113s 104ms/step - loss: 0.0080 - mean_PSNR: 22.8975\n",
      "Learning rate for epoch 1 is 0.00019999999494757503\n",
      "1085/1085 [==============================] - 138s 127ms/step - loss: 0.0080 - mean_PSNR: 22.8975 - val_loss: 0.0000e+00 - val_mean_PSNR: 0.0000e+00\n",
      "Epoch 2/300\n",
      "1084/1085 [============================>.] - ETA: 0s - loss: 0.0051 - mean_PSNR: 24.1620\n",
      "Learning rate for epoch 2 is 0.00019999999494757503\n",
      "1085/1085 [==============================] - 94s 87ms/step - loss: 0.0051 - mean_PSNR: 24.1623 - val_loss: 0.0050 - val_mean_PSNR: 24.1815\n",
      "Epoch 3/300\n",
      "1084/1085 [============================>.] - ETA: 0s - loss: 0.0047 - mean_PSNR: 24.4665\n",
      "Learning rate for epoch 3 is 0.00019999999494757503\n",
      "1085/1085 [==============================] - 95s 87ms/step - loss: 0.0047 - mean_PSNR: 24.4668 - val_loss: 0.0048 - val_mean_PSNR: 24.3796\n",
      "Epoch 4/300\n",
      "1084/1085 [============================>.] - ETA: 0s - loss: 0.0044 - mean_PSNR: 24.7357\n",
      "Learning rate for epoch 4 is 0.00019999999494757503\n",
      "1085/1085 [==============================] - 94s 87ms/step - loss: 0.0044 - mean_PSNR: 24.7356 - val_loss: 0.0046 - val_mean_PSNR: 24.5349\n",
      "Epoch 5/300\n",
      "1084/1085 [============================>.] - ETA: 0s - loss: 0.0042 - mean_PSNR: 24.9566\n",
      "Learning rate for epoch 5 is 0.00019999999494757503\n",
      "1085/1085 [==============================] - 94s 87ms/step - loss: 0.0042 - mean_PSNR: 24.9565 - val_loss: 0.0043 - val_mean_PSNR: 24.8774\n",
      "Epoch 6/300\n",
      "1084/1085 [============================>.] - ETA: 0s - loss: 0.0040 - mean_PSNR: 25.1686\n",
      "Learning rate for epoch 6 is 0.00019999999494757503\n",
      "1085/1085 [==============================] - 95s 87ms/step - loss: 0.0040 - mean_PSNR: 25.1686 - val_loss: 0.0041 - val_mean_PSNR: 25.0647\n",
      "Epoch 7/300\n",
      "1084/1085 [============================>.] - ETA: 0s - loss: 0.0039 - mean_PSNR: 25.3262\n",
      "Learning rate for epoch 7 is 0.00019999999494757503\n",
      "1085/1085 [==============================] - 94s 87ms/step - loss: 0.0039 - mean_PSNR: 25.3262 - val_loss: 0.0040 - val_mean_PSNR: 25.1758\n",
      "Epoch 8/300\n",
      "1084/1085 [============================>.] - ETA: 0s - loss: 0.0037 - mean_PSNR: 25.4762\n",
      "Learning rate for epoch 8 is 0.00019999999494757503\n",
      "1085/1085 [==============================] - 94s 87ms/step - loss: 0.0037 - mean_PSNR: 25.4762 - val_loss: 0.0039 - val_mean_PSNR: 25.3053\n",
      "Epoch 9/300\n",
      "1084/1085 [============================>.] - ETA: 0s - loss: 0.0036 - mean_PSNR: 25.6225\n",
      "Learning rate for epoch 9 is 0.00019999999494757503\n",
      "1085/1085 [==============================] - 94s 87ms/step - loss: 0.0036 - mean_PSNR: 25.6225 - val_loss: 0.0038 - val_mean_PSNR: 25.4764\n",
      "Epoch 10/300\n",
      "1084/1085 [============================>.] - ETA: 0s - loss: 0.0036 - mean_PSNR: 25.7207\n",
      "Learning rate for epoch 10 is 0.00019999999494757503\n",
      "1085/1085 [==============================] - 95s 87ms/step - loss: 0.0036 - mean_PSNR: 25.7207 - val_loss: 0.0037 - val_mean_PSNR: 25.5217\n",
      "Epoch 11/300\n",
      "1084/1085 [============================>.] - ETA: 0s - loss: 0.0035 - mean_PSNR: 25.8208\n",
      "Learning rate for epoch 11 is 4.999999873689376e-05\n",
      "1085/1085 [==============================] - 94s 87ms/step - loss: 0.0035 - mean_PSNR: 25.8209 - val_loss: 0.0037 - val_mean_PSNR: 25.5204\n",
      "Epoch 12/300\n",
      "1084/1085 [============================>.] - ETA: 0s - loss: 0.0034 - mean_PSNR: 25.8736\n",
      "Learning rate for epoch 12 is 0.00019999999494757503\n",
      "1085/1085 [==============================] - 94s 87ms/step - loss: 0.0034 - mean_PSNR: 25.8736 - val_loss: 0.0036 - val_mean_PSNR: 25.6988\n",
      "Epoch 13/300\n",
      "1084/1085 [============================>.] - ETA: 0s - loss: 0.0033 - mean_PSNR: 26.0235\n",
      "Learning rate for epoch 13 is 0.00019999999494757503\n",
      "1085/1085 [==============================] - 94s 87ms/step - loss: 0.0033 - mean_PSNR: 26.0233 - val_loss: 0.0036 - val_mean_PSNR: 25.6684\n",
      "Epoch 14/300\n",
      "1084/1085 [============================>.] - ETA: 0s - loss: 0.0033 - mean_PSNR: 26.0655\n",
      "Learning rate for epoch 14 is 0.00019999999494757503\n",
      "1085/1085 [==============================] - 94s 87ms/step - loss: 0.0033 - mean_PSNR: 26.0655 - val_loss: 0.0035 - val_mean_PSNR: 25.8177\n",
      "Epoch 15/300\n",
      " 434/1085 [===========>..................] - ETA: 41s - loss: 0.0033 - mean_PSNR: 26.1296\n",
      "Epoch 00015: saving model to /home/ubuntu/cs230/models/automap_fastmri/2019-06-08_13:06:26/cp-0015.ckpt\n"
     ]
    },
    {
     "name": "stderr",
     "output_type": "stream",
     "text": [
      "W0608 20:29:42.484948 140437208413952 ag_logging.py:145] Entity <function Function._initialize_uninitialized_variables.<locals>.initialize_variables at 0x7fb94016f840> could not be transformed and will be executed as-is. Please report this to the AutoGraph team. When filing the bug, set the verbosity to 10 (on Linux, `export AUTOGRAPH_VERBOSITY=10`) and attach the full output. Cause: No module named 'tensorflow_core.contrib'\n",
      "W0608 20:29:42.494563 140437208413952 ag_logging.py:145] Entity <function Function._initialize_uninitialized_variables.<locals>.initialize_variables at 0x7fb9401d4f28> could not be transformed and will be executed as-is. Please report this to the AutoGraph team. When filing the bug, set the verbosity to 10 (on Linux, `export AUTOGRAPH_VERBOSITY=10`) and attach the full output. Cause: No module named 'tensorflow_core.contrib'\n",
      "W0608 20:29:42.507483 140437208413952 ag_logging.py:145] Entity <function Function._initialize_uninitialized_variables.<locals>.initialize_variables at 0x7fb92878f158> could not be transformed and will be executed as-is. Please report this to the AutoGraph team. When filing the bug, set the verbosity to 10 (on Linux, `export AUTOGRAPH_VERBOSITY=10`) and attach the full output. Cause: No module named 'tensorflow_core.contrib'\n",
      "W0608 20:29:42.516234 140437208413952 ag_logging.py:145] Entity <function Function._initialize_uninitialized_variables.<locals>.initialize_variables at 0x7fb9404c3048> could not be transformed and will be executed as-is. Please report this to the AutoGraph team. When filing the bug, set the verbosity to 10 (on Linux, `export AUTOGRAPH_VERBOSITY=10`) and attach the full output. Cause: No module named 'tensorflow_core.contrib'\n",
      "W0608 20:29:42.520310 140437208413952 ag_logging.py:145] Entity <bound method L1L2.__call__ of <tensorflow.python.keras.regularizers.L1L2 object at 0x7fb9403e3fd0>> could not be transformed and will be executed as-is. Please report this to the AutoGraph team. When filing the bug, set the verbosity to 10 (on Linux, `export AUTOGRAPH_VERBOSITY=10`) and attach the full output. Cause: No module named 'tensorflow_core.contrib'\n",
      "W0608 20:29:42.533758 140437208413952 ag_logging.py:145] Entity <function Function._initialize_uninitialized_variables.<locals>.initialize_variables at 0x7fb940241378> could not be transformed and will be executed as-is. Please report this to the AutoGraph team. When filing the bug, set the verbosity to 10 (on Linux, `export AUTOGRAPH_VERBOSITY=10`) and attach the full output. Cause: No module named 'tensorflow_core.contrib'\n"
     ]
    },
    {
     "name": "stdout",
     "output_type": "stream",
     "text": [
      "WARNING: Entity <function Function._initialize_uninitialized_variables.<locals>.initialize_variables at 0x7fb94016f840> could not be transformed and will be executed as-is. Please report this to the AutoGraph team. When filing the bug, set the verbosity to 10 (on Linux, `export AUTOGRAPH_VERBOSITY=10`) and attach the full output. Cause: No module named 'tensorflow_core.contrib'\n",
      "WARNING: Entity <function Function._initialize_uninitialized_variables.<locals>.initialize_variables at 0x7fb9401d4f28> could not be transformed and will be executed as-is. Please report this to the AutoGraph team. When filing the bug, set the verbosity to 10 (on Linux, `export AUTOGRAPH_VERBOSITY=10`) and attach the full output. Cause: No module named 'tensorflow_core.contrib'\n",
      "WARNING: Entity <function Function._initialize_uninitialized_variables.<locals>.initialize_variables at 0x7fb92878f158> could not be transformed and will be executed as-is. Please report this to the AutoGraph team. When filing the bug, set the verbosity to 10 (on Linux, `export AUTOGRAPH_VERBOSITY=10`) and attach the full output. Cause: No module named 'tensorflow_core.contrib'\n",
      "WARNING: Entity <function Function._initialize_uninitialized_variables.<locals>.initialize_variables at 0x7fb9404c3048> could not be transformed and will be executed as-is. Please report this to the AutoGraph team. When filing the bug, set the verbosity to 10 (on Linux, `export AUTOGRAPH_VERBOSITY=10`) and attach the full output. Cause: No module named 'tensorflow_core.contrib'\n",
      "WARNING: Entity <bound method L1L2.__call__ of <tensorflow.python.keras.regularizers.L1L2 object at 0x7fb9403e3fd0>> could not be transformed and will be executed as-is. Please report this to the AutoGraph team. When filing the bug, set the verbosity to 10 (on Linux, `export AUTOGRAPH_VERBOSITY=10`) and attach the full output. Cause: No module named 'tensorflow_core.contrib'\n",
      "WARNING: Entity <function Function._initialize_uninitialized_variables.<locals>.initialize_variables at 0x7fb940241378> could not be transformed and will be executed as-is. Please report this to the AutoGraph team. When filing the bug, set the verbosity to 10 (on Linux, `export AUTOGRAPH_VERBOSITY=10`) and attach the full output. Cause: No module named 'tensorflow_core.contrib'\n"
     ]
    },
    {
     "name": "stderr",
     "output_type": "stream",
     "text": [
      "W0608 20:29:42.694157 140437208413952 ag_logging.py:145] Entity <function Function._initialize_uninitialized_variables.<locals>.initialize_variables at 0x7fb9401d41e0> could not be transformed and will be executed as-is. Please report this to the AutoGraph team. When filing the bug, set the verbosity to 10 (on Linux, `export AUTOGRAPH_VERBOSITY=10`) and attach the full output. Cause: No module named 'tensorflow_core.contrib'\n",
      "W0608 20:29:42.726780 140437208413952 ag_logging.py:145] Entity <function Function._initialize_uninitialized_variables.<locals>.initialize_variables at 0x7fb940255620> could not be transformed and will be executed as-is. Please report this to the AutoGraph team. When filing the bug, set the verbosity to 10 (on Linux, `export AUTOGRAPH_VERBOSITY=10`) and attach the full output. Cause: No module named 'tensorflow_core.contrib'\n",
      "W0608 20:29:42.736317 140437208413952 ag_logging.py:145] Entity <function Function._initialize_uninitialized_variables.<locals>.initialize_variables at 0x7fb94020b8c8> could not be transformed and will be executed as-is. Please report this to the AutoGraph team. When filing the bug, set the verbosity to 10 (on Linux, `export AUTOGRAPH_VERBOSITY=10`) and attach the full output. Cause: No module named 'tensorflow_core.contrib'\n",
      "W0608 20:29:42.840595 140437208413952 ag_logging.py:145] Entity <function Function._initialize_uninitialized_variables.<locals>.initialize_variables at 0x7fb940054b70> could not be transformed and will be executed as-is. Please report this to the AutoGraph team. When filing the bug, set the verbosity to 10 (on Linux, `export AUTOGRAPH_VERBOSITY=10`) and attach the full output. Cause: No module named 'tensorflow_core.contrib'\n",
      "W0608 20:29:42.859853 140437208413952 ag_logging.py:145] Entity <function Function._initialize_uninitialized_variables.<locals>.initialize_variables at 0x7fb8ec6a5730> could not be transformed and will be executed as-is. Please report this to the AutoGraph team. When filing the bug, set the verbosity to 10 (on Linux, `export AUTOGRAPH_VERBOSITY=10`) and attach the full output. Cause: No module named 'tensorflow_core.contrib'\n"
     ]
    },
    {
     "name": "stdout",
     "output_type": "stream",
     "text": [
      "WARNING: Entity <function Function._initialize_uninitialized_variables.<locals>.initialize_variables at 0x7fb9401d41e0> could not be transformed and will be executed as-is. Please report this to the AutoGraph team. When filing the bug, set the verbosity to 10 (on Linux, `export AUTOGRAPH_VERBOSITY=10`) and attach the full output. Cause: No module named 'tensorflow_core.contrib'\n",
      "WARNING: Entity <function Function._initialize_uninitialized_variables.<locals>.initialize_variables at 0x7fb940255620> could not be transformed and will be executed as-is. Please report this to the AutoGraph team. When filing the bug, set the verbosity to 10 (on Linux, `export AUTOGRAPH_VERBOSITY=10`) and attach the full output. Cause: No module named 'tensorflow_core.contrib'\n",
      "WARNING: Entity <function Function._initialize_uninitialized_variables.<locals>.initialize_variables at 0x7fb94020b8c8> could not be transformed and will be executed as-is. Please report this to the AutoGraph team. When filing the bug, set the verbosity to 10 (on Linux, `export AUTOGRAPH_VERBOSITY=10`) and attach the full output. Cause: No module named 'tensorflow_core.contrib'\n",
      "WARNING: Entity <function Function._initialize_uninitialized_variables.<locals>.initialize_variables at 0x7fb940054b70> could not be transformed and will be executed as-is. Please report this to the AutoGraph team. When filing the bug, set the verbosity to 10 (on Linux, `export AUTOGRAPH_VERBOSITY=10`) and attach the full output. Cause: No module named 'tensorflow_core.contrib'\n",
      "WARNING: Entity <function Function._initialize_uninitialized_variables.<locals>.initialize_variables at 0x7fb8ec6a5730> could not be transformed and will be executed as-is. Please report this to the AutoGraph team. When filing the bug, set the verbosity to 10 (on Linux, `export AUTOGRAPH_VERBOSITY=10`) and attach the full output. Cause: No module named 'tensorflow_core.contrib'\n"
     ]
    },
    {
     "name": "stderr",
     "output_type": "stream",
     "text": [
      "W0608 20:29:42.910696 140437208413952 ag_logging.py:145] Entity <function Function._initialize_uninitialized_variables.<locals>.initialize_variables at 0x7fb8ec6c3048> could not be transformed and will be executed as-is. Please report this to the AutoGraph team. When filing the bug, set the verbosity to 10 (on Linux, `export AUTOGRAPH_VERBOSITY=10`) and attach the full output. Cause: No module named 'tensorflow_core.contrib'\n",
      "W0608 20:29:42.925852 140437208413952 ag_logging.py:145] Entity <function canonicalize_signatures.<locals>.signature_wrapper at 0x7fb9401231e0> could not be transformed and will be executed as-is. Please report this to the AutoGraph team. When filing the bug, set the verbosity to 10 (on Linux, `export AUTOGRAPH_VERBOSITY=10`) and attach the full output. Cause: No module named 'tensorflow_core.contrib'\n",
      "W0608 20:29:42.942365 140437208413952 ag_logging.py:145] Entity <function Function._initialize_uninitialized_variables.<locals>.initialize_variables at 0x7fb8ec6c3488> could not be transformed and will be executed as-is. Please report this to the AutoGraph team. When filing the bug, set the verbosity to 10 (on Linux, `export AUTOGRAPH_VERBOSITY=10`) and attach the full output. Cause: No module named 'tensorflow_core.contrib'\n"
     ]
    },
    {
     "name": "stdout",
     "output_type": "stream",
     "text": [
      "WARNING: Entity <function Function._initialize_uninitialized_variables.<locals>.initialize_variables at 0x7fb8ec6c3048> could not be transformed and will be executed as-is. Please report this to the AutoGraph team. When filing the bug, set the verbosity to 10 (on Linux, `export AUTOGRAPH_VERBOSITY=10`) and attach the full output. Cause: No module named 'tensorflow_core.contrib'\n",
      "WARNING: Entity <function canonicalize_signatures.<locals>.signature_wrapper at 0x7fb9401231e0> could not be transformed and will be executed as-is. Please report this to the AutoGraph team. When filing the bug, set the verbosity to 10 (on Linux, `export AUTOGRAPH_VERBOSITY=10`) and attach the full output. Cause: No module named 'tensorflow_core.contrib'\n",
      "WARNING: Entity <function Function._initialize_uninitialized_variables.<locals>.initialize_variables at 0x7fb8ec6c3488> could not be transformed and will be executed as-is. Please report this to the AutoGraph team. When filing the bug, set the verbosity to 10 (on Linux, `export AUTOGRAPH_VERBOSITY=10`) and attach the full output. Cause: No module named 'tensorflow_core.contrib'\n",
      "1084/1085 [============================>.] - ETA: 0s - loss: 0.0032 - mean_PSNR: 26.1836\n",
      "Learning rate for epoch 15 is 0.00019999999494757503\n",
      "1085/1085 [==============================] - 98s 91ms/step - loss: 0.0032 - mean_PSNR: 26.1835 - val_loss: 0.0034 - val_mean_PSNR: 25.9432\n",
      "Epoch 16/300\n",
      "1084/1085 [============================>.] - ETA: 0s - loss: 0.0032 - mean_PSNR: 26.2374\n",
      "Learning rate for epoch 16 is 0.00019999999494757503\n",
      "1085/1085 [==============================] - 95s 87ms/step - loss: 0.0032 - mean_PSNR: 26.2374 - val_loss: 0.0033 - val_mean_PSNR: 26.0345\n",
      "Epoch 17/300\n",
      "1084/1085 [============================>.] - ETA: 0s - loss: 0.0031 - mean_PSNR: 26.3279\n",
      "Learning rate for epoch 17 is 0.00019999999494757503\n",
      "1085/1085 [==============================] - 94s 87ms/step - loss: 0.0031 - mean_PSNR: 26.3280 - val_loss: 0.0033 - val_mean_PSNR: 26.1204\n",
      "Epoch 18/300\n",
      "1084/1085 [============================>.] - ETA: 0s - loss: 0.0031 - mean_PSNR: 26.4312\n",
      "Learning rate for epoch 18 is 0.00019999999494757503\n",
      "1085/1085 [==============================] - 95s 87ms/step - loss: 0.0031 - mean_PSNR: 26.4312 - val_loss: 0.0032 - val_mean_PSNR: 26.2175\n",
      "Epoch 19/300\n",
      "1084/1085 [============================>.] - ETA: 0s - loss: 0.0030 - mean_PSNR: 26.4962\n",
      "Learning rate for epoch 19 is 0.00019999999494757503\n",
      "1085/1085 [==============================] - 94s 87ms/step - loss: 0.0030 - mean_PSNR: 26.4960 - val_loss: 0.0033 - val_mean_PSNR: 26.1178\n",
      "Epoch 20/300\n",
      "1084/1085 [============================>.] - ETA: 0s - loss: 0.0030 - mean_PSNR: 26.5849\n",
      "Learning rate for epoch 20 is 4.999999873689376e-05\n",
      "1085/1085 [==============================] - 94s 87ms/step - loss: 0.0030 - mean_PSNR: 26.5848 - val_loss: 0.0032 - val_mean_PSNR: 26.2786\n",
      "Epoch 21/300\n",
      "1084/1085 [============================>.] - ETA: 0s - loss: 0.0029 - mean_PSNR: 26.6549\n",
      "Learning rate for epoch 21 is 0.00019999999494757503\n",
      "1085/1085 [==============================] - 94s 87ms/step - loss: 0.0029 - mean_PSNR: 26.6549 - val_loss: 0.0031 - val_mean_PSNR: 26.3095\n",
      "Epoch 22/300\n",
      "1084/1085 [============================>.] - ETA: 0s - loss: 0.0029 - mean_PSNR: 26.7263\n",
      "Learning rate for epoch 22 is 0.00019999999494757503\n",
      "1085/1085 [==============================] - 95s 87ms/step - loss: 0.0029 - mean_PSNR: 26.7261 - val_loss: 0.0031 - val_mean_PSNR: 26.4187\n",
      "Epoch 23/300\n",
      "1084/1085 [============================>.] - ETA: 0s - loss: 0.0028 - mean_PSNR: 26.7818\n",
      "Learning rate for epoch 23 is 0.00019999999494757503\n",
      "1085/1085 [==============================] - 94s 87ms/step - loss: 0.0028 - mean_PSNR: 26.7817 - val_loss: 0.0030 - val_mean_PSNR: 26.4760\n",
      "Epoch 24/300\n",
      "1084/1085 [============================>.] - ETA: 0s - loss: 0.0028 - mean_PSNR: 26.8441\n",
      "Learning rate for epoch 24 is 4.999999873689376e-05\n",
      "1085/1085 [==============================] - 95s 87ms/step - loss: 0.0028 - mean_PSNR: 26.8439 - val_loss: 0.0030 - val_mean_PSNR: 26.5436\n",
      "Epoch 25/300\n",
      "1084/1085 [============================>.] - ETA: 0s - loss: 0.0028 - mean_PSNR: 26.9159\n",
      "Learning rate for epoch 25 is 0.00019999999494757503\n",
      "1085/1085 [==============================] - 95s 87ms/step - loss: 0.0028 - mean_PSNR: 26.9160 - val_loss: 0.0029 - val_mean_PSNR: 26.6457\n",
      "Epoch 26/300\n",
      "1084/1085 [============================>.] - ETA: 0s - loss: 0.0027 - mean_PSNR: 26.9568\n",
      "Learning rate for epoch 26 is 0.00019999999494757503\n",
      "1085/1085 [==============================] - 95s 87ms/step - loss: 0.0027 - mean_PSNR: 26.9567 - val_loss: 0.0029 - val_mean_PSNR: 26.6838\n",
      "Epoch 27/300\n",
      "1084/1085 [============================>.] - ETA: 0s - loss: 0.0027 - mean_PSNR: 27.0078\n",
      "Learning rate for epoch 27 is 4.999999873689376e-05\n",
      "1085/1085 [==============================] - 94s 87ms/step - loss: 0.0027 - mean_PSNR: 27.0078 - val_loss: 0.0029 - val_mean_PSNR: 26.7496\n",
      "Epoch 28/300\n",
      "1084/1085 [============================>.] - ETA: 0s - loss: 0.0027 - mean_PSNR: 27.0624\n",
      "Learning rate for epoch 28 is 0.00019999999494757503\n",
      "1085/1085 [==============================] - 95s 87ms/step - loss: 0.0027 - mean_PSNR: 27.0622 - val_loss: 0.0028 - val_mean_PSNR: 26.8113\n",
      "Epoch 29/300\n",
      " 869/1085 [=======================>......] - ETA: 13s - loss: 0.0026 - mean_PSNR: 27.1526\n",
      "Epoch 00029: saving model to /home/ubuntu/cs230/models/automap_fastmri/2019-06-08_13:06:26/cp-0029.ckpt\n"
     ]
    },
    {
     "name": "stderr",
     "output_type": "stream",
     "text": [
      "W0608 20:52:18.918913 140437208413952 ag_logging.py:145] Entity <function Function._initialize_uninitialized_variables.<locals>.initialize_variables at 0x7fb9401d4d08> could not be transformed and will be executed as-is. Please report this to the AutoGraph team. When filing the bug, set the verbosity to 10 (on Linux, `export AUTOGRAPH_VERBOSITY=10`) and attach the full output. Cause: No module named 'tensorflow_core.contrib'\n",
      "W0608 20:52:18.928411 140437208413952 ag_logging.py:145] Entity <function Function._initialize_uninitialized_variables.<locals>.initialize_variables at 0x7fb94016fbf8> could not be transformed and will be executed as-is. Please report this to the AutoGraph team. When filing the bug, set the verbosity to 10 (on Linux, `export AUTOGRAPH_VERBOSITY=10`) and attach the full output. Cause: No module named 'tensorflow_core.contrib'\n",
      "W0608 20:52:18.941355 140437208413952 ag_logging.py:145] Entity <function Function._initialize_uninitialized_variables.<locals>.initialize_variables at 0x7fb928742620> could not be transformed and will be executed as-is. Please report this to the AutoGraph team. When filing the bug, set the verbosity to 10 (on Linux, `export AUTOGRAPH_VERBOSITY=10`) and attach the full output. Cause: No module named 'tensorflow_core.contrib'\n",
      "W0608 20:52:18.950253 140437208413952 ag_logging.py:145] Entity <function Function._initialize_uninitialized_variables.<locals>.initialize_variables at 0x7fb9402a1bf8> could not be transformed and will be executed as-is. Please report this to the AutoGraph team. When filing the bug, set the verbosity to 10 (on Linux, `export AUTOGRAPH_VERBOSITY=10`) and attach the full output. Cause: No module named 'tensorflow_core.contrib'\n",
      "W0608 20:52:18.954254 140437208413952 ag_logging.py:145] Entity <bound method L1L2.__call__ of <tensorflow.python.keras.regularizers.L1L2 object at 0x7fb9403e3fd0>> could not be transformed and will be executed as-is. Please report this to the AutoGraph team. When filing the bug, set the verbosity to 10 (on Linux, `export AUTOGRAPH_VERBOSITY=10`) and attach the full output. Cause: No module named 'tensorflow_core.contrib'\n",
      "W0608 20:52:18.966437 140437208413952 ag_logging.py:145] Entity <function Function._initialize_uninitialized_variables.<locals>.initialize_variables at 0x7fb8c43579d8> could not be transformed and will be executed as-is. Please report this to the AutoGraph team. When filing the bug, set the verbosity to 10 (on Linux, `export AUTOGRAPH_VERBOSITY=10`) and attach the full output. Cause: No module named 'tensorflow_core.contrib'\n"
     ]
    },
    {
     "name": "stdout",
     "output_type": "stream",
     "text": [
      "WARNING: Entity <function Function._initialize_uninitialized_variables.<locals>.initialize_variables at 0x7fb9401d4d08> could not be transformed and will be executed as-is. Please report this to the AutoGraph team. When filing the bug, set the verbosity to 10 (on Linux, `export AUTOGRAPH_VERBOSITY=10`) and attach the full output. Cause: No module named 'tensorflow_core.contrib'\n",
      "WARNING: Entity <function Function._initialize_uninitialized_variables.<locals>.initialize_variables at 0x7fb94016fbf8> could not be transformed and will be executed as-is. Please report this to the AutoGraph team. When filing the bug, set the verbosity to 10 (on Linux, `export AUTOGRAPH_VERBOSITY=10`) and attach the full output. Cause: No module named 'tensorflow_core.contrib'\n",
      "WARNING: Entity <function Function._initialize_uninitialized_variables.<locals>.initialize_variables at 0x7fb928742620> could not be transformed and will be executed as-is. Please report this to the AutoGraph team. When filing the bug, set the verbosity to 10 (on Linux, `export AUTOGRAPH_VERBOSITY=10`) and attach the full output. Cause: No module named 'tensorflow_core.contrib'\n",
      "WARNING: Entity <function Function._initialize_uninitialized_variables.<locals>.initialize_variables at 0x7fb9402a1bf8> could not be transformed and will be executed as-is. Please report this to the AutoGraph team. When filing the bug, set the verbosity to 10 (on Linux, `export AUTOGRAPH_VERBOSITY=10`) and attach the full output. Cause: No module named 'tensorflow_core.contrib'\n",
      "WARNING: Entity <bound method L1L2.__call__ of <tensorflow.python.keras.regularizers.L1L2 object at 0x7fb9403e3fd0>> could not be transformed and will be executed as-is. Please report this to the AutoGraph team. When filing the bug, set the verbosity to 10 (on Linux, `export AUTOGRAPH_VERBOSITY=10`) and attach the full output. Cause: No module named 'tensorflow_core.contrib'\n",
      "WARNING: Entity <function Function._initialize_uninitialized_variables.<locals>.initialize_variables at 0x7fb8c43579d8> could not be transformed and will be executed as-is. Please report this to the AutoGraph team. When filing the bug, set the verbosity to 10 (on Linux, `export AUTOGRAPH_VERBOSITY=10`) and attach the full output. Cause: No module named 'tensorflow_core.contrib'\n"
     ]
    },
    {
     "name": "stderr",
     "output_type": "stream",
     "text": [
      "W0608 20:52:18.978641 140437208413952 ag_logging.py:145] Entity <function Function._initialize_uninitialized_variables.<locals>.initialize_variables at 0x7fba087a5d08> could not be transformed and will be executed as-is. Please report this to the AutoGraph team. When filing the bug, set the verbosity to 10 (on Linux, `export AUTOGRAPH_VERBOSITY=10`) and attach the full output. Cause: No module named 'tensorflow_core.contrib'\n",
      "W0608 20:52:19.011200 140437208413952 ag_logging.py:145] Entity <function Function._initialize_uninitialized_variables.<locals>.initialize_variables at 0x7fb940123158> could not be transformed and will be executed as-is. Please report this to the AutoGraph team. When filing the bug, set the verbosity to 10 (on Linux, `export AUTOGRAPH_VERBOSITY=10`) and attach the full output. Cause: No module named 'tensorflow_core.contrib'\n",
      "W0608 20:52:19.022513 140437208413952 ag_logging.py:145] Entity <function Function._initialize_uninitialized_variables.<locals>.initialize_variables at 0x7fb94020b6a8> could not be transformed and will be executed as-is. Please report this to the AutoGraph team. When filing the bug, set the verbosity to 10 (on Linux, `export AUTOGRAPH_VERBOSITY=10`) and attach the full output. Cause: No module named 'tensorflow_core.contrib'\n"
     ]
    },
    {
     "name": "stdout",
     "output_type": "stream",
     "text": [
      "WARNING: Entity <function Function._initialize_uninitialized_variables.<locals>.initialize_variables at 0x7fba087a5d08> could not be transformed and will be executed as-is. Please report this to the AutoGraph team. When filing the bug, set the verbosity to 10 (on Linux, `export AUTOGRAPH_VERBOSITY=10`) and attach the full output. Cause: No module named 'tensorflow_core.contrib'\n",
      "WARNING: Entity <function Function._initialize_uninitialized_variables.<locals>.initialize_variables at 0x7fb940123158> could not be transformed and will be executed as-is. Please report this to the AutoGraph team. When filing the bug, set the verbosity to 10 (on Linux, `export AUTOGRAPH_VERBOSITY=10`) and attach the full output. Cause: No module named 'tensorflow_core.contrib'\n",
      "WARNING: Entity <function Function._initialize_uninitialized_variables.<locals>.initialize_variables at 0x7fb94020b6a8> could not be transformed and will be executed as-is. Please report this to the AutoGraph team. When filing the bug, set the verbosity to 10 (on Linux, `export AUTOGRAPH_VERBOSITY=10`) and attach the full output. Cause: No module named 'tensorflow_core.contrib'\n"
     ]
    },
    {
     "name": "stderr",
     "output_type": "stream",
     "text": [
      "W0608 20:52:19.133080 140437208413952 ag_logging.py:145] Entity <function Function._initialize_uninitialized_variables.<locals>.initialize_variables at 0x7fb8ec6a5d90> could not be transformed and will be executed as-is. Please report this to the AutoGraph team. When filing the bug, set the verbosity to 10 (on Linux, `export AUTOGRAPH_VERBOSITY=10`) and attach the full output. Cause: No module named 'tensorflow_core.contrib'\n",
      "W0608 20:52:19.154145 140437208413952 ag_logging.py:145] Entity <function Function._initialize_uninitialized_variables.<locals>.initialize_variables at 0x7fb8c40fb620> could not be transformed and will be executed as-is. Please report this to the AutoGraph team. When filing the bug, set the verbosity to 10 (on Linux, `export AUTOGRAPH_VERBOSITY=10`) and attach the full output. Cause: No module named 'tensorflow_core.contrib'\n"
     ]
    },
    {
     "name": "stdout",
     "output_type": "stream",
     "text": [
      "WARNING: Entity <function Function._initialize_uninitialized_variables.<locals>.initialize_variables at 0x7fb8ec6a5d90> could not be transformed and will be executed as-is. Please report this to the AutoGraph team. When filing the bug, set the verbosity to 10 (on Linux, `export AUTOGRAPH_VERBOSITY=10`) and attach the full output. Cause: No module named 'tensorflow_core.contrib'\n",
      "WARNING: Entity <function Function._initialize_uninitialized_variables.<locals>.initialize_variables at 0x7fb8c40fb620> could not be transformed and will be executed as-is. Please report this to the AutoGraph team. When filing the bug, set the verbosity to 10 (on Linux, `export AUTOGRAPH_VERBOSITY=10`) and attach the full output. Cause: No module named 'tensorflow_core.contrib'\n"
     ]
    },
    {
     "name": "stderr",
     "output_type": "stream",
     "text": [
      "W0608 20:52:19.208225 140437208413952 ag_logging.py:145] Entity <function Function._initialize_uninitialized_variables.<locals>.initialize_variables at 0x7fb8c40ec378> could not be transformed and will be executed as-is. Please report this to the AutoGraph team. When filing the bug, set the verbosity to 10 (on Linux, `export AUTOGRAPH_VERBOSITY=10`) and attach the full output. Cause: No module named 'tensorflow_core.contrib'\n",
      "W0608 20:52:19.224849 140437208413952 ag_logging.py:145] Entity <function canonicalize_signatures.<locals>.signature_wrapper at 0x7fb94020b6a8> could not be transformed and will be executed as-is. Please report this to the AutoGraph team. When filing the bug, set the verbosity to 10 (on Linux, `export AUTOGRAPH_VERBOSITY=10`) and attach the full output. Cause: No module named 'tensorflow_core.contrib'\n",
      "W0608 20:52:19.242597 140437208413952 ag_logging.py:145] Entity <function Function._initialize_uninitialized_variables.<locals>.initialize_variables at 0x7fb8c40ec9d8> could not be transformed and will be executed as-is. Please report this to the AutoGraph team. When filing the bug, set the verbosity to 10 (on Linux, `export AUTOGRAPH_VERBOSITY=10`) and attach the full output. Cause: No module named 'tensorflow_core.contrib'\n"
     ]
    },
    {
     "name": "stdout",
     "output_type": "stream",
     "text": [
      "WARNING: Entity <function Function._initialize_uninitialized_variables.<locals>.initialize_variables at 0x7fb8c40ec378> could not be transformed and will be executed as-is. Please report this to the AutoGraph team. When filing the bug, set the verbosity to 10 (on Linux, `export AUTOGRAPH_VERBOSITY=10`) and attach the full output. Cause: No module named 'tensorflow_core.contrib'\n",
      "WARNING: Entity <function canonicalize_signatures.<locals>.signature_wrapper at 0x7fb94020b6a8> could not be transformed and will be executed as-is. Please report this to the AutoGraph team. When filing the bug, set the verbosity to 10 (on Linux, `export AUTOGRAPH_VERBOSITY=10`) and attach the full output. Cause: No module named 'tensorflow_core.contrib'\n",
      "WARNING: Entity <function Function._initialize_uninitialized_variables.<locals>.initialize_variables at 0x7fb8c40ec9d8> could not be transformed and will be executed as-is. Please report this to the AutoGraph team. When filing the bug, set the verbosity to 10 (on Linux, `export AUTOGRAPH_VERBOSITY=10`) and attach the full output. Cause: No module named 'tensorflow_core.contrib'\n",
      "1084/1085 [============================>.] - ETA: 0s - loss: 0.0026 - mean_PSNR: 27.1388\n",
      "Learning rate for epoch 29 is 0.00019999999494757503\n",
      "1085/1085 [==============================] - 98s 91ms/step - loss: 0.0026 - mean_PSNR: 27.1388 - val_loss: 0.0028 - val_mean_PSNR: 26.8241\n",
      "Epoch 30/300\n",
      "1084/1085 [============================>.] - ETA: 0s - loss: 0.0026 - mean_PSNR: 27.1771\n",
      "Learning rate for epoch 30 is 0.00019999999494757503\n",
      "1085/1085 [==============================] - 94s 87ms/step - loss: 0.0026 - mean_PSNR: 27.1772 - val_loss: 0.0028 - val_mean_PSNR: 26.8633\n",
      "Epoch 31/300\n",
      "1084/1085 [============================>.] - ETA: 0s - loss: 0.0026 - mean_PSNR: 27.2083\n",
      "Learning rate for epoch 31 is 4.999999873689376e-05\n",
      "1085/1085 [==============================] - 94s 87ms/step - loss: 0.0026 - mean_PSNR: 27.2083 - val_loss: 0.0028 - val_mean_PSNR: 26.9341\n",
      "Epoch 32/300\n",
      "1084/1085 [============================>.] - ETA: 0s - loss: 0.0026 - mean_PSNR: 27.2788\n",
      "Learning rate for epoch 32 is 0.00019999999494757503\n",
      "1085/1085 [==============================] - 94s 87ms/step - loss: 0.0026 - mean_PSNR: 27.2789 - val_loss: 0.0027 - val_mean_PSNR: 26.9776\n",
      "Epoch 33/300\n",
      "1084/1085 [============================>.] - ETA: 0s - loss: 0.0025 - mean_PSNR: 27.3215\n",
      "Learning rate for epoch 33 is 4.999999873689376e-05\n",
      "1085/1085 [==============================] - 94s 87ms/step - loss: 0.0025 - mean_PSNR: 27.3215 - val_loss: 0.0027 - val_mean_PSNR: 26.9946\n",
      "Epoch 34/300\n",
      "1084/1085 [============================>.] - ETA: 0s - loss: 0.0025 - mean_PSNR: 27.3758\n",
      "Learning rate for epoch 34 is 0.00019999999494757503\n",
      "1085/1085 [==============================] - 94s 87ms/step - loss: 0.0025 - mean_PSNR: 27.3758 - val_loss: 0.0027 - val_mean_PSNR: 27.0743\n",
      "Epoch 35/300\n",
      "1084/1085 [============================>.] - ETA: 0s - loss: 0.0025 - mean_PSNR: 27.4089\n",
      "Learning rate for epoch 35 is 0.00019999999494757503\n",
      "1085/1085 [==============================] - 95s 88ms/step - loss: 0.0025 - mean_PSNR: 27.4088 - val_loss: 0.0027 - val_mean_PSNR: 27.1006\n",
      "Epoch 36/300\n",
      "1084/1085 [============================>.] - ETA: 0s - loss: 0.0025 - mean_PSNR: 27.4440\n",
      "Learning rate for epoch 36 is 4.999999873689376e-05\n",
      "1085/1085 [==============================] - 94s 87ms/step - loss: 0.0025 - mean_PSNR: 27.4440 - val_loss: 0.0027 - val_mean_PSNR: 27.1311\n",
      "Epoch 37/300\n",
      "1084/1085 [============================>.] - ETA: 0s - loss: 0.0025 - mean_PSNR: 27.4624\n",
      "Learning rate for epoch 37 is 0.00019999999494757503\n",
      "1085/1085 [==============================] - 94s 87ms/step - loss: 0.0025 - mean_PSNR: 27.4626 - val_loss: 0.0026 - val_mean_PSNR: 27.1886\n",
      "Epoch 38/300\n",
      "1084/1085 [============================>.] - ETA: 0s - loss: 0.0024 - mean_PSNR: 27.5261\n",
      "Learning rate for epoch 38 is 4.999999873689376e-05\n",
      "1085/1085 [==============================] - 94s 87ms/step - loss: 0.0024 - mean_PSNR: 27.5261 - val_loss: 0.0026 - val_mean_PSNR: 27.1972\n",
      "Epoch 39/300\n",
      "1084/1085 [============================>.] - ETA: 0s - loss: 0.0024 - mean_PSNR: 27.5246\n",
      "Learning rate for epoch 39 is 0.00019999999494757503\n",
      "1085/1085 [==============================] - 94s 87ms/step - loss: 0.0024 - mean_PSNR: 27.5245 - val_loss: 0.0026 - val_mean_PSNR: 27.2716\n",
      "Epoch 40/300\n",
      "1084/1085 [============================>.] - ETA: 0s - loss: 0.0024 - mean_PSNR: 27.5925\n",
      "Learning rate for epoch 40 is 0.00019999999494757503\n",
      "1085/1085 [==============================] - 94s 87ms/step - loss: 0.0024 - mean_PSNR: 27.5925 - val_loss: 0.0026 - val_mean_PSNR: 27.2840\n",
      "Epoch 41/300\n",
      "1084/1085 [============================>.] - ETA: 0s - loss: 0.0024 - mean_PSNR: 27.6230\n",
      "Learning rate for epoch 41 is 4.999999873689376e-05\n",
      "1085/1085 [==============================] - 94s 87ms/step - loss: 0.0024 - mean_PSNR: 27.6229 - val_loss: 0.0025 - val_mean_PSNR: 27.3330\n",
      "Epoch 42/300\n",
      "1084/1085 [============================>.] - ETA: 0s - loss: 0.0024 - mean_PSNR: 27.6401\n",
      "Learning rate for epoch 42 is 0.00019999999494757503\n",
      "1085/1085 [==============================] - 94s 87ms/step - loss: 0.0024 - mean_PSNR: 27.6401 - val_loss: 0.0025 - val_mean_PSNR: 27.3690\n",
      "Epoch 43/300\n",
      "1084/1085 [============================>.] - ETA: 0s - loss: 0.0023 - mean_PSNR: 27.6887\n",
      "Learning rate for epoch 43 is 4.999999873689376e-05\n",
      "1085/1085 [==============================] - 95s 87ms/step - loss: 0.0023 - mean_PSNR: 27.6888 - val_loss: 0.0025 - val_mean_PSNR: 27.3874\n",
      "Epoch 44/300\n",
      " 219/1085 [=====>........................] - ETA: 55s - loss: 0.0024 - mean_PSNR: 27.5798\n",
      "Epoch 00044: saving model to /home/ubuntu/cs230/models/automap_fastmri/2019-06-08_13:06:26/cp-0044.ckpt\n"
     ]
    },
    {
     "name": "stderr",
     "output_type": "stream",
     "text": [
      "W0608 21:15:19.778940 140437208413952 ag_logging.py:145] Entity <function Function._initialize_uninitialized_variables.<locals>.initialize_variables at 0x7fb940232950> could not be transformed and will be executed as-is. Please report this to the AutoGraph team. When filing the bug, set the verbosity to 10 (on Linux, `export AUTOGRAPH_VERBOSITY=10`) and attach the full output. Cause: No module named 'tensorflow_core.contrib'\n",
      "W0608 21:15:19.788184 140437208413952 ag_logging.py:145] Entity <function Function._initialize_uninitialized_variables.<locals>.initialize_variables at 0x7fb94016f9d8> could not be transformed and will be executed as-is. Please report this to the AutoGraph team. When filing the bug, set the verbosity to 10 (on Linux, `export AUTOGRAPH_VERBOSITY=10`) and attach the full output. Cause: No module named 'tensorflow_core.contrib'\n",
      "W0608 21:15:19.800785 140437208413952 ag_logging.py:145] Entity <function Function._initialize_uninitialized_variables.<locals>.initialize_variables at 0x7fb9402a18c8> could not be transformed and will be executed as-is. Please report this to the AutoGraph team. When filing the bug, set the verbosity to 10 (on Linux, `export AUTOGRAPH_VERBOSITY=10`) and attach the full output. Cause: No module named 'tensorflow_core.contrib'\n",
      "W0608 21:15:19.809512 140437208413952 ag_logging.py:145] Entity <function Function._initialize_uninitialized_variables.<locals>.initialize_variables at 0x7fb940054268> could not be transformed and will be executed as-is. Please report this to the AutoGraph team. When filing the bug, set the verbosity to 10 (on Linux, `export AUTOGRAPH_VERBOSITY=10`) and attach the full output. Cause: No module named 'tensorflow_core.contrib'\n",
      "W0608 21:15:19.813181 140437208413952 ag_logging.py:145] Entity <bound method L1L2.__call__ of <tensorflow.python.keras.regularizers.L1L2 object at 0x7fb9403e3fd0>> could not be transformed and will be executed as-is. Please report this to the AutoGraph team. When filing the bug, set the verbosity to 10 (on Linux, `export AUTOGRAPH_VERBOSITY=10`) and attach the full output. Cause: No module named 'tensorflow_core.contrib'\n",
      "W0608 21:15:19.825576 140437208413952 ag_logging.py:145] Entity <function Function._initialize_uninitialized_variables.<locals>.initialize_variables at 0x7fb8c4357730> could not be transformed and will be executed as-is. Please report this to the AutoGraph team. When filing the bug, set the verbosity to 10 (on Linux, `export AUTOGRAPH_VERBOSITY=10`) and attach the full output. Cause: No module named 'tensorflow_core.contrib'\n"
     ]
    },
    {
     "name": "stdout",
     "output_type": "stream",
     "text": [
      "WARNING: Entity <function Function._initialize_uninitialized_variables.<locals>.initialize_variables at 0x7fb940232950> could not be transformed and will be executed as-is. Please report this to the AutoGraph team. When filing the bug, set the verbosity to 10 (on Linux, `export AUTOGRAPH_VERBOSITY=10`) and attach the full output. Cause: No module named 'tensorflow_core.contrib'\n",
      "WARNING: Entity <function Function._initialize_uninitialized_variables.<locals>.initialize_variables at 0x7fb94016f9d8> could not be transformed and will be executed as-is. Please report this to the AutoGraph team. When filing the bug, set the verbosity to 10 (on Linux, `export AUTOGRAPH_VERBOSITY=10`) and attach the full output. Cause: No module named 'tensorflow_core.contrib'\n",
      "WARNING: Entity <function Function._initialize_uninitialized_variables.<locals>.initialize_variables at 0x7fb9402a18c8> could not be transformed and will be executed as-is. Please report this to the AutoGraph team. When filing the bug, set the verbosity to 10 (on Linux, `export AUTOGRAPH_VERBOSITY=10`) and attach the full output. Cause: No module named 'tensorflow_core.contrib'\n",
      "WARNING: Entity <function Function._initialize_uninitialized_variables.<locals>.initialize_variables at 0x7fb940054268> could not be transformed and will be executed as-is. Please report this to the AutoGraph team. When filing the bug, set the verbosity to 10 (on Linux, `export AUTOGRAPH_VERBOSITY=10`) and attach the full output. Cause: No module named 'tensorflow_core.contrib'\n",
      "WARNING: Entity <bound method L1L2.__call__ of <tensorflow.python.keras.regularizers.L1L2 object at 0x7fb9403e3fd0>> could not be transformed and will be executed as-is. Please report this to the AutoGraph team. When filing the bug, set the verbosity to 10 (on Linux, `export AUTOGRAPH_VERBOSITY=10`) and attach the full output. Cause: No module named 'tensorflow_core.contrib'\n",
      "WARNING: Entity <function Function._initialize_uninitialized_variables.<locals>.initialize_variables at 0x7fb8c4357730> could not be transformed and will be executed as-is. Please report this to the AutoGraph team. When filing the bug, set the verbosity to 10 (on Linux, `export AUTOGRAPH_VERBOSITY=10`) and attach the full output. Cause: No module named 'tensorflow_core.contrib'\n"
     ]
    },
    {
     "name": "stderr",
     "output_type": "stream",
     "text": [
      "W0608 21:15:19.838197 140437208413952 ag_logging.py:145] Entity <function Function._initialize_uninitialized_variables.<locals>.initialize_variables at 0x7fb92878f7b8> could not be transformed and will be executed as-is. Please report this to the AutoGraph team. When filing the bug, set the verbosity to 10 (on Linux, `export AUTOGRAPH_VERBOSITY=10`) and attach the full output. Cause: No module named 'tensorflow_core.contrib'\n"
     ]
    },
    {
     "name": "stdout",
     "output_type": "stream",
     "text": [
      "WARNING: Entity <function Function._initialize_uninitialized_variables.<locals>.initialize_variables at 0x7fb92878f7b8> could not be transformed and will be executed as-is. Please report this to the AutoGraph team. When filing the bug, set the verbosity to 10 (on Linux, `export AUTOGRAPH_VERBOSITY=10`) and attach the full output. Cause: No module named 'tensorflow_core.contrib'\n"
     ]
    },
    {
     "name": "stderr",
     "output_type": "stream",
     "text": [
      "W0608 21:15:20.036039 140437208413952 ag_logging.py:145] Entity <function Function._initialize_uninitialized_variables.<locals>.initialize_variables at 0x7fb9401d4ae8> could not be transformed and will be executed as-is. Please report this to the AutoGraph team. When filing the bug, set the verbosity to 10 (on Linux, `export AUTOGRAPH_VERBOSITY=10`) and attach the full output. Cause: No module named 'tensorflow_core.contrib'\n"
     ]
    },
    {
     "name": "stdout",
     "output_type": "stream",
     "text": [
      "WARNING: Entity <function Function._initialize_uninitialized_variables.<locals>.initialize_variables at 0x7fb9401d4ae8> could not be transformed and will be executed as-is. Please report this to the AutoGraph team. When filing the bug, set the verbosity to 10 (on Linux, `export AUTOGRAPH_VERBOSITY=10`) and attach the full output. Cause: No module named 'tensorflow_core.contrib'\n"
     ]
    },
    {
     "name": "stderr",
     "output_type": "stream",
     "text": [
      "W0608 21:15:20.046612 140437208413952 ag_logging.py:145] Entity <function Function._initialize_uninitialized_variables.<locals>.initialize_variables at 0x7fb9401d4f28> could not be transformed and will be executed as-is. Please report this to the AutoGraph team. When filing the bug, set the verbosity to 10 (on Linux, `export AUTOGRAPH_VERBOSITY=10`) and attach the full output. Cause: No module named 'tensorflow_core.contrib'\n",
      "W0608 21:15:20.154485 140437208413952 ag_logging.py:145] Entity <function Function._initialize_uninitialized_variables.<locals>.initialize_variables at 0x7fb940088840> could not be transformed and will be executed as-is. Please report this to the AutoGraph team. When filing the bug, set the verbosity to 10 (on Linux, `export AUTOGRAPH_VERBOSITY=10`) and attach the full output. Cause: No module named 'tensorflow_core.contrib'\n",
      "W0608 21:15:20.175325 140437208413952 ag_logging.py:145] Entity <function Function._initialize_uninitialized_variables.<locals>.initialize_variables at 0x7fb8c40fbe18> could not be transformed and will be executed as-is. Please report this to the AutoGraph team. When filing the bug, set the verbosity to 10 (on Linux, `export AUTOGRAPH_VERBOSITY=10`) and attach the full output. Cause: No module named 'tensorflow_core.contrib'\n",
      "W0608 21:15:20.230342 140437208413952 ag_logging.py:145] Entity <function Function._initialize_uninitialized_variables.<locals>.initialize_variables at 0x7fb8c40ec8c8> could not be transformed and will be executed as-is. Please report this to the AutoGraph team. When filing the bug, set the verbosity to 10 (on Linux, `export AUTOGRAPH_VERBOSITY=10`) and attach the full output. Cause: No module named 'tensorflow_core.contrib'\n"
     ]
    },
    {
     "name": "stdout",
     "output_type": "stream",
     "text": [
      "WARNING: Entity <function Function._initialize_uninitialized_variables.<locals>.initialize_variables at 0x7fb9401d4f28> could not be transformed and will be executed as-is. Please report this to the AutoGraph team. When filing the bug, set the verbosity to 10 (on Linux, `export AUTOGRAPH_VERBOSITY=10`) and attach the full output. Cause: No module named 'tensorflow_core.contrib'\n",
      "WARNING: Entity <function Function._initialize_uninitialized_variables.<locals>.initialize_variables at 0x7fb940088840> could not be transformed and will be executed as-is. Please report this to the AutoGraph team. When filing the bug, set the verbosity to 10 (on Linux, `export AUTOGRAPH_VERBOSITY=10`) and attach the full output. Cause: No module named 'tensorflow_core.contrib'\n",
      "WARNING: Entity <function Function._initialize_uninitialized_variables.<locals>.initialize_variables at 0x7fb8c40fbe18> could not be transformed and will be executed as-is. Please report this to the AutoGraph team. When filing the bug, set the verbosity to 10 (on Linux, `export AUTOGRAPH_VERBOSITY=10`) and attach the full output. Cause: No module named 'tensorflow_core.contrib'\n",
      "WARNING: Entity <function Function._initialize_uninitialized_variables.<locals>.initialize_variables at 0x7fb8c40ec8c8> could not be transformed and will be executed as-is. Please report this to the AutoGraph team. When filing the bug, set the verbosity to 10 (on Linux, `export AUTOGRAPH_VERBOSITY=10`) and attach the full output. Cause: No module named 'tensorflow_core.contrib'\n"
     ]
    },
    {
     "name": "stderr",
     "output_type": "stream",
     "text": [
      "W0608 21:15:20.246608 140437208413952 ag_logging.py:145] Entity <function canonicalize_signatures.<locals>.signature_wrapper at 0x7fb9401d4f28> could not be transformed and will be executed as-is. Please report this to the AutoGraph team. When filing the bug, set the verbosity to 10 (on Linux, `export AUTOGRAPH_VERBOSITY=10`) and attach the full output. Cause: No module named 'tensorflow_core.contrib'\n"
     ]
    },
    {
     "name": "stdout",
     "output_type": "stream",
     "text": [
      "WARNING: Entity <function canonicalize_signatures.<locals>.signature_wrapper at 0x7fb9401d4f28> could not be transformed and will be executed as-is. Please report this to the AutoGraph team. When filing the bug, set the verbosity to 10 (on Linux, `export AUTOGRAPH_VERBOSITY=10`) and attach the full output. Cause: No module named 'tensorflow_core.contrib'\n"
     ]
    },
    {
     "name": "stderr",
     "output_type": "stream",
     "text": [
      "W0608 21:15:20.264495 140437208413952 ag_logging.py:145] Entity <function Function._initialize_uninitialized_variables.<locals>.initialize_variables at 0x7fb8a07d17b8> could not be transformed and will be executed as-is. Please report this to the AutoGraph team. When filing the bug, set the verbosity to 10 (on Linux, `export AUTOGRAPH_VERBOSITY=10`) and attach the full output. Cause: No module named 'tensorflow_core.contrib'\n"
     ]
    },
    {
     "name": "stdout",
     "output_type": "stream",
     "text": [
      "WARNING: Entity <function Function._initialize_uninitialized_variables.<locals>.initialize_variables at 0x7fb8a07d17b8> could not be transformed and will be executed as-is. Please report this to the AutoGraph team. When filing the bug, set the verbosity to 10 (on Linux, `export AUTOGRAPH_VERBOSITY=10`) and attach the full output. Cause: No module named 'tensorflow_core.contrib'\n",
      "1084/1085 [============================>.] - ETA: 0s - loss: 0.0023 - mean_PSNR: 27.7030\n",
      "Learning rate for epoch 44 is 0.00019999999494757503\n",
      "1085/1085 [==============================] - 98s 91ms/step - loss: 0.0023 - mean_PSNR: 27.7030 - val_loss: 0.0025 - val_mean_PSNR: 27.3664\n",
      "Epoch 45/300\n",
      "1084/1085 [============================>.] - ETA: 0s - loss: 0.0023 - mean_PSNR: 27.6942\n",
      "Learning rate for epoch 45 is 4.999999873689376e-05\n",
      "1085/1085 [==============================] - 94s 87ms/step - loss: 0.0023 - mean_PSNR: 27.6941 - val_loss: 0.0025 - val_mean_PSNR: 27.3987\n",
      "Epoch 46/300\n",
      "1084/1085 [============================>.] - ETA: 0s - loss: 0.0023 - mean_PSNR: 27.7607\n",
      "Learning rate for epoch 46 is 0.00019999999494757503\n",
      "1085/1085 [==============================] - 94s 87ms/step - loss: 0.0023 - mean_PSNR: 27.7605 - val_loss: 0.0025 - val_mean_PSNR: 27.4103\n",
      "Epoch 47/300\n",
      "1084/1085 [============================>.] - ETA: 0s - loss: 0.0023 - mean_PSNR: 27.7572\n",
      "Learning rate for epoch 47 is 0.00019999999494757503\n",
      "1085/1085 [==============================] - 94s 87ms/step - loss: 0.0023 - mean_PSNR: 27.7572 - val_loss: 0.0025 - val_mean_PSNR: 27.4571\n",
      "Epoch 48/300\n",
      "1084/1085 [============================>.] - ETA: 0s - loss: 0.0023 - mean_PSNR: 27.8024\n",
      "Learning rate for epoch 48 is 0.00019999999494757503\n",
      "1085/1085 [==============================] - 94s 87ms/step - loss: 0.0023 - mean_PSNR: 27.8023 - val_loss: 0.0025 - val_mean_PSNR: 27.4634\n",
      "Epoch 49/300\n",
      "1084/1085 [============================>.] - ETA: 0s - loss: 0.0023 - mean_PSNR: 27.8169\n",
      "Learning rate for epoch 49 is 4.999999873689376e-05\n",
      "1085/1085 [==============================] - 94s 87ms/step - loss: 0.0023 - mean_PSNR: 27.8167 - val_loss: 0.0025 - val_mean_PSNR: 27.5012\n",
      "Epoch 50/300\n",
      "1084/1085 [============================>.] - ETA: 0s - loss: 0.0023 - mean_PSNR: 27.8463\n",
      "Learning rate for epoch 50 is 0.00019999999494757503\n",
      "1085/1085 [==============================] - 95s 87ms/step - loss: 0.0023 - mean_PSNR: 27.8461 - val_loss: 0.0024 - val_mean_PSNR: 27.5283\n",
      "Epoch 51/300\n",
      "1084/1085 [============================>.] - ETA: 0s - loss: 0.0022 - mean_PSNR: 28.0644\n",
      "Learning rate for epoch 51 is 9.999999747378752e-05\n",
      "1085/1085 [==============================] - 94s 87ms/step - loss: 0.0022 - mean_PSNR: 28.0644 - val_loss: 0.0024 - val_mean_PSNR: 27.7388\n",
      "Epoch 52/300\n",
      "1084/1085 [============================>.] - ETA: 0s - loss: 0.0022 - mean_PSNR: 28.1285\n",
      "Learning rate for epoch 52 is 9.999999747378752e-05\n",
      "1085/1085 [==============================] - 94s 87ms/step - loss: 0.0022 - mean_PSNR: 28.1283 - val_loss: 0.0023 - val_mean_PSNR: 27.7775\n",
      "Epoch 53/300\n",
      "1084/1085 [============================>.] - ETA: 0s - loss: 0.0022 - mean_PSNR: 28.1639\n",
      "Learning rate for epoch 53 is 2.499999936844688e-05\n",
      "1085/1085 [==============================] - 94s 87ms/step - loss: 0.0022 - mean_PSNR: 28.1638 - val_loss: 0.0023 - val_mean_PSNR: 27.7999\n",
      "Epoch 54/300\n",
      "1084/1085 [============================>.] - ETA: 0s - loss: 0.0021 - mean_PSNR: 28.1903\n",
      "Learning rate for epoch 54 is 9.999999747378752e-05\n",
      "1085/1085 [==============================] - 95s 87ms/step - loss: 0.0021 - mean_PSNR: 28.1901 - val_loss: 0.0023 - val_mean_PSNR: 27.8393\n",
      "Epoch 55/300\n",
      "1084/1085 [============================>.] - ETA: 0s - loss: 0.0021 - mean_PSNR: 28.2039\n",
      "Learning rate for epoch 55 is 2.499999936844688e-05\n",
      "1085/1085 [==============================] - 95s 87ms/step - loss: 0.0021 - mean_PSNR: 28.2038 - val_loss: 0.0023 - val_mean_PSNR: 27.8421\n",
      "Epoch 56/300\n",
      "1084/1085 [============================>.] - ETA: 0s - loss: 0.0021 - mean_PSNR: 28.2156\n",
      "Learning rate for epoch 56 is 9.999999747378752e-05\n",
      "1085/1085 [==============================] - 96s 89ms/step - loss: 0.0021 - mean_PSNR: 28.2155 - val_loss: 0.0023 - val_mean_PSNR: 27.8435\n",
      "Epoch 57/300\n",
      "1084/1085 [============================>.] - ETA: 0s - loss: 0.0021 - mean_PSNR: 28.2296\n",
      "Learning rate for epoch 57 is 2.499999936844688e-05\n",
      "1085/1085 [==============================] - 94s 87ms/step - loss: 0.0021 - mean_PSNR: 28.2296 - val_loss: 0.0023 - val_mean_PSNR: 27.8646\n",
      "Epoch 58/300\n",
      " 654/1085 [=================>............] - ETA: 27s - loss: 0.0021 - mean_PSNR: 28.2518\n",
      "Epoch 00058: saving model to /home/ubuntu/cs230/models/automap_fastmri/2019-06-08_13:06:26/cp-0058.ckpt\n"
     ]
    },
    {
     "name": "stderr",
     "output_type": "stream",
     "text": [
      "W0608 21:37:57.343979 140437208413952 ag_logging.py:145] Entity <function Function._initialize_uninitialized_variables.<locals>.initialize_variables at 0x7fb940054048> could not be transformed and will be executed as-is. Please report this to the AutoGraph team. When filing the bug, set the verbosity to 10 (on Linux, `export AUTOGRAPH_VERBOSITY=10`) and attach the full output. Cause: No module named 'tensorflow_core.contrib'\n",
      "W0608 21:37:57.352942 140437208413952 ag_logging.py:145] Entity <function Function._initialize_uninitialized_variables.<locals>.initialize_variables at 0x7fb94016f9d8> could not be transformed and will be executed as-is. Please report this to the AutoGraph team. When filing the bug, set the verbosity to 10 (on Linux, `export AUTOGRAPH_VERBOSITY=10`) and attach the full output. Cause: No module named 'tensorflow_core.contrib'\n",
      "W0608 21:37:57.365377 140437208413952 ag_logging.py:145] Entity <function Function._initialize_uninitialized_variables.<locals>.initialize_variables at 0x7fb94020b378> could not be transformed and will be executed as-is. Please report this to the AutoGraph team. When filing the bug, set the verbosity to 10 (on Linux, `export AUTOGRAPH_VERBOSITY=10`) and attach the full output. Cause: No module named 'tensorflow_core.contrib'\n",
      "W0608 21:37:57.373688 140437208413952 ag_logging.py:145] Entity <function Function._initialize_uninitialized_variables.<locals>.initialize_variables at 0x7fb940255400> could not be transformed and will be executed as-is. Please report this to the AutoGraph team. When filing the bug, set the verbosity to 10 (on Linux, `export AUTOGRAPH_VERBOSITY=10`) and attach the full output. Cause: No module named 'tensorflow_core.contrib'\n",
      "W0608 21:37:57.377193 140437208413952 ag_logging.py:145] Entity <bound method L1L2.__call__ of <tensorflow.python.keras.regularizers.L1L2 object at 0x7fb9403e3fd0>> could not be transformed and will be executed as-is. Please report this to the AutoGraph team. When filing the bug, set the verbosity to 10 (on Linux, `export AUTOGRAPH_VERBOSITY=10`) and attach the full output. Cause: No module named 'tensorflow_core.contrib'\n",
      "W0608 21:37:57.388753 140437208413952 ag_logging.py:145] Entity <function Function._initialize_uninitialized_variables.<locals>.initialize_variables at 0x7fb8ec6a5ae8> could not be transformed and will be executed as-is. Please report this to the AutoGraph team. When filing the bug, set the verbosity to 10 (on Linux, `export AUTOGRAPH_VERBOSITY=10`) and attach the full output. Cause: No module named 'tensorflow_core.contrib'\n",
      "W0608 21:37:57.399762 140437208413952 ag_logging.py:145] Entity <function Function._initialize_uninitialized_variables.<locals>.initialize_variables at 0x7fb92878f510> could not be transformed and will be executed as-is. Please report this to the AutoGraph team. When filing the bug, set the verbosity to 10 (on Linux, `export AUTOGRAPH_VERBOSITY=10`) and attach the full output. Cause: No module named 'tensorflow_core.contrib'\n"
     ]
    },
    {
     "name": "stdout",
     "output_type": "stream",
     "text": [
      "WARNING: Entity <function Function._initialize_uninitialized_variables.<locals>.initialize_variables at 0x7fb940054048> could not be transformed and will be executed as-is. Please report this to the AutoGraph team. When filing the bug, set the verbosity to 10 (on Linux, `export AUTOGRAPH_VERBOSITY=10`) and attach the full output. Cause: No module named 'tensorflow_core.contrib'\n",
      "WARNING: Entity <function Function._initialize_uninitialized_variables.<locals>.initialize_variables at 0x7fb94016f9d8> could not be transformed and will be executed as-is. Please report this to the AutoGraph team. When filing the bug, set the verbosity to 10 (on Linux, `export AUTOGRAPH_VERBOSITY=10`) and attach the full output. Cause: No module named 'tensorflow_core.contrib'\n",
      "WARNING: Entity <function Function._initialize_uninitialized_variables.<locals>.initialize_variables at 0x7fb94020b378> could not be transformed and will be executed as-is. Please report this to the AutoGraph team. When filing the bug, set the verbosity to 10 (on Linux, `export AUTOGRAPH_VERBOSITY=10`) and attach the full output. Cause: No module named 'tensorflow_core.contrib'\n",
      "WARNING: Entity <function Function._initialize_uninitialized_variables.<locals>.initialize_variables at 0x7fb940255400> could not be transformed and will be executed as-is. Please report this to the AutoGraph team. When filing the bug, set the verbosity to 10 (on Linux, `export AUTOGRAPH_VERBOSITY=10`) and attach the full output. Cause: No module named 'tensorflow_core.contrib'\n",
      "WARNING: Entity <bound method L1L2.__call__ of <tensorflow.python.keras.regularizers.L1L2 object at 0x7fb9403e3fd0>> could not be transformed and will be executed as-is. Please report this to the AutoGraph team. When filing the bug, set the verbosity to 10 (on Linux, `export AUTOGRAPH_VERBOSITY=10`) and attach the full output. Cause: No module named 'tensorflow_core.contrib'\n",
      "WARNING: Entity <function Function._initialize_uninitialized_variables.<locals>.initialize_variables at 0x7fb8ec6a5ae8> could not be transformed and will be executed as-is. Please report this to the AutoGraph team. When filing the bug, set the verbosity to 10 (on Linux, `export AUTOGRAPH_VERBOSITY=10`) and attach the full output. Cause: No module named 'tensorflow_core.contrib'\n"
     ]
    },
    {
     "name": "stderr",
     "output_type": "stream",
     "text": [
      "W0608 21:37:57.431498 140437208413952 ag_logging.py:145] Entity <function Function._initialize_uninitialized_variables.<locals>.initialize_variables at 0x7fb8c40fbd90> could not be transformed and will be executed as-is. Please report this to the AutoGraph team. When filing the bug, set the verbosity to 10 (on Linux, `export AUTOGRAPH_VERBOSITY=10`) and attach the full output. Cause: No module named 'tensorflow_core.contrib'\n",
      "W0608 21:37:57.440640 140437208413952 ag_logging.py:145] Entity <function Function._initialize_uninitialized_variables.<locals>.initialize_variables at 0x7fb8ec2c28c8> could not be transformed and will be executed as-is. Please report this to the AutoGraph team. When filing the bug, set the verbosity to 10 (on Linux, `export AUTOGRAPH_VERBOSITY=10`) and attach the full output. Cause: No module named 'tensorflow_core.contrib'\n"
     ]
    },
    {
     "name": "stdout",
     "output_type": "stream",
     "text": [
      "WARNING: Entity <function Function._initialize_uninitialized_variables.<locals>.initialize_variables at 0x7fb92878f510> could not be transformed and will be executed as-is. Please report this to the AutoGraph team. When filing the bug, set the verbosity to 10 (on Linux, `export AUTOGRAPH_VERBOSITY=10`) and attach the full output. Cause: No module named 'tensorflow_core.contrib'\n",
      "WARNING: Entity <function Function._initialize_uninitialized_variables.<locals>.initialize_variables at 0x7fb8c40fbd90> could not be transformed and will be executed as-is. Please report this to the AutoGraph team. When filing the bug, set the verbosity to 10 (on Linux, `export AUTOGRAPH_VERBOSITY=10`) and attach the full output. Cause: No module named 'tensorflow_core.contrib'\n",
      "WARNING: Entity <function Function._initialize_uninitialized_variables.<locals>.initialize_variables at 0x7fb8ec2c28c8> could not be transformed and will be executed as-is. Please report this to the AutoGraph team. When filing the bug, set the verbosity to 10 (on Linux, `export AUTOGRAPH_VERBOSITY=10`) and attach the full output. Cause: No module named 'tensorflow_core.contrib'\n"
     ]
    },
    {
     "name": "stderr",
     "output_type": "stream",
     "text": [
      "W0608 21:37:57.543465 140437208413952 ag_logging.py:145] Entity <function Function._initialize_uninitialized_variables.<locals>.initialize_variables at 0x7fb928742488> could not be transformed and will be executed as-is. Please report this to the AutoGraph team. When filing the bug, set the verbosity to 10 (on Linux, `export AUTOGRAPH_VERBOSITY=10`) and attach the full output. Cause: No module named 'tensorflow_core.contrib'\n"
     ]
    },
    {
     "name": "stdout",
     "output_type": "stream",
     "text": [
      "WARNING: Entity <function Function._initialize_uninitialized_variables.<locals>.initialize_variables at 0x7fb928742488> could not be transformed and will be executed as-is. Please report this to the AutoGraph team. When filing the bug, set the verbosity to 10 (on Linux, `export AUTOGRAPH_VERBOSITY=10`) and attach the full output. Cause: No module named 'tensorflow_core.contrib'\n"
     ]
    },
    {
     "name": "stderr",
     "output_type": "stream",
     "text": [
      "W0608 21:37:57.563076 140437208413952 ag_logging.py:145] Entity <function Function._initialize_uninitialized_variables.<locals>.initialize_variables at 0x7fb8c452cbf8> could not be transformed and will be executed as-is. Please report this to the AutoGraph team. When filing the bug, set the verbosity to 10 (on Linux, `export AUTOGRAPH_VERBOSITY=10`) and attach the full output. Cause: No module named 'tensorflow_core.contrib'\n"
     ]
    },
    {
     "name": "stdout",
     "output_type": "stream",
     "text": [
      "WARNING: Entity <function Function._initialize_uninitialized_variables.<locals>.initialize_variables at 0x7fb8c452cbf8> could not be transformed and will be executed as-is. Please report this to the AutoGraph team. When filing the bug, set the verbosity to 10 (on Linux, `export AUTOGRAPH_VERBOSITY=10`) and attach the full output. Cause: No module named 'tensorflow_core.contrib'\n"
     ]
    },
    {
     "name": "stderr",
     "output_type": "stream",
     "text": [
      "W0608 21:37:57.614432 140437208413952 ag_logging.py:145] Entity <function Function._initialize_uninitialized_variables.<locals>.initialize_variables at 0x7fb940088840> could not be transformed and will be executed as-is. Please report this to the AutoGraph team. When filing the bug, set the verbosity to 10 (on Linux, `export AUTOGRAPH_VERBOSITY=10`) and attach the full output. Cause: No module named 'tensorflow_core.contrib'\n",
      "W0608 21:37:57.629732 140437208413952 ag_logging.py:145] Entity <function canonicalize_signatures.<locals>.signature_wrapper at 0x7fb92878f510> could not be transformed and will be executed as-is. Please report this to the AutoGraph team. When filing the bug, set the verbosity to 10 (on Linux, `export AUTOGRAPH_VERBOSITY=10`) and attach the full output. Cause: No module named 'tensorflow_core.contrib'\n",
      "W0608 21:37:57.646043 140437208413952 ag_logging.py:145] Entity <function Function._initialize_uninitialized_variables.<locals>.initialize_variables at 0x7fb8a1d56510> could not be transformed and will be executed as-is. Please report this to the AutoGraph team. When filing the bug, set the verbosity to 10 (on Linux, `export AUTOGRAPH_VERBOSITY=10`) and attach the full output. Cause: No module named 'tensorflow_core.contrib'\n"
     ]
    },
    {
     "name": "stdout",
     "output_type": "stream",
     "text": [
      "WARNING: Entity <function Function._initialize_uninitialized_variables.<locals>.initialize_variables at 0x7fb940088840> could not be transformed and will be executed as-is. Please report this to the AutoGraph team. When filing the bug, set the verbosity to 10 (on Linux, `export AUTOGRAPH_VERBOSITY=10`) and attach the full output. Cause: No module named 'tensorflow_core.contrib'\n",
      "WARNING: Entity <function canonicalize_signatures.<locals>.signature_wrapper at 0x7fb92878f510> could not be transformed and will be executed as-is. Please report this to the AutoGraph team. When filing the bug, set the verbosity to 10 (on Linux, `export AUTOGRAPH_VERBOSITY=10`) and attach the full output. Cause: No module named 'tensorflow_core.contrib'\n",
      "WARNING: Entity <function Function._initialize_uninitialized_variables.<locals>.initialize_variables at 0x7fb8a1d56510> could not be transformed and will be executed as-is. Please report this to the AutoGraph team. When filing the bug, set the verbosity to 10 (on Linux, `export AUTOGRAPH_VERBOSITY=10`) and attach the full output. Cause: No module named 'tensorflow_core.contrib'\n",
      "1084/1085 [============================>.] - ETA: 0s - loss: 0.0021 - mean_PSNR: 28.2408\n",
      "Learning rate for epoch 58 is 9.999999747378752e-05\n",
      "1085/1085 [==============================] - 99s 91ms/step - loss: 0.0021 - mean_PSNR: 28.2408 - val_loss: 0.0023 - val_mean_PSNR: 27.8811\n",
      "Epoch 59/300\n",
      "1084/1085 [============================>.] - ETA: 0s - loss: 0.0021 - mean_PSNR: 28.2457\n",
      "Learning rate for epoch 59 is 2.499999936844688e-05\n",
      "1085/1085 [==============================] - 95s 87ms/step - loss: 0.0021 - mean_PSNR: 28.2454 - val_loss: 0.0023 - val_mean_PSNR: 27.8916\n",
      "Epoch 60/300\n",
      "1084/1085 [============================>.] - ETA: 0s - loss: 0.0021 - mean_PSNR: 28.2589\n",
      "Learning rate for epoch 60 is 9.999999747378752e-05\n",
      "1085/1085 [==============================] - 95s 87ms/step - loss: 0.0021 - mean_PSNR: 28.2589 - val_loss: 0.0023 - val_mean_PSNR: 27.8917\n",
      "Epoch 61/300\n",
      "1084/1085 [============================>.] - ETA: 0s - loss: 0.0021 - mean_PSNR: 28.2714\n",
      "Learning rate for epoch 61 is 2.499999936844688e-05\n",
      "1085/1085 [==============================] - 94s 87ms/step - loss: 0.0021 - mean_PSNR: 28.2715 - val_loss: 0.0023 - val_mean_PSNR: 27.9007\n",
      "Epoch 62/300\n",
      "1084/1085 [============================>.] - ETA: 0s - loss: 0.0021 - mean_PSNR: 28.2788\n",
      "Learning rate for epoch 62 is 9.999999747378752e-05\n",
      "1085/1085 [==============================] - 95s 87ms/step - loss: 0.0021 - mean_PSNR: 28.2787 - val_loss: 0.0023 - val_mean_PSNR: 27.9074\n",
      "Epoch 63/300\n",
      "1084/1085 [============================>.] - ETA: 0s - loss: 0.0021 - mean_PSNR: 28.2822\n",
      "Learning rate for epoch 63 is 2.499999936844688e-05\n",
      "1085/1085 [==============================] - 95s 88ms/step - loss: 0.0021 - mean_PSNR: 28.2820 - val_loss: 0.0023 - val_mean_PSNR: 27.9184\n",
      "Epoch 64/300\n",
      "1084/1085 [============================>.] - ETA: 0s - loss: 0.0021 - mean_PSNR: 28.2924\n",
      "Learning rate for epoch 64 is 9.999999747378752e-05\n",
      "1085/1085 [==============================] - 95s 87ms/step - loss: 0.0021 - mean_PSNR: 28.2924 - val_loss: 0.0023 - val_mean_PSNR: 27.9355\n",
      "Epoch 65/300\n",
      "1084/1085 [============================>.] - ETA: 0s - loss: 0.0021 - mean_PSNR: 28.2972\n",
      "Learning rate for epoch 65 is 2.499999936844688e-05\n",
      "1085/1085 [==============================] - 94s 87ms/step - loss: 0.0021 - mean_PSNR: 28.2971 - val_loss: 0.0023 - val_mean_PSNR: 27.9399\n",
      "Epoch 66/300\n",
      "1084/1085 [============================>.] - ETA: 0s - loss: 0.0021 - mean_PSNR: 28.2974\n",
      "Learning rate for epoch 66 is 9.999999747378752e-05\n",
      "1085/1085 [==============================] - 95s 87ms/step - loss: 0.0021 - mean_PSNR: 28.2975 - val_loss: 0.0023 - val_mean_PSNR: 27.9258\n",
      "Epoch 67/300\n",
      "1084/1085 [============================>.] - ETA: 0s - loss: 0.0021 - mean_PSNR: 28.3029\n",
      "Learning rate for epoch 67 is 9.999999747378752e-05\n",
      "1085/1085 [==============================] - 95s 87ms/step - loss: 0.0021 - mean_PSNR: 28.3029 - val_loss: 0.0023 - val_mean_PSNR: 27.9340\n",
      "Epoch 68/300\n",
      "1084/1085 [============================>.] - ETA: 0s - loss: 0.0021 - mean_PSNR: 28.3147\n",
      "Learning rate for epoch 68 is 9.999999747378752e-05\n",
      "1085/1085 [==============================] - 95s 87ms/step - loss: 0.0021 - mean_PSNR: 28.3146 - val_loss: 0.0023 - val_mean_PSNR: 27.9547\n",
      "Epoch 69/300\n",
      "1084/1085 [============================>.] - ETA: 0s - loss: 0.0021 - mean_PSNR: 28.3227\n",
      "Learning rate for epoch 69 is 2.499999936844688e-05\n",
      "1085/1085 [==============================] - 94s 87ms/step - loss: 0.0021 - mean_PSNR: 28.3226 - val_loss: 0.0023 - val_mean_PSNR: 27.9560\n",
      "Epoch 70/300\n",
      "1084/1085 [============================>.] - ETA: 0s - loss: 0.0021 - mean_PSNR: 28.3241\n",
      "Learning rate for epoch 70 is 9.999999747378752e-05\n",
      "1085/1085 [==============================] - 94s 87ms/step - loss: 0.0021 - mean_PSNR: 28.3239 - val_loss: 0.0023 - val_mean_PSNR: 27.9464\n",
      "Epoch 71/300\n",
      "1084/1085 [============================>.] - ETA: 0s - loss: 0.0021 - mean_PSNR: 28.3264\n",
      "Learning rate for epoch 71 is 2.499999936844688e-05\n",
      "1085/1085 [==============================] - 94s 87ms/step - loss: 0.0021 - mean_PSNR: 28.3264 - val_loss: 0.0023 - val_mean_PSNR: 27.9530\n",
      "Epoch 72/300\n",
      "1084/1085 [============================>.] - ETA: 0s - loss: 0.0021 - mean_PSNR: 28.3308\n",
      "Learning rate for epoch 72 is 9.999999747378752e-05\n",
      "1085/1085 [==============================] - 94s 87ms/step - loss: 0.0021 - mean_PSNR: 28.3309 - val_loss: 0.0022 - val_mean_PSNR: 27.9767\n",
      "Epoch 73/300\n",
      "   4/1085 [..............................] - ETA: 1:29 - loss: 0.0022 - mean_PSNR: 28.0213\n",
      "Epoch 00073: saving model to /home/ubuntu/cs230/models/automap_fastmri/2019-06-08_13:06:26/cp-0073.ckpt\n"
     ]
    },
    {
     "name": "stderr",
     "output_type": "stream",
     "text": [
      "W0608 22:00:59.674691 140437208413952 ag_logging.py:145] Entity <function Function._initialize_uninitialized_variables.<locals>.initialize_variables at 0x7fb8a06769d8> could not be transformed and will be executed as-is. Please report this to the AutoGraph team. When filing the bug, set the verbosity to 10 (on Linux, `export AUTOGRAPH_VERBOSITY=10`) and attach the full output. Cause: No module named 'tensorflow_core.contrib'\n",
      "W0608 22:00:59.683694 140437208413952 ag_logging.py:145] Entity <function Function._initialize_uninitialized_variables.<locals>.initialize_variables at 0x7fb8a07d1d08> could not be transformed and will be executed as-is. Please report this to the AutoGraph team. When filing the bug, set the verbosity to 10 (on Linux, `export AUTOGRAPH_VERBOSITY=10`) and attach the full output. Cause: No module named 'tensorflow_core.contrib'\n",
      "W0608 22:00:59.696320 140437208413952 ag_logging.py:145] Entity <function Function._initialize_uninitialized_variables.<locals>.initialize_variables at 0x7fb940232510> could not be transformed and will be executed as-is. Please report this to the AutoGraph team. When filing the bug, set the verbosity to 10 (on Linux, `export AUTOGRAPH_VERBOSITY=10`) and attach the full output. Cause: No module named 'tensorflow_core.contrib'\n",
      "W0608 22:00:59.704861 140437208413952 ag_logging.py:145] Entity <function Function._initialize_uninitialized_variables.<locals>.initialize_variables at 0x7fb94016f048> could not be transformed and will be executed as-is. Please report this to the AutoGraph team. When filing the bug, set the verbosity to 10 (on Linux, `export AUTOGRAPH_VERBOSITY=10`) and attach the full output. Cause: No module named 'tensorflow_core.contrib'\n",
      "W0608 22:00:59.709054 140437208413952 ag_logging.py:145] Entity <bound method L1L2.__call__ of <tensorflow.python.keras.regularizers.L1L2 object at 0x7fb9403e3fd0>> could not be transformed and will be executed as-is. Please report this to the AutoGraph team. When filing the bug, set the verbosity to 10 (on Linux, `export AUTOGRAPH_VERBOSITY=10`) and attach the full output. Cause: No module named 'tensorflow_core.contrib'\n",
      "W0608 22:00:59.721091 140437208413952 ag_logging.py:145] Entity <function Function._initialize_uninitialized_variables.<locals>.initialize_variables at 0x7fb8ec6a5ae8> could not be transformed and will be executed as-is. Please report this to the AutoGraph team. When filing the bug, set the verbosity to 10 (on Linux, `export AUTOGRAPH_VERBOSITY=10`) and attach the full output. Cause: No module named 'tensorflow_core.contrib'\n"
     ]
    },
    {
     "name": "stdout",
     "output_type": "stream",
     "text": [
      "WARNING: Entity <function Function._initialize_uninitialized_variables.<locals>.initialize_variables at 0x7fb8a06769d8> could not be transformed and will be executed as-is. Please report this to the AutoGraph team. When filing the bug, set the verbosity to 10 (on Linux, `export AUTOGRAPH_VERBOSITY=10`) and attach the full output. Cause: No module named 'tensorflow_core.contrib'\n",
      "WARNING: Entity <function Function._initialize_uninitialized_variables.<locals>.initialize_variables at 0x7fb8a07d1d08> could not be transformed and will be executed as-is. Please report this to the AutoGraph team. When filing the bug, set the verbosity to 10 (on Linux, `export AUTOGRAPH_VERBOSITY=10`) and attach the full output. Cause: No module named 'tensorflow_core.contrib'\n",
      "WARNING: Entity <function Function._initialize_uninitialized_variables.<locals>.initialize_variables at 0x7fb940232510> could not be transformed and will be executed as-is. Please report this to the AutoGraph team. When filing the bug, set the verbosity to 10 (on Linux, `export AUTOGRAPH_VERBOSITY=10`) and attach the full output. Cause: No module named 'tensorflow_core.contrib'\n",
      "WARNING: Entity <function Function._initialize_uninitialized_variables.<locals>.initialize_variables at 0x7fb94016f048> could not be transformed and will be executed as-is. Please report this to the AutoGraph team. When filing the bug, set the verbosity to 10 (on Linux, `export AUTOGRAPH_VERBOSITY=10`) and attach the full output. Cause: No module named 'tensorflow_core.contrib'\n",
      "WARNING: Entity <bound method L1L2.__call__ of <tensorflow.python.keras.regularizers.L1L2 object at 0x7fb9403e3fd0>> could not be transformed and will be executed as-is. Please report this to the AutoGraph team. When filing the bug, set the verbosity to 10 (on Linux, `export AUTOGRAPH_VERBOSITY=10`) and attach the full output. Cause: No module named 'tensorflow_core.contrib'\n",
      "WARNING: Entity <function Function._initialize_uninitialized_variables.<locals>.initialize_variables at 0x7fb8ec6a5ae8> could not be transformed and will be executed as-is. Please report this to the AutoGraph team. When filing the bug, set the verbosity to 10 (on Linux, `export AUTOGRAPH_VERBOSITY=10`) and attach the full output. Cause: No module named 'tensorflow_core.contrib'\n"
     ]
    },
    {
     "name": "stderr",
     "output_type": "stream",
     "text": [
      "W0608 22:00:59.733352 140437208413952 ag_logging.py:145] Entity <function Function._initialize_uninitialized_variables.<locals>.initialize_variables at 0x7fb92878f2f0> could not be transformed and will be executed as-is. Please report this to the AutoGraph team. When filing the bug, set the verbosity to 10 (on Linux, `export AUTOGRAPH_VERBOSITY=10`) and attach the full output. Cause: No module named 'tensorflow_core.contrib'\n",
      "W0608 22:00:59.765728 140437208413952 ag_logging.py:145] Entity <function Function._initialize_uninitialized_variables.<locals>.initialize_variables at 0x7fb9401d4ae8> could not be transformed and will be executed as-is. Please report this to the AutoGraph team. When filing the bug, set the verbosity to 10 (on Linux, `export AUTOGRAPH_VERBOSITY=10`) and attach the full output. Cause: No module named 'tensorflow_core.contrib'\n",
      "W0608 22:00:59.775173 140437208413952 ag_logging.py:145] Entity <function Function._initialize_uninitialized_variables.<locals>.initialize_variables at 0x7fb8ec2c26a8> could not be transformed and will be executed as-is. Please report this to the AutoGraph team. When filing the bug, set the verbosity to 10 (on Linux, `export AUTOGRAPH_VERBOSITY=10`) and attach the full output. Cause: No module named 'tensorflow_core.contrib'\n"
     ]
    },
    {
     "name": "stdout",
     "output_type": "stream",
     "text": [
      "WARNING: Entity <function Function._initialize_uninitialized_variables.<locals>.initialize_variables at 0x7fb92878f2f0> could not be transformed and will be executed as-is. Please report this to the AutoGraph team. When filing the bug, set the verbosity to 10 (on Linux, `export AUTOGRAPH_VERBOSITY=10`) and attach the full output. Cause: No module named 'tensorflow_core.contrib'\n",
      "WARNING: Entity <function Function._initialize_uninitialized_variables.<locals>.initialize_variables at 0x7fb9401d4ae8> could not be transformed and will be executed as-is. Please report this to the AutoGraph team. When filing the bug, set the verbosity to 10 (on Linux, `export AUTOGRAPH_VERBOSITY=10`) and attach the full output. Cause: No module named 'tensorflow_core.contrib'\n",
      "WARNING: Entity <function Function._initialize_uninitialized_variables.<locals>.initialize_variables at 0x7fb8ec2c26a8> could not be transformed and will be executed as-is. Please report this to the AutoGraph team. When filing the bug, set the verbosity to 10 (on Linux, `export AUTOGRAPH_VERBOSITY=10`) and attach the full output. Cause: No module named 'tensorflow_core.contrib'\n"
     ]
    },
    {
     "name": "stderr",
     "output_type": "stream",
     "text": [
      "W0608 22:00:59.885478 140437208413952 ag_logging.py:145] Entity <function Function._initialize_uninitialized_variables.<locals>.initialize_variables at 0x7fb940109d08> could not be transformed and will be executed as-is. Please report this to the AutoGraph team. When filing the bug, set the verbosity to 10 (on Linux, `export AUTOGRAPH_VERBOSITY=10`) and attach the full output. Cause: No module named 'tensorflow_core.contrib'\n",
      "W0608 22:00:59.906044 140437208413952 ag_logging.py:145] Entity <function Function._initialize_uninitialized_variables.<locals>.initialize_variables at 0x7fb8a0c658c8> could not be transformed and will be executed as-is. Please report this to the AutoGraph team. When filing the bug, set the verbosity to 10 (on Linux, `export AUTOGRAPH_VERBOSITY=10`) and attach the full output. Cause: No module named 'tensorflow_core.contrib'\n"
     ]
    },
    {
     "name": "stdout",
     "output_type": "stream",
     "text": [
      "WARNING: Entity <function Function._initialize_uninitialized_variables.<locals>.initialize_variables at 0x7fb940109d08> could not be transformed and will be executed as-is. Please report this to the AutoGraph team. When filing the bug, set the verbosity to 10 (on Linux, `export AUTOGRAPH_VERBOSITY=10`) and attach the full output. Cause: No module named 'tensorflow_core.contrib'\n",
      "WARNING: Entity <function Function._initialize_uninitialized_variables.<locals>.initialize_variables at 0x7fb8a0c658c8> could not be transformed and will be executed as-is. Please report this to the AutoGraph team. When filing the bug, set the verbosity to 10 (on Linux, `export AUTOGRAPH_VERBOSITY=10`) and attach the full output. Cause: No module named 'tensorflow_core.contrib'\n"
     ]
    },
    {
     "name": "stderr",
     "output_type": "stream",
     "text": [
      "W0608 22:00:59.959173 140437208413952 ag_logging.py:145] Entity <function Function._initialize_uninitialized_variables.<locals>.initialize_variables at 0x7fb9401d4598> could not be transformed and will be executed as-is. Please report this to the AutoGraph team. When filing the bug, set the verbosity to 10 (on Linux, `export AUTOGRAPH_VERBOSITY=10`) and attach the full output. Cause: No module named 'tensorflow_core.contrib'\n",
      "W0608 22:00:59.974916 140437208413952 ag_logging.py:145] Entity <function canonicalize_signatures.<locals>.signature_wrapper at 0x7fb8ec2c26a8> could not be transformed and will be executed as-is. Please report this to the AutoGraph team. When filing the bug, set the verbosity to 10 (on Linux, `export AUTOGRAPH_VERBOSITY=10`) and attach the full output. Cause: No module named 'tensorflow_core.contrib'\n",
      "W0608 22:00:59.991914 140437208413952 ag_logging.py:145] Entity <function Function._initialize_uninitialized_variables.<locals>.initialize_variables at 0x7fb8a0c33840> could not be transformed and will be executed as-is. Please report this to the AutoGraph team. When filing the bug, set the verbosity to 10 (on Linux, `export AUTOGRAPH_VERBOSITY=10`) and attach the full output. Cause: No module named 'tensorflow_core.contrib'\n"
     ]
    },
    {
     "name": "stdout",
     "output_type": "stream",
     "text": [
      "WARNING: Entity <function Function._initialize_uninitialized_variables.<locals>.initialize_variables at 0x7fb9401d4598> could not be transformed and will be executed as-is. Please report this to the AutoGraph team. When filing the bug, set the verbosity to 10 (on Linux, `export AUTOGRAPH_VERBOSITY=10`) and attach the full output. Cause: No module named 'tensorflow_core.contrib'\n",
      "WARNING: Entity <function canonicalize_signatures.<locals>.signature_wrapper at 0x7fb8ec2c26a8> could not be transformed and will be executed as-is. Please report this to the AutoGraph team. When filing the bug, set the verbosity to 10 (on Linux, `export AUTOGRAPH_VERBOSITY=10`) and attach the full output. Cause: No module named 'tensorflow_core.contrib'\n",
      "WARNING: Entity <function Function._initialize_uninitialized_variables.<locals>.initialize_variables at 0x7fb8a0c33840> could not be transformed and will be executed as-is. Please report this to the AutoGraph team. When filing the bug, set the verbosity to 10 (on Linux, `export AUTOGRAPH_VERBOSITY=10`) and attach the full output. Cause: No module named 'tensorflow_core.contrib'\n",
      "1084/1085 [============================>.] - ETA: 0s - loss: 0.0021 - mean_PSNR: 28.3319\n",
      "Learning rate for epoch 73 is 2.499999936844688e-05\n",
      "1085/1085 [==============================] - 99s 91ms/step - loss: 0.0021 - mean_PSNR: 28.3318 - val_loss: 0.0023 - val_mean_PSNR: 27.9536\n",
      "Epoch 74/300\n",
      "1084/1085 [============================>.] - ETA: 0s - loss: 0.0021 - mean_PSNR: 28.3480\n",
      "Learning rate for epoch 74 is 9.999999747378752e-05\n",
      "1085/1085 [==============================] - 99s 92ms/step - loss: 0.0021 - mean_PSNR: 28.3479 - val_loss: 0.0022 - val_mean_PSNR: 27.9690\n",
      "Epoch 75/300\n",
      "1084/1085 [============================>.] - ETA: 0s - loss: 0.0021 - mean_PSNR: 28.3496\n",
      "Learning rate for epoch 75 is 2.499999936844688e-05\n",
      "1085/1085 [==============================] - 94s 87ms/step - loss: 0.0021 - mean_PSNR: 28.3494 - val_loss: 0.0022 - val_mean_PSNR: 27.9637\n",
      "Epoch 76/300\n",
      "1084/1085 [============================>.] - ETA: 0s - loss: 0.0021 - mean_PSNR: 28.3469\n",
      "Learning rate for epoch 76 is 9.999999747378752e-05\n",
      "1085/1085 [==============================] - 98s 91ms/step - loss: 0.0021 - mean_PSNR: 28.3468 - val_loss: 0.0022 - val_mean_PSNR: 27.9884\n",
      "Epoch 77/300\n",
      "1084/1085 [============================>.] - ETA: 0s - loss: 0.0021 - mean_PSNR: 28.3494\n",
      "Learning rate for epoch 77 is 2.499999936844688e-05\n",
      "1085/1085 [==============================] - 94s 87ms/step - loss: 0.0021 - mean_PSNR: 28.3493 - val_loss: 0.0022 - val_mean_PSNR: 27.9774\n",
      "Epoch 78/300\n",
      "1084/1085 [============================>.] - ETA: 0s - loss: 0.0021 - mean_PSNR: 28.3552\n",
      "Learning rate for epoch 78 is 9.999999747378752e-05\n",
      "1085/1085 [==============================] - 94s 87ms/step - loss: 0.0021 - mean_PSNR: 28.3551 - val_loss: 0.0022 - val_mean_PSNR: 27.9856\n",
      "Epoch 79/300\n",
      "1084/1085 [============================>.] - ETA: 0s - loss: 0.0021 - mean_PSNR: 28.3577\n",
      "Learning rate for epoch 79 is 2.499999936844688e-05\n",
      "1085/1085 [==============================] - 94s 87ms/step - loss: 0.0021 - mean_PSNR: 28.3578 - val_loss: 0.0022 - val_mean_PSNR: 27.9585\n",
      "Epoch 80/300\n",
      "1084/1085 [============================>.] - ETA: 0s - loss: 0.0020 - mean_PSNR: 28.3625\n",
      "Learning rate for epoch 80 is 9.999999747378752e-05\n",
      "1085/1085 [==============================] - 94s 87ms/step - loss: 0.0020 - mean_PSNR: 28.3625 - val_loss: 0.0022 - val_mean_PSNR: 27.9844\n",
      "Epoch 81/300\n",
      "1084/1085 [============================>.] - ETA: 0s - loss: 0.0020 - mean_PSNR: 28.3600\n",
      "Learning rate for epoch 81 is 2.499999936844688e-05\n",
      "1085/1085 [==============================] - 94s 87ms/step - loss: 0.0020 - mean_PSNR: 28.3598 - val_loss: 0.0022 - val_mean_PSNR: 27.9934\n",
      "Epoch 82/300\n",
      "1084/1085 [============================>.] - ETA: 0s - loss: 0.0020 - mean_PSNR: 28.3659\n",
      "Learning rate for epoch 82 is 9.999999747378752e-05\n",
      "1085/1085 [==============================] - 94s 87ms/step - loss: 0.0020 - mean_PSNR: 28.3658 - val_loss: 0.0022 - val_mean_PSNR: 27.9879\n",
      "Epoch 83/300\n",
      "1084/1085 [============================>.] - ETA: 0s - loss: 0.0020 - mean_PSNR: 28.3670\n",
      "Learning rate for epoch 83 is 2.499999936844688e-05\n",
      "1085/1085 [==============================] - 95s 88ms/step - loss: 0.0020 - mean_PSNR: 28.3668 - val_loss: 0.0022 - val_mean_PSNR: 27.9810\n",
      "Epoch 84/300\n",
      "1084/1085 [============================>.] - ETA: 0s - loss: 0.0020 - mean_PSNR: 28.3695\n",
      "Learning rate for epoch 84 is 9.999999747378752e-05\n",
      "1085/1085 [==============================] - 94s 87ms/step - loss: 0.0020 - mean_PSNR: 28.3696 - val_loss: 0.0022 - val_mean_PSNR: 28.0101\n",
      "Epoch 85/300\n",
      "1084/1085 [============================>.] - ETA: 0s - loss: 0.0020 - mean_PSNR: 28.3764\n",
      "Learning rate for epoch 85 is 2.499999936844688e-05\n",
      "1085/1085 [==============================] - 94s 87ms/step - loss: 0.0020 - mean_PSNR: 28.3763 - val_loss: 0.0022 - val_mean_PSNR: 28.0038\n",
      "Epoch 86/300\n",
      "1084/1085 [============================>.] - ETA: 0s - loss: 0.0020 - mean_PSNR: 28.3714\n",
      "Learning rate for epoch 86 is 9.999999747378752e-05\n",
      "1085/1085 [==============================] - 94s 87ms/step - loss: 0.0020 - mean_PSNR: 28.3713 - val_loss: 0.0022 - val_mean_PSNR: 28.0163\n",
      "Epoch 87/300\n",
      " 439/1085 [===========>..................] - ETA: 41s - loss: 0.0020 - mean_PSNR: 28.3666\n",
      "Epoch 00087: saving model to /home/ubuntu/cs230/models/automap_fastmri/2019-06-08_13:06:26/cp-0087.ckpt\n"
     ]
    },
    {
     "name": "stderr",
     "output_type": "stream",
     "text": [
      "W0608 22:23:43.036092 140437208413952 ag_logging.py:145] Entity <function Function._initialize_uninitialized_variables.<locals>.initialize_variables at 0x7fb8a1d56840> could not be transformed and will be executed as-is. Please report this to the AutoGraph team. When filing the bug, set the verbosity to 10 (on Linux, `export AUTOGRAPH_VERBOSITY=10`) and attach the full output. Cause: No module named 'tensorflow_core.contrib'\n",
      "W0608 22:23:43.045335 140437208413952 ag_logging.py:145] Entity <function Function._initialize_uninitialized_variables.<locals>.initialize_variables at 0x7fb8ec14c510> could not be transformed and will be executed as-is. Please report this to the AutoGraph team. When filing the bug, set the verbosity to 10 (on Linux, `export AUTOGRAPH_VERBOSITY=10`) and attach the full output. Cause: No module named 'tensorflow_core.contrib'\n",
      "W0608 22:23:43.057944 140437208413952 ag_logging.py:145] Entity <function Function._initialize_uninitialized_variables.<locals>.initialize_variables at 0x7fb8c452c400> could not be transformed and will be executed as-is. Please report this to the AutoGraph team. When filing the bug, set the verbosity to 10 (on Linux, `export AUTOGRAPH_VERBOSITY=10`) and attach the full output. Cause: No module named 'tensorflow_core.contrib'\n",
      "W0608 22:23:43.066618 140437208413952 ag_logging.py:145] Entity <function Function._initialize_uninitialized_variables.<locals>.initialize_variables at 0x7fb8ec506378> could not be transformed and will be executed as-is. Please report this to the AutoGraph team. When filing the bug, set the verbosity to 10 (on Linux, `export AUTOGRAPH_VERBOSITY=10`) and attach the full output. Cause: No module named 'tensorflow_core.contrib'\n",
      "W0608 22:23:43.070602 140437208413952 ag_logging.py:145] Entity <bound method L1L2.__call__ of <tensorflow.python.keras.regularizers.L1L2 object at 0x7fb9403e3fd0>> could not be transformed and will be executed as-is. Please report this to the AutoGraph team. When filing the bug, set the verbosity to 10 (on Linux, `export AUTOGRAPH_VERBOSITY=10`) and attach the full output. Cause: No module named 'tensorflow_core.contrib'\n",
      "W0608 22:23:43.082735 140437208413952 ag_logging.py:145] Entity <function Function._initialize_uninitialized_variables.<locals>.initialize_variables at 0x7fb94016fea0> could not be transformed and will be executed as-is. Please report this to the AutoGraph team. When filing the bug, set the verbosity to 10 (on Linux, `export AUTOGRAPH_VERBOSITY=10`) and attach the full output. Cause: No module named 'tensorflow_core.contrib'\n"
     ]
    },
    {
     "name": "stdout",
     "output_type": "stream",
     "text": [
      "WARNING: Entity <function Function._initialize_uninitialized_variables.<locals>.initialize_variables at 0x7fb8a1d56840> could not be transformed and will be executed as-is. Please report this to the AutoGraph team. When filing the bug, set the verbosity to 10 (on Linux, `export AUTOGRAPH_VERBOSITY=10`) and attach the full output. Cause: No module named 'tensorflow_core.contrib'\n",
      "WARNING: Entity <function Function._initialize_uninitialized_variables.<locals>.initialize_variables at 0x7fb8ec14c510> could not be transformed and will be executed as-is. Please report this to the AutoGraph team. When filing the bug, set the verbosity to 10 (on Linux, `export AUTOGRAPH_VERBOSITY=10`) and attach the full output. Cause: No module named 'tensorflow_core.contrib'\n",
      "WARNING: Entity <function Function._initialize_uninitialized_variables.<locals>.initialize_variables at 0x7fb8c452c400> could not be transformed and will be executed as-is. Please report this to the AutoGraph team. When filing the bug, set the verbosity to 10 (on Linux, `export AUTOGRAPH_VERBOSITY=10`) and attach the full output. Cause: No module named 'tensorflow_core.contrib'\n",
      "WARNING: Entity <function Function._initialize_uninitialized_variables.<locals>.initialize_variables at 0x7fb8ec506378> could not be transformed and will be executed as-is. Please report this to the AutoGraph team. When filing the bug, set the verbosity to 10 (on Linux, `export AUTOGRAPH_VERBOSITY=10`) and attach the full output. Cause: No module named 'tensorflow_core.contrib'\n",
      "WARNING: Entity <bound method L1L2.__call__ of <tensorflow.python.keras.regularizers.L1L2 object at 0x7fb9403e3fd0>> could not be transformed and will be executed as-is. Please report this to the AutoGraph team. When filing the bug, set the verbosity to 10 (on Linux, `export AUTOGRAPH_VERBOSITY=10`) and attach the full output. Cause: No module named 'tensorflow_core.contrib'\n",
      "WARNING: Entity <function Function._initialize_uninitialized_variables.<locals>.initialize_variables at 0x7fb94016fea0> could not be transformed and will be executed as-is. Please report this to the AutoGraph team. When filing the bug, set the verbosity to 10 (on Linux, `export AUTOGRAPH_VERBOSITY=10`) and attach the full output. Cause: No module named 'tensorflow_core.contrib'\n"
     ]
    },
    {
     "name": "stderr",
     "output_type": "stream",
     "text": [
      "W0608 22:23:43.095026 140437208413952 ag_logging.py:145] Entity <function Function._initialize_uninitialized_variables.<locals>.initialize_variables at 0x7fb8ec2c2950> could not be transformed and will be executed as-is. Please report this to the AutoGraph team. When filing the bug, set the verbosity to 10 (on Linux, `export AUTOGRAPH_VERBOSITY=10`) and attach the full output. Cause: No module named 'tensorflow_core.contrib'\n",
      "W0608 22:23:43.128141 140437208413952 ag_logging.py:145] Entity <function Function._initialize_uninitialized_variables.<locals>.initialize_variables at 0x7fb92878f7b8> could not be transformed and will be executed as-is. Please report this to the AutoGraph team. When filing the bug, set the verbosity to 10 (on Linux, `export AUTOGRAPH_VERBOSITY=10`) and attach the full output. Cause: No module named 'tensorflow_core.contrib'\n",
      "W0608 22:23:43.137822 140437208413952 ag_logging.py:145] Entity <function Function._initialize_uninitialized_variables.<locals>.initialize_variables at 0x7fb940054b70> could not be transformed and will be executed as-is. Please report this to the AutoGraph team. When filing the bug, set the verbosity to 10 (on Linux, `export AUTOGRAPH_VERBOSITY=10`) and attach the full output. Cause: No module named 'tensorflow_core.contrib'\n"
     ]
    },
    {
     "name": "stdout",
     "output_type": "stream",
     "text": [
      "WARNING: Entity <function Function._initialize_uninitialized_variables.<locals>.initialize_variables at 0x7fb8ec2c2950> could not be transformed and will be executed as-is. Please report this to the AutoGraph team. When filing the bug, set the verbosity to 10 (on Linux, `export AUTOGRAPH_VERBOSITY=10`) and attach the full output. Cause: No module named 'tensorflow_core.contrib'\n",
      "WARNING: Entity <function Function._initialize_uninitialized_variables.<locals>.initialize_variables at 0x7fb92878f7b8> could not be transformed and will be executed as-is. Please report this to the AutoGraph team. When filing the bug, set the verbosity to 10 (on Linux, `export AUTOGRAPH_VERBOSITY=10`) and attach the full output. Cause: No module named 'tensorflow_core.contrib'\n",
      "WARNING: Entity <function Function._initialize_uninitialized_variables.<locals>.initialize_variables at 0x7fb940054b70> could not be transformed and will be executed as-is. Please report this to the AutoGraph team. When filing the bug, set the verbosity to 10 (on Linux, `export AUTOGRAPH_VERBOSITY=10`) and attach the full output. Cause: No module named 'tensorflow_core.contrib'\n"
     ]
    },
    {
     "name": "stderr",
     "output_type": "stream",
     "text": [
      "W0608 22:23:43.243807 140437208413952 ag_logging.py:145] Entity <function Function._initialize_uninitialized_variables.<locals>.initialize_variables at 0x7fb8c40ec488> could not be transformed and will be executed as-is. Please report this to the AutoGraph team. When filing the bug, set the verbosity to 10 (on Linux, `export AUTOGRAPH_VERBOSITY=10`) and attach the full output. Cause: No module named 'tensorflow_core.contrib'\n",
      "W0608 22:23:43.263995 140437208413952 ag_logging.py:145] Entity <function Function._initialize_uninitialized_variables.<locals>.initialize_variables at 0x7fb8a0937840> could not be transformed and will be executed as-is. Please report this to the AutoGraph team. When filing the bug, set the verbosity to 10 (on Linux, `export AUTOGRAPH_VERBOSITY=10`) and attach the full output. Cause: No module named 'tensorflow_core.contrib'\n"
     ]
    },
    {
     "name": "stdout",
     "output_type": "stream",
     "text": [
      "WARNING: Entity <function Function._initialize_uninitialized_variables.<locals>.initialize_variables at 0x7fb8c40ec488> could not be transformed and will be executed as-is. Please report this to the AutoGraph team. When filing the bug, set the verbosity to 10 (on Linux, `export AUTOGRAPH_VERBOSITY=10`) and attach the full output. Cause: No module named 'tensorflow_core.contrib'\n",
      "WARNING: Entity <function Function._initialize_uninitialized_variables.<locals>.initialize_variables at 0x7fb8a0937840> could not be transformed and will be executed as-is. Please report this to the AutoGraph team. When filing the bug, set the verbosity to 10 (on Linux, `export AUTOGRAPH_VERBOSITY=10`) and attach the full output. Cause: No module named 'tensorflow_core.contrib'\n"
     ]
    },
    {
     "name": "stderr",
     "output_type": "stream",
     "text": [
      "W0608 22:23:43.317568 140437208413952 ag_logging.py:145] Entity <function Function._initialize_uninitialized_variables.<locals>.initialize_variables at 0x7fb9402a16a8> could not be transformed and will be executed as-is. Please report this to the AutoGraph team. When filing the bug, set the verbosity to 10 (on Linux, `export AUTOGRAPH_VERBOSITY=10`) and attach the full output. Cause: No module named 'tensorflow_core.contrib'\n",
      "W0608 22:23:43.334855 140437208413952 ag_logging.py:145] Entity <function canonicalize_signatures.<locals>.signature_wrapper at 0x7fb8ec2c2950> could not be transformed and will be executed as-is. Please report this to the AutoGraph team. When filing the bug, set the verbosity to 10 (on Linux, `export AUTOGRAPH_VERBOSITY=10`) and attach the full output. Cause: No module named 'tensorflow_core.contrib'\n",
      "W0608 22:23:43.352172 140437208413952 ag_logging.py:145] Entity <function Function._initialize_uninitialized_variables.<locals>.initialize_variables at 0x7fb8a1248c80> could not be transformed and will be executed as-is. Please report this to the AutoGraph team. When filing the bug, set the verbosity to 10 (on Linux, `export AUTOGRAPH_VERBOSITY=10`) and attach the full output. Cause: No module named 'tensorflow_core.contrib'\n"
     ]
    },
    {
     "name": "stdout",
     "output_type": "stream",
     "text": [
      "WARNING: Entity <function Function._initialize_uninitialized_variables.<locals>.initialize_variables at 0x7fb9402a16a8> could not be transformed and will be executed as-is. Please report this to the AutoGraph team. When filing the bug, set the verbosity to 10 (on Linux, `export AUTOGRAPH_VERBOSITY=10`) and attach the full output. Cause: No module named 'tensorflow_core.contrib'\n",
      "WARNING: Entity <function canonicalize_signatures.<locals>.signature_wrapper at 0x7fb8ec2c2950> could not be transformed and will be executed as-is. Please report this to the AutoGraph team. When filing the bug, set the verbosity to 10 (on Linux, `export AUTOGRAPH_VERBOSITY=10`) and attach the full output. Cause: No module named 'tensorflow_core.contrib'\n",
      "WARNING: Entity <function Function._initialize_uninitialized_variables.<locals>.initialize_variables at 0x7fb8a1248c80> could not be transformed and will be executed as-is. Please report this to the AutoGraph team. When filing the bug, set the verbosity to 10 (on Linux, `export AUTOGRAPH_VERBOSITY=10`) and attach the full output. Cause: No module named 'tensorflow_core.contrib'\n",
      "1084/1085 [============================>.] - ETA: 0s - loss: 0.0020 - mean_PSNR: 28.3788\n",
      "Learning rate for epoch 87 is 2.499999936844688e-05\n",
      "1085/1085 [==============================] - 98s 91ms/step - loss: 0.0020 - mean_PSNR: 28.3788 - val_loss: 0.0022 - val_mean_PSNR: 28.0070\n",
      "Epoch 88/300\n",
      "1084/1085 [============================>.] - ETA: 0s - loss: 0.0020 - mean_PSNR: 28.3826\n",
      "Learning rate for epoch 88 is 9.999999747378752e-05\n",
      "1085/1085 [==============================] - 94s 87ms/step - loss: 0.0020 - mean_PSNR: 28.3826 - val_loss: 0.0022 - val_mean_PSNR: 27.9928\n",
      "Epoch 89/300\n",
      "1084/1085 [============================>.] - ETA: 0s - loss: 0.0020 - mean_PSNR: 28.3829\n",
      "Learning rate for epoch 89 is 2.499999936844688e-05\n",
      "1085/1085 [==============================] - 99s 91ms/step - loss: 0.0020 - mean_PSNR: 28.3829 - val_loss: 0.0022 - val_mean_PSNR: 28.0022\n",
      "Epoch 90/300\n",
      "1084/1085 [============================>.] - ETA: 0s - loss: 0.0020 - mean_PSNR: 28.3866\n",
      "Learning rate for epoch 90 is 9.999999747378752e-05\n",
      "1085/1085 [==============================] - 94s 87ms/step - loss: 0.0020 - mean_PSNR: 28.3864 - val_loss: 0.0022 - val_mean_PSNR: 28.0115\n",
      "Epoch 91/300\n",
      "1084/1085 [============================>.] - ETA: 0s - loss: 0.0020 - mean_PSNR: 28.3889\n",
      "Learning rate for epoch 91 is 2.499999936844688e-05\n",
      "1085/1085 [==============================] - 94s 87ms/step - loss: 0.0020 - mean_PSNR: 28.3889 - val_loss: 0.0022 - val_mean_PSNR: 27.9968\n",
      "Epoch 92/300\n",
      "1084/1085 [============================>.] - ETA: 0s - loss: 0.0020 - mean_PSNR: 28.3830\n",
      "Learning rate for epoch 92 is 9.999999747378752e-05\n",
      "1085/1085 [==============================] - 95s 87ms/step - loss: 0.0020 - mean_PSNR: 28.3828 - val_loss: 0.0022 - val_mean_PSNR: 28.0180\n",
      "Epoch 93/300\n",
      "1084/1085 [============================>.] - ETA: 0s - loss: 0.0020 - mean_PSNR: 28.3900\n",
      "Learning rate for epoch 93 is 2.499999936844688e-05\n",
      "1085/1085 [==============================] - 94s 87ms/step - loss: 0.0020 - mean_PSNR: 28.3898 - val_loss: 0.0022 - val_mean_PSNR: 28.0126\n",
      "Epoch 94/300\n",
      "1084/1085 [============================>.] - ETA: 0s - loss: 0.0020 - mean_PSNR: 28.3818\n",
      "Learning rate for epoch 94 is 9.999999747378752e-05\n",
      "1085/1085 [==============================] - 94s 87ms/step - loss: 0.0020 - mean_PSNR: 28.3817 - val_loss: 0.0022 - val_mean_PSNR: 28.0076\n",
      "Epoch 95/300\n",
      "1084/1085 [============================>.] - ETA: 0s - loss: 0.0020 - mean_PSNR: 28.3853\n",
      "Learning rate for epoch 95 is 2.499999936844688e-05\n",
      "1085/1085 [==============================] - 94s 87ms/step - loss: 0.0020 - mean_PSNR: 28.3850 - val_loss: 0.0022 - val_mean_PSNR: 28.0217\n",
      "Epoch 96/300\n",
      "1084/1085 [============================>.] - ETA: 0s - loss: 0.0020 - mean_PSNR: 28.3961\n",
      "Learning rate for epoch 96 is 9.999999747378752e-05\n",
      "1085/1085 [==============================] - 94s 87ms/step - loss: 0.0020 - mean_PSNR: 28.3960 - val_loss: 0.0022 - val_mean_PSNR: 28.0235\n",
      "Epoch 97/300\n",
      "1084/1085 [============================>.] - ETA: 0s - loss: 0.0020 - mean_PSNR: 28.3880\n",
      "Learning rate for epoch 97 is 2.499999936844688e-05\n",
      "1085/1085 [==============================] - 94s 87ms/step - loss: 0.0020 - mean_PSNR: 28.3881 - val_loss: 0.0022 - val_mean_PSNR: 27.9989\n",
      "Epoch 98/300\n",
      "1084/1085 [============================>.] - ETA: 0s - loss: 0.0020 - mean_PSNR: 28.3854\n",
      "Learning rate for epoch 98 is 9.999999747378752e-05\n",
      "1085/1085 [==============================] - 94s 87ms/step - loss: 0.0020 - mean_PSNR: 28.3853 - val_loss: 0.0022 - val_mean_PSNR: 28.0224\n",
      "Epoch 99/300\n",
      "1084/1085 [============================>.] - ETA: 0s - loss: 0.0020 - mean_PSNR: 28.3898\n",
      "Learning rate for epoch 99 is 2.499999936844688e-05\n",
      "1085/1085 [==============================] - 94s 87ms/step - loss: 0.0020 - mean_PSNR: 28.3897 - val_loss: 0.0022 - val_mean_PSNR: 28.0073\n",
      "Epoch 100/300\n",
      "1084/1085 [============================>.] - ETA: 0s - loss: 0.0020 - mean_PSNR: 28.3965\n",
      "Learning rate for epoch 100 is 9.999999747378752e-05\n",
      "1085/1085 [==============================] - 94s 87ms/step - loss: 0.0020 - mean_PSNR: 28.3963 - val_loss: 0.0022 - val_mean_PSNR: 28.0288\n",
      "Epoch 101/300\n",
      " 874/1085 [=======================>......] - ETA: 13s - loss: 0.0020 - mean_PSNR: 28.4258\n",
      "Epoch 00101: saving model to /home/ubuntu/cs230/models/automap_fastmri/2019-06-08_13:06:26/cp-0101.ckpt\n"
     ]
    },
    {
     "name": "stderr",
     "output_type": "stream",
     "text": [
      "W0608 22:46:21.080998 140437208413952 ag_logging.py:145] Entity <function Function._initialize_uninitialized_variables.<locals>.initialize_variables at 0x7fb8ec506048> could not be transformed and will be executed as-is. Please report this to the AutoGraph team. When filing the bug, set the verbosity to 10 (on Linux, `export AUTOGRAPH_VERBOSITY=10`) and attach the full output. Cause: No module named 'tensorflow_core.contrib'\n",
      "W0608 22:46:21.090582 140437208413952 ag_logging.py:145] Entity <function Function._initialize_uninitialized_variables.<locals>.initialize_variables at 0x7fb8c40ecd08> could not be transformed and will be executed as-is. Please report this to the AutoGraph team. When filing the bug, set the verbosity to 10 (on Linux, `export AUTOGRAPH_VERBOSITY=10`) and attach the full output. Cause: No module named 'tensorflow_core.contrib'\n",
      "W0608 22:46:21.103137 140437208413952 ag_logging.py:145] Entity <function Function._initialize_uninitialized_variables.<locals>.initialize_variables at 0x7fb94016f9d8> could not be transformed and will be executed as-is. Please report this to the AutoGraph team. When filing the bug, set the verbosity to 10 (on Linux, `export AUTOGRAPH_VERBOSITY=10`) and attach the full output. Cause: No module named 'tensorflow_core.contrib'\n",
      "W0608 22:46:21.112020 140437208413952 ag_logging.py:145] Entity <function Function._initialize_uninitialized_variables.<locals>.initialize_variables at 0x7fb9400548c8> could not be transformed and will be executed as-is. Please report this to the AutoGraph team. When filing the bug, set the verbosity to 10 (on Linux, `export AUTOGRAPH_VERBOSITY=10`) and attach the full output. Cause: No module named 'tensorflow_core.contrib'\n",
      "W0608 22:46:21.115648 140437208413952 ag_logging.py:145] Entity <bound method L1L2.__call__ of <tensorflow.python.keras.regularizers.L1L2 object at 0x7fb9403e3fd0>> could not be transformed and will be executed as-is. Please report this to the AutoGraph team. When filing the bug, set the verbosity to 10 (on Linux, `export AUTOGRAPH_VERBOSITY=10`) and attach the full output. Cause: No module named 'tensorflow_core.contrib'\n",
      "W0608 22:46:21.127890 140437208413952 ag_logging.py:145] Entity <function Function._initialize_uninitialized_variables.<locals>.initialize_variables at 0x7fb8a06768c8> could not be transformed and will be executed as-is. Please report this to the AutoGraph team. When filing the bug, set the verbosity to 10 (on Linux, `export AUTOGRAPH_VERBOSITY=10`) and attach the full output. Cause: No module named 'tensorflow_core.contrib'\n"
     ]
    },
    {
     "name": "stdout",
     "output_type": "stream",
     "text": [
      "WARNING: Entity <function Function._initialize_uninitialized_variables.<locals>.initialize_variables at 0x7fb8ec506048> could not be transformed and will be executed as-is. Please report this to the AutoGraph team. When filing the bug, set the verbosity to 10 (on Linux, `export AUTOGRAPH_VERBOSITY=10`) and attach the full output. Cause: No module named 'tensorflow_core.contrib'\n",
      "WARNING: Entity <function Function._initialize_uninitialized_variables.<locals>.initialize_variables at 0x7fb8c40ecd08> could not be transformed and will be executed as-is. Please report this to the AutoGraph team. When filing the bug, set the verbosity to 10 (on Linux, `export AUTOGRAPH_VERBOSITY=10`) and attach the full output. Cause: No module named 'tensorflow_core.contrib'\n",
      "WARNING: Entity <function Function._initialize_uninitialized_variables.<locals>.initialize_variables at 0x7fb94016f9d8> could not be transformed and will be executed as-is. Please report this to the AutoGraph team. When filing the bug, set the verbosity to 10 (on Linux, `export AUTOGRAPH_VERBOSITY=10`) and attach the full output. Cause: No module named 'tensorflow_core.contrib'\n",
      "WARNING: Entity <function Function._initialize_uninitialized_variables.<locals>.initialize_variables at 0x7fb9400548c8> could not be transformed and will be executed as-is. Please report this to the AutoGraph team. When filing the bug, set the verbosity to 10 (on Linux, `export AUTOGRAPH_VERBOSITY=10`) and attach the full output. Cause: No module named 'tensorflow_core.contrib'\n",
      "WARNING: Entity <bound method L1L2.__call__ of <tensorflow.python.keras.regularizers.L1L2 object at 0x7fb9403e3fd0>> could not be transformed and will be executed as-is. Please report this to the AutoGraph team. When filing the bug, set the verbosity to 10 (on Linux, `export AUTOGRAPH_VERBOSITY=10`) and attach the full output. Cause: No module named 'tensorflow_core.contrib'\n",
      "WARNING: Entity <function Function._initialize_uninitialized_variables.<locals>.initialize_variables at 0x7fb8a06768c8> could not be transformed and will be executed as-is. Please report this to the AutoGraph team. When filing the bug, set the verbosity to 10 (on Linux, `export AUTOGRAPH_VERBOSITY=10`) and attach the full output. Cause: No module named 'tensorflow_core.contrib'\n"
     ]
    },
    {
     "name": "stderr",
     "output_type": "stream",
     "text": [
      "W0608 22:46:21.139792 140437208413952 ag_logging.py:145] Entity <function Function._initialize_uninitialized_variables.<locals>.initialize_variables at 0x7fb8a0c33378> could not be transformed and will be executed as-is. Please report this to the AutoGraph team. When filing the bug, set the verbosity to 10 (on Linux, `export AUTOGRAPH_VERBOSITY=10`) and attach the full output. Cause: No module named 'tensorflow_core.contrib'\n",
      "W0608 22:46:21.172633 140437208413952 ag_logging.py:145] Entity <function Function._initialize_uninitialized_variables.<locals>.initialize_variables at 0x7fb940255bf8> could not be transformed and will be executed as-is. Please report this to the AutoGraph team. When filing the bug, set the verbosity to 10 (on Linux, `export AUTOGRAPH_VERBOSITY=10`) and attach the full output. Cause: No module named 'tensorflow_core.contrib'\n",
      "W0608 22:46:21.183973 140437208413952 ag_logging.py:145] Entity <function Function._initialize_uninitialized_variables.<locals>.initialize_variables at 0x7fb8c40fbd08> could not be transformed and will be executed as-is. Please report this to the AutoGraph team. When filing the bug, set the verbosity to 10 (on Linux, `export AUTOGRAPH_VERBOSITY=10`) and attach the full output. Cause: No module named 'tensorflow_core.contrib'\n"
     ]
    },
    {
     "name": "stdout",
     "output_type": "stream",
     "text": [
      "WARNING: Entity <function Function._initialize_uninitialized_variables.<locals>.initialize_variables at 0x7fb8a0c33378> could not be transformed and will be executed as-is. Please report this to the AutoGraph team. When filing the bug, set the verbosity to 10 (on Linux, `export AUTOGRAPH_VERBOSITY=10`) and attach the full output. Cause: No module named 'tensorflow_core.contrib'\n",
      "WARNING: Entity <function Function._initialize_uninitialized_variables.<locals>.initialize_variables at 0x7fb940255bf8> could not be transformed and will be executed as-is. Please report this to the AutoGraph team. When filing the bug, set the verbosity to 10 (on Linux, `export AUTOGRAPH_VERBOSITY=10`) and attach the full output. Cause: No module named 'tensorflow_core.contrib'\n",
      "WARNING: Entity <function Function._initialize_uninitialized_variables.<locals>.initialize_variables at 0x7fb8c40fbd08> could not be transformed and will be executed as-is. Please report this to the AutoGraph team. When filing the bug, set the verbosity to 10 (on Linux, `export AUTOGRAPH_VERBOSITY=10`) and attach the full output. Cause: No module named 'tensorflow_core.contrib'\n"
     ]
    },
    {
     "name": "stderr",
     "output_type": "stream",
     "text": [
      "W0608 22:46:21.293437 140437208413952 ag_logging.py:145] Entity <function Function._initialize_uninitialized_variables.<locals>.initialize_variables at 0x7fb8ec47d2f0> could not be transformed and will be executed as-is. Please report this to the AutoGraph team. When filing the bug, set the verbosity to 10 (on Linux, `export AUTOGRAPH_VERBOSITY=10`) and attach the full output. Cause: No module named 'tensorflow_core.contrib'\n",
      "W0608 22:46:21.314903 140437208413952 ag_logging.py:145] Entity <function Function._initialize_uninitialized_variables.<locals>.initialize_variables at 0x7fb8a0223048> could not be transformed and will be executed as-is. Please report this to the AutoGraph team. When filing the bug, set the verbosity to 10 (on Linux, `export AUTOGRAPH_VERBOSITY=10`) and attach the full output. Cause: No module named 'tensorflow_core.contrib'\n"
     ]
    },
    {
     "name": "stdout",
     "output_type": "stream",
     "text": [
      "WARNING: Entity <function Function._initialize_uninitialized_variables.<locals>.initialize_variables at 0x7fb8ec47d2f0> could not be transformed and will be executed as-is. Please report this to the AutoGraph team. When filing the bug, set the verbosity to 10 (on Linux, `export AUTOGRAPH_VERBOSITY=10`) and attach the full output. Cause: No module named 'tensorflow_core.contrib'\n",
      "WARNING: Entity <function Function._initialize_uninitialized_variables.<locals>.initialize_variables at 0x7fb8a0223048> could not be transformed and will be executed as-is. Please report this to the AutoGraph team. When filing the bug, set the verbosity to 10 (on Linux, `export AUTOGRAPH_VERBOSITY=10`) and attach the full output. Cause: No module named 'tensorflow_core.contrib'\n"
     ]
    },
    {
     "name": "stderr",
     "output_type": "stream",
     "text": [
      "W0608 22:46:21.369532 140437208413952 ag_logging.py:145] Entity <function Function._initialize_uninitialized_variables.<locals>.initialize_variables at 0x7fb8a0223a60> could not be transformed and will be executed as-is. Please report this to the AutoGraph team. When filing the bug, set the verbosity to 10 (on Linux, `export AUTOGRAPH_VERBOSITY=10`) and attach the full output. Cause: No module named 'tensorflow_core.contrib'\n",
      "W0608 22:46:21.384931 140437208413952 ag_logging.py:145] Entity <function canonicalize_signatures.<locals>.signature_wrapper at 0x7fb8c40fbd08> could not be transformed and will be executed as-is. Please report this to the AutoGraph team. When filing the bug, set the verbosity to 10 (on Linux, `export AUTOGRAPH_VERBOSITY=10`) and attach the full output. Cause: No module named 'tensorflow_core.contrib'\n",
      "W0608 22:46:21.402698 140437208413952 ag_logging.py:145] Entity <function Function._initialize_uninitialized_variables.<locals>.initialize_variables at 0x7fb8a014a488> could not be transformed and will be executed as-is. Please report this to the AutoGraph team. When filing the bug, set the verbosity to 10 (on Linux, `export AUTOGRAPH_VERBOSITY=10`) and attach the full output. Cause: No module named 'tensorflow_core.contrib'\n"
     ]
    },
    {
     "name": "stdout",
     "output_type": "stream",
     "text": [
      "WARNING: Entity <function Function._initialize_uninitialized_variables.<locals>.initialize_variables at 0x7fb8a0223a60> could not be transformed and will be executed as-is. Please report this to the AutoGraph team. When filing the bug, set the verbosity to 10 (on Linux, `export AUTOGRAPH_VERBOSITY=10`) and attach the full output. Cause: No module named 'tensorflow_core.contrib'\n",
      "WARNING: Entity <function canonicalize_signatures.<locals>.signature_wrapper at 0x7fb8c40fbd08> could not be transformed and will be executed as-is. Please report this to the AutoGraph team. When filing the bug, set the verbosity to 10 (on Linux, `export AUTOGRAPH_VERBOSITY=10`) and attach the full output. Cause: No module named 'tensorflow_core.contrib'\n",
      "WARNING: Entity <function Function._initialize_uninitialized_variables.<locals>.initialize_variables at 0x7fb8a014a488> could not be transformed and will be executed as-is. Please report this to the AutoGraph team. When filing the bug, set the verbosity to 10 (on Linux, `export AUTOGRAPH_VERBOSITY=10`) and attach the full output. Cause: No module named 'tensorflow_core.contrib'\n",
      "1084/1085 [============================>.] - ETA: 0s - loss: 0.0020 - mean_PSNR: 28.3977\n",
      "Learning rate for epoch 101 is 2.499999936844688e-05\n",
      "1085/1085 [==============================] - 98s 91ms/step - loss: 0.0020 - mean_PSNR: 28.3974 - val_loss: 0.0022 - val_mean_PSNR: 28.0096\n",
      "Epoch 102/300\n",
      "1084/1085 [============================>.] - ETA: 0s - loss: 0.0020 - mean_PSNR: 28.4039\n",
      "Learning rate for epoch 102 is 9.999999747378752e-05\n",
      "1085/1085 [==============================] - 95s 87ms/step - loss: 0.0020 - mean_PSNR: 28.4037 - val_loss: 0.0022 - val_mean_PSNR: 28.0138\n",
      "Epoch 103/300\n",
      "1084/1085 [============================>.] - ETA: 0s - loss: 0.0020 - mean_PSNR: 28.4043\n",
      "Learning rate for epoch 103 is 2.499999936844688e-05\n",
      "1085/1085 [==============================] - 94s 87ms/step - loss: 0.0020 - mean_PSNR: 28.4040 - val_loss: 0.0022 - val_mean_PSNR: 28.0192\n",
      "Epoch 104/300\n",
      "1084/1085 [============================>.] - ETA: 0s - loss: 0.0020 - mean_PSNR: 28.4011\n",
      "Learning rate for epoch 104 is 9.999999747378752e-05\n",
      "1085/1085 [==============================] - 94s 87ms/step - loss: 0.0020 - mean_PSNR: 28.4011 - val_loss: 0.0022 - val_mean_PSNR: 28.0323\n",
      "Epoch 105/300\n",
      "1084/1085 [============================>.] - ETA: 0s - loss: 0.0020 - mean_PSNR: 28.4014\n",
      "Learning rate for epoch 105 is 2.499999936844688e-05\n",
      "1085/1085 [==============================] - 94s 87ms/step - loss: 0.0020 - mean_PSNR: 28.4013 - val_loss: 0.0022 - val_mean_PSNR: 28.0183\n",
      "Epoch 106/300\n",
      "1084/1085 [============================>.] - ETA: 0s - loss: 0.0020 - mean_PSNR: 28.3974\n",
      "Learning rate for epoch 106 is 9.999999747378752e-05\n",
      "1085/1085 [==============================] - 94s 87ms/step - loss: 0.0020 - mean_PSNR: 28.3972 - val_loss: 0.0022 - val_mean_PSNR: 28.0183\n",
      "Epoch 107/300\n",
      "1084/1085 [============================>.] - ETA: 0s - loss: 0.0020 - mean_PSNR: 28.4046\n",
      "Learning rate for epoch 107 is 2.499999936844688e-05\n",
      "1085/1085 [==============================] - 95s 87ms/step - loss: 0.0020 - mean_PSNR: 28.4045 - val_loss: 0.0022 - val_mean_PSNR: 28.0345\n",
      "Epoch 108/300\n",
      "1084/1085 [============================>.] - ETA: 0s - loss: 0.0020 - mean_PSNR: 28.4043\n",
      "Learning rate for epoch 108 is 9.999999747378752e-05\n",
      "1085/1085 [==============================] - 94s 87ms/step - loss: 0.0020 - mean_PSNR: 28.4042 - val_loss: 0.0022 - val_mean_PSNR: 28.0200\n",
      "Epoch 109/300\n",
      "1084/1085 [============================>.] - ETA: 0s - loss: 0.0020 - mean_PSNR: 28.4065\n",
      "Learning rate for epoch 109 is 2.499999936844688e-05\n",
      "1085/1085 [==============================] - 95s 87ms/step - loss: 0.0020 - mean_PSNR: 28.4064 - val_loss: 0.0022 - val_mean_PSNR: 28.0250\n",
      "Epoch 110/300\n",
      "1084/1085 [============================>.] - ETA: 0s - loss: 0.0020 - mean_PSNR: 28.4111\n",
      "Learning rate for epoch 110 is 9.999999747378752e-05\n",
      "1085/1085 [==============================] - 94s 87ms/step - loss: 0.0020 - mean_PSNR: 28.4109 - val_loss: 0.0022 - val_mean_PSNR: 28.0319\n",
      "Epoch 111/300\n",
      "1084/1085 [============================>.] - ETA: 0s - loss: 0.0020 - mean_PSNR: 28.4025\n",
      "Learning rate for epoch 111 is 2.499999936844688e-05\n",
      "1085/1085 [==============================] - 94s 87ms/step - loss: 0.0020 - mean_PSNR: 28.4025 - val_loss: 0.0022 - val_mean_PSNR: 28.0224\n",
      "Epoch 112/300\n",
      "1084/1085 [============================>.] - ETA: 0s - loss: 0.0020 - mean_PSNR: 28.4049\n",
      "Learning rate for epoch 112 is 9.999999747378752e-05\n",
      "1085/1085 [==============================] - 94s 87ms/step - loss: 0.0020 - mean_PSNR: 28.4049 - val_loss: 0.0022 - val_mean_PSNR: 28.0386\n",
      "Epoch 113/300\n",
      "1084/1085 [============================>.] - ETA: 0s - loss: 0.0020 - mean_PSNR: 28.4101\n",
      "Learning rate for epoch 113 is 2.499999936844688e-05\n",
      "1085/1085 [==============================] - 94s 87ms/step - loss: 0.0020 - mean_PSNR: 28.4100 - val_loss: 0.0022 - val_mean_PSNR: 27.9776\n",
      "Epoch 114/300\n",
      "1084/1085 [============================>.] - ETA: 0s - loss: 0.0020 - mean_PSNR: 28.4078\n",
      "Learning rate for epoch 114 is 9.999999747378752e-05\n",
      "1085/1085 [==============================] - 94s 87ms/step - loss: 0.0020 - mean_PSNR: 28.4078 - val_loss: 0.0022 - val_mean_PSNR: 27.9854\n",
      "Epoch 115/300\n",
      "1084/1085 [============================>.] - ETA: 0s - loss: 0.0020 - mean_PSNR: 28.4070\n",
      "Learning rate for epoch 115 is 2.499999936844688e-05\n",
      "1085/1085 [==============================] - 94s 87ms/step - loss: 0.0020 - mean_PSNR: 28.4071 - val_loss: 0.0022 - val_mean_PSNR: 28.0398\n",
      "Epoch 116/300\n",
      " 224/1085 [=====>........................] - ETA: 54s - loss: 0.0020 - mean_PSNR: 28.2850\n",
      "Epoch 00116: saving model to /home/ubuntu/cs230/models/automap_fastmri/2019-06-08_13:06:26/cp-0116.ckpt\n"
     ]
    },
    {
     "name": "stderr",
     "output_type": "stream",
     "text": [
      "W0608 23:09:20.910341 140437208413952 ag_logging.py:145] Entity <function Function._initialize_uninitialized_variables.<locals>.initialize_variables at 0x7fb8ec6c3598> could not be transformed and will be executed as-is. Please report this to the AutoGraph team. When filing the bug, set the verbosity to 10 (on Linux, `export AUTOGRAPH_VERBOSITY=10`) and attach the full output. Cause: No module named 'tensorflow_core.contrib'\n",
      "W0608 23:09:20.919851 140437208413952 ag_logging.py:145] Entity <function Function._initialize_uninitialized_variables.<locals>.initialize_variables at 0x7fb8a02e1c80> could not be transformed and will be executed as-is. Please report this to the AutoGraph team. When filing the bug, set the verbosity to 10 (on Linux, `export AUTOGRAPH_VERBOSITY=10`) and attach the full output. Cause: No module named 'tensorflow_core.contrib'\n",
      "W0608 23:09:20.932421 140437208413952 ag_logging.py:145] Entity <function Function._initialize_uninitialized_variables.<locals>.initialize_variables at 0x7fb8c40fbd90> could not be transformed and will be executed as-is. Please report this to the AutoGraph team. When filing the bug, set the verbosity to 10 (on Linux, `export AUTOGRAPH_VERBOSITY=10`) and attach the full output. Cause: No module named 'tensorflow_core.contrib'\n",
      "W0608 23:09:20.941148 140437208413952 ag_logging.py:145] Entity <function Function._initialize_uninitialized_variables.<locals>.initialize_variables at 0x7fb928742488> could not be transformed and will be executed as-is. Please report this to the AutoGraph team. When filing the bug, set the verbosity to 10 (on Linux, `export AUTOGRAPH_VERBOSITY=10`) and attach the full output. Cause: No module named 'tensorflow_core.contrib'\n",
      "W0608 23:09:20.944870 140437208413952 ag_logging.py:145] Entity <bound method L1L2.__call__ of <tensorflow.python.keras.regularizers.L1L2 object at 0x7fb9403e3fd0>> could not be transformed and will be executed as-is. Please report this to the AutoGraph team. When filing the bug, set the verbosity to 10 (on Linux, `export AUTOGRAPH_VERBOSITY=10`) and attach the full output. Cause: No module named 'tensorflow_core.contrib'\n",
      "W0608 23:09:20.957081 140437208413952 ag_logging.py:145] Entity <function Function._initialize_uninitialized_variables.<locals>.initialize_variables at 0x7fb8a0c33b70> could not be transformed and will be executed as-is. Please report this to the AutoGraph team. When filing the bug, set the verbosity to 10 (on Linux, `export AUTOGRAPH_VERBOSITY=10`) and attach the full output. Cause: No module named 'tensorflow_core.contrib'\n"
     ]
    },
    {
     "name": "stdout",
     "output_type": "stream",
     "text": [
      "WARNING: Entity <function Function._initialize_uninitialized_variables.<locals>.initialize_variables at 0x7fb8ec6c3598> could not be transformed and will be executed as-is. Please report this to the AutoGraph team. When filing the bug, set the verbosity to 10 (on Linux, `export AUTOGRAPH_VERBOSITY=10`) and attach the full output. Cause: No module named 'tensorflow_core.contrib'\n",
      "WARNING: Entity <function Function._initialize_uninitialized_variables.<locals>.initialize_variables at 0x7fb8a02e1c80> could not be transformed and will be executed as-is. Please report this to the AutoGraph team. When filing the bug, set the verbosity to 10 (on Linux, `export AUTOGRAPH_VERBOSITY=10`) and attach the full output. Cause: No module named 'tensorflow_core.contrib'\n",
      "WARNING: Entity <function Function._initialize_uninitialized_variables.<locals>.initialize_variables at 0x7fb8c40fbd90> could not be transformed and will be executed as-is. Please report this to the AutoGraph team. When filing the bug, set the verbosity to 10 (on Linux, `export AUTOGRAPH_VERBOSITY=10`) and attach the full output. Cause: No module named 'tensorflow_core.contrib'\n",
      "WARNING: Entity <function Function._initialize_uninitialized_variables.<locals>.initialize_variables at 0x7fb928742488> could not be transformed and will be executed as-is. Please report this to the AutoGraph team. When filing the bug, set the verbosity to 10 (on Linux, `export AUTOGRAPH_VERBOSITY=10`) and attach the full output. Cause: No module named 'tensorflow_core.contrib'\n",
      "WARNING: Entity <bound method L1L2.__call__ of <tensorflow.python.keras.regularizers.L1L2 object at 0x7fb9403e3fd0>> could not be transformed and will be executed as-is. Please report this to the AutoGraph team. When filing the bug, set the verbosity to 10 (on Linux, `export AUTOGRAPH_VERBOSITY=10`) and attach the full output. Cause: No module named 'tensorflow_core.contrib'\n",
      "WARNING: Entity <function Function._initialize_uninitialized_variables.<locals>.initialize_variables at 0x7fb8a0c33b70> could not be transformed and will be executed as-is. Please report this to the AutoGraph team. When filing the bug, set the verbosity to 10 (on Linux, `export AUTOGRAPH_VERBOSITY=10`) and attach the full output. Cause: No module named 'tensorflow_core.contrib'\n"
     ]
    },
    {
     "name": "stderr",
     "output_type": "stream",
     "text": [
      "W0608 23:09:20.969099 140437208413952 ag_logging.py:145] Entity <function Function._initialize_uninitialized_variables.<locals>.initialize_variables at 0x7fb8a0b551e0> could not be transformed and will be executed as-is. Please report this to the AutoGraph team. When filing the bug, set the verbosity to 10 (on Linux, `export AUTOGRAPH_VERBOSITY=10`) and attach the full output. Cause: No module named 'tensorflow_core.contrib'\n",
      "W0608 23:09:21.002911 140437208413952 ag_logging.py:145] Entity <function Function._initialize_uninitialized_variables.<locals>.initialize_variables at 0x7fb9404c3158> could not be transformed and will be executed as-is. Please report this to the AutoGraph team. When filing the bug, set the verbosity to 10 (on Linux, `export AUTOGRAPH_VERBOSITY=10`) and attach the full output. Cause: No module named 'tensorflow_core.contrib'\n",
      "W0608 23:09:21.012504 140437208413952 ag_logging.py:145] Entity <function Function._initialize_uninitialized_variables.<locals>.initialize_variables at 0x7fb92878f158> could not be transformed and will be executed as-is. Please report this to the AutoGraph team. When filing the bug, set the verbosity to 10 (on Linux, `export AUTOGRAPH_VERBOSITY=10`) and attach the full output. Cause: No module named 'tensorflow_core.contrib'\n"
     ]
    },
    {
     "name": "stdout",
     "output_type": "stream",
     "text": [
      "WARNING: Entity <function Function._initialize_uninitialized_variables.<locals>.initialize_variables at 0x7fb8a0b551e0> could not be transformed and will be executed as-is. Please report this to the AutoGraph team. When filing the bug, set the verbosity to 10 (on Linux, `export AUTOGRAPH_VERBOSITY=10`) and attach the full output. Cause: No module named 'tensorflow_core.contrib'\n",
      "WARNING: Entity <function Function._initialize_uninitialized_variables.<locals>.initialize_variables at 0x7fb9404c3158> could not be transformed and will be executed as-is. Please report this to the AutoGraph team. When filing the bug, set the verbosity to 10 (on Linux, `export AUTOGRAPH_VERBOSITY=10`) and attach the full output. Cause: No module named 'tensorflow_core.contrib'\n",
      "WARNING: Entity <function Function._initialize_uninitialized_variables.<locals>.initialize_variables at 0x7fb92878f158> could not be transformed and will be executed as-is. Please report this to the AutoGraph team. When filing the bug, set the verbosity to 10 (on Linux, `export AUTOGRAPH_VERBOSITY=10`) and attach the full output. Cause: No module named 'tensorflow_core.contrib'\n"
     ]
    },
    {
     "name": "stderr",
     "output_type": "stream",
     "text": [
      "W0608 23:09:21.326481 140437208413952 ag_logging.py:145] Entity <function Function._initialize_uninitialized_variables.<locals>.initialize_variables at 0x7fb8ec47dbf8> could not be transformed and will be executed as-is. Please report this to the AutoGraph team. When filing the bug, set the verbosity to 10 (on Linux, `export AUTOGRAPH_VERBOSITY=10`) and attach the full output. Cause: No module named 'tensorflow_core.contrib'\n",
      "W0608 23:09:21.347129 140437208413952 ag_logging.py:145] Entity <function Function._initialize_uninitialized_variables.<locals>.initialize_variables at 0x7fb8ec506f28> could not be transformed and will be executed as-is. Please report this to the AutoGraph team. When filing the bug, set the verbosity to 10 (on Linux, `export AUTOGRAPH_VERBOSITY=10`) and attach the full output. Cause: No module named 'tensorflow_core.contrib'\n",
      "W0608 23:09:21.401727 140437208413952 ag_logging.py:145] Entity <function Function._initialize_uninitialized_variables.<locals>.initialize_variables at 0x7fb8c40ecae8> could not be transformed and will be executed as-is. Please report this to the AutoGraph team. When filing the bug, set the verbosity to 10 (on Linux, `export AUTOGRAPH_VERBOSITY=10`) and attach the full output. Cause: No module named 'tensorflow_core.contrib'\n",
      "W0608 23:09:21.417500 140437208413952 ag_logging.py:145] Entity <function canonicalize_signatures.<locals>.signature_wrapper at 0x7fb92878f158> could not be transformed and will be executed as-is. Please report this to the AutoGraph team. When filing the bug, set the verbosity to 10 (on Linux, `export AUTOGRAPH_VERBOSITY=10`) and attach the full output. Cause: No module named 'tensorflow_core.contrib'\n",
      "W0608 23:09:21.435911 140437208413952 ag_logging.py:145] Entity <function Function._initialize_uninitialized_variables.<locals>.initialize_variables at 0x7fb9400546a8> could not be transformed and will be executed as-is. Please report this to the AutoGraph team. When filing the bug, set the verbosity to 10 (on Linux, `export AUTOGRAPH_VERBOSITY=10`) and attach the full output. Cause: No module named 'tensorflow_core.contrib'\n"
     ]
    },
    {
     "name": "stdout",
     "output_type": "stream",
     "text": [
      "WARNING: Entity <function Function._initialize_uninitialized_variables.<locals>.initialize_variables at 0x7fb8ec47dbf8> could not be transformed and will be executed as-is. Please report this to the AutoGraph team. When filing the bug, set the verbosity to 10 (on Linux, `export AUTOGRAPH_VERBOSITY=10`) and attach the full output. Cause: No module named 'tensorflow_core.contrib'\n",
      "WARNING: Entity <function Function._initialize_uninitialized_variables.<locals>.initialize_variables at 0x7fb8ec506f28> could not be transformed and will be executed as-is. Please report this to the AutoGraph team. When filing the bug, set the verbosity to 10 (on Linux, `export AUTOGRAPH_VERBOSITY=10`) and attach the full output. Cause: No module named 'tensorflow_core.contrib'\n",
      "WARNING: Entity <function Function._initialize_uninitialized_variables.<locals>.initialize_variables at 0x7fb8c40ecae8> could not be transformed and will be executed as-is. Please report this to the AutoGraph team. When filing the bug, set the verbosity to 10 (on Linux, `export AUTOGRAPH_VERBOSITY=10`) and attach the full output. Cause: No module named 'tensorflow_core.contrib'\n",
      "WARNING: Entity <function canonicalize_signatures.<locals>.signature_wrapper at 0x7fb92878f158> could not be transformed and will be executed as-is. Please report this to the AutoGraph team. When filing the bug, set the verbosity to 10 (on Linux, `export AUTOGRAPH_VERBOSITY=10`) and attach the full output. Cause: No module named 'tensorflow_core.contrib'\n",
      "WARNING: Entity <function Function._initialize_uninitialized_variables.<locals>.initialize_variables at 0x7fb9400546a8> could not be transformed and will be executed as-is. Please report this to the AutoGraph team. When filing the bug, set the verbosity to 10 (on Linux, `export AUTOGRAPH_VERBOSITY=10`) and attach the full output. Cause: No module named 'tensorflow_core.contrib'\n",
      "1084/1085 [============================>.] - ETA: 0s - loss: 0.0020 - mean_PSNR: 28.4119\n",
      "Learning rate for epoch 116 is 9.999999747378752e-05\n",
      "1085/1085 [==============================] - 98s 90ms/step - loss: 0.0020 - mean_PSNR: 28.4120 - val_loss: 0.0022 - val_mean_PSNR: 28.0094\n",
      "Epoch 117/300\n",
      "1084/1085 [============================>.] - ETA: 0s - loss: 0.0020 - mean_PSNR: 28.4076\n",
      "Learning rate for epoch 117 is 2.499999936844688e-05\n",
      "1085/1085 [==============================] - 94s 87ms/step - loss: 0.0020 - mean_PSNR: 28.4075 - val_loss: 0.0022 - val_mean_PSNR: 28.0371\n",
      "Epoch 118/300\n",
      "1084/1085 [============================>.] - ETA: 0s - loss: 0.0020 - mean_PSNR: 28.4165\n",
      "Learning rate for epoch 118 is 9.999999747378752e-05\n",
      "1085/1085 [==============================] - 94s 87ms/step - loss: 0.0020 - mean_PSNR: 28.4165 - val_loss: 0.0022 - val_mean_PSNR: 28.0368\n",
      "Epoch 119/300\n",
      "1084/1085 [============================>.] - ETA: 0s - loss: 0.0020 - mean_PSNR: 28.4037\n",
      "Learning rate for epoch 119 is 2.499999936844688e-05\n",
      "1085/1085 [==============================] - 94s 87ms/step - loss: 0.0020 - mean_PSNR: 28.4036 - val_loss: 0.0022 - val_mean_PSNR: 28.0160\n",
      "Epoch 120/300\n",
      "1084/1085 [============================>.] - ETA: 0s - loss: 0.0020 - mean_PSNR: 28.4119\n",
      "Learning rate for epoch 120 is 9.999999747378752e-05\n",
      "1085/1085 [==============================] - 95s 87ms/step - loss: 0.0020 - mean_PSNR: 28.4119 - val_loss: 0.0022 - val_mean_PSNR: 28.0146\n",
      "Epoch 121/300\n",
      "1084/1085 [============================>.] - ETA: 0s - loss: 0.0020 - mean_PSNR: 28.4178\n",
      "Learning rate for epoch 121 is 2.499999936844688e-05\n",
      "1085/1085 [==============================] - 94s 87ms/step - loss: 0.0020 - mean_PSNR: 28.4177 - val_loss: 0.0022 - val_mean_PSNR: 28.0383\n",
      "Epoch 122/300\n",
      "1084/1085 [============================>.] - ETA: 0s - loss: 0.0020 - mean_PSNR: 28.4144\n",
      "Learning rate for epoch 122 is 9.999999747378752e-05\n",
      "1085/1085 [==============================] - 94s 87ms/step - loss: 0.0020 - mean_PSNR: 28.4143 - val_loss: 0.0022 - val_mean_PSNR: 28.0312\n",
      "Epoch 123/300\n",
      "1084/1085 [============================>.] - ETA: 0s - loss: 0.0020 - mean_PSNR: 28.4184\n",
      "Learning rate for epoch 123 is 2.499999936844688e-05\n",
      "1085/1085 [==============================] - 94s 87ms/step - loss: 0.0020 - mean_PSNR: 28.4184 - val_loss: 0.0022 - val_mean_PSNR: 28.0365\n",
      "Epoch 124/300\n",
      "1084/1085 [============================>.] - ETA: 0s - loss: 0.0020 - mean_PSNR: 28.4209\n",
      "Learning rate for epoch 124 is 9.999999747378752e-05\n",
      "1085/1085 [==============================] - 94s 87ms/step - loss: 0.0020 - mean_PSNR: 28.4209 - val_loss: 0.0022 - val_mean_PSNR: 28.0275\n",
      "Epoch 125/300\n",
      "1084/1085 [============================>.] - ETA: 0s - loss: 0.0020 - mean_PSNR: 28.4169\n",
      "Learning rate for epoch 125 is 2.499999936844688e-05\n",
      "1085/1085 [==============================] - 94s 87ms/step - loss: 0.0020 - mean_PSNR: 28.4169 - val_loss: 0.0022 - val_mean_PSNR: 28.0409\n",
      "Epoch 126/300\n",
      "1084/1085 [============================>.] - ETA: 0s - loss: 0.0020 - mean_PSNR: 28.4179\n",
      "Learning rate for epoch 126 is 9.999999747378752e-05\n",
      "1085/1085 [==============================] - 96s 88ms/step - loss: 0.0020 - mean_PSNR: 28.4177 - val_loss: 0.0022 - val_mean_PSNR: 28.0055\n",
      "Epoch 127/300\n",
      "1084/1085 [============================>.] - ETA: 0s - loss: 0.0020 - mean_PSNR: 28.4194\n",
      "Learning rate for epoch 127 is 2.499999936844688e-05\n",
      "1085/1085 [==============================] - 94s 87ms/step - loss: 0.0020 - mean_PSNR: 28.4193 - val_loss: 0.0022 - val_mean_PSNR: 28.0379\n",
      "Epoch 128/300\n",
      "1084/1085 [============================>.] - ETA: 0s - loss: 0.0020 - mean_PSNR: 28.4118\n",
      "Learning rate for epoch 128 is 9.999999747378752e-05\n",
      "1085/1085 [==============================] - 94s 87ms/step - loss: 0.0020 - mean_PSNR: 28.4118 - val_loss: 0.0022 - val_mean_PSNR: 28.0184\n",
      "Epoch 129/300\n",
      "1084/1085 [============================>.] - ETA: 0s - loss: 0.0020 - mean_PSNR: 28.4240\n",
      "Learning rate for epoch 129 is 2.499999936844688e-05\n",
      "1085/1085 [==============================] - 94s 87ms/step - loss: 0.0020 - mean_PSNR: 28.4240 - val_loss: 0.0022 - val_mean_PSNR: 28.0342\n",
      "Epoch 130/300\n",
      " 659/1085 [=================>............] - ETA: 27s - loss: 0.0020 - mean_PSNR: 28.4461\n",
      "Epoch 00130: saving model to /home/ubuntu/cs230/models/automap_fastmri/2019-06-08_13:06:26/cp-0130.ckpt\n"
     ]
    },
    {
     "name": "stderr",
     "output_type": "stream",
     "text": [
      "W0608 23:31:55.233058 140437208413952 ag_logging.py:145] Entity <function Function._initialize_uninitialized_variables.<locals>.initialize_variables at 0x7fb8a1d56ae8> could not be transformed and will be executed as-is. Please report this to the AutoGraph team. When filing the bug, set the verbosity to 10 (on Linux, `export AUTOGRAPH_VERBOSITY=10`) and attach the full output. Cause: No module named 'tensorflow_core.contrib'\n",
      "W0608 23:31:55.242812 140437208413952 ag_logging.py:145] Entity <function Function._initialize_uninitialized_variables.<locals>.initialize_variables at 0x7fb92878f6a8> could not be transformed and will be executed as-is. Please report this to the AutoGraph team. When filing the bug, set the verbosity to 10 (on Linux, `export AUTOGRAPH_VERBOSITY=10`) and attach the full output. Cause: No module named 'tensorflow_core.contrib'\n",
      "W0608 23:31:55.256268 140437208413952 ag_logging.py:145] Entity <function Function._initialize_uninitialized_variables.<locals>.initialize_variables at 0x7fb8a0937620> could not be transformed and will be executed as-is. Please report this to the AutoGraph team. When filing the bug, set the verbosity to 10 (on Linux, `export AUTOGRAPH_VERBOSITY=10`) and attach the full output. Cause: No module named 'tensorflow_core.contrib'\n",
      "W0608 23:31:55.265690 140437208413952 ag_logging.py:145] Entity <function Function._initialize_uninitialized_variables.<locals>.initialize_variables at 0x7fb940232c80> could not be transformed and will be executed as-is. Please report this to the AutoGraph team. When filing the bug, set the verbosity to 10 (on Linux, `export AUTOGRAPH_VERBOSITY=10`) and attach the full output. Cause: No module named 'tensorflow_core.contrib'\n",
      "W0608 23:31:55.269946 140437208413952 ag_logging.py:145] Entity <bound method L1L2.__call__ of <tensorflow.python.keras.regularizers.L1L2 object at 0x7fb9403e3fd0>> could not be transformed and will be executed as-is. Please report this to the AutoGraph team. When filing the bug, set the verbosity to 10 (on Linux, `export AUTOGRAPH_VERBOSITY=10`) and attach the full output. Cause: No module named 'tensorflow_core.contrib'\n",
      "W0608 23:31:55.282182 140437208413952 ag_logging.py:145] Entity <function Function._initialize_uninitialized_variables.<locals>.initialize_variables at 0x7fb8ec6a5378> could not be transformed and will be executed as-is. Please report this to the AutoGraph team. When filing the bug, set the verbosity to 10 (on Linux, `export AUTOGRAPH_VERBOSITY=10`) and attach the full output. Cause: No module named 'tensorflow_core.contrib'\n"
     ]
    },
    {
     "name": "stdout",
     "output_type": "stream",
     "text": [
      "WARNING: Entity <function Function._initialize_uninitialized_variables.<locals>.initialize_variables at 0x7fb8a1d56ae8> could not be transformed and will be executed as-is. Please report this to the AutoGraph team. When filing the bug, set the verbosity to 10 (on Linux, `export AUTOGRAPH_VERBOSITY=10`) and attach the full output. Cause: No module named 'tensorflow_core.contrib'\n",
      "WARNING: Entity <function Function._initialize_uninitialized_variables.<locals>.initialize_variables at 0x7fb92878f6a8> could not be transformed and will be executed as-is. Please report this to the AutoGraph team. When filing the bug, set the verbosity to 10 (on Linux, `export AUTOGRAPH_VERBOSITY=10`) and attach the full output. Cause: No module named 'tensorflow_core.contrib'\n",
      "WARNING: Entity <function Function._initialize_uninitialized_variables.<locals>.initialize_variables at 0x7fb8a0937620> could not be transformed and will be executed as-is. Please report this to the AutoGraph team. When filing the bug, set the verbosity to 10 (on Linux, `export AUTOGRAPH_VERBOSITY=10`) and attach the full output. Cause: No module named 'tensorflow_core.contrib'\n",
      "WARNING: Entity <function Function._initialize_uninitialized_variables.<locals>.initialize_variables at 0x7fb940232c80> could not be transformed and will be executed as-is. Please report this to the AutoGraph team. When filing the bug, set the verbosity to 10 (on Linux, `export AUTOGRAPH_VERBOSITY=10`) and attach the full output. Cause: No module named 'tensorflow_core.contrib'\n",
      "WARNING: Entity <bound method L1L2.__call__ of <tensorflow.python.keras.regularizers.L1L2 object at 0x7fb9403e3fd0>> could not be transformed and will be executed as-is. Please report this to the AutoGraph team. When filing the bug, set the verbosity to 10 (on Linux, `export AUTOGRAPH_VERBOSITY=10`) and attach the full output. Cause: No module named 'tensorflow_core.contrib'\n",
      "WARNING: Entity <function Function._initialize_uninitialized_variables.<locals>.initialize_variables at 0x7fb8ec6a5378> could not be transformed and will be executed as-is. Please report this to the AutoGraph team. When filing the bug, set the verbosity to 10 (on Linux, `export AUTOGRAPH_VERBOSITY=10`) and attach the full output. Cause: No module named 'tensorflow_core.contrib'\n"
     ]
    },
    {
     "name": "stderr",
     "output_type": "stream",
     "text": [
      "W0608 23:31:55.295293 140437208413952 ag_logging.py:145] Entity <function Function._initialize_uninitialized_variables.<locals>.initialize_variables at 0x7fb8a12489d8> could not be transformed and will be executed as-is. Please report this to the AutoGraph team. When filing the bug, set the verbosity to 10 (on Linux, `export AUTOGRAPH_VERBOSITY=10`) and attach the full output. Cause: No module named 'tensorflow_core.contrib'\n",
      "W0608 23:31:55.327293 140437208413952 ag_logging.py:145] Entity <function Function._initialize_uninitialized_variables.<locals>.initialize_variables at 0x7fb94016fd90> could not be transformed and will be executed as-is. Please report this to the AutoGraph team. When filing the bug, set the verbosity to 10 (on Linux, `export AUTOGRAPH_VERBOSITY=10`) and attach the full output. Cause: No module named 'tensorflow_core.contrib'\n",
      "W0608 23:31:55.338466 140437208413952 ag_logging.py:145] Entity <function Function._initialize_uninitialized_variables.<locals>.initialize_variables at 0x7fb940054d08> could not be transformed and will be executed as-is. Please report this to the AutoGraph team. When filing the bug, set the verbosity to 10 (on Linux, `export AUTOGRAPH_VERBOSITY=10`) and attach the full output. Cause: No module named 'tensorflow_core.contrib'\n"
     ]
    },
    {
     "name": "stdout",
     "output_type": "stream",
     "text": [
      "WARNING: Entity <function Function._initialize_uninitialized_variables.<locals>.initialize_variables at 0x7fb8a12489d8> could not be transformed and will be executed as-is. Please report this to the AutoGraph team. When filing the bug, set the verbosity to 10 (on Linux, `export AUTOGRAPH_VERBOSITY=10`) and attach the full output. Cause: No module named 'tensorflow_core.contrib'\n",
      "WARNING: Entity <function Function._initialize_uninitialized_variables.<locals>.initialize_variables at 0x7fb94016fd90> could not be transformed and will be executed as-is. Please report this to the AutoGraph team. When filing the bug, set the verbosity to 10 (on Linux, `export AUTOGRAPH_VERBOSITY=10`) and attach the full output. Cause: No module named 'tensorflow_core.contrib'\n",
      "WARNING: Entity <function Function._initialize_uninitialized_variables.<locals>.initialize_variables at 0x7fb940054d08> could not be transformed and will be executed as-is. Please report this to the AutoGraph team. When filing the bug, set the verbosity to 10 (on Linux, `export AUTOGRAPH_VERBOSITY=10`) and attach the full output. Cause: No module named 'tensorflow_core.contrib'\n"
     ]
    },
    {
     "name": "stderr",
     "output_type": "stream",
     "text": [
      "W0608 23:31:55.645982 140437208413952 ag_logging.py:145] Entity <function Function._initialize_uninitialized_variables.<locals>.initialize_variables at 0x7fb9404c38c8> could not be transformed and will be executed as-is. Please report this to the AutoGraph team. When filing the bug, set the verbosity to 10 (on Linux, `export AUTOGRAPH_VERBOSITY=10`) and attach the full output. Cause: No module named 'tensorflow_core.contrib'\n",
      "W0608 23:31:55.666260 140437208413952 ag_logging.py:145] Entity <function Function._initialize_uninitialized_variables.<locals>.initialize_variables at 0x7fb8a014ad90> could not be transformed and will be executed as-is. Please report this to the AutoGraph team. When filing the bug, set the verbosity to 10 (on Linux, `export AUTOGRAPH_VERBOSITY=10`) and attach the full output. Cause: No module named 'tensorflow_core.contrib'\n",
      "W0608 23:31:55.717298 140437208413952 ag_logging.py:145] Entity <function Function._initialize_uninitialized_variables.<locals>.initialize_variables at 0x7fb8a0676510> could not be transformed and will be executed as-is. Please report this to the AutoGraph team. When filing the bug, set the verbosity to 10 (on Linux, `export AUTOGRAPH_VERBOSITY=10`) and attach the full output. Cause: No module named 'tensorflow_core.contrib'\n",
      "W0608 23:31:55.733409 140437208413952 ag_logging.py:145] Entity <function canonicalize_signatures.<locals>.signature_wrapper at 0x7fb8a02236a8> could not be transformed and will be executed as-is. Please report this to the AutoGraph team. When filing the bug, set the verbosity to 10 (on Linux, `export AUTOGRAPH_VERBOSITY=10`) and attach the full output. Cause: No module named 'tensorflow_core.contrib'\n",
      "W0608 23:31:55.750721 140437208413952 ag_logging.py:145] Entity <function Function._initialize_uninitialized_variables.<locals>.initialize_variables at 0x7fb928742730> could not be transformed and will be executed as-is. Please report this to the AutoGraph team. When filing the bug, set the verbosity to 10 (on Linux, `export AUTOGRAPH_VERBOSITY=10`) and attach the full output. Cause: No module named 'tensorflow_core.contrib'\n"
     ]
    },
    {
     "name": "stdout",
     "output_type": "stream",
     "text": [
      "WARNING: Entity <function Function._initialize_uninitialized_variables.<locals>.initialize_variables at 0x7fb9404c38c8> could not be transformed and will be executed as-is. Please report this to the AutoGraph team. When filing the bug, set the verbosity to 10 (on Linux, `export AUTOGRAPH_VERBOSITY=10`) and attach the full output. Cause: No module named 'tensorflow_core.contrib'\n",
      "WARNING: Entity <function Function._initialize_uninitialized_variables.<locals>.initialize_variables at 0x7fb8a014ad90> could not be transformed and will be executed as-is. Please report this to the AutoGraph team. When filing the bug, set the verbosity to 10 (on Linux, `export AUTOGRAPH_VERBOSITY=10`) and attach the full output. Cause: No module named 'tensorflow_core.contrib'\n",
      "WARNING: Entity <function Function._initialize_uninitialized_variables.<locals>.initialize_variables at 0x7fb8a0676510> could not be transformed and will be executed as-is. Please report this to the AutoGraph team. When filing the bug, set the verbosity to 10 (on Linux, `export AUTOGRAPH_VERBOSITY=10`) and attach the full output. Cause: No module named 'tensorflow_core.contrib'\n",
      "WARNING: Entity <function canonicalize_signatures.<locals>.signature_wrapper at 0x7fb8a02236a8> could not be transformed and will be executed as-is. Please report this to the AutoGraph team. When filing the bug, set the verbosity to 10 (on Linux, `export AUTOGRAPH_VERBOSITY=10`) and attach the full output. Cause: No module named 'tensorflow_core.contrib'\n",
      "WARNING: Entity <function Function._initialize_uninitialized_variables.<locals>.initialize_variables at 0x7fb928742730> could not be transformed and will be executed as-is. Please report this to the AutoGraph team. When filing the bug, set the verbosity to 10 (on Linux, `export AUTOGRAPH_VERBOSITY=10`) and attach the full output. Cause: No module named 'tensorflow_core.contrib'\n",
      "1084/1085 [============================>.] - ETA: 0s - loss: 0.0020 - mean_PSNR: 28.4281\n",
      "Learning rate for epoch 130 is 9.999999747378752e-05\n",
      "1085/1085 [==============================] - 100s 92ms/step - loss: 0.0020 - mean_PSNR: 28.4279 - val_loss: 0.0022 - val_mean_PSNR: 28.0070\n",
      "Epoch 131/300\n",
      "1084/1085 [============================>.] - ETA: 0s - loss: 0.0020 - mean_PSNR: 28.4126\n",
      "Learning rate for epoch 131 is 2.499999936844688e-05\n",
      "1085/1085 [==============================] - 94s 87ms/step - loss: 0.0020 - mean_PSNR: 28.4125 - val_loss: 0.0022 - val_mean_PSNR: 28.0576\n",
      "Epoch 132/300\n",
      "1084/1085 [============================>.] - ETA: 0s - loss: 0.0020 - mean_PSNR: 28.4182\n",
      "Learning rate for epoch 132 is 9.999999747378752e-05\n",
      "1085/1085 [==============================] - 94s 87ms/step - loss: 0.0020 - mean_PSNR: 28.4180 - val_loss: 0.0022 - val_mean_PSNR: 28.0220\n",
      "Epoch 133/300\n",
      "1084/1085 [============================>.] - ETA: 0s - loss: 0.0020 - mean_PSNR: 28.4279\n",
      "Learning rate for epoch 133 is 2.499999936844688e-05\n",
      "1085/1085 [==============================] - 94s 87ms/step - loss: 0.0020 - mean_PSNR: 28.4279 - val_loss: 0.0022 - val_mean_PSNR: 28.0425\n",
      "Epoch 134/300\n",
      "1084/1085 [============================>.] - ETA: 0s - loss: 0.0020 - mean_PSNR: 28.4213\n",
      "Learning rate for epoch 134 is 9.999999747378752e-05\n",
      "1085/1085 [==============================] - 94s 87ms/step - loss: 0.0020 - mean_PSNR: 28.4212 - val_loss: 0.0022 - val_mean_PSNR: 28.0504\n",
      "Epoch 135/300\n",
      "1084/1085 [============================>.] - ETA: 0s - loss: 0.0020 - mean_PSNR: 28.4193\n",
      "Learning rate for epoch 135 is 2.499999936844688e-05\n",
      "1085/1085 [==============================] - 94s 87ms/step - loss: 0.0020 - mean_PSNR: 28.4191 - val_loss: 0.0022 - val_mean_PSNR: 28.0228\n",
      "Epoch 136/300\n",
      "1084/1085 [============================>.] - ETA: 0s - loss: 0.0020 - mean_PSNR: 28.4177\n",
      "Learning rate for epoch 136 is 9.999999747378752e-05\n",
      "1085/1085 [==============================] - 94s 87ms/step - loss: 0.0020 - mean_PSNR: 28.4177 - val_loss: 0.0022 - val_mean_PSNR: 28.0455\n",
      "Epoch 137/300\n",
      "1084/1085 [============================>.] - ETA: 0s - loss: 0.0020 - mean_PSNR: 28.4262\n",
      "Learning rate for epoch 137 is 2.499999936844688e-05\n",
      "1085/1085 [==============================] - 94s 87ms/step - loss: 0.0020 - mean_PSNR: 28.4262 - val_loss: 0.0022 - val_mean_PSNR: 28.0407\n",
      "Epoch 138/300\n",
      "1084/1085 [============================>.] - ETA: 0s - loss: 0.0020 - mean_PSNR: 28.4230\n",
      "Learning rate for epoch 138 is 9.999999747378752e-05\n",
      "1085/1085 [==============================] - 94s 87ms/step - loss: 0.0020 - mean_PSNR: 28.4231 - val_loss: 0.0022 - val_mean_PSNR: 28.0438\n",
      "Epoch 139/300\n",
      "1084/1085 [============================>.] - ETA: 0s - loss: 0.0020 - mean_PSNR: 28.4214\n",
      "Learning rate for epoch 139 is 2.499999936844688e-05\n",
      "1085/1085 [==============================] - 95s 87ms/step - loss: 0.0020 - mean_PSNR: 28.4213 - val_loss: 0.0022 - val_mean_PSNR: 28.0273\n",
      "Epoch 140/300\n",
      "1084/1085 [============================>.] - ETA: 0s - loss: 0.0020 - mean_PSNR: 28.4224\n",
      "Learning rate for epoch 140 is 9.999999747378752e-05\n",
      "1085/1085 [==============================] - 95s 88ms/step - loss: 0.0020 - mean_PSNR: 28.4223 - val_loss: 0.0022 - val_mean_PSNR: 28.0289\n",
      "Epoch 141/300\n",
      "1084/1085 [============================>.] - ETA: 0s - loss: 0.0020 - mean_PSNR: 28.4238\n",
      "Learning rate for epoch 141 is 2.499999936844688e-05\n",
      "1085/1085 [==============================] - 94s 87ms/step - loss: 0.0020 - mean_PSNR: 28.4238 - val_loss: 0.0022 - val_mean_PSNR: 28.0233\n",
      "Epoch 142/300\n",
      "1084/1085 [============================>.] - ETA: 0s - loss: 0.0020 - mean_PSNR: 28.4243\n",
      "Learning rate for epoch 142 is 9.999999747378752e-05\n",
      "1085/1085 [==============================] - 94s 87ms/step - loss: 0.0020 - mean_PSNR: 28.4242 - val_loss: 0.0022 - val_mean_PSNR: 28.0385\n",
      "Epoch 143/300\n",
      "1084/1085 [============================>.] - ETA: 0s - loss: 0.0020 - mean_PSNR: 28.4329\n",
      "Learning rate for epoch 143 is 2.499999936844688e-05\n",
      "1085/1085 [==============================] - 94s 87ms/step - loss: 0.0020 - mean_PSNR: 28.4330 - val_loss: 0.0022 - val_mean_PSNR: 28.0139\n",
      "Epoch 144/300\n",
      "1084/1085 [============================>.] - ETA: 0s - loss: 0.0020 - mean_PSNR: 28.4207\n",
      "Learning rate for epoch 144 is 9.999999747378752e-05\n",
      "1085/1085 [==============================] - 94s 87ms/step - loss: 0.0020 - mean_PSNR: 28.4206 - val_loss: 0.0022 - val_mean_PSNR: 28.0367\n",
      "Epoch 145/300\n",
      "   9/1085 [..............................] - ETA: 1:19 - loss: 0.0019 - mean_PSNR: 28.5791\n",
      "Epoch 00145: saving model to /home/ubuntu/cs230/models/automap_fastmri/2019-06-08_13:06:26/cp-0145.ckpt\n"
     ]
    },
    {
     "name": "stderr",
     "output_type": "stream",
     "text": [
      "W0608 23:54:56.943475 140437208413952 ag_logging.py:145] Entity <function Function._initialize_uninitialized_variables.<locals>.initialize_variables at 0x7fb8c452c8c8> could not be transformed and will be executed as-is. Please report this to the AutoGraph team. When filing the bug, set the verbosity to 10 (on Linux, `export AUTOGRAPH_VERBOSITY=10`) and attach the full output. Cause: No module named 'tensorflow_core.contrib'\n",
      "W0608 23:54:56.952302 140437208413952 ag_logging.py:145] Entity <function Function._initialize_uninitialized_variables.<locals>.initialize_variables at 0x7fb8a0b552f0> could not be transformed and will be executed as-is. Please report this to the AutoGraph team. When filing the bug, set the verbosity to 10 (on Linux, `export AUTOGRAPH_VERBOSITY=10`) and attach the full output. Cause: No module named 'tensorflow_core.contrib'\n",
      "W0608 23:54:56.964609 140437208413952 ag_logging.py:145] Entity <function Function._initialize_uninitialized_variables.<locals>.initialize_variables at 0x7fb9401d4158> could not be transformed and will be executed as-is. Please report this to the AutoGraph team. When filing the bug, set the verbosity to 10 (on Linux, `export AUTOGRAPH_VERBOSITY=10`) and attach the full output. Cause: No module named 'tensorflow_core.contrib'\n",
      "W0608 23:54:56.973246 140437208413952 ag_logging.py:145] Entity <function Function._initialize_uninitialized_variables.<locals>.initialize_variables at 0x7fb8a014a7b8> could not be transformed and will be executed as-is. Please report this to the AutoGraph team. When filing the bug, set the verbosity to 10 (on Linux, `export AUTOGRAPH_VERBOSITY=10`) and attach the full output. Cause: No module named 'tensorflow_core.contrib'\n",
      "W0608 23:54:56.977101 140437208413952 ag_logging.py:145] Entity <bound method L1L2.__call__ of <tensorflow.python.keras.regularizers.L1L2 object at 0x7fb9403e3fd0>> could not be transformed and will be executed as-is. Please report this to the AutoGraph team. When filing the bug, set the verbosity to 10 (on Linux, `export AUTOGRAPH_VERBOSITY=10`) and attach the full output. Cause: No module named 'tensorflow_core.contrib'\n",
      "W0608 23:54:56.988797 140437208413952 ag_logging.py:145] Entity <function Function._initialize_uninitialized_variables.<locals>.initialize_variables at 0x7fb9400546a8> could not be transformed and will be executed as-is. Please report this to the AutoGraph team. When filing the bug, set the verbosity to 10 (on Linux, `export AUTOGRAPH_VERBOSITY=10`) and attach the full output. Cause: No module named 'tensorflow_core.contrib'\n",
      "W0608 23:54:56.999989 140437208413952 ag_logging.py:145] Entity <function Function._initialize_uninitialized_variables.<locals>.initialize_variables at 0x7fb8c40fb7b8> could not be transformed and will be executed as-is. Please report this to the AutoGraph team. When filing the bug, set the verbosity to 10 (on Linux, `export AUTOGRAPH_VERBOSITY=10`) and attach the full output. Cause: No module named 'tensorflow_core.contrib'\n"
     ]
    },
    {
     "name": "stdout",
     "output_type": "stream",
     "text": [
      "WARNING: Entity <function Function._initialize_uninitialized_variables.<locals>.initialize_variables at 0x7fb8c452c8c8> could not be transformed and will be executed as-is. Please report this to the AutoGraph team. When filing the bug, set the verbosity to 10 (on Linux, `export AUTOGRAPH_VERBOSITY=10`) and attach the full output. Cause: No module named 'tensorflow_core.contrib'\n",
      "WARNING: Entity <function Function._initialize_uninitialized_variables.<locals>.initialize_variables at 0x7fb8a0b552f0> could not be transformed and will be executed as-is. Please report this to the AutoGraph team. When filing the bug, set the verbosity to 10 (on Linux, `export AUTOGRAPH_VERBOSITY=10`) and attach the full output. Cause: No module named 'tensorflow_core.contrib'\n",
      "WARNING: Entity <function Function._initialize_uninitialized_variables.<locals>.initialize_variables at 0x7fb9401d4158> could not be transformed and will be executed as-is. Please report this to the AutoGraph team. When filing the bug, set the verbosity to 10 (on Linux, `export AUTOGRAPH_VERBOSITY=10`) and attach the full output. Cause: No module named 'tensorflow_core.contrib'\n",
      "WARNING: Entity <function Function._initialize_uninitialized_variables.<locals>.initialize_variables at 0x7fb8a014a7b8> could not be transformed and will be executed as-is. Please report this to the AutoGraph team. When filing the bug, set the verbosity to 10 (on Linux, `export AUTOGRAPH_VERBOSITY=10`) and attach the full output. Cause: No module named 'tensorflow_core.contrib'\n",
      "WARNING: Entity <bound method L1L2.__call__ of <tensorflow.python.keras.regularizers.L1L2 object at 0x7fb9403e3fd0>> could not be transformed and will be executed as-is. Please report this to the AutoGraph team. When filing the bug, set the verbosity to 10 (on Linux, `export AUTOGRAPH_VERBOSITY=10`) and attach the full output. Cause: No module named 'tensorflow_core.contrib'\n",
      "WARNING: Entity <function Function._initialize_uninitialized_variables.<locals>.initialize_variables at 0x7fb9400546a8> could not be transformed and will be executed as-is. Please report this to the AutoGraph team. When filing the bug, set the verbosity to 10 (on Linux, `export AUTOGRAPH_VERBOSITY=10`) and attach the full output. Cause: No module named 'tensorflow_core.contrib'\n"
     ]
    },
    {
     "name": "stderr",
     "output_type": "stream",
     "text": [
      "W0608 23:54:57.031835 140437208413952 ag_logging.py:145] Entity <function Function._initialize_uninitialized_variables.<locals>.initialize_variables at 0x7fb8a0c33ea0> could not be transformed and will be executed as-is. Please report this to the AutoGraph team. When filing the bug, set the verbosity to 10 (on Linux, `export AUTOGRAPH_VERBOSITY=10`) and attach the full output. Cause: No module named 'tensorflow_core.contrib'\n",
      "W0608 23:54:57.040926 140437208413952 ag_logging.py:145] Entity <function Function._initialize_uninitialized_variables.<locals>.initialize_variables at 0x7fb8a1248950> could not be transformed and will be executed as-is. Please report this to the AutoGraph team. When filing the bug, set the verbosity to 10 (on Linux, `export AUTOGRAPH_VERBOSITY=10`) and attach the full output. Cause: No module named 'tensorflow_core.contrib'\n"
     ]
    },
    {
     "name": "stdout",
     "output_type": "stream",
     "text": [
      "WARNING: Entity <function Function._initialize_uninitialized_variables.<locals>.initialize_variables at 0x7fb8c40fb7b8> could not be transformed and will be executed as-is. Please report this to the AutoGraph team. When filing the bug, set the verbosity to 10 (on Linux, `export AUTOGRAPH_VERBOSITY=10`) and attach the full output. Cause: No module named 'tensorflow_core.contrib'\n",
      "WARNING: Entity <function Function._initialize_uninitialized_variables.<locals>.initialize_variables at 0x7fb8a0c33ea0> could not be transformed and will be executed as-is. Please report this to the AutoGraph team. When filing the bug, set the verbosity to 10 (on Linux, `export AUTOGRAPH_VERBOSITY=10`) and attach the full output. Cause: No module named 'tensorflow_core.contrib'\n",
      "WARNING: Entity <function Function._initialize_uninitialized_variables.<locals>.initialize_variables at 0x7fb8a1248950> could not be transformed and will be executed as-is. Please report this to the AutoGraph team. When filing the bug, set the verbosity to 10 (on Linux, `export AUTOGRAPH_VERBOSITY=10`) and attach the full output. Cause: No module named 'tensorflow_core.contrib'\n"
     ]
    },
    {
     "name": "stderr",
     "output_type": "stream",
     "text": [
      "W0608 23:54:57.144781 140437208413952 ag_logging.py:145] Entity <function Function._initialize_uninitialized_variables.<locals>.initialize_variables at 0x7fb8ec506048> could not be transformed and will be executed as-is. Please report this to the AutoGraph team. When filing the bug, set the verbosity to 10 (on Linux, `export AUTOGRAPH_VERBOSITY=10`) and attach the full output. Cause: No module named 'tensorflow_core.contrib'\n",
      "W0608 23:54:57.164703 140437208413952 ag_logging.py:145] Entity <function Function._initialize_uninitialized_variables.<locals>.initialize_variables at 0x7fb8923408c8> could not be transformed and will be executed as-is. Please report this to the AutoGraph team. When filing the bug, set the verbosity to 10 (on Linux, `export AUTOGRAPH_VERBOSITY=10`) and attach the full output. Cause: No module named 'tensorflow_core.contrib'\n"
     ]
    },
    {
     "name": "stdout",
     "output_type": "stream",
     "text": [
      "WARNING: Entity <function Function._initialize_uninitialized_variables.<locals>.initialize_variables at 0x7fb8ec506048> could not be transformed and will be executed as-is. Please report this to the AutoGraph team. When filing the bug, set the verbosity to 10 (on Linux, `export AUTOGRAPH_VERBOSITY=10`) and attach the full output. Cause: No module named 'tensorflow_core.contrib'\n",
      "WARNING: Entity <function Function._initialize_uninitialized_variables.<locals>.initialize_variables at 0x7fb8923408c8> could not be transformed and will be executed as-is. Please report this to the AutoGraph team. When filing the bug, set the verbosity to 10 (on Linux, `export AUTOGRAPH_VERBOSITY=10`) and attach the full output. Cause: No module named 'tensorflow_core.contrib'\n"
     ]
    },
    {
     "name": "stderr",
     "output_type": "stream",
     "text": [
      "W0608 23:54:57.216615 140437208413952 ag_logging.py:145] Entity <function Function._initialize_uninitialized_variables.<locals>.initialize_variables at 0x7fb8ec6c3ea0> could not be transformed and will be executed as-is. Please report this to the AutoGraph team. When filing the bug, set the verbosity to 10 (on Linux, `export AUTOGRAPH_VERBOSITY=10`) and attach the full output. Cause: No module named 'tensorflow_core.contrib'\n",
      "W0608 23:54:57.231958 140437208413952 ag_logging.py:145] Entity <function canonicalize_signatures.<locals>.signature_wrapper at 0x7fb8c40fb7b8> could not be transformed and will be executed as-is. Please report this to the AutoGraph team. When filing the bug, set the verbosity to 10 (on Linux, `export AUTOGRAPH_VERBOSITY=10`) and attach the full output. Cause: No module named 'tensorflow_core.contrib'\n"
     ]
    },
    {
     "name": "stdout",
     "output_type": "stream",
     "text": [
      "WARNING: Entity <function Function._initialize_uninitialized_variables.<locals>.initialize_variables at 0x7fb8ec6c3ea0> could not be transformed and will be executed as-is. Please report this to the AutoGraph team. When filing the bug, set the verbosity to 10 (on Linux, `export AUTOGRAPH_VERBOSITY=10`) and attach the full output. Cause: No module named 'tensorflow_core.contrib'\n",
      "WARNING: Entity <function canonicalize_signatures.<locals>.signature_wrapper at 0x7fb8c40fb7b8> could not be transformed and will be executed as-is. Please report this to the AutoGraph team. When filing the bug, set the verbosity to 10 (on Linux, `export AUTOGRAPH_VERBOSITY=10`) and attach the full output. Cause: No module named 'tensorflow_core.contrib'\n"
     ]
    },
    {
     "name": "stderr",
     "output_type": "stream",
     "text": [
      "W0608 23:54:57.460538 140437208413952 ag_logging.py:145] Entity <function Function._initialize_uninitialized_variables.<locals>.initialize_variables at 0x7fb892b4fea0> could not be transformed and will be executed as-is. Please report this to the AutoGraph team. When filing the bug, set the verbosity to 10 (on Linux, `export AUTOGRAPH_VERBOSITY=10`) and attach the full output. Cause: No module named 'tensorflow_core.contrib'\n"
     ]
    },
    {
     "name": "stdout",
     "output_type": "stream",
     "text": [
      "WARNING: Entity <function Function._initialize_uninitialized_variables.<locals>.initialize_variables at 0x7fb892b4fea0> could not be transformed and will be executed as-is. Please report this to the AutoGraph team. When filing the bug, set the verbosity to 10 (on Linux, `export AUTOGRAPH_VERBOSITY=10`) and attach the full output. Cause: No module named 'tensorflow_core.contrib'\n",
      "1084/1085 [============================>.] - ETA: 0s - loss: 0.0020 - mean_PSNR: 28.4274\n",
      "Learning rate for epoch 145 is 2.499999936844688e-05\n",
      "1085/1085 [==============================] - 98s 91ms/step - loss: 0.0020 - mean_PSNR: 28.4272 - val_loss: 0.0022 - val_mean_PSNR: 28.0227\n",
      "Epoch 146/300\n",
      "1084/1085 [============================>.] - ETA: 0s - loss: 0.0020 - mean_PSNR: 28.4350\n",
      "Learning rate for epoch 146 is 9.999999747378752e-05\n",
      "1085/1085 [==============================] - 94s 87ms/step - loss: 0.0020 - mean_PSNR: 28.4350 - val_loss: 0.0022 - val_mean_PSNR: 28.0421\n",
      "Epoch 147/300\n",
      "1084/1085 [============================>.] - ETA: 0s - loss: 0.0020 - mean_PSNR: 28.4219\n",
      "Learning rate for epoch 147 is 2.499999936844688e-05\n",
      "1085/1085 [==============================] - 94s 87ms/step - loss: 0.0020 - mean_PSNR: 28.4218 - val_loss: 0.0022 - val_mean_PSNR: 28.0338\n",
      "Epoch 148/300\n",
      "1084/1085 [============================>.] - ETA: 0s - loss: 0.0020 - mean_PSNR: 28.4310\n",
      "Learning rate for epoch 148 is 9.999999747378752e-05\n",
      "1085/1085 [==============================] - 94s 87ms/step - loss: 0.0020 - mean_PSNR: 28.4310 - val_loss: 0.0022 - val_mean_PSNR: 28.0557\n",
      "Epoch 149/300\n",
      "1084/1085 [============================>.] - ETA: 0s - loss: 0.0020 - mean_PSNR: 28.4330\n",
      "Learning rate for epoch 149 is 2.499999936844688e-05\n",
      "1085/1085 [==============================] - 94s 87ms/step - loss: 0.0020 - mean_PSNR: 28.4330 - val_loss: 0.0022 - val_mean_PSNR: 28.0348\n",
      "Epoch 150/300\n",
      "1084/1085 [============================>.] - ETA: 0s - loss: 0.0020 - mean_PSNR: 28.4359\n",
      "Learning rate for epoch 150 is 9.999999747378752e-05\n",
      "1085/1085 [==============================] - 94s 87ms/step - loss: 0.0020 - mean_PSNR: 28.4359 - val_loss: 0.0022 - val_mean_PSNR: 28.0293\n",
      "Epoch 151/300\n",
      "1084/1085 [============================>.] - ETA: 0s - loss: 0.0020 - mean_PSNR: 28.5119\n",
      "Learning rate for epoch 151 is 2.499999936844688e-06\n",
      "1085/1085 [==============================] - 94s 87ms/step - loss: 0.0020 - mean_PSNR: 28.5118 - val_loss: 0.0022 - val_mean_PSNR: 28.1218\n",
      "Epoch 152/300\n",
      "1084/1085 [============================>.] - ETA: 0s - loss: 0.0020 - mean_PSNR: 28.5326\n",
      "Learning rate for epoch 152 is 9.999999747378752e-06\n",
      "1085/1085 [==============================] - 94s 87ms/step - loss: 0.0020 - mean_PSNR: 28.5325 - val_loss: 0.0022 - val_mean_PSNR: 28.1255\n",
      "Epoch 153/300\n",
      "1084/1085 [============================>.] - ETA: 0s - loss: 0.0020 - mean_PSNR: 28.5316\n",
      "Learning rate for epoch 153 is 2.499999936844688e-06\n",
      "1085/1085 [==============================] - 94s 87ms/step - loss: 0.0020 - mean_PSNR: 28.5313 - val_loss: 0.0022 - val_mean_PSNR: 28.1348\n",
      "Epoch 154/300\n",
      "1084/1085 [============================>.] - ETA: 0s - loss: 0.0020 - mean_PSNR: 28.5375\n",
      "Learning rate for epoch 154 is 9.999999747378752e-06\n",
      "1085/1085 [==============================] - 94s 87ms/step - loss: 0.0020 - mean_PSNR: 28.5376 - val_loss: 0.0022 - val_mean_PSNR: 28.1387\n",
      "Epoch 155/300\n",
      "1084/1085 [============================>.] - ETA: 0s - loss: 0.0020 - mean_PSNR: 28.5520\n",
      "Learning rate for epoch 155 is 2.499999936844688e-06\n",
      "1085/1085 [==============================] - 95s 87ms/step - loss: 0.0020 - mean_PSNR: 28.5522 - val_loss: 0.0022 - val_mean_PSNR: 28.1321\n",
      "Epoch 156/300\n",
      "1084/1085 [============================>.] - ETA: 0s - loss: 0.0020 - mean_PSNR: 28.5469\n",
      "Learning rate for epoch 156 is 9.999999747378752e-06\n",
      "1085/1085 [==============================] - 94s 87ms/step - loss: 0.0020 - mean_PSNR: 28.5469 - val_loss: 0.0022 - val_mean_PSNR: 28.1325\n",
      "Epoch 157/300\n",
      "1084/1085 [============================>.] - ETA: 0s - loss: 0.0020 - mean_PSNR: 28.5508\n",
      "Learning rate for epoch 157 is 9.999999747378752e-06\n",
      "1085/1085 [==============================] - 96s 89ms/step - loss: 0.0020 - mean_PSNR: 28.5508 - val_loss: 0.0022 - val_mean_PSNR: 28.1569\n",
      "Epoch 158/300\n",
      "1084/1085 [============================>.] - ETA: 0s - loss: 0.0020 - mean_PSNR: 28.5524\n",
      "Learning rate for epoch 158 is 9.999999747378752e-06\n",
      "1085/1085 [==============================] - 95s 87ms/step - loss: 0.0020 - mean_PSNR: 28.5523 - val_loss: 0.0022 - val_mean_PSNR: 28.1424\n",
      "Epoch 159/300\n",
      " 444/1085 [===========>..................] - ETA: 40s - loss: 0.0020 - mean_PSNR: 28.5516\n",
      "Epoch 00159: saving model to /home/ubuntu/cs230/models/automap_fastmri/2019-06-08_13:06:26/cp-0159.ckpt\n"
     ]
    },
    {
     "name": "stderr",
     "output_type": "stream",
     "text": [
      "W0609 00:17:32.766807 140437208413952 ag_logging.py:145] Entity <function Function._initialize_uninitialized_variables.<locals>.initialize_variables at 0x7fb940232378> could not be transformed and will be executed as-is. Please report this to the AutoGraph team. When filing the bug, set the verbosity to 10 (on Linux, `export AUTOGRAPH_VERBOSITY=10`) and attach the full output. Cause: No module named 'tensorflow_core.contrib'\n",
      "W0609 00:17:32.775636 140437208413952 ag_logging.py:145] Entity <function Function._initialize_uninitialized_variables.<locals>.initialize_variables at 0x7fb8ec506b70> could not be transformed and will be executed as-is. Please report this to the AutoGraph team. When filing the bug, set the verbosity to 10 (on Linux, `export AUTOGRAPH_VERBOSITY=10`) and attach the full output. Cause: No module named 'tensorflow_core.contrib'\n",
      "W0609 00:17:32.787783 140437208413952 ag_logging.py:145] Entity <function Function._initialize_uninitialized_variables.<locals>.initialize_variables at 0x7fb940054b70> could not be transformed and will be executed as-is. Please report this to the AutoGraph team. When filing the bug, set the verbosity to 10 (on Linux, `export AUTOGRAPH_VERBOSITY=10`) and attach the full output. Cause: No module named 'tensorflow_core.contrib'\n",
      "W0609 00:17:32.796143 140437208413952 ag_logging.py:145] Entity <function Function._initialize_uninitialized_variables.<locals>.initialize_variables at 0x7fb8a1248268> could not be transformed and will be executed as-is. Please report this to the AutoGraph team. When filing the bug, set the verbosity to 10 (on Linux, `export AUTOGRAPH_VERBOSITY=10`) and attach the full output. Cause: No module named 'tensorflow_core.contrib'\n",
      "W0609 00:17:32.799557 140437208413952 ag_logging.py:145] Entity <bound method L1L2.__call__ of <tensorflow.python.keras.regularizers.L1L2 object at 0x7fb9403e3fd0>> could not be transformed and will be executed as-is. Please report this to the AutoGraph team. When filing the bug, set the verbosity to 10 (on Linux, `export AUTOGRAPH_VERBOSITY=10`) and attach the full output. Cause: No module named 'tensorflow_core.contrib'\n",
      "W0609 00:17:32.811355 140437208413952 ag_logging.py:145] Entity <function Function._initialize_uninitialized_variables.<locals>.initialize_variables at 0x7fb8ec6c3f28> could not be transformed and will be executed as-is. Please report this to the AutoGraph team. When filing the bug, set the verbosity to 10 (on Linux, `export AUTOGRAPH_VERBOSITY=10`) and attach the full output. Cause: No module named 'tensorflow_core.contrib'\n",
      "W0609 00:17:32.822421 140437208413952 ag_logging.py:145] Entity <function Function._initialize_uninitialized_variables.<locals>.initialize_variables at 0x7fb8a0223bf8> could not be transformed and will be executed as-is. Please report this to the AutoGraph team. When filing the bug, set the verbosity to 10 (on Linux, `export AUTOGRAPH_VERBOSITY=10`) and attach the full output. Cause: No module named 'tensorflow_core.contrib'\n"
     ]
    },
    {
     "name": "stdout",
     "output_type": "stream",
     "text": [
      "WARNING: Entity <function Function._initialize_uninitialized_variables.<locals>.initialize_variables at 0x7fb940232378> could not be transformed and will be executed as-is. Please report this to the AutoGraph team. When filing the bug, set the verbosity to 10 (on Linux, `export AUTOGRAPH_VERBOSITY=10`) and attach the full output. Cause: No module named 'tensorflow_core.contrib'\n",
      "WARNING: Entity <function Function._initialize_uninitialized_variables.<locals>.initialize_variables at 0x7fb8ec506b70> could not be transformed and will be executed as-is. Please report this to the AutoGraph team. When filing the bug, set the verbosity to 10 (on Linux, `export AUTOGRAPH_VERBOSITY=10`) and attach the full output. Cause: No module named 'tensorflow_core.contrib'\n",
      "WARNING: Entity <function Function._initialize_uninitialized_variables.<locals>.initialize_variables at 0x7fb940054b70> could not be transformed and will be executed as-is. Please report this to the AutoGraph team. When filing the bug, set the verbosity to 10 (on Linux, `export AUTOGRAPH_VERBOSITY=10`) and attach the full output. Cause: No module named 'tensorflow_core.contrib'\n",
      "WARNING: Entity <function Function._initialize_uninitialized_variables.<locals>.initialize_variables at 0x7fb8a1248268> could not be transformed and will be executed as-is. Please report this to the AutoGraph team. When filing the bug, set the verbosity to 10 (on Linux, `export AUTOGRAPH_VERBOSITY=10`) and attach the full output. Cause: No module named 'tensorflow_core.contrib'\n",
      "WARNING: Entity <bound method L1L2.__call__ of <tensorflow.python.keras.regularizers.L1L2 object at 0x7fb9403e3fd0>> could not be transformed and will be executed as-is. Please report this to the AutoGraph team. When filing the bug, set the verbosity to 10 (on Linux, `export AUTOGRAPH_VERBOSITY=10`) and attach the full output. Cause: No module named 'tensorflow_core.contrib'\n",
      "WARNING: Entity <function Function._initialize_uninitialized_variables.<locals>.initialize_variables at 0x7fb8ec6c3f28> could not be transformed and will be executed as-is. Please report this to the AutoGraph team. When filing the bug, set the verbosity to 10 (on Linux, `export AUTOGRAPH_VERBOSITY=10`) and attach the full output. Cause: No module named 'tensorflow_core.contrib'\n"
     ]
    },
    {
     "name": "stderr",
     "output_type": "stream",
     "text": [
      "W0609 00:17:32.853599 140437208413952 ag_logging.py:145] Entity <function Function._initialize_uninitialized_variables.<locals>.initialize_variables at 0x7fb892b22e18> could not be transformed and will be executed as-is. Please report this to the AutoGraph team. When filing the bug, set the verbosity to 10 (on Linux, `export AUTOGRAPH_VERBOSITY=10`) and attach the full output. Cause: No module named 'tensorflow_core.contrib'\n",
      "W0609 00:17:32.865217 140437208413952 ag_logging.py:145] Entity <function Function._initialize_uninitialized_variables.<locals>.initialize_variables at 0x7fb8ec47dae8> could not be transformed and will be executed as-is. Please report this to the AutoGraph team. When filing the bug, set the verbosity to 10 (on Linux, `export AUTOGRAPH_VERBOSITY=10`) and attach the full output. Cause: No module named 'tensorflow_core.contrib'\n"
     ]
    },
    {
     "name": "stdout",
     "output_type": "stream",
     "text": [
      "WARNING: Entity <function Function._initialize_uninitialized_variables.<locals>.initialize_variables at 0x7fb8a0223bf8> could not be transformed and will be executed as-is. Please report this to the AutoGraph team. When filing the bug, set the verbosity to 10 (on Linux, `export AUTOGRAPH_VERBOSITY=10`) and attach the full output. Cause: No module named 'tensorflow_core.contrib'\n",
      "WARNING: Entity <function Function._initialize_uninitialized_variables.<locals>.initialize_variables at 0x7fb892b22e18> could not be transformed and will be executed as-is. Please report this to the AutoGraph team. When filing the bug, set the verbosity to 10 (on Linux, `export AUTOGRAPH_VERBOSITY=10`) and attach the full output. Cause: No module named 'tensorflow_core.contrib'\n",
      "WARNING: Entity <function Function._initialize_uninitialized_variables.<locals>.initialize_variables at 0x7fb8ec47dae8> could not be transformed and will be executed as-is. Please report this to the AutoGraph team. When filing the bug, set the verbosity to 10 (on Linux, `export AUTOGRAPH_VERBOSITY=10`) and attach the full output. Cause: No module named 'tensorflow_core.contrib'\n"
     ]
    },
    {
     "name": "stderr",
     "output_type": "stream",
     "text": [
      "W0609 00:17:32.970224 140437208413952 ag_logging.py:145] Entity <function Function._initialize_uninitialized_variables.<locals>.initialize_variables at 0x7fb8a0937400> could not be transformed and will be executed as-is. Please report this to the AutoGraph team. When filing the bug, set the verbosity to 10 (on Linux, `export AUTOGRAPH_VERBOSITY=10`) and attach the full output. Cause: No module named 'tensorflow_core.contrib'\n",
      "W0609 00:17:32.990370 140437208413952 ag_logging.py:145] Entity <function Function._initialize_uninitialized_variables.<locals>.initialize_variables at 0x7fb8907ef6a8> could not be transformed and will be executed as-is. Please report this to the AutoGraph team. When filing the bug, set the verbosity to 10 (on Linux, `export AUTOGRAPH_VERBOSITY=10`) and attach the full output. Cause: No module named 'tensorflow_core.contrib'\n"
     ]
    },
    {
     "name": "stdout",
     "output_type": "stream",
     "text": [
      "WARNING: Entity <function Function._initialize_uninitialized_variables.<locals>.initialize_variables at 0x7fb8a0937400> could not be transformed and will be executed as-is. Please report this to the AutoGraph team. When filing the bug, set the verbosity to 10 (on Linux, `export AUTOGRAPH_VERBOSITY=10`) and attach the full output. Cause: No module named 'tensorflow_core.contrib'\n",
      "WARNING: Entity <function Function._initialize_uninitialized_variables.<locals>.initialize_variables at 0x7fb8907ef6a8> could not be transformed and will be executed as-is. Please report this to the AutoGraph team. When filing the bug, set the verbosity to 10 (on Linux, `export AUTOGRAPH_VERBOSITY=10`) and attach the full output. Cause: No module named 'tensorflow_core.contrib'\n"
     ]
    },
    {
     "name": "stderr",
     "output_type": "stream",
     "text": [
      "W0609 00:17:33.042029 140437208413952 ag_logging.py:145] Entity <function Function._initialize_uninitialized_variables.<locals>.initialize_variables at 0x7fb892b4fd08> could not be transformed and will be executed as-is. Please report this to the AutoGraph team. When filing the bug, set the verbosity to 10 (on Linux, `export AUTOGRAPH_VERBOSITY=10`) and attach the full output. Cause: No module named 'tensorflow_core.contrib'\n",
      "W0609 00:17:33.057694 140437208413952 ag_logging.py:145] Entity <function canonicalize_signatures.<locals>.signature_wrapper at 0x7fb8a0223bf8> could not be transformed and will be executed as-is. Please report this to the AutoGraph team. When filing the bug, set the verbosity to 10 (on Linux, `export AUTOGRAPH_VERBOSITY=10`) and attach the full output. Cause: No module named 'tensorflow_core.contrib'\n",
      "W0609 00:17:33.075594 140437208413952 ag_logging.py:145] Entity <function Function._initialize_uninitialized_variables.<locals>.initialize_variables at 0x7fb890764a60> could not be transformed and will be executed as-is. Please report this to the AutoGraph team. When filing the bug, set the verbosity to 10 (on Linux, `export AUTOGRAPH_VERBOSITY=10`) and attach the full output. Cause: No module named 'tensorflow_core.contrib'\n"
     ]
    },
    {
     "name": "stdout",
     "output_type": "stream",
     "text": [
      "WARNING: Entity <function Function._initialize_uninitialized_variables.<locals>.initialize_variables at 0x7fb892b4fd08> could not be transformed and will be executed as-is. Please report this to the AutoGraph team. When filing the bug, set the verbosity to 10 (on Linux, `export AUTOGRAPH_VERBOSITY=10`) and attach the full output. Cause: No module named 'tensorflow_core.contrib'\n",
      "WARNING: Entity <function canonicalize_signatures.<locals>.signature_wrapper at 0x7fb8a0223bf8> could not be transformed and will be executed as-is. Please report this to the AutoGraph team. When filing the bug, set the verbosity to 10 (on Linux, `export AUTOGRAPH_VERBOSITY=10`) and attach the full output. Cause: No module named 'tensorflow_core.contrib'\n",
      "WARNING: Entity <function Function._initialize_uninitialized_variables.<locals>.initialize_variables at 0x7fb890764a60> could not be transformed and will be executed as-is. Please report this to the AutoGraph team. When filing the bug, set the verbosity to 10 (on Linux, `export AUTOGRAPH_VERBOSITY=10`) and attach the full output. Cause: No module named 'tensorflow_core.contrib'\n",
      "1084/1085 [============================>.] - ETA: 0s - loss: 0.0020 - mean_PSNR: 28.5554\n",
      "Learning rate for epoch 159 is 2.499999936844688e-06\n",
      "1085/1085 [==============================] - 98s 90ms/step - loss: 0.0020 - mean_PSNR: 28.5554 - val_loss: 0.0022 - val_mean_PSNR: 28.1326\n",
      "Epoch 160/300\n",
      "1084/1085 [============================>.] - ETA: 0s - loss: 0.0020 - mean_PSNR: 28.5590\n",
      "Learning rate for epoch 160 is 9.999999747378752e-06\n",
      "1085/1085 [==============================] - 95s 87ms/step - loss: 0.0020 - mean_PSNR: 28.5590 - val_loss: 0.0022 - val_mean_PSNR: 28.1498\n",
      "Epoch 161/300\n",
      "1084/1085 [============================>.] - ETA: 0s - loss: 0.0020 - mean_PSNR: 28.5607\n",
      "Learning rate for epoch 161 is 2.499999936844688e-06\n",
      "1085/1085 [==============================] - 94s 87ms/step - loss: 0.0020 - mean_PSNR: 28.5606 - val_loss: 0.0022 - val_mean_PSNR: 28.1481\n",
      "Epoch 162/300\n",
      "1084/1085 [============================>.] - ETA: 0s - loss: 0.0020 - mean_PSNR: 28.5656\n",
      "Learning rate for epoch 162 is 9.999999747378752e-06\n",
      "1085/1085 [==============================] - 94s 87ms/step - loss: 0.0020 - mean_PSNR: 28.5656 - val_loss: 0.0022 - val_mean_PSNR: 28.1535\n",
      "Epoch 163/300\n",
      "1084/1085 [============================>.] - ETA: 0s - loss: 0.0020 - mean_PSNR: 28.5725\n",
      "Learning rate for epoch 163 is 2.499999936844688e-06\n",
      "1085/1085 [==============================] - 94s 87ms/step - loss: 0.0020 - mean_PSNR: 28.5725 - val_loss: 0.0022 - val_mean_PSNR: 28.1677\n",
      "Epoch 164/300\n",
      "1084/1085 [============================>.] - ETA: 0s - loss: 0.0020 - mean_PSNR: 28.5663\n",
      "Learning rate for epoch 164 is 9.999999747378752e-06\n",
      "1085/1085 [==============================] - 94s 87ms/step - loss: 0.0020 - mean_PSNR: 28.5662 - val_loss: 0.0022 - val_mean_PSNR: 28.1535\n",
      "Epoch 165/300\n",
      "1084/1085 [============================>.] - ETA: 0s - loss: 0.0020 - mean_PSNR: 28.5679\n",
      "Learning rate for epoch 165 is 2.499999936844688e-06\n",
      "1085/1085 [==============================] - 94s 87ms/step - loss: 0.0020 - mean_PSNR: 28.5678 - val_loss: 0.0022 - val_mean_PSNR: 28.1679\n",
      "Epoch 166/300\n",
      "1084/1085 [============================>.] - ETA: 0s - loss: 0.0020 - mean_PSNR: 28.5739\n",
      "Learning rate for epoch 166 is 9.999999747378752e-06\n",
      "1085/1085 [==============================] - 94s 87ms/step - loss: 0.0020 - mean_PSNR: 28.5738 - val_loss: 0.0022 - val_mean_PSNR: 28.1653\n",
      "Epoch 167/300\n",
      "1084/1085 [============================>.] - ETA: 0s - loss: 0.0020 - mean_PSNR: 28.5687\n",
      "Learning rate for epoch 167 is 2.499999936844688e-06\n",
      "1085/1085 [==============================] - 99s 91ms/step - loss: 0.0020 - mean_PSNR: 28.5687 - val_loss: 0.0022 - val_mean_PSNR: 28.1581\n",
      "Epoch 168/300\n",
      "1084/1085 [============================>.] - ETA: 0s - loss: 0.0020 - mean_PSNR: 28.5703\n",
      "Learning rate for epoch 168 is 9.999999747378752e-06\n",
      "1085/1085 [==============================] - 94s 87ms/step - loss: 0.0020 - mean_PSNR: 28.5702 - val_loss: 0.0022 - val_mean_PSNR: 28.1575\n",
      "Epoch 169/300\n",
      "1084/1085 [============================>.] - ETA: 0s - loss: 0.0020 - mean_PSNR: 28.5735\n",
      "Learning rate for epoch 169 is 2.499999936844688e-06\n",
      "1085/1085 [==============================] - 94s 87ms/step - loss: 0.0020 - mean_PSNR: 28.5736 - val_loss: 0.0022 - val_mean_PSNR: 28.1648\n",
      "Epoch 170/300\n",
      "1084/1085 [============================>.] - ETA: 0s - loss: 0.0020 - mean_PSNR: 28.5744\n",
      "Learning rate for epoch 170 is 9.999999747378752e-06\n",
      "1085/1085 [==============================] - 94s 87ms/step - loss: 0.0020 - mean_PSNR: 28.5744 - val_loss: 0.0022 - val_mean_PSNR: 28.1688\n",
      "Epoch 171/300\n",
      "1084/1085 [============================>.] - ETA: 0s - loss: 0.0020 - mean_PSNR: 28.5729\n",
      "Learning rate for epoch 171 is 2.499999936844688e-06\n",
      "1085/1085 [==============================] - 94s 87ms/step - loss: 0.0020 - mean_PSNR: 28.5728 - val_loss: 0.0022 - val_mean_PSNR: 28.1635\n",
      "Epoch 172/300\n",
      "1084/1085 [============================>.] - ETA: 0s - loss: 0.0020 - mean_PSNR: 28.5733\n",
      "Learning rate for epoch 172 is 9.999999747378752e-06\n",
      "1085/1085 [==============================] - 94s 87ms/step - loss: 0.0020 - mean_PSNR: 28.5732 - val_loss: 0.0022 - val_mean_PSNR: 28.1711\n",
      "Epoch 173/300\n",
      " 879/1085 [=======================>......] - ETA: 13s - loss: 0.0019 - mean_PSNR: 28.6060\n",
      "Epoch 00173: saving model to /home/ubuntu/cs230/models/automap_fastmri/2019-06-08_13:06:26/cp-0173.ckpt\n"
     ]
    },
    {
     "name": "stderr",
     "output_type": "stream",
     "text": [
      "W0609 00:40:08.910166 140437208413952 ag_logging.py:145] Entity <function Function._initialize_uninitialized_variables.<locals>.initialize_variables at 0x7fb8a1d56730> could not be transformed and will be executed as-is. Please report this to the AutoGraph team. When filing the bug, set the verbosity to 10 (on Linux, `export AUTOGRAPH_VERBOSITY=10`) and attach the full output. Cause: No module named 'tensorflow_core.contrib'\n",
      "W0609 00:40:08.920968 140437208413952 ag_logging.py:145] Entity <function Function._initialize_uninitialized_variables.<locals>.initialize_variables at 0x7fb8a0223ea0> could not be transformed and will be executed as-is. Please report this to the AutoGraph team. When filing the bug, set the verbosity to 10 (on Linux, `export AUTOGRAPH_VERBOSITY=10`) and attach the full output. Cause: No module named 'tensorflow_core.contrib'\n",
      "W0609 00:40:08.932791 140437208413952 ag_logging.py:145] Entity <function Function._initialize_uninitialized_variables.<locals>.initialize_variables at 0x7fb92878f950> could not be transformed and will be executed as-is. Please report this to the AutoGraph team. When filing the bug, set the verbosity to 10 (on Linux, `export AUTOGRAPH_VERBOSITY=10`) and attach the full output. Cause: No module named 'tensorflow_core.contrib'\n",
      "W0609 00:40:08.941003 140437208413952 ag_logging.py:145] Entity <function Function._initialize_uninitialized_variables.<locals>.initialize_variables at 0x7fb89243a7b8> could not be transformed and will be executed as-is. Please report this to the AutoGraph team. When filing the bug, set the verbosity to 10 (on Linux, `export AUTOGRAPH_VERBOSITY=10`) and attach the full output. Cause: No module named 'tensorflow_core.contrib'\n",
      "W0609 00:40:08.944400 140437208413952 ag_logging.py:145] Entity <bound method L1L2.__call__ of <tensorflow.python.keras.regularizers.L1L2 object at 0x7fb9403e3fd0>> could not be transformed and will be executed as-is. Please report this to the AutoGraph team. When filing the bug, set the verbosity to 10 (on Linux, `export AUTOGRAPH_VERBOSITY=10`) and attach the full output. Cause: No module named 'tensorflow_core.contrib'\n",
      "W0609 00:40:08.955653 140437208413952 ag_logging.py:145] Entity <function Function._initialize_uninitialized_variables.<locals>.initialize_variables at 0x7fb892b4f1e0> could not be transformed and will be executed as-is. Please report this to the AutoGraph team. When filing the bug, set the verbosity to 10 (on Linux, `export AUTOGRAPH_VERBOSITY=10`) and attach the full output. Cause: No module named 'tensorflow_core.contrib'\n",
      "W0609 00:40:08.966855 140437208413952 ag_logging.py:145] Entity <function Function._initialize_uninitialized_variables.<locals>.initialize_variables at 0x7fb892add620> could not be transformed and will be executed as-is. Please report this to the AutoGraph team. When filing the bug, set the verbosity to 10 (on Linux, `export AUTOGRAPH_VERBOSITY=10`) and attach the full output. Cause: No module named 'tensorflow_core.contrib'\n"
     ]
    },
    {
     "name": "stdout",
     "output_type": "stream",
     "text": [
      "WARNING: Entity <function Function._initialize_uninitialized_variables.<locals>.initialize_variables at 0x7fb8a1d56730> could not be transformed and will be executed as-is. Please report this to the AutoGraph team. When filing the bug, set the verbosity to 10 (on Linux, `export AUTOGRAPH_VERBOSITY=10`) and attach the full output. Cause: No module named 'tensorflow_core.contrib'\n",
      "WARNING: Entity <function Function._initialize_uninitialized_variables.<locals>.initialize_variables at 0x7fb8a0223ea0> could not be transformed and will be executed as-is. Please report this to the AutoGraph team. When filing the bug, set the verbosity to 10 (on Linux, `export AUTOGRAPH_VERBOSITY=10`) and attach the full output. Cause: No module named 'tensorflow_core.contrib'\n",
      "WARNING: Entity <function Function._initialize_uninitialized_variables.<locals>.initialize_variables at 0x7fb92878f950> could not be transformed and will be executed as-is. Please report this to the AutoGraph team. When filing the bug, set the verbosity to 10 (on Linux, `export AUTOGRAPH_VERBOSITY=10`) and attach the full output. Cause: No module named 'tensorflow_core.contrib'\n",
      "WARNING: Entity <function Function._initialize_uninitialized_variables.<locals>.initialize_variables at 0x7fb89243a7b8> could not be transformed and will be executed as-is. Please report this to the AutoGraph team. When filing the bug, set the verbosity to 10 (on Linux, `export AUTOGRAPH_VERBOSITY=10`) and attach the full output. Cause: No module named 'tensorflow_core.contrib'\n",
      "WARNING: Entity <bound method L1L2.__call__ of <tensorflow.python.keras.regularizers.L1L2 object at 0x7fb9403e3fd0>> could not be transformed and will be executed as-is. Please report this to the AutoGraph team. When filing the bug, set the verbosity to 10 (on Linux, `export AUTOGRAPH_VERBOSITY=10`) and attach the full output. Cause: No module named 'tensorflow_core.contrib'\n",
      "WARNING: Entity <function Function._initialize_uninitialized_variables.<locals>.initialize_variables at 0x7fb892b4f1e0> could not be transformed and will be executed as-is. Please report this to the AutoGraph team. When filing the bug, set the verbosity to 10 (on Linux, `export AUTOGRAPH_VERBOSITY=10`) and attach the full output. Cause: No module named 'tensorflow_core.contrib'\n"
     ]
    },
    {
     "name": "stderr",
     "output_type": "stream",
     "text": [
      "W0609 00:40:08.997236 140437208413952 ag_logging.py:145] Entity <function Function._initialize_uninitialized_variables.<locals>.initialize_variables at 0x7fb8907ef510> could not be transformed and will be executed as-is. Please report this to the AutoGraph team. When filing the bug, set the verbosity to 10 (on Linux, `export AUTOGRAPH_VERBOSITY=10`) and attach the full output. Cause: No module named 'tensorflow_core.contrib'\n",
      "W0609 00:40:09.006099 140437208413952 ag_logging.py:145] Entity <function Function._initialize_uninitialized_variables.<locals>.initialize_variables at 0x7fb890764158> could not be transformed and will be executed as-is. Please report this to the AutoGraph team. When filing the bug, set the verbosity to 10 (on Linux, `export AUTOGRAPH_VERBOSITY=10`) and attach the full output. Cause: No module named 'tensorflow_core.contrib'\n"
     ]
    },
    {
     "name": "stdout",
     "output_type": "stream",
     "text": [
      "WARNING: Entity <function Function._initialize_uninitialized_variables.<locals>.initialize_variables at 0x7fb892add620> could not be transformed and will be executed as-is. Please report this to the AutoGraph team. When filing the bug, set the verbosity to 10 (on Linux, `export AUTOGRAPH_VERBOSITY=10`) and attach the full output. Cause: No module named 'tensorflow_core.contrib'\n",
      "WARNING: Entity <function Function._initialize_uninitialized_variables.<locals>.initialize_variables at 0x7fb8907ef510> could not be transformed and will be executed as-is. Please report this to the AutoGraph team. When filing the bug, set the verbosity to 10 (on Linux, `export AUTOGRAPH_VERBOSITY=10`) and attach the full output. Cause: No module named 'tensorflow_core.contrib'\n",
      "WARNING: Entity <function Function._initialize_uninitialized_variables.<locals>.initialize_variables at 0x7fb890764158> could not be transformed and will be executed as-is. Please report this to the AutoGraph team. When filing the bug, set the verbosity to 10 (on Linux, `export AUTOGRAPH_VERBOSITY=10`) and attach the full output. Cause: No module named 'tensorflow_core.contrib'\n"
     ]
    },
    {
     "name": "stderr",
     "output_type": "stream",
     "text": [
      "W0609 00:40:09.108989 140437208413952 ag_logging.py:145] Entity <function Function._initialize_uninitialized_variables.<locals>.initialize_variables at 0x7fb892408048> could not be transformed and will be executed as-is. Please report this to the AutoGraph team. When filing the bug, set the verbosity to 10 (on Linux, `export AUTOGRAPH_VERBOSITY=10`) and attach the full output. Cause: No module named 'tensorflow_core.contrib'\n"
     ]
    },
    {
     "name": "stdout",
     "output_type": "stream",
     "text": [
      "WARNING: Entity <function Function._initialize_uninitialized_variables.<locals>.initialize_variables at 0x7fb892408048> could not be transformed and will be executed as-is. Please report this to the AutoGraph team. When filing the bug, set the verbosity to 10 (on Linux, `export AUTOGRAPH_VERBOSITY=10`) and attach the full output. Cause: No module named 'tensorflow_core.contrib'\n"
     ]
    },
    {
     "name": "stderr",
     "output_type": "stream",
     "text": [
      "W0609 00:40:09.128840 140437208413952 ag_logging.py:145] Entity <function Function._initialize_uninitialized_variables.<locals>.initialize_variables at 0x7fb89068be18> could not be transformed and will be executed as-is. Please report this to the AutoGraph team. When filing the bug, set the verbosity to 10 (on Linux, `export AUTOGRAPH_VERBOSITY=10`) and attach the full output. Cause: No module named 'tensorflow_core.contrib'\n"
     ]
    },
    {
     "name": "stdout",
     "output_type": "stream",
     "text": [
      "WARNING: Entity <function Function._initialize_uninitialized_variables.<locals>.initialize_variables at 0x7fb89068be18> could not be transformed and will be executed as-is. Please report this to the AutoGraph team. When filing the bug, set the verbosity to 10 (on Linux, `export AUTOGRAPH_VERBOSITY=10`) and attach the full output. Cause: No module named 'tensorflow_core.contrib'\n"
     ]
    },
    {
     "name": "stderr",
     "output_type": "stream",
     "text": [
      "W0609 00:40:09.179842 140437208413952 ag_logging.py:145] Entity <function Function._initialize_uninitialized_variables.<locals>.initialize_variables at 0x7fb892b4f488> could not be transformed and will be executed as-is. Please report this to the AutoGraph team. When filing the bug, set the verbosity to 10 (on Linux, `export AUTOGRAPH_VERBOSITY=10`) and attach the full output. Cause: No module named 'tensorflow_core.contrib'\n",
      "W0609 00:40:09.194934 140437208413952 ag_logging.py:145] Entity <function canonicalize_signatures.<locals>.signature_wrapper at 0x7fb892add620> could not be transformed and will be executed as-is. Please report this to the AutoGraph team. When filing the bug, set the verbosity to 10 (on Linux, `export AUTOGRAPH_VERBOSITY=10`) and attach the full output. Cause: No module named 'tensorflow_core.contrib'\n",
      "W0609 00:40:09.211075 140437208413952 ag_logging.py:145] Entity <function Function._initialize_uninitialized_variables.<locals>.initialize_variables at 0x7fb8907642f0> could not be transformed and will be executed as-is. Please report this to the AutoGraph team. When filing the bug, set the verbosity to 10 (on Linux, `export AUTOGRAPH_VERBOSITY=10`) and attach the full output. Cause: No module named 'tensorflow_core.contrib'\n"
     ]
    },
    {
     "name": "stdout",
     "output_type": "stream",
     "text": [
      "WARNING: Entity <function Function._initialize_uninitialized_variables.<locals>.initialize_variables at 0x7fb892b4f488> could not be transformed and will be executed as-is. Please report this to the AutoGraph team. When filing the bug, set the verbosity to 10 (on Linux, `export AUTOGRAPH_VERBOSITY=10`) and attach the full output. Cause: No module named 'tensorflow_core.contrib'\n",
      "WARNING: Entity <function canonicalize_signatures.<locals>.signature_wrapper at 0x7fb892add620> could not be transformed and will be executed as-is. Please report this to the AutoGraph team. When filing the bug, set the verbosity to 10 (on Linux, `export AUTOGRAPH_VERBOSITY=10`) and attach the full output. Cause: No module named 'tensorflow_core.contrib'\n",
      "WARNING: Entity <function Function._initialize_uninitialized_variables.<locals>.initialize_variables at 0x7fb8907642f0> could not be transformed and will be executed as-is. Please report this to the AutoGraph team. When filing the bug, set the verbosity to 10 (on Linux, `export AUTOGRAPH_VERBOSITY=10`) and attach the full output. Cause: No module named 'tensorflow_core.contrib'\n",
      "1084/1085 [============================>.] - ETA: 0s - loss: 0.0020 - mean_PSNR: 28.5786\n",
      "Learning rate for epoch 173 is 2.499999936844688e-06\n",
      "1085/1085 [==============================] - 97s 90ms/step - loss: 0.0020 - mean_PSNR: 28.5784 - val_loss: 0.0022 - val_mean_PSNR: 28.1595\n",
      "Epoch 174/300\n",
      "1084/1085 [============================>.] - ETA: 0s - loss: 0.0020 - mean_PSNR: 28.5793\n",
      "Learning rate for epoch 174 is 9.999999747378752e-06\n",
      "1085/1085 [==============================] - 94s 87ms/step - loss: 0.0020 - mean_PSNR: 28.5793 - val_loss: 0.0022 - val_mean_PSNR: 28.1602\n",
      "Epoch 175/300\n",
      "1084/1085 [============================>.] - ETA: 0s - loss: 0.0020 - mean_PSNR: 28.5796\n",
      "Learning rate for epoch 175 is 2.499999936844688e-06\n",
      "1085/1085 [==============================] - 94s 87ms/step - loss: 0.0020 - mean_PSNR: 28.5796 - val_loss: 0.0022 - val_mean_PSNR: 28.1544\n",
      "Epoch 176/300\n",
      "1084/1085 [============================>.] - ETA: 0s - loss: 0.0020 - mean_PSNR: 28.5406\n",
      "Learning rate for epoch 176 is 4.999999873689376e-05\n",
      "1085/1085 [==============================] - 94s 87ms/step - loss: 0.0020 - mean_PSNR: 28.5404 - val_loss: 0.0022 - val_mean_PSNR: 28.1308\n",
      "Epoch 177/300\n",
      "1084/1085 [============================>.] - ETA: 0s - loss: 0.0020 - mean_PSNR: 28.5432\n",
      "Learning rate for epoch 177 is 1.249999968422344e-05\n",
      "1085/1085 [==============================] - 95s 87ms/step - loss: 0.0020 - mean_PSNR: 28.5432 - val_loss: 0.0022 - val_mean_PSNR: 28.1370\n",
      "Epoch 178/300\n",
      "1084/1085 [============================>.] - ETA: 0s - loss: 0.0020 - mean_PSNR: 28.5378\n",
      "Learning rate for epoch 178 is 4.999999873689376e-05\n",
      "1085/1085 [==============================] - 94s 87ms/step - loss: 0.0020 - mean_PSNR: 28.5377 - val_loss: 0.0022 - val_mean_PSNR: 28.1321\n",
      "Epoch 179/300\n",
      "1084/1085 [============================>.] - ETA: 0s - loss: 0.0020 - mean_PSNR: 28.5425\n",
      "Learning rate for epoch 179 is 1.249999968422344e-05\n",
      "1085/1085 [==============================] - 94s 87ms/step - loss: 0.0020 - mean_PSNR: 28.5424 - val_loss: 0.0022 - val_mean_PSNR: 28.1434\n",
      "Epoch 180/300\n",
      "1084/1085 [============================>.] - ETA: 0s - loss: 0.0020 - mean_PSNR: 28.5446\n",
      "Learning rate for epoch 180 is 4.999999873689376e-05\n",
      "1085/1085 [==============================] - 94s 87ms/step - loss: 0.0020 - mean_PSNR: 28.5444 - val_loss: 0.0022 - val_mean_PSNR: 28.1295\n",
      "Epoch 181/300\n",
      "1084/1085 [============================>.] - ETA: 0s - loss: 0.0020 - mean_PSNR: 28.5399\n",
      "Learning rate for epoch 181 is 1.249999968422344e-05\n",
      "1085/1085 [==============================] - 94s 87ms/step - loss: 0.0020 - mean_PSNR: 28.5399 - val_loss: 0.0022 - val_mean_PSNR: 28.1439\n",
      "Epoch 182/300\n",
      "1084/1085 [============================>.] - ETA: 0s - loss: 0.0020 - mean_PSNR: 28.5454\n",
      "Learning rate for epoch 182 is 4.999999873689376e-05\n",
      "1085/1085 [==============================] - 94s 87ms/step - loss: 0.0020 - mean_PSNR: 28.5452 - val_loss: 0.0022 - val_mean_PSNR: 28.1221\n",
      "Epoch 183/300\n",
      "1084/1085 [============================>.] - ETA: 0s - loss: 0.0020 - mean_PSNR: 28.5412\n",
      "Learning rate for epoch 183 is 1.249999968422344e-05\n",
      "1085/1085 [==============================] - 94s 87ms/step - loss: 0.0020 - mean_PSNR: 28.5412 - val_loss: 0.0022 - val_mean_PSNR: 28.1339\n",
      "Epoch 184/300\n",
      "1084/1085 [============================>.] - ETA: 0s - loss: 0.0020 - mean_PSNR: 28.5430\n",
      "Learning rate for epoch 184 is 4.999999873689376e-05\n",
      "1085/1085 [==============================] - 94s 87ms/step - loss: 0.0020 - mean_PSNR: 28.5430 - val_loss: 0.0022 - val_mean_PSNR: 28.1344\n",
      "Epoch 185/300\n",
      "1084/1085 [============================>.] - ETA: 0s - loss: 0.0020 - mean_PSNR: 28.5484\n",
      "Learning rate for epoch 185 is 1.249999968422344e-05\n",
      "1085/1085 [==============================] - 94s 87ms/step - loss: 0.0020 - mean_PSNR: 28.5484 - val_loss: 0.0022 - val_mean_PSNR: 28.1320\n",
      "Epoch 186/300\n",
      "1084/1085 [============================>.] - ETA: 0s - loss: 0.0020 - mean_PSNR: 28.5425\n",
      "Learning rate for epoch 186 is 4.999999873689376e-05\n",
      "1085/1085 [==============================] - 94s 87ms/step - loss: 0.0020 - mean_PSNR: 28.5425 - val_loss: 0.0022 - val_mean_PSNR: 28.1282\n",
      "Epoch 187/300\n",
      "1084/1085 [============================>.] - ETA: 0s - loss: 0.0020 - mean_PSNR: 28.5382\n",
      "Learning rate for epoch 187 is 1.249999968422344e-05\n",
      "1085/1085 [==============================] - 95s 87ms/step - loss: 0.0020 - mean_PSNR: 28.5380 - val_loss: 0.0022 - val_mean_PSNR: 28.1340\n",
      "Epoch 188/300\n",
      " 229/1085 [=====>........................] - ETA: 54s - loss: 0.0020 - mean_PSNR: 28.4201\n",
      "Epoch 00188: saving model to /home/ubuntu/cs230/models/automap_fastmri/2019-06-08_13:06:26/cp-0188.ckpt\n"
     ]
    },
    {
     "name": "stderr",
     "output_type": "stream",
     "text": [
      "W0609 01:03:06.167888 140437208413952 ag_logging.py:145] Entity <function Function._initialize_uninitialized_variables.<locals>.initialize_variables at 0x7fb8ec6c3598> could not be transformed and will be executed as-is. Please report this to the AutoGraph team. When filing the bug, set the verbosity to 10 (on Linux, `export AUTOGRAPH_VERBOSITY=10`) and attach the full output. Cause: No module named 'tensorflow_core.contrib'\n",
      "W0609 01:03:06.176707 140437208413952 ag_logging.py:145] Entity <function Function._initialize_uninitialized_variables.<locals>.initialize_variables at 0x7fb8a1248158> could not be transformed and will be executed as-is. Please report this to the AutoGraph team. When filing the bug, set the verbosity to 10 (on Linux, `export AUTOGRAPH_VERBOSITY=10`) and attach the full output. Cause: No module named 'tensorflow_core.contrib'\n",
      "W0609 01:03:06.188454 140437208413952 ag_logging.py:145] Entity <function Function._initialize_uninitialized_variables.<locals>.initialize_variables at 0x7fb8a014a6a8> could not be transformed and will be executed as-is. Please report this to the AutoGraph team. When filing the bug, set the verbosity to 10 (on Linux, `export AUTOGRAPH_VERBOSITY=10`) and attach the full output. Cause: No module named 'tensorflow_core.contrib'\n",
      "W0609 01:03:06.197128 140437208413952 ag_logging.py:145] Entity <function Function._initialize_uninitialized_variables.<locals>.initialize_variables at 0x7fb8a0676730> could not be transformed and will be executed as-is. Please report this to the AutoGraph team. When filing the bug, set the verbosity to 10 (on Linux, `export AUTOGRAPH_VERBOSITY=10`) and attach the full output. Cause: No module named 'tensorflow_core.contrib'\n",
      "W0609 01:03:06.200819 140437208413952 ag_logging.py:145] Entity <bound method L1L2.__call__ of <tensorflow.python.keras.regularizers.L1L2 object at 0x7fb9403e3fd0>> could not be transformed and will be executed as-is. Please report this to the AutoGraph team. When filing the bug, set the verbosity to 10 (on Linux, `export AUTOGRAPH_VERBOSITY=10`) and attach the full output. Cause: No module named 'tensorflow_core.contrib'\n",
      "W0609 01:03:06.212543 140437208413952 ag_logging.py:145] Entity <function Function._initialize_uninitialized_variables.<locals>.initialize_variables at 0x7fb892340400> could not be transformed and will be executed as-is. Please report this to the AutoGraph team. When filing the bug, set the verbosity to 10 (on Linux, `export AUTOGRAPH_VERBOSITY=10`) and attach the full output. Cause: No module named 'tensorflow_core.contrib'\n"
     ]
    },
    {
     "name": "stdout",
     "output_type": "stream",
     "text": [
      "WARNING: Entity <function Function._initialize_uninitialized_variables.<locals>.initialize_variables at 0x7fb8ec6c3598> could not be transformed and will be executed as-is. Please report this to the AutoGraph team. When filing the bug, set the verbosity to 10 (on Linux, `export AUTOGRAPH_VERBOSITY=10`) and attach the full output. Cause: No module named 'tensorflow_core.contrib'\n",
      "WARNING: Entity <function Function._initialize_uninitialized_variables.<locals>.initialize_variables at 0x7fb8a1248158> could not be transformed and will be executed as-is. Please report this to the AutoGraph team. When filing the bug, set the verbosity to 10 (on Linux, `export AUTOGRAPH_VERBOSITY=10`) and attach the full output. Cause: No module named 'tensorflow_core.contrib'\n",
      "WARNING: Entity <function Function._initialize_uninitialized_variables.<locals>.initialize_variables at 0x7fb8a014a6a8> could not be transformed and will be executed as-is. Please report this to the AutoGraph team. When filing the bug, set the verbosity to 10 (on Linux, `export AUTOGRAPH_VERBOSITY=10`) and attach the full output. Cause: No module named 'tensorflow_core.contrib'\n",
      "WARNING: Entity <function Function._initialize_uninitialized_variables.<locals>.initialize_variables at 0x7fb8a0676730> could not be transformed and will be executed as-is. Please report this to the AutoGraph team. When filing the bug, set the verbosity to 10 (on Linux, `export AUTOGRAPH_VERBOSITY=10`) and attach the full output. Cause: No module named 'tensorflow_core.contrib'\n",
      "WARNING: Entity <bound method L1L2.__call__ of <tensorflow.python.keras.regularizers.L1L2 object at 0x7fb9403e3fd0>> could not be transformed and will be executed as-is. Please report this to the AutoGraph team. When filing the bug, set the verbosity to 10 (on Linux, `export AUTOGRAPH_VERBOSITY=10`) and attach the full output. Cause: No module named 'tensorflow_core.contrib'\n",
      "WARNING: Entity <function Function._initialize_uninitialized_variables.<locals>.initialize_variables at 0x7fb892340400> could not be transformed and will be executed as-is. Please report this to the AutoGraph team. When filing the bug, set the verbosity to 10 (on Linux, `export AUTOGRAPH_VERBOSITY=10`) and attach the full output. Cause: No module named 'tensorflow_core.contrib'\n"
     ]
    },
    {
     "name": "stderr",
     "output_type": "stream",
     "text": [
      "W0609 01:03:06.224018 140437208413952 ag_logging.py:145] Entity <function Function._initialize_uninitialized_variables.<locals>.initialize_variables at 0x7fb892408378> could not be transformed and will be executed as-is. Please report this to the AutoGraph team. When filing the bug, set the verbosity to 10 (on Linux, `export AUTOGRAPH_VERBOSITY=10`) and attach the full output. Cause: No module named 'tensorflow_core.contrib'\n",
      "W0609 01:03:06.254444 140437208413952 ag_logging.py:145] Entity <function Function._initialize_uninitialized_variables.<locals>.initialize_variables at 0x7fb8a0223d90> could not be transformed and will be executed as-is. Please report this to the AutoGraph team. When filing the bug, set the verbosity to 10 (on Linux, `export AUTOGRAPH_VERBOSITY=10`) and attach the full output. Cause: No module named 'tensorflow_core.contrib'\n",
      "W0609 01:03:06.263420 140437208413952 ag_logging.py:145] Entity <function Function._initialize_uninitialized_variables.<locals>.initialize_variables at 0x7fb8907ef378> could not be transformed and will be executed as-is. Please report this to the AutoGraph team. When filing the bug, set the verbosity to 10 (on Linux, `export AUTOGRAPH_VERBOSITY=10`) and attach the full output. Cause: No module named 'tensorflow_core.contrib'\n"
     ]
    },
    {
     "name": "stdout",
     "output_type": "stream",
     "text": [
      "WARNING: Entity <function Function._initialize_uninitialized_variables.<locals>.initialize_variables at 0x7fb892408378> could not be transformed and will be executed as-is. Please report this to the AutoGraph team. When filing the bug, set the verbosity to 10 (on Linux, `export AUTOGRAPH_VERBOSITY=10`) and attach the full output. Cause: No module named 'tensorflow_core.contrib'\n",
      "WARNING: Entity <function Function._initialize_uninitialized_variables.<locals>.initialize_variables at 0x7fb8a0223d90> could not be transformed and will be executed as-is. Please report this to the AutoGraph team. When filing the bug, set the verbosity to 10 (on Linux, `export AUTOGRAPH_VERBOSITY=10`) and attach the full output. Cause: No module named 'tensorflow_core.contrib'\n",
      "WARNING: Entity <function Function._initialize_uninitialized_variables.<locals>.initialize_variables at 0x7fb8907ef378> could not be transformed and will be executed as-is. Please report this to the AutoGraph team. When filing the bug, set the verbosity to 10 (on Linux, `export AUTOGRAPH_VERBOSITY=10`) and attach the full output. Cause: No module named 'tensorflow_core.contrib'\n"
     ]
    },
    {
     "name": "stderr",
     "output_type": "stream",
     "text": [
      "W0609 01:03:06.369177 140437208413952 ag_logging.py:145] Entity <function Function._initialize_uninitialized_variables.<locals>.initialize_variables at 0x7fb94016f950> could not be transformed and will be executed as-is. Please report this to the AutoGraph team. When filing the bug, set the verbosity to 10 (on Linux, `export AUTOGRAPH_VERBOSITY=10`) and attach the full output. Cause: No module named 'tensorflow_core.contrib'\n",
      "W0609 01:03:06.388497 140437208413952 ag_logging.py:145] Entity <function Function._initialize_uninitialized_variables.<locals>.initialize_variables at 0x7fb8902c5378> could not be transformed and will be executed as-is. Please report this to the AutoGraph team. When filing the bug, set the verbosity to 10 (on Linux, `export AUTOGRAPH_VERBOSITY=10`) and attach the full output. Cause: No module named 'tensorflow_core.contrib'\n"
     ]
    },
    {
     "name": "stdout",
     "output_type": "stream",
     "text": [
      "WARNING: Entity <function Function._initialize_uninitialized_variables.<locals>.initialize_variables at 0x7fb94016f950> could not be transformed and will be executed as-is. Please report this to the AutoGraph team. When filing the bug, set the verbosity to 10 (on Linux, `export AUTOGRAPH_VERBOSITY=10`) and attach the full output. Cause: No module named 'tensorflow_core.contrib'\n",
      "WARNING: Entity <function Function._initialize_uninitialized_variables.<locals>.initialize_variables at 0x7fb8902c5378> could not be transformed and will be executed as-is. Please report this to the AutoGraph team. When filing the bug, set the verbosity to 10 (on Linux, `export AUTOGRAPH_VERBOSITY=10`) and attach the full output. Cause: No module named 'tensorflow_core.contrib'\n"
     ]
    },
    {
     "name": "stderr",
     "output_type": "stream",
     "text": [
      "W0609 01:03:06.438938 140437208413952 ag_logging.py:145] Entity <function Function._initialize_uninitialized_variables.<locals>.initialize_variables at 0x7fb8a02237b8> could not be transformed and will be executed as-is. Please report this to the AutoGraph team. When filing the bug, set the verbosity to 10 (on Linux, `export AUTOGRAPH_VERBOSITY=10`) and attach the full output. Cause: No module named 'tensorflow_core.contrib'\n",
      "W0609 01:03:06.453870 140437208413952 ag_logging.py:145] Entity <function canonicalize_signatures.<locals>.signature_wrapper at 0x7fb892408378> could not be transformed and will be executed as-is. Please report this to the AutoGraph team. When filing the bug, set the verbosity to 10 (on Linux, `export AUTOGRAPH_VERBOSITY=10`) and attach the full output. Cause: No module named 'tensorflow_core.contrib'\n",
      "W0609 01:03:06.470040 140437208413952 ag_logging.py:145] Entity <function Function._initialize_uninitialized_variables.<locals>.initialize_variables at 0x7fb89010f8c8> could not be transformed and will be executed as-is. Please report this to the AutoGraph team. When filing the bug, set the verbosity to 10 (on Linux, `export AUTOGRAPH_VERBOSITY=10`) and attach the full output. Cause: No module named 'tensorflow_core.contrib'\n"
     ]
    },
    {
     "name": "stdout",
     "output_type": "stream",
     "text": [
      "WARNING: Entity <function Function._initialize_uninitialized_variables.<locals>.initialize_variables at 0x7fb8a02237b8> could not be transformed and will be executed as-is. Please report this to the AutoGraph team. When filing the bug, set the verbosity to 10 (on Linux, `export AUTOGRAPH_VERBOSITY=10`) and attach the full output. Cause: No module named 'tensorflow_core.contrib'\n",
      "WARNING: Entity <function canonicalize_signatures.<locals>.signature_wrapper at 0x7fb892408378> could not be transformed and will be executed as-is. Please report this to the AutoGraph team. When filing the bug, set the verbosity to 10 (on Linux, `export AUTOGRAPH_VERBOSITY=10`) and attach the full output. Cause: No module named 'tensorflow_core.contrib'\n",
      "WARNING: Entity <function Function._initialize_uninitialized_variables.<locals>.initialize_variables at 0x7fb89010f8c8> could not be transformed and will be executed as-is. Please report this to the AutoGraph team. When filing the bug, set the verbosity to 10 (on Linux, `export AUTOGRAPH_VERBOSITY=10`) and attach the full output. Cause: No module named 'tensorflow_core.contrib'\n",
      "1084/1085 [============================>.] - ETA: 0s - loss: 0.0020 - mean_PSNR: 28.5495\n",
      "Learning rate for epoch 188 is 4.999999873689376e-05\n",
      "1085/1085 [==============================] - 98s 90ms/step - loss: 0.0020 - mean_PSNR: 28.5493 - val_loss: 0.0022 - val_mean_PSNR: 28.1192\n",
      "Epoch 189/300\n",
      "1084/1085 [============================>.] - ETA: 0s - loss: 0.0020 - mean_PSNR: 28.5492\n",
      "Learning rate for epoch 189 is 1.249999968422344e-05\n",
      "1085/1085 [==============================] - 94s 87ms/step - loss: 0.0020 - mean_PSNR: 28.5493 - val_loss: 0.0022 - val_mean_PSNR: 28.1341\n",
      "Epoch 190/300\n",
      "1084/1085 [============================>.] - ETA: 0s - loss: 0.0020 - mean_PSNR: 28.5422\n",
      "Learning rate for epoch 190 is 4.999999873689376e-05\n",
      "1085/1085 [==============================] - 94s 87ms/step - loss: 0.0020 - mean_PSNR: 28.5421 - val_loss: 0.0022 - val_mean_PSNR: 28.1358\n",
      "Epoch 191/300\n",
      "1084/1085 [============================>.] - ETA: 0s - loss: 0.0019 - mean_PSNR: 28.5712\n",
      "Learning rate for epoch 191 is 2.499999936844688e-06\n",
      "1085/1085 [==============================] - 94s 87ms/step - loss: 0.0020 - mean_PSNR: 28.5712 - val_loss: 0.0022 - val_mean_PSNR: 28.1635\n",
      "Epoch 192/300\n",
      "1084/1085 [============================>.] - ETA: 0s - loss: 0.0020 - mean_PSNR: 28.5828\n",
      "Learning rate for epoch 192 is 9.999999747378752e-06\n",
      "1085/1085 [==============================] - 94s 87ms/step - loss: 0.0020 - mean_PSNR: 28.5828 - val_loss: 0.0022 - val_mean_PSNR: 28.1651\n",
      "Epoch 193/300\n",
      "1084/1085 [============================>.] - ETA: 0s - loss: 0.0019 - mean_PSNR: 28.5836\n",
      "Learning rate for epoch 193 is 2.499999936844688e-06\n",
      "1085/1085 [==============================] - 94s 87ms/step - loss: 0.0019 - mean_PSNR: 28.5835 - val_loss: 0.0021 - val_mean_PSNR: 28.1720\n",
      "Epoch 194/300\n",
      "1084/1085 [============================>.] - ETA: 0s - loss: 0.0019 - mean_PSNR: 28.5818\n",
      "Learning rate for epoch 194 is 9.999999747378752e-06\n",
      "1085/1085 [==============================] - 94s 87ms/step - loss: 0.0019 - mean_PSNR: 28.5818 - val_loss: 0.0022 - val_mean_PSNR: 28.1662\n",
      "Epoch 195/300\n",
      "1084/1085 [============================>.] - ETA: 0s - loss: 0.0019 - mean_PSNR: 28.5884\n",
      "Learning rate for epoch 195 is 2.499999936844688e-06\n",
      "1085/1085 [==============================] - 94s 87ms/step - loss: 0.0019 - mean_PSNR: 28.5884 - val_loss: 0.0021 - val_mean_PSNR: 28.1768\n",
      "Epoch 196/300\n",
      "1084/1085 [============================>.] - ETA: 0s - loss: 0.0019 - mean_PSNR: 28.5832\n",
      "Learning rate for epoch 196 is 9.999999747378752e-06\n",
      "1085/1085 [==============================] - 95s 87ms/step - loss: 0.0019 - mean_PSNR: 28.5830 - val_loss: 0.0021 - val_mean_PSNR: 28.1774\n",
      "Epoch 197/300\n",
      "1084/1085 [============================>.] - ETA: 0s - loss: 0.0019 - mean_PSNR: 28.5879\n",
      "Learning rate for epoch 197 is 2.499999936844688e-06\n",
      "1085/1085 [==============================] - 94s 87ms/step - loss: 0.0019 - mean_PSNR: 28.5879 - val_loss: 0.0021 - val_mean_PSNR: 28.1764\n",
      "Epoch 198/300\n",
      "1084/1085 [============================>.] - ETA: 0s - loss: 0.0019 - mean_PSNR: 28.5867\n",
      "Learning rate for epoch 198 is 9.999999747378752e-06\n",
      "1085/1085 [==============================] - 94s 87ms/step - loss: 0.0019 - mean_PSNR: 28.5866 - val_loss: 0.0021 - val_mean_PSNR: 28.1730\n",
      "Epoch 199/300\n",
      "1084/1085 [============================>.] - ETA: 0s - loss: 0.0019 - mean_PSNR: 28.5941\n",
      "Learning rate for epoch 199 is 2.499999936844688e-06\n",
      "1085/1085 [==============================] - 94s 87ms/step - loss: 0.0019 - mean_PSNR: 28.5939 - val_loss: 0.0022 - val_mean_PSNR: 28.1604\n",
      "Epoch 200/300\n",
      "1084/1085 [============================>.] - ETA: 0s - loss: 0.0019 - mean_PSNR: 28.5871\n",
      "Learning rate for epoch 200 is 9.999999747378752e-06\n",
      "1085/1085 [==============================] - 94s 87ms/step - loss: 0.0019 - mean_PSNR: 28.5872 - val_loss: 0.0021 - val_mean_PSNR: 28.1634\n",
      "Epoch 201/300\n",
      "1084/1085 [============================>.] - ETA: 0s - loss: 0.0019 - mean_PSNR: 28.5923\n",
      "Learning rate for epoch 201 is 2.499999993688107e-07\n",
      "1085/1085 [==============================] - 94s 87ms/step - loss: 0.0019 - mean_PSNR: 28.5922 - val_loss: 0.0021 - val_mean_PSNR: 28.1703\n",
      "Epoch 202/300\n",
      " 664/1085 [=================>............] - ETA: 26s - loss: 0.0019 - mean_PSNR: 28.6053\n",
      "Epoch 00202: saving model to /home/ubuntu/cs230/models/automap_fastmri/2019-06-08_13:06:26/cp-0202.ckpt\n"
     ]
    },
    {
     "name": "stderr",
     "output_type": "stream",
     "text": [
      "W0609 01:25:37.437966 140437208413952 ag_logging.py:145] Entity <function Function._initialize_uninitialized_variables.<locals>.initialize_variables at 0x7fb8a02e1f28> could not be transformed and will be executed as-is. Please report this to the AutoGraph team. When filing the bug, set the verbosity to 10 (on Linux, `export AUTOGRAPH_VERBOSITY=10`) and attach the full output. Cause: No module named 'tensorflow_core.contrib'\n",
      "W0609 01:25:37.447310 140437208413952 ag_logging.py:145] Entity <function Function._initialize_uninitialized_variables.<locals>.initialize_variables at 0x7fb8923090d0> could not be transformed and will be executed as-is. Please report this to the AutoGraph team. When filing the bug, set the verbosity to 10 (on Linux, `export AUTOGRAPH_VERBOSITY=10`) and attach the full output. Cause: No module named 'tensorflow_core.contrib'\n",
      "W0609 01:25:37.460309 140437208413952 ag_logging.py:145] Entity <function Function._initialize_uninitialized_variables.<locals>.initialize_variables at 0x7fb8907642f0> could not be transformed and will be executed as-is. Please report this to the AutoGraph team. When filing the bug, set the verbosity to 10 (on Linux, `export AUTOGRAPH_VERBOSITY=10`) and attach the full output. Cause: No module named 'tensorflow_core.contrib'\n",
      "W0609 01:25:37.469575 140437208413952 ag_logging.py:145] Entity <function Function._initialize_uninitialized_variables.<locals>.initialize_variables at 0x7fb89068b8c8> could not be transformed and will be executed as-is. Please report this to the AutoGraph team. When filing the bug, set the verbosity to 10 (on Linux, `export AUTOGRAPH_VERBOSITY=10`) and attach the full output. Cause: No module named 'tensorflow_core.contrib'\n",
      "W0609 01:25:37.474057 140437208413952 ag_logging.py:145] Entity <bound method L1L2.__call__ of <tensorflow.python.keras.regularizers.L1L2 object at 0x7fb9403e3fd0>> could not be transformed and will be executed as-is. Please report this to the AutoGraph team. When filing the bug, set the verbosity to 10 (on Linux, `export AUTOGRAPH_VERBOSITY=10`) and attach the full output. Cause: No module named 'tensorflow_core.contrib'\n",
      "W0609 01:25:37.486391 140437208413952 ag_logging.py:145] Entity <function Function._initialize_uninitialized_variables.<locals>.initialize_variables at 0x7fb892b4fa60> could not be transformed and will be executed as-is. Please report this to the AutoGraph team. When filing the bug, set the verbosity to 10 (on Linux, `export AUTOGRAPH_VERBOSITY=10`) and attach the full output. Cause: No module named 'tensorflow_core.contrib'\n"
     ]
    },
    {
     "name": "stdout",
     "output_type": "stream",
     "text": [
      "WARNING: Entity <function Function._initialize_uninitialized_variables.<locals>.initialize_variables at 0x7fb8a02e1f28> could not be transformed and will be executed as-is. Please report this to the AutoGraph team. When filing the bug, set the verbosity to 10 (on Linux, `export AUTOGRAPH_VERBOSITY=10`) and attach the full output. Cause: No module named 'tensorflow_core.contrib'\n",
      "WARNING: Entity <function Function._initialize_uninitialized_variables.<locals>.initialize_variables at 0x7fb8923090d0> could not be transformed and will be executed as-is. Please report this to the AutoGraph team. When filing the bug, set the verbosity to 10 (on Linux, `export AUTOGRAPH_VERBOSITY=10`) and attach the full output. Cause: No module named 'tensorflow_core.contrib'\n",
      "WARNING: Entity <function Function._initialize_uninitialized_variables.<locals>.initialize_variables at 0x7fb8907642f0> could not be transformed and will be executed as-is. Please report this to the AutoGraph team. When filing the bug, set the verbosity to 10 (on Linux, `export AUTOGRAPH_VERBOSITY=10`) and attach the full output. Cause: No module named 'tensorflow_core.contrib'\n",
      "WARNING: Entity <function Function._initialize_uninitialized_variables.<locals>.initialize_variables at 0x7fb89068b8c8> could not be transformed and will be executed as-is. Please report this to the AutoGraph team. When filing the bug, set the verbosity to 10 (on Linux, `export AUTOGRAPH_VERBOSITY=10`) and attach the full output. Cause: No module named 'tensorflow_core.contrib'\n",
      "WARNING: Entity <bound method L1L2.__call__ of <tensorflow.python.keras.regularizers.L1L2 object at 0x7fb9403e3fd0>> could not be transformed and will be executed as-is. Please report this to the AutoGraph team. When filing the bug, set the verbosity to 10 (on Linux, `export AUTOGRAPH_VERBOSITY=10`) and attach the full output. Cause: No module named 'tensorflow_core.contrib'\n",
      "WARNING: Entity <function Function._initialize_uninitialized_variables.<locals>.initialize_variables at 0x7fb892b4fa60> could not be transformed and will be executed as-is. Please report this to the AutoGraph team. When filing the bug, set the verbosity to 10 (on Linux, `export AUTOGRAPH_VERBOSITY=10`) and attach the full output. Cause: No module named 'tensorflow_core.contrib'\n"
     ]
    },
    {
     "name": "stderr",
     "output_type": "stream",
     "text": [
      "W0609 01:25:37.498926 140437208413952 ag_logging.py:145] Entity <function Function._initialize_uninitialized_variables.<locals>.initialize_variables at 0x7fb892b229d8> could not be transformed and will be executed as-is. Please report this to the AutoGraph team. When filing the bug, set the verbosity to 10 (on Linux, `export AUTOGRAPH_VERBOSITY=10`) and attach the full output. Cause: No module named 'tensorflow_core.contrib'\n",
      "W0609 01:25:37.533111 140437208413952 ag_logging.py:145] Entity <function Function._initialize_uninitialized_variables.<locals>.initialize_variables at 0x7fb94016f840> could not be transformed and will be executed as-is. Please report this to the AutoGraph team. When filing the bug, set the verbosity to 10 (on Linux, `export AUTOGRAPH_VERBOSITY=10`) and attach the full output. Cause: No module named 'tensorflow_core.contrib'\n",
      "W0609 01:25:37.543216 140437208413952 ag_logging.py:145] Entity <function Function._initialize_uninitialized_variables.<locals>.initialize_variables at 0x7fb890528158> could not be transformed and will be executed as-is. Please report this to the AutoGraph team. When filing the bug, set the verbosity to 10 (on Linux, `export AUTOGRAPH_VERBOSITY=10`) and attach the full output. Cause: No module named 'tensorflow_core.contrib'\n"
     ]
    },
    {
     "name": "stdout",
     "output_type": "stream",
     "text": [
      "WARNING: Entity <function Function._initialize_uninitialized_variables.<locals>.initialize_variables at 0x7fb892b229d8> could not be transformed and will be executed as-is. Please report this to the AutoGraph team. When filing the bug, set the verbosity to 10 (on Linux, `export AUTOGRAPH_VERBOSITY=10`) and attach the full output. Cause: No module named 'tensorflow_core.contrib'\n",
      "WARNING: Entity <function Function._initialize_uninitialized_variables.<locals>.initialize_variables at 0x7fb94016f840> could not be transformed and will be executed as-is. Please report this to the AutoGraph team. When filing the bug, set the verbosity to 10 (on Linux, `export AUTOGRAPH_VERBOSITY=10`) and attach the full output. Cause: No module named 'tensorflow_core.contrib'\n",
      "WARNING: Entity <function Function._initialize_uninitialized_variables.<locals>.initialize_variables at 0x7fb890528158> could not be transformed and will be executed as-is. Please report this to the AutoGraph team. When filing the bug, set the verbosity to 10 (on Linux, `export AUTOGRAPH_VERBOSITY=10`) and attach the full output. Cause: No module named 'tensorflow_core.contrib'\n"
     ]
    },
    {
     "name": "stderr",
     "output_type": "stream",
     "text": [
      "W0609 01:25:37.653425 140437208413952 ag_logging.py:145] Entity <function Function._initialize_uninitialized_variables.<locals>.initialize_variables at 0x7fb892340268> could not be transformed and will be executed as-is. Please report this to the AutoGraph team. When filing the bug, set the verbosity to 10 (on Linux, `export AUTOGRAPH_VERBOSITY=10`) and attach the full output. Cause: No module named 'tensorflow_core.contrib'\n",
      "W0609 01:25:37.674514 140437208413952 ag_logging.py:145] Entity <function Function._initialize_uninitialized_variables.<locals>.initialize_variables at 0x7fb8ec2c20d0> could not be transformed and will be executed as-is. Please report this to the AutoGraph team. When filing the bug, set the verbosity to 10 (on Linux, `export AUTOGRAPH_VERBOSITY=10`) and attach the full output. Cause: No module named 'tensorflow_core.contrib'\n"
     ]
    },
    {
     "name": "stdout",
     "output_type": "stream",
     "text": [
      "WARNING: Entity <function Function._initialize_uninitialized_variables.<locals>.initialize_variables at 0x7fb892340268> could not be transformed and will be executed as-is. Please report this to the AutoGraph team. When filing the bug, set the verbosity to 10 (on Linux, `export AUTOGRAPH_VERBOSITY=10`) and attach the full output. Cause: No module named 'tensorflow_core.contrib'\n",
      "WARNING: Entity <function Function._initialize_uninitialized_variables.<locals>.initialize_variables at 0x7fb8ec2c20d0> could not be transformed and will be executed as-is. Please report this to the AutoGraph team. When filing the bug, set the verbosity to 10 (on Linux, `export AUTOGRAPH_VERBOSITY=10`) and attach the full output. Cause: No module named 'tensorflow_core.contrib'\n"
     ]
    },
    {
     "name": "stderr",
     "output_type": "stream",
     "text": [
      "W0609 01:25:37.728831 140437208413952 ag_logging.py:145] Entity <function Function._initialize_uninitialized_variables.<locals>.initialize_variables at 0x7fb89010f2f0> could not be transformed and will be executed as-is. Please report this to the AutoGraph team. When filing the bug, set the verbosity to 10 (on Linux, `export AUTOGRAPH_VERBOSITY=10`) and attach the full output. Cause: No module named 'tensorflow_core.contrib'\n",
      "W0609 01:25:37.745186 140437208413952 ag_logging.py:145] Entity <function canonicalize_signatures.<locals>.signature_wrapper at 0x7fb890528158> could not be transformed and will be executed as-is. Please report this to the AutoGraph team. When filing the bug, set the verbosity to 10 (on Linux, `export AUTOGRAPH_VERBOSITY=10`) and attach the full output. Cause: No module named 'tensorflow_core.contrib'\n",
      "W0609 01:25:37.763269 140437208413952 ag_logging.py:145] Entity <function Function._initialize_uninitialized_variables.<locals>.initialize_variables at 0x7fb8a0122840> could not be transformed and will be executed as-is. Please report this to the AutoGraph team. When filing the bug, set the verbosity to 10 (on Linux, `export AUTOGRAPH_VERBOSITY=10`) and attach the full output. Cause: No module named 'tensorflow_core.contrib'\n"
     ]
    },
    {
     "name": "stdout",
     "output_type": "stream",
     "text": [
      "WARNING: Entity <function Function._initialize_uninitialized_variables.<locals>.initialize_variables at 0x7fb89010f2f0> could not be transformed and will be executed as-is. Please report this to the AutoGraph team. When filing the bug, set the verbosity to 10 (on Linux, `export AUTOGRAPH_VERBOSITY=10`) and attach the full output. Cause: No module named 'tensorflow_core.contrib'\n",
      "WARNING: Entity <function canonicalize_signatures.<locals>.signature_wrapper at 0x7fb890528158> could not be transformed and will be executed as-is. Please report this to the AutoGraph team. When filing the bug, set the verbosity to 10 (on Linux, `export AUTOGRAPH_VERBOSITY=10`) and attach the full output. Cause: No module named 'tensorflow_core.contrib'\n",
      "WARNING: Entity <function Function._initialize_uninitialized_variables.<locals>.initialize_variables at 0x7fb8a0122840> could not be transformed and will be executed as-is. Please report this to the AutoGraph team. When filing the bug, set the verbosity to 10 (on Linux, `export AUTOGRAPH_VERBOSITY=10`) and attach the full output. Cause: No module named 'tensorflow_core.contrib'\n",
      "1084/1085 [============================>.] - ETA: 0s - loss: 0.0019 - mean_PSNR: 28.5945\n",
      "Learning rate for epoch 202 is 9.999999974752427e-07\n",
      "1085/1085 [==============================] - 98s 90ms/step - loss: 0.0019 - mean_PSNR: 28.5946 - val_loss: 0.0021 - val_mean_PSNR: 28.1798\n",
      "Epoch 203/300\n",
      "1084/1085 [============================>.] - ETA: 0s - loss: 0.0019 - mean_PSNR: 28.5964\n",
      "Learning rate for epoch 203 is 2.499999993688107e-07\n",
      "1085/1085 [==============================] - 95s 87ms/step - loss: 0.0019 - mean_PSNR: 28.5963 - val_loss: 0.0022 - val_mean_PSNR: 28.1672\n",
      "Epoch 204/300\n",
      "1084/1085 [============================>.] - ETA: 0s - loss: 0.0019 - mean_PSNR: 28.5940\n",
      "Learning rate for epoch 204 is 9.999999974752427e-07\n",
      "1085/1085 [==============================] - 94s 87ms/step - loss: 0.0019 - mean_PSNR: 28.5940 - val_loss: 0.0021 - val_mean_PSNR: 28.1805\n",
      "Epoch 205/300\n",
      "1084/1085 [============================>.] - ETA: 0s - loss: 0.0019 - mean_PSNR: 28.5953\n",
      "Learning rate for epoch 205 is 2.499999993688107e-07\n",
      "1085/1085 [==============================] - 94s 87ms/step - loss: 0.0019 - mean_PSNR: 28.5951 - val_loss: 0.0021 - val_mean_PSNR: 28.1799\n",
      "Epoch 206/300\n",
      "1084/1085 [============================>.] - ETA: 0s - loss: 0.0019 - mean_PSNR: 28.5949\n",
      "Learning rate for epoch 206 is 9.999999974752427e-07\n",
      "1085/1085 [==============================] - 95s 87ms/step - loss: 0.0019 - mean_PSNR: 28.5949 - val_loss: 0.0021 - val_mean_PSNR: 28.1804\n",
      "Epoch 207/300\n",
      "1084/1085 [============================>.] - ETA: 0s - loss: 0.0019 - mean_PSNR: 28.5943\n",
      "Learning rate for epoch 207 is 2.499999993688107e-07\n",
      "1085/1085 [==============================] - 94s 87ms/step - loss: 0.0019 - mean_PSNR: 28.5940 - val_loss: 0.0021 - val_mean_PSNR: 28.1780\n",
      "Epoch 208/300\n",
      "1084/1085 [============================>.] - ETA: 0s - loss: 0.0019 - mean_PSNR: 28.5958\n",
      "Learning rate for epoch 208 is 9.999999974752427e-07\n",
      "1085/1085 [==============================] - 94s 87ms/step - loss: 0.0019 - mean_PSNR: 28.5958 - val_loss: 0.0021 - val_mean_PSNR: 28.1793\n",
      "Epoch 209/300\n",
      "1084/1085 [============================>.] - ETA: 0s - loss: 0.0019 - mean_PSNR: 28.5929\n",
      "Learning rate for epoch 209 is 2.499999993688107e-07\n",
      "1085/1085 [==============================] - 94s 87ms/step - loss: 0.0019 - mean_PSNR: 28.5927 - val_loss: 0.0021 - val_mean_PSNR: 28.1856\n",
      "Epoch 210/300\n",
      "1084/1085 [============================>.] - ETA: 0s - loss: 0.0019 - mean_PSNR: 28.5968\n",
      "Learning rate for epoch 210 is 9.999999974752427e-07\n",
      "1085/1085 [==============================] - 94s 87ms/step - loss: 0.0019 - mean_PSNR: 28.5967 - val_loss: 0.0021 - val_mean_PSNR: 28.1917\n",
      "Epoch 211/300\n",
      "1084/1085 [============================>.] - ETA: 0s - loss: 0.0019 - mean_PSNR: 28.5908\n",
      "Learning rate for epoch 211 is 2.499999993688107e-07\n",
      "1085/1085 [==============================] - 94s 87ms/step - loss: 0.0019 - mean_PSNR: 28.5907 - val_loss: 0.0021 - val_mean_PSNR: 28.1749\n",
      "Epoch 212/300\n",
      "1084/1085 [============================>.] - ETA: 0s - loss: 0.0019 - mean_PSNR: 28.5963\n",
      "Learning rate for epoch 212 is 9.999999974752427e-07\n",
      "1085/1085 [==============================] - 94s 87ms/step - loss: 0.0019 - mean_PSNR: 28.5963 - val_loss: 0.0021 - val_mean_PSNR: 28.1813\n",
      "Epoch 213/300\n",
      "1084/1085 [============================>.] - ETA: 0s - loss: 0.0019 - mean_PSNR: 28.5956\n",
      "Learning rate for epoch 213 is 2.499999993688107e-07\n",
      "1085/1085 [==============================] - 94s 87ms/step - loss: 0.0019 - mean_PSNR: 28.5954 - val_loss: 0.0021 - val_mean_PSNR: 28.1802\n",
      "Epoch 214/300\n",
      "1084/1085 [============================>.] - ETA: 0s - loss: 0.0019 - mean_PSNR: 28.5935\n",
      "Learning rate for epoch 214 is 9.999999974752427e-07\n",
      "1085/1085 [==============================] - 94s 87ms/step - loss: 0.0019 - mean_PSNR: 28.5934 - val_loss: 0.0021 - val_mean_PSNR: 28.1849\n",
      "Epoch 215/300\n",
      "1084/1085 [============================>.] - ETA: 0s - loss: 0.0019 - mean_PSNR: 28.5909\n",
      "Learning rate for epoch 215 is 2.499999993688107e-07\n",
      "1085/1085 [==============================] - 94s 87ms/step - loss: 0.0019 - mean_PSNR: 28.5908 - val_loss: 0.0021 - val_mean_PSNR: 28.1770\n",
      "Epoch 216/300\n",
      "1084/1085 [============================>.] - ETA: 0s - loss: 0.0019 - mean_PSNR: 28.5990\n",
      "Learning rate for epoch 216 is 9.999999974752427e-07\n",
      "1085/1085 [==============================] - 94s 87ms/step - loss: 0.0019 - mean_PSNR: 28.5988 - val_loss: 0.0021 - val_mean_PSNR: 28.1824\n",
      "Epoch 217/300\n",
      "  14/1085 [..............................] - ETA: 1:15 - loss: 0.0018 - mean_PSNR: 28.7000\n",
      "Epoch 00217: saving model to /home/ubuntu/cs230/models/automap_fastmri/2019-06-08_13:06:26/cp-0217.ckpt\n"
     ]
    },
    {
     "name": "stderr",
     "output_type": "stream",
     "text": [
      "W0609 01:48:34.069704 140437208413952 ag_logging.py:145] Entity <function Function._initialize_uninitialized_variables.<locals>.initialize_variables at 0x7fb8a0223840> could not be transformed and will be executed as-is. Please report this to the AutoGraph team. When filing the bug, set the verbosity to 10 (on Linux, `export AUTOGRAPH_VERBOSITY=10`) and attach the full output. Cause: No module named 'tensorflow_core.contrib'\n",
      "W0609 01:48:34.079470 140437208413952 ag_logging.py:145] Entity <function Function._initialize_uninitialized_variables.<locals>.initialize_variables at 0x7fb892b22f28> could not be transformed and will be executed as-is. Please report this to the AutoGraph team. When filing the bug, set the verbosity to 10 (on Linux, `export AUTOGRAPH_VERBOSITY=10`) and attach the full output. Cause: No module named 'tensorflow_core.contrib'\n",
      "W0609 01:48:34.092370 140437208413952 ag_logging.py:145] Entity <function Function._initialize_uninitialized_variables.<locals>.initialize_variables at 0x7fb8a1248e18> could not be transformed and will be executed as-is. Please report this to the AutoGraph team. When filing the bug, set the verbosity to 10 (on Linux, `export AUTOGRAPH_VERBOSITY=10`) and attach the full output. Cause: No module named 'tensorflow_core.contrib'\n",
      "W0609 01:48:34.101410 140437208413952 ag_logging.py:145] Entity <function Function._initialize_uninitialized_variables.<locals>.initialize_variables at 0x7fb8a1d56378> could not be transformed and will be executed as-is. Please report this to the AutoGraph team. When filing the bug, set the verbosity to 10 (on Linux, `export AUTOGRAPH_VERBOSITY=10`) and attach the full output. Cause: No module named 'tensorflow_core.contrib'\n",
      "W0609 01:48:34.105262 140437208413952 ag_logging.py:145] Entity <bound method L1L2.__call__ of <tensorflow.python.keras.regularizers.L1L2 object at 0x7fb9403e3fd0>> could not be transformed and will be executed as-is. Please report this to the AutoGraph team. When filing the bug, set the verbosity to 10 (on Linux, `export AUTOGRAPH_VERBOSITY=10`) and attach the full output. Cause: No module named 'tensorflow_core.contrib'\n",
      "W0609 01:48:34.117675 140437208413952 ag_logging.py:145] Entity <function Function._initialize_uninitialized_variables.<locals>.initialize_variables at 0x7fb89243a620> could not be transformed and will be executed as-is. Please report this to the AutoGraph team. When filing the bug, set the verbosity to 10 (on Linux, `export AUTOGRAPH_VERBOSITY=10`) and attach the full output. Cause: No module named 'tensorflow_core.contrib'\n",
      "W0609 01:48:34.129422 140437208413952 ag_logging.py:145] Entity <function Function._initialize_uninitialized_variables.<locals>.initialize_variables at 0x7fb8923090d0> could not be transformed and will be executed as-is. Please report this to the AutoGraph team. When filing the bug, set the verbosity to 10 (on Linux, `export AUTOGRAPH_VERBOSITY=10`) and attach the full output. Cause: No module named 'tensorflow_core.contrib'\n",
      "W0609 01:48:34.163307 140437208413952 ag_logging.py:145] Entity <function Function._initialize_uninitialized_variables.<locals>.initialize_variables at 0x7fb892408c80> could not be transformed and will be executed as-is. Please report this to the AutoGraph team. When filing the bug, set the verbosity to 10 (on Linux, `export AUTOGRAPH_VERBOSITY=10`) and attach the full output. Cause: No module named 'tensorflow_core.contrib'\n",
      "W0609 01:48:34.173934 140437208413952 ag_logging.py:145] Entity <function Function._initialize_uninitialized_variables.<locals>.initialize_variables at 0x7fb892340598> could not be transformed and will be executed as-is. Please report this to the AutoGraph team. When filing the bug, set the verbosity to 10 (on Linux, `export AUTOGRAPH_VERBOSITY=10`) and attach the full output. Cause: No module named 'tensorflow_core.contrib'\n"
     ]
    },
    {
     "name": "stdout",
     "output_type": "stream",
     "text": [
      "WARNING: Entity <function Function._initialize_uninitialized_variables.<locals>.initialize_variables at 0x7fb8a0223840> could not be transformed and will be executed as-is. Please report this to the AutoGraph team. When filing the bug, set the verbosity to 10 (on Linux, `export AUTOGRAPH_VERBOSITY=10`) and attach the full output. Cause: No module named 'tensorflow_core.contrib'\n",
      "WARNING: Entity <function Function._initialize_uninitialized_variables.<locals>.initialize_variables at 0x7fb892b22f28> could not be transformed and will be executed as-is. Please report this to the AutoGraph team. When filing the bug, set the verbosity to 10 (on Linux, `export AUTOGRAPH_VERBOSITY=10`) and attach the full output. Cause: No module named 'tensorflow_core.contrib'\n",
      "WARNING: Entity <function Function._initialize_uninitialized_variables.<locals>.initialize_variables at 0x7fb8a1248e18> could not be transformed and will be executed as-is. Please report this to the AutoGraph team. When filing the bug, set the verbosity to 10 (on Linux, `export AUTOGRAPH_VERBOSITY=10`) and attach the full output. Cause: No module named 'tensorflow_core.contrib'\n",
      "WARNING: Entity <function Function._initialize_uninitialized_variables.<locals>.initialize_variables at 0x7fb8a1d56378> could not be transformed and will be executed as-is. Please report this to the AutoGraph team. When filing the bug, set the verbosity to 10 (on Linux, `export AUTOGRAPH_VERBOSITY=10`) and attach the full output. Cause: No module named 'tensorflow_core.contrib'\n",
      "WARNING: Entity <bound method L1L2.__call__ of <tensorflow.python.keras.regularizers.L1L2 object at 0x7fb9403e3fd0>> could not be transformed and will be executed as-is. Please report this to the AutoGraph team. When filing the bug, set the verbosity to 10 (on Linux, `export AUTOGRAPH_VERBOSITY=10`) and attach the full output. Cause: No module named 'tensorflow_core.contrib'\n",
      "WARNING: Entity <function Function._initialize_uninitialized_variables.<locals>.initialize_variables at 0x7fb89243a620> could not be transformed and will be executed as-is. Please report this to the AutoGraph team. When filing the bug, set the verbosity to 10 (on Linux, `export AUTOGRAPH_VERBOSITY=10`) and attach the full output. Cause: No module named 'tensorflow_core.contrib'\n",
      "WARNING: Entity <function Function._initialize_uninitialized_variables.<locals>.initialize_variables at 0x7fb8923090d0> could not be transformed and will be executed as-is. Please report this to the AutoGraph team. When filing the bug, set the verbosity to 10 (on Linux, `export AUTOGRAPH_VERBOSITY=10`) and attach the full output. Cause: No module named 'tensorflow_core.contrib'\n",
      "WARNING: Entity <function Function._initialize_uninitialized_variables.<locals>.initialize_variables at 0x7fb892408c80> could not be transformed and will be executed as-is. Please report this to the AutoGraph team. When filing the bug, set the verbosity to 10 (on Linux, `export AUTOGRAPH_VERBOSITY=10`) and attach the full output. Cause: No module named 'tensorflow_core.contrib'\n",
      "WARNING: Entity <function Function._initialize_uninitialized_variables.<locals>.initialize_variables at 0x7fb892340598> could not be transformed and will be executed as-is. Please report this to the AutoGraph team. When filing the bug, set the verbosity to 10 (on Linux, `export AUTOGRAPH_VERBOSITY=10`) and attach the full output. Cause: No module named 'tensorflow_core.contrib'\n"
     ]
    },
    {
     "name": "stderr",
     "output_type": "stream",
     "text": [
      "W0609 01:48:34.286147 140437208413952 ag_logging.py:145] Entity <function Function._initialize_uninitialized_variables.<locals>.initialize_variables at 0x7fb890764d90> could not be transformed and will be executed as-is. Please report this to the AutoGraph team. When filing the bug, set the verbosity to 10 (on Linux, `export AUTOGRAPH_VERBOSITY=10`) and attach the full output. Cause: No module named 'tensorflow_core.contrib'\n",
      "W0609 01:48:34.308216 140437208413952 ag_logging.py:145] Entity <function Function._initialize_uninitialized_variables.<locals>.initialize_variables at 0x7fb8902c5488> could not be transformed and will be executed as-is. Please report this to the AutoGraph team. When filing the bug, set the verbosity to 10 (on Linux, `export AUTOGRAPH_VERBOSITY=10`) and attach the full output. Cause: No module named 'tensorflow_core.contrib'\n",
      "W0609 01:48:34.365067 140437208413952 ag_logging.py:145] Entity <function Function._initialize_uninitialized_variables.<locals>.initialize_variables at 0x7fb8a0122950> could not be transformed and will be executed as-is. Please report this to the AutoGraph team. When filing the bug, set the verbosity to 10 (on Linux, `export AUTOGRAPH_VERBOSITY=10`) and attach the full output. Cause: No module named 'tensorflow_core.contrib'\n",
      "W0609 01:48:34.383022 140437208413952 ag_logging.py:145] Entity <function canonicalize_signatures.<locals>.signature_wrapper at 0x7fb89068b2f0> could not be transformed and will be executed as-is. Please report this to the AutoGraph team. When filing the bug, set the verbosity to 10 (on Linux, `export AUTOGRAPH_VERBOSITY=10`) and attach the full output. Cause: No module named 'tensorflow_core.contrib'\n",
      "W0609 01:48:34.401236 140437208413952 ag_logging.py:145] Entity <function Function._initialize_uninitialized_variables.<locals>.initialize_variables at 0x7fb8a15af378> could not be transformed and will be executed as-is. Please report this to the AutoGraph team. When filing the bug, set the verbosity to 10 (on Linux, `export AUTOGRAPH_VERBOSITY=10`) and attach the full output. Cause: No module named 'tensorflow_core.contrib'\n"
     ]
    },
    {
     "name": "stdout",
     "output_type": "stream",
     "text": [
      "WARNING: Entity <function Function._initialize_uninitialized_variables.<locals>.initialize_variables at 0x7fb890764d90> could not be transformed and will be executed as-is. Please report this to the AutoGraph team. When filing the bug, set the verbosity to 10 (on Linux, `export AUTOGRAPH_VERBOSITY=10`) and attach the full output. Cause: No module named 'tensorflow_core.contrib'\n",
      "WARNING: Entity <function Function._initialize_uninitialized_variables.<locals>.initialize_variables at 0x7fb8902c5488> could not be transformed and will be executed as-is. Please report this to the AutoGraph team. When filing the bug, set the verbosity to 10 (on Linux, `export AUTOGRAPH_VERBOSITY=10`) and attach the full output. Cause: No module named 'tensorflow_core.contrib'\n",
      "WARNING: Entity <function Function._initialize_uninitialized_variables.<locals>.initialize_variables at 0x7fb8a0122950> could not be transformed and will be executed as-is. Please report this to the AutoGraph team. When filing the bug, set the verbosity to 10 (on Linux, `export AUTOGRAPH_VERBOSITY=10`) and attach the full output. Cause: No module named 'tensorflow_core.contrib'\n",
      "WARNING: Entity <function canonicalize_signatures.<locals>.signature_wrapper at 0x7fb89068b2f0> could not be transformed and will be executed as-is. Please report this to the AutoGraph team. When filing the bug, set the verbosity to 10 (on Linux, `export AUTOGRAPH_VERBOSITY=10`) and attach the full output. Cause: No module named 'tensorflow_core.contrib'\n",
      "WARNING: Entity <function Function._initialize_uninitialized_variables.<locals>.initialize_variables at 0x7fb8a15af378> could not be transformed and will be executed as-is. Please report this to the AutoGraph team. When filing the bug, set the verbosity to 10 (on Linux, `export AUTOGRAPH_VERBOSITY=10`) and attach the full output. Cause: No module named 'tensorflow_core.contrib'\n",
      "1084/1085 [============================>.] - ETA: 0s - loss: 0.0019 - mean_PSNR: 28.5923\n",
      "Learning rate for epoch 217 is 2.499999993688107e-07\n",
      "1085/1085 [==============================] - 99s 91ms/step - loss: 0.0019 - mean_PSNR: 28.5924 - val_loss: 0.0021 - val_mean_PSNR: 28.1835\n",
      "Epoch 218/300\n",
      "1084/1085 [============================>.] - ETA: 0s - loss: 0.0019 - mean_PSNR: 28.5886\n",
      "Learning rate for epoch 218 is 9.999999974752427e-07\n",
      "1085/1085 [==============================] - 94s 87ms/step - loss: 0.0019 - mean_PSNR: 28.5885 - val_loss: 0.0021 - val_mean_PSNR: 28.1877\n",
      "Epoch 219/300\n",
      "1084/1085 [============================>.] - ETA: 0s - loss: 0.0019 - mean_PSNR: 28.5978\n",
      "Learning rate for epoch 219 is 2.499999993688107e-07\n",
      "1085/1085 [==============================] - 95s 87ms/step - loss: 0.0019 - mean_PSNR: 28.5977 - val_loss: 0.0021 - val_mean_PSNR: 28.1824\n",
      "Epoch 220/300\n",
      "1084/1085 [============================>.] - ETA: 0s - loss: 0.0019 - mean_PSNR: 28.5960\n",
      "Learning rate for epoch 220 is 9.999999974752427e-07\n",
      "1085/1085 [==============================] - 94s 87ms/step - loss: 0.0019 - mean_PSNR: 28.5958 - val_loss: 0.0021 - val_mean_PSNR: 28.1906\n",
      "Epoch 221/300\n",
      "1084/1085 [============================>.] - ETA: 0s - loss: 0.0019 - mean_PSNR: 28.5922\n",
      "Learning rate for epoch 221 is 1.249999968422344e-06\n",
      "1085/1085 [==============================] - 94s 87ms/step - loss: 0.0019 - mean_PSNR: 28.5923 - val_loss: 0.0021 - val_mean_PSNR: 28.1741\n",
      "Epoch 222/300\n",
      "1084/1085 [============================>.] - ETA: 0s - loss: 0.0019 - mean_PSNR: 28.5975\n",
      "Learning rate for epoch 222 is 4.999999873689376e-06\n",
      "1085/1085 [==============================] - 94s 87ms/step - loss: 0.0019 - mean_PSNR: 28.5973 - val_loss: 0.0021 - val_mean_PSNR: 28.1820\n",
      "Epoch 223/300\n",
      "1084/1085 [============================>.] - ETA: 0s - loss: 0.0019 - mean_PSNR: 28.5933\n",
      "Learning rate for epoch 223 is 1.249999968422344e-06\n",
      "1085/1085 [==============================] - 94s 87ms/step - loss: 0.0019 - mean_PSNR: 28.5932 - val_loss: 0.0021 - val_mean_PSNR: 28.1770\n",
      "Epoch 224/300\n",
      "1084/1085 [============================>.] - ETA: 0s - loss: 0.0019 - mean_PSNR: 28.5957\n",
      "Learning rate for epoch 224 is 4.999999873689376e-06\n",
      "1085/1085 [==============================] - 94s 87ms/step - loss: 0.0019 - mean_PSNR: 28.5956 - val_loss: 0.0021 - val_mean_PSNR: 28.1778\n",
      "Epoch 225/300\n",
      "1084/1085 [============================>.] - ETA: 0s - loss: 0.0019 - mean_PSNR: 28.5965\n",
      "Learning rate for epoch 225 is 1.249999968422344e-06\n",
      "1085/1085 [==============================] - 95s 87ms/step - loss: 0.0019 - mean_PSNR: 28.5965 - val_loss: 0.0021 - val_mean_PSNR: 28.1701\n",
      "Epoch 226/300\n",
      "1084/1085 [============================>.] - ETA: 0s - loss: 0.0019 - mean_PSNR: 28.5984\n",
      "Learning rate for epoch 226 is 4.999999873689376e-06\n",
      "1085/1085 [==============================] - 95s 87ms/step - loss: 0.0019 - mean_PSNR: 28.5983 - val_loss: 0.0021 - val_mean_PSNR: 28.1863\n",
      "Epoch 227/300\n",
      "1084/1085 [============================>.] - ETA: 0s - loss: 0.0019 - mean_PSNR: 28.5894\n",
      "Learning rate for epoch 227 is 1.249999968422344e-06\n",
      "1085/1085 [==============================] - 94s 87ms/step - loss: 0.0019 - mean_PSNR: 28.5894 - val_loss: 0.0021 - val_mean_PSNR: 28.1721\n",
      "Epoch 228/300\n",
      "1084/1085 [============================>.] - ETA: 0s - loss: 0.0019 - mean_PSNR: 28.5961\n",
      "Learning rate for epoch 228 is 4.999999873689376e-06\n",
      "1085/1085 [==============================] - 94s 87ms/step - loss: 0.0019 - mean_PSNR: 28.5960 - val_loss: 0.0021 - val_mean_PSNR: 28.1776\n",
      "Epoch 229/300\n",
      "1084/1085 [============================>.] - ETA: 0s - loss: 0.0019 - mean_PSNR: 28.5990\n",
      "Learning rate for epoch 229 is 1.249999968422344e-06\n",
      "1085/1085 [==============================] - 94s 87ms/step - loss: 0.0019 - mean_PSNR: 28.5989 - val_loss: 0.0021 - val_mean_PSNR: 28.1789\n",
      "Epoch 230/300\n",
      "1084/1085 [============================>.] - ETA: 0s - loss: 0.0019 - mean_PSNR: 28.5963\n",
      "Learning rate for epoch 230 is 4.999999873689376e-06\n",
      "1085/1085 [==============================] - 94s 87ms/step - loss: 0.0019 - mean_PSNR: 28.5964 - val_loss: 0.0021 - val_mean_PSNR: 28.1795\n",
      "Epoch 231/300\n",
      " 449/1085 [===========>..................] - ETA: 40s - loss: 0.0019 - mean_PSNR: 28.5956\n",
      "Epoch 00231: saving model to /home/ubuntu/cs230/models/automap_fastmri/2019-06-08_13:06:26/cp-0231.ckpt\n"
     ]
    },
    {
     "name": "stderr",
     "output_type": "stream",
     "text": [
      "W0609 02:11:09.587758 140437208413952 ag_logging.py:145] Entity <function Function._initialize_uninitialized_variables.<locals>.initialize_variables at 0x7fb8ec47de18> could not be transformed and will be executed as-is. Please report this to the AutoGraph team. When filing the bug, set the verbosity to 10 (on Linux, `export AUTOGRAPH_VERBOSITY=10`) and attach the full output. Cause: No module named 'tensorflow_core.contrib'\n",
      "W0609 02:11:09.596890 140437208413952 ag_logging.py:145] Entity <function Function._initialize_uninitialized_variables.<locals>.initialize_variables at 0x7fb8ec2c20d0> could not be transformed and will be executed as-is. Please report this to the AutoGraph team. When filing the bug, set the verbosity to 10 (on Linux, `export AUTOGRAPH_VERBOSITY=10`) and attach the full output. Cause: No module named 'tensorflow_core.contrib'\n",
      "W0609 02:11:09.610096 140437208413952 ag_logging.py:145] Entity <function Function._initialize_uninitialized_variables.<locals>.initialize_variables at 0x7fb890764d90> could not be transformed and will be executed as-is. Please report this to the AutoGraph team. When filing the bug, set the verbosity to 10 (on Linux, `export AUTOGRAPH_VERBOSITY=10`) and attach the full output. Cause: No module named 'tensorflow_core.contrib'\n",
      "W0609 02:11:09.619283 140437208413952 ag_logging.py:145] Entity <function Function._initialize_uninitialized_variables.<locals>.initialize_variables at 0x7fb89068b598> could not be transformed and will be executed as-is. Please report this to the AutoGraph team. When filing the bug, set the verbosity to 10 (on Linux, `export AUTOGRAPH_VERBOSITY=10`) and attach the full output. Cause: No module named 'tensorflow_core.contrib'\n",
      "W0609 02:11:09.623434 140437208413952 ag_logging.py:145] Entity <bound method L1L2.__call__ of <tensorflow.python.keras.regularizers.L1L2 object at 0x7fb9403e3fd0>> could not be transformed and will be executed as-is. Please report this to the AutoGraph team. When filing the bug, set the verbosity to 10 (on Linux, `export AUTOGRAPH_VERBOSITY=10`) and attach the full output. Cause: No module named 'tensorflow_core.contrib'\n",
      "W0609 02:11:09.635577 140437208413952 ag_logging.py:145] Entity <function Function._initialize_uninitialized_variables.<locals>.initialize_variables at 0x7fb892add598> could not be transformed and will be executed as-is. Please report this to the AutoGraph team. When filing the bug, set the verbosity to 10 (on Linux, `export AUTOGRAPH_VERBOSITY=10`) and attach the full output. Cause: No module named 'tensorflow_core.contrib'\n"
     ]
    },
    {
     "name": "stdout",
     "output_type": "stream",
     "text": [
      "WARNING: Entity <function Function._initialize_uninitialized_variables.<locals>.initialize_variables at 0x7fb8ec47de18> could not be transformed and will be executed as-is. Please report this to the AutoGraph team. When filing the bug, set the verbosity to 10 (on Linux, `export AUTOGRAPH_VERBOSITY=10`) and attach the full output. Cause: No module named 'tensorflow_core.contrib'\n",
      "WARNING: Entity <function Function._initialize_uninitialized_variables.<locals>.initialize_variables at 0x7fb8ec2c20d0> could not be transformed and will be executed as-is. Please report this to the AutoGraph team. When filing the bug, set the verbosity to 10 (on Linux, `export AUTOGRAPH_VERBOSITY=10`) and attach the full output. Cause: No module named 'tensorflow_core.contrib'\n",
      "WARNING: Entity <function Function._initialize_uninitialized_variables.<locals>.initialize_variables at 0x7fb890764d90> could not be transformed and will be executed as-is. Please report this to the AutoGraph team. When filing the bug, set the verbosity to 10 (on Linux, `export AUTOGRAPH_VERBOSITY=10`) and attach the full output. Cause: No module named 'tensorflow_core.contrib'\n",
      "WARNING: Entity <function Function._initialize_uninitialized_variables.<locals>.initialize_variables at 0x7fb89068b598> could not be transformed and will be executed as-is. Please report this to the AutoGraph team. When filing the bug, set the verbosity to 10 (on Linux, `export AUTOGRAPH_VERBOSITY=10`) and attach the full output. Cause: No module named 'tensorflow_core.contrib'\n",
      "WARNING: Entity <bound method L1L2.__call__ of <tensorflow.python.keras.regularizers.L1L2 object at 0x7fb9403e3fd0>> could not be transformed and will be executed as-is. Please report this to the AutoGraph team. When filing the bug, set the verbosity to 10 (on Linux, `export AUTOGRAPH_VERBOSITY=10`) and attach the full output. Cause: No module named 'tensorflow_core.contrib'\n",
      "WARNING: Entity <function Function._initialize_uninitialized_variables.<locals>.initialize_variables at 0x7fb892add598> could not be transformed and will be executed as-is. Please report this to the AutoGraph team. When filing the bug, set the verbosity to 10 (on Linux, `export AUTOGRAPH_VERBOSITY=10`) and attach the full output. Cause: No module named 'tensorflow_core.contrib'\n"
     ]
    },
    {
     "name": "stderr",
     "output_type": "stream",
     "text": [
      "W0609 02:11:09.647851 140437208413952 ag_logging.py:145] Entity <function Function._initialize_uninitialized_variables.<locals>.initialize_variables at 0x7fb8907ef048> could not be transformed and will be executed as-is. Please report this to the AutoGraph team. When filing the bug, set the verbosity to 10 (on Linux, `export AUTOGRAPH_VERBOSITY=10`) and attach the full output. Cause: No module named 'tensorflow_core.contrib'\n",
      "W0609 02:11:09.681152 140437208413952 ag_logging.py:145] Entity <function Function._initialize_uninitialized_variables.<locals>.initialize_variables at 0x7fb8a0122488> could not be transformed and will be executed as-is. Please report this to the AutoGraph team. When filing the bug, set the verbosity to 10 (on Linux, `export AUTOGRAPH_VERBOSITY=10`) and attach the full output. Cause: No module named 'tensorflow_core.contrib'\n",
      "W0609 02:11:09.690607 140437208413952 ag_logging.py:145] Entity <function Function._initialize_uninitialized_variables.<locals>.initialize_variables at 0x7fb8902c5598> could not be transformed and will be executed as-is. Please report this to the AutoGraph team. When filing the bug, set the verbosity to 10 (on Linux, `export AUTOGRAPH_VERBOSITY=10`) and attach the full output. Cause: No module named 'tensorflow_core.contrib'\n"
     ]
    },
    {
     "name": "stdout",
     "output_type": "stream",
     "text": [
      "WARNING: Entity <function Function._initialize_uninitialized_variables.<locals>.initialize_variables at 0x7fb8907ef048> could not be transformed and will be executed as-is. Please report this to the AutoGraph team. When filing the bug, set the verbosity to 10 (on Linux, `export AUTOGRAPH_VERBOSITY=10`) and attach the full output. Cause: No module named 'tensorflow_core.contrib'\n",
      "WARNING: Entity <function Function._initialize_uninitialized_variables.<locals>.initialize_variables at 0x7fb8a0122488> could not be transformed and will be executed as-is. Please report this to the AutoGraph team. When filing the bug, set the verbosity to 10 (on Linux, `export AUTOGRAPH_VERBOSITY=10`) and attach the full output. Cause: No module named 'tensorflow_core.contrib'\n",
      "WARNING: Entity <function Function._initialize_uninitialized_variables.<locals>.initialize_variables at 0x7fb8902c5598> could not be transformed and will be executed as-is. Please report this to the AutoGraph team. When filing the bug, set the verbosity to 10 (on Linux, `export AUTOGRAPH_VERBOSITY=10`) and attach the full output. Cause: No module named 'tensorflow_core.contrib'\n"
     ]
    },
    {
     "name": "stderr",
     "output_type": "stream",
     "text": [
      "W0609 02:11:09.798794 140437208413952 ag_logging.py:145] Entity <function Function._initialize_uninitialized_variables.<locals>.initialize_variables at 0x7fb8a1c29400> could not be transformed and will be executed as-is. Please report this to the AutoGraph team. When filing the bug, set the verbosity to 10 (on Linux, `export AUTOGRAPH_VERBOSITY=10`) and attach the full output. Cause: No module named 'tensorflow_core.contrib'\n",
      "W0609 02:11:09.818514 140437208413952 ag_logging.py:145] Entity <function Function._initialize_uninitialized_variables.<locals>.initialize_variables at 0x7fb8909e3158> could not be transformed and will be executed as-is. Please report this to the AutoGraph team. When filing the bug, set the verbosity to 10 (on Linux, `export AUTOGRAPH_VERBOSITY=10`) and attach the full output. Cause: No module named 'tensorflow_core.contrib'\n"
     ]
    },
    {
     "name": "stdout",
     "output_type": "stream",
     "text": [
      "WARNING: Entity <function Function._initialize_uninitialized_variables.<locals>.initialize_variables at 0x7fb8a1c29400> could not be transformed and will be executed as-is. Please report this to the AutoGraph team. When filing the bug, set the verbosity to 10 (on Linux, `export AUTOGRAPH_VERBOSITY=10`) and attach the full output. Cause: No module named 'tensorflow_core.contrib'\n",
      "WARNING: Entity <function Function._initialize_uninitialized_variables.<locals>.initialize_variables at 0x7fb8909e3158> could not be transformed and will be executed as-is. Please report this to the AutoGraph team. When filing the bug, set the verbosity to 10 (on Linux, `export AUTOGRAPH_VERBOSITY=10`) and attach the full output. Cause: No module named 'tensorflow_core.contrib'\n"
     ]
    },
    {
     "name": "stderr",
     "output_type": "stream",
     "text": [
      "W0609 02:11:09.871136 140437208413952 ag_logging.py:145] Entity <function Function._initialize_uninitialized_variables.<locals>.initialize_variables at 0x7fb8907efd08> could not be transformed and will be executed as-is. Please report this to the AutoGraph team. When filing the bug, set the verbosity to 10 (on Linux, `export AUTOGRAPH_VERBOSITY=10`) and attach the full output. Cause: No module named 'tensorflow_core.contrib'\n",
      "W0609 02:11:09.886826 140437208413952 ag_logging.py:145] Entity <function canonicalize_signatures.<locals>.signature_wrapper at 0x7fb8ec2c20d0> could not be transformed and will be executed as-is. Please report this to the AutoGraph team. When filing the bug, set the verbosity to 10 (on Linux, `export AUTOGRAPH_VERBOSITY=10`) and attach the full output. Cause: No module named 'tensorflow_core.contrib'\n",
      "W0609 02:11:09.904494 140437208413952 ag_logging.py:145] Entity <function Function._initialize_uninitialized_variables.<locals>.initialize_variables at 0x7fb890998620> could not be transformed and will be executed as-is. Please report this to the AutoGraph team. When filing the bug, set the verbosity to 10 (on Linux, `export AUTOGRAPH_VERBOSITY=10`) and attach the full output. Cause: No module named 'tensorflow_core.contrib'\n"
     ]
    },
    {
     "name": "stdout",
     "output_type": "stream",
     "text": [
      "WARNING: Entity <function Function._initialize_uninitialized_variables.<locals>.initialize_variables at 0x7fb8907efd08> could not be transformed and will be executed as-is. Please report this to the AutoGraph team. When filing the bug, set the verbosity to 10 (on Linux, `export AUTOGRAPH_VERBOSITY=10`) and attach the full output. Cause: No module named 'tensorflow_core.contrib'\n",
      "WARNING: Entity <function canonicalize_signatures.<locals>.signature_wrapper at 0x7fb8ec2c20d0> could not be transformed and will be executed as-is. Please report this to the AutoGraph team. When filing the bug, set the verbosity to 10 (on Linux, `export AUTOGRAPH_VERBOSITY=10`) and attach the full output. Cause: No module named 'tensorflow_core.contrib'\n",
      "WARNING: Entity <function Function._initialize_uninitialized_variables.<locals>.initialize_variables at 0x7fb890998620> could not be transformed and will be executed as-is. Please report this to the AutoGraph team. When filing the bug, set the verbosity to 10 (on Linux, `export AUTOGRAPH_VERBOSITY=10`) and attach the full output. Cause: No module named 'tensorflow_core.contrib'\n",
      "1084/1085 [============================>.] - ETA: 0s - loss: 0.0019 - mean_PSNR: 28.5943\n",
      "Learning rate for epoch 231 is 1.249999968422344e-06\n",
      "1085/1085 [==============================] - 98s 91ms/step - loss: 0.0019 - mean_PSNR: 28.5943 - val_loss: 0.0021 - val_mean_PSNR: 28.1695\n",
      "Epoch 232/300\n",
      "1084/1085 [============================>.] - ETA: 0s - loss: 0.0019 - mean_PSNR: 28.5985\n",
      "Learning rate for epoch 232 is 4.999999873689376e-06\n",
      "1085/1085 [==============================] - 95s 87ms/step - loss: 0.0019 - mean_PSNR: 28.5986 - val_loss: 0.0021 - val_mean_PSNR: 28.1730\n",
      "Epoch 233/300\n",
      "1084/1085 [============================>.] - ETA: 0s - loss: 0.0019 - mean_PSNR: 28.5976\n",
      "Learning rate for epoch 233 is 1.249999968422344e-06\n",
      "1085/1085 [==============================] - 95s 87ms/step - loss: 0.0019 - mean_PSNR: 28.5976 - val_loss: 0.0021 - val_mean_PSNR: 28.1883\n",
      "Epoch 234/300\n",
      "1084/1085 [============================>.] - ETA: 0s - loss: 0.0019 - mean_PSNR: 28.6000\n",
      "Learning rate for epoch 234 is 4.999999873689376e-06\n",
      "1085/1085 [==============================] - 94s 87ms/step - loss: 0.0019 - mean_PSNR: 28.6000 - val_loss: 0.0021 - val_mean_PSNR: 28.1896\n",
      "Epoch 235/300\n",
      "1084/1085 [============================>.] - ETA: 0s - loss: 0.0019 - mean_PSNR: 28.5945\n",
      "Learning rate for epoch 235 is 1.249999968422344e-06\n",
      "1085/1085 [==============================] - 94s 87ms/step - loss: 0.0019 - mean_PSNR: 28.5945 - val_loss: 0.0021 - val_mean_PSNR: 28.1777\n",
      "Epoch 236/300\n",
      "1084/1085 [============================>.] - ETA: 0s - loss: 0.0019 - mean_PSNR: 28.5983\n",
      "Learning rate for epoch 236 is 4.999999873689376e-06\n",
      "1085/1085 [==============================] - 95s 87ms/step - loss: 0.0019 - mean_PSNR: 28.5984 - val_loss: 0.0021 - val_mean_PSNR: 28.1743\n",
      "Epoch 237/300\n",
      "1084/1085 [============================>.] - ETA: 0s - loss: 0.0019 - mean_PSNR: 28.5932\n",
      "Learning rate for epoch 237 is 1.249999968422344e-06\n",
      "1085/1085 [==============================] - 94s 87ms/step - loss: 0.0019 - mean_PSNR: 28.5932 - val_loss: 0.0021 - val_mean_PSNR: 28.1837\n",
      "Epoch 238/300\n",
      "1084/1085 [============================>.] - ETA: 0s - loss: 0.0019 - mean_PSNR: 28.6002\n",
      "Learning rate for epoch 238 is 4.999999873689376e-06\n",
      "1085/1085 [==============================] - 94s 87ms/step - loss: 0.0019 - mean_PSNR: 28.6003 - val_loss: 0.0021 - val_mean_PSNR: 28.1908\n",
      "Epoch 239/300\n",
      "1084/1085 [============================>.] - ETA: 0s - loss: 0.0019 - mean_PSNR: 28.6021\n",
      "Learning rate for epoch 239 is 1.249999968422344e-06\n",
      "1085/1085 [==============================] - 94s 87ms/step - loss: 0.0019 - mean_PSNR: 28.6022 - val_loss: 0.0021 - val_mean_PSNR: 28.1850\n",
      "Epoch 240/300\n",
      "1084/1085 [============================>.] - ETA: 0s - loss: 0.0019 - mean_PSNR: 28.5956\n",
      "Learning rate for epoch 240 is 4.999999873689376e-06\n",
      "1085/1085 [==============================] - 94s 87ms/step - loss: 0.0019 - mean_PSNR: 28.5954 - val_loss: 0.0021 - val_mean_PSNR: 28.1986\n",
      "Epoch 241/300\n",
      "1084/1085 [============================>.] - ETA: 0s - loss: 0.0019 - mean_PSNR: 28.6023\n",
      "Learning rate for epoch 241 is 1.249999968422344e-06\n",
      "1085/1085 [==============================] - 94s 87ms/step - loss: 0.0019 - mean_PSNR: 28.6024 - val_loss: 0.0021 - val_mean_PSNR: 28.1747\n",
      "Epoch 242/300\n",
      "1084/1085 [============================>.] - ETA: 0s - loss: 0.0019 - mean_PSNR: 28.6013\n",
      "Learning rate for epoch 242 is 4.999999873689376e-06\n",
      "1085/1085 [==============================] - 95s 87ms/step - loss: 0.0019 - mean_PSNR: 28.6013 - val_loss: 0.0021 - val_mean_PSNR: 28.1803\n",
      "Epoch 243/300\n",
      "1084/1085 [============================>.] - ETA: 0s - loss: 0.0019 - mean_PSNR: 28.5984\n",
      "Learning rate for epoch 243 is 1.249999968422344e-06\n",
      "1085/1085 [==============================] - 95s 87ms/step - loss: 0.0019 - mean_PSNR: 28.5984 - val_loss: 0.0021 - val_mean_PSNR: 28.1917\n",
      "Epoch 244/300\n",
      "1084/1085 [============================>.] - ETA: 0s - loss: 0.0019 - mean_PSNR: 28.5954\n",
      "Learning rate for epoch 244 is 4.999999873689376e-06\n",
      "1085/1085 [==============================] - 95s 87ms/step - loss: 0.0019 - mean_PSNR: 28.5953 - val_loss: 0.0021 - val_mean_PSNR: 28.1858\n",
      "Epoch 245/300\n",
      " 884/1085 [=======================>......] - ETA: 12s - loss: 0.0019 - mean_PSNR: 28.6201\n",
      "Epoch 00245: saving model to /home/ubuntu/cs230/models/automap_fastmri/2019-06-08_13:06:26/cp-0245.ckpt\n"
     ]
    },
    {
     "name": "stderr",
     "output_type": "stream",
     "text": [
      "W0609 02:33:44.904908 140437208413952 ag_logging.py:145] Entity <function Function._initialize_uninitialized_variables.<locals>.initialize_variables at 0x7fb8ec6a5378> could not be transformed and will be executed as-is. Please report this to the AutoGraph team. When filing the bug, set the verbosity to 10 (on Linux, `export AUTOGRAPH_VERBOSITY=10`) and attach the full output. Cause: No module named 'tensorflow_core.contrib'\n",
      "W0609 02:33:44.913895 140437208413952 ag_logging.py:145] Entity <function Function._initialize_uninitialized_variables.<locals>.initialize_variables at 0x7fb890ece840> could not be transformed and will be executed as-is. Please report this to the AutoGraph team. When filing the bug, set the verbosity to 10 (on Linux, `export AUTOGRAPH_VERBOSITY=10`) and attach the full output. Cause: No module named 'tensorflow_core.contrib'\n",
      "W0609 02:33:44.926339 140437208413952 ag_logging.py:145] Entity <function Function._initialize_uninitialized_variables.<locals>.initialize_variables at 0x7fb8911292f0> could not be transformed and will be executed as-is. Please report this to the AutoGraph team. When filing the bug, set the verbosity to 10 (on Linux, `export AUTOGRAPH_VERBOSITY=10`) and attach the full output. Cause: No module named 'tensorflow_core.contrib'\n",
      "W0609 02:33:44.935082 140437208413952 ag_logging.py:145] Entity <function Function._initialize_uninitialized_variables.<locals>.initialize_variables at 0x7fb892b22b70> could not be transformed and will be executed as-is. Please report this to the AutoGraph team. When filing the bug, set the verbosity to 10 (on Linux, `export AUTOGRAPH_VERBOSITY=10`) and attach the full output. Cause: No module named 'tensorflow_core.contrib'\n",
      "W0609 02:33:44.938972 140437208413952 ag_logging.py:145] Entity <bound method L1L2.__call__ of <tensorflow.python.keras.regularizers.L1L2 object at 0x7fb9403e3fd0>> could not be transformed and will be executed as-is. Please report this to the AutoGraph team. When filing the bug, set the verbosity to 10 (on Linux, `export AUTOGRAPH_VERBOSITY=10`) and attach the full output. Cause: No module named 'tensorflow_core.contrib'\n",
      "W0609 02:33:44.950894 140437208413952 ag_logging.py:145] Entity <function Function._initialize_uninitialized_variables.<locals>.initialize_variables at 0x7fb89068b400> could not be transformed and will be executed as-is. Please report this to the AutoGraph team. When filing the bug, set the verbosity to 10 (on Linux, `export AUTOGRAPH_VERBOSITY=10`) and attach the full output. Cause: No module named 'tensorflow_core.contrib'\n"
     ]
    },
    {
     "name": "stdout",
     "output_type": "stream",
     "text": [
      "WARNING: Entity <function Function._initialize_uninitialized_variables.<locals>.initialize_variables at 0x7fb8ec6a5378> could not be transformed and will be executed as-is. Please report this to the AutoGraph team. When filing the bug, set the verbosity to 10 (on Linux, `export AUTOGRAPH_VERBOSITY=10`) and attach the full output. Cause: No module named 'tensorflow_core.contrib'\n",
      "WARNING: Entity <function Function._initialize_uninitialized_variables.<locals>.initialize_variables at 0x7fb890ece840> could not be transformed and will be executed as-is. Please report this to the AutoGraph team. When filing the bug, set the verbosity to 10 (on Linux, `export AUTOGRAPH_VERBOSITY=10`) and attach the full output. Cause: No module named 'tensorflow_core.contrib'\n",
      "WARNING: Entity <function Function._initialize_uninitialized_variables.<locals>.initialize_variables at 0x7fb8911292f0> could not be transformed and will be executed as-is. Please report this to the AutoGraph team. When filing the bug, set the verbosity to 10 (on Linux, `export AUTOGRAPH_VERBOSITY=10`) and attach the full output. Cause: No module named 'tensorflow_core.contrib'\n",
      "WARNING: Entity <function Function._initialize_uninitialized_variables.<locals>.initialize_variables at 0x7fb892b22b70> could not be transformed and will be executed as-is. Please report this to the AutoGraph team. When filing the bug, set the verbosity to 10 (on Linux, `export AUTOGRAPH_VERBOSITY=10`) and attach the full output. Cause: No module named 'tensorflow_core.contrib'\n",
      "WARNING: Entity <bound method L1L2.__call__ of <tensorflow.python.keras.regularizers.L1L2 object at 0x7fb9403e3fd0>> could not be transformed and will be executed as-is. Please report this to the AutoGraph team. When filing the bug, set the verbosity to 10 (on Linux, `export AUTOGRAPH_VERBOSITY=10`) and attach the full output. Cause: No module named 'tensorflow_core.contrib'\n",
      "WARNING: Entity <function Function._initialize_uninitialized_variables.<locals>.initialize_variables at 0x7fb89068b400> could not be transformed and will be executed as-is. Please report this to the AutoGraph team. When filing the bug, set the verbosity to 10 (on Linux, `export AUTOGRAPH_VERBOSITY=10`) and attach the full output. Cause: No module named 'tensorflow_core.contrib'\n"
     ]
    },
    {
     "name": "stderr",
     "output_type": "stream",
     "text": [
      "W0609 02:33:44.962397 140437208413952 ag_logging.py:145] Entity <function Function._initialize_uninitialized_variables.<locals>.initialize_variables at 0x7fb890764ae8> could not be transformed and will be executed as-is. Please report this to the AutoGraph team. When filing the bug, set the verbosity to 10 (on Linux, `export AUTOGRAPH_VERBOSITY=10`) and attach the full output. Cause: No module named 'tensorflow_core.contrib'\n",
      "W0609 02:33:44.994438 140437208413952 ag_logging.py:145] Entity <function Function._initialize_uninitialized_variables.<locals>.initialize_variables at 0x7fb8902c5f28> could not be transformed and will be executed as-is. Please report this to the AutoGraph team. When filing the bug, set the verbosity to 10 (on Linux, `export AUTOGRAPH_VERBOSITY=10`) and attach the full output. Cause: No module named 'tensorflow_core.contrib'\n",
      "W0609 02:33:45.003814 140437208413952 ag_logging.py:145] Entity <function Function._initialize_uninitialized_variables.<locals>.initialize_variables at 0x7fb890e21c80> could not be transformed and will be executed as-is. Please report this to the AutoGraph team. When filing the bug, set the verbosity to 10 (on Linux, `export AUTOGRAPH_VERBOSITY=10`) and attach the full output. Cause: No module named 'tensorflow_core.contrib'\n"
     ]
    },
    {
     "name": "stdout",
     "output_type": "stream",
     "text": [
      "WARNING: Entity <function Function._initialize_uninitialized_variables.<locals>.initialize_variables at 0x7fb890764ae8> could not be transformed and will be executed as-is. Please report this to the AutoGraph team. When filing the bug, set the verbosity to 10 (on Linux, `export AUTOGRAPH_VERBOSITY=10`) and attach the full output. Cause: No module named 'tensorflow_core.contrib'\n",
      "WARNING: Entity <function Function._initialize_uninitialized_variables.<locals>.initialize_variables at 0x7fb8902c5f28> could not be transformed and will be executed as-is. Please report this to the AutoGraph team. When filing the bug, set the verbosity to 10 (on Linux, `export AUTOGRAPH_VERBOSITY=10`) and attach the full output. Cause: No module named 'tensorflow_core.contrib'\n",
      "WARNING: Entity <function Function._initialize_uninitialized_variables.<locals>.initialize_variables at 0x7fb890e21c80> could not be transformed and will be executed as-is. Please report this to the AutoGraph team. When filing the bug, set the verbosity to 10 (on Linux, `export AUTOGRAPH_VERBOSITY=10`) and attach the full output. Cause: No module named 'tensorflow_core.contrib'\n"
     ]
    },
    {
     "name": "stderr",
     "output_type": "stream",
     "text": [
      "W0609 02:33:45.111674 140437208413952 ag_logging.py:145] Entity <function Function._initialize_uninitialized_variables.<locals>.initialize_variables at 0x7fb8a01226a8> could not be transformed and will be executed as-is. Please report this to the AutoGraph team. When filing the bug, set the verbosity to 10 (on Linux, `export AUTOGRAPH_VERBOSITY=10`) and attach the full output. Cause: No module named 'tensorflow_core.contrib'\n",
      "W0609 02:33:45.131726 140437208413952 ag_logging.py:145] Entity <function Function._initialize_uninitialized_variables.<locals>.initialize_variables at 0x7fb89081e598> could not be transformed and will be executed as-is. Please report this to the AutoGraph team. When filing the bug, set the verbosity to 10 (on Linux, `export AUTOGRAPH_VERBOSITY=10`) and attach the full output. Cause: No module named 'tensorflow_core.contrib'\n"
     ]
    },
    {
     "name": "stdout",
     "output_type": "stream",
     "text": [
      "WARNING: Entity <function Function._initialize_uninitialized_variables.<locals>.initialize_variables at 0x7fb8a01226a8> could not be transformed and will be executed as-is. Please report this to the AutoGraph team. When filing the bug, set the verbosity to 10 (on Linux, `export AUTOGRAPH_VERBOSITY=10`) and attach the full output. Cause: No module named 'tensorflow_core.contrib'\n",
      "WARNING: Entity <function Function._initialize_uninitialized_variables.<locals>.initialize_variables at 0x7fb89081e598> could not be transformed and will be executed as-is. Please report this to the AutoGraph team. When filing the bug, set the verbosity to 10 (on Linux, `export AUTOGRAPH_VERBOSITY=10`) and attach the full output. Cause: No module named 'tensorflow_core.contrib'\n"
     ]
    },
    {
     "name": "stderr",
     "output_type": "stream",
     "text": [
      "W0609 02:33:45.184474 140437208413952 ag_logging.py:145] Entity <function Function._initialize_uninitialized_variables.<locals>.initialize_variables at 0x7fb940054378> could not be transformed and will be executed as-is. Please report this to the AutoGraph team. When filing the bug, set the verbosity to 10 (on Linux, `export AUTOGRAPH_VERBOSITY=10`) and attach the full output. Cause: No module named 'tensorflow_core.contrib'\n",
      "W0609 02:33:45.199698 140437208413952 ag_logging.py:145] Entity <function canonicalize_signatures.<locals>.signature_wrapper at 0x7fb890764ae8> could not be transformed and will be executed as-is. Please report this to the AutoGraph team. When filing the bug, set the verbosity to 10 (on Linux, `export AUTOGRAPH_VERBOSITY=10`) and attach the full output. Cause: No module named 'tensorflow_core.contrib'\n",
      "W0609 02:33:45.216564 140437208413952 ag_logging.py:145] Entity <function Function._initialize_uninitialized_variables.<locals>.initialize_variables at 0x7fb8910f16a8> could not be transformed and will be executed as-is. Please report this to the AutoGraph team. When filing the bug, set the verbosity to 10 (on Linux, `export AUTOGRAPH_VERBOSITY=10`) and attach the full output. Cause: No module named 'tensorflow_core.contrib'\n"
     ]
    },
    {
     "name": "stdout",
     "output_type": "stream",
     "text": [
      "WARNING: Entity <function Function._initialize_uninitialized_variables.<locals>.initialize_variables at 0x7fb940054378> could not be transformed and will be executed as-is. Please report this to the AutoGraph team. When filing the bug, set the verbosity to 10 (on Linux, `export AUTOGRAPH_VERBOSITY=10`) and attach the full output. Cause: No module named 'tensorflow_core.contrib'\n",
      "WARNING: Entity <function canonicalize_signatures.<locals>.signature_wrapper at 0x7fb890764ae8> could not be transformed and will be executed as-is. Please report this to the AutoGraph team. When filing the bug, set the verbosity to 10 (on Linux, `export AUTOGRAPH_VERBOSITY=10`) and attach the full output. Cause: No module named 'tensorflow_core.contrib'\n",
      "WARNING: Entity <function Function._initialize_uninitialized_variables.<locals>.initialize_variables at 0x7fb8910f16a8> could not be transformed and will be executed as-is. Please report this to the AutoGraph team. When filing the bug, set the verbosity to 10 (on Linux, `export AUTOGRAPH_VERBOSITY=10`) and attach the full output. Cause: No module named 'tensorflow_core.contrib'\n",
      "1084/1085 [============================>.] - ETA: 0s - loss: 0.0019 - mean_PSNR: 28.5983\n",
      "Learning rate for epoch 245 is 1.249999968422344e-06\n",
      "1085/1085 [==============================] - 99s 92ms/step - loss: 0.0019 - mean_PSNR: 28.5982 - val_loss: 0.0021 - val_mean_PSNR: 28.1770\n",
      "Epoch 246/300\n",
      "1084/1085 [============================>.] - ETA: 0s - loss: 0.0019 - mean_PSNR: 28.6021\n",
      "Learning rate for epoch 246 is 4.999999873689376e-06\n",
      "1085/1085 [==============================] - 94s 87ms/step - loss: 0.0019 - mean_PSNR: 28.6021 - val_loss: 0.0021 - val_mean_PSNR: 28.1772\n",
      "Epoch 247/300\n",
      "1084/1085 [============================>.] - ETA: 0s - loss: 0.0019 - mean_PSNR: 28.6029\n",
      "Learning rate for epoch 247 is 1.249999968422344e-06\n",
      "1085/1085 [==============================] - 94s 87ms/step - loss: 0.0019 - mean_PSNR: 28.6027 - val_loss: 0.0021 - val_mean_PSNR: 28.1854\n",
      "Epoch 248/300\n",
      "1084/1085 [============================>.] - ETA: 0s - loss: 0.0019 - mean_PSNR: 28.5983\n",
      "Learning rate for epoch 248 is 4.999999873689376e-06\n",
      "1085/1085 [==============================] - 94s 87ms/step - loss: 0.0019 - mean_PSNR: 28.5982 - val_loss: 0.0021 - val_mean_PSNR: 28.1733\n",
      "Epoch 249/300\n",
      "1084/1085 [============================>.] - ETA: 0s - loss: 0.0019 - mean_PSNR: 28.5990\n",
      "Learning rate for epoch 249 is 1.249999968422344e-06\n",
      "1085/1085 [==============================] - 94s 87ms/step - loss: 0.0019 - mean_PSNR: 28.5989 - val_loss: 0.0021 - val_mean_PSNR: 28.1897\n",
      "Epoch 250/300\n",
      "1084/1085 [============================>.] - ETA: 0s - loss: 0.0019 - mean_PSNR: 28.5962\n",
      "Learning rate for epoch 250 is 4.999999873689376e-06\n",
      "1085/1085 [==============================] - 94s 87ms/step - loss: 0.0019 - mean_PSNR: 28.5961 - val_loss: 0.0021 - val_mean_PSNR: 28.1991\n",
      "Epoch 251/300\n",
      "1084/1085 [============================>.] - ETA: 0s - loss: 0.0019 - mean_PSNR: 28.5999\n",
      "Learning rate for epoch 251 is 2.499999993688107e-07\n",
      "1085/1085 [==============================] - 94s 87ms/step - loss: 0.0019 - mean_PSNR: 28.6000 - val_loss: 0.0021 - val_mean_PSNR: 28.1886\n",
      "Epoch 252/300\n",
      "1084/1085 [============================>.] - ETA: 0s - loss: 0.0019 - mean_PSNR: 28.6074\n",
      "Learning rate for epoch 252 is 9.999999974752427e-07\n",
      "1085/1085 [==============================] - 94s 87ms/step - loss: 0.0019 - mean_PSNR: 28.6073 - val_loss: 0.0021 - val_mean_PSNR: 28.1920\n",
      "Epoch 253/300\n",
      "1084/1085 [============================>.] - ETA: 0s - loss: 0.0019 - mean_PSNR: 28.5982\n",
      "Learning rate for epoch 253 is 2.499999993688107e-07\n",
      "1085/1085 [==============================] - 95s 87ms/step - loss: 0.0019 - mean_PSNR: 28.5981 - val_loss: 0.0021 - val_mean_PSNR: 28.1888\n",
      "Epoch 254/300\n",
      "1084/1085 [============================>.] - ETA: 0s - loss: 0.0019 - mean_PSNR: 28.6021\n",
      "Learning rate for epoch 254 is 9.999999974752427e-07\n",
      "1085/1085 [==============================] - 94s 87ms/step - loss: 0.0019 - mean_PSNR: 28.6021 - val_loss: 0.0021 - val_mean_PSNR: 28.1899\n",
      "Epoch 255/300\n",
      "1084/1085 [============================>.] - ETA: 0s - loss: 0.0019 - mean_PSNR: 28.6094\n",
      "Learning rate for epoch 255 is 2.499999993688107e-07\n",
      "1085/1085 [==============================] - 94s 87ms/step - loss: 0.0019 - mean_PSNR: 28.6092 - val_loss: 0.0021 - val_mean_PSNR: 28.1848\n",
      "Epoch 256/300\n",
      "1084/1085 [============================>.] - ETA: 0s - loss: 0.0019 - mean_PSNR: 28.6005\n",
      "Learning rate for epoch 256 is 9.999999974752427e-07\n",
      "1085/1085 [==============================] - 94s 87ms/step - loss: 0.0019 - mean_PSNR: 28.6005 - val_loss: 0.0021 - val_mean_PSNR: 28.1820\n",
      "Epoch 257/300\n",
      "1084/1085 [============================>.] - ETA: 0s - loss: 0.0019 - mean_PSNR: 28.6034\n",
      "Learning rate for epoch 257 is 2.499999993688107e-07\n",
      "1085/1085 [==============================] - 94s 87ms/step - loss: 0.0019 - mean_PSNR: 28.6033 - val_loss: 0.0021 - val_mean_PSNR: 28.1883\n",
      "Epoch 258/300\n",
      "1084/1085 [============================>.] - ETA: 0s - loss: 0.0019 - mean_PSNR: 28.6016\n",
      "Learning rate for epoch 258 is 9.999999974752427e-07\n",
      "1085/1085 [==============================] - 94s 87ms/step - loss: 0.0019 - mean_PSNR: 28.6017 - val_loss: 0.0021 - val_mean_PSNR: 28.1757\n",
      "Epoch 259/300\n",
      "1084/1085 [============================>.] - ETA: 0s - loss: 0.0019 - mean_PSNR: 28.6001\n",
      "Learning rate for epoch 259 is 2.499999993688107e-07\n",
      "1085/1085 [==============================] - 94s 87ms/step - loss: 0.0019 - mean_PSNR: 28.6001 - val_loss: 0.0021 - val_mean_PSNR: 28.1825\n",
      "Epoch 260/300\n",
      " 234/1085 [=====>........................] - ETA: 54s - loss: 0.0020 - mean_PSNR: 28.4623\n",
      "Epoch 00260: saving model to /home/ubuntu/cs230/models/automap_fastmri/2019-06-08_13:06:26/cp-0260.ckpt\n"
     ]
    },
    {
     "name": "stderr",
     "output_type": "stream",
     "text": [
      "W0609 02:56:45.975093 140437208413952 ag_logging.py:145] Entity <function Function._initialize_uninitialized_variables.<locals>.initialize_variables at 0x7fb8902c5730> could not be transformed and will be executed as-is. Please report this to the AutoGraph team. When filing the bug, set the verbosity to 10 (on Linux, `export AUTOGRAPH_VERBOSITY=10`) and attach the full output. Cause: No module named 'tensorflow_core.contrib'\n",
      "W0609 02:56:45.984807 140437208413952 ag_logging.py:145] Entity <function Function._initialize_uninitialized_variables.<locals>.initialize_variables at 0x7fb8a1d56730> could not be transformed and will be executed as-is. Please report this to the AutoGraph team. When filing the bug, set the verbosity to 10 (on Linux, `export AUTOGRAPH_VERBOSITY=10`) and attach the full output. Cause: No module named 'tensorflow_core.contrib'\n",
      "W0609 02:56:45.997502 140437208413952 ag_logging.py:145] Entity <function Function._initialize_uninitialized_variables.<locals>.initialize_variables at 0x7fb8a1248ae8> could not be transformed and will be executed as-is. Please report this to the AutoGraph team. When filing the bug, set the verbosity to 10 (on Linux, `export AUTOGRAPH_VERBOSITY=10`) and attach the full output. Cause: No module named 'tensorflow_core.contrib'\n",
      "W0609 02:56:46.006129 140437208413952 ag_logging.py:145] Entity <function Function._initialize_uninitialized_variables.<locals>.initialize_variables at 0x7fb892309bf8> could not be transformed and will be executed as-is. Please report this to the AutoGraph team. When filing the bug, set the verbosity to 10 (on Linux, `export AUTOGRAPH_VERBOSITY=10`) and attach the full output. Cause: No module named 'tensorflow_core.contrib'\n",
      "W0609 02:56:46.009644 140437208413952 ag_logging.py:145] Entity <bound method L1L2.__call__ of <tensorflow.python.keras.regularizers.L1L2 object at 0x7fb9403e3fd0>> could not be transformed and will be executed as-is. Please report this to the AutoGraph team. When filing the bug, set the verbosity to 10 (on Linux, `export AUTOGRAPH_VERBOSITY=10`) and attach the full output. Cause: No module named 'tensorflow_core.contrib'\n",
      "W0609 02:56:46.021342 140437208413952 ag_logging.py:145] Entity <function Function._initialize_uninitialized_variables.<locals>.initialize_variables at 0x7fb8a0223488> could not be transformed and will be executed as-is. Please report this to the AutoGraph team. When filing the bug, set the verbosity to 10 (on Linux, `export AUTOGRAPH_VERBOSITY=10`) and attach the full output. Cause: No module named 'tensorflow_core.contrib'\n",
      "W0609 02:56:46.032445 140437208413952 ag_logging.py:145] Entity <function Function._initialize_uninitialized_variables.<locals>.initialize_variables at 0x7fb89010fea0> could not be transformed and will be executed as-is. Please report this to the AutoGraph team. When filing the bug, set the verbosity to 10 (on Linux, `export AUTOGRAPH_VERBOSITY=10`) and attach the full output. Cause: No module named 'tensorflow_core.contrib'\n"
     ]
    },
    {
     "name": "stdout",
     "output_type": "stream",
     "text": [
      "WARNING: Entity <function Function._initialize_uninitialized_variables.<locals>.initialize_variables at 0x7fb8902c5730> could not be transformed and will be executed as-is. Please report this to the AutoGraph team. When filing the bug, set the verbosity to 10 (on Linux, `export AUTOGRAPH_VERBOSITY=10`) and attach the full output. Cause: No module named 'tensorflow_core.contrib'\n",
      "WARNING: Entity <function Function._initialize_uninitialized_variables.<locals>.initialize_variables at 0x7fb8a1d56730> could not be transformed and will be executed as-is. Please report this to the AutoGraph team. When filing the bug, set the verbosity to 10 (on Linux, `export AUTOGRAPH_VERBOSITY=10`) and attach the full output. Cause: No module named 'tensorflow_core.contrib'\n",
      "WARNING: Entity <function Function._initialize_uninitialized_variables.<locals>.initialize_variables at 0x7fb8a1248ae8> could not be transformed and will be executed as-is. Please report this to the AutoGraph team. When filing the bug, set the verbosity to 10 (on Linux, `export AUTOGRAPH_VERBOSITY=10`) and attach the full output. Cause: No module named 'tensorflow_core.contrib'\n",
      "WARNING: Entity <function Function._initialize_uninitialized_variables.<locals>.initialize_variables at 0x7fb892309bf8> could not be transformed and will be executed as-is. Please report this to the AutoGraph team. When filing the bug, set the verbosity to 10 (on Linux, `export AUTOGRAPH_VERBOSITY=10`) and attach the full output. Cause: No module named 'tensorflow_core.contrib'\n",
      "WARNING: Entity <bound method L1L2.__call__ of <tensorflow.python.keras.regularizers.L1L2 object at 0x7fb9403e3fd0>> could not be transformed and will be executed as-is. Please report this to the AutoGraph team. When filing the bug, set the verbosity to 10 (on Linux, `export AUTOGRAPH_VERBOSITY=10`) and attach the full output. Cause: No module named 'tensorflow_core.contrib'\n",
      "WARNING: Entity <function Function._initialize_uninitialized_variables.<locals>.initialize_variables at 0x7fb8a0223488> could not be transformed and will be executed as-is. Please report this to the AutoGraph team. When filing the bug, set the verbosity to 10 (on Linux, `export AUTOGRAPH_VERBOSITY=10`) and attach the full output. Cause: No module named 'tensorflow_core.contrib'\n"
     ]
    },
    {
     "name": "stderr",
     "output_type": "stream",
     "text": [
      "W0609 02:56:46.064622 140437208413952 ag_logging.py:145] Entity <function Function._initialize_uninitialized_variables.<locals>.initialize_variables at 0x7fb89243ad08> could not be transformed and will be executed as-is. Please report this to the AutoGraph team. When filing the bug, set the verbosity to 10 (on Linux, `export AUTOGRAPH_VERBOSITY=10`) and attach the full output. Cause: No module named 'tensorflow_core.contrib'\n",
      "W0609 02:56:46.074178 140437208413952 ag_logging.py:145] Entity <function Function._initialize_uninitialized_variables.<locals>.initialize_variables at 0x7fb891129ea0> could not be transformed and will be executed as-is. Please report this to the AutoGraph team. When filing the bug, set the verbosity to 10 (on Linux, `export AUTOGRAPH_VERBOSITY=10`) and attach the full output. Cause: No module named 'tensorflow_core.contrib'\n"
     ]
    },
    {
     "name": "stdout",
     "output_type": "stream",
     "text": [
      "WARNING: Entity <function Function._initialize_uninitialized_variables.<locals>.initialize_variables at 0x7fb89010fea0> could not be transformed and will be executed as-is. Please report this to the AutoGraph team. When filing the bug, set the verbosity to 10 (on Linux, `export AUTOGRAPH_VERBOSITY=10`) and attach the full output. Cause: No module named 'tensorflow_core.contrib'\n",
      "WARNING: Entity <function Function._initialize_uninitialized_variables.<locals>.initialize_variables at 0x7fb89243ad08> could not be transformed and will be executed as-is. Please report this to the AutoGraph team. When filing the bug, set the verbosity to 10 (on Linux, `export AUTOGRAPH_VERBOSITY=10`) and attach the full output. Cause: No module named 'tensorflow_core.contrib'\n",
      "WARNING: Entity <function Function._initialize_uninitialized_variables.<locals>.initialize_variables at 0x7fb891129ea0> could not be transformed and will be executed as-is. Please report this to the AutoGraph team. When filing the bug, set the verbosity to 10 (on Linux, `export AUTOGRAPH_VERBOSITY=10`) and attach the full output. Cause: No module named 'tensorflow_core.contrib'\n"
     ]
    },
    {
     "name": "stderr",
     "output_type": "stream",
     "text": [
      "W0609 02:56:46.179136 140437208413952 ag_logging.py:145] Entity <function Function._initialize_uninitialized_variables.<locals>.initialize_variables at 0x7fb890ece8c8> could not be transformed and will be executed as-is. Please report this to the AutoGraph team. When filing the bug, set the verbosity to 10 (on Linux, `export AUTOGRAPH_VERBOSITY=10`) and attach the full output. Cause: No module named 'tensorflow_core.contrib'\n",
      "W0609 02:56:46.199088 140437208413952 ag_logging.py:145] Entity <function Function._initialize_uninitialized_variables.<locals>.initialize_variables at 0x7fb89081e730> could not be transformed and will be executed as-is. Please report this to the AutoGraph team. When filing the bug, set the verbosity to 10 (on Linux, `export AUTOGRAPH_VERBOSITY=10`) and attach the full output. Cause: No module named 'tensorflow_core.contrib'\n"
     ]
    },
    {
     "name": "stdout",
     "output_type": "stream",
     "text": [
      "WARNING: Entity <function Function._initialize_uninitialized_variables.<locals>.initialize_variables at 0x7fb890ece8c8> could not be transformed and will be executed as-is. Please report this to the AutoGraph team. When filing the bug, set the verbosity to 10 (on Linux, `export AUTOGRAPH_VERBOSITY=10`) and attach the full output. Cause: No module named 'tensorflow_core.contrib'\n",
      "WARNING: Entity <function Function._initialize_uninitialized_variables.<locals>.initialize_variables at 0x7fb89081e730> could not be transformed and will be executed as-is. Please report this to the AutoGraph team. When filing the bug, set the verbosity to 10 (on Linux, `export AUTOGRAPH_VERBOSITY=10`) and attach the full output. Cause: No module named 'tensorflow_core.contrib'\n"
     ]
    },
    {
     "name": "stderr",
     "output_type": "stream",
     "text": [
      "W0609 02:56:46.251137 140437208413952 ag_logging.py:145] Entity <function Function._initialize_uninitialized_variables.<locals>.initialize_variables at 0x7fb892addc80> could not be transformed and will be executed as-is. Please report this to the AutoGraph team. When filing the bug, set the verbosity to 10 (on Linux, `export AUTOGRAPH_VERBOSITY=10`) and attach the full output. Cause: No module named 'tensorflow_core.contrib'\n",
      "W0609 02:56:46.267769 140437208413952 ag_logging.py:145] Entity <function canonicalize_signatures.<locals>.signature_wrapper at 0x7fb89010fea0> could not be transformed and will be executed as-is. Please report this to the AutoGraph team. When filing the bug, set the verbosity to 10 (on Linux, `export AUTOGRAPH_VERBOSITY=10`) and attach the full output. Cause: No module named 'tensorflow_core.contrib'\n",
      "W0609 02:56:46.284876 140437208413952 ag_logging.py:145] Entity <function Function._initialize_uninitialized_variables.<locals>.initialize_variables at 0x7fb8910f1510> could not be transformed and will be executed as-is. Please report this to the AutoGraph team. When filing the bug, set the verbosity to 10 (on Linux, `export AUTOGRAPH_VERBOSITY=10`) and attach the full output. Cause: No module named 'tensorflow_core.contrib'\n"
     ]
    },
    {
     "name": "stdout",
     "output_type": "stream",
     "text": [
      "WARNING: Entity <function Function._initialize_uninitialized_variables.<locals>.initialize_variables at 0x7fb892addc80> could not be transformed and will be executed as-is. Please report this to the AutoGraph team. When filing the bug, set the verbosity to 10 (on Linux, `export AUTOGRAPH_VERBOSITY=10`) and attach the full output. Cause: No module named 'tensorflow_core.contrib'\n",
      "WARNING: Entity <function canonicalize_signatures.<locals>.signature_wrapper at 0x7fb89010fea0> could not be transformed and will be executed as-is. Please report this to the AutoGraph team. When filing the bug, set the verbosity to 10 (on Linux, `export AUTOGRAPH_VERBOSITY=10`) and attach the full output. Cause: No module named 'tensorflow_core.contrib'\n",
      "WARNING: Entity <function Function._initialize_uninitialized_variables.<locals>.initialize_variables at 0x7fb8910f1510> could not be transformed and will be executed as-is. Please report this to the AutoGraph team. When filing the bug, set the verbosity to 10 (on Linux, `export AUTOGRAPH_VERBOSITY=10`) and attach the full output. Cause: No module named 'tensorflow_core.contrib'\n",
      "1084/1085 [============================>.] - ETA: 0s - loss: 0.0019 - mean_PSNR: 28.5987\n",
      "Learning rate for epoch 260 is 9.999999974752427e-07\n",
      "1085/1085 [==============================] - 98s 90ms/step - loss: 0.0019 - mean_PSNR: 28.5986 - val_loss: 0.0021 - val_mean_PSNR: 28.1938\n",
      "Epoch 261/300\n",
      "1084/1085 [============================>.] - ETA: 0s - loss: 0.0019 - mean_PSNR: 28.6026\n",
      "Learning rate for epoch 261 is 2.499999993688107e-07\n",
      "1085/1085 [==============================] - 94s 87ms/step - loss: 0.0019 - mean_PSNR: 28.6026 - val_loss: 0.0021 - val_mean_PSNR: 28.1903\n",
      "Epoch 262/300\n",
      "1084/1085 [============================>.] - ETA: 0s - loss: 0.0019 - mean_PSNR: 28.6037\n",
      "Learning rate for epoch 262 is 9.999999974752427e-07\n",
      "1085/1085 [==============================] - 94s 87ms/step - loss: 0.0019 - mean_PSNR: 28.6036 - val_loss: 0.0021 - val_mean_PSNR: 28.1879\n",
      "Epoch 263/300\n",
      "1084/1085 [============================>.] - ETA: 0s - loss: 0.0019 - mean_PSNR: 28.6058\n",
      "Learning rate for epoch 263 is 2.499999993688107e-07\n",
      "1085/1085 [==============================] - 94s 87ms/step - loss: 0.0019 - mean_PSNR: 28.6056 - val_loss: 0.0021 - val_mean_PSNR: 28.1764\n",
      "Epoch 264/300\n",
      "1084/1085 [============================>.] - ETA: 0s - loss: 0.0019 - mean_PSNR: 28.6023\n",
      "Learning rate for epoch 264 is 9.999999974752427e-07\n",
      "1085/1085 [==============================] - 94s 87ms/step - loss: 0.0019 - mean_PSNR: 28.6021 - val_loss: 0.0021 - val_mean_PSNR: 28.1903\n",
      "Epoch 265/300\n",
      "1084/1085 [============================>.] - ETA: 0s - loss: 0.0019 - mean_PSNR: 28.6064\n",
      "Learning rate for epoch 265 is 2.499999993688107e-07\n",
      "1085/1085 [==============================] - 94s 87ms/step - loss: 0.0019 - mean_PSNR: 28.6063 - val_loss: 0.0021 - val_mean_PSNR: 28.1800\n",
      "Epoch 266/300\n",
      "1084/1085 [============================>.] - ETA: 0s - loss: 0.0019 - mean_PSNR: 28.6017\n",
      "Learning rate for epoch 266 is 9.999999974752427e-07\n",
      "1085/1085 [==============================] - 94s 87ms/step - loss: 0.0019 - mean_PSNR: 28.6017 - val_loss: 0.0021 - val_mean_PSNR: 28.1882\n",
      "Epoch 267/300\n",
      "1084/1085 [============================>.] - ETA: 0s - loss: 0.0019 - mean_PSNR: 28.6048\n",
      "Learning rate for epoch 267 is 2.499999993688107e-07\n",
      "1085/1085 [==============================] - 94s 87ms/step - loss: 0.0019 - mean_PSNR: 28.6049 - val_loss: 0.0021 - val_mean_PSNR: 28.1805\n",
      "Epoch 268/300\n",
      "1084/1085 [============================>.] - ETA: 0s - loss: 0.0019 - mean_PSNR: 28.5974\n",
      "Learning rate for epoch 268 is 9.999999974752427e-07\n",
      "1085/1085 [==============================] - 94s 87ms/step - loss: 0.0019 - mean_PSNR: 28.5973 - val_loss: 0.0021 - val_mean_PSNR: 28.1918\n",
      "Epoch 269/300\n",
      "1084/1085 [============================>.] - ETA: 0s - loss: 0.0019 - mean_PSNR: 28.6045\n",
      "Learning rate for epoch 269 is 2.499999993688107e-07\n",
      "1085/1085 [==============================] - 94s 87ms/step - loss: 0.0019 - mean_PSNR: 28.6044 - val_loss: 0.0021 - val_mean_PSNR: 28.1848\n",
      "Epoch 270/300\n",
      "1084/1085 [============================>.] - ETA: 0s - loss: 0.0019 - mean_PSNR: 28.6000\n",
      "Learning rate for epoch 270 is 9.999999974752427e-07\n",
      "1085/1085 [==============================] - 94s 87ms/step - loss: 0.0019 - mean_PSNR: 28.5999 - val_loss: 0.0021 - val_mean_PSNR: 28.1879\n",
      "Epoch 271/300\n",
      "1084/1085 [============================>.] - ETA: 0s - loss: 0.0019 - mean_PSNR: 28.6005\n",
      "Learning rate for epoch 271 is 2.5000000292152436e-08\n",
      "1085/1085 [==============================] - 94s 87ms/step - loss: 0.0019 - mean_PSNR: 28.6004 - val_loss: 0.0021 - val_mean_PSNR: 28.1836\n",
      "Epoch 272/300\n",
      "1084/1085 [============================>.] - ETA: 0s - loss: 0.0019 - mean_PSNR: 28.5993\n",
      "Learning rate for epoch 272 is 1.0000000116860974e-07\n",
      "1085/1085 [==============================] - 94s 87ms/step - loss: 0.0019 - mean_PSNR: 28.5991 - val_loss: 0.0021 - val_mean_PSNR: 28.1879\n",
      "Epoch 273/300\n",
      "1084/1085 [============================>.] - ETA: 0s - loss: 0.0019 - mean_PSNR: 28.6049\n",
      "Learning rate for epoch 273 is 2.5000000292152436e-08\n",
      "1085/1085 [==============================] - 94s 87ms/step - loss: 0.0019 - mean_PSNR: 28.6049 - val_loss: 0.0021 - val_mean_PSNR: 28.1912\n",
      "Epoch 274/300\n",
      " 669/1085 [=================>............] - ETA: 26s - loss: 0.0019 - mean_PSNR: 28.6138\n",
      "Epoch 00274: saving model to /home/ubuntu/cs230/models/automap_fastmri/2019-06-08_13:06:26/cp-0274.ckpt\n"
     ]
    },
    {
     "name": "stderr",
     "output_type": "stream",
     "text": [
      "W0609 03:19:18.945319 140437208413952 ag_logging.py:145] Entity <function Function._initialize_uninitialized_variables.<locals>.initialize_variables at 0x7fb892408e18> could not be transformed and will be executed as-is. Please report this to the AutoGraph team. When filing the bug, set the verbosity to 10 (on Linux, `export AUTOGRAPH_VERBOSITY=10`) and attach the full output. Cause: No module named 'tensorflow_core.contrib'\n",
      "W0609 03:19:18.954919 140437208413952 ag_logging.py:145] Entity <function Function._initialize_uninitialized_variables.<locals>.initialize_variables at 0x7fb890e21d90> could not be transformed and will be executed as-is. Please report this to the AutoGraph team. When filing the bug, set the verbosity to 10 (on Linux, `export AUTOGRAPH_VERBOSITY=10`) and attach the full output. Cause: No module named 'tensorflow_core.contrib'\n",
      "W0609 03:19:18.968265 140437208413952 ag_logging.py:145] Entity <function Function._initialize_uninitialized_variables.<locals>.initialize_variables at 0x7fb928742e18> could not be transformed and will be executed as-is. Please report this to the AutoGraph team. When filing the bug, set the verbosity to 10 (on Linux, `export AUTOGRAPH_VERBOSITY=10`) and attach the full output. Cause: No module named 'tensorflow_core.contrib'\n",
      "W0609 03:19:18.977477 140437208413952 ag_logging.py:145] Entity <function Function._initialize_uninitialized_variables.<locals>.initialize_variables at 0x7fb892b4f730> could not be transformed and will be executed as-is. Please report this to the AutoGraph team. When filing the bug, set the verbosity to 10 (on Linux, `export AUTOGRAPH_VERBOSITY=10`) and attach the full output. Cause: No module named 'tensorflow_core.contrib'\n",
      "W0609 03:19:18.981887 140437208413952 ag_logging.py:145] Entity <bound method L1L2.__call__ of <tensorflow.python.keras.regularizers.L1L2 object at 0x7fb9403e3fd0>> could not be transformed and will be executed as-is. Please report this to the AutoGraph team. When filing the bug, set the verbosity to 10 (on Linux, `export AUTOGRAPH_VERBOSITY=10`) and attach the full output. Cause: No module named 'tensorflow_core.contrib'\n",
      "W0609 03:19:18.994307 140437208413952 ag_logging.py:145] Entity <function Function._initialize_uninitialized_variables.<locals>.initialize_variables at 0x7fb8a07d1400> could not be transformed and will be executed as-is. Please report this to the AutoGraph team. When filing the bug, set the verbosity to 10 (on Linux, `export AUTOGRAPH_VERBOSITY=10`) and attach the full output. Cause: No module named 'tensorflow_core.contrib'\n"
     ]
    },
    {
     "name": "stdout",
     "output_type": "stream",
     "text": [
      "WARNING: Entity <function Function._initialize_uninitialized_variables.<locals>.initialize_variables at 0x7fb892408e18> could not be transformed and will be executed as-is. Please report this to the AutoGraph team. When filing the bug, set the verbosity to 10 (on Linux, `export AUTOGRAPH_VERBOSITY=10`) and attach the full output. Cause: No module named 'tensorflow_core.contrib'\n",
      "WARNING: Entity <function Function._initialize_uninitialized_variables.<locals>.initialize_variables at 0x7fb890e21d90> could not be transformed and will be executed as-is. Please report this to the AutoGraph team. When filing the bug, set the verbosity to 10 (on Linux, `export AUTOGRAPH_VERBOSITY=10`) and attach the full output. Cause: No module named 'tensorflow_core.contrib'\n",
      "WARNING: Entity <function Function._initialize_uninitialized_variables.<locals>.initialize_variables at 0x7fb928742e18> could not be transformed and will be executed as-is. Please report this to the AutoGraph team. When filing the bug, set the verbosity to 10 (on Linux, `export AUTOGRAPH_VERBOSITY=10`) and attach the full output. Cause: No module named 'tensorflow_core.contrib'\n",
      "WARNING: Entity <function Function._initialize_uninitialized_variables.<locals>.initialize_variables at 0x7fb892b4f730> could not be transformed and will be executed as-is. Please report this to the AutoGraph team. When filing the bug, set the verbosity to 10 (on Linux, `export AUTOGRAPH_VERBOSITY=10`) and attach the full output. Cause: No module named 'tensorflow_core.contrib'\n",
      "WARNING: Entity <bound method L1L2.__call__ of <tensorflow.python.keras.regularizers.L1L2 object at 0x7fb9403e3fd0>> could not be transformed and will be executed as-is. Please report this to the AutoGraph team. When filing the bug, set the verbosity to 10 (on Linux, `export AUTOGRAPH_VERBOSITY=10`) and attach the full output. Cause: No module named 'tensorflow_core.contrib'\n",
      "WARNING: Entity <function Function._initialize_uninitialized_variables.<locals>.initialize_variables at 0x7fb8a07d1400> could not be transformed and will be executed as-is. Please report this to the AutoGraph team. When filing the bug, set the verbosity to 10 (on Linux, `export AUTOGRAPH_VERBOSITY=10`) and attach the full output. Cause: No module named 'tensorflow_core.contrib'\n"
     ]
    },
    {
     "name": "stderr",
     "output_type": "stream",
     "text": [
      "W0609 03:19:19.006883 140437208413952 ag_logging.py:145] Entity <function Function._initialize_uninitialized_variables.<locals>.initialize_variables at 0x7fb892addf28> could not be transformed and will be executed as-is. Please report this to the AutoGraph team. When filing the bug, set the verbosity to 10 (on Linux, `export AUTOGRAPH_VERBOSITY=10`) and attach the full output. Cause: No module named 'tensorflow_core.contrib'\n",
      "W0609 03:19:19.039150 140437208413952 ag_logging.py:145] Entity <function Function._initialize_uninitialized_variables.<locals>.initialize_variables at 0x7fb892309950> could not be transformed and will be executed as-is. Please report this to the AutoGraph team. When filing the bug, set the verbosity to 10 (on Linux, `export AUTOGRAPH_VERBOSITY=10`) and attach the full output. Cause: No module named 'tensorflow_core.contrib'\n",
      "W0609 03:19:19.050203 140437208413952 ag_logging.py:145] Entity <function Function._initialize_uninitialized_variables.<locals>.initialize_variables at 0x7fb891129ea0> could not be transformed and will be executed as-is. Please report this to the AutoGraph team. When filing the bug, set the verbosity to 10 (on Linux, `export AUTOGRAPH_VERBOSITY=10`) and attach the full output. Cause: No module named 'tensorflow_core.contrib'\n"
     ]
    },
    {
     "name": "stdout",
     "output_type": "stream",
     "text": [
      "WARNING: Entity <function Function._initialize_uninitialized_variables.<locals>.initialize_variables at 0x7fb892addf28> could not be transformed and will be executed as-is. Please report this to the AutoGraph team. When filing the bug, set the verbosity to 10 (on Linux, `export AUTOGRAPH_VERBOSITY=10`) and attach the full output. Cause: No module named 'tensorflow_core.contrib'\n",
      "WARNING: Entity <function Function._initialize_uninitialized_variables.<locals>.initialize_variables at 0x7fb892309950> could not be transformed and will be executed as-is. Please report this to the AutoGraph team. When filing the bug, set the verbosity to 10 (on Linux, `export AUTOGRAPH_VERBOSITY=10`) and attach the full output. Cause: No module named 'tensorflow_core.contrib'\n",
      "WARNING: Entity <function Function._initialize_uninitialized_variables.<locals>.initialize_variables at 0x7fb891129ea0> could not be transformed and will be executed as-is. Please report this to the AutoGraph team. When filing the bug, set the verbosity to 10 (on Linux, `export AUTOGRAPH_VERBOSITY=10`) and attach the full output. Cause: No module named 'tensorflow_core.contrib'\n"
     ]
    },
    {
     "name": "stderr",
     "output_type": "stream",
     "text": [
      "W0609 03:19:19.159350 140437208413952 ag_logging.py:145] Entity <function Function._initialize_uninitialized_variables.<locals>.initialize_variables at 0x7fb8910f1400> could not be transformed and will be executed as-is. Please report this to the AutoGraph team. When filing the bug, set the verbosity to 10 (on Linux, `export AUTOGRAPH_VERBOSITY=10`) and attach the full output. Cause: No module named 'tensorflow_core.contrib'\n",
      "W0609 03:19:19.179589 140437208413952 ag_logging.py:145] Entity <function Function._initialize_uninitialized_variables.<locals>.initialize_variables at 0x7fb874d6a048> could not be transformed and will be executed as-is. Please report this to the AutoGraph team. When filing the bug, set the verbosity to 10 (on Linux, `export AUTOGRAPH_VERBOSITY=10`) and attach the full output. Cause: No module named 'tensorflow_core.contrib'\n"
     ]
    },
    {
     "name": "stdout",
     "output_type": "stream",
     "text": [
      "WARNING: Entity <function Function._initialize_uninitialized_variables.<locals>.initialize_variables at 0x7fb8910f1400> could not be transformed and will be executed as-is. Please report this to the AutoGraph team. When filing the bug, set the verbosity to 10 (on Linux, `export AUTOGRAPH_VERBOSITY=10`) and attach the full output. Cause: No module named 'tensorflow_core.contrib'\n",
      "WARNING: Entity <function Function._initialize_uninitialized_variables.<locals>.initialize_variables at 0x7fb874d6a048> could not be transformed and will be executed as-is. Please report this to the AutoGraph team. When filing the bug, set the verbosity to 10 (on Linux, `export AUTOGRAPH_VERBOSITY=10`) and attach the full output. Cause: No module named 'tensorflow_core.contrib'\n"
     ]
    },
    {
     "name": "stderr",
     "output_type": "stream",
     "text": [
      "W0609 03:19:19.233997 140437208413952 ag_logging.py:145] Entity <function Function._initialize_uninitialized_variables.<locals>.initialize_variables at 0x7fb890ece8c8> could not be transformed and will be executed as-is. Please report this to the AutoGraph team. When filing the bug, set the verbosity to 10 (on Linux, `export AUTOGRAPH_VERBOSITY=10`) and attach the full output. Cause: No module named 'tensorflow_core.contrib'\n",
      "W0609 03:19:19.249925 140437208413952 ag_logging.py:145] Entity <function canonicalize_signatures.<locals>.signature_wrapper at 0x7fb891129ea0> could not be transformed and will be executed as-is. Please report this to the AutoGraph team. When filing the bug, set the verbosity to 10 (on Linux, `export AUTOGRAPH_VERBOSITY=10`) and attach the full output. Cause: No module named 'tensorflow_core.contrib'\n",
      "W0609 03:19:19.268058 140437208413952 ag_logging.py:145] Entity <function Function._initialize_uninitialized_variables.<locals>.initialize_variables at 0x7fb4a607d510> could not be transformed and will be executed as-is. Please report this to the AutoGraph team. When filing the bug, set the verbosity to 10 (on Linux, `export AUTOGRAPH_VERBOSITY=10`) and attach the full output. Cause: No module named 'tensorflow_core.contrib'\n"
     ]
    },
    {
     "name": "stdout",
     "output_type": "stream",
     "text": [
      "WARNING: Entity <function Function._initialize_uninitialized_variables.<locals>.initialize_variables at 0x7fb890ece8c8> could not be transformed and will be executed as-is. Please report this to the AutoGraph team. When filing the bug, set the verbosity to 10 (on Linux, `export AUTOGRAPH_VERBOSITY=10`) and attach the full output. Cause: No module named 'tensorflow_core.contrib'\n",
      "WARNING: Entity <function canonicalize_signatures.<locals>.signature_wrapper at 0x7fb891129ea0> could not be transformed and will be executed as-is. Please report this to the AutoGraph team. When filing the bug, set the verbosity to 10 (on Linux, `export AUTOGRAPH_VERBOSITY=10`) and attach the full output. Cause: No module named 'tensorflow_core.contrib'\n",
      "WARNING: Entity <function Function._initialize_uninitialized_variables.<locals>.initialize_variables at 0x7fb4a607d510> could not be transformed and will be executed as-is. Please report this to the AutoGraph team. When filing the bug, set the verbosity to 10 (on Linux, `export AUTOGRAPH_VERBOSITY=10`) and attach the full output. Cause: No module named 'tensorflow_core.contrib'\n",
      "1084/1085 [============================>.] - ETA: 0s - loss: 0.0019 - mean_PSNR: 28.6053\n",
      "Learning rate for epoch 274 is 1.0000000116860974e-07\n",
      "1085/1085 [==============================] - 98s 90ms/step - loss: 0.0019 - mean_PSNR: 28.6053 - val_loss: 0.0021 - val_mean_PSNR: 28.1861\n",
      "Epoch 275/300\n",
      "1084/1085 [============================>.] - ETA: 0s - loss: 0.0019 - mean_PSNR: 28.6062\n",
      "Learning rate for epoch 275 is 2.5000000292152436e-08\n",
      "1085/1085 [==============================] - 95s 87ms/step - loss: 0.0019 - mean_PSNR: 28.6063 - val_loss: 0.0021 - val_mean_PSNR: 28.1935\n",
      "Epoch 276/300\n",
      "1084/1085 [============================>.] - ETA: 0s - loss: 0.0019 - mean_PSNR: 28.6074\n",
      "Learning rate for epoch 276 is 1.0000000116860974e-07\n",
      "1085/1085 [==============================] - 94s 87ms/step - loss: 0.0019 - mean_PSNR: 28.6073 - val_loss: 0.0021 - val_mean_PSNR: 28.1821\n",
      "Epoch 277/300\n",
      "1084/1085 [============================>.] - ETA: 0s - loss: 0.0019 - mean_PSNR: 28.6093\n",
      "Learning rate for epoch 277 is 2.5000000292152436e-08\n",
      "1085/1085 [==============================] - 94s 87ms/step - loss: 0.0019 - mean_PSNR: 28.6092 - val_loss: 0.0021 - val_mean_PSNR: 28.1826\n",
      "Epoch 278/300\n",
      "1084/1085 [============================>.] - ETA: 0s - loss: 0.0019 - mean_PSNR: 28.6028\n",
      "Learning rate for epoch 278 is 1.0000000116860974e-07\n",
      "1085/1085 [==============================] - 94s 87ms/step - loss: 0.0019 - mean_PSNR: 28.6028 - val_loss: 0.0021 - val_mean_PSNR: 28.1894\n",
      "Epoch 279/300\n",
      "1084/1085 [============================>.] - ETA: 0s - loss: 0.0019 - mean_PSNR: 28.6025\n",
      "Learning rate for epoch 279 is 2.5000000292152436e-08\n",
      "1085/1085 [==============================] - 95s 87ms/step - loss: 0.0019 - mean_PSNR: 28.6026 - val_loss: 0.0021 - val_mean_PSNR: 28.2005\n",
      "Epoch 280/300\n",
      "1084/1085 [============================>.] - ETA: 0s - loss: 0.0019 - mean_PSNR: 28.6066\n",
      "Learning rate for epoch 280 is 1.0000000116860974e-07\n",
      "1085/1085 [==============================] - 94s 87ms/step - loss: 0.0019 - mean_PSNR: 28.6066 - val_loss: 0.0021 - val_mean_PSNR: 28.1853\n",
      "Epoch 281/300\n",
      "1084/1085 [============================>.] - ETA: 0s - loss: 0.0019 - mean_PSNR: 28.6024\n",
      "Learning rate for epoch 281 is 2.5000000292152436e-08\n",
      "1085/1085 [==============================] - 94s 87ms/step - loss: 0.0019 - mean_PSNR: 28.6023 - val_loss: 0.0021 - val_mean_PSNR: 28.1952\n",
      "Epoch 282/300\n",
      "1084/1085 [============================>.] - ETA: 0s - loss: 0.0019 - mean_PSNR: 28.6054\n",
      "Learning rate for epoch 282 is 1.0000000116860974e-07\n",
      "1085/1085 [==============================] - 94s 87ms/step - loss: 0.0019 - mean_PSNR: 28.6053 - val_loss: 0.0021 - val_mean_PSNR: 28.1851\n",
      "Epoch 283/300\n",
      "1084/1085 [============================>.] - ETA: 0s - loss: 0.0019 - mean_PSNR: 28.6044\n",
      "Learning rate for epoch 283 is 2.5000000292152436e-08\n",
      "1085/1085 [==============================] - 94s 87ms/step - loss: 0.0019 - mean_PSNR: 28.6043 - val_loss: 0.0021 - val_mean_PSNR: 28.1868\n",
      "Epoch 284/300\n",
      "1084/1085 [============================>.] - ETA: 0s - loss: 0.0019 - mean_PSNR: 28.6065\n",
      "Learning rate for epoch 284 is 1.0000000116860974e-07\n",
      "1085/1085 [==============================] - 94s 87ms/step - loss: 0.0019 - mean_PSNR: 28.6063 - val_loss: 0.0021 - val_mean_PSNR: 28.1847\n",
      "Epoch 285/300\n",
      "1084/1085 [============================>.] - ETA: 0s - loss: 0.0019 - mean_PSNR: 28.6037\n",
      "Learning rate for epoch 285 is 2.5000000292152436e-08\n",
      "1085/1085 [==============================] - 94s 87ms/step - loss: 0.0019 - mean_PSNR: 28.6037 - val_loss: 0.0021 - val_mean_PSNR: 28.1849\n",
      "Epoch 286/300\n",
      "1084/1085 [============================>.] - ETA: 0s - loss: 0.0019 - mean_PSNR: 28.6015\n",
      "Learning rate for epoch 286 is 1.0000000116860974e-07\n",
      "1085/1085 [==============================] - 94s 87ms/step - loss: 0.0019 - mean_PSNR: 28.6013 - val_loss: 0.0021 - val_mean_PSNR: 28.1868\n",
      "Epoch 287/300\n",
      "1084/1085 [============================>.] - ETA: 0s - loss: 0.0019 - mean_PSNR: 28.6066\n",
      "Learning rate for epoch 287 is 2.5000000292152436e-08\n",
      "1085/1085 [==============================] - 94s 87ms/step - loss: 0.0019 - mean_PSNR: 28.6065 - val_loss: 0.0021 - val_mean_PSNR: 28.1846\n",
      "Epoch 288/300\n",
      "1084/1085 [============================>.] - ETA: 0s - loss: 0.0019 - mean_PSNR: 28.6074\n",
      "Learning rate for epoch 288 is 1.0000000116860974e-07\n",
      "1085/1085 [==============================] - 94s 87ms/step - loss: 0.0019 - mean_PSNR: 28.6075 - val_loss: 0.0021 - val_mean_PSNR: 28.1886\n",
      "Epoch 289/300\n",
      "  19/1085 [..............................] - ETA: 1:13 - loss: 0.0019 - mean_PSNR: 28.4559\n",
      "Epoch 00289: saving model to /home/ubuntu/cs230/models/automap_fastmri/2019-06-08_13:06:26/cp-0289.ckpt\n"
     ]
    },
    {
     "name": "stderr",
     "output_type": "stream",
     "text": [
      "W0609 03:42:18.420143 140437208413952 ag_logging.py:145] Entity <function Function._initialize_uninitialized_variables.<locals>.initialize_variables at 0x7fb8a07d1510> could not be transformed and will be executed as-is. Please report this to the AutoGraph team. When filing the bug, set the verbosity to 10 (on Linux, `export AUTOGRAPH_VERBOSITY=10`) and attach the full output. Cause: No module named 'tensorflow_core.contrib'\n",
      "W0609 03:42:18.430111 140437208413952 ag_logging.py:145] Entity <function Function._initialize_uninitialized_variables.<locals>.initialize_variables at 0x7fb890764158> could not be transformed and will be executed as-is. Please report this to the AutoGraph team. When filing the bug, set the verbosity to 10 (on Linux, `export AUTOGRAPH_VERBOSITY=10`) and attach the full output. Cause: No module named 'tensorflow_core.contrib'\n",
      "W0609 03:42:18.445394 140437208413952 ag_logging.py:145] Entity <function Function._initialize_uninitialized_variables.<locals>.initialize_variables at 0x7fb874ed7f28> could not be transformed and will be executed as-is. Please report this to the AutoGraph team. When filing the bug, set the verbosity to 10 (on Linux, `export AUTOGRAPH_VERBOSITY=10`) and attach the full output. Cause: No module named 'tensorflow_core.contrib'\n",
      "W0609 03:42:18.454331 140437208413952 ag_logging.py:145] Entity <function Function._initialize_uninitialized_variables.<locals>.initialize_variables at 0x7fb874f64c80> could not be transformed and will be executed as-is. Please report this to the AutoGraph team. When filing the bug, set the verbosity to 10 (on Linux, `export AUTOGRAPH_VERBOSITY=10`) and attach the full output. Cause: No module named 'tensorflow_core.contrib'\n",
      "W0609 03:42:18.457806 140437208413952 ag_logging.py:145] Entity <bound method L1L2.__call__ of <tensorflow.python.keras.regularizers.L1L2 object at 0x7fb9403e3fd0>> could not be transformed and will be executed as-is. Please report this to the AutoGraph team. When filing the bug, set the verbosity to 10 (on Linux, `export AUTOGRAPH_VERBOSITY=10`) and attach the full output. Cause: No module named 'tensorflow_core.contrib'\n",
      "W0609 03:42:18.469392 140437208413952 ag_logging.py:145] Entity <function Function._initialize_uninitialized_variables.<locals>.initialize_variables at 0x7fb874f64048> could not be transformed and will be executed as-is. Please report this to the AutoGraph team. When filing the bug, set the verbosity to 10 (on Linux, `export AUTOGRAPH_VERBOSITY=10`) and attach the full output. Cause: No module named 'tensorflow_core.contrib'\n"
     ]
    },
    {
     "name": "stdout",
     "output_type": "stream",
     "text": [
      "WARNING: Entity <function Function._initialize_uninitialized_variables.<locals>.initialize_variables at 0x7fb8a07d1510> could not be transformed and will be executed as-is. Please report this to the AutoGraph team. When filing the bug, set the verbosity to 10 (on Linux, `export AUTOGRAPH_VERBOSITY=10`) and attach the full output. Cause: No module named 'tensorflow_core.contrib'\n",
      "WARNING: Entity <function Function._initialize_uninitialized_variables.<locals>.initialize_variables at 0x7fb890764158> could not be transformed and will be executed as-is. Please report this to the AutoGraph team. When filing the bug, set the verbosity to 10 (on Linux, `export AUTOGRAPH_VERBOSITY=10`) and attach the full output. Cause: No module named 'tensorflow_core.contrib'\n",
      "WARNING: Entity <function Function._initialize_uninitialized_variables.<locals>.initialize_variables at 0x7fb874ed7f28> could not be transformed and will be executed as-is. Please report this to the AutoGraph team. When filing the bug, set the verbosity to 10 (on Linux, `export AUTOGRAPH_VERBOSITY=10`) and attach the full output. Cause: No module named 'tensorflow_core.contrib'\n",
      "WARNING: Entity <function Function._initialize_uninitialized_variables.<locals>.initialize_variables at 0x7fb874f64c80> could not be transformed and will be executed as-is. Please report this to the AutoGraph team. When filing the bug, set the verbosity to 10 (on Linux, `export AUTOGRAPH_VERBOSITY=10`) and attach the full output. Cause: No module named 'tensorflow_core.contrib'\n",
      "WARNING: Entity <bound method L1L2.__call__ of <tensorflow.python.keras.regularizers.L1L2 object at 0x7fb9403e3fd0>> could not be transformed and will be executed as-is. Please report this to the AutoGraph team. When filing the bug, set the verbosity to 10 (on Linux, `export AUTOGRAPH_VERBOSITY=10`) and attach the full output. Cause: No module named 'tensorflow_core.contrib'\n",
      "WARNING: Entity <function Function._initialize_uninitialized_variables.<locals>.initialize_variables at 0x7fb874f64048> could not be transformed and will be executed as-is. Please report this to the AutoGraph team. When filing the bug, set the verbosity to 10 (on Linux, `export AUTOGRAPH_VERBOSITY=10`) and attach the full output. Cause: No module named 'tensorflow_core.contrib'\n"
     ]
    },
    {
     "name": "stderr",
     "output_type": "stream",
     "text": [
      "W0609 03:42:18.480465 140437208413952 ag_logging.py:145] Entity <function Function._initialize_uninitialized_variables.<locals>.initialize_variables at 0x7fb890998d08> could not be transformed and will be executed as-is. Please report this to the AutoGraph team. When filing the bug, set the verbosity to 10 (on Linux, `export AUTOGRAPH_VERBOSITY=10`) and attach the full output. Cause: No module named 'tensorflow_core.contrib'\n",
      "W0609 03:42:18.512997 140437208413952 ag_logging.py:145] Entity <function Function._initialize_uninitialized_variables.<locals>.initialize_variables at 0x7fb874eac9d8> could not be transformed and will be executed as-is. Please report this to the AutoGraph team. When filing the bug, set the verbosity to 10 (on Linux, `export AUTOGRAPH_VERBOSITY=10`) and attach the full output. Cause: No module named 'tensorflow_core.contrib'\n",
      "W0609 03:42:18.522765 140437208413952 ag_logging.py:145] Entity <function Function._initialize_uninitialized_variables.<locals>.initialize_variables at 0x7fb891129ea0> could not be transformed and will be executed as-is. Please report this to the AutoGraph team. When filing the bug, set the verbosity to 10 (on Linux, `export AUTOGRAPH_VERBOSITY=10`) and attach the full output. Cause: No module named 'tensorflow_core.contrib'\n"
     ]
    },
    {
     "name": "stdout",
     "output_type": "stream",
     "text": [
      "WARNING: Entity <function Function._initialize_uninitialized_variables.<locals>.initialize_variables at 0x7fb890998d08> could not be transformed and will be executed as-is. Please report this to the AutoGraph team. When filing the bug, set the verbosity to 10 (on Linux, `export AUTOGRAPH_VERBOSITY=10`) and attach the full output. Cause: No module named 'tensorflow_core.contrib'\n",
      "WARNING: Entity <function Function._initialize_uninitialized_variables.<locals>.initialize_variables at 0x7fb874eac9d8> could not be transformed and will be executed as-is. Please report this to the AutoGraph team. When filing the bug, set the verbosity to 10 (on Linux, `export AUTOGRAPH_VERBOSITY=10`) and attach the full output. Cause: No module named 'tensorflow_core.contrib'\n",
      "WARNING: Entity <function Function._initialize_uninitialized_variables.<locals>.initialize_variables at 0x7fb891129ea0> could not be transformed and will be executed as-is. Please report this to the AutoGraph team. When filing the bug, set the verbosity to 10 (on Linux, `export AUTOGRAPH_VERBOSITY=10`) and attach the full output. Cause: No module named 'tensorflow_core.contrib'\n"
     ]
    },
    {
     "name": "stderr",
     "output_type": "stream",
     "text": [
      "W0609 03:42:18.628947 140437208413952 ag_logging.py:145] Entity <function Function._initialize_uninitialized_variables.<locals>.initialize_variables at 0x7fb892309488> could not be transformed and will be executed as-is. Please report this to the AutoGraph team. When filing the bug, set the verbosity to 10 (on Linux, `export AUTOGRAPH_VERBOSITY=10`) and attach the full output. Cause: No module named 'tensorflow_core.contrib'\n",
      "W0609 03:42:18.650167 140437208413952 ag_logging.py:145] Entity <function Function._initialize_uninitialized_variables.<locals>.initialize_variables at 0x7fb48c7726a8> could not be transformed and will be executed as-is. Please report this to the AutoGraph team. When filing the bug, set the verbosity to 10 (on Linux, `export AUTOGRAPH_VERBOSITY=10`) and attach the full output. Cause: No module named 'tensorflow_core.contrib'\n"
     ]
    },
    {
     "name": "stdout",
     "output_type": "stream",
     "text": [
      "WARNING: Entity <function Function._initialize_uninitialized_variables.<locals>.initialize_variables at 0x7fb892309488> could not be transformed and will be executed as-is. Please report this to the AutoGraph team. When filing the bug, set the verbosity to 10 (on Linux, `export AUTOGRAPH_VERBOSITY=10`) and attach the full output. Cause: No module named 'tensorflow_core.contrib'\n",
      "WARNING: Entity <function Function._initialize_uninitialized_variables.<locals>.initialize_variables at 0x7fb48c7726a8> could not be transformed and will be executed as-is. Please report this to the AutoGraph team. When filing the bug, set the verbosity to 10 (on Linux, `export AUTOGRAPH_VERBOSITY=10`) and attach the full output. Cause: No module named 'tensorflow_core.contrib'\n"
     ]
    },
    {
     "name": "stderr",
     "output_type": "stream",
     "text": [
      "W0609 03:42:18.703519 140437208413952 ag_logging.py:145] Entity <function Function._initialize_uninitialized_variables.<locals>.initialize_variables at 0x7fb8a15afbf8> could not be transformed and will be executed as-is. Please report this to the AutoGraph team. When filing the bug, set the verbosity to 10 (on Linux, `export AUTOGRAPH_VERBOSITY=10`) and attach the full output. Cause: No module named 'tensorflow_core.contrib'\n",
      "W0609 03:42:18.719674 140437208413952 ag_logging.py:145] Entity <function canonicalize_signatures.<locals>.signature_wrapper at 0x7fb890998d08> could not be transformed and will be executed as-is. Please report this to the AutoGraph team. When filing the bug, set the verbosity to 10 (on Linux, `export AUTOGRAPH_VERBOSITY=10`) and attach the full output. Cause: No module named 'tensorflow_core.contrib'\n",
      "W0609 03:42:18.736577 140437208413952 ag_logging.py:145] Entity <function Function._initialize_uninitialized_variables.<locals>.initialize_variables at 0x7fb4a607dd08> could not be transformed and will be executed as-is. Please report this to the AutoGraph team. When filing the bug, set the verbosity to 10 (on Linux, `export AUTOGRAPH_VERBOSITY=10`) and attach the full output. Cause: No module named 'tensorflow_core.contrib'\n"
     ]
    },
    {
     "name": "stdout",
     "output_type": "stream",
     "text": [
      "WARNING: Entity <function Function._initialize_uninitialized_variables.<locals>.initialize_variables at 0x7fb8a15afbf8> could not be transformed and will be executed as-is. Please report this to the AutoGraph team. When filing the bug, set the verbosity to 10 (on Linux, `export AUTOGRAPH_VERBOSITY=10`) and attach the full output. Cause: No module named 'tensorflow_core.contrib'\n",
      "WARNING: Entity <function canonicalize_signatures.<locals>.signature_wrapper at 0x7fb890998d08> could not be transformed and will be executed as-is. Please report this to the AutoGraph team. When filing the bug, set the verbosity to 10 (on Linux, `export AUTOGRAPH_VERBOSITY=10`) and attach the full output. Cause: No module named 'tensorflow_core.contrib'\n",
      "WARNING: Entity <function Function._initialize_uninitialized_variables.<locals>.initialize_variables at 0x7fb4a607dd08> could not be transformed and will be executed as-is. Please report this to the AutoGraph team. When filing the bug, set the verbosity to 10 (on Linux, `export AUTOGRAPH_VERBOSITY=10`) and attach the full output. Cause: No module named 'tensorflow_core.contrib'\n",
      "1084/1085 [============================>.] - ETA: 0s - loss: 0.0019 - mean_PSNR: 28.6073\n",
      "Learning rate for epoch 289 is 2.5000000292152436e-08\n",
      "1085/1085 [==============================] - 98s 91ms/step - loss: 0.0019 - mean_PSNR: 28.6073 - val_loss: 0.0021 - val_mean_PSNR: 28.1849\n",
      "Epoch 290/300\n",
      "1084/1085 [============================>.] - ETA: 0s - loss: 0.0019 - mean_PSNR: 28.5997\n",
      "Learning rate for epoch 290 is 1.0000000116860974e-07\n",
      "1085/1085 [==============================] - 94s 87ms/step - loss: 0.0019 - mean_PSNR: 28.5995 - val_loss: 0.0021 - val_mean_PSNR: 28.2019\n",
      "Epoch 291/300\n",
      "1084/1085 [============================>.] - ETA: 0s - loss: 0.0019 - mean_PSNR: 28.6025\n",
      "Learning rate for epoch 291 is 2.5000000292152436e-08\n",
      "1085/1085 [==============================] - 94s 87ms/step - loss: 0.0019 - mean_PSNR: 28.6025 - val_loss: 0.0021 - val_mean_PSNR: 28.1804\n",
      "Epoch 292/300\n",
      "1084/1085 [============================>.] - ETA: 0s - loss: 0.0019 - mean_PSNR: 28.6005\n",
      "Learning rate for epoch 292 is 1.0000000116860974e-07\n",
      "1085/1085 [==============================] - 94s 87ms/step - loss: 0.0019 - mean_PSNR: 28.6005 - val_loss: 0.0021 - val_mean_PSNR: 28.1988\n",
      "Epoch 293/300\n",
      "1084/1085 [============================>.] - ETA: 0s - loss: 0.0019 - mean_PSNR: 28.5985\n",
      "Learning rate for epoch 293 is 2.5000000292152436e-08\n",
      "1085/1085 [==============================] - 94s 87ms/step - loss: 0.0019 - mean_PSNR: 28.5986 - val_loss: 0.0021 - val_mean_PSNR: 28.1800\n",
      "Epoch 294/300\n",
      "1084/1085 [============================>.] - ETA: 0s - loss: 0.0019 - mean_PSNR: 28.6001\n",
      "Learning rate for epoch 294 is 1.0000000116860974e-07\n",
      "1085/1085 [==============================] - 96s 88ms/step - loss: 0.0019 - mean_PSNR: 28.6002 - val_loss: 0.0021 - val_mean_PSNR: 28.1891\n",
      "Epoch 295/300\n",
      "1084/1085 [============================>.] - ETA: 0s - loss: 0.0019 - mean_PSNR: 28.6026\n",
      "Learning rate for epoch 295 is 2.5000000292152436e-08\n",
      "1085/1085 [==============================] - 94s 87ms/step - loss: 0.0019 - mean_PSNR: 28.6026 - val_loss: 0.0021 - val_mean_PSNR: 28.1784\n",
      "Epoch 296/300\n",
      "1084/1085 [============================>.] - ETA: 0s - loss: 0.0019 - mean_PSNR: 28.6033\n",
      "Learning rate for epoch 296 is 1.0000000116860974e-07\n",
      "1085/1085 [==============================] - 94s 87ms/step - loss: 0.0019 - mean_PSNR: 28.6030 - val_loss: 0.0021 - val_mean_PSNR: 28.1799\n",
      "Epoch 297/300\n",
      "1084/1085 [============================>.] - ETA: 0s - loss: 0.0019 - mean_PSNR: 28.6055\n",
      "Learning rate for epoch 297 is 2.5000000292152436e-08\n",
      "1085/1085 [==============================] - 94s 87ms/step - loss: 0.0019 - mean_PSNR: 28.6053 - val_loss: 0.0021 - val_mean_PSNR: 28.1877\n",
      "Epoch 298/300\n",
      "1084/1085 [============================>.] - ETA: 0s - loss: 0.0019 - mean_PSNR: 28.6036\n",
      "Learning rate for epoch 298 is 1.0000000116860974e-07\n",
      "1085/1085 [==============================] - 94s 87ms/step - loss: 0.0019 - mean_PSNR: 28.6037 - val_loss: 0.0021 - val_mean_PSNR: 28.1875\n",
      "Epoch 299/300\n",
      "1084/1085 [============================>.] - ETA: 0s - loss: 0.0019 - mean_PSNR: 28.6016\n",
      "Learning rate for epoch 299 is 2.5000000292152436e-08\n",
      "1085/1085 [==============================] - 94s 87ms/step - loss: 0.0019 - mean_PSNR: 28.6015 - val_loss: 0.0021 - val_mean_PSNR: 28.1886\n",
      "Epoch 300/300\n",
      "1084/1085 [============================>.] - ETA: 0s - loss: 0.0019 - mean_PSNR: 28.6073\n",
      "Learning rate for epoch 300 is 1.0000000116860974e-07\n",
      "1085/1085 [==============================] - 94s 87ms/step - loss: 0.0019 - mean_PSNR: 28.6072 - val_loss: 0.0021 - val_mean_PSNR: 28.1874\n"
     ]
    }
   ],
   "source": [
    "num_epochs = 300 # if resuming training, this still has to be higher than greatest checkpoint\n",
    "\n",
    "training_history = model.fit(\n",
    "    train_dataset,\n",
    "    validation_data=dev_dataset,\n",
    "    verbose=1, # set to 0 to suppress chatty output and use Tensorboard instead\n",
    "    epochs=num_epochs,\n",
    "    initial_epoch=initial_epoch,\n",
    "    callbacks=callbacks,\n",
    "    use_multiprocessing=True) # see if speeds things up"
   ]
  },
  {
   "cell_type": "markdown",
   "metadata": {},
   "source": [
    "### Save model (in case isn't saved after final epoch)"
   ]
  },
  {
   "cell_type": "code",
   "execution_count": 36,
   "metadata": {},
   "outputs": [
    {
     "name": "stderr",
     "output_type": "stream",
     "text": [
      "W0609 04:01:15.993845 140437208413952 ag_logging.py:145] Entity <function Function._initialize_uninitialized_variables.<locals>.initialize_variables at 0x7fb8910f12f0> could not be transformed and will be executed as-is. Please report this to the AutoGraph team. When filing the bug, set the verbosity to 10 (on Linux, `export AUTOGRAPH_VERBOSITY=10`) and attach the full output. Cause: No module named 'tensorflow_core.contrib'\n",
      "W0609 04:01:16.003307 140437208413952 ag_logging.py:145] Entity <function Function._initialize_uninitialized_variables.<locals>.initialize_variables at 0x7fb892408598> could not be transformed and will be executed as-is. Please report this to the AutoGraph team. When filing the bug, set the verbosity to 10 (on Linux, `export AUTOGRAPH_VERBOSITY=10`) and attach the full output. Cause: No module named 'tensorflow_core.contrib'\n",
      "W0609 04:01:16.016225 140437208413952 ag_logging.py:145] Entity <function Function._initialize_uninitialized_variables.<locals>.initialize_variables at 0x7fb892b229d8> could not be transformed and will be executed as-is. Please report this to the AutoGraph team. When filing the bug, set the verbosity to 10 (on Linux, `export AUTOGRAPH_VERBOSITY=10`) and attach the full output. Cause: No module named 'tensorflow_core.contrib'\n",
      "W0609 04:01:16.025337 140437208413952 ag_logging.py:145] Entity <function Function._initialize_uninitialized_variables.<locals>.initialize_variables at 0x7fb874f641e0> could not be transformed and will be executed as-is. Please report this to the AutoGraph team. When filing the bug, set the verbosity to 10 (on Linux, `export AUTOGRAPH_VERBOSITY=10`) and attach the full output. Cause: No module named 'tensorflow_core.contrib'\n",
      "W0609 04:01:16.029153 140437208413952 ag_logging.py:145] Entity <bound method L1L2.__call__ of <tensorflow.python.keras.regularizers.L1L2 object at 0x7fb9403e3fd0>> could not be transformed and will be executed as-is. Please report this to the AutoGraph team. When filing the bug, set the verbosity to 10 (on Linux, `export AUTOGRAPH_VERBOSITY=10`) and attach the full output. Cause: No module named 'tensorflow_core.contrib'\n",
      "W0609 04:01:16.041471 140437208413952 ag_logging.py:145] Entity <function Function._initialize_uninitialized_variables.<locals>.initialize_variables at 0x7fb8a1c29ea0> could not be transformed and will be executed as-is. Please report this to the AutoGraph team. When filing the bug, set the verbosity to 10 (on Linux, `export AUTOGRAPH_VERBOSITY=10`) and attach the full output. Cause: No module named 'tensorflow_core.contrib'\n",
      "W0609 04:01:16.053464 140437208413952 ag_logging.py:145] Entity <function Function._initialize_uninitialized_variables.<locals>.initialize_variables at 0x7fb891129840> could not be transformed and will be executed as-is. Please report this to the AutoGraph team. When filing the bug, set the verbosity to 10 (on Linux, `export AUTOGRAPH_VERBOSITY=10`) and attach the full output. Cause: No module named 'tensorflow_core.contrib'\n"
     ]
    },
    {
     "name": "stdout",
     "output_type": "stream",
     "text": [
      "WARNING: Entity <function Function._initialize_uninitialized_variables.<locals>.initialize_variables at 0x7fb8910f12f0> could not be transformed and will be executed as-is. Please report this to the AutoGraph team. When filing the bug, set the verbosity to 10 (on Linux, `export AUTOGRAPH_VERBOSITY=10`) and attach the full output. Cause: No module named 'tensorflow_core.contrib'\n",
      "WARNING: Entity <function Function._initialize_uninitialized_variables.<locals>.initialize_variables at 0x7fb892408598> could not be transformed and will be executed as-is. Please report this to the AutoGraph team. When filing the bug, set the verbosity to 10 (on Linux, `export AUTOGRAPH_VERBOSITY=10`) and attach the full output. Cause: No module named 'tensorflow_core.contrib'\n",
      "WARNING: Entity <function Function._initialize_uninitialized_variables.<locals>.initialize_variables at 0x7fb892b229d8> could not be transformed and will be executed as-is. Please report this to the AutoGraph team. When filing the bug, set the verbosity to 10 (on Linux, `export AUTOGRAPH_VERBOSITY=10`) and attach the full output. Cause: No module named 'tensorflow_core.contrib'\n",
      "WARNING: Entity <function Function._initialize_uninitialized_variables.<locals>.initialize_variables at 0x7fb874f641e0> could not be transformed and will be executed as-is. Please report this to the AutoGraph team. When filing the bug, set the verbosity to 10 (on Linux, `export AUTOGRAPH_VERBOSITY=10`) and attach the full output. Cause: No module named 'tensorflow_core.contrib'\n",
      "WARNING: Entity <bound method L1L2.__call__ of <tensorflow.python.keras.regularizers.L1L2 object at 0x7fb9403e3fd0>> could not be transformed and will be executed as-is. Please report this to the AutoGraph team. When filing the bug, set the verbosity to 10 (on Linux, `export AUTOGRAPH_VERBOSITY=10`) and attach the full output. Cause: No module named 'tensorflow_core.contrib'\n",
      "WARNING: Entity <function Function._initialize_uninitialized_variables.<locals>.initialize_variables at 0x7fb8a1c29ea0> could not be transformed and will be executed as-is. Please report this to the AutoGraph team. When filing the bug, set the verbosity to 10 (on Linux, `export AUTOGRAPH_VERBOSITY=10`) and attach the full output. Cause: No module named 'tensorflow_core.contrib'\n",
      "WARNING: Entity <function Function._initialize_uninitialized_variables.<locals>.initialize_variables at 0x7fb891129840> could not be transformed and will be executed as-is. Please report this to the AutoGraph team. When filing the bug, set the verbosity to 10 (on Linux, `export AUTOGRAPH_VERBOSITY=10`) and attach the full output. Cause: No module named 'tensorflow_core.contrib'\n"
     ]
    },
    {
     "name": "stderr",
     "output_type": "stream",
     "text": [
      "W0609 04:01:16.415010 140437208413952 ag_logging.py:145] Entity <function Function._initialize_uninitialized_variables.<locals>.initialize_variables at 0x7fb940232620> could not be transformed and will be executed as-is. Please report this to the AutoGraph team. When filing the bug, set the verbosity to 10 (on Linux, `export AUTOGRAPH_VERBOSITY=10`) and attach the full output. Cause: No module named 'tensorflow_core.contrib'\n",
      "W0609 04:01:16.425731 140437208413952 ag_logging.py:145] Entity <function Function._initialize_uninitialized_variables.<locals>.initialize_variables at 0x7fb890e21ea0> could not be transformed and will be executed as-is. Please report this to the AutoGraph team. When filing the bug, set the verbosity to 10 (on Linux, `export AUTOGRAPH_VERBOSITY=10`) and attach the full output. Cause: No module named 'tensorflow_core.contrib'\n",
      "W0609 04:01:16.534542 140437208413952 ag_logging.py:145] Entity <function Function._initialize_uninitialized_variables.<locals>.initialize_variables at 0x7fb874ed79d8> could not be transformed and will be executed as-is. Please report this to the AutoGraph team. When filing the bug, set the verbosity to 10 (on Linux, `export AUTOGRAPH_VERBOSITY=10`) and attach the full output. Cause: No module named 'tensorflow_core.contrib'\n",
      "W0609 04:01:16.555628 140437208413952 ag_logging.py:145] Entity <function Function._initialize_uninitialized_variables.<locals>.initialize_variables at 0x7fb8902c5598> could not be transformed and will be executed as-is. Please report this to the AutoGraph team. When filing the bug, set the verbosity to 10 (on Linux, `export AUTOGRAPH_VERBOSITY=10`) and attach the full output. Cause: No module named 'tensorflow_core.contrib'\n",
      "W0609 04:01:16.611043 140437208413952 ag_logging.py:145] Entity <function Function._initialize_uninitialized_variables.<locals>.initialize_variables at 0x7fb892add620> could not be transformed and will be executed as-is. Please report this to the AutoGraph team. When filing the bug, set the verbosity to 10 (on Linux, `export AUTOGRAPH_VERBOSITY=10`) and attach the full output. Cause: No module named 'tensorflow_core.contrib'\n"
     ]
    },
    {
     "name": "stdout",
     "output_type": "stream",
     "text": [
      "WARNING: Entity <function Function._initialize_uninitialized_variables.<locals>.initialize_variables at 0x7fb940232620> could not be transformed and will be executed as-is. Please report this to the AutoGraph team. When filing the bug, set the verbosity to 10 (on Linux, `export AUTOGRAPH_VERBOSITY=10`) and attach the full output. Cause: No module named 'tensorflow_core.contrib'\n",
      "WARNING: Entity <function Function._initialize_uninitialized_variables.<locals>.initialize_variables at 0x7fb890e21ea0> could not be transformed and will be executed as-is. Please report this to the AutoGraph team. When filing the bug, set the verbosity to 10 (on Linux, `export AUTOGRAPH_VERBOSITY=10`) and attach the full output. Cause: No module named 'tensorflow_core.contrib'\n",
      "WARNING: Entity <function Function._initialize_uninitialized_variables.<locals>.initialize_variables at 0x7fb874ed79d8> could not be transformed and will be executed as-is. Please report this to the AutoGraph team. When filing the bug, set the verbosity to 10 (on Linux, `export AUTOGRAPH_VERBOSITY=10`) and attach the full output. Cause: No module named 'tensorflow_core.contrib'\n",
      "WARNING: Entity <function Function._initialize_uninitialized_variables.<locals>.initialize_variables at 0x7fb8902c5598> could not be transformed and will be executed as-is. Please report this to the AutoGraph team. When filing the bug, set the verbosity to 10 (on Linux, `export AUTOGRAPH_VERBOSITY=10`) and attach the full output. Cause: No module named 'tensorflow_core.contrib'\n",
      "WARNING: Entity <function Function._initialize_uninitialized_variables.<locals>.initialize_variables at 0x7fb892add620> could not be transformed and will be executed as-is. Please report this to the AutoGraph team. When filing the bug, set the verbosity to 10 (on Linux, `export AUTOGRAPH_VERBOSITY=10`) and attach the full output. Cause: No module named 'tensorflow_core.contrib'\n"
     ]
    },
    {
     "name": "stderr",
     "output_type": "stream",
     "text": [
      "W0609 04:01:16.627792 140437208413952 ag_logging.py:145] Entity <function canonicalize_signatures.<locals>.signature_wrapper at 0x7fb890e211e0> could not be transformed and will be executed as-is. Please report this to the AutoGraph team. When filing the bug, set the verbosity to 10 (on Linux, `export AUTOGRAPH_VERBOSITY=10`) and attach the full output. Cause: No module named 'tensorflow_core.contrib'\n",
      "W0609 04:01:16.646794 140437208413952 ag_logging.py:145] Entity <function Function._initialize_uninitialized_variables.<locals>.initialize_variables at 0x7fb8909e3158> could not be transformed and will be executed as-is. Please report this to the AutoGraph team. When filing the bug, set the verbosity to 10 (on Linux, `export AUTOGRAPH_VERBOSITY=10`) and attach the full output. Cause: No module named 'tensorflow_core.contrib'\n"
     ]
    },
    {
     "name": "stdout",
     "output_type": "stream",
     "text": [
      "WARNING: Entity <function canonicalize_signatures.<locals>.signature_wrapper at 0x7fb890e211e0> could not be transformed and will be executed as-is. Please report this to the AutoGraph team. When filing the bug, set the verbosity to 10 (on Linux, `export AUTOGRAPH_VERBOSITY=10`) and attach the full output. Cause: No module named 'tensorflow_core.contrib'\n",
      "WARNING: Entity <function Function._initialize_uninitialized_variables.<locals>.initialize_variables at 0x7fb8909e3158> could not be transformed and will be executed as-is. Please report this to the AutoGraph team. When filing the bug, set the verbosity to 10 (on Linux, `export AUTOGRAPH_VERBOSITY=10`) and attach the full output. Cause: No module named 'tensorflow_core.contrib'\n",
      "Saved model to: /home/ubuntu/cs230/models/automap_fastmri/2019-06-08_13:06:26/cp-0300.ckpt\n"
     ]
    }
   ],
   "source": [
    "# Uncomment to save model\n",
    "model_save_path = checkpoint_path.format(epoch=num_epochs)\n",
    "model.save(model_save_path)\n",
    "print('Saved model to: {}'.format(model_save_path))"
   ]
  },
  {
   "cell_type": "markdown",
   "metadata": {},
   "source": [
    "## Evaluate model"
   ]
  },
  {
   "cell_type": "code",
   "execution_count": 37,
   "metadata": {},
   "outputs": [
    {
     "name": "stdout",
     "output_type": "stream",
     "text": [
      "    487/Unknown - 3s 7ms/step - loss: 0.0103 - mean_PSNR: 21.9150- 3s 7ms/step - loss: 0.0101 - mean_PSNR: 22. - 3s 7ms/step - loss: 0 - 3 - 3s 7ms/step - loss: 0.0103 - mean_PSNR - 3s 7ms/st - 3s 7ms/step - loss: 0.0103 - mean_PSNR: 21.9"
     ]
    },
    {
     "data": {
      "text/plain": [
       "[0.010305045667875106, 21.91499]"
      ]
     },
     "execution_count": 37,
     "metadata": {},
     "output_type": "execute_result"
    }
   ],
   "source": [
    "model.evaluate(test_dataset, verbose=1)\n",
    "# model.evaluate(dev_dataset, verbose=1)\n",
    "# model.evaluate(train_dataset, verbose=1)"
   ]
  },
  {
   "cell_type": "markdown",
   "metadata": {},
   "source": [
    "### Plot training history (but better viewed in Tensorboard)"
   ]
  },
  {
   "cell_type": "code",
   "execution_count": 38,
   "metadata": {},
   "outputs": [
    {
     "data": {
      "text/plain": [
       "<matplotlib.legend.Legend at 0x7fb89200d358>"
      ]
     },
     "execution_count": 38,
     "metadata": {},
     "output_type": "execute_result"
    },
    {
     "data": {
      "image/png": "[encoded data removed]",
      "text/plain": [
       "<Figure size 432x288 with 1 Axes>"
      ]
     },
     "metadata": {},
     "output_type": "display_data"
    }
   ],
   "source": [
    "plt.figure()\n",
    "plt.plot(training_history.history[\"loss\"], label=\"Train\")\n",
    "plt.plot(training_history.history[\"val_loss\"], label=\"Test\")\n",
    "plt.xlabel(\"Epoch\")\n",
    "plt.ylabel(\"Loss\")\n",
    "plt.legend(loc=\"center right\")"
   ]
  },
  {
   "cell_type": "code",
   "execution_count": 39,
   "metadata": {},
   "outputs": [
    {
     "data": {
      "text/plain": [
       "<matplotlib.legend.Legend at 0x7fb48c39c3c8>"
      ]
     },
     "execution_count": 39,
     "metadata": {},
     "output_type": "execute_result"
    },
    {
     "data": {
      "image/png": "[encoded data removed]",
      "text/plain": [
       "<Figure size 432x288 with 1 Axes>"
      ]
     },
     "metadata": {},
     "output_type": "display_data"
    }
   ],
   "source": [
    "plt.figure()\n",
    "plt.plot(training_history.history[\"mean_PSNR\"], label=\"Train\")\n",
    "plt.plot(training_history.history[\"val_mean_PSNR\"], label=\"Test\")\n",
    "plt.xlabel(\"Epoch\")\n",
    "plt.ylabel(\"µ ( PSNR ) \")\n",
    "plt.legend(loc=\"center right\")"
   ]
  },
  {
   "cell_type": "code",
   "execution_count": 40,
   "metadata": {
    "scrolled": false
   },
   "outputs": [
    {
     "data": {
      "image/png": "[encoded data removed]",
      "text/plain": [
       "<Figure size 432x288 with 1 Axes>"
      ]
     },
     "metadata": {},
     "output_type": "display_data"
    }
   ],
   "source": [
    "plt.figure()\n",
    "plt.plot(training_history.history[\"lr\"])\n",
    "plt.xlabel(\"Epoch\")\n",
    "plt.ylabel(\"Learning Rate\")\n",
    "plt.yscale('log')"
   ]
  },
  {
   "cell_type": "code",
   "execution_count": 41,
   "metadata": {},
   "outputs": [
    {
     "data": {
      "image/png": "[encoded data removed]",
      "text/plain": [
       "<Figure size 432x288 with 4 Axes>"
      ]
     },
     "metadata": {},
     "output_type": "display_data"
    },
    {
     "name": "stdout",
     "output_type": "stream",
     "text": [
      "For validation: x.sum()=279.34979248046875, y.sum()=39581.15625, y_pred.sum()=34196.24609375\n",
      "Model iterations: 325500\n"
     ]
    }
   ],
   "source": [
    "# Predict on a test batch\n",
    "\n",
    "x, y = first_test_batch\n",
    "x, y = x.numpy(), y.numpy()\n",
    "predict_and_visualize(model, x, y);"
   ]
  },
  {
   "cell_type": "markdown",
   "metadata": {},
   "source": [
    "# Restore and run saved model"
   ]
  },
  {
   "cell_type": "code",
   "execution_count": 42,
   "metadata": {
    "scrolled": false
   },
   "outputs": [
    {
     "name": "stderr",
     "output_type": "stream",
     "text": [
      "E0609 04:01:25.500474 140437208413952 ultratb.py:147] Internal Python error in the inspect module.\n",
      "Below is the traceback from this internal error.\n",
      "\n"
     ]
    },
    {
     "name": "stdout",
     "output_type": "stream",
     "text": [
      "Traceback (most recent call last):\n",
      "  File \"/home/ubuntu/anaconda3/envs/tensorflow_p36/lib/python3.6/site-packages/IPython/core/interactiveshell.py\", line 2963, in run_code\n",
      "    exec(code_obj, self.user_global_ns, self.user_ns)\n",
      "  File \"<ipython-input-42-6bb18f391d48>\", line 2, in <module>\n",
      "    restored_model = restore_model(saved_model_path, weights_only=False, custom_objects={'mean_PSNR': mean_PSNR})\n",
      "  File \"<ipython-input-8-5546dfbd0612>\", line 62, in restore_model\n",
      "    model = tf.keras.models.load_model(restore_path, custom_objects=custom_objects)\n",
      "  File \"/home/ubuntu/anaconda3/envs/tensorflow_p36/lib/python3.6/site-packages/tensorflow_core/python/keras/saving/save.py\", line 140, in load_model\n",
      "    loader_impl.parse_saved_model(filepath)\n",
      "  File \"/home/ubuntu/anaconda3/envs/tensorflow_p36/lib/python3.6/site-packages/tensorflow_core/python/saved_model/loader_impl.py\", line 83, in parse_saved_model\n",
      "    constants.SAVED_MODEL_FILENAME_PB))\n",
      "OSError: SavedModel file does not exist at: /home/ubuntu/cs230/models/automap_fastmri/2019-06-07_00:49:20/cp-0150.ckpt/{saved_model.pbtxt|saved_model.pb}\n",
      "\n",
      "During handling of the above exception, another exception occurred:\n",
      "\n",
      "Traceback (most recent call last):\n",
      "  File \"/home/ubuntu/anaconda3/envs/tensorflow_p36/lib/python3.6/site-packages/IPython/core/interactiveshell.py\", line 1863, in showtraceback\n",
      "    stb = value._render_traceback_()\n",
      "AttributeError: 'OSError' object has no attribute '_render_traceback_'\n",
      "\n",
      "During handling of the above exception, another exception occurred:\n",
      "\n",
      "Traceback (most recent call last):\n",
      "  File \"/home/ubuntu/anaconda3/envs/tensorflow_p36/lib/python3.6/site-packages/IPython/core/ultratb.py\", line 1095, in get_records\n",
      "    return _fixed_getinnerframes(etb, number_of_lines_of_context, tb_offset)\n",
      "  File \"/home/ubuntu/anaconda3/envs/tensorflow_p36/lib/python3.6/site-packages/IPython/core/ultratb.py\", line 311, in wrapped\n",
      "    return f(*args, **kwargs)\n",
      "  File \"/home/ubuntu/anaconda3/envs/tensorflow_p36/lib/python3.6/site-packages/IPython/core/ultratb.py\", line 345, in _fixed_getinnerframes\n",
      "    records = fix_frame_records_filenames(inspect.getinnerframes(etb, context))\n",
      "  File \"/home/ubuntu/anaconda3/envs/tensorflow_p36/lib/python3.6/inspect.py\", line 1483, in getinnerframes\n",
      "    frameinfo = (tb.tb_frame,) + getframeinfo(tb, context)\n",
      "  File \"/home/ubuntu/anaconda3/envs/tensorflow_p36/lib/python3.6/inspect.py\", line 1441, in getframeinfo\n",
      "    filename = getsourcefile(frame) or getfile(frame)\n",
      "  File \"/home/ubuntu/anaconda3/envs/tensorflow_p36/lib/python3.6/inspect.py\", line 696, in getsourcefile\n",
      "    if getattr(getmodule(object, filename), '__loader__', None) is not None:\n",
      "  File \"/home/ubuntu/anaconda3/envs/tensorflow_p36/lib/python3.6/inspect.py\", line 733, in getmodule\n",
      "    if ismodule(module) and hasattr(module, '__file__'):\n",
      "  File \"/home/ubuntu/anaconda3/envs/tensorflow_p36/lib/python3.6/site-packages/tensorflow/__init__.py\", line 49, in __getattr__\n",
      "    module = self._load()\n",
      "  File \"/home/ubuntu/anaconda3/envs/tensorflow_p36/lib/python3.6/site-packages/tensorflow/__init__.py\", line 43, in _load\n",
      "    module = _importlib.import_module(self.__name__)\n",
      "  File \"/home/ubuntu/anaconda3/envs/tensorflow_p36/lib/python3.6/importlib/__init__.py\", line 126, in import_module\n",
      "    return _bootstrap._gcd_import(name[level:], package, level)\n",
      "  File \"<frozen importlib._bootstrap>\", line 994, in _gcd_import\n",
      "  File \"<frozen importlib._bootstrap>\", line 971, in _find_and_load\n",
      "  File \"<frozen importlib._bootstrap>\", line 953, in _find_and_load_unlocked\n",
      "ModuleNotFoundError: No module named 'tensorflow_core.contrib'\n"
     ]
    },
    {
     "ename": "OSError",
     "evalue": "SavedModel file does not exist at: /home/ubuntu/cs230/models/automap_fastmri/2019-06-07_00:49:20/cp-0150.ckpt/{saved_model.pbtxt|saved_model.pb}",
     "output_type": "error",
     "traceback": [
      "\u001b[0;31m---------------------------------------------------------------------------\u001b[0m"
     ]
    }
   ],
   "source": [
    "saved_model_path = '/home/ubuntu/cs230/models/automap_fastmri/2019-06-07_00:49:20/cp-0150.ckpt'\n",
    "restored_model = restore_model(saved_model_path, weights_only=False, custom_objects={'mean_PSNR': mean_PSNR})\n",
    "predict_and_visualize(restored_model, x, y);"
   ]
  },
  {
   "cell_type": "code",
   "execution_count": null,
   "metadata": {},
   "outputs": [],
   "source": [
    "restored_model.evaluate(test_dataset, verbose=1)"
   ]
  },
  {
   "cell_type": "code",
   "execution_count": null,
   "metadata": {},
   "outputs": [],
   "source": []
  }
 ],
 "metadata": {
  "kernelspec": {
   "display_name": "Environment (conda_tensorflow_p36)",
   "language": "python",
   "name": "conda_tensorflow_p36"
  },
  "language_info": {
   "codemirror_mode": {
    "name": "ipython",
    "version": 3
   },
   "file_extension": ".py",
   "mimetype": "text/x-python",
   "name": "python",
   "nbconvert_exporter": "python",
   "pygments_lexer": "ipython3",
   "version": "3.6.5"
  }
 },
 "nbformat": 4,
 "nbformat_minor": 2
}
