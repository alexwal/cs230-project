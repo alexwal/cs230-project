{
 "cells": [
  {
   "cell_type": "code",
   "execution_count": 1,
   "metadata": {},
   "outputs": [],
   "source": [
    "# To use TF 2.0 (on EC2 instance running Deep Learning AMI):\n",
    "# source activate tensorflow_p36\n",
    "# pip uninstall tensorflow-gpu\n",
    "# pip install tensorflow-gpu==2.0.0-alpha0\n",
    "\n",
    "# But then later decided wanted even newer GPU stuff and \"in that conda env, ran:\n",
    "# pip uninstall tensorflow-gpu\n",
    "# pip install --upgrade pip\n",
    "# pip install wrapt --ignore-installed # ran this because had an error\n",
    "# pip install  tf-nightly-gpu-2.0-preview\n",
    "\n",
    "# Result: Successfully installed tf-nightly-gpu-2.0-preview-2.0.0.dev20190601"
   ]
  },
  {
   "cell_type": "code",
   "execution_count": 2,
   "metadata": {},
   "outputs": [],
   "source": [
    "import os\n",
    "from datetime import datetime\n",
    "import numpy as np\n",
    "import tensorflow as tf"
   ]
  },
  {
   "cell_type": "code",
   "execution_count": 3,
   "metadata": {},
   "outputs": [],
   "source": [
    "import matplotlib.pyplot as plt\n",
    "%matplotlib inline\n",
    "\n",
    "plt.style.use('seaborn') # pretty matplotlib plots\n",
    "plt.rcParams[\"axes.grid\"] = False # don't show grid lines on plots by default\n",
    "plt.rcParams['figure.figsize'] = (12, 16) # increase size of subplots"
   ]
  },
  {
   "cell_type": "code",
   "execution_count": 4,
   "metadata": {},
   "outputs": [
    {
     "name": "stdout",
     "output_type": "stream",
     "text": [
      "TensorFlow version:  2.0.0-dev20190605\n"
     ]
    }
   ],
   "source": [
    "from packaging import version\n",
    "\n",
    "print(\"TensorFlow version: \", tf.__version__) # make sure >= 2.0.0-dev20190605\n",
    "assert version.parse(tf.__version__).release[0] >= 2, \"This notebook requires TensorFlow 2.0 or above.\"\n"
   ]
  },
  {
   "cell_type": "code",
   "execution_count": 5,
   "metadata": {},
   "outputs": [],
   "source": [
    "import cs230_project_utilities as utils"
   ]
  },
  {
   "cell_type": "code",
   "execution_count": 6,
   "metadata": {},
   "outputs": [],
   "source": [
    "# GPU usage logging (TF 2.0+)\n",
    "\n",
    "tf.config.set_soft_device_placement(True)\n",
    "tf.debugging.set_log_device_placement(False)"
   ]
  },
  {
   "cell_type": "markdown",
   "metadata": {},
   "source": [
    "# Load dataset as TFRecords "
   ]
  },
  {
   "cell_type": "code",
   "execution_count": 7,
   "metadata": {},
   "outputs": [],
   "source": [
    "# Sync from remote storage in s3\n",
    "# aws s3 sync s3://cs230-automap/data/fastmri/tfrecords cs230/data/fastmri/tfrecords"
   ]
  },
  {
   "cell_type": "code",
   "execution_count": 8,
   "metadata": {},
   "outputs": [],
   "source": [
    "dev_locations = '/home/ubuntu/cs230/data/fastmri/tfrecords/singlecoil_dev/*.tfrecord'\n",
    "test_locations = '/home/ubuntu/cs230/data/fastmri/tfrecords/singlecoil_test/*.tfrecord'\n",
    "train_locations = '/home/ubuntu/cs230/data/fastmri/tfrecords/singlecoil_train/*.tfrecord'"
   ]
  },
  {
   "cell_type": "code",
   "execution_count": 9,
   "metadata": {
    "scrolled": true
   },
   "outputs": [
    {
     "name": "stdout",
     "output_type": "stream",
     "text": [
      "Loading dataset... Shuffle items? True. Shuffle buffer: 1\n",
      "Loading dataset... Shuffle items? True. Shuffle buffer: 1\n",
      "Loading dataset... Shuffle items? True. Shuffle buffer: 1024\n"
     ]
    }
   ],
   "source": [
    "# Use tf.data.Datasets to preprocess and iterate data efficiently\n",
    "\n",
    "dev_dataset = utils.fastmri.load_dataset(dev_locations,\n",
    "                                         batch_size=32,\n",
    "                                         shuffle_buffer_size=1,\n",
    "                                         load_original_reconstruction=False,\n",
    "                                         include_all_parsed_features=False,\n",
    "                                         ignore_errors=True,\n",
    "                                         perform_data_augmentation=False)\n",
    "\n",
    "test_dataset = utils.fastmri.load_dataset(test_locations,\n",
    "                                          batch_size=32,\n",
    "                                          shuffle_buffer_size=1,\n",
    "                                          load_original_reconstruction=False,\n",
    "                                          include_all_parsed_features=False,\n",
    "                                          ignore_errors=True,\n",
    "                                          perform_data_augmentation=False)\n",
    "\n",
    "train_dataset = utils.fastmri.load_dataset(train_locations,\n",
    "                                           batch_size=32,\n",
    "                                           shuffle_buffer_size=1024,\n",
    "                                           load_original_reconstruction=False,\n",
    "                                           include_all_parsed_features=False,\n",
    "                                           ignore_errors=True,\n",
    "                                           perform_data_augmentation=False)"
   ]
  },
  {
   "cell_type": "markdown",
   "metadata": {},
   "source": [
    "# Validate dataset\n",
    "Make sure target reconstruction is the same as reconstruction computed from input."
   ]
  },
  {
   "cell_type": "code",
   "execution_count": 10,
   "metadata": {
    "scrolled": false
   },
   "outputs": [],
   "source": [
    "# First batch of each dataset to be used in plotting images periodically to tensorboard\n",
    "\n",
    "first_test_batch = next(iter(test_dataset))\n",
    "first_dev_batch = next(iter(dev_dataset))\n",
    "first_train_batch = next(iter(train_dataset))"
   ]
  },
  {
   "cell_type": "code",
   "execution_count": 11,
   "metadata": {},
   "outputs": [],
   "source": [
    "def first_batches():\n",
    "    batches = [(first_test_batch, 'Test'), (first_dev_batch, 'Dev'), (first_train_batch, 'Train')]\n",
    "    return batches"
   ]
  },
  {
   "cell_type": "code",
   "execution_count": 12,
   "metadata": {
    "scrolled": true
   },
   "outputs": [
    {
     "data": {
      "text/plain": [
       "TensorShape([32, 128, 128, 2])"
      ]
     },
     "execution_count": 12,
     "metadata": {},
     "output_type": "execute_result"
    }
   ],
   "source": [
    "first_test_batch[0].shape"
   ]
  },
  {
   "cell_type": "code",
   "execution_count": 13,
   "metadata": {
    "scrolled": false
   },
   "outputs": [
    {
     "data": {
      "text/plain": [
       "(True, 3.79561e-15)"
      ]
     },
     "execution_count": 13,
     "metadata": {},
     "output_type": "execute_result"
    }
   ],
   "source": [
    "fft, target_image = first_test_batch[0][0].numpy().squeeze(), first_test_batch[1][0].numpy().squeeze()\n",
    "fft = utils.fastmri._combine_two_channels_of_complex_tensor(fft).numpy()\n",
    "\n",
    "# Compute image from input `fft`\n",
    "image_from_fft = tf.abs(utils.signal_processing.tf_ifft2d(fft)).numpy().squeeze()\n",
    "\n",
    "# Compare target image to reconstruction from input `fft`\n",
    "np.allclose(image_from_fft, target_image, atol=1e-6), utils.signal_processing.mean_square_error(image_from_fft, target_image)"
   ]
  },
  {
   "cell_type": "code",
   "execution_count": 14,
   "metadata": {},
   "outputs": [
    {
     "data": {
      "text/plain": [
       "(0.00064019713, 0.99999994, 0.0006402235, 1.0)"
      ]
     },
     "execution_count": 14,
     "metadata": {},
     "output_type": "execute_result"
    }
   ],
   "source": [
    "# Should be in [0, 1]\n",
    "image_from_fft.min(), image_from_fft.max(), target_image.min(), target_image.max()"
   ]
  },
  {
   "cell_type": "code",
   "execution_count": 15,
   "metadata": {
    "scrolled": false
   },
   "outputs": [
    {
     "data": {
      "image/png": "[encoded data removed]",
      "text/plain": [
       "<Figure size 432x288 with 1 Axes>"
      ]
     },
     "metadata": {},
     "output_type": "display_data"
    }
   ],
   "source": [
    "utils.plot.imshowfft(fft)"
   ]
  },
  {
   "cell_type": "code",
   "execution_count": 16,
   "metadata": {},
   "outputs": [
    {
     "data": {
      "image/png": "[encoded data removed]",
      "text/plain": [
       "<Figure size 432x288 with 1 Axes>"
      ]
     },
     "metadata": {},
     "output_type": "display_data"
    }
   ],
   "source": [
    "utils.plot.imshowgray(target_image)"
   ]
  },
  {
   "cell_type": "code",
   "execution_count": 17,
   "metadata": {},
   "outputs": [
    {
     "data": {
      "image/png": "[encoded data removed]",
      "text/plain": [
       "<Figure size 432x288 with 1 Axes>"
      ]
     },
     "metadata": {},
     "output_type": "display_data"
    }
   ],
   "source": [
    "utils.plot.imshowgray(image_from_fft)"
   ]
  },
  {
   "cell_type": "code",
   "execution_count": 18,
   "metadata": {},
   "outputs": [
    {
     "name": "stderr",
     "output_type": "stream",
     "text": [
      "/home/ubuntu/cs230/code/MRI_reconstruction_example/cs230_project_utilities/plot.py:13: RuntimeWarning: divide by zero encountered in log10\n",
      "  imshowgray(20 * np.log10(np.abs(fft)))\n"
     ]
    },
    {
     "data": {
      "image/png": "[encoded data removed]",
      "text/plain": [
       "<Figure size 432x288 with 1 Axes>"
      ]
     },
     "metadata": {},
     "output_type": "display_data"
    }
   ],
   "source": [
    "utils.plot.imshowfft(np.square(target_image - image_from_fft))"
   ]
  },
  {
   "cell_type": "markdown",
   "metadata": {},
   "source": [
    "# Model"
   ]
  },
  {
   "cell_type": "code",
   "execution_count": 19,
   "metadata": {},
   "outputs": [],
   "source": [
    "# A metric to use during training\n",
    "def mean_PSNR(y_true, y_pred):\n",
    "    max_value = 1.0\n",
    "    MSE = tf.reduce_mean(tf.square(y_true - y_pred), axis=[1, 2, 3])\n",
    "    PSNR = 10 * tf.math.log(tf.divide(max_value ** 2, MSE)) / tf.math.log(tf.constant(10, dtype=y_pred.dtype))\n",
    "    mean = tf.reduce_mean(PSNR)\n",
    "    return mean"
   ]
  },
  {
   "cell_type": "code",
   "execution_count": 20,
   "metadata": {},
   "outputs": [],
   "source": [
    "# Model most similar to OG AUTOMAP\n",
    "# def load_uncompiled_automap_model():\n",
    "\n",
    "#     N = 128\n",
    "#     X = tf.keras.layers.Input(shape=(N, N, 2))\n",
    "\n",
    "#     # Paper says 1% multiplicative gaussian noise (this multiplies by 1-centered gaussian\n",
    "#     # having stddev = sqrt(rate / (1 - rate)) (here, 0.00032...)\n",
    "#     # noisy_X = tf.keras.layers.GaussianDropout(rate=1e-7)(X) # spatial dimension: 256\n",
    "#     # Note: (we could corrupt when training with cifar, but maybe not other dataset?)\n",
    "\n",
    "#     ds_flat = tf.keras.layers.Flatten()(X)\n",
    "\n",
    "# #     fc1 = tf.keras.layers.Dense(64 ** 2, activation='tanh')(ds_flat) # closer to original paper is: 128 ** 2\n",
    "# #     fc1 = tf.keras.layers.Dropout(0.05)(fc1)\n",
    "#     fc2 = tf.keras.layers.Dense(128 ** 2, activation='tanh')(ds_flat)\n",
    "\n",
    "#     fc_output = tf.keras.layers.Reshape([128, 128, 1])(fc2)\n",
    "\n",
    "#     conv1 = tf.keras.layers.Conv2D(64, (5, 5), strides=(1, 1), activation='relu', padding='same')(fc_output)\n",
    "    \n",
    "#     # L1 regularization to encourage sparsity\n",
    "#     conv2 = tf.keras.layers.Conv2D(64, (5, 5), strides=(1, 1), activation='relu', padding='same',\n",
    "#                                    activity_regularizer=tf.keras.regularizers.l1(1e-4))(conv1)\n",
    "\n",
    "#     Y_pred = tf.keras.layers.Conv2DTranspose(1, (7, 7), strides=1, activation='relu', padding='same')(conv2) # upsample to spatial dimension 256\n",
    "\n",
    "#     model = tf.keras.Model(inputs=X, outputs=Y_pred)\n",
    "\n",
    "#     return model"
   ]
  },
  {
   "cell_type": "code",
   "execution_count": 21,
   "metadata": {},
   "outputs": [],
   "source": [
    "def load_uncompiled_automap_model():\n",
    "    \n",
    "    # this one's solid, but I believe we'll need a few hours to train it.\n",
    "    \n",
    "    N = 128\n",
    "    F = 128\n",
    "    X = tf.keras.layers.Input(shape=(N, N, 2))\n",
    "\n",
    "#     Half-assed data augmentation\n",
    "#     noisy_X = tf.keras.layers.GaussianNoise(stddev=1e-7)(X) # shape: (N, N, 2)\n",
    "\n",
    "    # These layers all halve the spatial dimension (but also each output F channels)\n",
    "    conv1 = tf.keras.layers.Conv2D(F, (3, 3), strides=(1, 1), activation='relu', padding='same')(X)\n",
    "    pool1 = tf.keras.layers.AveragePooling2D(pool_size=2)(conv1) # spatial dim: N / 2\n",
    "\n",
    "    conv2 = tf.keras.layers.Conv2D(F, (3, 3), strides=(1, 1), activation='relu', padding='same')(pool1)\n",
    "    pool2 = tf.keras.layers.AveragePooling2D(pool_size=2)(conv2) # spatial dim: N / 4\n",
    "\n",
    "    conv3 = tf.keras.layers.Conv2D(F, (3, 3), strides=(1, 1), activation='relu', padding='same')(pool2)\n",
    "    pool3 = tf.keras.layers.AveragePooling2D(pool_size=2)(conv3) # spatial dim: N / 8\n",
    "\n",
    "    conv4 = tf.keras.layers.Conv2D(F, (3, 3), strides=(1, 1), activation='relu', padding='same')(pool3)\n",
    "    pool4 = tf.keras.layers.AveragePooling2D(pool_size=2)(conv4) # spatial dim: N / 16\n",
    "\n",
    "    conv5 = tf.keras.layers.Conv2D(F, (3, 3), strides=(1, 1), activation='relu', padding='same')(pool4)\n",
    "    pool5 = tf.keras.layers.AveragePooling2D(pool_size=2)(conv5) # spatial dim: N / 32\n",
    "\n",
    "    # A \"FC-like\" layer for fun before we do upsampling\n",
    "    conv7 = tf.keras.layers.Conv2D(F, (1, 1), strides=(1, 1), activation='relu', padding='same')(pool5) # spatial dim: 4\n",
    "\n",
    "    # These transposed convolutions upsample spatial dimension by 2\n",
    "    t_conv1 = tf.keras.layers.Conv2DTranspose(F, 4, strides=2, activation='relu', padding='same')(conv7) # spatial dim: 8\n",
    "    t_conv2 = tf.keras.layers.Conv2DTranspose(F, 4, strides=2, activation='relu', padding='same')(t_conv1) # spatial dim: 16\n",
    "    t_conv3 = tf.keras.layers.Conv2DTranspose(F, 4, strides=2, activation='relu', padding='same')(t_conv2) # spatial dim: 32\n",
    "    t_conv4 = tf.keras.layers.Conv2DTranspose(F, 4, strides=2, activation='relu', padding='same')(t_conv3) # spatial dim: 64\n",
    "    \n",
    "    Y_pred = tf.keras.layers.Conv2DTranspose(1, 4, strides=2, activation='relu', padding='same')(t_conv4) # spatial dim: 128\n",
    "\n",
    "    model = tf.keras.Model(inputs=X, outputs=Y_pred)\n",
    "\n",
    "    return model"
   ]
  },
  {
   "cell_type": "code",
   "execution_count": 22,
   "metadata": {},
   "outputs": [],
   "source": [
    "def lr_schedule(epoch):\n",
    "    initial_lr = 2e-4\n",
    "    if epoch < 3:\n",
    "        return initial_lr #2e-4\n",
    "    elif epoch >= 3 and epoch < 20:\n",
    "        return initial_lr / 2e0 #1e-4\n",
    "    elif epoch >= 20 and epoch < 40:\n",
    "        return initial_lr / 2e1 #1e-5\n",
    "    elif epoch >= 40 and epoch < 60:\n",
    "        return initial_lr / 4e0 #5e-5\n",
    "    elif epoch >= 60 and epoch < 80:\n",
    "        return initial_lr / 2e1 #1e-5\n",
    "    elif epoch >= 80 and epoch < 100:\n",
    "        return initial_lr / 2e2 #1e-6\n",
    "    else:\n",
    "        return initial_lr / 2e3 #1e-7"
   ]
  },
  {
   "cell_type": "code",
   "execution_count": 23,
   "metadata": {},
   "outputs": [],
   "source": [
    "def load_compiled_automap_model():\n",
    "    multi_gpu = False\n",
    "    if multi_gpu:\n",
    "        # Distribute training across GPUs (each GPU receives identical updates to weights but different batches w/\n",
    "        # mirrored strategy). Restricts callbacks we can use\n",
    "        mirrored_strategy = tf.distribute.MirroredStrategy()\n",
    "        with mirrored_strategy.scope():\n",
    "            model = load_uncompiled_automap_model()\n",
    "            optimizer = tf.keras.optimizers.Adam()\n",
    "            model.compile(loss='mse', optimizer=optimizer, metrics=[mean_PSNR])\n",
    "    else:\n",
    "        model = load_uncompiled_automap_model()\n",
    "        optimizer = tf.keras.optimizers.Adam()\n",
    "        model.compile(loss='mse', optimizer=optimizer, metrics=[mean_PSNR])\n",
    "    return model"
   ]
  },
  {
   "cell_type": "code",
   "execution_count": 24,
   "metadata": {},
   "outputs": [],
   "source": [
    "model = load_compiled_automap_model()"
   ]
  },
  {
   "cell_type": "code",
   "execution_count": 25,
   "metadata": {},
   "outputs": [
    {
     "name": "stdout",
     "output_type": "stream",
     "text": [
      "Model: \"model\"\n",
      "_________________________________________________________________\n",
      "Layer (type)                 Output Shape              Param #   \n",
      "=================================================================\n",
      "input_1 (InputLayer)         [(None, 128, 128, 2)]     0         \n",
      "_________________________________________________________________\n",
      "conv2d (Conv2D)              (None, 128, 128, 128)     2432      \n",
      "_________________________________________________________________\n",
      "average_pooling2d (AveragePo (None, 64, 64, 128)       0         \n",
      "_________________________________________________________________\n",
      "conv2d_1 (Conv2D)            (None, 64, 64, 128)       147584    \n",
      "_________________________________________________________________\n",
      "average_pooling2d_1 (Average (None, 32, 32, 128)       0         \n",
      "_________________________________________________________________\n",
      "conv2d_2 (Conv2D)            (None, 32, 32, 128)       147584    \n",
      "_________________________________________________________________\n",
      "average_pooling2d_2 (Average (None, 16, 16, 128)       0         \n",
      "_________________________________________________________________\n",
      "conv2d_3 (Conv2D)            (None, 16, 16, 128)       147584    \n",
      "_________________________________________________________________\n",
      "average_pooling2d_3 (Average (None, 8, 8, 128)         0         \n",
      "_________________________________________________________________\n",
      "conv2d_4 (Conv2D)            (None, 8, 8, 128)         147584    \n",
      "_________________________________________________________________\n",
      "average_pooling2d_4 (Average (None, 4, 4, 128)         0         \n",
      "_________________________________________________________________\n",
      "conv2d_5 (Conv2D)            (None, 4, 4, 128)         16512     \n",
      "_________________________________________________________________\n",
      "conv2d_transpose (Conv2DTran (None, 8, 8, 128)         262272    \n",
      "_________________________________________________________________\n",
      "conv2d_transpose_1 (Conv2DTr (None, 16, 16, 128)       262272    \n",
      "_________________________________________________________________\n",
      "conv2d_transpose_2 (Conv2DTr (None, 32, 32, 128)       262272    \n",
      "_________________________________________________________________\n",
      "conv2d_transpose_3 (Conv2DTr (None, 64, 64, 128)       262272    \n",
      "_________________________________________________________________\n",
      "conv2d_transpose_4 (Conv2DTr (None, 128, 128, 1)       2049      \n",
      "=================================================================\n",
      "Total params: 1,660,417\n",
      "Trainable params: 1,660,417\n",
      "Non-trainable params: 0\n",
      "_________________________________________________________________\n"
     ]
    }
   ],
   "source": [
    "model.summary()"
   ]
  },
  {
   "cell_type": "markdown",
   "metadata": {},
   "source": [
    "# Training"
   ]
  },
  {
   "cell_type": "code",
   "execution_count": 26,
   "metadata": {},
   "outputs": [],
   "source": [
    "# Show reconstructions during training\n",
    "\n",
    "def plot_fft_reconstructions(batch, logs):\n",
    "    plot_frequency = 2500\n",
    "    \n",
    "    if batch % plot_frequency != 0:\n",
    "        return\n",
    "    \n",
    "    for dataset_batch, name in first_batches():\n",
    "        x, y = dataset_batch\n",
    "        y = y.numpy()\n",
    "        y_pred = model.predict(x)\n",
    "\n",
    "        with file_writer.as_default():\n",
    "            for i in range(min(len(y), 5)):\n",
    "                prediction, ground_truth = y_pred[i:i + 1, ...], y[i:i + 1, ...]\n",
    "                tf.summary.image(\"{} Image {} (Prediction)\".format(name, i), prediction, max_outputs=1, step=batch)\n",
    "                tf.summary.image(\"{} Image {} (Ground Truth)\".format(name, i), ground_truth, max_outputs=1, step=batch)"
   ]
  },
  {
   "cell_type": "code",
   "execution_count": 27,
   "metadata": {},
   "outputs": [],
   "source": [
    "# Show activation histograms\n",
    "\n",
    "def layer_activations(inputs):\n",
    "    layers = model.layers\n",
    "    names = [l.name for l in layers]\n",
    "    input_tensor = layers[0].input\n",
    "    outputs = [l.output for l in layers]\n",
    "    \n",
    "    get_activations = tf.keras.backend.function(input_tensor, outputs)\n",
    "    activations = get_activations(inputs=inputs)\n",
    "    \n",
    "    return list(zip(names, activations))\n",
    "\n",
    "def plot_activations(batch, logs):\n",
    "    plot_frequency = 2500\n",
    "    \n",
    "    if batch % plot_frequency != 0:\n",
    "        return\n",
    "\n",
    "    with file_writer.as_default():\n",
    "        for dataset_batch, stage in first_batches():\n",
    "            for layer_name, layer_activation in layer_activations(dataset_batch):\n",
    "                tf.summary.histogram('{}/activations/{}'.format(layer_name, stage.lower()), layer_activation,\n",
    "                                    step=batch)\n"
   ]
  },
  {
   "cell_type": "code",
   "execution_count": 28,
   "metadata": {},
   "outputs": [],
   "source": [
    "# Clear logs and models if necessary\n",
    "# !rm -r /home/ubuntu/cs230/logs\n",
    "# !rm -r /home/ubuntu/cs230/models"
   ]
  },
  {
   "cell_type": "code",
   "execution_count": 29,
   "metadata": {},
   "outputs": [],
   "source": [
    "# Define where logs will be saved\n",
    "\n",
    "logdir = os.path.join('/home/ubuntu/cs230/logs', datetime.now().strftime(\"%Y-%m-%d_%H:%M:%S\"))\n",
    "file_writer = tf.summary.create_file_writer(os.path.join(logdir, 'metrics'))"
   ]
  },
  {
   "cell_type": "markdown",
   "metadata": {},
   "source": [
    "### Callbacks to use in various stages of training"
   ]
  },
  {
   "cell_type": "code",
   "execution_count": 30,
   "metadata": {},
   "outputs": [],
   "source": [
    "# Callback for printing the LR at the end of each epoch.\n",
    "\n",
    "class PrintAndLogLR(tf.keras.callbacks.Callback):\n",
    "    def on_epoch_end(self, epoch, logs=None):\n",
    "        with file_writer.as_default():\n",
    "            current_lr = model.optimizer.lr.numpy()\n",
    "            tf.summary.scalar('learning rate', data=current_lr, step=epoch)\n",
    "        print('\\nLearning rate for epoch {} is {}'.format(epoch + 1, current_lr))\n",
    "\n",
    "plot_images_callback = tf.keras.callbacks.LambdaCallback(on_batch_end=plot_fft_reconstructions)\n",
    "\n",
    "plot_activations_callback = tf.keras.callbacks.LambdaCallback(on_batch_end=plot_activations)\n",
    "\n",
    "tensorboard_callback = tf.keras.callbacks.TensorBoard(log_dir=logdir, histogram_freq=1, update_freq=2500,\n",
    "                                                      profile_batch=0) # workaround for: https://github.com/tensorflow/tensorboard/issues/2084\n",
    "\n",
    "set_lr_callback = tf.keras.callbacks.LearningRateScheduler(lr_schedule)\n",
    "\n",
    "reduce_lr_callback = tf.keras.callbacks.ReduceLROnPlateau(monitor='val_loss', factor=0.25,\n",
    "                              patience=2, min_lr=1e-8)\n",
    "\n",
    "# Callback for checkpointing model\n",
    "\n",
    "# include the epoch in the file name. (uses `str.format`)\n",
    "checkpoint_path = \"/home/ubuntu/cs230/models/automap_fastmri/cp-{epoch:04d}.ckpt\"\n",
    "checkpoint_dir = os.path.dirname(checkpoint_path)\n",
    "checkpoint_callback = tf.keras.callbacks.ModelCheckpoint(\n",
    "    checkpoint_path, verbose=1, save_weights_only=True,\n",
    "    # Save every K-batches\n",
    "    save_freq=int(5e5))\n",
    "model.save_weights(checkpoint_path.format(epoch=0))\n",
    "\n",
    "callbacks = [tensorboard_callback, plot_images_callback, plot_activations_callback,\n",
    "             set_lr_callback, reduce_lr_callback, PrintAndLogLR(), checkpoint_callback]"
   ]
  },
  {
   "cell_type": "markdown",
   "metadata": {},
   "source": [
    "### Begin training and open Tensorboard to monitor"
   ]
  },
  {
   "cell_type": "code",
   "execution_count": null,
   "metadata": {
    "scrolled": true
   },
   "outputs": [
    {
     "name": "stdout",
     "output_type": "stream",
     "text": [
      "Epoch 1/100\n"
     ]
    },
    {
     "name": "stderr",
     "output_type": "stream",
     "text": [
      "WARNING: Logging before flag parsing goes to stderr.\n",
      "W0606 21:38:35.974807 140547443660544 callbacks.py:241] Method (on_train_batch_end) is slow compared to the batch update (3.264907). Check your callbacks.\n"
     ]
    },
    {
     "name": "stdout",
     "output_type": "stream",
     "text": [
      "\r",
      "      1/Unknown - 7s 7s/step - loss: 0.0706 - mean_PSNR: 12.0008"
     ]
    },
    {
     "name": "stderr",
     "output_type": "stream",
     "text": [
      "W0606 21:38:36.013584 140547443660544 callbacks.py:241] Method (on_train_batch_end) is slow compared to the batch update (1.632484). Check your callbacks.\n"
     ]
    },
    {
     "name": "stdout",
     "output_type": "stream",
     "text": [
      "   1086/Unknown - 75s 69ms/step - loss: 0.0195 - mean_PSNR: 17.7913\n",
      "Learning rate for epoch 1 is 0.00019999999494757503\n",
      "1086/1086 [==============================] - 81s 75ms/step - loss: 0.0195 - mean_PSNR: 17.7913 - val_loss: 0.0000e+00 - val_mean_PSNR: 0.0000e+00\n",
      "Epoch 2/100\n"
     ]
    },
    {
     "name": "stderr",
     "output_type": "stream",
     "text": [
      "W0606 21:39:53.852391 140547443660544 callbacks.py:241] Method (on_train_batch_end) is slow compared to the batch update (2.976913). Check your callbacks.\n"
     ]
    },
    {
     "name": "stdout",
     "output_type": "stream",
     "text": [
      "\r",
      "   1/1086 [..............................] - ETA: 59:51 - loss: 0.0150 - mean_PSNR: 18.7190"
     ]
    },
    {
     "name": "stderr",
     "output_type": "stream",
     "text": [
      "W0606 21:39:53.890290 140547443660544 callbacks.py:241] Method (on_train_batch_end) is slow compared to the batch update (1.488482). Check your callbacks.\n"
     ]
    },
    {
     "name": "stdout",
     "output_type": "stream",
     "text": [
      "1085/1086 [============================>.] - ETA: 0s - loss: 0.0133 - mean_PSNR: 19.2221\n",
      "Learning rate for epoch 2 is 0.00019999999494757503\n",
      "1086/1086 [==============================] - 76s 70ms/step - loss: 0.0133 - mean_PSNR: 19.2228 - val_loss: 0.0124 - val_mean_PSNR: 19.5356\n",
      "Epoch 3/100\n"
     ]
    },
    {
     "name": "stderr",
     "output_type": "stream",
     "text": [
      "W0606 21:41:09.895382 140547443660544 callbacks.py:241] Method (on_train_batch_end) is slow compared to the batch update (2.993341). Check your callbacks.\n"
     ]
    },
    {
     "name": "stdout",
     "output_type": "stream",
     "text": [
      "\r",
      "   1/1086 [..............................] - ETA: 59:38 - loss: 0.0130 - mean_PSNR: 19.2954"
     ]
    },
    {
     "name": "stderr",
     "output_type": "stream",
     "text": [
      "W0606 21:41:09.933381 140547443660544 callbacks.py:241] Method (on_train_batch_end) is slow compared to the batch update (1.496698). Check your callbacks.\n"
     ]
    },
    {
     "name": "stdout",
     "output_type": "stream",
     "text": [
      "1085/1086 [============================>.] - ETA: 0s - loss: 0.0117 - mean_PSNR: 19.7757\n",
      "Learning rate for epoch 3 is 0.00019999999494757503\n",
      "1086/1086 [==============================] - 76s 70ms/step - loss: 0.0117 - mean_PSNR: 19.7763 - val_loss: 0.0113 - val_mean_PSNR: 19.9269\n",
      "Epoch 4/100\n"
     ]
    },
    {
     "name": "stderr",
     "output_type": "stream",
     "text": [
      "W0606 21:42:26.223042 140547443660544 callbacks.py:241] Method (on_train_batch_end) is slow compared to the batch update (2.980802). Check your callbacks.\n"
     ]
    },
    {
     "name": "stdout",
     "output_type": "stream",
     "text": [
      "\r",
      "   1/1086 [..............................] - ETA: 59:25 - loss: 0.0117 - mean_PSNR: 19.7435"
     ]
    },
    {
     "name": "stderr",
     "output_type": "stream",
     "text": [
      "W0606 21:42:26.260626 140547443660544 callbacks.py:241] Method (on_train_batch_end) is slow compared to the batch update (1.490428). Check your callbacks.\n"
     ]
    },
    {
     "name": "stdout",
     "output_type": "stream",
     "text": [
      "1085/1086 [============================>.] - ETA: 0s - loss: 0.0107 - mean_PSNR: 20.1868\n",
      "Learning rate for epoch 4 is 9.999999747378752e-05\n",
      "1086/1086 [==============================] - 76s 70ms/step - loss: 0.0107 - mean_PSNR: 20.1873 - val_loss: 0.0106 - val_mean_PSNR: 20.1967\n",
      "Epoch 5/100\n"
     ]
    },
    {
     "name": "stderr",
     "output_type": "stream",
     "text": [
      "W0606 21:43:42.669482 140547443660544 callbacks.py:241] Method (on_train_batch_end) is slow compared to the batch update (2.952184). Check your callbacks.\n"
     ]
    },
    {
     "name": "stdout",
     "output_type": "stream",
     "text": [
      "\r",
      "   1/1086 [..............................] - ETA: 58:50 - loss: 0.0109 - mean_PSNR: 20.0613"
     ]
    },
    {
     "name": "stderr",
     "output_type": "stream",
     "text": [
      "W0606 21:43:42.706622 140547443660544 callbacks.py:241] Method (on_train_batch_end) is slow compared to the batch update (1.476120). Check your callbacks.\n"
     ]
    },
    {
     "name": "stdout",
     "output_type": "stream",
     "text": [
      "1085/1086 [============================>.] - ETA: 0s - loss: 0.0102 - mean_PSNR: 20.3667\n",
      "Learning rate for epoch 5 is 9.999999747378752e-05\n",
      "1086/1086 [==============================] - 76s 70ms/step - loss: 0.0102 - mean_PSNR: 20.3673 - val_loss: 0.0103 - val_mean_PSNR: 20.3068\n",
      "Epoch 6/100\n"
     ]
    },
    {
     "name": "stderr",
     "output_type": "stream",
     "text": [
      "W0606 21:44:59.116957 140547443660544 callbacks.py:241] Method (on_train_batch_end) is slow compared to the batch update (2.978301). Check your callbacks.\n"
     ]
    },
    {
     "name": "stdout",
     "output_type": "stream",
     "text": [
      "\r",
      "   1/1086 [..............................] - ETA: 59:16 - loss: 0.0106 - mean_PSNR: 20.1824"
     ]
    },
    {
     "name": "stderr",
     "output_type": "stream",
     "text": [
      "W0606 21:44:59.154178 140547443660544 callbacks.py:241] Method (on_train_batch_end) is slow compared to the batch update (1.489180). Check your callbacks.\n"
     ]
    },
    {
     "name": "stdout",
     "output_type": "stream",
     "text": [
      "1085/1086 [============================>.] - ETA: 0s - loss: 0.0099 - mean_PSNR: 20.5142\n",
      "Learning rate for epoch 6 is 9.999999747378752e-05\n",
      "1086/1086 [==============================] - 76s 70ms/step - loss: 0.0099 - mean_PSNR: 20.5148 - val_loss: 0.0101 - val_mean_PSNR: 20.4136\n",
      "Epoch 7/100\n"
     ]
    },
    {
     "name": "stderr",
     "output_type": "stream",
     "text": [
      "W0606 21:46:15.572061 140547443660544 callbacks.py:241] Method (on_train_batch_end) is slow compared to the batch update (2.967578). Check your callbacks.\n"
     ]
    },
    {
     "name": "stdout",
     "output_type": "stream",
     "text": [
      "\r",
      "   1/1086 [..............................] - ETA: 59:02 - loss: 0.0103 - mean_PSNR: 20.2957"
     ]
    },
    {
     "name": "stderr",
     "output_type": "stream",
     "text": [
      "W0606 21:46:15.609319 140547443660544 callbacks.py:241] Method (on_train_batch_end) is slow compared to the batch update (1.483822). Check your callbacks.\n"
     ]
    },
    {
     "name": "stdout",
     "output_type": "stream",
     "text": [
      "1085/1086 [============================>.] - ETA: 0s - loss: 0.0096 - mean_PSNR: 20.6455\n",
      "Learning rate for epoch 7 is 9.999999747378752e-05\n",
      "1086/1086 [==============================] - 76s 70ms/step - loss: 0.0096 - mean_PSNR: 20.6460 - val_loss: 0.0098 - val_mean_PSNR: 20.5234\n",
      "Epoch 8/100\n"
     ]
    },
    {
     "name": "stderr",
     "output_type": "stream",
     "text": [
      "W0606 21:47:31.852261 140547443660544 callbacks.py:241] Method (on_train_batch_end) is slow compared to the batch update (2.955907). Check your callbacks.\n"
     ]
    },
    {
     "name": "stdout",
     "output_type": "stream",
     "text": [
      "\r",
      "   1/1086 [..............................] - ETA: 58:56 - loss: 0.0100 - mean_PSNR: 20.4127"
     ]
    },
    {
     "name": "stderr",
     "output_type": "stream",
     "text": [
      "W0606 21:47:31.889407 140547443660544 callbacks.py:241] Method (on_train_batch_end) is slow compared to the batch update (1.477981). Check your callbacks.\n"
     ]
    },
    {
     "name": "stdout",
     "output_type": "stream",
     "text": [
      "1085/1086 [============================>.] - ETA: 0s - loss: 0.0093 - mean_PSNR: 20.7627\n",
      "Learning rate for epoch 8 is 9.999999747378752e-05\n",
      "1086/1086 [==============================] - 76s 70ms/step - loss: 0.0093 - mean_PSNR: 20.7632 - val_loss: 0.0096 - val_mean_PSNR: 20.6187\n",
      "Epoch 9/100\n"
     ]
    },
    {
     "name": "stderr",
     "output_type": "stream",
     "text": [
      "W0606 21:48:48.081212 140547443660544 callbacks.py:241] Method (on_train_batch_end) is slow compared to the batch update (3.076541). Check your callbacks.\n"
     ]
    },
    {
     "name": "stdout",
     "output_type": "stream",
     "text": [
      "\r",
      "   1/1086 [..............................] - ETA: 1:01:21 - loss: 0.0097 - mean_PSNR: 20.5253"
     ]
    },
    {
     "name": "stderr",
     "output_type": "stream",
     "text": [
      "W0606 21:48:48.119153 140547443660544 callbacks.py:241] Method (on_train_batch_end) is slow compared to the batch update (1.538642). Check your callbacks.\n"
     ]
    },
    {
     "name": "stdout",
     "output_type": "stream",
     "text": [
      "1085/1086 [============================>.] - ETA: 0s - loss: 0.0091 - mean_PSNR: 20.8674\n",
      "Learning rate for epoch 9 is 9.999999747378752e-05\n",
      "1086/1086 [==============================] - 76s 70ms/step - loss: 0.0091 - mean_PSNR: 20.8679 - val_loss: 0.0094 - val_mean_PSNR: 20.7042\n",
      "Epoch 10/100\n"
     ]
    },
    {
     "name": "stderr",
     "output_type": "stream",
     "text": [
      "W0606 21:50:04.214946 140547443660544 callbacks.py:241] Method (on_train_batch_end) is slow compared to the batch update (3.110743). Check your callbacks.\n"
     ]
    },
    {
     "name": "stdout",
     "output_type": "stream",
     "text": [
      "\r",
      "   1/1086 [..............................] - ETA: 1:01:28 - loss: 0.0095 - mean_PSNR: 20.6336"
     ]
    },
    {
     "name": "stderr",
     "output_type": "stream",
     "text": [
      "W0606 21:50:04.252813 140547443660544 callbacks.py:241] Method (on_train_batch_end) is slow compared to the batch update (1.555403). Check your callbacks.\n"
     ]
    },
    {
     "name": "stdout",
     "output_type": "stream",
     "text": [
      "1085/1086 [============================>.] - ETA: 0s - loss: 0.0089 - mean_PSNR: 20.9643\n",
      "Learning rate for epoch 10 is 9.999999747378752e-05\n",
      "1086/1086 [==============================] - 76s 70ms/step - loss: 0.0089 - mean_PSNR: 20.9648 - val_loss: 0.0093 - val_mean_PSNR: 20.7809\n",
      "Epoch 11/100\n"
     ]
    },
    {
     "name": "stderr",
     "output_type": "stream",
     "text": [
      "W0606 21:51:20.295321 140547443660544 callbacks.py:241] Method (on_train_batch_end) is slow compared to the batch update (3.064666). Check your callbacks.\n"
     ]
    },
    {
     "name": "stdout",
     "output_type": "stream",
     "text": [
      "\r",
      "   1/1086 [..............................] - ETA: 1:01:04 - loss: 0.0092 - mean_PSNR: 20.7429"
     ]
    },
    {
     "name": "stderr",
     "output_type": "stream",
     "text": [
      "W0606 21:51:20.332846 140547443660544 callbacks.py:241] Method (on_train_batch_end) is slow compared to the batch update (1.532359). Check your callbacks.\n"
     ]
    },
    {
     "name": "stdout",
     "output_type": "stream",
     "text": [
      "1085/1086 [============================>.] - ETA: 0s - loss: 0.0087 - mean_PSNR: 21.0533\n",
      "Learning rate for epoch 11 is 9.999999747378752e-05\n",
      "1086/1086 [==============================] - 76s 70ms/step - loss: 0.0087 - mean_PSNR: 21.0539 - val_loss: 0.0091 - val_mean_PSNR: 20.8476\n",
      "Epoch 12/100\n"
     ]
    },
    {
     "name": "stderr",
     "output_type": "stream",
     "text": [
      "W0606 21:52:36.464633 140547443660544 callbacks.py:241] Method (on_train_batch_end) is slow compared to the batch update (3.092525). Check your callbacks.\n"
     ]
    },
    {
     "name": "stdout",
     "output_type": "stream",
     "text": [
      "\r",
      "   1/1086 [..............................] - ETA: 1:01:58 - loss: 0.0090 - mean_PSNR: 20.8320"
     ]
    },
    {
     "name": "stderr",
     "output_type": "stream",
     "text": [
      "W0606 21:52:36.501783 140547443660544 callbacks.py:241] Method (on_train_batch_end) is slow compared to the batch update (1.546293). Check your callbacks.\n"
     ]
    },
    {
     "name": "stdout",
     "output_type": "stream",
     "text": [
      " 899/1086 [=======================>......] - ETA: 12s - loss: 0.0086 - mean_PSNR: 21.1273"
     ]
    }
   ],
   "source": [
    "training_history = model.fit(\n",
    "    train_dataset,\n",
    "    validation_data=dev_dataset,\n",
    "    verbose=1, # set to 0 to suppress chatty output and use Tensorboard instead\n",
    "    epochs=100,\n",
    "    callbacks=callbacks,\n",
    "    use_multiprocessing=True) # see if speeds things up"
   ]
  },
  {
   "cell_type": "markdown",
   "metadata": {},
   "source": [
    "### Save model (to do: make callback)"
   ]
  },
  {
   "cell_type": "code",
   "execution_count": null,
   "metadata": {},
   "outputs": [],
   "source": [
    "# # # Uncomment to save model\n",
    "# saved_model_path = 'automap_our_dataset_original_paper_model_with_up_down_sampling_single_GPU_small_FC_v6'\n",
    "# model.save(saved_model_path)"
   ]
  },
  {
   "cell_type": "markdown",
   "metadata": {},
   "source": [
    "## Evaluate model"
   ]
  },
  {
   "cell_type": "code",
   "execution_count": null,
   "metadata": {},
   "outputs": [],
   "source": [
    "model.evaluate(test_dataset, verbose=1)\n",
    "# model.evaluate(dev_dataset, verbose=1)\n",
    "# model.evaluate(train_dataset, verbose=1)"
   ]
  },
  {
   "cell_type": "markdown",
   "metadata": {},
   "source": [
    "### Plot training history (but better viewed in Tensorboard)"
   ]
  },
  {
   "cell_type": "code",
   "execution_count": null,
   "metadata": {},
   "outputs": [],
   "source": [
    "plt.figure()\n",
    "plt.plot(training_history.history[\"loss\"], label=\"Train\")\n",
    "plt.plot(training_history.history[\"val_loss\"], label=\"Test\")\n",
    "plt.xlabel(\"Epoch\")\n",
    "plt.ylabel(\"Loss\")\n",
    "plt.legend(loc=\"center right\")"
   ]
  },
  {
   "cell_type": "code",
   "execution_count": null,
   "metadata": {},
   "outputs": [],
   "source": [
    "plt.figure()\n",
    "plt.plot(training_history.history[\"mean_PSNR\"], label=\"Train\")\n",
    "plt.plot(training_history.history[\"val_mean_PSNR\"], label=\"Test\")\n",
    "plt.xlabel(\"Epoch\")\n",
    "plt.ylabel(\"µ ( PSNR ) \")\n",
    "plt.legend(loc=\"center right\")"
   ]
  },
  {
   "cell_type": "code",
   "execution_count": null,
   "metadata": {},
   "outputs": [],
   "source": [
    "# Predict on a test batch\n",
    "\n",
    "# batch = next(iter(test_dataset))\n",
    "\n",
    "x, y = first_test_batch\n",
    "x, y = x.numpy(), y.numpy()\n",
    "y_pred = model.predict(x)\n",
    "\n",
    "# Inspect output\n",
    "\n",
    "for i in range(len(x)):\n",
    "\n",
    "    fft_mag = x[i, ..., 0]\n",
    "    fft_ang = x[i, ..., 1]\n",
    "    reconstruction = y_pred[i, ..., 0]\n",
    "    image = y[i, ..., 0]\n",
    "\n",
    "    MSE = utils.signal_processing.mean_square_error(reconstruction, image)\n",
    "    PSNR = utils.signal_processing.PSNR(reconstruction, image, max_value=max(image.max(), reconstruction.max()))\n",
    "\n",
    "    plt.subplot(2, 2, 1)\n",
    "    plt.title('Reconstruction (MSE: {:0.5f}, PSNR: {:0.5f})'.format(MSE, PSNR))\n",
    "    utils.plot.imshowgray(reconstruction)\n",
    "\n",
    "    plt.subplot(2, 2, 2)\n",
    "    plt.title('FFT (Magnitude)')\n",
    "    utils.plot.imshowfft(fft_mag)\n",
    "\n",
    "    plt.subplot(2, 2, 3)\n",
    "    plt.title('Expected reconstruction')\n",
    "    utils.plot.imshowgray(image)\n",
    "\n",
    "    plt.subplot(2, 2, 4)\n",
    "    plt.title('FFT (Phase)')\n",
    "    utils.plot.imshowgray(fft_ang)\n",
    "\n",
    "    plt.show()\n",
    "    break\n"
   ]
  },
  {
   "cell_type": "code",
   "execution_count": null,
   "metadata": {},
   "outputs": [],
   "source": [
    "utils.plot.imshowgray(y_pred[0].squeeze())"
   ]
  },
  {
   "cell_type": "code",
   "execution_count": null,
   "metadata": {},
   "outputs": [],
   "source": [
    "utils.plot.imshowgray(y[0].squeeze())"
   ]
  },
  {
   "cell_type": "code",
   "execution_count": null,
   "metadata": {},
   "outputs": [],
   "source": []
  },
  {
   "cell_type": "code",
   "execution_count": null,
   "metadata": {},
   "outputs": [],
   "source": []
  }
 ],
 "metadata": {
  "kernelspec": {
   "display_name": "Environment (conda_tensorflow_p36)",
   "language": "python",
   "name": "conda_tensorflow_p36"
  },
  "language_info": {
   "codemirror_mode": {
    "name": "ipython",
    "version": 3
   },
   "file_extension": ".py",
   "mimetype": "text/x-python",
   "name": "python",
   "nbconvert_exporter": "python",
   "pygments_lexer": "ipython3",
   "version": "3.6.5"
  }
 },
 "nbformat": 4,
 "nbformat_minor": 2
}
