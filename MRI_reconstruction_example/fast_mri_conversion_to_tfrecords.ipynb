{
 "cells": [
  {
   "cell_type": "markdown",
   "metadata": {},
   "source": [
    "# fastMRI\n",
    "Python 3.6+, Tensorflow 2.0.0-dev20190601"
   ]
  },
  {
   "cell_type": "code",
   "execution_count": 1,
   "metadata": {},
   "outputs": [],
   "source": [
    "%load_ext autoreload\n",
    "%autoreload 2"
   ]
  },
  {
   "cell_type": "code",
   "execution_count": 2,
   "metadata": {},
   "outputs": [],
   "source": [
    "import os, glob\n",
    "import h5py # for loading .h5 files\n",
    "import numpy as np\n",
    "import matplotlib.pyplot as plt\n",
    "%matplotlib inline"
   ]
  },
  {
   "cell_type": "code",
   "execution_count": 3,
   "metadata": {},
   "outputs": [],
   "source": [
    "plt.style.use('seaborn') # pretty matplotlib plots\n",
    "plt.rcParams[\"axes.grid\"] = False # don't show grid lines on plots by default\n",
    "plt.rcParams['figure.figsize'] = (12, 16) # increase size of subplots"
   ]
  },
  {
   "cell_type": "code",
   "execution_count": 4,
   "metadata": {},
   "outputs": [],
   "source": [
    "import cs230_project_utilities as utils"
   ]
  },
  {
   "cell_type": "code",
   "execution_count": 5,
   "metadata": {},
   "outputs": [],
   "source": [
    "# Sync data:\n",
    "# aws s3 sync s3://cs230-automap/data/fastmri/raw/singlecoil_val data/fastmri/raw/singlecoil_dev # (val -> dev) \n",
    "# aws s3 sync s3://cs230-automap/data/fastmri/raw/singlecoil_test data/fastmri/raw/singlecoil_test\n",
    "# aws s3 sync s3://cs230-automap/data/fastmri/raw/singlecoil_train data/fastmri/raw/singlecoil_train"
   ]
  },
  {
   "cell_type": "code",
   "execution_count": 6,
   "metadata": {},
   "outputs": [],
   "source": [
    "# Prepare local directories\n",
    "\n",
    "raw_dev_locations = '/home/ubuntu/cs230/data/fastmri/raw/singlecoil_dev/*.h5'\n",
    "raw_test_locations = '/home/ubuntu/cs230/data/fastmri/raw/singlecoil_test/*.h5'\n",
    "raw_train_locations = '/home/ubuntu/cs230/data/fastmri/raw/singlecoil_train/*.h5'\n",
    "\n",
    "dev_tfrecord_directory = '/home/ubuntu/cs230/data/fastmri/tfrecords/singlecoil_dev'\n",
    "test_tfrecord_directory = '/home/ubuntu/cs230/data/fastmri/tfrecords/singlecoil_test'\n",
    "train_tfrecord_directory = '/home/ubuntu/cs230/data/fastmri/tfrecords/singlecoil_train'\n",
    "\n",
    "!mkdir -p $dev_tfrecord_directory\n",
    "!mkdir -p $test_tfrecord_directory\n",
    "!mkdir -p $train_tfrecord_directory"
   ]
  },
  {
   "cell_type": "code",
   "execution_count": 7,
   "metadata": {
    "scrolled": false
   },
   "outputs": [
    {
     "name": "stdout",
     "output_type": "stream",
     "text": [
      "Converting file 0 at b'/home/ubuntu/cs230/data/fastmri/raw/singlecoil_dev/file1000480.h5' to TFRecords...\n",
      "(-63.14653+62.16977j)\n",
      "(217.87761+10.2137985j)\n",
      "(459.65585-46.80155j)\n",
      "(595.6106+1.9383194j)\n",
      "(963.24414-5.665181j)\n",
      "(1264.7317-16.838491j)\n",
      "(1420.0876+24.616272j)\n",
      "(1245.9425+81.51757j)\n",
      "(1592.6876+153.65582j)\n",
      "(1968.8383+135.7207j)\n",
      "(2921.9744+205.72762j)\n",
      "(2560.7778+125.6308j)\n",
      "(2296.1042+70.94549j)\n",
      "(3084.3604+122.96695j)\n",
      "(2535.907+114.88403j)\n",
      "(2429.8481+46.861343j)\n",
      "(2756.4983+115.0078j)\n",
      "(2918.4658+79.415665j)\n",
      "(2510.5247+0.059951782j)\n",
      "(2865.9614-44.127083j)\n",
      "(2752.3342+30.712692j)\n",
      "(2846.4355+52.4375j)\n",
      "(3224.933-4.411598j)\n",
      "(2958.021-97.042755j)\n",
      "(3369.8643-152.3348j)\n",
      "(3396.815-160.66156j)\n",
      "(4733.125-189.22583j)\n",
      "(4936.3125-241.91867j)\n",
      "(5652.161-271.67487j)\n",
      "(4761.418-271.93878j)\n",
      "(4677.969-367.2965j)\n",
      "(4567.0063-327.8805j)\n",
      "(4274.333-329.5691j)\n",
      "Converting file 1 at b'/home/ubuntu/cs230/data/fastmri/raw/singlecoil_dev/file1001170.h5' to TFRecords...\n",
      "(44.36642+219.1896j)\n",
      "(-53.862648+404.71863j)\n",
      "(-39.93154+674.98785j)\n",
      "(120.38964+927.7996j)\n",
      "(379.3158+1165.4197j)\n",
      "(576.71655+1398.416j)\n",
      "(812.9359+1644.5391j)\n",
      "(886.04333+1746.1542j)\n",
      "(841.51025+1570.0278j)\n",
      "(1031.2942+1563.1028j)\n",
      "(1316.2751+1633.2534j)\n",
      "(1683.4229+1830.3403j)\n",
      "(1847.3151+1627.7424j)\n",
      "(2217.5032+1646.0929j)\n",
      "(2727.7048+1727.933j)\n",
      "(3011.822+1606.7859j)\n",
      "(3266.662+1547.1967j)\n",
      "(3365.834+1453.8213j)\n",
      "(3444.6143+1300.624j)\n",
      "(3515.9004+995.87494j)\n",
      "(3566.854+878.70337j)\n",
      "(3469.7505+675.8407j)\n",
      "(3313.5894+461.9812j)\n",
      "(3137.6055+272.46533j)\n",
      "(3136.6655+181.55347j)\n",
      "(3039.1697+38.021698j)\n",
      "(2921.6125-56.240707j)\n",
      "(2826.2363-160.39005j)\n",
      "(2720.687-294.603j)\n",
      "(2729.5325-375.6141j)\n",
      "(2510.4343-430.27954j)\n",
      "(2390.916-424.16888j)\n",
      "(2139.8867-404.76733j)\n",
      "(2037.0885-455.07803j)\n",
      "(2211.2231-567.6695j)\n",
      "(2084.2673-576.7289j)\n",
      "(2094.6301-658.2254j)\n",
      "(2211.821-557.5609j)\n",
      "Converting file 2 at b'/home/ubuntu/cs230/data/fastmri/raw/singlecoil_dev/file1001643.h5' to TFRecords...\n",
      "(105.4115+456.99854j)\n",
      "(211.46448+712.5949j)\n",
      "(378.57266+950.31824j)\n",
      "(496.12994+1012.3947j)\n",
      "(696.7421+1069.0764j)\n",
      "(959.76465+1146.244j)\n",
      "(1116.2236+1098.6123j)\n",
      "(1238.5306+954.6345j)\n",
      "(1370.9003+947.4068j)\n",
      "(1866.1116+1048.7748j)\n",
      "(2447.0054+1201.25j)\n",
      "(2300.3872+942.4551j)\n",
      "(2792.5608+959.67163j)\n",
      "(2624.3765+694.3085j)\n",
      "(1808.5416+402.8325j)\n",
      "(2267.896+433.1206j)\n",
      "(2381.3872+379.35275j)\n",
      "(2172.3208+204.42157j)\n",
      "(2397.2925+129.21503j)\n",
      "(2681.0642+43.70404j)\n",
      "(2724.6936-124.62189j)\n",
      "(3371.5303-335.4909j)\n",
      "(3724.4814-433.19522j)\n",
      "(3327.3916-622.22644j)\n",
      "(2918.9634-688.35425j)\n",
      "(2850.3955-809.1992j)\n",
      "(2356.3613-727.7389j)\n",
      "(2372.409-952.37573j)\n",
      "(2381.1323-913.5746j)\n",
      "(2581.0576-1046.529j)\n",
      "(2503.8188-1115.6884j)\n",
      "(3112.5088-1428.5033j)\n",
      "(3086.506-1550.5315j)\n",
      "(2842.0532-1319.9323j)\n",
      "(2147.2656-1103.7705j)\n",
      "(3197.9482-1628.7305j)\n",
      "(2753.5078-1481.8137j)\n",
      "(2626.7783-1161.1162j)\n",
      "(2368.3408-907.34644j)\n",
      "(3119.9414-1081.5228j)\n",
      "(2380.6025-799.5963j)\n",
      "(2335.5117-784.765j)\n",
      "Converting file 3 at b'/home/ubuntu/cs230/data/fastmri/raw/singlecoil_dev/file1001184.h5' to TFRecords...\n"
     ]
    },
    {
     "ename": "KeyboardInterrupt",
     "evalue": "",
     "output_type": "error",
     "traceback": [
      "\u001b[0;31m---------------------------------------------------------------------------\u001b[0m",
      "\u001b[0;31mKeyboardInterrupt\u001b[0m                         Traceback (most recent call last)",
      "\u001b[0;32m<ipython-input-7-00111c039f6f>\u001b[0m in \u001b[0;36m<module>\u001b[0;34m()\u001b[0m\n\u001b[1;32m      6\u001b[0m                                                         \u001b[0mkeep_original_reconstruction\u001b[0m\u001b[0;34m=\u001b[0m\u001b[0;32mTrue\u001b[0m\u001b[0;34m,\u001b[0m\u001b[0;34m\u001b[0m\u001b[0m\n\u001b[1;32m      7\u001b[0m                                                         \u001b[0mperform_subsampling\u001b[0m\u001b[0;34m=\u001b[0m\u001b[0;32mFalse\u001b[0m\u001b[0;34m,\u001b[0m\u001b[0;34m\u001b[0m\u001b[0m\n\u001b[0;32m----> 8\u001b[0;31m                                                         perform_normalization=True)\n\u001b[0m",
      "\u001b[0;32m~/cs230/code/MRI_reconstruction_example/cs230_project_utilities/fastmri.py\u001b[0m in \u001b[0;36mconvert_fastmri_dataset_to_tfrecord_files\u001b[0;34m(raw_data_locations, tfrecord_directory, coils, keep_original_reconstruction, perform_subsampling, perform_normalization)\u001b[0m\n\u001b[1;32m    196\u001b[0m         \u001b[0;32mtry\u001b[0m\u001b[0;34m:\u001b[0m\u001b[0;34m\u001b[0m\u001b[0m\n\u001b[1;32m    197\u001b[0m             examples = _tf_examples_stored_in_h5_file(path, coils,keep_original_reconstruction,\n\u001b[0;32m--> 198\u001b[0;31m                                                       perform_subsampling, perform_normalization)\n\u001b[0m\u001b[1;32m    199\u001b[0m             \u001b[0;32mfor\u001b[0m \u001b[0mexample\u001b[0m \u001b[0;32min\u001b[0m \u001b[0mexamples\u001b[0m\u001b[0;34m:\u001b[0m\u001b[0;34m\u001b[0m\u001b[0m\n\u001b[1;32m    200\u001b[0m                 \u001b[0mwriter\u001b[0m\u001b[0;34m.\u001b[0m\u001b[0mwrite\u001b[0m\u001b[0;34m(\u001b[0m\u001b[0mexample\u001b[0m\u001b[0;34m.\u001b[0m\u001b[0mSerializeToString\u001b[0m\u001b[0;34m(\u001b[0m\u001b[0;34m)\u001b[0m\u001b[0;34m)\u001b[0m\u001b[0;34m\u001b[0m\u001b[0m\n",
      "\u001b[0;32m~/cs230/code/MRI_reconstruction_example/cs230_project_utilities/fastmri.py\u001b[0m in \u001b[0;36m_tf_examples_stored_in_h5_file\u001b[0;34m(path, coils, keep_original_reconstruction, perform_subsampling, perform_normalization)\u001b[0m\n\u001b[1;32m    161\u001b[0m     kspace_sequence = np.concatenate((np.expand_dims(real_sequence, axis=3),\n\u001b[1;32m    162\u001b[0m                                    np.expand_dims(imaginary_sequence, axis=3)),\n\u001b[0;32m--> 163\u001b[0;31m                                   axis=3)\n\u001b[0m\u001b[1;32m    164\u001b[0m     \u001b[0mh5_data\u001b[0m\u001b[0;34m[\u001b[0m\u001b[0;34m'kspace'\u001b[0m\u001b[0;34m]\u001b[0m \u001b[0;34m=\u001b[0m \u001b[0mkspace_sequence\u001b[0m\u001b[0;34m\u001b[0m\u001b[0m\n\u001b[1;32m    165\u001b[0m \u001b[0;34m\u001b[0m\u001b[0m\n",
      "\u001b[0;31mKeyboardInterrupt\u001b[0m: "
     ]
    }
   ],
   "source": [
    "# Run conversion\n",
    "\n",
    "utils.fastmri.convert_fastmri_dataset_to_tfrecord_files(raw_dev_locations,\n",
    "                                                        dev_tfrecord_directory,\n",
    "                                                        coils='single',\n",
    "                                                        keep_original_reconstruction=True,\n",
    "                                                        perform_subsampling=False,\n",
    "                                                        perform_normalization=True)"
   ]
  },
  {
   "cell_type": "code",
   "execution_count": null,
   "metadata": {
    "scrolled": false
   },
   "outputs": [],
   "source": [
    "utils.fastmri.convert_fastmri_dataset_to_tfrecord_files(raw_test_locations,\n",
    "                                                        test_tfrecord_directory,\n",
    "                                                        coils='single',\n",
    "                                                        keep_original_reconstruction=False,\n",
    "                                                        perform_subsampling=False,\n",
    "                                                        perform_normalization=True)"
   ]
  },
  {
   "cell_type": "code",
   "execution_count": null,
   "metadata": {
    "scrolled": true
   },
   "outputs": [],
   "source": [
    "utils.fastmri.convert_fastmri_dataset_to_tfrecord_files(raw_train_locations,\n",
    "                                                        train_tfrecord_directory,\n",
    "                                                        coils='single',\n",
    "                                                        keep_original_reconstruction=False,\n",
    "                                                        perform_subsampling=False,\n",
    "                                                        perform_normalization=True)"
   ]
  },
  {
   "cell_type": "code",
   "execution_count": null,
   "metadata": {},
   "outputs": [],
   "source": [
    "# Sync TFRecords to s3\n",
    "# aws s3 sync /home/ubuntu/cs230/data/fastmri/tfrecords/singlecoil_dev s3://cs230-automap/data/fastmri/tfrecords/singlecoil_dev\n",
    "# aws s3 sync /home/ubuntu/cs230/data/fastmri/tfrecords/singlecoil_test s3://cs230-automap/data/fastmri/tfrecords/singlecoil_test\n",
    "# aws s3 sync /home/ubuntu/cs230/data/fastmri/tfrecords/singlecoil_train s3://cs230-automap/data/fastmri/tfrecords/singlecoil_train"
   ]
  },
  {
   "cell_type": "markdown",
   "metadata": {},
   "source": [
    "# Inspect dev data"
   ]
  },
  {
   "cell_type": "code",
   "execution_count": null,
   "metadata": {
    "scrolled": false
   },
   "outputs": [],
   "source": [
    "# Load data\n",
    "\n",
    "data_locations = os.path.join(dev_tfrecord_directory, 'shard-0.tfrecord')\n",
    "dataset = utils.fastmri.load_dataset(data_locations,\n",
    "                                     batch_size=8,\n",
    "                                     shuffle_buffer_size=40,\n",
    "                                     load_original_reconstruction=False,\n",
    "                                     include_all_parsed_features=False,\n",
    "                                     ignore_errors=True,\n",
    "                                     perform_data_augmentation=False)\n",
    "\n",
    "# Get first batch\n",
    "batch = next(iter(dataset))\n",
    "x, y = batch\n",
    "x, y = x[0].numpy().squeeze(), y[0].numpy().squeeze()\n",
    "\n",
    "\n",
    "# For visualization, combine 2 channels of complex tensor into single channel\n",
    "x = utils.fastmri._combine_two_channels_of_complex_tensor(x).numpy()\n",
    "\n",
    "x.shape, y.shape"
   ]
  },
  {
   "cell_type": "code",
   "execution_count": null,
   "metadata": {},
   "outputs": [],
   "source": [
    "plt.title('FFT')\n",
    "utils.plot.imshowfft(x)"
   ]
  },
  {
   "cell_type": "code",
   "execution_count": null,
   "metadata": {},
   "outputs": [],
   "source": [
    "plt.title('Reconstruction')\n",
    "utils.plot.imshowgray(y)"
   ]
  },
  {
   "cell_type": "markdown",
   "metadata": {},
   "source": [
    "# Inspect test data"
   ]
  },
  {
   "cell_type": "code",
   "execution_count": null,
   "metadata": {},
   "outputs": [],
   "source": [
    "# Load data\n",
    "\n",
    "data_locations = os.path.join(test_tfrecord_directory, 'shard-0.tfrecord')\n",
    "dataset = utils.fastmri.load_dataset(data_locations,\n",
    "                                     batch_size=8,\n",
    "                                     shuffle_buffer_size=40,\n",
    "                                     load_original_reconstruction=False,\n",
    "                                     include_all_parsed_features=False,\n",
    "                                     ignore_errors=True,\n",
    "                                     perform_data_augmentation=False)\n",
    "\n",
    "# Get first batch\n",
    "batch = next(iter(dataset))\n",
    "x, y = batch\n",
    "x, y = x[0].numpy().squeeze(), y[0].numpy().squeeze()\n",
    "\n",
    "\n",
    "# For visualization, combine 2 channels of complex tensor into single channel\n",
    "x = utils.fastmri._combine_two_channels_of_complex_tensor(x).numpy()\n",
    "\n",
    "x.shape, y.shape"
   ]
  },
  {
   "cell_type": "code",
   "execution_count": null,
   "metadata": {},
   "outputs": [],
   "source": [
    "plt.title('FFT')\n",
    "utils.plot.imshowfft(x)"
   ]
  },
  {
   "cell_type": "code",
   "execution_count": null,
   "metadata": {},
   "outputs": [],
   "source": [
    "plt.title('Reconstruction')\n",
    "utils.plot.imshowgray(y)"
   ]
  },
  {
   "cell_type": "markdown",
   "metadata": {},
   "source": [
    "# Inspect train data"
   ]
  },
  {
   "cell_type": "code",
   "execution_count": null,
   "metadata": {},
   "outputs": [],
   "source": [
    "# Load data\n",
    "\n",
    "data_locations = os.path.join(train_tfrecord_directory, 'shard-0.tfrecord')\n",
    "dataset = utils.fastmri.load_dataset(data_locations,\n",
    "                                     batch_size=8,\n",
    "                                     shuffle_buffer_size=40,\n",
    "                                     load_original_reconstruction=False,\n",
    "                                     include_all_parsed_features=False,\n",
    "                                     ignore_errors=True,\n",
    "                                     perform_data_augmentation=False)\n",
    "\n",
    "# Get first batch\n",
    "batch = next(iter(dataset))\n",
    "x, y = batch\n",
    "x, y = x[0].numpy().squeeze(), y[0].numpy().squeeze()\n",
    "\n",
    "\n",
    "# For visualization, combine 2 channels of complex tensor into single channel\n",
    "x = utils.fastmri._combine_two_channels_of_complex_tensor(x).numpy()\n",
    "\n",
    "x.shape, y.shape"
   ]
  },
  {
   "cell_type": "code",
   "execution_count": null,
   "metadata": {},
   "outputs": [],
   "source": [
    "plt.title('FFT')\n",
    "utils.plot.imshowfft(x)"
   ]
  },
  {
   "cell_type": "code",
   "execution_count": null,
   "metadata": {},
   "outputs": [],
   "source": [
    "plt.title('Reconstruction')\n",
    "utils.plot.imshowgray(y)"
   ]
  },
  {
   "cell_type": "code",
   "execution_count": null,
   "metadata": {},
   "outputs": [],
   "source": []
  },
  {
   "cell_type": "code",
   "execution_count": null,
   "metadata": {},
   "outputs": [],
   "source": []
  }
 ],
 "metadata": {
  "kernelspec": {
   "display_name": "Environment (conda_tensorflow_p36)",
   "language": "python",
   "name": "conda_tensorflow_p36"
  },
  "language_info": {
   "codemirror_mode": {
    "name": "ipython",
    "version": 3
   },
   "file_extension": ".py",
   "mimetype": "text/x-python",
   "name": "python",
   "nbconvert_exporter": "python",
   "pygments_lexer": "ipython3",
   "version": "3.6.5"
  }
 },
 "nbformat": 4,
 "nbformat_minor": 2
}
